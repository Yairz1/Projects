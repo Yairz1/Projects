{
 "cells": [
  {
   "cell_type": "markdown",
   "metadata": {
    "colab_type": "text",
    "id": "2YUhv8qK1Xcy"
   },
   "source": [
    "<center><font color='green' size=\\\"100\\\" ><b> Assignment 1 </b></font></center>\n",
    "<p></p>\n",
    "<center><font color='#009933' size=\\\"5\\\" ><b> NLP </b></font></center>\n",
    "<p></p>\n",
    "<center><font color='#009999' size=\\\"3\\\" ><b> Yair Zohav 203073242 Adi Magen 311335400 </b></font></center>"
   ]
  },
  {
   "cell_type": "markdown",
   "metadata": {
    "colab_type": "text",
    "id": "RaBAXvEn4xBy"
   },
   "source": [
    "List of packages to install (pip install):\n",
    "1. textstat\n",
    "2. chainer"
   ]
  },
  {
   "cell_type": "markdown",
   "metadata": {
    "colab_type": "text",
    "id": "_6eQUKT95zD7"
   },
   "source": [
    "### Section 1.1 Data Exploration\n"
   ]
  },
  {
   "cell_type": "markdown",
   "metadata": {
    "colab_type": "text",
    "id": "pKFZJgRE5zD-"
   },
   "source": [
    "#### 1.1.1 Gathering and Cleaning Up Data\n"
   ]
  },
  {
   "cell_type": "code",
   "execution_count": 0,
   "metadata": {
    "colab": {
     "base_uri": "https://localhost:8080/",
     "height": 54
    },
    "colab_type": "code",
    "executionInfo": {
     "elapsed": 1388,
     "status": "ok",
     "timestamp": 1543354571118,
     "user": {
      "displayName": "adi magen",
      "photoUrl": "",
      "userId": "02072358176714251696"
     },
     "user_tz": -120
    },
    "id": "6_Z-Ofw75zEK",
    "outputId": "2e1fd8db-0251-4858-d63b-63d7e0d864a5"
   },
   "outputs": [
    {
     "name": "stdout",
     "output_type": "stream",
     "text": [
      "[nltk_data] Downloading package punkt to /root/nltk_data...\n",
      "[nltk_data]   Unzipping tokenizers/punkt.zip.\n"
     ]
    }
   ],
   "source": [
    "import nltk\n",
    "nltk.download('punkt')\n",
    "from nltk import ngrams\n",
    "from collections import Counter\n",
    "from functools import reduce\n",
    "from statistics import mean, stdev\n",
    "import textstat\n",
    "import matplotlib.pyplot as plt\n",
    "import matplotlib\n",
    "import nltk, re, string\n",
    "from collections import Counter\n",
    "from timeit import default_timer as timer\n",
    "from numpy import sin, pi\n",
    "from numpy.random import normal\n",
    "import numpy as np\n",
    "import matplotlib.pyplot as plt\n",
    "import scipy.linalg\n",
    "import scipy"
   ]
  },
  {
   "cell_type": "code",
   "execution_count": 0,
   "metadata": {
    "colab": {},
    "colab_type": "code",
    "id": "1zc7vHLd5zEY"
   },
   "outputs": [],
   "source": [
    "def words(text): return re.findall(r'\\w+', text.lower())\n",
    "\n",
    "\n",
    "# ptb_preprocess(filenames, top=10000) which given a list of filenames pre-processes\n",
    "# the files and outputs the re-formatted files with an additional file extension\n",
    "# (for example, file1.txt as input will generate file1.txt.out).\n",
    "def ptb_preprocess(filenames, top=10000):\n",
    "    for filename in filenames:\n",
    "        with open(filename) as f:\n",
    "            text = f.read().lower()\n",
    "            f.close()\n",
    "\n",
    "        # tokenize sentences and words\n",
    "        sentences = nltk.sent_tokenize(text)\n",
    "        token_sentences = list(map(nltk.word_tokenize, sentences))\n",
    "\n",
    "        lst = list(map(lambda s: ' '.join(s), token_sentences))\n",
    "        new_text = '\\n'.join(lst)\n",
    "        top_words = [a for a, b in Counter(words(new_text)).most_common(top)]\n",
    "\n",
    "        # process sentences and write the result to filename.out\n",
    "        out_sentences = list(map(lambda ts: process_sentences(ts, top_words), token_sentences))\n",
    "        with open(filename + '.out', 'w') as outfile:\n",
    "            for sentence in out_sentences:\n",
    "                outfile.write('%s\\n' % sentence)\n",
    "            outfile.close()\n",
    "\n",
    "\n",
    "def isDigit(str):\n",
    "    for i in range(len(str)):\n",
    "        if str[i].isdigit():\n",
    "            return True\n",
    "    return False\n",
    "\n",
    "def process_sentences(token_sentences, top_words):\n",
    "    # repalce all number with 'N' and remove all punctuation\n",
    "    processed_words_lst = list(map(repalce_digits, token_sentences))\n",
    "\n",
    "    # replace all not top words with <unk>\n",
    "    for i in range(len(processed_words_lst)):\n",
    "        if processed_words_lst[i] not in top_words and not isDigit(token_sentences[i]):\n",
    "            processed_words_lst[i] = '<unk>'\n",
    "\n",
    "    processed_words_lst = list(filter(find_punctuation, processed_words_lst))\n",
    "    # join back the separated words\n",
    "    return ' '.join(processed_words_lst)\n",
    "\n",
    "\n",
    "# repalce all number by 'N'\n",
    "def repalce_digits(s):\n",
    "    return re.sub('[%s]+' % string.digits, 'N', s)\n",
    "\n",
    "\n",
    "# return True if there is no punctuation else False\n",
    "def find_punctuation(s):\n",
    "    if s == '<unk>':\n",
    "        return True\n",
    "    return not re.match('[%s]' % string.punctuation, s)"
   ]
  },
  {
   "cell_type": "markdown",
   "metadata": {
    "colab_type": "text",
    "id": "srY9TvaY5zEl"
   },
   "source": [
    "#### tests:"
   ]
  },
  {
   "cell_type": "code",
   "execution_count": 0,
   "metadata": {
    "colab": {},
    "colab_type": "code",
    "id": "p6oQCcUq5zEt"
   },
   "outputs": [],
   "source": [
    "ptb_preprocess(['./tets1.txt'], 3)"
   ]
  },
  {
   "cell_type": "markdown",
   "metadata": {
    "colab_type": "text",
    "id": "7RIEmeMyJGgF"
   },
   "source": [
    "In the file *tets1.txt.out* we can observe that the ```ptb_preproces``` divide all the sentences such each one was it's own line. Although, in the input file (*test1.txt*) this is not the case."
   ]
  },
  {
   "cell_type": "code",
   "execution_count": 0,
   "metadata": {
    "colab": {},
    "colab_type": "code",
    "id": "FbQZVcSrKQC6"
   },
   "outputs": [],
   "source": [
    "ptb_preprocess(['./test2.txt'], 10)"
   ]
  },
  {
   "cell_type": "markdown",
   "metadata": {
    "colab_type": "text",
    "id": "C88b6mMwNB-2"
   },
   "source": [
    "In the file *tets2.txt.out* we can see that all the numbers we worked so hard to get are in fact gone. 😢 But on a happy note we can see all of 2299 them turned into ```N```.\n",
    "\n",
    "In more details we can see that the *4th* was transform into *```N <unk>```*. And the number *25.5* turned to be ```N.N```"
   ]
  },
  {
   "cell_type": "code",
   "execution_count": 0,
   "metadata": {
    "colab": {},
    "colab_type": "code",
    "id": "3boI7SCZPtb5"
   },
   "outputs": [],
   "source": [
    "ptb_preprocess(['./test3.txt'], 100)"
   ]
  },
  {
   "cell_type": "markdown",
   "metadata": {
    "colab_type": "text",
    "id": "VxVqcG0kQOEz"
   },
   "source": [
    "In the file *tets3.txt.out* we can see that quotation marks of the quotes gone and we can  barely recognize them. In additon we can see that some of the abbreviations remain almost untach by the  ```ptb_preproces``` like ```NOV``` which became ```nov```. "
   ]
  },
  {
   "cell_type": "markdown",
   "metadata": {
    "colab_type": "text",
    "id": "Gr1Ou3ZvSnr5"
   },
   "source": [
    "I would like to add the we can observe the all output files as no uppercase. And don't has a largevocabulary because of the filtering of not common words."
   ]
  },
  {
   "cell_type": "markdown",
   "metadata": {
    "colab_type": "text",
    "id": "F0cinGgI5zE-"
   },
   "source": [
    "#### 1.1.2 Gathering Basic Statistics\n"
   ]
  },
  {
   "cell_type": "markdown",
   "metadata": {
    "colab_type": "text",
    "id": "IfUV984-5zFB"
   },
   "source": [
    "We are software engineers, so we like objects:"
   ]
  },
  {
   "cell_type": "code",
   "execution_count": 0,
   "metadata": {
    "colab": {},
    "colab_type": "code",
    "id": "X4TQ1Otn5zFP"
   },
   "outputs": [],
   "source": [
    "import matplotlib.pyplot as plt\n",
    "import pandas as pd\n",
    "class CorpusInfo:\n",
    "    def __init__(self):\n",
    "        self.tokenized_words = None\n",
    "        self.number_of_tokens = None\n",
    "        self.number_of_chars = None\n",
    "        self.number_of_distinct_words = None\n",
    "        self.number_of_dev_distinct_words = None\n",
    "        self.top_N_numb_of_tokens = None\n",
    "        self.type_token_ratio = None\n",
    "        self.avg_char = None\n",
    "        self.stand_chars_deviation = None\n",
    "        self.n_gram_words2 = None\n",
    "        self.n_gram_words3 = None\n",
    "        self.n_gram_words4 = None\n",
    "        self.n_grams_chars2 = None\n",
    "        self.n_grams_chars3 = None\n",
    "        self.n_grams_chars4 = None\n",
    "        self.n_grams_chars5 = None\n",
    "        self.n_grams_chars6 = None\n",
    "        self.n_grams_chars7 = None"
   ]
  },
  {
   "cell_type": "code",
   "execution_count": 0,
   "metadata": {
    "colab": {},
    "colab_type": "code",
    "id": "naiILIs65zFh"
   },
   "outputs": [],
   "source": [
    "def get_N_gram_words(train_corpus, n_list):\n",
    "    sentences = nltk.sent_tokenize(train_corpus)\n",
    "    grams_dict = {}\n",
    "    for n in n_list:\n",
    "        grams_dict[n] = []\n",
    "    for sentence in sentences:\n",
    "        splitted_sent = sentence.split()\n",
    "        for n in n_list:\n",
    "            for k in range(len(splitted_sent) - (n - 1)):\n",
    "                grams = ' '.join([splitted_sent[k + j] for j in range(n)])\n",
    "                grams_dict[n].append(grams)\n",
    "\n",
    "    # no dup elements, and we only want to know the length.\n",
    "    for k in n_list:\n",
    "        grams_dict[k] = len(set(grams_dict[k]))\n",
    "    return grams_dict\n",
    "\n",
    "def get_N_gram_chars(train_corpus, n_list):\n",
    "    sentences = nltk.sent_tokenize(train_corpus)\n",
    "    grams_dict = {}\n",
    "    for n in n_list:\n",
    "        grams_dict[n] = []\n",
    "    for sentence in sentences:\n",
    "        for n in n_list:\n",
    "            for k in range(len(sentence) - (n - 1)):\n",
    "                grams = ''.join([sentence[k + j] for j in range(n)])\n",
    "                grams_dict[n].append(grams)\n",
    "\n",
    "    # no dup elements, and we only want to know the length.\n",
    "    for k in n_list:\n",
    "        grams_dict[k] = len(set(grams_dict[k]))\n",
    "    return grams_dict\n",
    "\n",
    "def file_to_text(train_filename, dev_filename):\n",
    "    dev_corpus = None\n",
    "    with open(train_filename) as f:\n",
    "        train_corpus = f.read().lower()\n",
    "        f.close()\n",
    "        if dev_filename is not None:\n",
    "            with open(dev_filenames) as f:\n",
    "                dev_corpus = f.read().lower()\n",
    "                f.close()\n",
    "    return train_corpus, dev_corpus\n",
    "\n",
    "def get_avg_char(tokenized_words):\n",
    "    return mean(list(map(lambda word: len(word), tokenized_words)))\n",
    "\n",
    "def get_stand_dev(tokenized_words):\n",
    "    return stdev(list(map(lambda word: len(word), tokenized_words)))\n",
    "\n",
    "def get_top_N(text, top):\n",
    "    top_words = Counter(words(text)).most_common(top)\n",
    "    # turns out that there is no way to reduce list of tuples with functools.reduce.\n",
    "    acc = 0\n",
    "    for (_, count) in top_words:\n",
    "        acc = acc + count\n",
    "    return acc\n",
    "\n",
    "def exctract_info(train_filenames, dev_filenames=None, top=10000):\n",
    "    CorpusInfo_list = []\n",
    "\n",
    "    if dev_filenames is not None and len(train_filenames) != len(dev_filenames):\n",
    "        raise ValueError('Number of train_filenames not equal to dev filenames')\n",
    "    for i in range(len(train_filenames)):\n",
    "        train_corpus, dev_corpus = file_to_text(train_filenames[i],\n",
    "                                                None if dev_filenames is None else dev_filenames[i])\n",
    "        _corpusInfo = CorpusInfo()\n",
    "        _corpusInfo.tokenized_words = nltk.word_tokenize(train_corpus)\n",
    "        _corpusInfo.number_of_tokens = len(_corpusInfo.tokenized_words)\n",
    "        _corpusInfo.number_of_chars = textstat.char_count(train_corpus, ignore_spaces=True)\n",
    "        _corpusInfo.number_of_distinct_words = len(set(words(train_corpus)))\n",
    "        # The number of types that appear in the dev data but not the training data\n",
    "        if dev_corpus is not None:\n",
    "            _corpusInfo.number_of_dev_distinct_words = \\\n",
    "                len(set(words(dev_corpus)) - set(words(train_corpus)))\n",
    "        # The total number of tokens corresponding to the top-N most frequent words in the vocabulary\n",
    "        _corpusInfo.top_N_numb_of_tokens = get_top_N(train_corpus, top)\n",
    "        # TTR is the ratio obtained by dividing the types (the total number of different words)\n",
    "        # occurring in a text or utterance by its tokens (the total number of words).\n",
    "        _corpusInfo.type_token_ratio = _corpusInfo.number_of_distinct_words / _corpusInfo.number_of_tokens\n",
    "        # The average number and standard deviation of characters per token\n",
    "        _corpusInfo.avg_char = get_avg_char(_corpusInfo.tokenized_words)\n",
    "        _corpusInfo.stand_chars_deviation = get_stand_dev(_corpusInfo.tokenized_words)\n",
    "\n",
    "        # The total number of distinct n-grams (of words) that appear in the dataset for n=2,3,4.\n",
    "        grams_dict = get_N_gram_words(train_corpus, [2, 3, 4])\n",
    "        _corpusInfo.n_gram_words2 = grams_dict[2]\n",
    "        _corpusInfo.n_gram_words3 = grams_dict[3]\n",
    "        _corpusInfo.n_gram_words4 = grams_dict[4]\n",
    "\n",
    "\n",
    "        # The total number of distint n-grams of characters that appear for n=2,3,4,5,6,7.\n",
    "        n_grams_chars_dict = get_N_gram_chars(train_corpus, [2, 3, 4, 5, 6, 7])\n",
    "        _corpusInfo.n_grams_chars2 = n_grams_chars_dict[2]\n",
    "        _corpusInfo.n_grams_chars3 = n_grams_chars_dict[3]\n",
    "        _corpusInfo.n_grams_chars4 = n_grams_chars_dict[4]\n",
    "        _corpusInfo.n_grams_chars5 = n_grams_chars_dict[5]\n",
    "        _corpusInfo.n_grams_chars6 = n_grams_chars_dict[6]\n",
    "        _corpusInfo.n_grams_chars7 = n_grams_chars_dict[7]\n",
    "\n",
    "        CorpusInfo_list.append(_corpusInfo)\n",
    "\n",
    "    return CorpusInfo_list"
   ]
  },
  {
   "cell_type": "code",
   "execution_count": 0,
   "metadata": {
    "colab": {},
    "colab_type": "code",
    "id": "Ia4OYyrs5zFw"
   },
   "outputs": [],
   "source": [
    "corpus_list =['./shakespeare_input.txt']\n",
    "info_list = exctract_info(corpus_list)"
   ]
  },
  {
   "cell_type": "code",
   "execution_count": 0,
   "metadata": {
    "colab": {},
    "colab_type": "code",
    "id": "6YFeTZTN5zGG",
    "outputId": "641b26b9-9ce9-4023-9515-6b2a9bf344dd"
   },
   "outputs": [
    {
     "name": "stdout",
     "output_type": "stream",
     "text": [
      "-----------------shakespeare_input.txt-----------------\n",
      "num of tokens 1046577\n",
      "num of chars 3877146\n",
      "number of distinct words 22582\n",
      "number of dev distinct words None\n",
      "common N num of tokens 837209\n",
      "type token ratio 0.021577007711807157\n",
      "avg char length 3.544834254909099\n",
      "stand chars deviation 2.2437712034750787\n",
      "number of bigram words 370166\n",
      "number of 3gram_words 626181\n",
      "number of 4gram_words 662893\n",
      "number of bigrams_chars 894\n",
      "number of 3gram_words 10047\n",
      "number of 4gram_words 57807\n",
      "number of 5gram_words 206419\n",
      "number of 6gram_words 520118\n",
      "number of 7gram_words 984151\n"
     ]
    }
   ],
   "source": [
    "for i in range(len(info_list)):\n",
    "    corpus_info = info_list[i]\n",
    "    print('-----------------'+corpus_list[i]+'-----------------')\n",
    "    print('num of tokens ' + str(corpus_info.number_of_tokens))\n",
    "    print('num of chars ' + str(corpus_info.number_of_chars))\n",
    "    print('number of distinct words ' + str(corpus_info.number_of_distinct_words))\n",
    "    print('number of dev distinct words ' + str(corpus_info.number_of_dev_distinct_words))\n",
    "    print('common N num of tokens ' + str(corpus_info.top_N_numb_of_tokens))\n",
    "    print('type token ratio ' + str(corpus_info.type_token_ratio))\n",
    "    print('avg char length ' + str(corpus_info.avg_char))\n",
    "    print('stand chars deviation ' + str(corpus_info.stand_chars_deviation))\n",
    "    print('number of bigram words ' + str(corpus_info.n_gram_words2))\n",
    "    print('number of 3gram_words ' + str(corpus_info.n_gram_words3))\n",
    "    print('number of 4gram_words ' + str(corpus_info.n_gram_words4))\n",
    "    print('number of bigrams_chars ' + str(corpus_info.n_grams_chars2))\n",
    "    print('number of 3gram_words ' + str(corpus_info.n_grams_chars3))\n",
    "    print('number of 4gram_words ' + str(corpus_info.n_grams_chars4))\n",
    "    print('number of 5gram_words ' + str(corpus_info.n_grams_chars5))\n",
    "    print('number of 6gram_words ' + str(corpus_info.n_grams_chars6))\n",
    "    print('number of 7gram_words ' + str(corpus_info.n_grams_chars7))"
   ]
  },
  {
   "cell_type": "markdown",
   "metadata": {
    "colab_type": "text",
    "id": "TDEmz_xT1Xc2"
   },
   "source": [
    "### Section 1.2 n-gram Word Language Model"
   ]
  },
  {
   "cell_type": "markdown",
   "metadata": {
    "colab_type": "text",
    "id": "JFUf4KLh1Xc8"
   },
   "source": [
    "#### 1.2.1\n",
    "\n"
   ]
  },
  {
   "cell_type": "markdown",
   "metadata": {
    "colab_type": "text",
    "id": "xXhGtufl1XdF"
   },
   "source": [
    "Our the data structure of the n-gram model will be a collection of ```defualtdict(Counter)```. This is a dictionary which the ```dict.value``` is a ```Counter (word,number of occurs)```\n",
    "the key will be the history, such that by a given history we will have a list of ```(words,number of occurs)```. The number of occurs will affect the probability that the according word is matched to the given history.\n",
    "\n",
    "The minimal abstract interface the ```lm``` should have is:\n",
    "\n",
    "1. ```train_word_lm```: \n",
    "\n",
    ">by given ```dataset``` and ```n``` for the size of the ngram.\n",
    "\n",
    "2. ```predicted_words```: \n",
    "\n",
    "> input : ```lm, history```\n",
    "\n",
    "> output: sorted (by prob) list of possible outcomes.\n",
    "\n",
    "3. ```perplexity```: \n",
    "\n",
    "> input: a ```dataset```.\n",
    "\n",
    "> output: cunpute the perplexity of it.\n",
    "\n",
    "4. ```entropy```:\n",
    "\n",
    "> input: a ```dataset```.\n",
    "\n",
    "> output: cunpute the entropy of it.\n",
    "\n",
    "5. ```logprob```: \n",
    "\n",
    "> by given ```word``` and ```context``` evaluate the (negative) log probability of the ```word``` in this ```context```.\n",
    "\n",
    "6. ```prob```:\n",
    "\n",
    ">  by given ```word``` and ```context``` evaluate the probability of the ```word``` in this ```context```."
   ]
  },
  {
   "cell_type": "markdown",
   "metadata": {
    "colab_type": "text",
    "id": "Qx9TG77Q1XdI"
   },
   "source": [
    "#### 1.2.2 How much memory do you expect a model to occupy?  Refer to the statistics results above and provide worst-case estimates as well as expected).\n",
    "\n",
    "\n"
   ]
  },
  {
   "cell_type": "markdown",
   "metadata": {
    "colab_type": "text",
    "id": "ooKj6vsg1XdM"
   },
   "source": [
    "Worst - case is for all history of size $n- 1$ each word would have a probility to be predicted. That means the data structure will hold all the posibale ngrams. Additionally the  data structure will hold the the ngrams for the padding at the beginig  $n - 1$ ngrams.\n",
    "\n",
    "What I'm trying to say is, if we let $V$ be the numbers of distinct words. Then $V^n$ is the number of distinct ngram. At the worst - case scenario the data structure will hold all the $V^n$ ngrams plus the $n-1$ ngrams with the padding.\n",
    "\n",
    "Now let's consider that each word is the size of $len(word)\\times sizeof(char)$. Witch means that the size of a given ngram $(W_1 W_2 ... W_n)$ is of size $ \\sum_{i=1}^n len(W_i) \\times sizeof(char)$.\n",
    "\n",
    "And let's not forget that  for each ngram the data structure hold its probbility as a float number of size $sizeof(float)$.\n",
    " \n",
    " According to all of this the size of the  data structure will be :\n",
    " \\begin{align}\n",
    "\\\\(V^n + (n -1))(avgLen\\times sizeof(char)\\times n + sizeof(float)) \\\\\n",
    "\\end{align}\n",
    "Where $avgLen$ is the average length of a word.\n"
   ]
  },
  {
   "cell_type": "code",
   "execution_count": 0,
   "metadata": {
    "colab": {},
    "colab_type": "code",
    "id": "HZLMHhDN1XdS"
   },
   "outputs": [],
   "source": [
    "import nltk\n",
    "import matplotlib\n",
    "import matplotlib.pyplot as plt\n",
    "import numpy as np"
   ]
  },
  {
   "cell_type": "code",
   "execution_count": 0,
   "metadata": {
    "colab": {},
    "colab_type": "code",
    "id": "2mxz51Uw1Xdb"
   },
   "outputs": [],
   "source": [
    "def train_word_lm(data, order=2):\n",
    "    pad = '* ' * order\n",
    "    data = (pad + data).split()\n",
    "\n",
    "    sequence = [(' '.join(data[i: i + order]), data[i + order]) for i in range(len(data) - order)]\n",
    "    cfd = nltk.ConditionalFreqDist(sequence)\n",
    "    cpd = nltk.ConditionalProbDist(cfd, nltk.MLEProbDist)\n",
    "    return cpd"
   ]
  },
  {
   "cell_type": "markdown",
   "metadata": {
    "colab_type": "text",
    "id": "cUi3K5Ro1Xdk"
   },
   "source": [
    "## Section 1.3 Language Model Evaluation"
   ]
  },
  {
   "cell_type": "markdown",
   "metadata": {
    "colab_type": "text",
    "id": "22f1pkbXxYpB"
   },
   "source": [
    "### 1.3.1 Perplexity"
   ]
  },
  {
   "cell_type": "markdown",
   "metadata": {
    "colab_type": "text",
    "id": "rp9oFUTz1Xdm"
   },
   "source": [
    "### 1.3.1.1"
   ]
  },
  {
   "cell_type": "code",
   "execution_count": 0,
   "metadata": {
    "colab": {},
    "colab_type": "code",
    "id": "6CcgOGDg1Xdq"
   },
   "outputs": [],
   "source": [
    "import nltk\n",
    "\n",
    "\n",
    "def _estimator(fdist, *estimator_args, **estimator_kwargs):\n",
    "    \"\"\"\n",
    "    Default estimator function using a SimpleGoodTuringProbDist.\n",
    "    \"\"\"\n",
    "    # can't be an instance method of NgramModel as they\n",
    "    # can't be pickled either.\n",
    "    return nltk.LidstoneProbDist(fdist, *estimator_args, **estimator_kwargs)\n",
    "\n",
    "\n",
    "class N_gram:\n",
    "\n",
    "    def __init__(self, n, train, estimator=None, *estimator_args, **estimator_kwargs):\n",
    "\n",
    "\n",
    "        # make sure n is greater than zero, otherwise print it\n",
    "        assert (n > 0), n\n",
    "        order = n - 1\n",
    "        self.train_size = len(train.split())\n",
    "        # For explicitness save the check whether this is a unigram model\n",
    "        self.is_unigram_model = (n == 1)\n",
    "        # save the ngram order number\n",
    "        self._n = n\n",
    "        self.isSmoothing = False\n",
    "        if estimator is None:\n",
    "            self.isSmoothing = True\n",
    "            estimator = _estimator\n",
    "\n",
    "        pad = '* ' * order\n",
    "        data = (pad + train).split()\n",
    "\n",
    "        sequence = [(' '.join(data[i: i + order]), data[i + order]) for i in range(len(data) - order)]\n",
    "        self.cfd = nltk.ConditionalFreqDist(sequence)\n",
    "        self.cpd = nltk.ConditionalProbDist(self.cfd, estimator, *estimator_args, **estimator_kwargs)\n",
    "        self.optimize_cpd() #sorting freqDist inside cpd to ensure o(1) when taking the best result\n",
    "        # self._probdist = estimator(self.cfd, *estimator_args, **estimator_kwargs)\n",
    "\n",
    "    def optimize_cpd(self):\n",
    "        for key in self.cpd.keys():\n",
    "            fdist = self.cpd[key]._freqdist\n",
    "            tuples = zip(fdist.keys(), fdist.values())\n",
    "            tuples = dict(sorted(tuples, key=lambda tuple: tuple[1], reverse=True))\n",
    "            self.cpd[key]._freqdist = nltk.FreqDist(tuples)\n",
    "\n",
    "    def perplexity(self, dataset):\n",
    "        \"\"\"\n",
    "        Calculates the perplexity of the given text.\n",
    "        This is simply 2 ** cross-entropy for the text.\n",
    "\n",
    "        :param text: words to calculate perplexity of\n",
    "        :type text: list(str)\n",
    "        \"\"\"\n",
    "\n",
    "        return pow(2.0, self.entropy(dataset))\n",
    "\n",
    "    def entropy(self, text):\n",
    "        \"\"\"\n",
    "        Calculate the approximate cross-entropy of the n-gram model for a\n",
    "        given evaluation text.\n",
    "        This is the average log probability of each word in the text.\n",
    "\n",
    "        :param text: words to use for evaluation\n",
    "        :type text: list(str)\n",
    "        \"\"\"\n",
    "        order = self._n - 1\n",
    "        e = 0.0\n",
    "        for i in range(order, len(text)):\n",
    "            context = ' '.join(text[i - order:i])\n",
    "            token = text[i]\n",
    "            logprob = self.logprob(token, context)\n",
    "            if logprob is not None: #ignore prob = 0\n",
    "                e += logprob\n",
    "        return e / float(len(text))\n",
    "\n",
    "    def logprob(self, word, context):\n",
    "        from math import log\n",
    "        \"\"\"\n",
    "        Evaluate the (negative) log probability of this word in this context.\n",
    "\n",
    "        :param word: the word to get the probability of\n",
    "        :type word: str\n",
    "        :param context: the context the word is in\n",
    "        :type context: list(str)\n",
    "        \"\"\"\n",
    "        prob = self.prob(word, context)\n",
    "        if prob == 0:\n",
    "            return None #ignore prob = 0\n",
    "        return -log(prob, 2)\n",
    "\n",
    "    def prob(self, word, context):\n",
    "        \"\"\"\n",
    "        Evaluate the probability of this word in this context using Katz Backoff.\n",
    "\n",
    "        :param word: the word to get the probability of\n",
    "        :type word: str\n",
    "        :param context: the context the word is in\n",
    "        :type context: list(str)\n",
    "        \"\"\"\n",
    "        return self.cpd[context].prob(word)"
   ]
  },
  {
   "cell_type": "markdown",
   "metadata": {
    "colab_type": "text",
    "id": "oFznDVJbxg3p"
   },
   "source": [
    "Now we will load the PTB data set as 2 set of train and val. And train our N-gram model on  train on the train set."
   ]
  },
  {
   "cell_type": "code",
   "execution_count": 0,
   "metadata": {
    "colab": {
     "base_uri": "https://localhost:8080/",
     "height": 73
    },
    "colab_type": "code",
    "executionInfo": {
     "elapsed": 4748,
     "status": "ok",
     "timestamp": 1543345567885,
     "user": {
      "displayName": "adi magen",
      "photoUrl": "",
      "userId": "02072358176714251696"
     },
     "user_tz": -120
    },
    "id": "JuiWHvYt1Xdy",
    "outputId": "ed25282a-add3-48c4-aeb1-8222e31f57c5"
   },
   "outputs": [
    {
     "name": "stderr",
     "output_type": "stream",
     "text": [
      "Downloading from https://raw.githubusercontent.com/wojzaremba/lstm/master/data/ptb.train.txt...\n",
      "Downloading from https://raw.githubusercontent.com/wojzaremba/lstm/master/data/ptb.valid.txt...\n",
      "Downloading from https://raw.githubusercontent.com/wojzaremba/lstm/master/data/ptb.test.txt...\n"
     ]
    }
   ],
   "source": [
    "import chainer\n",
    "\n",
    "train, val, test = chainer.datasets.get_ptb_words()\n",
    "ptb_dict = chainer.datasets.get_ptb_words_vocabulary()\n",
    "ptb_dict = dict(zip(ptb_dict.values(), ptb_dict.keys()))\n",
    "train_str = ' '.join(list(map(lambda x: ptb_dict[x], train)))\n",
    "val_list = list(map(lambda x: ptb_dict[x], val))\n",
    "test_list = list(map(lambda x: ptb_dict[x], test))"
   ]
  },
  {
   "cell_type": "markdown",
   "metadata": {
    "colab_type": "text",
    "id": "mlyiAohux-UO"
   },
   "source": [
    "Let's check the preplexity on the val set.\n",
    "\n",
    "But, we should pay attention for a little problem, some words will not occure in a given context in our train dataset, in other words , P(w|history) = 0 for these words. pp is not defined in this case and there are several ways to overcome the problem. \n",
    "\n",
    "1) Smoothing (will be implmented next).\n",
    "\n",
    "2) Backoff - looking for the given word in n-1 gram and n-2 length of history in a recursive manner.\n",
    "\n",
    "3) To give this type of words a low probability, for example, 1/|V| or same as the lowest frequent word in the corpus. But still, the perplexity will be an estimation only.\n",
    "\n",
    "4) To not count this words in the pp calculation. the meaning will be that the pp value will be much lower then it should really be. We can see that in the next cell. "
   ]
  },
  {
   "cell_type": "code",
   "execution_count": 0,
   "metadata": {
    "colab": {
     "base_uri": "https://localhost:8080/",
     "height": 36
    },
    "colab_type": "code",
    "executionInfo": {
     "elapsed": 3741,
     "status": "ok",
     "timestamp": 1543344126715,
     "user": {
      "displayName": "adi magen",
      "photoUrl": "",
      "userId": "02072358176714251696"
     },
     "user_tz": -120
    },
    "id": "eCq1mwZO1Xd9",
    "outputId": "d633758b-97cb-4b0c-bcce-3f6cb8f5236b"
   },
   "outputs": [
    {
     "name": "stdout",
     "output_type": "stream",
     "text": [
      "26.55266337882647\n"
     ]
    }
   ],
   "source": [
    "lm = N_gram(2, train_str, nltk.MLEProbDist)\n",
    "print(lm.perplexity(val_list))"
   ]
  },
  {
   "cell_type": "markdown",
   "metadata": {
    "colab_type": "text",
    "id": "06MFWOFD1XeS"
   },
   "source": [
    "### 1.3.1.2 now, we will improve the model by using a smoothing technique"
   ]
  },
  {
   "cell_type": "markdown",
   "metadata": {
    "colab_type": "text",
    "id": "UumICBnR1XeX"
   },
   "source": [
    "To do that we will use the Lidstone estimator, and see what is happening while we change the value of the hyper-parameter $\\gamma$ between $0$ and $1$."
   ]
  },
  {
   "cell_type": "code",
   "execution_count": 0,
   "metadata": {
    "colab": {},
    "colab_type": "code",
    "id": "_6GBxl1x1Xea"
   },
   "outputs": [],
   "source": [
    "import numpy as np\n",
    "gamma_list=np.linspace(0, 1, num=10,endpoint=False)[1:]\n",
    "perplexity_list = []\n",
    "for gamma in gamma_list:\n",
    "    temp_lm = N_gram(2, train_str, None, gamma)\n",
    "    perplexity_list.append(temp_lm.perplexity(val_list))"
   ]
  },
  {
   "cell_type": "code",
   "execution_count": 0,
   "metadata": {
    "colab": {
     "base_uri": "https://localhost:8080/",
     "height": 223
    },
    "colab_type": "code",
    "executionInfo": {
     "elapsed": 29293,
     "status": "ok",
     "timestamp": 1543345108670,
     "user": {
      "displayName": "adi magen",
      "photoUrl": "",
      "userId": "02072358176714251696"
     },
     "user_tz": -120
    },
    "id": "-eNI7Ydee1WZ",
    "outputId": "24a78bff-6cb8-4b08-bf74-4f03ddef40bc"
   },
   "outputs": [
    {
     "name": "stdout",
     "output_type": "stream",
     "text": [
      "Gamma | Perplexity\n",
      "-------------------------------\n",
      "0.1 | 124.37655297640673\n",
      "0.2 | 109.40184222250363\n",
      "0.3 | 102.03941155260016\n",
      "0.4 | 97.46582811443584\n",
      "0.5 | 94.30693867692297\n",
      "0.6 | 91.98896697971608\n",
      "0.7 | 90.22100414225095\n",
      "0.8 | 88.83667459582696\n",
      "0.9 | 87.73261526723785\n"
     ]
    }
   ],
   "source": [
    "print('Gamma | Perplexity')\n",
    "print('-------------------------------')\n",
    "for i in range(len(gamma_list)):\n",
    "  print(str(gamma_list[i])[:3] + ' | {}'.format(perplexity_list[i]))"
   ]
  },
  {
   "cell_type": "code",
   "execution_count": 0,
   "metadata": {
    "colab": {
     "base_uri": "https://localhost:8080/",
     "height": 376
    },
    "colab_type": "code",
    "executionInfo": {
     "elapsed": 28870,
     "status": "ok",
     "timestamp": 1543345108677,
     "user": {
      "displayName": "adi magen",
      "photoUrl": "",
      "userId": "02072358176714251696"
     },
     "user_tz": -120
    },
    "id": "jgAGuR3j1Xeu",
    "outputId": "8c771e15-058c-4fcb-b387-7a08d4bea0b9"
   },
   "outputs": [
    {
     "data": {
      "image/png": "[encoded data removed]",
      "text/plain": [
       "<matplotlib.figure.Figure at 0x7f4b35fbf828>"
      ]
     },
     "metadata": {
      "tags": []
     },
     "output_type": "display_data"
    }
   ],
   "source": [
    "# Data for plotting\n",
    "fig, ax = plt.subplots()\n",
    "ax.plot(gamma_list, perplexity_list)\n",
    "ax.set(xlabel='Gamma', ylabel='Perplexity ',\n",
    "       title='0<Gamma<1')\n",
    "ax.grid()\n",
    "plt.show()"
   ]
  },
  {
   "cell_type": "markdown",
   "metadata": {
    "colab_type": "text",
    "id": "XPnR8wMmy1U8"
   },
   "source": [
    "After learnig the the optima $\\gamma$ is $0.9$. We will observe hoe the size of the n-gram is affecting the Perplexity."
   ]
  },
  {
   "cell_type": "code",
   "execution_count": 0,
   "metadata": {
    "colab": {
     "base_uri": "https://localhost:8080/",
     "height": 376
    },
    "colab_type": "code",
    "executionInfo": {
     "elapsed": 363962,
     "status": "ok",
     "timestamp": 1543346412748,
     "user": {
      "displayName": "adi magen",
      "photoUrl": "",
      "userId": "02072358176714251696"
     },
     "user_tz": -120
    },
    "id": "8POOvEey1Xe5",
    "outputId": "ac65096d-089d-4c9d-ceb5-f5b2c30fa0a9"
   },
   "outputs": [
    {
     "data": {
      "image/png": "[encoded data removed]",
      "text/plain": [
       "<matplotlib.figure.Figure at 0x7fc3719019b0>"
      ]
     },
     "metadata": {
      "tags": []
     },
     "output_type": "display_data"
    }
   ],
   "source": [
    "import numpy as np\n",
    "n_list=[i for i in range(2,21)]\n",
    "perplexity_list = []\n",
    "gamma = 0.9\n",
    "for n in n_list:\n",
    "    temp_lm = N_gram(n, train_str, None, gamma,10000)\n",
    "    perplexity_list.append(temp_lm.perplexity(val_list))\n",
    "# Data for plotting\n",
    "fig, ax = plt.subplots()\n",
    "ax.plot(n_list, perplexity_list)\n",
    "ax.set(xlabel='n', ylabel='Perplexity ',\n",
    "       title='2<n<20')\n",
    "ax.grid()\n",
    "plt.show()"
   ]
  },
  {
   "cell_type": "markdown",
   "metadata": {
    "colab_type": "text",
    "id": "PhFlJWW11XfG"
   },
   "source": [
    "### 1.3.1.4 Based on the 2 graphs above,  the best predicted n-gram model based on a Lidstone model will use with $n = 2$ and $\\gamma = 0.9$"
   ]
  },
  {
   "cell_type": "code",
   "execution_count": 0,
   "metadata": {
    "colab": {
     "base_uri": "https://localhost:8080/",
     "height": 36
    },
    "colab_type": "code",
    "executionInfo": {
     "elapsed": 4131,
     "status": "ok",
     "timestamp": 1543346462128,
     "user": {
      "displayName": "adi magen",
      "photoUrl": "",
      "userId": "02072358176714251696"
     },
     "user_tz": -120
    },
    "id": "mOZyf7Ub1XfK",
    "outputId": "199aafe2-4a82-4127-da0e-fb8cbb2e872c"
   },
   "outputs": [
    {
     "name": "stdout",
     "output_type": "stream",
     "text": [
      "For n = 2 and gamma = 0.9 the perplexity is: 89.572 \n"
     ]
    }
   ],
   "source": [
    "gamma = 0.9\n",
    "n = 2\n",
    "optimal_lm = N_gram(n, train_str, None, gamma)\n",
    "pp = optimal_lm.perplexity(test_list)\n",
    "pp = round(pp, 3)\n",
    "print(\"For n = {} and gamma = {} the perplexity is: {} \".format(n,gamma,pp))"
   ]
  },
  {
   "cell_type": "markdown",
   "metadata": {
    "colab_type": "text",
    "id": "baHB05aX1XfX"
   },
   "source": [
    "A recent ICLR 2018 submission (https://arxiv.org/pdf/1711.03953.pdf) claims to achieve sub-50 perplexities in language modelling on Penn Treebank."
   ]
  },
  {
   "cell_type": "markdown",
   "metadata": {
    "colab_type": "text",
    "id": "RB9bigtG1Xfa"
   },
   "source": [
    "### Now, let's check what will be the perplexity for an uniform dist:"
   ]
  },
  {
   "cell_type": "code",
   "execution_count": 0,
   "metadata": {
    "colab": {},
    "colab_type": "code",
    "id": "9r82LzGq1Xfb"
   },
   "outputs": [],
   "source": [
    "def perplexity(text):\n",
    "    return pow(2.0, entropy(text))\n",
    "\n",
    "def entropy(text):\n",
    "    order = 2\n",
    "    e = 0.0\n",
    "    number_of_words = int(len(text))\n",
    "    number_of_distinct_words = int(len(set(text)))\n",
    "    for i in range(order, number_of_words):\n",
    "        context = ' '.join(text[i - order:i])\n",
    "        token = text[i]\n",
    "        e += uniform_logprob(number_of_distinct_words)\n",
    "    return e / number_of_words\n",
    "\n",
    "def uniform_logprob(number_of_distinct_words):\n",
    "    from math import log\n",
    "    prob = 1 / number_of_distinct_words\n",
    "    return -log(prob, 2)"
   ]
  },
  {
   "cell_type": "code",
   "execution_count": 0,
   "metadata": {
    "colab": {
     "base_uri": "https://localhost:8080/",
     "height": 36
    },
    "colab_type": "code",
    "executionInfo": {
     "elapsed": 1423,
     "status": "ok",
     "timestamp": 1543346469452,
     "user": {
      "displayName": "adi magen",
      "photoUrl": "",
      "userId": "02072358176714251696"
     },
     "user_tz": -120
    },
    "id": "bWoZmZ161Xfh",
    "outputId": "924cd40d-9a7d-49e9-8c01-91fa4d8b8c16"
   },
   "outputs": [
    {
     "name": "stdout",
     "output_type": "stream",
     "text": [
      "Perplexity for uniform distribution = 6047.722\n"
     ]
    }
   ],
   "source": [
    "pp = round(perplexity(test_list),3)\n",
    "print(\"Perplexity for uniform distribution = {}\".format(pp))"
   ]
  },
  {
   "cell_type": "markdown",
   "metadata": {
    "colab_type": "text",
    "id": "jRlwoj4E1Xf2"
   },
   "source": [
    "#### As we can see, our language model is not bad as the worst case scenario but also not that good as the state of the art, 50 < 89.572 < 6047.722"
   ]
  },
  {
   "cell_type": "markdown",
   "metadata": {
    "colab_type": "text",
    "id": "sjZ6oMHk1Xf5"
   },
   "source": [
    "### 1.3.2 Generating Text from a Language Model\n"
   ]
  },
  {
   "cell_type": "markdown",
   "metadata": {
    "colab_type": "text",
    "id": "ycjZfSMA1Xf7"
   },
   "source": [
    "In a case which the seed is shorter than the history length of the n-gram model (```order```) we choosed to padd the start of the seed such that the ```len(pad+seed) = order```.\n",
    "\n",
    "In case that the seed is longer then the history , we will take a seed suffix in a length ```= order``` as the new seed. This will be implemented by the ```seed_fixer(model_order, seed)``` method.\n",
    "\n",
    "Another thing to think about is when the generate loop should be stopped. We thought about few condition, for example:\n",
    "\n",
    "***1.  generated word = seed***\n",
    "\n",
    "> When the generated word is equal to the given seed there will not be much benefit to generate more words, since our model will generate the most likely word (given history). We can say that our model is deterministic, and that all the next generated words will be repeated from the first time they were generated by the same seed.\n",
    "\n",
    "> let  $(w_1 , w_2 , w_3 , ... w_{n-1} , w_n)$ be the $n$ generated words where $w_1 = w_n = seed$. If the loop will continue then, the next $n$ words will be the same and the text will look like:\n",
    "$seed = w_1, w_2, w_3, ... w_{n-1}, w_n = seed, w_{n+2} = w_2, w_{n+3} = w_3, ... w_{2n-1} = w_{n-1}, w_{2n} = w_n = seed$ and so on..\n",
    "\n",
    "***2. $f(x)=x$ having a fix point***\n",
    "\n",
    "> Let's say when predicting a word by given history $= x$ $generate(x) = x$, so the all next generated words will be the same and the document suffix will be equal to $x x x .... x$. It be relevant only when ```len(history) = len(predicted word)```.\n",
    "\n",
    "***3. length of the generated words = length of the traind text***\n",
    "\n",
    "> Since the seed may never repeated again, and we can't let the loop go on forever we can choose ```len(text)``` to be the maximum text to generate. \n"
   ]
  },
  {
   "cell_type": "code",
   "execution_count": 0,
   "metadata": {
    "colab": {},
    "colab_type": "code",
    "id": "1YHdIwPJ1Xf9"
   },
   "outputs": [],
   "source": [
    "def generate_max(self, history):\n",
    "    return list(self.cpd[history]._freqdist.keys())[0]\n",
    "    \n",
    "# setting a new method to a class (that's crazy)\n",
    "setattr(N_gram, 'generate_max', generate_max)\n",
    "\n",
    "\n",
    "def generate(model, seed):\n",
    "    model_order = model._n - 1\n",
    "    seed = seed_fixer(model_order, seed)\n",
    "    hist = seed\n",
    "    out = []\n",
    "    text_size = model.train_size\n",
    "    for _ in range(text_size):\n",
    "        word = model.generate_max(hist)\n",
    "        if word == hist: #fix point fix point fix point\n",
    "            break\n",
    "        hist = hist.split()\n",
    "        hist = hist[1:] + [word]\n",
    "        hist = ' '.join(hist)\n",
    "        out.append(word)\n",
    "        if word == seed:\n",
    "            break\n",
    "    return ' '.join(out)\n",
    "\n",
    "def seed_fixer(model_order, seed):\n",
    "    splited_seed = seed.split()\n",
    "    diff_orders = len(splited_seed) - model_order\n",
    "    if diff_orders > 0:  # seed longer then the model order\n",
    "        seed = ' '.join(splited_seed[diff_orders:])\n",
    "    if diff_orders < 0:  # seed shorter then the model order\n",
    "        diff_orders *= -1\n",
    "        seed = ' '.join(['*'] * diff_orders + splited_seed)\n",
    "    return seed\n"
   ]
  },
  {
   "cell_type": "code",
   "execution_count": 0,
   "metadata": {
    "colab": {},
    "colab_type": "code",
    "id": "5m5WiaGU1XgP"
   },
   "outputs": [],
   "source": [
    "optimal_lm = N_gram(2, train_str, None, 0.9)"
   ]
  },
  {
   "cell_type": "markdown",
   "metadata": {
    "colab_type": "text",
    "id": "QBIB5Xo61XgX"
   },
   "source": [
    "#### 1)"
   ]
  },
  {
   "cell_type": "code",
   "execution_count": 0,
   "metadata": {
    "colab": {},
    "colab_type": "code",
    "id": "25YLIFkX1Xga",
    "outputId": "f5118b6a-9de9-44a4-be6f-af19616873f5"
   },
   "outputs": [
    {
     "name": "stdout",
     "output_type": "stream",
     "text": [
      "aer banknote berlitz calloway centrust cluett fromstein gitano guterman hydro-quebec ipo kia memotec mlx nahb punts rake regatta rubens sim snack-food ssangyong swapo wachter <eos> the <unk>\n"
     ]
    }
   ],
   "source": [
    "predicted_text = generate(optimal_lm, '*')\n",
    "print(predicted_text)"
   ]
  },
  {
   "cell_type": "markdown",
   "metadata": {
    "colab_type": "text",
    "id": "BOL_ROdC1Xgq"
   },
   "source": [
    "#### 2)"
   ]
  },
  {
   "cell_type": "code",
   "execution_count": 0,
   "metadata": {
    "colab": {},
    "colab_type": "code",
    "id": "OYVjZdeH1Xgs",
    "outputId": "2bd0ef43-3dd8-40f1-94de-545692139549"
   },
   "outputs": [
    {
     "name": "stdout",
     "output_type": "stream",
     "text": [
      "<eos> the <unk>\n"
     ]
    }
   ],
   "source": [
    "predicted_text = generate(optimal_lm, 'issue') \n",
    "print(predicted_text)"
   ]
  },
  {
   "cell_type": "markdown",
   "metadata": {
    "colab_type": "text",
    "id": "3T_aqzIp1Xg1"
   },
   "source": [
    "#### 3)"
   ]
  },
  {
   "cell_type": "code",
   "execution_count": 0,
   "metadata": {
    "colab": {},
    "colab_type": "code",
    "id": "SJjuxr8X1Xg6",
    "outputId": "7a9492b8-6897-42fc-e7ba-50ae43ff4516"
   },
   "outputs": [
    {
     "name": "stdout",
     "output_type": "stream",
     "text": [
      "aer banknote berlitz calloway centrust cluett fromstein gitano guterman hydro-quebec ipo kia memotec mlx nahb punts rake regatta rubens sim snack-food ssangyong swapo wachter <eos> the <unk>\n"
     ]
    }
   ],
   "source": [
    "predicted_text = generate(optimal_lm, ' ')\n",
    "print(predicted_text)"
   ]
  },
  {
   "cell_type": "markdown",
   "metadata": {
    "colab_type": "text",
    "id": "zJlG8t0V1XhD"
   },
   "source": [
    "#### 4)"
   ]
  },
  {
   "cell_type": "code",
   "execution_count": 0,
   "metadata": {
    "colab": {},
    "colab_type": "code",
    "id": "zs6aN_dp1XhH",
    "outputId": "0c1d1c52-ad0e-4206-f37f-7df45c47c5e5"
   },
   "outputs": [
    {
     "name": "stdout",
     "output_type": "stream",
     "text": [
      "<unk>\n"
     ]
    }
   ],
   "source": [
    "predicted_text = generate(optimal_lm, 'the')\n",
    "print(predicted_text)"
   ]
  },
  {
   "cell_type": "markdown",
   "metadata": {
    "colab_type": "text",
    "id": "3ofXxmwC1Xhe"
   },
   "source": [
    "#### 5)"
   ]
  },
  {
   "cell_type": "code",
   "execution_count": 0,
   "metadata": {
    "colab": {},
    "colab_type": "code",
    "id": "mFAzp7Js1Xhh",
    "outputId": "0d2fa874-c0b9-4e16-d9a2-36c39f119f65"
   },
   "outputs": [
    {
     "name": "stdout",
     "output_type": "stream",
     "text": [
      "news <eos> the <unk>\n"
     ]
    }
   ],
   "source": [
    "predicted_text = generate(optimal_lm, 'bad')\n",
    "print(predicted_text)"
   ]
  },
  {
   "cell_type": "markdown",
   "metadata": {
    "colab_type": "text",
    "id": "D2lR2OLr1Xhs"
   },
   "source": [
    "#### 1.3.2.2  How a temperature argument can control the level of variability generated by the model\n"
   ]
  },
  {
   "cell_type": "markdown",
   "metadata": {
    "colab_type": "text",
    "id": "wJWIx5JT5zOI"
   },
   "source": [
    "The high temperature sample displays greater linguistic variety, but the low temperature sample is more grammatically correct. Such is the world of temperature sampling - lowering the temperature allows you to focus on higher probability output sequences and smooth over deficiencies of the model.\n",
    "The freezing function\n",
    "\n",
    "Temperature sampling works by increasing the probability of the most likely words before sampling. The output probability of each word is transformed by the freezing function $f$:\n",
    "\n",
    "\\begin{equation*}f_τ(p)_i=\n",
    "\\frac{P_i^\\frac{1}τ}{\\sum(P_i^\\frac{1}τ)}.\n",
    "\\end{equation*}\n",
    "\n",
    "For $τ=1$, the freezing function is just the identity function. For $τ→0$, the freezing function turns sampling into the argmax function, returning the most likely output word. For $τ=0.5$, the freezing function is equivalent to squaring the probability of each output word, and then renormalizing the sum of probabilities to $1$."
   ]
  },
  {
   "cell_type": "markdown",
   "metadata": {
    "colab_type": "text",
    "id": "56i3P-ky5zOL"
   },
   "source": [
    "#### Explain how the code in this method corresponds to the mathematical explanation provided in the blog above."
   ]
  },
  {
   "cell_type": "markdown",
   "metadata": {
    "colab_type": "text",
    "id": "D2mPbQsr5zOM"
   },
   "source": [
    "We will focus on the intersting part of the code and I will explain some of the variables with more abstraction:\n",
    "\n",
    "$τ$ - temprature\n",
    "\n",
    "$wps$ - is a list of the form\n",
    "\n",
    "\\begin{equation*}wps[i]= ( word_i, \n",
    "\\frac{log_2(P(word_i|prev_i))}{τ} ) \\end{equation*}\n",
    "\\begin{equation*} i=1..n\n",
    "\\end{equation*}\n",
    "        \n",
    "As we can see, when $τ$ is smaller then the second element in the tuple above. This element is a bigger number. i.e $τ\\to0$ then $wps[i][2]\\to\\infty$.\n",
    "\n",
    "Now let observe the variable ```tot```\n",
    "\\begin{equation*} \n",
    "tot_i  = {log_2 (2^{\\sum_{i=1}^v \\frac{P(word_i|prev_i)}{τ}}}+2^{tot_{i-1}})\\\\\n",
    "tot_{-1}=-\\infty \\\\\n",
    " i=1...n \\end{equation*}\n",
    " \n",
    " \n",
    " This means that $tot_n\\to\\infty$ when $τ\\to0$.\n",
    " \n",
    " With that in mind let look at the variable ```s```\n",
    " \\begin{equation*} \n",
    "s_i  = {log_2 (2^{\\sum_{i=1}^v P(word_i|prev_i)}}+2^{s_{i-1}})\\\\\n",
    " s_{-1}=-\\infty \\\\\n",
    " i=1...n \\end{equation*}\n",
    " Notice that $s_1<s_2<...<s_n \\iff s_1-tot_n<s_2-tot_n<...<s_n-tot_n \\iff 2^{s_1-tot_n}<2^{s_2-tot_n}<...<2^{s_n-tot_n}$.\n",
    "\n",
    "And finally,\n",
    "$p\\in[0,1]$ is a random number. Which the code use as threshold. As we can see here:\n",
    "\n",
    "```python\n",
    " for w, lp in wps:\n",
    "    s = np.logaddexp2(s, lp)\n",
    "    if p < pow(2, s - tot):\n",
    "      word = w\n",
    "      break\n",
    "```\n",
    "At this section of the code ``` tot ``` is $tot_n$\n",
    " \n",
    "\n",
    "Now let look at the case that $τ\\to1$. This means that $s_i\\to tot_n$. Which means the $2^{s_i-tot_n}\\to0$. From this we can conclude that it will be more difficult to pass the threshold $p$. That is the sempler will choos a \"depper\" word in $wps$ (a word with a higher index). and the \"deepest\" word is in fact ```EOF```. So we will sample sentences with smaller length.\n",
    "\n",
    "For conclution, if $τ\\to1$ then ```len(sampler.sample_sentence([]))```$\\to\\infty$"
   ]
  },
  {
   "cell_type": "markdown",
   "metadata": {
    "colab_type": "text",
    "id": "vIVFdRRD2iKk"
   },
   "source": [
    "## 1.4 Character language model"
   ]
  },
  {
   "cell_type": "markdown",
   "metadata": {
    "colab_type": "text",
    "id": "t0pWnwSjlz2f"
   },
   "source": [
    "#### 1.4.1\n",
    "***summary  of: \"The Unreasonable Effectiveness of Recurrent Neural Networks\"***\n",
    "> In the article the author train RNNs / LSTMs  character base model on different dataset and gets vary surprising observations of what the models had learn, such as how to spell English and use punctuation. In addition the author shows that the model can learn complex syntactic structures. But sometimes make mistake because the history is too long.\n",
    "\n",
    "> The most unique results are of the Linux Source Code dataset. In this example we can see that the model generate text that do look like a legitimate C-code with use of brackets and indent correctly and even generate comments. But still the model has some common error linked to variables.\n",
    "\n",
    "> More impressive observation is the evolution of generated text while sampling during the training of model. At the beginning of the training we can see the model discovers general word-space structure and then slowly learn words (from short ones to longer words). And much later we can see that the model picks up on longer-term dependencies.\n",
    "\n",
    "> Another interesting result is to randomly select neuron and then look at the predicted distributions over characters. This shows as that the network keep track of the history of the text structure (URL, scops of [ ] etc.). That is, one of the neuron gradually tuned itself during training to become a detection of specific a property.\n",
    "\n",
    "***summary  of: \"The unreasonable effectiveness of Character-level Language Models\"***\n",
    "> The article starts by encouraging as to read the The Unreasonable Effectiveness of Recurrent Neural Networks blog post 😀. And claims that most readers are not familiar with unsmoothed maximum likelihood character level LM. So the author is giving as an explanation about that. \n",
    "\n",
    "> After that we are getting a demonstration of how to construct a character base model, how to use it to generate text and some samples from the model with different order (length of history). From that we can see that with longer history we get more readable result, witch par well with the examples in Andrej's post.\n",
    "\n",
    "> Furthermore we learn from the code-generation example that the model (witch is shown in the article) did learn something that is not trivial at all. And cannot be simply observes only by looking at the last n characters. In addition we can see that when the train text has more structural complexity we have to look back at more letters in order to generate more making sense result. But this, as the author draws our attention to, make the model “lose” some knowledge, for example how to keeping good indentation.\n",
    "\n",
    "> We can improve the model to support also keeping track of brackets and indentation but it will make it significantly more complex, and involved extra work. On the other hand LSTMs are learning it on its own, as we saw in more details at the Andrej's post.\n",
    "\n",
    " \n"
   ]
  },
  {
   "cell_type": "markdown",
   "metadata": {
    "colab_type": "text",
    "id": "uilBDYCkMSEO"
   },
   "source": [
    "#### 1.4.2 Gather the recipes dataset and prepare a dataset reader according to the structure of the files."
   ]
  },
  {
   "cell_type": "code",
   "execution_count": 13,
   "metadata": {
    "colab": {
     "base_uri": "https://localhost:8080/",
     "height": 54
    },
    "colab_type": "code",
    "executionInfo": {
     "elapsed": 713,
     "status": "ok",
     "timestamp": 1543388518633,
     "user": {
      "displayName": "adi magen",
      "photoUrl": "",
      "userId": "02072358176714251696"
     },
     "user_tz": -120
    },
    "id": "uIMBJctPHwlJ",
    "outputId": "cc4cf967-3a6b-48f4-9281-1974b1e523f6"
   },
   "outputs": [
    {
     "name": "stdout",
     "output_type": "stream",
     "text": [
      "[nltk_data] Downloading package punkt to /root/nltk_data...\n",
      "[nltk_data]   Package punkt is already up-to-date!\n"
     ]
    }
   ],
   "source": [
    "import nltk, re\n",
    "nltk.download('punkt')\n",
    "from collections import Counter\n",
    "import textstat"
   ]
  },
  {
   "cell_type": "code",
   "execution_count": 0,
   "metadata": {
    "colab": {},
    "colab_type": "code",
    "id": "7nriALK755YB"
   },
   "outputs": [],
   "source": [
    "class RecipesDataset:\n",
    "  def __init__(self):\n",
    "    self.recipes = []\n",
    "    self.all_recipes = ''\n",
    "    \n",
    "    for file_number in range(1000, 34000, 1000):\n",
    "      file_number = 32965 if file_number == 33000 else file_number # for the last file\n",
    "      with open('./lg32965/' + str(file_number) + '.mmf', 'br') as f:\n",
    "        file_data = \"\".join(map(chr, f.read()))\n",
    "        f.close()\n",
    "      self.all_recipes += file_data\n",
    "      split_data = file_data.split('MMMMM\\r\\n')[:-1]\n",
    "      split_data = list(map(lambda x: x + 'MMMMM\\r\\n', split_data))\n",
    "      self.recipes += split_data\n",
    "    \n",
    "  def get_number_of_recipes(self):\n",
    "    return len(self.recipes)\n",
    "  \n",
    "  def get_number_of_tokens(self):\n",
    "    return len(nltk.word_tokenize(self.all_recipes))\n",
    "  \n",
    "  def get_number_of_characters(self):\n",
    "    return textstat.char_count(self.all_recipes, ignore_spaces=False)\n",
    "  \n",
    "  def get_vocabulary_size(self):\n",
    "    words = lambda text: re.findall(r'\\w+', text.lower())\n",
    "    return len(Counter(words(self.all_recipes)))\n",
    "  \n",
    "  def get_word_len_distribution(self):\n",
    "    words = re.findall(r'\\w+', self.all_recipes.lower())\n",
    "    words_lenth = [len(word) for word in words]\n",
    "    return nltk.FreqDist(words_lenth)\n",
    "  \n",
    "  def get_recipe_size_word_distribution(self):\n",
    "    words = lambda text: re.findall(r'\\w+', text.lower())\n",
    "    sequence = [len(words(recipe)) for recipe in self.recipes]\n",
    "    return nltk.FreqDist(sequence)\n",
    "  \n",
    "  def get_recipe_size_char_distribution(self):\n",
    "    sequence = [textstat.char_count(recipe, ignore_spaces=False) for recipe in self.recipes]\n",
    "    return nltk.FreqDist(sequence)\n",
    "  \n",
    "rd = RecipesDataset()"
   ]
  },
  {
   "cell_type": "markdown",
   "metadata": {
    "colab_type": "text",
    "id": "H7K4OieRdq2U"
   },
   "source": [
    "#### 1.4.3 Report basic statistics about the dataset"
   ]
  },
  {
   "cell_type": "code",
   "execution_count": 15,
   "metadata": {
    "colab": {
     "base_uri": "https://localhost:8080/",
     "height": 92
    },
    "colab_type": "code",
    "executionInfo": {
     "elapsed": 62361,
     "status": "ok",
     "timestamp": 1543388591612,
     "user": {
      "displayName": "adi magen",
      "photoUrl": "",
      "userId": "02072358176714251696"
     },
     "user_tz": -120
    },
    "id": "wBZ--YxtOc2g",
    "outputId": "d0142a45-8651-4747-ade6-d45ebb685e0a"
   },
   "outputs": [
    {
     "name": "stdout",
     "output_type": "stream",
     "text": [
      "number of recipes: 32963\n",
      "number of tokens: 7238876\n",
      "number of characters: 39236546\n",
      "vocabulary_size: 46853\n"
     ]
    }
   ],
   "source": [
    "print('number of recipes: {}'.format(rd.get_number_of_recipes()))\n",
    "print('number of tokens: {}'.format(rd.get_number_of_tokens()))\n",
    "print('number of characters: {}'.format(rd.get_number_of_characters()))\n",
    "print('vocabulary_size: {}'.format(rd.get_vocabulary_size()))"
   ]
  },
  {
   "cell_type": "code",
   "execution_count": 0,
   "metadata": {
    "colab": {},
    "colab_type": "code",
    "id": "uKjngIiua7J_"
   },
   "outputs": [],
   "source": [
    "word_len_distribution = rd.get_word_len_distribution()\n",
    "recipe_size_word = rd.get_recipe_size_word_distribution()\n",
    "get_recipe_size_char = rd.get_recipe_size_char_distribution()"
   ]
  },
  {
   "cell_type": "code",
   "execution_count": 41,
   "metadata": {
    "colab": {
     "base_uri": "https://localhost:8080/",
     "height": 279
    },
    "colab_type": "code",
    "executionInfo": {
     "elapsed": 776,
     "status": "ok",
     "timestamp": 1543389172187,
     "user": {
      "displayName": "adi magen",
      "photoUrl": "",
      "userId": "02072358176714251696"
     },
     "user_tz": -120
    },
    "id": "VkSrOsUnemey",
    "outputId": "8f9751c1-59db-4fab-e1cb-c4aea9c03c4c"
   },
   "outputs": [
    {
     "name": "stdout",
     "output_type": "stream",
     "text": [
      "10 most common length:\n",
      "\tword\n",
      "\tlength\tfrequency\n",
      "\t---------------------------\n",
      "\t5\t|\t962692\n",
      "\t4\t|\t929210\n",
      "\t3\t|\t865314\n",
      "\t2\t|\t825745\n",
      "\t1\t|\t817489\n",
      "\t6\t|\t677044\n",
      "\t7\t|\t473636\n",
      "\t8\t|\t247287\n",
      "\t9\t|\t136083\n",
      "\t10\t|\t104758\n"
     ]
    }
   ],
   "source": [
    "print('10 most common length:')\n",
    "print('\\tword')\n",
    "print('\\tlength\\tfrequency\\n\\t---------------------------')\n",
    "for word_len, freq in word_len_distribution.most_common(10):\n",
    "  print('\\t{}\\t|\\t{}'.format(word_len, freq))"
   ]
  },
  {
   "cell_type": "code",
   "execution_count": 47,
   "metadata": {
    "colab": {
     "base_uri": "https://localhost:8080/",
     "height": 279
    },
    "colab_type": "code",
    "executionInfo": {
     "elapsed": 758,
     "status": "ok",
     "timestamp": 1543389311574,
     "user": {
      "displayName": "adi magen",
      "photoUrl": "",
      "userId": "02072358176714251696"
     },
     "user_tz": -120
    },
    "id": "wZDzMRllKd_E",
    "outputId": "83e9247a-34f2-46fe-9a25-021ca0968a3c"
   },
   "outputs": [
    {
     "name": "stdout",
     "output_type": "stream",
     "text": [
      "10 most common recipe size in words:\n",
      "\trecipe size\n",
      "\tin words\tfrequency\n",
      "\t---------------------------\n",
      "\t137\t  |\t210\n",
      "\t115\t  |\t209\n",
      "\t131\t  |\t206\n",
      "\t142\t  |\t205\n",
      "\t133\t  |\t204\n",
      "\t120\t  |\t204\n",
      "\t157\t  |\t203\n",
      "\t139\t  |\t203\n",
      "\t138\t  |\t202\n",
      "\t145\t  |\t202\n"
     ]
    }
   ],
   "source": [
    "print('10 most common recipe size in words:')\n",
    "print('\\trecipe size\\n\\tin words\\tfrequency\\n\\t---------------------------')\n",
    "for size, freq in recipe_size_word.most_common(10):\n",
    "  print('\\t{}\\t  |\\t{}'.format(size, freq))"
   ]
  },
  {
   "cell_type": "code",
   "execution_count": 48,
   "metadata": {
    "colab": {
     "base_uri": "https://localhost:8080/",
     "height": 279
    },
    "colab_type": "code",
    "executionInfo": {
     "elapsed": 759,
     "status": "ok",
     "timestamp": 1543389341700,
     "user": {
      "displayName": "adi magen",
      "photoUrl": "",
      "userId": "02072358176714251696"
     },
     "user_tz": -120
    },
    "id": "Zf2Ba14iK_ur",
    "outputId": "e21b42d3-9bc6-4f00-a526-13cb7c59f959"
   },
   "outputs": [
    {
     "name": "stdout",
     "output_type": "stream",
     "text": [
      "10 most common recipe size in chars:\n",
      "\trecipe size\n",
      "\tin words\tfrequency\n",
      "\t---------------------------\n",
      "\t901\t  |\t45\n",
      "\t803\t  |\t45\n",
      "\t977\t  |\t42\n",
      "\t939\t  |\t42\n",
      "\t785\t  |\t42\n",
      "\t906\t  |\t41\n",
      "\t729\t  |\t41\n",
      "\t1068\t  |\t40\n",
      "\t848\t  |\t40\n",
      "\t894\t  |\t40\n"
     ]
    }
   ],
   "source": [
    "print('10 most common recipe size in chars:')\n",
    "print('\\trecipe size\\n\\tin words\\tfrequency\\n\\t---------------------------')\n",
    "for size, freq in get_recipe_size_char.most_common(10):\n",
    "  print('\\t{}\\t  |\\t{}'.format(size, freq))"
   ]
  },
  {
   "cell_type": "markdown",
   "metadata": {
    "colab_type": "text",
    "id": "zxo-3fdSkLya"
   },
   "source": [
    "#### 1.4.4 Now we will split the dataset into training, dev and test sets as a 80%/10%/10% split."
   ]
  },
  {
   "cell_type": "code",
   "execution_count": 0,
   "metadata": {
    "colab": {},
    "colab_type": "code",
    "id": "dRqv5QITgQig"
   },
   "outputs": [],
   "source": [
    "def get_train_val_test_split(self):\n",
    "  train_recipe = self.recipes[:26370] # ~80% of 32963\n",
    "  val_recipe = self.recipes[26370:-3296] # ~10% of 32963\n",
    "  test_recipe = self.recipes[-3296:] # ~10% of 32963\n",
    "  return ''.join(train_recipe), ''.join(val_recipe), ''.join(test_recipe)\n",
    "\n",
    "# setting a new method to a class\n",
    "setattr(RecipesDataset, 'get_train_val_test_split', get_train_val_test_split)\n",
    "\n",
    "train_recipe, val_recipe, test_recipe  = rd.get_train_val_test_split()"
   ]
  },
  {
   "cell_type": "markdown",
   "metadata": {
    "colab_type": "text",
    "id": "-pw1PU0NjQTY"
   },
   "source": [
    "#### 1.4.5"
   ]
  },
  {
   "cell_type": "code",
   "execution_count": 0,
   "metadata": {
    "colab": {},
    "colab_type": "code",
    "id": "vN8TDnGRusX2"
   },
   "outputs": [],
   "source": [
    "chosen_order = 15"
   ]
  },
  {
   "cell_type": "markdown",
   "metadata": {
    "colab_type": "text",
    "id": "rUxio3mMl932"
   },
   "source": [
    "We choose to use $order = 15$ for two main reasons. First the dataset has a complex structer like the linux-kernel code. Second, as to the linux-kernel code, the recipes are in a format intended. \n",
    "\n",
    "In addition in Yoav Goldberg's article we saw that at  $order = 10$ the generated code didn't make a lot of sense and at $order = 20$ \"we are ... far from keeping good indentation and brackets\". So we choose to be at the middel of both ends."
   ]
  },
  {
   "cell_type": "markdown",
   "metadata": {
    "colab_type": "text",
    "id": "Dw8toZgVl5sN"
   },
   "source": [
    "#### 1.4.6 Train a char language model using either Yoav Goldberg's code (n-gram) "
   ]
  },
  {
   "cell_type": "code",
   "execution_count": 0,
   "metadata": {
    "colab": {},
    "colab_type": "code",
    "id": "N7C2G70wkU7z"
   },
   "outputs": [],
   "source": [
    "# Train Yoav Goldberg's n-gram model\n",
    "from collections import *\n",
    "\n",
    "def train_char_lm(dataset, order=4):\n",
    "    data = dataset\n",
    "    lm = defaultdict(Counter)\n",
    "    pad = \"~\" * order\n",
    "    data = pad + data\n",
    "    for i in range(len(data)-order):\n",
    "        history, char = data[i:i+order], data[i+order]\n",
    "        lm[history][char]+=1\n",
    "        \n",
    "    def normalize(counter):\n",
    "        s = float(sum(counter.values()))\n",
    "        return [(c,cnt/s) for c,cnt in counter.items()]\n",
    "    \n",
    "    outlm = {hist:normalize(chars) for hist, chars in lm.items()}\n",
    "    return outlm"
   ]
  },
  {
   "cell_type": "code",
   "execution_count": 0,
   "metadata": {
    "colab": {},
    "colab_type": "code",
    "id": "jO7JalAZlFcN"
   },
   "outputs": [],
   "source": [
    "lm_recipes = train_char_lm(train_recipe, chosen_order)"
   ]
  },
  {
   "cell_type": "markdown",
   "metadata": {
    "colab_type": "text",
    "id": "WT9CtY_HlWUQ"
   },
   "source": [
    "#### 1.4.7 Report on the perplexity of the trained language model. "
   ]
  },
  {
   "cell_type": "code",
   "execution_count": 0,
   "metadata": {
    "colab": {},
    "colab_type": "code",
    "id": "JtJHvlMVrz_3"
   },
   "outputs": [],
   "source": [
    "class CalcPerplexity:\n",
    "  def __init__(self, order, lm):\n",
    "    self.order = order\n",
    "    self.lm = lm\n",
    "    self.backoffLM = None\n",
    "    self.backoffCP = None\n",
    "    \n",
    "  def perplexity(self, dataset):\n",
    "    return pow(2.0, self.entropy(dataset))\n",
    "\n",
    "  def entropy(self, text):\n",
    "    e = 0.0\n",
    "    for i in range(self.order, len(text)):\n",
    "        context = ''.join(text[i - self.order:i])\n",
    "        token = text[i]\n",
    "        _logprob = self.logprob(token, context)\n",
    "        if _logprob is not None: #ignore prob = 0\n",
    "            e += _logprob\n",
    "    return e / float(len(text))\n",
    "\n",
    "  def logprob(self, char, context):\n",
    "    from math import log\n",
    "    _prob = self.prob(char, context)\n",
    "    if _prob == 0:\n",
    "      if self.backoffLM is None and self.order > 1:\n",
    "        self.backoffLM = train_char_lm(train_recipe, self.order - 1)\n",
    "        self.backoffCP = CalcPerplexity(self.order - 1, self.backoffLM)\n",
    "      return self.backoffCP.prob(char, context[1:])\n",
    "    return -log(_prob, 2)\n",
    "\n",
    "  def prob(self, char, context):\n",
    "    if context in self.lm:\n",
    "      context_dict = dict(self.lm[context])\n",
    "      if char in context_dict:\n",
    "        return context_dict[char]\n",
    "    return 0"
   ]
  },
  {
   "cell_type": "code",
   "execution_count": 64,
   "metadata": {
    "colab": {
     "base_uri": "https://localhost:8080/",
     "height": 36
    },
    "colab_type": "code",
    "executionInfo": {
     "elapsed": 124121,
     "status": "ok",
     "timestamp": 1543390975139,
     "user": {
      "displayName": "adi magen",
      "photoUrl": "",
      "userId": "02072358176714251696"
     },
     "user_tz": -120
    },
    "id": "_iAe5zrrugyM",
    "outputId": "9c07bbc3-0aa3-4c74-d0fd-2c83585a209c"
   },
   "outputs": [
    {
     "data": {
      "text/plain": [
       "1.2276265866744345"
      ]
     },
     "execution_count": 64,
     "metadata": {
      "tags": []
     },
     "output_type": "execute_result"
    }
   ],
   "source": [
    "cp = CalcPerplexity(chosen_order, lm_recipes)\n",
    "cp.perplexity(val_recipe)"
   ]
  },
  {
   "cell_type": "markdown",
   "metadata": {
    "colab_type": "text",
    "id": "VNsCZ0rF2COF"
   },
   "source": [
    "#### 1.4.8 5 generated recipes from the trained language model. "
   ]
  },
  {
   "cell_type": "code",
   "execution_count": 0,
   "metadata": {
    "colab": {},
    "colab_type": "code",
    "id": "gcSWJQjsuokR"
   },
   "outputs": [],
   "source": [
    "# Train Yoav Goldberg's generate_text\n",
    "from random import random\n",
    "\n",
    "def generate_text(lm, order, nletters=1000):\n",
    "  history = \"~\" * order\n",
    "  out = []\n",
    "  for i in range(nletters):\n",
    "      c = generate_letter(lm, history, order)\n",
    "      history = history[-order:] + c\n",
    "      out.append(c)\n",
    "  return \"\".join(out)\n",
    "\n",
    "def generate_letter(lm, history, order):\n",
    "  history = history[-order:]\n",
    "  dist = lm[history]\n",
    "  x = random()\n",
    "  for c,v in dist:\n",
    "      x = x - v\n",
    "      if x <= 0: return c"
   ]
  },
  {
   "cell_type": "markdown",
   "metadata": {
    "colab_type": "text",
    "id": "6cRRvsTQ37N-"
   },
   "source": [
    "***sample 1***"
   ]
  },
  {
   "cell_type": "code",
   "execution_count": 0,
   "metadata": {
    "colab": {
     "base_uri": "https://localhost:8080/",
     "height": 410
    },
    "colab_type": "code",
    "id": "R5Mo-eKb2e9t",
    "outputId": "fea9f2be-fc04-4458-de67-2ce26273ec3d"
   },
   "outputs": [
    {
     "name": "stdout",
     "output_type": "stream",
     "text": [
      "~~~ Combine all the ingredients and simmer until\r\n",
      "  just moistened. Pour batter into two\r\n",
      "  greased 8-inch layer pans in moderate oven (350 degrees F.) 50 minutes, or until\r\n",
      "  cake tester inserted the center comes out\r\n",
      "  clean. Remove the sauce pan from the\r\n",
      "  heat and simmer until sauce boils and\r\n",
      "  sugar mixture to the butter mix. 3.Beat the egg whites\r\n",
      "  until stiff and shiny.  Add the melted mixture.  Spread half of mixture through a sieve that has been\r\n",
      "  sprayed with release agent; remove from heat.\r\n",
      "    2.  Add applesauce mixture over the walnuts, tossing to\r\n",
      "  coat them. There are many good hot sauces to use; the one they use is\r\n",
      "  either Durkee Franks Red Hot Sauce or Wingers Original, again found\r\n",
      "  in a restaurant. Use smaller amounts of all\r\n",
      "  ingredients, beat until smooth. Pour onto heated waffle baker and bake. Yield: 2 2/3 cups batter, about 4\r\n",
      "  servings\r\n",
      " \r\n",
      "MMMMM----- Recipe via Meal-Master (tm) v8.05\r\n",
      " \r\n",
      "      Title: CHOCOLATE SHOTS\r\n",
      " Categories: Salads\r\n",
      "      Yield:\n"
     ]
    }
   ],
   "source": [
    "print(generate_text(lm_recipes, 15))"
   ]
  },
  {
   "cell_type": "markdown",
   "metadata": {
    "colab_type": "text",
    "id": "Gwm-ApSk4Ii-"
   },
   "source": [
    "***sample 2***"
   ]
  },
  {
   "cell_type": "code",
   "execution_count": 0,
   "metadata": {
    "colab": {
     "base_uri": "https://localhost:8080/",
     "height": 709
    },
    "colab_type": "code",
    "id": "bdTHNW1R2mgT",
    "outputId": "03875020-d113-4077-8a9f-ed93f0b59722"
   },
   "outputs": [
    {
     "name": "stdout",
     "output_type": "stream",
     "text": [
      "~~~~~\r\n",
      "      5 c  Water\r\n",
      "      3    Eggs; Large, Separated\r\n",
      "    1/2 c  Beef stock\r\n",
      "           -(whole), for garnish\r\n",
      " \r\n",
      "  Servings: 6 to 8 Notes: Angu (pronounced \"aing goo\") is a sort of\r\n",
      "  polenta, one of the many Indian breads, for example, you can make smaller kisses by using the small ones will cook\r\n",
      "  in less than 10 minutes if picked earlier. Drain.\r\n",
      "  \r\n",
      "  Recipe By     : Somesh Rao\r\n",
      " \r\n",
      "MMMMM\r\n",
      " \r\n",
      "MMMMM----- Recipe via Meal-Master (tm) v8.05\r\n",
      " \r\n",
      "      Title: CRISPY SCALLOPS WITH LEMON & PEPPER\r\n",
      " Categories: Cookies\r\n",
      "      Yield: 1 Servings\r\n",
      " \r\n",
      "     12 oz SR flour\r\n",
      "      4 oz Demerara sugar\r\n",
      "      1 c  Milk\r\n",
      "      4    Eggs\r\n",
      "      1 c  Olive oil\r\n",
      "           Spice grinder\r\n",
      "           Button mushrooms\r\n",
      "      2 tb Confectioners' Sugar\r\n",
      "      1 c  Brown sugar, firmly packed\r\n",
      "      2 ts Lemon grass minced (fresh)\r\n",
      "           -Baking Dish---\r\n",
      "  1 3/4 c  All-purpose flour\r\n",
      "    3/4 ts Cinnamon\r\n",
      "    1/4 ts Ground cinnamon\r\n",
      "        pn Ground allspice\r\n",
      "    1/4 ts Nutmeg\r\n",
      "    1/2 ts Cinnamon\r\n"
     ]
    }
   ],
   "source": [
    "print(generate_text(lm_recipes, 15))"
   ]
  },
  {
   "cell_type": "markdown",
   "metadata": {
    "colab_type": "text",
    "id": "hoYvSPvp4LCe"
   },
   "source": [
    "***sample 3***"
   ]
  },
  {
   "cell_type": "code",
   "execution_count": 0,
   "metadata": {
    "colab": {
     "base_uri": "https://localhost:8080/",
     "height": 298
    },
    "colab_type": "code",
    "id": "kageUv_74Fgu",
    "outputId": "5921a541-987d-49c9-8d51-2c30140f6c36"
   },
   "outputs": [
    {
     "name": "stdout",
     "output_type": "stream",
     "text": [
      "~~~~~~~~~~~~~~~~~~~~~~~~~ Combine all\r\n",
      "  ingredients. Stir in chopped bittersweet\r\n",
      "           -unsweetened shredded coconut\r\n",
      "      pulp and continue to\r\n",
      "  brown. (Don't worry if the mixture into the chicken. Sprinkle yams and chicken to\r\n",
      "  bowl and stir briskly until well blended. Pour egg mixture over low heat, melt chocolate morsels, divided\r\n",
      "      1 cn (8 ounce) water chestnuts or peas. Drain and add broccoli.\r\n",
      "  \r\n",
      "  This recipe uses raw egg white. Cases of salmonella poisoning\r\n",
      "  have been traced to raw eggs, although this depends very much on personal taste.) Coarse shreds produce lacier latkes with rough\r\n",
      "  edges under, seal and flute; sprinkle with the sugar to make a\r\n",
      "  runny batter. Leave for 1 hour. Heat the oil in a small sauce- pan, add water and simmer for 20 mins. Add olives and 2 cups of\r\n",
      "  the flour mixture. Fold\r\n",
      "  in chips and nuts. Drop rounded teaspoonfuls onto ungreaed baking sheets. Divide the mixture\r\n",
      "  remains cool and powdery and does not form and chill in refi\n"
     ]
    }
   ],
   "source": [
    "print(generate_text(lm_recipes, 15))"
   ]
  },
  {
   "cell_type": "markdown",
   "metadata": {
    "colab_type": "text",
    "id": "D36zyaZm4OBB"
   },
   "source": [
    "***sample 4***"
   ]
  },
  {
   "cell_type": "code",
   "execution_count": 0,
   "metadata": {
    "colab": {
     "base_uri": "https://localhost:8080/",
     "height": 522
    },
    "colab_type": "code",
    "id": "yU-tOQ5o4GJT",
    "outputId": "266877e7-bf39-4c36-e75a-8e0af59fd599"
   },
   "outputs": [
    {
     "name": "stdout",
     "output_type": "stream",
     "text": [
      "` NOTES\r\n",
      "  : Good on chicken, beef and pork\r\n",
      "      3 tb Sugar\r\n",
      "      4 ea Whole peppercorns\r\n",
      "      2 ea Slices Bacon\r\n",
      "      2 c  Buttermilk\r\n",
      "      2 ts Paprika\r\n",
      "      3 lb Chicken thighs, skinned\r\n",
      "           Salt to taste and mash in the pate.\r\n",
      "  Transfer the pie to a rack and let cook till everything is nicely coated. Mix in the onion,\r\n",
      "  fry the pasta and return it to the oven to heat.\r\n",
      "  \r\n",
      "  Stir in the lime\r\n",
      "  juice. Pour over\r\n",
      "  remaining ingredients and blend until smooth\r\n",
      "  (about 10 minutes, until golden\r\n",
      "  brown. Squeese lemon juice generously over catfish.\u0014\r\n",
      "  5. Cover with foil; let stand for about 10 minutes, stirring to prevent burning. Sprinkle the cooled bread.\r\n",
      "  Garnish with onion slices and serve immediately over cooked pasta, such as ditalini.\r\n",
      "  \r\n",
      "  Recipes By: So Eat, My Darling: A Guide To Yiddish Kitchen\r\n",
      "           -Chop toasted pecans\r\n",
      "           Filling:\r\n",
      "      1 lb Liverwurst\r\n",
      "      4 tb White creme de cacao\r\n",
      "  1 1/2 qt Vanilla ice cream\r\n",
      "           -to 3 inc\n"
     ]
    }
   ],
   "source": [
    "print(generate_text(lm_recipes, 15))"
   ]
  },
  {
   "cell_type": "markdown",
   "metadata": {
    "colab_type": "text",
    "id": "ilDyLdCR4Qjv"
   },
   "source": [
    "***sample 5***"
   ]
  },
  {
   "cell_type": "code",
   "execution_count": 0,
   "metadata": {
    "colab": {
     "base_uri": "https://localhost:8080/",
     "height": 541
    },
    "colab_type": "code",
    "id": "Cd7FeQSU4Gv4",
    "outputId": "9e374ef0-4875-4500-b62b-5c9fefadd92e"
   },
   "outputs": [
    {
     "name": "stdout",
     "output_type": "stream",
     "text": [
      "~~~~~~~~MMMMM----- Recipe via Meal-Master (tm) v8.05\r\n",
      " \r\n",
      "      Title: CHOCOLATE CHIPS\r\n",
      "      1 c  AM Potato Flakes\r\n",
      "    1/2 c  Diced turnip optional\r\n",
      "      2 tb Apple sauce\r\n",
      "    3/4 c  Walnuts-chopped\r\n",
      "    3/4 lb Butter softened\r\n",
      "      2 c  Confectioners' sugar. Makes 9 pieces\r\n",
      "  at 250 F. about 45 minutes or until golden and crisp, 1 to 2 minutes.\r\n",
      "  When jello is still (not hot), fill juice glass in the center. Add the egg yolks, one at a time, beating well after\r\n",
      "  each addition until the dough is used. Bake scones on ungreased cookie\r\n",
      "  sheets. Reshape into round rolls, then push thumbs\r\n",
      "  through center\r\n",
      "  approximately three to five minutes. Add the\r\n",
      "  mushrooms, onion and remaining sauce on\r\n",
      "  top.\r\n",
      "  \r\n",
      "  *or pile mixture on small, individual gratin dishes. Fill with the nut and broccoli\r\n",
      "  together as sauteing. Chill before serving, roll in chopped nuts. Chill.\r\n",
      " \r\n",
      "MMMMM\r\n",
      " \r\n",
      "MMMMM----- Recipe via Meal-Master (tm) v8.05\r\n",
      " \r\n",
      "      Title: CARDAMOM BUNS\r\n",
      " Categories: Breakfast\r\n",
      "   \n"
     ]
    }
   ],
   "source": [
    "print(generate_text(lm_recipes, 15))"
   ]
  },
  {
   "cell_type": "markdown",
   "metadata": {
    "colab_type": "text",
    "id": "2WmdIKo44T36"
   },
   "source": [
    "#### 1.4.9 observations about the generated samples."
   ]
  },
  {
   "cell_type": "markdown",
   "metadata": {
    "colab_type": "text",
    "id": "Hbxj-q6r5M8K"
   },
   "source": [
    "First of all let notice that only sample 5 is beginning with *$\"$MMMMM----- Recipe via Meal-Master (tm) v8.05$\"$*. This is very surprising observation because all of the 32963 recipes is starting with that line. So we accept it to have a high probability over all.\n",
    "\n",
    "Second, the sentences are making sort of senes. \n",
    "> *$\"$Pour batter into two\n",
    "  greased 8-inch layer pans in moderate oven (350 degrees F.) 50 minutes, or until\n",
    "  cake tester inserted the center comes out\n",
    "  clean$\"$.*\n",
    "  \n",
    "In this exmaple we see that the words are existing in the English language and more important there is a theme to the sentence. This one is about the finishing steps of backing a cake. 🎂\n",
    "\n",
    "Furthermore we can see that the model picked up most of the recipes structure. For example all the recipes titles are capitalized, and the model provides recipes with good indentation."
   ]
  },
  {
   "cell_type": "markdown",
   "metadata": {
    "colab_type": "text",
    "id": "_jkzGy5DJwUr"
   },
   "source": [
    "### Section 2"
   ]
  },
  {
   "cell_type": "markdown",
   "metadata": {
    "colab_type": "text",
    "id": "Jo5s7YsQ5zRr"
   },
   "source": [
    "#### 2.1 Drawing a given function with some noise"
   ]
  },
  {
   "cell_type": "code",
   "execution_count": 0,
   "metadata": {
    "colab": {},
    "colab_type": "code",
    "id": "QKLhfXYo5zR3"
   },
   "outputs": [],
   "source": [
    "from numpy import sin, pi\n",
    "from numpy.random import normal\n",
    "import numpy as np\n",
    "import matplotlib.pyplot as plt\n",
    "\n",
    "def generateDataset(N, f, mu, sigma):\n",
    "    Xi = [i / (N - 1) for i in range(N)]\n",
    "    t = [f(x) + normal(mu, sigma, 1) for x in Xi]\n",
    "    # t = [ti[0] for ti in t]  # np.array to list\n",
    "    return Xi, t"
   ]
  },
  {
   "cell_type": "code",
   "execution_count": 0,
   "metadata": {
    "colab": {
     "base_uri": "https://localhost:8080/",
     "height": 347
    },
    "colab_type": "code",
    "executionInfo": {
     "elapsed": 969,
     "status": "ok",
     "timestamp": 1543317470184,
     "user": {
      "displayName": "adi magen",
      "photoUrl": "",
      "userId": "02072358176714251696"
     },
     "user_tz": -120
    },
    "id": "YpVGLkrs5zR-",
    "outputId": "fb06aa39-03e0-4930-c908-8a945bf11d1b"
   },
   "outputs": [
    {
     "data": {
      "image/png": "[encoded data removed]",
      "text/plain": [
       "<matplotlib.figure.Figure at 0x7f7bf51de0f0>"
      ]
     },
     "metadata": {
      "tags": []
     },
     "output_type": "display_data"
    }
   ],
   "source": [
    "N = 100\n",
    "x, t = generateDataset(N, sin, 0, 1)\n",
    "\n",
    "plt.scatter(x, t)\n",
    "plt.show()"
   ]
  },
  {
   "cell_type": "markdown",
   "metadata": {
    "colab_type": "text",
    "id": "zAHddFYozs0V"
   },
   "source": [
    "#### 2.2"
   ]
  },
  {
   "cell_type": "code",
   "execution_count": 0,
   "metadata": {
    "colab": {},
    "colab_type": "code",
    "id": "51ZYIh9-5zSJ"
   },
   "outputs": [],
   "source": [
    "from math import pow\n",
    "\n",
    "def OptimizeLS(x, t, M):\n",
    "    n = len(x)\n",
    "    phi = np.empty((n, M + 1), )\n",
    "    for i in range(n):\n",
    "        for j in range(M + 1):\n",
    "            phi[i][j] = pow(x[i], j)\n",
    "    coff = Wls(phi, t)\n",
    "\n",
    "    def opt_poly(X):\n",
    "        res = [0 for i in range(len(X))]\n",
    "        for i in range(len(X)):\n",
    "            acc = 0\n",
    "            for j in range(M+1):\n",
    "                acc += coff[j] * pow(x[i], j)\n",
    "            res[i] = acc\n",
    "        return res\n",
    "\n",
    "    return opt_poly\n",
    "\n",
    "\n",
    "def Wls(phi, t):\n",
    "    prod = np.dot(phi.T, phi)\n",
    "    i = np.linalg.inv(prod)\n",
    "    m = np.dot(i, phi.T)\n",
    "    return np.dot(m, t)\n",
    "\n",
    "\n",
    "def sin2pi(x):\n",
    "    return sin(2 * pi * x)"
   ]
  },
  {
   "cell_type": "code",
   "execution_count": 0,
   "metadata": {
    "colab": {
     "base_uri": "https://localhost:8080/",
     "height": 347
    },
    "colab_type": "code",
    "executionInfo": {
     "elapsed": 568,
     "status": "ok",
     "timestamp": 1543317475413,
     "user": {
      "displayName": "adi magen",
      "photoUrl": "",
      "userId": "02072358176714251696"
     },
     "user_tz": -120
    },
    "id": "Crf8A7I15zSM",
    "outputId": "8ffe82d5-59c0-485c-d313-ea9e80c5f304"
   },
   "outputs": [
    {
     "data": {
      "image/png": "[encoded data removed]",
      "text/plain": [
       "<matplotlib.figure.Figure at 0x7f7bf54c26a0>"
      ]
     },
     "metadata": {
      "tags": []
     },
     "output_type": "display_data"
    }
   ],
   "source": [
    "N = 10\n",
    "x, t = generateDataset(N, sin2pi, 0, 1)\n",
    "\n",
    "plt.scatter(x, t)\n",
    "plt.show()"
   ]
  },
  {
   "cell_type": "markdown",
   "metadata": {
    "colab_type": "text",
    "id": "qz8DlKo15zSZ"
   },
   "source": [
    "And now for the polynomial results : "
   ]
  },
  {
   "cell_type": "code",
   "execution_count": 0,
   "metadata": {
    "colab": {},
    "colab_type": "code",
    "id": "0UD8fNuH2Rpn"
   },
   "outputs": [],
   "source": [
    "def poly_result(M):\n",
    "  poly = OptimizeLS(x, t, M)\n",
    "  t_prime = poly(x)\n",
    "  plt.scatter(x, t_prime)\n",
    "  plt.show()"
   ]
  },
  {
   "cell_type": "code",
   "execution_count": 0,
   "metadata": {
    "colab": {
     "base_uri": "https://localhost:8080/",
     "height": 349
    },
    "colab_type": "code",
    "executionInfo": {
     "elapsed": 967,
     "status": "ok",
     "timestamp": 1543317478227,
     "user": {
      "displayName": "adi magen",
      "photoUrl": "",
      "userId": "02072358176714251696"
     },
     "user_tz": -120
    },
    "id": "NGEZCX1C5zSa",
    "outputId": "2a2b2156-6e34-4be3-af86-12f8382b4821"
   },
   "outputs": [
    {
     "data": {
      "image/png": "[encoded data removed]",
      "text/plain": [
       "<matplotlib.figure.Figure at 0x7f7bf5548da0>"
      ]
     },
     "metadata": {
      "tags": []
     },
     "output_type": "display_data"
    }
   ],
   "source": [
    "poly_result(1)"
   ]
  },
  {
   "cell_type": "code",
   "execution_count": 0,
   "metadata": {
    "colab": {
     "base_uri": "https://localhost:8080/",
     "height": 347
    },
    "colab_type": "code",
    "executionInfo": {
     "elapsed": 957,
     "status": "ok",
     "timestamp": 1543317480146,
     "user": {
      "displayName": "adi magen",
      "photoUrl": "",
      "userId": "02072358176714251696"
     },
     "user_tz": -120
    },
    "id": "uO3qqCfm5zTQ",
    "outputId": "4dfe25ca-7fcc-4ffd-f4cf-6664118e0127"
   },
   "outputs": [
    {
     "data": {
      "image/png": "[encoded data removed]",
      "text/plain": [
       "<matplotlib.figure.Figure at 0x7f7bf59ac4e0>"
      ]
     },
     "metadata": {
      "tags": []
     },
     "output_type": "display_data"
    }
   ],
   "source": [
    "poly_result(3)"
   ]
  },
  {
   "cell_type": "code",
   "execution_count": 0,
   "metadata": {
    "colab": {
     "base_uri": "https://localhost:8080/",
     "height": 347
    },
    "colab_type": "code",
    "executionInfo": {
     "elapsed": 801,
     "status": "ok",
     "timestamp": 1543317481750,
     "user": {
      "displayName": "adi magen",
      "photoUrl": "",
      "userId": "02072358176714251696"
     },
     "user_tz": -120
    },
    "id": "4QleQklq2euT",
    "outputId": "ce1de781-090c-451a-bb62-5b8cd48e3062"
   },
   "outputs": [
    {
     "data": {
      "image/png": "[encoded data removed]",
      "text/plain": [
       "<matplotlib.figure.Figure at 0x7f7bf59b4ba8>"
      ]
     },
     "metadata": {
      "tags": []
     },
     "output_type": "display_data"
    }
   ],
   "source": [
    "poly_result(5)"
   ]
  },
  {
   "cell_type": "code",
   "execution_count": 0,
   "metadata": {
    "colab": {
     "base_uri": "https://localhost:8080/",
     "height": 347
    },
    "colab_type": "code",
    "executionInfo": {
     "elapsed": 746,
     "status": "ok",
     "timestamp": 1543317483403,
     "user": {
      "displayName": "adi magen",
      "photoUrl": "",
      "userId": "02072358176714251696"
     },
     "user_tz": -120
    },
    "id": "5R8HiGSS2fld",
    "outputId": "589dd0f3-7599-4559-93cc-84c590307e2b"
   },
   "outputs": [
    {
     "data": {
      "image/png": "[encoded data removed]",
      "text/plain": [
       "<matplotlib.figure.Figure at 0x7f7bf5cae898>"
      ]
     },
     "metadata": {
      "tags": []
     },
     "output_type": "display_data"
    }
   ],
   "source": [
    "poly_result(10)"
   ]
  },
  {
   "cell_type": "markdown",
   "metadata": {
    "colab_type": "text",
    "id": "3_Ww4weh2g8d"
   },
   "source": [
    "#### 2.3"
   ]
  },
  {
   "cell_type": "code",
   "execution_count": 0,
   "metadata": {
    "colab": {},
    "colab_type": "code",
    "id": "8lOa6DMf2wjl"
   },
   "outputs": [],
   "source": [
    "def buildPhi(n, M, x):\n",
    "  phi = np.empty((n, M + 1), )\n",
    "  for i in range(n):\n",
    "      for j in range(M + 1):\n",
    "          phi[i][j] = pow(x[i], j)\n",
    "  return phi\n",
    "\n",
    "def optimizePLS_help(x, t, M, _lambda):\n",
    "  phi = buildPhi(len(x), M, x)\n",
    "  coff = Wpls(phi, t, _lambda)\n",
    "\n",
    "  def opt_poly(X):\n",
    "    res = [0 for i in range(len(X))]\n",
    "    for i in range(len(X)):\n",
    "        acc = 0\n",
    "        for j in range(M+1):\n",
    "            acc += coff[j] * pow(x[i], j)\n",
    "        res[i] = acc\n",
    "    return res\n",
    "\n",
    "  return opt_poly\n",
    "\n",
    "def Wpls(phi, t, _lambda):\n",
    "    prod = np.dot(phi.T, phi)\n",
    "    lambdaI = _lambda * np.identity(prod.shape[0])\n",
    "    i = np.linalg.inv(prod + lambdaI) # ^-1\n",
    "    m = np.dot(i, phi.T)\n",
    "    return np.dot(m, t)"
   ]
  },
  {
   "cell_type": "code",
   "execution_count": 0,
   "metadata": {
    "colab": {},
    "colab_type": "code",
    "id": "LGiJY0DP4wXM"
   },
   "outputs": [],
   "source": [
    "def generateDataset3(N, f, sigma):\n",
    "  subsets_x, subsets_t = generateDataset(3 * N, f, 0, sigma)\n",
    "  suffel_x = np.copy(subsets_x)\n",
    "  np.random.shuffle(suffel_x)\n",
    "  i = []\n",
    "  for k in range(len(suffel_x)):\n",
    "    i.append(np.where(subsets_x == suffel_x[k])[0][0])  \n",
    "  suffel_t = np.take(subsets_t, i)\n",
    "  return (suffel_x[:N], suffel_t[:N]),(suffel_x[N:-N], suffel_t[N:-N]),(suffel_x[-N:], suffel_t[-N:])"
   ]
  },
  {
   "cell_type": "code",
   "execution_count": 0,
   "metadata": {
    "colab": {},
    "colab_type": "code",
    "id": "IlauPwSGGxOh"
   },
   "outputs": [],
   "source": [
    "from math import sqrt\n",
    "def NEw(x, t, poly):\n",
    "  global N\n",
    "  _sum = 0\n",
    "  poly_x = poly(x)\n",
    "  for i in range(len(t)):\n",
    "    _sum += pow(t[i] - poly_x[i], 2)\n",
    "  return (1 / N)*sqrt(_sum)"
   ]
  },
  {
   "cell_type": "code",
   "execution_count": 0,
   "metadata": {
    "colab": {},
    "colab_type": "code",
    "id": "Q9hvGdf9EHHH"
   },
   "outputs": [],
   "source": [
    "def optimizePLS(xt, tt, xv, tv, M):\n",
    "  best_poly = None\n",
    "  best_poly_NEw = np.inf\n",
    "  \n",
    "  for log_lambad in range(20, -1, -1):\n",
    "    poly = optimizePLS_help(xt, tt, M, pow(2, log_lambad-40))\n",
    "    poly_NEw = NEw(xv, tt, poly)\n",
    "    \n",
    "    if poly_NEw < best_poly_NEw:\n",
    "      best_poly = poly\n",
    "      poly_NEw = best_poly_NEw\n",
    "      \n",
    "  return best_poly"
   ]
  },
  {
   "cell_type": "code",
   "execution_count": 0,
   "metadata": {
    "colab": {},
    "colab_type": "code",
    "id": "aM42KDETswfa"
   },
   "outputs": [],
   "source": [
    "M = 3"
   ]
  },
  {
   "cell_type": "code",
   "execution_count": 0,
   "metadata": {
    "colab": {
     "base_uri": "https://localhost:8080/",
     "height": 347
    },
    "colab_type": "code",
    "executionInfo": {
     "elapsed": 1346,
     "status": "ok",
     "timestamp": 1543348263153,
     "user": {
      "displayName": "adi magen",
      "photoUrl": "",
      "userId": "02072358176714251696"
     },
     "user_tz": -120
    },
    "id": "9oWgK43SGxjh",
    "outputId": "d9c75583-46d2-461f-9f8f-0d52fbcf042f"
   },
   "outputs": [
    {
     "data": {
      "image/png": "[encoded data removed]",
      "text/plain": [
       "<matplotlib.figure.Figure at 0x7fc38e160e10>"
      ]
     },
     "metadata": {
      "tags": []
     },
     "output_type": "display_data"
    }
   ],
   "source": [
    "N = 10\n",
    "(xt, tt), (xv, tv), (x_test, t_test) = generateDataset3(N, sin2pi, 1)\n",
    "poly10 = optimizePLS(xt, tt, xv, tv, M)\n",
    "tt_prime = poly10(xt)\n",
    "plt.scatter(xt, tt_prime, c='green')\n",
    "t_test_prime = poly10(x_test)\n",
    "plt.scatter(x_test, t_test_prime, c='blue')\n",
    "plt.show()"
   ]
  },
  {
   "cell_type": "code",
   "execution_count": 0,
   "metadata": {
    "colab": {
     "base_uri": "https://localhost:8080/",
     "height": 347
    },
    "colab_type": "code",
    "executionInfo": {
     "elapsed": 974,
     "status": "ok",
     "timestamp": 1543348159631,
     "user": {
      "displayName": "adi magen",
      "photoUrl": "",
      "userId": "02072358176714251696"
     },
     "user_tz": -120
    },
    "id": "J2ezuPeTPUob",
    "outputId": "18d5d87c-fa5f-4f55-fb47-616fd6fadcc7"
   },
   "outputs": [
    {
     "data": {
      "image/png": "[encoded data removed]",
      "text/plain": [
       "<matplotlib.figure.Figure at 0x7fc3835f2438>"
      ]
     },
     "metadata": {
      "tags": []
     },
     "output_type": "display_data"
    }
   ],
   "source": [
    "N = 100\n",
    "(xt, tt), (xv, tv), (x_test, t_test) = generateDataset3(N, sin2pi, 1)\n",
    "poly100 = optimizePLS(xt, tt, xv, tv, M)\n",
    "tt_prime = poly100(xt)\n",
    "plt.scatter(xt, tt_prime, c='green')\n",
    "tv_prime = poly100(xv)\n",
    "plt.scatter(xv, tv_prime, c='red')\n",
    "t_test_prime = poly100(x_test)\n",
    "plt.scatter(x_test, t_test_prime, c='blue')\n",
    "plt.show()"
   ]
  },
  {
   "cell_type": "markdown",
   "metadata": {
    "colab_type": "text",
    "id": "hWVR6NlAanAu"
   },
   "source": [
    "From both plot we can obviously see that we are doing prety good on the <font color=\"green\">train</font> set. Additionally, from the plot of $N=10$ we learn that the curve of the <font color='blue'>test</font> set as, in general, the same sahpe of the actual function. But from the plot of $N=100$ we understand that we hit the point of overfitting because only the <font color=\"green\">train</font> curve is looking like the s$in(2\\pi x)$ curve. "
   ]
  },
  {
   "cell_type": "markdown",
   "metadata": {
    "colab_type": "text",
    "id": "d2EX8s-lar0n"
   },
   "source": [
    "#### 2.4"
   ]
  },
  {
   "cell_type": "code",
   "execution_count": 0,
   "metadata": {
    "colab": {},
    "colab_type": "code",
    "id": "eyIa6A0Va2kj"
   },
   "outputs": [],
   "source": [
    "def bayesianEstimator(x, t, M, alpha, sigma2):\n",
    "  def buildPhi_x(x): # x is 1 sample\n",
    "    phi = np.empty((M + 1, 1), )\n",
    "    for i in range(M + 1):\n",
    "      phi[i][0] = pow(x, i)\n",
    "    return phi\n",
    "  \n",
    "  # n=1...N sum(phi(x_n) * phi(x_n)^T)\n",
    "  _sigmaInS = np.array([0.0 for _ in range((M + 1) * (M + 1))]).reshape((M + 1), (M + 1))\n",
    "  for n in range(N):\n",
    "    phi_x_n = buildPhi_x(x[n])\n",
    "    _sigmaInS += np.dot(phi_x_n, phi_x_n.T)\n",
    "    \n",
    "  # S^-1 = (alpha * I) + [(1 / sigma2) * sum(phi(x_n) * phi(x_n)^T)] n=1...N\n",
    "  alphaI = alpha * np.identity(M + 1)\n",
    "  temp_S = (1 / sigma2)*_sigmaInS\n",
    "  S_inverse = alphaI + temp_S\n",
    "  S = np.linalg.inv(S_inverse)\n",
    "  \n",
    "  # n=1...N sum(phi(x_n) * t_n)\n",
    "  _sigmaInM = np.array([0.0 for _ in range(10)]).reshape((M + 1), 1)\n",
    "  for n in range(N):\n",
    "    phi_x_n = buildPhi_x(x[n])\n",
    "    _sigmaInM += phi_x_n * t[n]\n",
    "    \n",
    "  # (1/sigma2) * phi(x)^T * S * sum(phi(x_n) * t_n) n=1...N\n",
    "  def m(x):\n",
    "    res = (1 / sigma2)\n",
    "    phi_x_T = buildPhi_x(x).T\n",
    "    res *= phi_x_T\n",
    "    res = np.dot(res, S)\n",
    "    res = np.dot(res, _sigmaInM)    \n",
    "    return res\n",
    "  \n",
    "  # sigma2 * phi(x)^T * S * phi(x)\n",
    "  def var(x):\n",
    "    res = sigma2\n",
    "    phi_x = buildPhi_x(x)\n",
    "    res *= phi_x.T\n",
    "    res = np.dot(res, S)\n",
    "    res = np.dot(res, phi_x)\n",
    "    return res\n",
    "  \n",
    "  return tuple([m, var])"
   ]
  },
  {
   "cell_type": "code",
   "execution_count": 0,
   "metadata": {
    "colab": {},
    "colab_type": "code",
    "id": "-rmfzPVmq7hn"
   },
   "outputs": [],
   "source": [
    "alpha = 0.005\n",
    "sigma2 = 1/11.1\n",
    "M = 9"
   ]
  },
  {
   "cell_type": "code",
   "execution_count": 0,
   "metadata": {
    "colab": {},
    "colab_type": "code",
    "id": "9RQPpiSTtEOf"
   },
   "outputs": [],
   "source": [
    "def print_bayesian_plot(M, alpha, sigma2):\n",
    "  global N\n",
    "  X, T = generateDataset(N, sin2pi, 0, 1)\n",
    "  (m, var) = bayesianEstimator(X, T, M, alpha, sigma2)\n",
    "  \n",
    "  # real sin2pi(x) in green\n",
    "  real_x = np.linspace(0, 1, 101)\n",
    "  real_t = np.array([sin2pi(real) for real in real_x])\n",
    "  fig = plt.figure()\n",
    "  ax = plt.axes()\n",
    "  ax.plot(real_x, real_t, c='green')\n",
    "\n",
    "  # m(x) in red\n",
    "  t_m =  np.array([m(x) for x in X]).reshape(len(X))\n",
    "  ax.plot(X, t_m, c='red')\n",
    "\n",
    "  # (m(x) - var(x)^(1/2)) - (m(x) + var(x)^(1/2)) the  red region\n",
    "  t_var =  np.array([var(x) for x in X]).reshape(len(X))\n",
    "  from math import sqrt\n",
    "  minus = [t_m[i] - sqrt(t_var[i]) for i in range(len(X))]\n",
    "  plus =  [t_m[i] + sqrt(t_var[i]) for i in range(len(X))]\n",
    "  plt.fill_between(X, minus, plus, facecolor='salmon')\n",
    "\n",
    "  # (X , T) train set in blue \n",
    "  plt.scatter(X, T, c='blue')\n",
    "  plt.show()"
   ]
  },
  {
   "cell_type": "code",
   "execution_count": 190,
   "metadata": {
    "colab": {
     "base_uri": "https://localhost:8080/",
     "height": 347
    },
    "colab_type": "code",
    "executionInfo": {
     "elapsed": 910,
     "status": "ok",
     "timestamp": 1543397719333,
     "user": {
      "displayName": "adi magen",
      "photoUrl": "",
      "userId": "02072358176714251696"
     },
     "user_tz": -120
    },
    "id": "kPMA-YO7byDe",
    "outputId": "197806e0-ff26-47d8-a9d1-cffa32588e04"
   },
   "outputs": [
    {
     "data": {
      "image/png": "[encoded data removed]",
      "text/plain": [
       "<matplotlib.figure.Figure at 0x7effc38cff98>"
      ]
     },
     "metadata": {
      "tags": []
     },
     "output_type": "display_data"
    }
   ],
   "source": [
    "N = 10\n",
    "print_bayesian_plot(M, alpha, sigma2)"
   ]
  },
  {
   "cell_type": "code",
   "execution_count": 183,
   "metadata": {
    "colab": {
     "base_uri": "https://localhost:8080/",
     "height": 347
    },
    "colab_type": "code",
    "executionInfo": {
     "elapsed": 776,
     "status": "ok",
     "timestamp": 1543397109547,
     "user": {
      "displayName": "adi magen",
      "photoUrl": "",
      "userId": "02072358176714251696"
     },
     "user_tz": -120
    },
    "id": "6mgKu5QitLmI",
    "outputId": "fd00bd1b-722d-4e64-fdcc-71bc84537c50"
   },
   "outputs": [
    {
     "data": {
      "image/png": "[encoded data removed]",
      "text/plain": [
       "<matplotlib.figure.Figure at 0x7eff0e5d28d0>"
      ]
     },
     "metadata": {
      "tags": []
     },
     "output_type": "display_data"
    }
   ],
   "source": [
    "N = 100\n",
    "print_bayesian_plot(M, alpha, sigma2)"
   ]
  },
  {
   "cell_type": "markdown",
   "metadata": {
    "colab_type": "text",
    "id": "uGDaFEMZo7aS"
   },
   "source": [
    "We see that the confidence interval of the mean of the predictive distribution is vary small. In particular when $N=100$ it is so small we cannt realy see it.\n",
    "At $N=10$ case we see the the confidence interval of $m(x)$ is evenly tight, becaue of it's definition $±\\sqrt{var(x)}$. We can consider a diffrent definition: $±\\sqrt{var(x)(1+ \\frac{1}{N}})$. This definition makes the height of the confidence interval very small around more straight line and large around more curvy spots of $m(x)$."
   ]
  }
 ],
 "metadata": {
  "colab": {
   "collapsed_sections": [],
   "name": "NLPHW1.ipynb",
   "provenance": [],
   "version": "0.3.2"
  },
  "kernelspec": {
   "display_name": "Python 3",
   "language": "python",
   "name": "python3"
  },
  "language_info": {
   "codemirror_mode": {
    "name": "ipython",
    "version": 3
   },
   "file_extension": ".py",
   "mimetype": "text/x-python",
   "name": "python",
   "nbconvert_exporter": "python",
   "pygments_lexer": "ipython3",
   "version": "3.6.7"
  }
 },
 "nbformat": 4,
 "nbformat_minor": 1
}
