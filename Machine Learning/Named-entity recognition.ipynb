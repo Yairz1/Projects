{
 "cells": [
  {
   "cell_type": "code",
   "execution_count": 0,
   "metadata": {
    "colab": {
     "base_uri": "https://localhost:8080/",
     "height": 54
    },
    "colab_type": "code",
    "executionInfo": {
     "elapsed": 2264,
     "status": "ok",
     "timestamp": 1545067631605,
     "user": {
      "displayName": "Adi Magen",
      "photoUrl": "",
      "userId": "08665314525103301426"
     },
     "user_tz": -120
    },
    "id": "OgZdjVAj_P1z",
    "outputId": "6d062c92-35df-4505-a754-3078ae847c5a"
   },
   "outputs": [
    {
     "name": "stderr",
     "output_type": "stream",
     "text": [
      "[nltk_data] Downloading package conll2002 to /home/yairzo/nltk_data...\n",
      "[nltk_data]   Package conll2002 is already up-to-date!\n"
     ]
    }
   ],
   "source": [
    "from collections import defaultdict\n",
    "import gzip\n",
    "import numpy as np\n",
    "import matplotlib.pyplot as plt\n",
    "import pandas as pd\n",
    "from functools import reduce\n",
    "import nltk\n",
    "nltk.download('conll2002')\n",
    "from string import punctuation\n",
    "import seaborn as sns\n",
    "\n",
    "from sklearn.preprocessing import LabelEncoder\n",
    "from sklearn.naive_bayes import GaussianNB\n",
    "from sklearn.feature_selection import SelectFromModel,SelectKBest\n",
    "from sklearn.feature_extraction import DictVectorizer\n",
    "from sklearn.base import TransformerMixin\n",
    "from sklearn.linear_model import LogisticRegression\n",
    "from sklearn.metrics import confusion_matrix\n",
    "from sklearn.pipeline import Pipeline\n",
    "from gensim.models import KeyedVectors\n",
    "from sklearn.pipeline import FeatureUnion\n",
    "\n",
    "def flatten(lst):\n",
    "    return list(map(lambda e:e[0],lst))"
   ]
  },
  {
   "cell_type": "markdown",
   "metadata": {
    "colab_type": "text",
    "id": "m_lfw69IDhaL"
   },
   "source": [
    "## 1. Word Classification"
   ]
  },
  {
   "cell_type": "markdown",
   "metadata": {
    "colab_type": "text",
    "id": "oFW7TA9T_P1w"
   },
   "source": [
    "### 1.1"
   ]
  },
  {
   "cell_type": "code",
   "execution_count": 0,
   "metadata": {
    "colab": {},
    "colab_type": "code",
    "id": "ECxKaAkC_P2D"
   },
   "outputs": [],
   "source": [
    "#### Q1.1 Evaluation Metrics ####\n",
    "\n",
    "## Input: y_pred, a list of length n with the predicted labels,\n",
    "## y_true, a list of length n with the true labels\n",
    "\n",
    "## Calculates the precision of the predicted labels\n",
    "SIMPLE = 0\n",
    "COMPLEX = 1\n",
    "\n",
    "\n",
    "def get_precision(y_pred, y_true):\n",
    "    # TP / (TP+FP)\n",
    "    TP = 0\n",
    "    FP = 0\n",
    "    for pi, ti in zip(y_pred, y_true):\n",
    "        if pi == ti == COMPLEX:  # TP\n",
    "            TP += 1\n",
    "        if pi == COMPLEX and ti == SIMPLE:\n",
    "            FP += 1\n",
    "    return TP / (TP + FP)\n",
    "\n",
    "\n",
    "## Calculates the recall of the predicted labels\n",
    "def get_recall(y_pred, y_true):\n",
    "    # TP / (TP + FN)\n",
    "    TP = 0\n",
    "    FN = 0\n",
    "    for pi, ti in zip(y_pred, y_true):\n",
    "        if pi == ti == COMPLEX:  # TP\n",
    "            TP += 1\n",
    "        if pi == SIMPLE and ti == COMPLEX:\n",
    "            FN += 1\n",
    "    return TP / (TP + FN)\n",
    "\n",
    "\n",
    "## Calculates the f-score of the predicted labels\n",
    "def get_fscore(y_pred, y_true):\n",
    "    precision = get_precision(y_pred, y_true)\n",
    "    recall = get_recall(y_pred, y_true)\n",
    "    return 2 * (precision * recall) / (precision + recall)\n",
    "\n",
    "def test_predictions(y_pred, y_true):\n",
    "    recall = get_recall(y_pred, y_true)\n",
    "    precision = get_precision(y_pred, y_true)\n",
    "    fscore = get_fscore(y_pred, y_true)\n",
    "    print('-------------------------------')\n",
    "    print('Recall = ' + str(recall))\n",
    "    print('Precision = ' + str(precision))\n",
    "    print('Fscore = ' + str(fscore))\n",
    "    print('-------------------------------')\n",
    "\n",
    "def print_scores(performance):\n",
    "    precision, recall, fscore = performance\n",
    "    print('Recall = ' + str(round(recall,3)))\n",
    "    print('Precision = ' + str(round(precision,3)))\n",
    "    print('Fscore = ' + str(round(fscore,3)))\n",
    "\n"
   ]
  },
  {
   "cell_type": "markdown",
   "metadata": {
    "colab_type": "text",
    "id": "G7lWWWjb_P2N"
   },
   "source": [
    "### 1.2"
   ]
  },
  {
   "cell_type": "code",
   "execution_count": 0,
   "metadata": {
    "colab": {},
    "colab_type": "code",
    "id": "2xMMCs3G_P2T"
   },
   "outputs": [],
   "source": [
    "def load_file(data_file):\n",
    "    words = []\n",
    "    labels = []\n",
    "    with open(data_file, 'rt', encoding=\"utf8\") as f:\n",
    "        i = 0\n",
    "        for line in f:\n",
    "            if i > 0:\n",
    "                line_split = line[:-1].split(\"\\t\")\n",
    "                words.append(line_split[0].lower())\n",
    "                labels.append(int(line_split[1]))\n",
    "            i += 1\n",
    "    return words, labels\n",
    "\n",
    "test_file = '../data/complex_words_test_unlabeled.txt'\n",
    "development_file = '../data/complex_words_development.txt'\n",
    "training_file = '../data/complex_words_training.txt'"
   ]
  },
  {
   "cell_type": "markdown",
   "metadata": {
    "colab_type": "text",
    "id": "gOKH3ZqS_P2Z"
   },
   "source": [
    "#### 1.2.1: A very simple baseline\n"
   ]
  },
  {
   "cell_type": "code",
   "execution_count": 0,
   "metadata": {
    "colab": {},
    "colab_type": "code",
    "id": "SyMdsUVE_P2b",
    "outputId": "5bd6020b-129d-4f8c-80ab-c2be6eba0486"
   },
   "outputs": [
    {
     "name": "stdout",
     "output_type": "stream",
     "text": [
      "Recall = 1.0\n",
      "Precision = 0.433\n",
      "Fscore = 0.604\n"
     ]
    }
   ],
   "source": [
    "## Labels every word complex\n",
    "def all_complex(data_file):\n",
    "    words, y_true = load_file(data_file)\n",
    "    y_pred = [1] * len(words)\n",
    "    recall = get_recall(y_pred, y_true)\n",
    "    precision = get_precision(y_pred, y_true)\n",
    "    fscore = get_fscore(y_pred, y_true)\n",
    "    performance = [precision, recall, fscore]\n",
    "   # test_predictions(y_pred, y_true)\n",
    "    return performance\n",
    "\n",
    "\n",
    "print_scores(all_complex(training_file))"
   ]
  },
  {
   "cell_type": "markdown",
   "metadata": {
    "colab_type": "text",
    "id": "Wn1jFyDI_P2m"
   },
   "source": [
    "As we can see, recall = 1 becuase we labeled all words as complex words"
   ]
  },
  {
   "cell_type": "markdown",
   "metadata": {
    "colab_type": "text",
    "id": "gtDEqiK5_P2p"
   },
   "source": [
    "#### 1.2.2\n",
    "We will find the best threshold’s performance on both the training and development data,\n",
    "by finding the maximum fscore value on several thresholds. "
   ]
  },
  {
   "cell_type": "markdown",
   "metadata": {
    "colab_type": "text",
    "id": "KWYg2OnG_P2t"
   },
   "source": [
    "We will try to find the best threshold among $0...min\\{max\\{len_{train}(word_i)\\},max\\{len_{dev}(word_j)\\}\\}$ values. In a case that the threshold is equal or bigger then the maximum word length we will label all words as simple and the denominator of the precision which is all of the complex words that we have predicted will be zero. So we will choose the maximum threshold to be $min\\{max\\{len_{train}(word_i)\\},max\\{len_{dev}(word_j)\\}\\}$ "
   ]
  },
  {
   "cell_type": "code",
   "execution_count": 0,
   "metadata": {
    "colab": {},
    "colab_type": "code",
    "id": "CDt5BgBI_P22"
   },
   "outputs": [],
   "source": [
    "train_precisions = []\n",
    "train_recalls = []\n",
    "dev_precisions = []\n",
    "dev_recalls = []\n",
    "    \n",
    "\n",
    "def info_for_plotting(training_performance,development_performance):\n",
    "    tprecision, trecall, tfscore = training_performance\n",
    "    dprecision, drecall, dfscore = development_performance\n",
    "    train_precisions.append(tprecision)\n",
    "    train_recalls.append(trecall)\n",
    "    dev_precisions.append(dprecision)\n",
    "    dev_recalls.append(drecall)\n",
    "    \n",
    "def predict_by_threshold(t_words, t_y_true, d_words,d_y_true,threshold):\n",
    "    performance_functions= [get_precision, get_recall, get_fscore]\n",
    "    is_longer = lambda word: COMPLEX if len(word) > threshold else SIMPLE\n",
    "    get_performance = lambda preds, labels: list(map(lambda f: f(preds, labels), performance_functions))\n",
    "    \n",
    "    t_prediction_labels = list(map(is_longer ,t_words))\n",
    "    d_prediction_labels = list(map(is_longer ,d_words))\n",
    "\n",
    "    return get_performance(t_prediction_labels, t_y_true), get_performance(d_prediction_labels, d_y_true)\n",
    "\n",
    "def word_length_threshold(training_file, development_file):\n",
    "    t_words, t_y_true = load_file(training_file)\n",
    "    d_words, d_y_true = load_file(development_file)\n",
    "    max_threshold = min(max(list(map(len,t_words))),max(list(map(len,d_words))))\n",
    "    max_train_fscore = 0\n",
    "    max_dev_fscore = 0\n",
    "    best_train_performance = []\n",
    "    best_dev_performance = []\n",
    "    \n",
    "    for threshold in range(0,max_threshold):\n",
    "        training_performance, development_performance = predict_by_threshold(t_words, t_y_true,d_words, d_y_true,threshold)\n",
    "        tprecision, trecall, tfscore = training_performance\n",
    "        dprecision, drecall, dfscore = development_performance\n",
    "\n",
    "        if tfscore>max_train_fscore:\n",
    "            max_train_fscore = tfscore\n",
    "            best_train_performance = [training_performance,threshold]\n",
    "        if dfscore>max_dev_fscore:\n",
    "            max_dev_fscore = dfscore\n",
    "            best_dev_performance = [development_performance,threshold]\n",
    "            \n",
    "        #for plotting :\n",
    "        info_for_plotting(training_performance,development_performance)\n",
    "\n",
    "    return best_train_performance,best_dev_performance"
   ]
  },
  {
   "cell_type": "code",
   "execution_count": 0,
   "metadata": {
    "colab": {},
    "colab_type": "code",
    "id": "Y6sNB02U_P2-",
    "outputId": "5db238ae-ad3c-4aab-ba3f-d9cb234f208a"
   },
   "outputs": [
    {
     "name": "stdout",
     "output_type": "stream",
     "text": [
      "Train best threshold: 6\n",
      "Recall = 0.844\n",
      "Precision = 0.601\n",
      "Fscore = 0.702\n",
      "\n",
      "Dev best threshold: 6\n",
      "Recall = 0.866\n",
      "Precision = 0.605\n",
      "Fscore = 0.713\n"
     ]
    }
   ],
   "source": [
    "train_info,dev_info = word_length_threshold(training_file,development_file)\n",
    "train_performance , train_threshold = train_info\n",
    "dev_performance , dev_threshold = dev_info\n",
    "print('Train best threshold: ' + str(train_threshold))\n",
    "print_scores(train_performance)\n",
    "print()\n",
    "print('Dev best threshold: ' + str(dev_threshold))\n",
    "print_scores(dev_performance)"
   ]
  },
  {
   "cell_type": "markdown",
   "metadata": {
    "colab_type": "text",
    "id": "SUR05asl_P3R"
   },
   "source": [
    "Now, we will plot the Precision-Recall curve for the various thresholds that we have tried"
   ]
  },
  {
   "cell_type": "code",
   "execution_count": 0,
   "metadata": {
    "colab": {},
    "colab_type": "code",
    "id": "0f8aVA7b_P3a",
    "outputId": "1217c3cf-4b63-4eab-f4a7-31a2c8ce56cb"
   },
   "outputs": [
    {
     "name": "stderr",
     "output_type": "stream",
     "text": [
      "/usr/local/lib/python3.6/site-packages/scipy/stats/stats.py:1713: FutureWarning: Using a non-tuple sequence for multidimensional indexing is deprecated; use `arr[tuple(seq)]` instead of `arr[seq]`. In the future this will be interpreted as an array index, `arr[np.array(seq)]`, which will result either in an error or a different result.\n",
      "  return np.add.reduce(sorted[indexer] * weights, axis=axis) / sumval\n"
     ]
    },
    {
     "data": {
      "image/png": "[encoded data removed]",
      "text/plain": [
       "<Figure size 432x288 with 1 Axes>"
      ]
     },
     "metadata": {
      "needs_background": "light",
      "tags": []
     },
     "output_type": "display_data"
    }
   ],
   "source": [
    "def plot_preision_recall(train_recalls,train_precisions,dev_recalls,dev_precisions,title=\"\"): \n",
    "    plt.xlabel(\"Recall\")\n",
    "    plt.ylabel(\"Precision\")\n",
    "    plt.title(title)\n",
    "    sns.lineplot(train_recalls, train_precisions,label='train') \n",
    "    sns.lineplot(dev_recalls,dev_precisions,label='dev')  \n",
    "    plt.legend(loc='best')\n",
    "    plt.show()\n",
    "    \n",
    "plot_preision_recall(train_recalls,train_precisions,dev_recalls,dev_precisions,\" tresholds 0 - 18\")"
   ]
  },
  {
   "cell_type": "markdown",
   "metadata": {
    "colab_type": "text",
    "id": "uYW4l--c_P3m"
   },
   "source": [
    "As we expected, the plot above is representing the trade off between precision and recall.<br>\n",
    "We can see that until a specific point the recall and the precision are improving but from this point as much as the recall $\\to1$ then the precision $\\to0$. <br>\n",
    "Another thing that we can see at $treshhold = 18$ on the development set,  the recall is zero and the precision is 1 (perfect). That's means we taged all the words as ```SIMPLE```. Notice that it's expected because the maximum word length is$18$.\n",
    "Also, we can see that the train and dev are behaving similarly."
   ]
  },
  {
   "cell_type": "markdown",
   "metadata": {
    "colab_type": "text",
    "id": "TBdtkxNn_P3n"
   },
   "source": [
    "#### 1.2.3: Word frequency thresholding"
   ]
  },
  {
   "cell_type": "code",
   "execution_count": 0,
   "metadata": {
    "colab": {},
    "colab_type": "code",
    "id": "prHQ_M35_P3q"
   },
   "outputs": [],
   "source": [
    "## Loads Google NGram counts\n",
    "def load_ngram_counts(ngram_counts_file):\n",
    "    counts = defaultdict(int)\n",
    "    with gzip.open(ngram_counts_file, 'rt', errors='ignore') as f:\n",
    "        for line in f:\n",
    "            token, count = line.strip().split('\\t')\n",
    "            if token[0].islower():\n",
    "                counts[token] = int(count)\n",
    "    return counts"
   ]
  },
  {
   "cell_type": "code",
   "execution_count": 0,
   "metadata": {
    "colab": {},
    "colab_type": "code",
    "id": "luxA0Wkl_P30"
   },
   "outputs": [],
   "source": [
    "counts = load_ngram_counts('../data/ngram_counts.txt.gz')"
   ]
  },
  {
   "cell_type": "markdown",
   "metadata": {
    "colab_type": "text",
    "id": "FuZAOqe4_P39"
   },
   "source": [
    "We assume that complex words frequency will be smaller then simple words. \n",
    "So every word count that below threshold will be labeled as complex."
   ]
  },
  {
   "cell_type": "code",
   "execution_count": 0,
   "metadata": {
    "colab": {},
    "colab_type": "code",
    "id": "Zy20SRTs_P3_"
   },
   "outputs": [],
   "source": [
    "\n",
    "# Finds the best frequency threshold by f-score, and uses this threshold to\n",
    "## classify the training and development set\n",
    "def word_frequency_threshold(training_file, development_file, counts):\n",
    "    t_words, t_y_true = load_file(training_file)\n",
    "    d_words, d_y_true = load_file(development_file)\n",
    "    count = lambda word : counts[word]\n",
    "    max_threshold = min(max(list(map(count,t_words))),max(list(map(count,d_words))))\n",
    "    min_threshold = max(min(list(map(count,t_words))),min(list(map(count,d_words))))\n",
    "    \n",
    "    max_train_fscore = 0\n",
    "    max_dev_fscore = 0\n",
    "    best_train_performance = []\n",
    "    best_dev_performance = []\n",
    "    \n",
    "    for threshold in range(1000000,50000000, 10000):\n",
    "        training_performance, development_performance = predict_by_threshold(t_words, t_y_true,d_words, d_y_true,counts,threshold)\n",
    "        tprecision, trecall, tfscore = training_performance\n",
    "        dprecision, drecall, dfscore = development_performance\n",
    "\n",
    "        if tfscore>max_train_fscore:\n",
    "            max_train_fscore = tfscore\n",
    "            best_train_performance = [training_performance,threshold]\n",
    "        if dfscore>max_dev_fscore:\n",
    "            max_dev_fscore = dfscore\n",
    "            best_dev_performance = [development_performance,threshold]\n",
    "            \n",
    "        #for plotting :\n",
    "        info_for_plotting(training_performance,development_performance)\n",
    "    return best_train_performance,best_dev_performance\n",
    "\n",
    "\n",
    "def predict_by_threshold(t_words, t_y_true, d_words,d_y_true,counts,threshold):\n",
    "    performance_functions= [get_precision, get_recall, get_fscore]\n",
    "    is_longer = lambda word: COMPLEX if counts[word] < threshold else SIMPLE\n",
    "    get_performance = lambda preds, labels: list(map(lambda f: f(preds, labels), performance_functions))\n",
    "    \n",
    "    t_prediction_labels = list(map(is_longer ,t_words))\n",
    "    d_prediction_labels = list(map(is_longer ,d_words))\n",
    "\n",
    "    return get_performance(t_prediction_labels, t_y_true), get_performance(d_prediction_labels, d_y_true)"
   ]
  },
  {
   "cell_type": "code",
   "execution_count": 0,
   "metadata": {
    "colab": {},
    "colab_type": "code",
    "id": "2wwSCrZ7_P4J",
    "outputId": "fa0596d2-bec3-4695-db4c-4b99ee28f14c"
   },
   "outputs": [
    {
     "name": "stdout",
     "output_type": "stream",
     "text": [
      "Train best threshold: 19840000\n",
      "Recall = 0.816\n",
      "Precision = 0.566\n",
      "Fscore = 0.668\n",
      "\n",
      "Dev best threshold: 14880000\n",
      "Recall = 0.811\n",
      "Precision = 0.582\n",
      "Fscore = 0.678\n"
     ]
    }
   ],
   "source": [
    "# range(1000000,50000000, 10000)\n",
    "train_info,dev_info = word_frequency_threshold(training_file,development_file,counts)\n",
    "train_performance , train_threshold = train_info\n",
    "dev_performance , dev_threshold = dev_info\n",
    "print('Train best threshold: ' + str(train_threshold))\n",
    "print_scores(train_performance)\n",
    "print()\n",
    "print('Dev best threshold: ' + str(dev_threshold))\n",
    "print_scores(dev_performance)"
   ]
  },
  {
   "cell_type": "code",
   "execution_count": 0,
   "metadata": {
    "colab": {},
    "colab_type": "code",
    "id": "xPOn4TTS_P4R",
    "outputId": "ef041762-dad9-44da-d831-8a0e363a7bf9",
    "scrolled": true
   },
   "outputs": [
    {
     "data": {
      "image/png": "[encoded data removed]",
      "text/plain": [
       "<Figure size 432x288 with 1 Axes>"
      ]
     },
     "metadata": {
      "needs_background": "light",
      "tags": []
     },
     "output_type": "display_data"
    }
   ],
   "source": [
    "plot_preision_recall(train_recalls,train_precisions,dev_recalls,dev_precisions)"
   ]
  },
  {
   "cell_type": "markdown",
   "metadata": {
    "colab_type": "text",
    "id": "pXkOUgB2D6tt"
   },
   "source": [
    "### 1.3. Classifiers"
   ]
  },
  {
   "cell_type": "markdown",
   "metadata": {
    "colab_type": "text",
    "id": "69kHw786_P4f"
   },
   "source": [
    "#### 1.3.1: Naive Bayes\n"
   ]
  },
  {
   "cell_type": "code",
   "execution_count": 0,
   "metadata": {
    "colab": {},
    "colab_type": "code",
    "id": "5vwXwKw4_P4m"
   },
   "outputs": [],
   "source": [
    "def extract_features(words,counts):\n",
    "    words_counts = list(map(lambda word:counts[word],words))\n",
    "    words_length = list(map(len,words))\n",
    "    X_train = zip(words_length,words_counts)\n",
    "    return np.array(list(map(list,X_train)))\n",
    "    \n",
    "def norm(X,data):\n",
    "    mean = np.mean(data,axis=0)\n",
    "    std = np.std(data,axis=0)\n",
    "    return (X-mean) / std\n",
    "\n",
    "## Trains a Naive Bayes classifier using length and frequency features\n",
    "def naive_bayes(training_file, development_file, counts):\n",
    "    X_train,Y_train = load_file(training_file)\n",
    "    X_dev, Y_dev = load_file(development_file)\n",
    "    \n",
    "    X_train = extract_features(X_train,counts)\n",
    "    X_dev = extract_features(X_dev,counts)\n",
    "\n",
    "    X_dev = norm(X_dev,X_train)\n",
    "    X_train = norm(X_train,X_train)\n",
    "\n",
    "    clf = GaussianNB()\n",
    "    clf.fit(X_train, Y_train)\n",
    "    \n",
    "    performance_functions = [get_precision, get_recall, get_fscore]\n",
    "    get_performance = lambda preds, labels: list(map(lambda f: f(preds, labels), performance_functions))\n",
    "    train_preds = clf.predict(X_train)\n",
    "    dev_preds = clf.predict(X_dev)\n",
    "    return get_performance(train_preds,Y_train), get_performance(dev_preds,Y_dev)\n"
   ]
  },
  {
   "cell_type": "code",
   "execution_count": 0,
   "metadata": {
    "colab": {},
    "colab_type": "code",
    "id": "QxbWAEMh_P4x",
    "outputId": "994ee1cd-cff8-4337-fa67-6b724d10b64f"
   },
   "outputs": [
    {
     "name": "stdout",
     "output_type": "stream",
     "text": [
      "Train\n",
      "Recall = 0.98\n",
      "Precision = 0.495\n",
      "Fscore = 0.658\n",
      "\n",
      "Dev\n",
      "Recall = 0.969\n",
      "Precision = 0.469\n",
      "Fscore = 0.632\n"
     ]
    }
   ],
   "source": [
    "train_info,dev_info = naive_bayes(training_file,development_file,counts)\n",
    "print('Train')\n",
    "print_scores(train_info)\n",
    "print()\n",
    "print('Dev')\n",
    "print_scores(dev_info)"
   ]
  },
  {
   "cell_type": "markdown",
   "metadata": {
    "colab_type": "text",
    "id": "6rey145E_P5D"
   },
   "source": [
    "Recall is getting better in this model but the precision is doing worse. This meas that the model is taggin more words as complex words then the two previous classifiers. But not in a \"smart\" way. I mean the model is getting colser to a naive classifer that tag all the words as complex.\n"
   ]
  },
  {
   "cell_type": "markdown",
   "metadata": {
    "colab_type": "text",
    "id": "ARCY1Ik_FBbD"
   },
   "source": []
  },
  {
   "cell_type": "markdown",
   "metadata": {
    "colab_type": "text",
    "id": "MlH8Qjzd_P5H"
   },
   "source": [
    "### 1.4: Ambiguity\n"
   ]
  },
  {
   "cell_type": "code",
   "execution_count": 0,
   "metadata": {
    "colab": {},
    "colab_type": "code",
    "id": "5OfqV8yz_P5I"
   },
   "outputs": [],
   "source": [
    "def load_file_with_context(data_file):\n",
    "    words = []\n",
    "    labels = []\n",
    "    context = []\n",
    "    with open(data_file, 'rt', encoding=\"utf8\") as f:\n",
    "        i = 0\n",
    "        for line in f:\n",
    "            if i > 0:\n",
    "                line_split = line[:-1].split(\"\\t\")\n",
    "                words.append(line_split[0].lower())\n",
    "                labels.append(int(line_split[1]))\n",
    "                context.append(line_split[3])\n",
    "            i += 1\n",
    "    return words, labels, context\n",
    "\n",
    "def get_context_sensitive(words, y_true, contexts):\n",
    "    map_words = {}\n",
    "    for word, label, context in zip(words,y_true,contexts):\n",
    "        if word in map_words:\n",
    "            if map_words[word][0][0] != label:\n",
    "                map_words[word].append([label,context])\n",
    "        else:\n",
    "            map_words[word] = [[label,context]]\n",
    "    \n",
    "    context_sensitive_words = {}\n",
    "    for word,context in map_words.items():\n",
    "        if len(context) > 1: # that's sensitive\n",
    "            context_sensitive_words[word] = [context[0][1],context[1][1]]\n",
    "    return pd.DataFrame.from_dict(context_sensitive_words)"
   ]
  },
  {
   "cell_type": "code",
   "execution_count": 0,
   "metadata": {
    "colab": {},
    "colab_type": "code",
    "id": "JcZZQ1xW_P5U"
   },
   "outputs": [],
   "source": [
    "words, y_true, contexts = load_file_with_context(training_file)"
   ]
  },
  {
   "cell_type": "code",
   "execution_count": 0,
   "metadata": {
    "colab": {},
    "colab_type": "code",
    "id": "eiBHJc2e_P5d",
    "outputId": "055df006-20dc-430b-9a6d-73d9d1333f1c",
    "scrolled": true
   },
   "outputs": [
    {
     "data": {
      "text/html": [
       "<div>\n",
       "<style scoped>\n",
       "    .dataframe tbody tr th:only-of-type {\n",
       "        vertical-align: middle;\n",
       "    }\n",
       "\n",
       "    .dataframe tbody tr th {\n",
       "        vertical-align: top;\n",
       "    }\n",
       "\n",
       "    .dataframe thead th {\n",
       "        text-align: right;\n",
       "    }\n",
       "</style>\n",
       "<table border=\"1\" class=\"dataframe\">\n",
       "  <thead>\n",
       "    <tr style=\"text-align: right;\">\n",
       "      <th></th>\n",
       "      <th>campaign</th>\n",
       "      <th>element</th>\n",
       "      <th>inspired</th>\n",
       "      <th>district</th>\n",
       "      <th>commissioner</th>\n",
       "      <th>opponents</th>\n",
       "      <th>sprouts</th>\n",
       "      <th>league</th>\n",
       "      <th>hoverboard</th>\n",
       "      <th>slavery</th>\n",
       "      <th>indy</th>\n",
       "    </tr>\n",
       "  </thead>\n",
       "  <tbody>\n",
       "    <tr>\n",
       "      <th>0</th>\n",
       "      <td>`` Given the way the meeting transpired , '' R...</td>\n",
       "      <td>Element 118 , for example , is the heaviest el...</td>\n",
       "      <td>Miguel Castañeda started Tech Connect in 2009 ...</td>\n",
       "      <td>Now 80 and a resident of the Park La Brea comp...</td>\n",
       "      <td>`` As we have indicated earlier , another laws...</td>\n",
       "      <td>`` I love droppin ' 'em , '' she says about op...</td>\n",
       "      <td>The scientists were initially skeptical about ...</td>\n",
       "      <td>Tom Brady has been an NFL golden boy , with mo...</td>\n",
       "      <td>`` Hoverboard is on fire , '' he says in a vid...</td>\n",
       "      <td>Slavery was a `` side issue to the Civil War ,...</td>\n",
       "      <td>`` If you want to learn how to run Indy cars ,...</td>\n",
       "    </tr>\n",
       "    <tr>\n",
       "      <th>1</th>\n",
       "      <td>The campaign around the Maine Bear Hunting Ban...</td>\n",
       "      <td>Arturo Sanchez is in his element .</td>\n",
       "      <td>Inspired by their courage , demonstrators acro...</td>\n",
       "      <td>Before the jurors began their deliberations , ...</td>\n",
       "      <td>NFL Commissioner Roger Goodell said he issued ...</td>\n",
       "      <td>Opponents led by a group called Save Maine 's ...</td>\n",
       "      <td>An apple can kill , a sprinkle of sprouts can ...</td>\n",
       "      <td>One piece of that market , e-sport multiplayer...</td>\n",
       "      <td>Timothy Cade had only owned his hoverboard for...</td>\n",
       "      <td>And when it comes to the Civil War , children ...</td>\n",
       "      <td>`` If you want to learn how to run Indy cars ,...</td>\n",
       "    </tr>\n",
       "  </tbody>\n",
       "</table>\n",
       "</div>"
      ],
      "text/plain": [
       "                                            campaign  \\\n",
       "0  `` Given the way the meeting transpired , '' R...   \n",
       "1  The campaign around the Maine Bear Hunting Ban...   \n",
       "\n",
       "                                             element  \\\n",
       "0  Element 118 , for example , is the heaviest el...   \n",
       "1                 Arturo Sanchez is in his element .   \n",
       "\n",
       "                                            inspired  \\\n",
       "0  Miguel Castañeda started Tech Connect in 2009 ...   \n",
       "1  Inspired by their courage , demonstrators acro...   \n",
       "\n",
       "                                            district  \\\n",
       "0  Now 80 and a resident of the Park La Brea comp...   \n",
       "1  Before the jurors began their deliberations , ...   \n",
       "\n",
       "                                        commissioner  \\\n",
       "0  `` As we have indicated earlier , another laws...   \n",
       "1  NFL Commissioner Roger Goodell said he issued ...   \n",
       "\n",
       "                                           opponents  \\\n",
       "0  `` I love droppin ' 'em , '' she says about op...   \n",
       "1  Opponents led by a group called Save Maine 's ...   \n",
       "\n",
       "                                             sprouts  \\\n",
       "0  The scientists were initially skeptical about ...   \n",
       "1  An apple can kill , a sprinkle of sprouts can ...   \n",
       "\n",
       "                                              league  \\\n",
       "0  Tom Brady has been an NFL golden boy , with mo...   \n",
       "1  One piece of that market , e-sport multiplayer...   \n",
       "\n",
       "                                          hoverboard  \\\n",
       "0  `` Hoverboard is on fire , '' he says in a vid...   \n",
       "1  Timothy Cade had only owned his hoverboard for...   \n",
       "\n",
       "                                             slavery  \\\n",
       "0  Slavery was a `` side issue to the Civil War ,...   \n",
       "1  And when it comes to the Civil War , children ...   \n",
       "\n",
       "                                                indy  \n",
       "0  `` If you want to learn how to run Indy cars ,...  \n",
       "1  `` If you want to learn how to run Indy cars ,...  "
      ]
     },
     "execution_count": 45,
     "metadata": {
      "tags": []
     },
     "output_type": "execute_result"
    }
   ],
   "source": [
    "get_context_sensitive(words, y_true, contexts)"
   ]
  },
  {
   "cell_type": "markdown",
   "metadata": {
    "colab_type": "text",
    "id": "KeTBI8TH_P5u"
   },
   "source": [
    "Let's look on the word 'campaign' which is context sensetive according to our code.<br>\n",
    "This word occurs in two different contexts:\n",
    "1. SIMPLE<br>\n",
    "Given the way the meeting transpired,  Ray Halbritter , an Oneida representative and leader of the Change the Mascot ``Campaign``,  said Wednesday,  it became somewhat evident they were defending the continued use of the name.\n",
    "2. COMPLEX<br>\n",
    "The ``campaign`` around the Maine Bear Hunting Ban Initiative , which will appear on the ballot as Question 1 , has shed light on Maine 's unique status in the wildlife world \n"
   ]
  },
  {
   "cell_type": "markdown",
   "metadata": {
    "colab_type": "text",
    "id": "_DgJSd7m_P54"
   },
   "source": [
    "## 2 Document Classification\n"
   ]
  },
  {
   "cell_type": "markdown",
   "metadata": {
    "colab_type": "text",
    "id": "IZ2pMVYQJn7a"
   },
   "source": [
    "### 2.1. Reuters Dataset"
   ]
  },
  {
   "cell_type": "markdown",
   "metadata": {
    "colab_type": "text",
    "id": "Wan-h8VM_P56"
   },
   "source": [
    "#### 2.1.1 \n",
    "We will explore how many documents are in the dataset, how many categories, how many documents per categories, and will provide mean and standard deviation, min and max. "
   ]
  },
  {
   "cell_type": "code",
   "execution_count": 0,
   "metadata": {
    "colab": {},
    "colab_type": "code",
    "id": "1lWU3Q7u_P6E"
   },
   "outputs": [],
   "source": [
    "from __future__ import print_function\n",
    "from glob import glob\n",
    "import itertools\n",
    "import os.path\n",
    "import re\n",
    "import tarfile\n",
    "import time\n",
    "import sys\n",
    "\n",
    "import numpy as np\n",
    "import matplotlib.pyplot as plt\n",
    "from matplotlib import rcParams\n",
    "\n",
    "from sklearn.externals.six.moves import html_parser\n",
    "from sklearn.externals.six.moves.urllib.request import urlretrieve\n",
    "from sklearn.datasets import get_data_home\n",
    "from sklearn.feature_extraction.text import HashingVectorizer\n",
    "from sklearn.linear_model import SGDClassifier\n",
    "from sklearn.linear_model import PassiveAggressiveClassifier\n",
    "from sklearn.linear_model import Perceptron\n",
    "from sklearn.naive_bayes import MultinomialNB\n",
    "\n",
    "\n",
    "def _not_in_sphinx():\n",
    "    # Hack to detect whether we are running by the sphinx builder\n",
    "    return '__file__' in globals()\n",
    "\n",
    "class ReutersParser(html_parser.HTMLParser):\n",
    "    \"\"\"Utility class to parse a SGML file and yield documents one at a time.\"\"\"\n",
    "\n",
    "    def __init__(self, encoding='latin-1'):\n",
    "        html_parser.HTMLParser.__init__(self)\n",
    "        self._reset()\n",
    "        self.encoding = encoding\n",
    "\n",
    "    def handle_starttag(self, tag, attrs):\n",
    "        method = 'start_' + tag\n",
    "        getattr(self, method, lambda x: None)(attrs)\n",
    "\n",
    "    def handle_endtag(self, tag):\n",
    "        method = 'end_' + tag\n",
    "        getattr(self, method, lambda: None)()\n",
    "\n",
    "    def _reset(self):\n",
    "        self.in_title = 0\n",
    "        self.in_body = 0\n",
    "        self.in_topics = 0\n",
    "        self.in_topic_d = 0\n",
    "        self.title = \"\"\n",
    "        self.body = \"\"\n",
    "        self.topics = []\n",
    "        self.topic_d = \"\"\n",
    "\n",
    "    def parse(self, fd):\n",
    "        self.docs = []\n",
    "        for chunk in fd:\n",
    "            self.feed(chunk.decode(self.encoding))\n",
    "            for doc in self.docs:\n",
    "                yield doc\n",
    "            self.docs = []\n",
    "        self.close()\n",
    "\n",
    "    def handle_data(self, data):\n",
    "        if self.in_body:\n",
    "            self.body += data\n",
    "        elif self.in_title:\n",
    "            self.title += data\n",
    "        elif self.in_topic_d:\n",
    "            self.topic_d += data\n",
    "\n",
    "    def start_reuters(self, attributes):\n",
    "        pass\n",
    "\n",
    "    def end_reuters(self):\n",
    "        self.body = re.sub(r'\\s+', r' ', self.body)\n",
    "        self.docs.append({'title': self.title,\n",
    "                          'body': self.body,\n",
    "                          'topics': self.topics})\n",
    "        self._reset()\n",
    "\n",
    "    def start_title(self, attributes):\n",
    "        self.in_title = 1\n",
    "\n",
    "    def end_title(self):\n",
    "        self.in_title = 0\n",
    "\n",
    "    def start_body(self, attributes):\n",
    "        self.in_body = 1\n",
    "\n",
    "    def end_body(self):\n",
    "        self.in_body = 0\n",
    "\n",
    "    def start_topics(self, attributes):\n",
    "        self.in_topics = 1\n",
    "\n",
    "    def end_topics(self):\n",
    "        self.in_topics = 0\n",
    "\n",
    "    def start_d(self, attributes):\n",
    "        self.in_topic_d = 1\n",
    "\n",
    "    def end_d(self):\n",
    "        self.in_topic_d = 0\n",
    "        self.topics.append(self.topic_d)\n",
    "        self.topic_d = \"\"\n",
    "\n",
    "\n",
    "def stream_reuters_documents(data_path=None):\n",
    "    \"\"\"Iterate over documents of the Reuters dataset.\n",
    "\n",
    "    The Reuters archive will automatically be downloaded and uncompressed if\n",
    "    the `data_path` directory does not exist.\n",
    "\n",
    "    Documents are represented as dictionaries with 'body' (str),\n",
    "    'title' (str), 'topics' (list(str)) keys.\n",
    "\n",
    "    \"\"\"\n",
    "\n",
    "    DOWNLOAD_URL = ('http://archive.ics.uci.edu/ml/machine-learning-databases/'\n",
    "                    'reuters21578-mld/reuters21578.tar.gz')\n",
    "    ARCHIVE_FILENAME = 'reuters21578.tar.gz'\n",
    "\n",
    "    if data_path is None:\n",
    "        data_path = os.path.join(get_data_home(), \"reuters\")\n",
    "    if not os.path.exists(data_path):\n",
    "        \"\"\"Download the dataset.\"\"\"\n",
    "        print(\"downloading dataset (once and for all) into %s\" %\n",
    "              data_path)\n",
    "        os.mkdir(data_path)\n",
    "\n",
    "        def progress(blocknum, bs, size):\n",
    "            total_sz_mb = '%.2f MB' % (size / 1e6)\n",
    "            current_sz_mb = '%.2f MB' % ((blocknum * bs) / 1e6)\n",
    "            if _not_in_sphinx():\n",
    "                sys.stdout.write(\n",
    "                    '\\rdownloaded %s / %s' % (current_sz_mb, total_sz_mb))\n",
    "\n",
    "        archive_path = os.path.join(data_path, ARCHIVE_FILENAME)\n",
    "        urlretrieve(DOWNLOAD_URL, filename=archive_path,\n",
    "                    reporthook=progress)\n",
    "        if _not_in_sphinx():\n",
    "            sys.stdout.write('\\r')\n",
    "        print(\"untarring Reuters dataset...\")\n",
    "        tarfile.open(archive_path, 'r:gz').extractall(data_path)\n",
    "        print(\"done.\")\n",
    "\n",
    "    parser = ReutersParser()\n",
    "    for filename in glob(os.path.join(data_path, \"*.sgm\")):\n",
    "        for doc in parser.parse(open(filename, 'rb')):\n",
    "            yield doc"
   ]
  },
  {
   "cell_type": "markdown",
   "metadata": {
    "colab_type": "text",
    "id": "pHwmtwZw_P6O"
   },
   "source": [
    "Our own 'get_minibatch' returns list of tuples of the form (doc,[categories...]) by given batch_size "
   ]
  },
  {
   "cell_type": "code",
   "execution_count": 0,
   "metadata": {
    "colab": {},
    "colab_type": "code",
    "id": "tXPEJLFu_P6P"
   },
   "outputs": [],
   "source": [
    "import itertools\n",
    "\n",
    "def get_minibatch(doc_iter, size):\n",
    "    \"\"\"Extract a minibatch of examples, return a tuple X_text, y.\n",
    "\n",
    "    Note: size is before excluding invalid docs with no topics assigned.\n",
    "\n",
    "    \"\"\"\n",
    "\n",
    "    data = [(u'{title}\\n\\n{body}'.format(**doc),doc['topics'])\n",
    "            for doc in itertools.islice(doc_iter, size) if doc['topics'] ]\n",
    "    return data\n",
    "\n",
    "\n",
    "def iter_minibatches(doc_iter, minibatch_size):\n",
    "    \"\"\"Generator of minibatches.\"\"\"\n",
    "    doc_topics_list = get_minibatch(doc_iter, minibatch_size)\n",
    "    while len(doc_topics_list):\n",
    "        yield doc_topics_list\n",
    "        doc_topics_list = get_minibatch(doc_iter, minibatch_size)"
   ]
  },
  {
   "cell_type": "markdown",
   "metadata": {
    "colab_type": "text",
    "id": "6yJTEaJG_P6U"
   },
   "source": [
    "We are counting every time that category occurs in a given document with a collections.counter"
   ]
  },
  {
   "cell_type": "code",
   "execution_count": 0,
   "metadata": {
    "colab": {},
    "colab_type": "code",
    "id": "s-F3bJSJ_P6V"
   },
   "outputs": [],
   "source": [
    "from collections import defaultdict,Counter\n",
    "category_counter = Counter()\n",
    "download_path = '../data/reuters'\n",
    "doc_iter = stream_reuters_documents(download_path)\n",
    "minibatch_size = 1000\n",
    "for batch in iter_minibatches(doc_iter,minibatch_size):\n",
    "    for (doc,categories) in batch:\n",
    "        for cat in categories:\n",
    "            category_counter[cat]+=1\n",
    "            \n",
    "category_counter = dict(category_counter)\n",
    "number_of_categories  = len(category_counter.keys())\n",
    "categories_count_df = pd.DataFrame(category_counter,index=[0]).T\n",
    "categories_count_df.columns = ['count']"
   ]
  },
  {
   "cell_type": "code",
   "execution_count": 0,
   "metadata": {
    "colab": {},
    "colab_type": "code",
    "id": "-MyF3Ath_P6l"
   },
   "outputs": [],
   "source": [
    "number_of_docs = 0\n",
    "doc_iter = stream_reuters_documents(download_path)\n",
    "for doc in doc_iter:\n",
    "    number_of_docs += 1"
   ]
  },
  {
   "cell_type": "code",
   "execution_count": 0,
   "metadata": {
    "colab": {},
    "colab_type": "code",
    "id": "rWdB2w6c_P6v",
    "outputId": "e70d82b2-70f3-4882-930f-692ae1ea9d4d"
   },
   "outputs": [
    {
     "name": "stdout",
     "output_type": "stream",
     "text": [
      "Number of documents 21578\n"
     ]
    },
    {
     "data": {
      "text/html": [
       "<div>\n",
       "<style scoped>\n",
       "    .dataframe tbody tr th:only-of-type {\n",
       "        vertical-align: middle;\n",
       "    }\n",
       "\n",
       "    .dataframe tbody tr th {\n",
       "        vertical-align: top;\n",
       "    }\n",
       "\n",
       "    .dataframe thead th {\n",
       "        text-align: right;\n",
       "    }\n",
       "</style>\n",
       "<table border=\"1\" class=\"dataframe\">\n",
       "  <thead>\n",
       "    <tr style=\"text-align: right;\">\n",
       "      <th></th>\n",
       "      <th>count</th>\n",
       "    </tr>\n",
       "  </thead>\n",
       "  <tbody>\n",
       "    <tr>\n",
       "      <th>Number of categories (count)</th>\n",
       "      <td>445.000000</td>\n",
       "    </tr>\n",
       "    <tr>\n",
       "      <th>mean</th>\n",
       "      <td>89.871910</td>\n",
       "    </tr>\n",
       "    <tr>\n",
       "      <th>std</th>\n",
       "      <td>644.656909</td>\n",
       "    </tr>\n",
       "    <tr>\n",
       "      <th>min</th>\n",
       "      <td>1.000000</td>\n",
       "    </tr>\n",
       "    <tr>\n",
       "      <th>25%</th>\n",
       "      <td>3.000000</td>\n",
       "    </tr>\n",
       "    <tr>\n",
       "      <th>50%</th>\n",
       "      <td>8.000000</td>\n",
       "    </tr>\n",
       "    <tr>\n",
       "      <th>75%</th>\n",
       "      <td>37.000000</td>\n",
       "    </tr>\n",
       "    <tr>\n",
       "      <th>max</th>\n",
       "      <td>12542.000000</td>\n",
       "    </tr>\n",
       "  </tbody>\n",
       "</table>\n",
       "</div>"
      ],
      "text/plain": [
       "                                     count\n",
       "Number of categories (count)    445.000000\n",
       "mean                             89.871910\n",
       "std                             644.656909\n",
       "min                               1.000000\n",
       "25%                               3.000000\n",
       "50%                               8.000000\n",
       "75%                              37.000000\n",
       "max                           12542.000000"
      ]
     },
     "execution_count": 10,
     "metadata": {
      "tags": []
     },
     "output_type": "execute_result"
    }
   ],
   "source": [
    "print(\"Number of documents \" + str(number_of_docs))\n",
    "exploration_info = categories_count_df.describe()\n",
    "exploration_info.index.values[0] = 'Number of categories (count)'\n",
    "exploration_info"
   ]
  },
  {
   "cell_type": "markdown",
   "metadata": {
    "colab_type": "text",
    "id": "HS4--Ayl_P60"
   },
   "source": [
    "#### 2.1.2\n",
    "Let's count many characters and words are present in the documents of the dataset.\n"
   ]
  },
  {
   "cell_type": "markdown",
   "metadata": {
    "colab_type": "text",
    "id": "79pHlvEI_P61"
   },
   "source": [
    "We will count distinct words (no punctuations and spaces) "
   ]
  },
  {
   "cell_type": "code",
   "execution_count": 0,
   "metadata": {
    "colab": {},
    "colab_type": "code",
    "id": "n5zSwj0X_P63"
   },
   "outputs": [],
   "source": [
    "distinct_words = []\n",
    "number_of_words = 0\n",
    "number_of_chars = 0\n",
    "def words(text): return re.findall(r'\\w+', text.lower())\n",
    "\n",
    "def get_distinct_words(doc):\n",
    "    return set(words(doc))\n",
    "    \n",
    "doc_iter = stream_reuters_documents(download_path)\n",
    "for doc in doc_iter:\n",
    "    doc = u'{title}\\n\\n{body}\\n{topics}'.format(**doc)\n",
    "    number_of_chars += len(doc)\n",
    "    number_of_words += len(words(doc))\n",
    "    distinct_words += get_distinct_words(doc)\n",
    "distinct_words = set(distinct_words)\n",
    "distinct_chars = set()\n",
    "for word in distinct_words:\n",
    "    distinct_chars = distinct_chars.union(set(word))  #split to chars\n",
    "distinct_chars = set(distinct_chars)"
   ]
  },
  {
   "cell_type": "code",
   "execution_count": 0,
   "metadata": {
    "colab": {},
    "colab_type": "code",
    "id": "PuRr28jZ_P69",
    "outputId": "3c831666-d210-4e44-d6b8-9e82f45e37ba"
   },
   "outputs": [
    {
     "name": "stdout",
     "output_type": "stream",
     "text": [
      "Number of words 2,910,221\n",
      "Number of chars 16,864,532\n",
      "Number of distinct words 45,422\n",
      "Number of distinct chars 38\n"
     ]
    }
   ],
   "source": [
    "print('Number of words {:,}'.format(number_of_words))\n",
    "print('Number of chars {:,}'.format(number_of_chars))\n",
    "print('Number of distinct words {:,}'.format(len(distinct_words)))\n",
    "print('Number of distinct chars {:,}'.format(len(distinct_chars)))"
   ]
  },
  {
   "cell_type": "markdown",
   "metadata": {
    "colab_type": "text",
    "id": "o4HWnlgE_P7C"
   },
   "source": [
    "#### 2.1.3\n",
    "The classifiers that support the \"partial-fit\" method are.\n"
   ]
  },
  {
   "cell_type": "markdown",
   "metadata": {
    "colab_type": "text",
    "id": "sSNJ7bz9_P7E"
   },
   "source": [
    "Scikit-learn can be used for classification or other predictions tasks using an out-of-core approach: learning from data that doesn’t fit into main memory by using partial_fit method.<br>\n",
    "partial_fit method will fit online or incremental learning algorithms, because this algorithms can train on a dataset by small batch in each iteration. this allows out-of-core learning.<br>\n",
    "The following algorithms support the partial_fit method :<br>\n",
    ">Classification\n",
    "- sklearn.naive_bayes.MultinomialNB\n",
    "- sklearn.naive_bayes.BernoulliNB\n",
    "- sklearn.linear_model.Perceptron\n",
    "- sklearn.linear_model.SGDClassifier\n",
    "- sklearn.linear_model.PassiveAggressiveClassifier\n",
    "\n",
    ">Regression\n",
    "- sklearn.linear_model.SGDRegressor\n",
    "- sklearn.linear_model.PassiveAggressiveRegressor\n",
    "\n",
    ">Clustering\n",
    "- sklearn.cluster.MiniBatchKMeans\n",
    "\n",
    ">Decomposition / feature Extraction\n",
    "- sklearn.decomposition.MiniBatchDictionaryLearning\n",
    "- sklearn.decomposition.IncrementalPCA\n",
    "- sklearn.cluster.MiniBatchKMeans\n",
    "\n",
    "\n",
    "Further information about the classifiers that used in the given code: <br>\n",
    "\n",
    "1. ```SGD Classifier```: \n",
    "\n",
    "> This estimator implements regularized linear models with stochastic gradient descent (SGD) learning: the gradient of the loss is estimated each sample at a time and the model is updated along the way with a learning rate:\n",
    "\\begin{align}\n",
    "w & = w-\\eta\\nabla Q_i(w) \n",
    "\\end{align}\n",
    "In pseudocode, stochastic gradient descent can be presented as follows:\n",
    "    1. Choose an initial vector of parameters w  and learning rate eta.\n",
    "    2. Repeat until an approximate minimum is obtained:\n",
    "    3. Randomly shuffle examples in the training set.\n",
    "    4. For i=1,2,...,n , do:\n",
    "\\begin{align}\n",
    "w & = w-\\eta\\nabla Q_i(w) \n",
    "\\end{align}\n",
    "It is called stochastic because samples are selected randomly (or shuffled) instead of as a single group (as in standard gradient descent) or in the order they appear in the training set.\n",
    "SGD allows minibatch (online/out-of-core) learning.\n",
    "\n",
    "2. ```PassiveAggressive Classifier```: \n",
    "\n",
    "> Passive Aggressive Algorithm is an online learning algorithms, for both classification and regression. We will focus on the binary classification part. Where the targets are in $[-1, 1]$.\n",
    "Given a weight vector $w$, the prediction is simply:\n",
    "\\begin{align}\n",
    "predY_t = sign(w^T \\cdot{} x_t)\n",
    "\\end{align}\n",
    "In addition the algorithm use the Hinge loss function:\n",
    "\\begin{align}\n",
    "L(θ) = max(0, 1-y_t f(x_t, θ))\n",
    "\\end{align}\n",
    "Where $θ$ is the degree between $x_t$ and $w_t$\n",
    "A Passive-Aggressive algorithm works with the following update rule:\n",
    "\\begin{align}\n",
    "w_{t+1} = w_t + \\frac{max(0, 1-predY_t(w^T \\cdot{} x_t)}{||x_t||^2 + \\frac{1}{2C}} y_t x_t\n",
    "\\end{align}\n",
    "Note that if there’s no misclassification the nominator becomes $0$, so $w_{t+1} = w_t$.  This means that the algorithm is ***passive*** when a correct classification occurs. While, in case of misclassification, $w$ will rotate towards $x_t$. This shows that the update rule becomes very ***aggressive***. In order to allow a degree of tolerance controlled we use the parameter $C$ and stops the rotation with a loss $L <= ξ$.\n",
    "\n",
    "3. ```Perceptron```: \n",
    "\n",
    ">This model takes an input, aggregates it (weighted sum) and returns 1 only if the aggregated sum is more than some threshold else returns 0.<br> \n",
    "Updating the weights will preformed by iterations with the next formula:<br>\n",
    "$r$ is the learning rate<br>\n",
    "$d_j$ desired output <br>\n",
    "$x _j$ input <br>\n",
    "$y_j$ model prediction<br>\n",
    "for all features $0<=i<=n$:\n",
    "\\begin{align}\n",
    " w_{i}(t+1)=w_{i}(t)+r(d_{j} - y_{j}(t))x_{j,i}\n",
    "\\end{align}\n",
    "<br>\n",
    "For offline learning, $y_j$ calculation and weights upadate steps may be repeated until the iteration error MAE\n",
    "is less than a user-specified error threshold.<br>\n",
    "If the training set is linearly separable, then the perceptron is guaranteed to converge. Furthermore, there is an upper bound on the number of times the perceptron will adjust its weights during the training.\n",
    "\n",
    "\n",
    "4. ```MultinomialNB```: \n",
    "\n",
    "> Naive Bayes classifier for multinomial models\n",
    "The multinomial Naive Bayes classifier is suitable for classification with discrete features (e.g., word counts for text classification). The multinomial distribution normally requires integer feature counts."
   ]
  },
  {
   "cell_type": "markdown",
   "metadata": {
    "colab_type": "text",
    "id": "oxr9E_OU_P7F"
   },
   "source": [
    "#### 2.1.4\n",
    "To guarantee that the features space remains the same over time the given code leverage a HashingVectorizer that project each example into the same feature space.<br>\n",
    "It turns a collection of text documents into a matrix holding token occurrence counts.<br>\n",
    "This is especially useful in the case of text classification where new features (words) may appear in each batch and early fitting would be wrong.<br>\n",
    "For exmaple, if we would like to use BoW as a representation for each batch the number of features will likely to be different for each batch."
   ]
  },
  {
   "cell_type": "markdown",
   "metadata": {
    "colab_type": "text",
    "id": "64pCA81q_P7I"
   },
   "source": [
    "### 2.2 Spam Dataset"
   ]
  },
  {
   "cell_type": "code",
   "execution_count": 0,
   "metadata": {
    "colab": {},
    "colab_type": "code",
    "id": "cQwjx74B_P7O"
   },
   "outputs": [],
   "source": [
    "%matplotlib inline\n",
    "import os\n",
    "import sys\n",
    "import numpy\n",
    "from pandas import DataFrame\n",
    "from sklearn.feature_extraction.text import CountVectorizer\n",
    "from sklearn.naive_bayes import MultinomialNB\n",
    "from sklearn.pipeline import Pipeline\n",
    "from sklearn.model_selection import KFold\n",
    "from sklearn.metrics import confusion_matrix, f1_score\n",
    "\n",
    "def progress(i, end_val, bar_length=50):\n",
    "    '''\n",
    "    Print a progress bar of the form: Percent: [#####      ]\n",
    "    i is the current progress value expected in a range [0..end_val]\n",
    "    bar_length is the width of the progress bar on the screen.\n",
    "    '''\n",
    "    percent = float(i) / end_val\n",
    "    hashes = '#' * int(round(percent * bar_length))\n",
    "    spaces = ' ' * (bar_length - len(hashes))\n",
    "    sys.stdout.write(\"\\rPercent: [{0}] {1}%\".format(hashes + spaces, int(round(percent * 100))))\n",
    "    sys.stdout.flush()\n",
    "\n",
    "NEWLINE = '\\n'\n",
    "HAM = 'ham'\n",
    "SPAM = 'spam'\n",
    "\n",
    "SOURCES = [\n",
    "    ('../data/spam/spam',        SPAM),\n",
    "    ('../data/spam/easy_ham',    HAM),\n",
    "    ('../data/spam/hard_ham',    HAM),\n",
    "    ('../data/spam/beck-s',      HAM),\n",
    "    ('../data/spam/farmer-d',    HAM),\n",
    "    ('../data/spam/kaminski-v',  HAM),\n",
    "    ('../data/spam/kitchen-l',   HAM),\n",
    "    ('../data/spam/lokay-m',     HAM),\n",
    "    ('../data/spam/williams-w3', HAM),\n",
    "    ('../data/spam/BG',          SPAM),\n",
    "    ('../data/spam/GP',          SPAM),\n",
    "    ('../data/spam/SH',          SPAM)\n",
    "]\n",
    "\n",
    "SKIP_FILES = {'cmds'}\n",
    "\n",
    "\n",
    "def read_files(path):\n",
    "    '''\n",
    "    Generator of pairs (filename, filecontent)\n",
    "    for all files below path whose name is not in SKIP_FILES.\n",
    "    The content of the file is of the form:\n",
    "        header....\n",
    "        <emptyline>\n",
    "        body...\n",
    "    This skips the headers and returns body only.\n",
    "    '''\n",
    "    for root, dir_names, file_names in os.walk(path):\n",
    "        for path in dir_names:\n",
    "            read_files(os.path.join(root, path))\n",
    "        for file_name in file_names:\n",
    "            if file_name not in SKIP_FILES:\n",
    "                file_path = os.path.join(root, file_name)\n",
    "                if os.path.isfile(file_path):\n",
    "                    past_header, lines = False, []\n",
    "                    f = open(file_path, encoding=\"latin-1\")\n",
    "                    for line in f:\n",
    "                        if past_header:\n",
    "                            lines.append(line)\n",
    "                        elif line == NEWLINE:\n",
    "                            past_header = True\n",
    "                    f.close()\n",
    "                    content = NEWLINE.join(lines)\n",
    "                    yield file_path, content\n",
    "\n",
    "\n",
    "def build_data_frame(l, path, classification):\n",
    "    rows = []\n",
    "    index = []\n",
    "    for i, (file_name, text) in enumerate(read_files(path)):\n",
    "        if ((i+l) % 100 == 0):\n",
    "            progress(i+l, 58910, 50)\n",
    "        rows.append({'text': text, 'class': classification})\n",
    "        index.append(file_name)\n",
    "   \n",
    "    data_frame = DataFrame(rows, index=index)\n",
    "    return data_frame, len(rows)\n",
    "\n",
    "def load_data():\n",
    "    data = DataFrame({'text': [], 'class': []})\n",
    "    l = 0\n",
    "    for path, classification in SOURCES:\n",
    "        data_frame, nrows = build_data_frame(l, path, classification)\n",
    "        data = data.append(data_frame, sort=False)\n",
    "        l += nrows\n",
    "    data = data.reindex(numpy.random.permutation(data.index))\n",
    "    return data"
   ]
  },
  {
   "cell_type": "code",
   "execution_count": 0,
   "metadata": {
    "colab": {},
    "colab_type": "code",
    "id": "_AhMdPvB_P7R",
    "outputId": "3bc68359-2c47-42a5-dbba-90b2ece4c236"
   },
   "outputs": [
    {
     "name": "stdout",
     "output_type": "stream",
     "text": [
      "Percent: [##################################################] 100%"
     ]
    }
   ],
   "source": [
    "data = load_data()"
   ]
  },
  {
   "cell_type": "code",
   "execution_count": 0,
   "metadata": {
    "colab": {},
    "colab_type": "code",
    "id": "PRa0L-DP_P7h",
    "outputId": "3a871c98-d813-479f-ebe9-fa6e45e67cef"
   },
   "outputs": [
    {
     "data": {
      "text/html": [
       "<div>\n",
       "<style scoped>\n",
       "    .dataframe tbody tr th:only-of-type {\n",
       "        vertical-align: middle;\n",
       "    }\n",
       "\n",
       "    .dataframe tbody tr th {\n",
       "        vertical-align: top;\n",
       "    }\n",
       "\n",
       "    .dataframe thead th {\n",
       "        text-align: right;\n",
       "    }\n",
       "</style>\n",
       "<table border=\"1\" class=\"dataframe\">\n",
       "  <thead>\n",
       "    <tr style=\"text-align: right;\">\n",
       "      <th></th>\n",
       "      <th>text</th>\n",
       "      <th>class</th>\n",
       "    </tr>\n",
       "  </thead>\n",
       "  <tbody>\n",
       "    <tr>\n",
       "      <th>count</th>\n",
       "      <td>58910</td>\n",
       "      <td>58910</td>\n",
       "    </tr>\n",
       "    <tr>\n",
       "      <th>unique</th>\n",
       "      <td>52936</td>\n",
       "      <td>2</td>\n",
       "    </tr>\n",
       "    <tr>\n",
       "      <th>top</th>\n",
       "      <td>&lt;!DOCTYPE HTML PUBLIC \"-//W3C//DTD HTML 3.2//E...</td>\n",
       "      <td>spam</td>\n",
       "    </tr>\n",
       "    <tr>\n",
       "      <th>freq</th>\n",
       "      <td>93</td>\n",
       "      <td>35371</td>\n",
       "    </tr>\n",
       "  </tbody>\n",
       "</table>\n",
       "</div>"
      ],
      "text/plain": [
       "                                                     text  class\n",
       "count                                               58910  58910\n",
       "unique                                              52936      2\n",
       "top     <!DOCTYPE HTML PUBLIC \"-//W3C//DTD HTML 3.2//E...   spam\n",
       "freq                                                   93  35371"
      ]
     },
     "execution_count": 117,
     "metadata": {
      "tags": []
     },
     "output_type": "execute_result"
    }
   ],
   "source": [
    "data.describe()"
   ]
  },
  {
   "cell_type": "code",
   "execution_count": 0,
   "metadata": {
    "colab": {},
    "colab_type": "code",
    "id": "wyKVf_YB_P7v"
   },
   "outputs": [],
   "source": [
    "vectorizer = CountVectorizer(ngram_range=(1,2))\n",
    "fit_info = vectorizer.fit(data['text'].values,data['class'].values)\n",
    "features = vectorizer.get_feature_names()\n",
    "number_of_unigrams = reduce(lambda acc,cur: acc + 1 if ' ' not in cur else acc,features,0)\n",
    "number_of_bigrams = len(features) - number_of_unigrams"
   ]
  },
  {
   "cell_type": "markdown",
   "metadata": {
    "colab_type": "text",
    "id": "ee0qZsgS_P70"
   },
   "source": [
    "#### 2.2.1"
   ]
  },
  {
   "cell_type": "code",
   "execution_count": 0,
   "metadata": {
    "colab": {},
    "colab_type": "code",
    "id": "bwloaJHQ_P72",
    "outputId": "2d84d236-931b-4fe0-c64a-c81d635fd3b6"
   },
   "outputs": [
    {
     "name": "stdout",
     "output_type": "stream",
     "text": [
      "Number of unigrams 697,570\n",
      "Number of bigrams 3,318,380\n"
     ]
    }
   ],
   "source": [
    "print('Number of unigrams {:,}'.format(number_of_unigrams))\n",
    "print('Number of bigrams {:,}'.format(number_of_bigrams))"
   ]
  },
  {
   "cell_type": "markdown",
   "metadata": {
    "colab_type": "text",
    "id": "0sLqQLL1_P79"
   },
   "source": [
    "We can see that the bigrams number is bigger the unigrams, because unigrams is equal to number of distinct words and the probability that bigrams occurs will repeat in the data is less then unigram."
   ]
  },
  {
   "cell_type": "markdown",
   "metadata": {
    "colab_type": "text",
    "id": "Su_uDFORP5fc"
   },
   "source": [
    "#### 2.2.2"
   ]
  },
  {
   "cell_type": "code",
   "execution_count": 0,
   "metadata": {
    "colab": {},
    "colab_type": "code",
    "id": "2CfW_QPV_P7-"
   },
   "outputs": [],
   "source": [
    "import operator\n",
    "def split_unigram_bigram(data,n=50):\n",
    "    vectorizer = CountVectorizer(ngram_range=(1,2))\n",
    "    fit_info = vectorizer.fit(data['text'].values,data['class'].values)\n",
    "    bigram_freq = {}\n",
    "    unigram_freq = {}\n",
    "    voc = fit_info.vocabulary_\n",
    "    for word,count in voc.items():\n",
    "        if ' ' in word:\n",
    "            bigram_freq[word] = count\n",
    "        else:\n",
    "            unigram_freq[word] = count\n",
    "    return unigram_freq, bigram_freq\n",
    "\n",
    "def dict_to_sorted_df(dict_to_sort):\n",
    "    soted_dict = [(k, dict_to_sort[k]) for k in sorted(dict_to_sort, key=dict_to_sort.get, reverse=True)]\n",
    "    return pd.DataFrame.from_dict(dict(soted_dict[:50]),orient='index',columns=['count'])\n"
   ]
  },
  {
   "cell_type": "code",
   "execution_count": 0,
   "metadata": {
    "colab": {},
    "colab_type": "code",
    "id": "ww8L3_Gb_P8D",
    "outputId": "48263fdb-cf9e-4ea4-95d3-b14d850afe82"
   },
   "outputs": [
    {
     "name": "stdout",
     "output_type": "stream",
     "text": [
      "The 50 most common unigrams are \n",
      "                                              count\n",
      "ÿÿÿÿÿÿÿÿÿÿÿÿÿÿÿÿÿÿÿÿÿÿÿÿÿÿÿÿÿÿÿÿÿÿÿÿÿÿÿÿÿó  4015948\n",
      "ÿÿÿÿÿÿÿÿÿÿÿÿÿÿÿÿÿÿÿÿÿÿÿÿÿÿÿÿÿÿÿÿÿÿÿô        4015946\n",
      "ÿÿÿÿÿÿÿÿÿÿÿÿÿÿÿÿÿÿÿÿÿÿÿÿÿÿÿÿÿÿÿÿÿÿÿò        4015944\n",
      "ÿÿã                                         4015941\n",
      "ÿÿ                                          4015939\n",
      "ÿò                                          4015937\n",
      "þüg                                         4015935\n",
      "þööööà                                      4015933\n",
      "þöyledir                                    4015931\n",
      "þö                                          4015929\n",
      "þõµ                                         4015927\n",
      "þòº                                         4015925\n",
      "þïøã                                        4015923\n",
      "þïñ                                         4015921\n",
      "þîñõ¹àà                                     4015919\n",
      "þîñæ                                        4015916\n",
      "þîñäüîªäúµäéú                               4015914\n",
      "þîñ                                         4015911\n",
      "þë                                          4015909\n",
      "þçãê                                        4015907\n",
      "þàïáö¼ò                                     4015905\n",
      "þàïàô                                       4015903\n",
      "þàïàº                                       4015900\n",
      "þàïà                                        4015894\n",
      "þàï³                                        4015892\n",
      "þàï                                         4015886\n",
      "þàìå                                        4015884\n",
      "þàì                                         4015882\n",
      "þàç                                         4015880\n",
      "þày                                         4015878\n",
      "þà                                          4015876\n",
      "þµùàìº                                      4015873\n",
      "þ³é                                         4015871\n",
      "þ²y                                         4015869\n",
      "þx                                          4015865\n",
      "þw                                          4015862\n",
      "þu¼ÿn                                       4015860\n",
      "þu¼ÿ9                                       4015858\n",
      "þu¼ÿ                                        4015856\n",
      "þu                                          4015854\n",
      "þtý                                         4015852\n",
      "þikayetlerinizi                             4015850\n",
      "þf                                          4015848\n",
      "þeyin                                       4015846\n",
      "þeyi                                        4015844\n",
      "þettit                                      4015842\n",
      "þerrin                                      4015840\n",
      "þerikeleh                                   4015838\n",
      "þemlehum                                    4015836\n",
      "þemarketer¹àó                               4015834\n",
      "\n",
      "The 50 most common bigrams are \n",
      "                                                   count\n",
      "ÿÿÿÿÿÿÿÿÿÿÿÿÿÿÿÿÿÿÿÿÿÿÿÿÿÿÿÿÿÿÿÿÿÿÿÿÿÿÿÿÿó ùþµé  4015949\n",
      "ÿÿÿÿÿÿÿÿÿÿÿÿÿÿÿÿÿÿÿÿÿÿÿÿÿÿÿÿÿÿÿÿÿÿÿô µë          4015947\n",
      "ÿÿÿÿÿÿÿÿÿÿÿÿÿÿÿÿÿÿÿÿÿÿÿÿÿÿÿÿÿÿÿÿÿÿÿò íjy         4015945\n",
      "ÿÿã ûz                                           4015943\n",
      "ÿÿã îçø                                          4015942\n",
      "ÿÿ ÿÿÿÿÿÿÿÿÿÿÿÿÿÿÿÿÿÿÿÿÿÿÿÿÿÿÿÿÿÿÿÿÿÿÿò          4015940\n",
      "ÿò èk                                            4015938\n",
      "þüg jw                                           4015936\n",
      "þööööà äñ                                        4015934\n",
      "þöyledir br                                      4015932\n",
      "þö ùb²ûÿ²                                        4015930\n",
      "þõµ µçô                                          4015928\n",
      "þòº ìø¼ûñó³                                      4015926\n",
      "þïøã áåç                                         4015924\n",
      "þïñ çóêøçúêå                                     4015922\n",
      "þîñõ¹àà ðèèõðõ¹öð                                4015920\n",
      "þîñæ ¾²îêý                                       4015918\n",
      "þîñæ tys                                         4015917\n",
      "þîñäüîªäúµäéú øà                                 4015915\n",
      "þîñ ïûï                                          4015913\n",
      "þîñ é¼                                           4015912\n",
      "þë êâ                                            4015910\n",
      "þçãê èããæñ                                       4015908\n",
      "þàïáö¼ò çîáß                                     4015906\n",
      "þàïàô font                                       4015904\n",
      "þàïàº åë½åºî                                     4015902\n",
      "þàïàº åë½å                                       4015901\n",
      "þàïà áö½ã                                        4015899\n",
      "þàïà áö                                          4015898\n",
      "þàïà àô                                          4015897\n",
      "þàïà ¹ß¼ûçø¼                                     4015896\n",
      "þàïà ³½á                                         4015895\n",
      "þàï³ ë¹                                          4015893\n",
      "þàï áö¼ò                                         4015891\n",
      "þàï àô                                           4015890\n",
      "þàï ¼ö½åà                                        4015889\n",
      "þàï span                                         4015888\n",
      "þàï input                                        4015887\n",
      "þàìå ¾ææ¼½ºæ                                     4015885\n",
      "þàì ááàº                                         4015883\n",
      "þàç àì                                           4015881\n",
      "þày br                                           4015879\n",
      "þà çò                                            4015877\n",
      "þµùàìº title                                     4015875\n",
      "þµùàìº input                                     4015874\n",
      "þ³é iän                                          4015872\n",
      "þ²y ªºript                                       4015870\n",
      "þx þë                                            4015868\n",
      "þx ïå                                            4015867\n",
      "þx âz                                            4015866\n"
     ]
    }
   ],
   "source": [
    "unigram_freq, bigram_freq = split_unigram_bigram(data)\n",
    "print('The 50 most common unigrams are ')\n",
    "print(dict_to_sorted_df(unigram_freq))\n",
    "print()\n",
    "print('The 50 most common bigrams are ')\n",
    "print(dict_to_sorted_df(bigram_freq))\n"
   ]
  },
  {
   "cell_type": "markdown",
   "metadata": {
    "colab_type": "text",
    "id": "-Y6xhdpy_P8X"
   },
   "source": [
    "##### Since the dataset is unbalanced with more spam samples then ham we can see that the 50 common uni\\bigrams looks like spam"
   ]
  },
  {
   "cell_type": "markdown",
   "metadata": {
    "colab_type": "text",
    "id": "4jDnINVr_P8Z"
   },
   "source": [
    "#### 2.2.3"
   ]
  },
  {
   "cell_type": "code",
   "execution_count": 0,
   "metadata": {
    "colab": {},
    "colab_type": "code",
    "id": "ACL13R_v_P8a"
   },
   "outputs": [],
   "source": [
    "spam_data = data.loc[data['class'] == SPAM]\n",
    "ham_data = data.loc[data['class'] == HAM]"
   ]
  },
  {
   "cell_type": "code",
   "execution_count": 0,
   "metadata": {
    "colab": {},
    "colab_type": "code",
    "id": "aUwuo4H9_P8g"
   },
   "outputs": [],
   "source": [
    "unigram_freq, bigram_freq = split_unigram_bigram(spam_data)\n",
    "print('The 50 most common unigrams are ')\n",
    "print(dict_to_sorted_df(unigram_freq))\n",
    "print()\n",
    "print('The 50 most common bigrams are ')\n",
    "print(dict_to_sorted_df(bigram_freq))"
   ]
  },
  {
   "cell_type": "code",
   "execution_count": 0,
   "metadata": {
    "colab": {},
    "colab_type": "code",
    "id": "gCVX_suy_P8k",
    "outputId": "6f245950-cb07-4d7c-dbd1-a86e4716301d"
   },
   "outputs": [
    {
     "name": "stdout",
     "output_type": "stream",
     "text": [
      "The 50 most common unigrams are \n",
      "                                                      count\n",
      "überzeugen                                          1444162\n",
      "übernehmen                                          1444160\n",
      "über                                                1444156\n",
      "örnsköldsvik                                        1444154\n",
      "öffnender                                           1444152\n",
      "öcalan                                              1444147\n",
      "ñîçíàíèÿ                                            1444145\n",
      "être                                                1444143\n",
      "été                                                 1444141\n",
      "étatiques                                           1444139\n",
      "était                                               1444137\n",
      "étaient                                             1444135\n",
      "épineux                                             1444133\n",
      "élite                                               1444131\n",
      "éliminé                                             1444128\n",
      "éibhear                                             1444125\n",
      "également                                           1444123\n",
      "éducation                                           1444121\n",
      "écrite                                              1444118\n",
      "écrit                                               1444113\n",
      "æmilius                                             1444111\n",
      "ååå                                                 1444109\n",
      "ååä                                                 1444107\n",
      "åä                                                  1444103\n",
      "äå                                                  1444101\n",
      "ää_                                                 1444096\n",
      "ändern                                              1444094\n",
      "ä_                                                  1444092\n",
      "áðûçãè                                              1444090\n",
      "átha                                                1444088\n",
      "zé                                                  1444086\n",
      "zzzzteana                                           1444081\n",
      "zzzzcc                                              1444078\n",
      "zzzz                                                1444074\n",
      "zzzlist                                             1444070\n",
      "zzzickeletto                                        1444068\n",
      "zzzf                                                1444066\n",
      "zzzason                                             1444062\n",
      "zzz                                                 1444058\n",
      "zzncacst                                            1444056\n",
      "zzn                                                 1444054\n",
      "zzmp3                                               1444052\n",
      "zzmebmmuegklhlcposs9rr                              1444050\n",
      "zzmacmac                                            1444048\n",
      "zzdkgg                                              1444046\n",
      "zz_erms                                             1444044\n",
      "zz                                                  1444036\n",
      "zyxel                                               1444034\n",
      "zywicki                                             1444032\n",
      "zyvb7kq0s1ua9pf3o9vq2bbhazqdblrbuxv3lmq12imxmpk...  1444030\n",
      "\n",
      "The 50 most common bigrams are \n",
      "                         count\n",
      "überzeugen sie         1444163\n",
      "übernehmen wir         1444161\n",
      "über diesem            1444159\n",
      "über den               1444158\n",
      "über 40                1444157\n",
      "örnsköldsvik sweden    1444155\n",
      "öffnender strukturen   1444153\n",
      "öcalan had             1444151\n",
      "öcalan considéré       1444150\n",
      "öcalan considered      1444149\n",
      "öcalan avait           1444148\n",
      "ñîçíàíèÿ http          1444146\n",
      "être la                1444144\n",
      "été condamné           1444142\n",
      "étatiques the          1444140\n",
      "était pas              1444138\n",
      "étaient déterminés     1444136\n",
      "épineux les            1444134\n",
      "élite believes         1444132\n",
      "éliminé les            1444130\n",
      "éliminé impossible     1444129\n",
      "éibhear padraig        1444127\n",
      "éibhear mailto         1444126\n",
      "également que          1444124\n",
      "éducation et           1444122\n",
      "écrite est             1444120\n",
      "écrite dans            1444119\n",
      "écrit you              1444117\n",
      "écrit yannick          1444116\n",
      "écrit newsgroups       1444115\n",
      "écrit confused         1444114\n",
      "æmilius blog           1444112\n",
      "ååå äå                 1444110\n",
      "ååä unix               1444108\n",
      "åä ää_                 1444106\n",
      "åä pgsql               1444105\n",
      "åä _ä                  1444104\n",
      "äå ää_                 1444102\n",
      "ää_ ååå                1444100\n",
      "ää_ ååä                1444099\n",
      "ää_ åä                 1444098\n",
      "ää_ 616                1444097\n",
      "ändern können          1444095\n",
      "ä_ nä                  1444093\n",
      "áðûçãè ñîçíàíèÿ        1444091\n",
      "átha cliath            1444089\n",
      "zé povão               1444087\n",
      "zzzzteana yahoogroups  1444085\n",
      "zzzzteana which        1444084\n",
      "zzzzteana van          1444083\n"
     ]
    }
   ],
   "source": [
    "unigram_freq, bigram_freq = split_unigram_bigram(ham_data)\n",
    "print('The 50 most common unigrams are ')\n",
    "print(dict_to_sorted_df(unigram_freq))\n",
    "print()\n",
    "print('The 50 most common bigrams are ')\n",
    "print(dict_to_sorted_df(bigram_freq))"
   ]
  },
  {
   "cell_type": "markdown",
   "metadata": {
    "colab_type": "text",
    "id": "UwUUNR76_P8p"
   },
   "source": [
    "#### 2.2.4"
   ]
  },
  {
   "cell_type": "code",
   "execution_count": 0,
   "metadata": {
    "colab": {},
    "colab_type": "code",
    "id": "I_XkodgH_P8t"
   },
   "outputs": [],
   "source": [
    "train_text = data['text'].values\n",
    "y_train = data['class'].values.astype(str)\n",
    "vectorizer = CountVectorizer(ngram_range=(1, 2))\n",
    "x_train = vectorizer.fit_transform(train_text)\n",
    "feature_names = vectorizer.get_feature_names()"
   ]
  },
  {
   "cell_type": "code",
   "execution_count": 0,
   "metadata": {
    "colab": {},
    "colab_type": "code",
    "id": "F3CAyCsJ_P8v",
    "outputId": "ec0ede99-bdbe-49f7-c130-30b4995b56a4"
   },
   "outputs": [
    {
     "data": {
      "text/plain": [
       "SelectFromModel(estimator=MultinomialNB(alpha=1.0, class_prior=None, fit_prior=True),\n",
       "        max_features=None, norm_order=1, prefit=False, threshold=None)"
      ]
     },
     "execution_count": 9,
     "metadata": {
      "tags": []
     },
     "output_type": "execute_result"
    }
   ],
   "source": [
    "nbm = SelectFromModel(MultinomialNB())\n",
    "nbm.fit(x_train,y_train)"
   ]
  },
  {
   "cell_type": "markdown",
   "metadata": {
    "colab_type": "text",
    "id": "pBpHh00C_P9H"
   },
   "source": [
    "In the binary case, coef_ is flattened to save space.<br>\n",
    "The coef_ attribute of MultinomialNB is a re-parameterization of the naive Bayes model as a linear classifier model.<br>\n",
    "For our binary classification problem this is basically the log of the estimated probability of a feature given the positive class. It means that higher values mean more important features for the spam class.\n",
    "Therefore, we will take the highest 20 values in coeff_ as the best 20 spam features and the lowest 20 values in coeff_ as the best 20 ham features."
   ]
  },
  {
   "cell_type": "code",
   "execution_count": 0,
   "metadata": {
    "colab": {},
    "colab_type": "code",
    "id": "fIOdUEe5_P9J"
   },
   "outputs": [],
   "source": [
    "# sorted_coeff = sorted(list(nbm.estimator_.coef_[0]),reverse=True)\n",
    "enum_coeff = list(enumerate(nbm.estimator_.coef_[0]))\n",
    "sorted_coeff = sorted(enum_coeff, key=lambda tup: tup[1],reverse=True)\n",
    "\n",
    "best_20_spam_features = [feature_names[i] for (i,_) in sorted_coeff[:20]]\n",
    "best_20_ham_features = [feature_names[i] for (i,_) in sorted_coeff[-20:]]"
   ]
  },
  {
   "cell_type": "code",
   "execution_count": 0,
   "metadata": {
    "colab": {},
    "colab_type": "code",
    "id": "LlgrBUQn_P9L",
    "outputId": "8d71630e-00da-42c5-b86c-a126a22d55b1"
   },
   "outputs": [
    {
     "name": "stdout",
     "output_type": "stream",
     "text": [
      "Best 20 features for spam\n",
      "-------------------------\n",
      "font\n",
      "3d\n",
      "br\n",
      "td\n",
      "nbsp\n",
      "the\n",
      "size\n",
      "tr\n",
      "to\n",
      "20\n",
      "http\n",
      "and\n",
      "nbsp nbsp\n",
      "width\n",
      "of\n",
      "br br\n",
      "face\n",
      "border\n",
      "style\n",
      "span\n",
      "\n",
      "Best 20 features for ham\n",
      "-------------------------\n",
      "était pas\n",
      "étatiques\n",
      "étatiques the\n",
      "été condamné\n",
      "être la\n",
      "ñîçíàíèÿ\n",
      "ñîçíàíèÿ http\n",
      "öcalan\n",
      "öcalan avait\n",
      "öcalan considered\n",
      "öcalan considéré\n",
      "öcalan had\n",
      "öffnender\n",
      "öffnender strukturen\n",
      "örnsköldsvik\n",
      "örnsköldsvik sweden\n",
      "über den\n",
      "über diesem\n",
      "übernehmen\n",
      "übernehmen wir\n"
     ]
    }
   ],
   "source": [
    "print(\"Best 20 features for spam\")\n",
    "print('-'*25)\n",
    "print('\\n'.join(best_20_spam_features))\n",
    "print()\n",
    "print(\"Best 20 features for ham\")\n",
    "print('-'*25)\n",
    "print('\\n'.join(best_20_ham_features))"
   ]
  },
  {
   "cell_type": "markdown",
   "metadata": {
    "colab_type": "text",
    "id": "dydGd4Wp_P9Q"
   },
   "source": [
    "#### 2.2.5 "
   ]
  },
  {
   "cell_type": "markdown",
   "metadata": {
    "colab_type": "text",
    "id": "ZQHd5MWC_P9U"
   },
   "source": [
    "1. Normalization shouldn't be necessary since the features are only compared to each other.\n",
    "$p(class|thing) = p(class)p(thing|class) =\n",
    "= p(class)p(feature_1|class)p(feature_2|class)...p(feature_N|class)$\n",
    "So when fitting the parameters for the distribution $feature_i|class$ it will just rescale the parameters (for the new \"scale\") in this case $(\t\\mu, \\sigma^2)$, but the probabilities will remain the same.<br>\n",
    "\n",
    "\n",
    "2. We do expect Logistic Regression to perform better with the new feature.<br>\n",
    "Naive Bayes based on  strong independence assumptions between the features.<br>\n",
    "As we can see in the plot and the table at the end of the attached notebook - spam is longer than ham on average, Also some of the features (words) as we saw in section 2.2.3 will defined the message as spam or ham which have a connection to the message length.<br>\n",
    "According to this, we can see dependency between words and message length contrary to the Naive Bayes assumption."
   ]
  },
  {
   "cell_type": "markdown",
   "metadata": {
    "colab_type": "text",
    "id": "QSwTi0TT_P9k"
   },
   "source": [
    "#### 2.2.6"
   ]
  },
  {
   "cell_type": "code",
   "execution_count": 0,
   "metadata": {
    "colab": {},
    "colab_type": "code",
    "id": "vq0qich_f7y2"
   },
   "outputs": [],
   "source": [
    "class Length_extractor(TransformerMixin):\n",
    "    def transform(self,X):\n",
    "        return np.array([[len(msg) for msg in X]]).T\n",
    "\n",
    "    def fit(self,X,y=None):\n",
    "        return self\n",
    "\n",
    "def build_pipeline():\n",
    "    pipeline = Pipeline([\n",
    "          ('features', FeatureUnion([('vectorizer', CountVectorizer(ngram_range=(1,2))),\n",
    "                                    ('length', Length_extractor())])),\n",
    "        ('classifier',MultinomialNB())\n",
    "    ])\n",
    "    return pipeline\n",
    "\n",
    "def train(data = None, n_folds = 6):\n",
    "    if data is None:\n",
    "        print(\"Loading data...\")\n",
    "        data = load_data()\n",
    "        print(\"Data loaded\")\n",
    "    k_fold = KFold(n_splits = n_folds)\n",
    "    pipeline = build_pipeline()\n",
    "    scores = []\n",
    "    confusion = numpy.array([[0, 0], [0, 0]])\n",
    "    print(\"Training with %d folds\" % n_folds)\n",
    "    for i, (train_indices, test_indices) in enumerate(k_fold.split(data)):\n",
    "        train_text = data.iloc[train_indices]['text'].values\n",
    "        train_y = data.iloc[train_indices]['class'].values.astype(str)\n",
    "\n",
    "        test_text = data.iloc[test_indices]['text'].values\n",
    "        test_y = data.iloc[test_indices]['class'].values.astype(str)\n",
    "\n",
    "        print(\"Training for fold %d\" % i)\n",
    "        pipeline.fit(train_text, train_y)\n",
    "        print(\"Testing for fold %d\" % i)\n",
    "        predictions = pipeline.predict(test_text)\n",
    "\n",
    "        confusion += confusion_matrix(test_y, predictions)\n",
    "        score = f1_score(test_y, predictions, pos_label=SPAM)\n",
    "        scores.append(score)\n",
    "        print(\"Score for %d: %2.2f\" % (i, score))\n",
    "        print(\"Confusion matrix for %d: \" % i)\n",
    "        print(confusion)\n",
    "\n",
    "    print('Total emails classified:', len(data))\n",
    "    print('Score:', sum(scores)/len(scores))\n",
    "    print('Confusion matrix:')\n",
    "    print(confusion)\n",
    "    return pipeline"
   ]
  },
  {
   "cell_type": "code",
   "execution_count": 0,
   "metadata": {
    "colab": {},
    "colab_type": "code",
    "id": "hlXzAYJFf-HG",
    "outputId": "f94d045f-7230-4201-ec1c-439bb282b87a"
   },
   "outputs": [
    {
     "name": "stdout",
     "output_type": "stream",
     "text": [
      "Training with 6 folds\n",
      "Training for fold 0\n",
      "Testing for fold 0\n",
      "Score for 0: 0.98\n",
      "Confusion matrix for 0: \n",
      "[[3900   16]\n",
      " [ 226 5677]]\n",
      "Training for fold 1\n",
      "Testing for fold 1\n",
      "Score for 1: 0.98\n",
      "Confusion matrix for 1: \n",
      "[[ 7780    41]\n",
      " [  442 11375]]\n",
      "Training for fold 2\n",
      "Testing for fold 2\n",
      "Score for 2: 0.98\n",
      "Confusion matrix for 2: \n",
      "[[11645    56]\n",
      " [  644 17111]]\n",
      "Training for fold 3\n",
      "Testing for fold 3\n",
      "Score for 3: 0.98\n",
      "Confusion matrix for 3: \n",
      "[[15558    76]\n",
      " [  813 22827]]\n",
      "Training for fold 4\n",
      "Testing for fold 4\n",
      "Score for 4: 0.98\n",
      "Confusion matrix for 4: \n",
      "[[19518   102]\n",
      " [  986 28486]]\n",
      "Training for fold 5\n",
      "Testing for fold 5\n",
      "Score for 5: 0.98\n",
      "Confusion matrix for 5: \n",
      "[[23423   116]\n",
      " [ 1241 34130]]\n",
      "Total emails classified: 58910\n",
      "Score: 0.9805063441613311\n",
      "Confusion matrix:\n",
      "[[23423   116]\n",
      " [ 1241 34130]]\n"
     ]
    }
   ],
   "source": [
    "pipeline_nb = train(data)"
   ]
  },
  {
   "cell_type": "code",
   "execution_count": 0,
   "metadata": {
    "colab": {},
    "colab_type": "code",
    "id": "xIbUbNYsgECd"
   },
   "outputs": [],
   "source": [
    "def build_pipeline2():\n",
    "    pipeline = Pipeline([\n",
    "          ('features', FeatureUnion([('vectorizer', CountVectorizer(ngram_range=(1,2))),\n",
    "                                    ('length', Length_extractor())])),\n",
    "        ('classifier',LogisticRegression(solver='lbfgs'))\n",
    "    ])\n",
    "    \n",
    "    LogisticRegression(solver='lbfgs')\n",
    "    return pipeline\n",
    "def train2(data = None, n_folds = 4):\n",
    "    if data is None:\n",
    "        print(\"Loading data...\")\n",
    "        data = load_data()\n",
    "        print(\"Data loaded\")\n",
    "    k_fold = KFold(n_splits = n_folds)\n",
    "    pipeline = build_pipeline2()\n",
    "    scores = []\n",
    "    confusion = numpy.array([[0, 0], [0, 0]])\n",
    "    print(\"Training with %d folds\" % n_folds)\n",
    "    for i, (train_indices, test_indices) in enumerate(k_fold.split(data)):\n",
    "        train_text = data.iloc[train_indices]['text'].values\n",
    "        train_y = data.iloc[train_indices]['class'].values.astype(str)\n",
    "        test_text = data.iloc[test_indices]['text'].values\n",
    "        test_y = data.iloc[test_indices]['class'].values.astype(str)\n",
    "        \n",
    "        print(\"Training for fold %d\" % i)\n",
    "        pipeline.fit(train_text, train_y)\n",
    "        print(\"Testing for fold %d\" % i)\n",
    "        predictions = pipeline.predict(test_text)\n",
    "        \n",
    "        confusion += confusion_matrix(test_y, predictions)\n",
    "        score = f1_score(test_y, predictions, pos_label=SPAM)\n",
    "        scores.append(score)\n",
    "        \n",
    "        print(\"Score for %d: %2.2f\" % (i, score))\n",
    "        print(\"Confusion matrix for %d: \" % i)\n",
    "        print(confusion)\n",
    "\n",
    "    print('Total emails classified:', len(data))\n",
    "    print('Score:', sum(scores)/len(scores))\n",
    "    print('Confusion matrix:')\n",
    "    print(confusion)\n",
    "    return pipeline\n",
    "    confusion = confusion_matrix(test_y, predictions)\n",
    "    score = f1_score(test_y, predictions, pos_label=SPAM)\n",
    "    print(\"Score for %d: %2.2f\" % (i, score))\n",
    "    print(\"Confusion matrix for %d: \" % i)\n",
    "    print(confusion)\n",
    "    print('Total emails classified:', len(test_text))\n",
    "    return pipeline"
   ]
  },
  {
   "cell_type": "markdown",
   "metadata": {
    "colab_type": "text",
    "id": "HuSF1rMvxGTH"
   },
   "source": [
    "For Logistic Regression.\n"
   ]
  },
  {
   "cell_type": "code",
   "execution_count": 0,
   "metadata": {
    "colab": {},
    "colab_type": "code",
    "id": "Rr6JHiZAxIVK",
    "outputId": "8259625a-9a85-4d33-d262-c29f41ab19e1"
   },
   "outputs": [
    {
     "name": "stdout",
     "output_type": "stream",
     "text": [
      "Training with 4 folds\n",
      "Training for fold 0\n"
     ]
    },
    {
     "name": "stderr",
     "output_type": "stream",
     "text": [
      "/usr/local/lib/python3.6/site-packages/sklearn/linear_model/logistic.py:757: ConvergenceWarning: lbfgs failed to converge. Increase the number of iterations.\n",
      "  \"of iterations.\", ConvergenceWarning)\n"
     ]
    },
    {
     "name": "stdout",
     "output_type": "stream",
     "text": [
      "Testing for fold 0\n",
      "Score for 0: 0.95\n",
      "Confusion matrix for 0: \n",
      "[[5615  249]\n",
      " [ 589 8275]]\n",
      "Training for fold 1\n"
     ]
    },
    {
     "name": "stderr",
     "output_type": "stream",
     "text": [
      "/usr/local/lib/python3.6/site-packages/sklearn/linear_model/logistic.py:757: ConvergenceWarning: lbfgs failed to converge. Increase the number of iterations.\n",
      "  \"of iterations.\", ConvergenceWarning)\n"
     ]
    },
    {
     "name": "stdout",
     "output_type": "stream",
     "text": [
      "Testing for fold 1\n",
      "Score for 1: 0.95\n",
      "Confusion matrix for 1: \n",
      "[[11221   480]\n",
      " [ 1153 16602]]\n",
      "Training for fold 2\n"
     ]
    },
    {
     "name": "stderr",
     "output_type": "stream",
     "text": [
      "/usr/local/lib/python3.6/site-packages/sklearn/linear_model/logistic.py:757: ConvergenceWarning: lbfgs failed to converge. Increase the number of iterations.\n",
      "  \"of iterations.\", ConvergenceWarning)\n"
     ]
    },
    {
     "name": "stdout",
     "output_type": "stream",
     "text": [
      "Testing for fold 2\n",
      "Score for 2: 0.96\n",
      "Confusion matrix for 2: \n",
      "[[16936   698]\n",
      " [ 1558 24991]]\n",
      "Training for fold 3\n"
     ]
    },
    {
     "name": "stderr",
     "output_type": "stream",
     "text": [
      "/usr/local/lib/python3.6/site-packages/sklearn/linear_model/logistic.py:757: ConvergenceWarning: lbfgs failed to converge. Increase the number of iterations.\n",
      "  \"of iterations.\", ConvergenceWarning)\n"
     ]
    },
    {
     "name": "stdout",
     "output_type": "stream",
     "text": [
      "Testing for fold 3\n",
      "Score for 3: 0.95\n",
      "Confusion matrix for 3: \n",
      "[[22620   919]\n",
      " [ 2176 33195]]\n",
      "Total emails classified: 58910\n",
      "Score: 0.9554489528619319\n",
      "Confusion matrix:\n",
      "[[22620   919]\n",
      " [ 2176 33195]]\n"
     ]
    }
   ],
   "source": [
    "pipeline = train2(data)"
   ]
  },
  {
   "cell_type": "markdown",
   "metadata": {
    "colab_type": "text",
    "id": "Qk2TLHO79hjF"
   },
   "source": [
    "Actually we expected to have better results.<br>\n",
    "For Naive Bayes descrease from 0.9947... to 0.9805... and for logistic regression from 0.9784... to 0.9554. "
   ]
  },
  {
   "cell_type": "markdown",
   "metadata": {
    "colab_type": "text",
    "id": "_VUPtJTQ_P9u"
   },
   "source": [
    "## 3 Named Entity Recognition"
   ]
  },
  {
   "cell_type": "code",
   "execution_count": 0,
   "metadata": {
    "colab": {},
    "colab_type": "code",
    "id": "mr1yH-iJ_P9w"
   },
   "outputs": [],
   "source": [
    "from nltk.corpus import conll2002\n",
    "\n",
    "etrain = list(nltk.corpus.conll2002.iob_sents('esp.train'))\n",
    "etesta = list(nltk.corpus.conll2002.iob_sents('esp.testa'))\n",
    "etestb = list(nltk.corpus.conll2002.iob_sents('esp.testb'))\n",
    "\n",
    "dtrain = list(nltk.corpus.conll2002.iob_sents('ned.train'))\n",
    "dtesta = list(nltk.corpus.conll2002.iob_sents('ned.testa'))\n",
    "dtestb = list(nltk.corpus.conll2002.iob_sents('ned.testb'))"
   ]
  },
  {
   "cell_type": "markdown",
   "metadata": {
    "colab_type": "text",
    "id": "a5QNFwpiQVAS"
   },
   "source": [
    "### 3.1"
   ]
  },
  {
   "cell_type": "markdown",
   "metadata": {
    "colab_type": "text",
    "id": "L2pansJYC8b1"
   },
   "source": [
    "#### 3.1.1 Feature Extraction"
   ]
  },
  {
   "cell_type": "markdown",
   "metadata": {
    "colab_type": "text",
    "id": "0Fa0Vt0q_P90"
   },
   "source": [
    "Intermediate steps of the pipeline must be ‘transforms’, that is, they must implement fit and transform methods."
   ]
  },
  {
   "cell_type": "code",
   "execution_count": 0,
   "metadata": {
    "colab": {},
    "colab_type": "code",
    "id": "FAaM7UpH_P91"
   },
   "outputs": [],
   "source": [
    "# list of features that have been found appropriate for NER \n",
    "# =========================================================\n",
    "# The word form (the string as it appears in the sentence)\n",
    "# The POS of the word (which is provided in the dataset)\n",
    "# ORT - a feature that captures the orthographic (letter) structure of the word. It can have any of the following \n",
    "# values: number, contains-digit, contains-hyphen, capitalized, all-capitals, URL, punctuation, regular.\n",
    "# prefix1: first letter of the word\n",
    "# prefix2: first two letters of the word\n",
    "# prefix3: first three letters of the word\n",
    "# suffix1: last letter of the word\n",
    "# suffix2: last two letters of the word\n",
    "# suffix3: last three letters of the word\n",
    "\n",
    "class NER_Features(TransformerMixin):\n",
    "    def transform(self,X):\n",
    "        all_features = []\n",
    "        for s in X:\n",
    "            all_features += self.sent2features(s)\n",
    "        return all_features\n",
    "\n",
    "    def fit(self,X,y=None):\n",
    "        return self\n",
    "    \n",
    "    def sent2features(self,sent):\n",
    "        return [word2features(sent, i) for i in range(len(sent))]\n",
    "    \n",
    "def word2features(sent, i):\n",
    "    word = sent[i][0]\n",
    "    postag = sent[i][1]\n",
    "    features = {\n",
    "        'word_form' : word,\n",
    "        'postag' : postag,\n",
    "        'prefix1' : get_char_at(word,0),\n",
    "        'prefix2' : get_char_at(word,1),\n",
    "        'prefix3' : get_char_at(word,2),\n",
    "        'suffix1' : get_char_at(word,-1),\n",
    "        'suffix2' : get_char_at(word,-2),\n",
    "        'suffix3' : get_char_at(word,-3),\n",
    "        'ort': get_ort(word)}\n",
    "    return features\n",
    "        \n",
    "def isContainDigit(s):\n",
    "    return any(j.isdigit() for j in s)\n",
    "  \n",
    "def is_all_captialized(word):\n",
    "    return all(map(lambda w:w.isupper(),list(word)))\n",
    "    \n",
    "def get_ort(word):\n",
    "    ort_opt = {\n",
    "    'number' : word.isnumeric(),\n",
    "    'contains_digit' : isContainDigit(word),\n",
    "    'contains_hyphen' : '-' in word,\n",
    "    'capitalized' : word[0].isupper(),\n",
    "    'all_capitals' : is_all_captialized(word),\n",
    "    'punctuation' : str(word in punctuation)} # string.punctuation (imported)\n",
    "    for ort,isOrt in ort_opt.items():\n",
    "        if isOrt:\n",
    "            return ort\n",
    "    return 'regular'\n",
    "    \n",
    "    \n",
    "def get_char_at(word,i):\n",
    "    if abs(i) >= len(word): return ''\n",
    "    else: return word[i]\n",
    "\n",
    "\n",
    "def sent2labels(sent):\n",
    "    return [label for token, postag, label in sent]\n",
    "\n",
    "def sent2tokens(sent):\n",
    "    return [token for token, postag, label in sent] \n",
    "\n",
    "def extract_labels(data):\n",
    "    labels = []\n",
    "    for sent in data:\n",
    "        labels += sent2labels(sent)\n",
    "    return labels\n",
    "  \n",
    "def encode_labels(data):\n",
    "    Y_train = extract_labels(data)\n",
    "    return LabelEncoder().fit(Y_train)"
   ]
  },
  {
   "cell_type": "code",
   "execution_count": 0,
   "metadata": {
    "colab": {},
    "colab_type": "code",
    "id": "68bHtz_B_P93"
   },
   "outputs": [],
   "source": [
    "def create_pipeline():\n",
    "    return Pipeline([('extract_features', NER_Features()),\n",
    "                     ('vectorize', DictVectorizer())])"
   ]
  },
  {
   "cell_type": "code",
   "execution_count": 0,
   "metadata": {
    "colab": {},
    "colab_type": "code",
    "id": "sx6Eq04a_P96"
   },
   "outputs": [],
   "source": [
    "pipeline = create_pipeline()\n",
    "label_encoder = encode_labels(etrain)"
   ]
  },
  {
   "cell_type": "markdown",
   "metadata": {
    "colab_type": "text",
    "id": "Ql0oL_Xh_P97"
   },
   "source": [
    "***Spanish dataset pre-process***\n"
   ]
  },
  {
   "cell_type": "code",
   "execution_count": 0,
   "metadata": {
    "colab": {},
    "colab_type": "code",
    "id": "ixjih7DY_P98"
   },
   "outputs": [],
   "source": [
    "X_train_esp = pipeline.fit_transform(etrain)\n",
    "Y_train_esp = label_encoder.fit_transform(extract_labels(etrain))"
   ]
  },
  {
   "cell_type": "code",
   "execution_count": 0,
   "metadata": {
    "colab": {},
    "colab_type": "code",
    "id": "NWFyccZi_P-A"
   },
   "outputs": [],
   "source": [
    "X_dev_esp = pipeline.transform(etesta)\n",
    "Y_dev_esp = label_encoder.transform(extract_labels(etesta))"
   ]
  },
  {
   "cell_type": "code",
   "execution_count": 0,
   "metadata": {
    "colab": {},
    "colab_type": "code",
    "id": "poqI-bzx_P-O"
   },
   "outputs": [],
   "source": [
    "X_test_esp = pipeline.transform(etestb)\n",
    "Y_test_esp = label_encoder.transform(extract_labels(etestb))"
   ]
  },
  {
   "cell_type": "markdown",
   "metadata": {
    "colab_type": "text",
    "id": "1gUJESX9_P-U"
   },
   "source": [
    "***Dutch dataset pre-process***\n"
   ]
  },
  {
   "cell_type": "code",
   "execution_count": 0,
   "metadata": {
    "colab": {},
    "colab_type": "code",
    "id": "erykna3W_P-X"
   },
   "outputs": [],
   "source": [
    "pipeline = create_pipeline()\n",
    "label_encoder = encode_labels(dtrain)"
   ]
  },
  {
   "cell_type": "code",
   "execution_count": 0,
   "metadata": {
    "colab": {},
    "colab_type": "code",
    "id": "5N6gQdNc_P-e"
   },
   "outputs": [],
   "source": [
    "X_train_du = pipeline.fit_transform(dtrain)\n",
    "Y_train_du = label_encoder.fit_transform(extract_labels(dtrain))"
   ]
  },
  {
   "cell_type": "code",
   "execution_count": 0,
   "metadata": {
    "colab": {},
    "colab_type": "code",
    "id": "eAcsexF9_P-h"
   },
   "outputs": [],
   "source": [
    "X_dev_du = pipeline.transform(dtesta)\n",
    "Y_dev_du = label_encoder.transform(extract_labels(dtesta))"
   ]
  },
  {
   "cell_type": "code",
   "execution_count": 0,
   "metadata": {
    "colab": {},
    "colab_type": "code",
    "id": "usUXOU5W_P-j"
   },
   "outputs": [],
   "source": [
    "X_test_du = pipeline.transform(dtestb)\n",
    "Y_test_du = label_encoder.transform(extract_labels(dtestb))"
   ]
  },
  {
   "cell_type": "markdown",
   "metadata": {
    "colab_type": "text",
    "id": "tMiAFglX_P-r"
   },
   "source": [
    "#### 3.1.2 Now we will use a logistic regression classifier and some  experiments"
   ]
  },
  {
   "cell_type": "markdown",
   "metadata": {
    "colab_type": "text",
    "id": "mTzprY5L_P-s"
   },
   "source": [
    "Regularization is a very important technique in machine learning to prevent overfitting. Mathematically speaking, it adds a regularization term in order to prevent the coefficients to fit so perfectly to overfit.\n",
    "In our case, one of logistic regression classifier parameter is C.<br>\n",
    "C : Inverse of regularization strength.\n",
    "We will use the development phase for finding optimal C  for our model."
   ]
  },
  {
   "cell_type": "code",
   "execution_count": 0,
   "metadata": {
    "colab": {},
    "colab_type": "code",
    "id": "DcX0yQV7_P_M"
   },
   "outputs": [],
   "source": [
    "def get_best_model_param(X_train, y_train, X_dev, y_dev):\n",
    "    c_range = [0.001,0.01,0.1,1,10,100]\n",
    "    scores = []\n",
    "    for c in c_range:\n",
    "        clf = LogisticRegression(C=c,solver='warn',multi_class='auto').fit(X_train, y_train)\n",
    "        scores.append(clf.score(X_dev,y_dev))\n",
    "\n",
    "    return c_range[np.argmax(scores)],c_range,scores"
   ]
  },
  {
   "cell_type": "code",
   "execution_count": 0,
   "metadata": {
    "colab": {},
    "colab_type": "code",
    "id": "g2h6Hkje_P_R"
   },
   "outputs": [],
   "source": [
    "es_optimal_c, es_c_range, es_models_scores = get_best_model_param(X_train_esp,Y_train_esp,X_dev_esp,Y_dev_esp)"
   ]
  },
  {
   "cell_type": "code",
   "execution_count": 0,
   "metadata": {
    "colab": {},
    "colab_type": "code",
    "id": "JgyGgAqX_P_V"
   },
   "outputs": [],
   "source": [
    "du_optimal_c, du_c_range, du_models_scores = get_best_model_param(X_train_du,Y_train_du,X_dev_du,Y_dev_du)"
   ]
  },
  {
   "cell_type": "code",
   "execution_count": 0,
   "metadata": {
    "colab": {},
    "colab_type": "code",
    "id": "Y0qwEjGS_P_X",
    "outputId": "ecb54cd2-7eb0-40dd-9e9f-21a296ad9090"
   },
   "outputs": [
    {
     "name": "stdout",
     "output_type": "stream",
     "text": [
      "Optimal c for Spanish: 10 with score 0.93203\n",
      "Optimal c for Dutch: 10 with score 0.9516\n"
     ]
    }
   ],
   "source": [
    "print(\"Optimal c for Spanish: \" + str(es_optimal_c) + ' with score ' + str(round(max(es_models_scores),5)))\n",
    "print(\"Optimal c for Dutch: \" + str(du_optimal_c) + ' with score ' + str(round(max(du_models_scores),5)))"
   ]
  },
  {
   "cell_type": "code",
   "execution_count": 0,
   "metadata": {
    "colab": {},
    "colab_type": "code",
    "id": "8L9Ef0NI_P_h",
    "outputId": "d17c0561-5ccc-4a7c-aab8-7d7c186ebb00"
   },
   "outputs": [
    {
     "data": {
      "image/png": "[encoded data removed]",
      "text/plain": [
       "<Figure size 432x288 with 1 Axes>"
      ]
     },
     "metadata": {
      "tags": []
     },
     "output_type": "display_data"
    }
   ],
   "source": [
    "plt.grid(True)\n",
    "plt.title('Score as a function of C')\n",
    "plt.xlabel('C')\n",
    "plt.ylabel('Score')\n",
    "plt.loglog(es_c_range,es_models_scores)\n",
    "plt.loglog(du_c_range,du_models_scores)\n",
    "\n",
    "plt.legend(['Spanish', 'Dutch'], loc='best');"
   ]
  },
  {
   "cell_type": "markdown",
   "metadata": {
    "colab_type": "text",
    "id": "rJwRJdjd_P_q"
   },
   "source": [
    "Better results for the Dutch dataset."
   ]
  },
  {
   "cell_type": "markdown",
   "metadata": {
    "colab_type": "text",
    "id": "2FuE3tih_P_r"
   },
   "source": [
    "***Now, let's see the results on the test.***"
   ]
  },
  {
   "cell_type": "markdown",
   "metadata": {
    "colab_type": "text",
    "id": "kPSr7pLE9y_k"
   },
   "source": [
    "1. Spanish dataset:"
   ]
  },
  {
   "cell_type": "code",
   "execution_count": 0,
   "metadata": {
    "colab": {},
    "colab_type": "code",
    "id": "SIS-wfrz_P_r"
   },
   "outputs": [],
   "source": [
    "clf = LogisticRegression(C=es_optimal_c,solver='warn',multi_class='auto').fit(X_train_esp, Y_train_esp)\n",
    "esp_test_score = clf.score(X_test_esp,Y_test_esp)\n",
    "test_predictions = clf.predict(X_test_esp)"
   ]
  },
  {
   "cell_type": "code",
   "execution_count": 0,
   "metadata": {
    "colab": {},
    "colab_type": "code",
    "id": "pDsL2wIH_P_v"
   },
   "outputs": [],
   "source": [
    "def show_confusion_matrix(Y_test_esp,test_predictions):\n",
    "    classes = label_encoder.classes_\n",
    "    range_of_classes = list(range(len(label_encoder.classes_)))\n",
    "    sns.heatmap(confusion_matrix(Y_test_esp,test_predictions),cmap='Greens',annot=True, fmt='d')\n",
    "    plt.xlabel('Prediction')\n",
    "    plt.ylabel('True label')\n",
    "    plt.title('LogisticRegression model \\n classification results on test set')\n",
    "    plt.xticks(range_of_classes, classes, rotation=45)\n",
    "    plt.yticks(range_of_classes, classes,rotation=0)\n",
    "    plt.show()"
   ]
  },
  {
   "cell_type": "code",
   "execution_count": 0,
   "metadata": {
    "colab": {},
    "colab_type": "code",
    "id": "nnGSl_uU_P_y",
    "outputId": "b1f02b4e-37b2-498f-c61e-fa793178314b"
   },
   "outputs": [
    {
     "name": "stdout",
     "output_type": "stream",
     "text": [
      "Spanish test results 0.9447\n"
     ]
    },
    {
     "data": {
      "image/png": "[encoded data removed]",
      "text/plain": [
       "<Figure size 432x288 with 2 Axes>"
      ]
     },
     "metadata": {
      "tags": []
     },
     "output_type": "display_data"
    }
   ],
   "source": [
    "# from sklearn.metrics import precision_recall_fscore_support\n",
    "print(\"Spanish test results \" + str(round(esp_test_score,5)))\n",
    "show_confusion_matrix(Y_test_esp,test_predictions)"
   ]
  },
  {
   "cell_type": "markdown",
   "metadata": {
    "colab_type": "text",
    "id": "otyFo4U-_P_6"
   },
   "source": [
    "2. Dutch dataset:"
   ]
  },
  {
   "cell_type": "code",
   "execution_count": 0,
   "metadata": {
    "colab": {},
    "colab_type": "code",
    "id": "ew-v5sGN_P_9"
   },
   "outputs": [],
   "source": [
    "clf = LogisticRegression(C=du_optimal_c,solver='warn',multi_class='auto').fit(X_train_du, Y_train_du)\n",
    "du_test_score = clf.score(X_test_du,Y_test_du)\n",
    "du_test_predictions = clf.predict(X_test_du)"
   ]
  },
  {
   "cell_type": "code",
   "execution_count": 0,
   "metadata": {
    "colab": {},
    "colab_type": "code",
    "id": "wU9kWLTm_QAA",
    "outputId": "31104932-34b5-4131-c296-6135209e3ed9"
   },
   "outputs": [
    {
     "name": "stdout",
     "output_type": "stream",
     "text": [
      "Dutch test results 0.95985\n"
     ]
    },
    {
     "data": {
      "image/png": "[encoded data removed]",
      "text/plain": [
       "<Figure size 432x288 with 2 Axes>"
      ]
     },
     "metadata": {
      "tags": []
     },
     "output_type": "display_data"
    }
   ],
   "source": [
    "print(\"Dutch test results \" + str(round(du_test_score,5)))\n",
    "show_confusion_matrix(Y_test_du,du_test_predictions)"
   ]
  },
  {
   "cell_type": "markdown",
   "metadata": {
    "colab_type": "text",
    "id": "xOHQmfwZ_QAD"
   },
   "source": [
    "***Now we will improve our features set by looking at the tags of the previous word and the following word.***"
   ]
  },
  {
   "cell_type": "code",
   "execution_count": 0,
   "metadata": {
    "colab": {},
    "colab_type": "code",
    "id": "Dx6qQGXn_QAG"
   },
   "outputs": [],
   "source": [
    "def word2featuresExtented(sent, i):\n",
    "    word = sent[i][0]\n",
    "    postag = sent[i][1]\n",
    "    features = {\n",
    "        'word_form' : word,\n",
    "        'postag' : postag,\n",
    "        'prefix1' : get_char_at(word,0),\n",
    "        'prefix2' : get_char_at(word,1),\n",
    "        'prefix3' : get_char_at(word,2),\n",
    "        'suffix1' : get_char_at(word,-1),\n",
    "        'suffix2' : get_char_at(word,-2),\n",
    "        'suffix3' : get_char_at(word,-3),\n",
    "        'ort': get_ort(word)}\n",
    "    if i > 0:\n",
    "        prev_word, prev_tag, _ = sent[i-1]\n",
    "        features['prev_word'] = prev_word\n",
    "        features['prev_tag'] = prev_tag\n",
    "    else:\n",
    "        features['prev_word'] = 'BOF'\n",
    "    if i < len(sent) - 1:\n",
    "        next_word, next_tag,_ = sent[i+1]\n",
    "        features['next_word'] = next_word\n",
    "        features['next_tag'] = next_tag\n",
    "    else:\n",
    "        features['next_word'] = 'EOF'\n",
    "\n",
    "    return features\n",
    "\n",
    "def sent2features(self,sent):\n",
    "    return [word2featuresExtented(sent, i) for i in range(len(sent))]"
   ]
  },
  {
   "cell_type": "markdown",
   "metadata": {
    "colab_type": "text",
    "id": "O-DH8A1g_QAJ"
   },
   "source": [
    "Updating NER_Features and then we will repeat the all process"
   ]
  },
  {
   "cell_type": "code",
   "execution_count": 0,
   "metadata": {
    "colab": {},
    "colab_type": "code",
    "id": "ysbhxZab_QAJ"
   },
   "outputs": [],
   "source": [
    "setattr(NER_Features, 'sent2features', sent2features)"
   ]
  },
  {
   "cell_type": "code",
   "execution_count": 0,
   "metadata": {
    "colab": {},
    "colab_type": "code",
    "id": "zlvvdtae_QAL"
   },
   "outputs": [],
   "source": [
    "pipeline = create_pipeline()\n",
    "label_encoder = encode_labels(etrain)\n",
    "\n",
    "X_train_esp = pipeline.fit_transform(etrain)\n",
    "Y_train_esp = label_encoder.fit_transform(extract_labels(etrain))\n",
    "\n",
    "X_dev_esp = pipeline.transform(etesta)\n",
    "Y_dev_esp = label_encoder.transform(extract_labels(etesta))\n",
    "\n",
    "X_test_esp = pipeline.transform(etestb)\n",
    "Y_test_esp = label_encoder.transform(extract_labels(etestb))\n",
    "\n",
    "pipeline = create_pipeline()\n",
    "label_encoder = encode_labels(dtrain)\n",
    "\n",
    "X_train_du = pipeline.fit_transform(dtrain)\n",
    "Y_train_du = label_encoder.fit_transform(extract_labels(dtrain))\n",
    "\n",
    "X_dev_du = pipeline.transform(dtesta)\n",
    "Y_dev_du = label_encoder.transform(extract_labels(dtesta))\n",
    "\n",
    "X_test_du = pipeline.transform(dtestb)\n",
    "Y_test_du = label_encoder.transform(extract_labels(dtestb))"
   ]
  },
  {
   "cell_type": "code",
   "execution_count": 0,
   "metadata": {
    "colab": {},
    "colab_type": "code",
    "id": "hNLl4aT1_QAM"
   },
   "outputs": [],
   "source": [
    "es_optimal_c, es_c_range, es_models_scores = get_best_model_param(X_train_esp,Y_train_esp,X_dev_esp,Y_dev_esp)"
   ]
  },
  {
   "cell_type": "code",
   "execution_count": 0,
   "metadata": {
    "colab": {},
    "colab_type": "code",
    "id": "ud5LUTt5_QAP"
   },
   "outputs": [],
   "source": [
    "du_optimal_c, du_c_range, du_models_scores = get_best_model_param(X_train_du,Y_train_du,X_dev_du,Y_dev_du)"
   ]
  },
  {
   "cell_type": "code",
   "execution_count": 0,
   "metadata": {
    "colab": {},
    "colab_type": "code",
    "id": "ADN2xKnN_QAQ",
    "outputId": "ab8c084c-f98e-4886-a42f-cf91aa438d36"
   },
   "outputs": [
    {
     "name": "stdout",
     "output_type": "stream",
     "text": [
      "Optimal c for Spanish: 100 with score 0.95221\n",
      "Optimal c for Dutch: 100 with score 0.96861\n"
     ]
    }
   ],
   "source": [
    "print(\"Optimal c for Spanish: \" + str(es_optimal_c) + ' with score ' + str(round(max(es_models_scores),5)))\n",
    "print(\"Optimal c for Dutch: \" + str(du_optimal_c) + ' with score ' + str(round(max(du_models_scores),5)))"
   ]
  },
  {
   "cell_type": "code",
   "execution_count": 0,
   "metadata": {
    "colab": {},
    "colab_type": "code",
    "id": "3i1SkUrB_QAS",
    "outputId": "494268be-807c-4f29-f402-2d2baeabe2dc"
   },
   "outputs": [
    {
     "data": {
      "image/png": "[encoded data removed]",
      "text/plain": [
       "<Figure size 432x288 with 1 Axes>"
      ]
     },
     "metadata": {
      "tags": []
     },
     "output_type": "display_data"
    }
   ],
   "source": [
    "plt.grid(True)\n",
    "plt.title('Score as a function of C')\n",
    "plt.xlabel('C')\n",
    "plt.ylabel('Score')\n",
    "plt.loglog(es_c_range,es_models_scores)\n",
    "plt.loglog(du_c_range,du_models_scores)\n",
    "\n",
    "plt.legend(['Spanish', 'Dutch'], loc='best');"
   ]
  },
  {
   "cell_type": "markdown",
   "metadata": {
    "colab_type": "text",
    "id": "_1uyXcOy_QAV"
   },
   "source": [
    "So there is a nice improvment, for the Spanish set (on dev) there is growth from $0.93203 \\to 0.95221$ <br>\n",
    "and for the Dutch $0.9516 \\to 0.96861$<br>\n"
   ]
  },
  {
   "cell_type": "markdown",
   "metadata": {
    "colab_type": "text",
    "id": "_v0vVHSW9EuX"
   },
   "source": [
    "***Now, let's see the results on the test.***\n"
   ]
  },
  {
   "cell_type": "markdown",
   "metadata": {
    "colab_type": "text",
    "id": "6cvhaFbU92IR"
   },
   "source": [
    "1. Spanish dataset:"
   ]
  },
  {
   "cell_type": "code",
   "execution_count": 0,
   "metadata": {
    "colab": {},
    "colab_type": "code",
    "id": "7CrD6mAy_QAV"
   },
   "outputs": [],
   "source": [
    "clf = LogisticRegression(C=es_optimal_c,solver='warn',multi_class='auto').fit(X_train_esp, Y_train_esp)\n",
    "esp_test_score = clf.score(X_test_esp,Y_test_esp)\n",
    "test_predictions = clf.predict(X_test_esp)"
   ]
  },
  {
   "cell_type": "code",
   "execution_count": 0,
   "metadata": {
    "colab": {},
    "colab_type": "code",
    "id": "k2RPxqXv_QAY",
    "outputId": "cbddaeaa-96bc-44ef-8cad-b5d7653fd5ce"
   },
   "outputs": [
    {
     "name": "stdout",
     "output_type": "stream",
     "text": [
      "Spanish test results 0.96162\n"
     ]
    },
    {
     "data": {
      "image/png": "[encoded data removed]",
      "text/plain": [
       "<Figure size 432x288 with 2 Axes>"
      ]
     },
     "metadata": {
      "tags": []
     },
     "output_type": "display_data"
    }
   ],
   "source": [
    "print(\"Spanish test results \" + str(round(esp_test_score,5)))\n",
    "show_confusion_matrix(Y_test_esp,test_predictions)"
   ]
  },
  {
   "cell_type": "markdown",
   "metadata": {
    "colab_type": "text",
    "id": "EuZFJmn59JZ7"
   },
   "source": [
    "2. Dutch dataset:"
   ]
  },
  {
   "cell_type": "code",
   "execution_count": 0,
   "metadata": {
    "colab": {},
    "colab_type": "code",
    "id": "stsson4e_QAa"
   },
   "outputs": [],
   "source": [
    "clf = LogisticRegression(C=du_optimal_c,solver='warn',multi_class='auto').fit(X_train_du, Y_train_du)\n",
    "du_test_score = clf.score(X_test_du,Y_test_du)\n",
    "du_test_predictions = clf.predict(X_test_du)"
   ]
  },
  {
   "cell_type": "code",
   "execution_count": 0,
   "metadata": {
    "colab": {},
    "colab_type": "code",
    "id": "GEh8O08o_QAb",
    "outputId": "0905fb82-73f1-4e39-aacb-4261458a2072"
   },
   "outputs": [
    {
     "name": "stdout",
     "output_type": "stream",
     "text": [
      "Dutch test results 0.97509\n"
     ]
    },
    {
     "data": {
      "image/png": "[encoded data removed]",
      "text/plain": [
       "<Figure size 432x288 with 2 Axes>"
      ]
     },
     "metadata": {
      "tags": []
     },
     "output_type": "display_data"
    }
   ],
   "source": [
    "print(\"Dutch test results \" + str(round(du_test_score,5)))\n",
    "show_confusion_matrix(Y_test_du,du_test_predictions)"
   ]
  },
  {
   "cell_type": "markdown",
   "metadata": {
    "colab_type": "text",
    "id": "BmffqFDY_QAd"
   },
   "source": [
    "We can clearly see how relevant are the previus and next word features, in our case their tags.<br>\n",
    "Spanish test results improvment $0.9447 \\to 0.96162$.<br>\n",
    "Dutch test results improvment $0.95985 \\to 0.97509$.<br>\n",
    "About almost two precent improve. "
   ]
  },
  {
   "cell_type": "markdown",
   "metadata": {
    "colab_type": "text",
    "id": "pTRg5XQ2_QAd"
   },
   "source": [
    "#### 3.1.3 "
   ]
  },
  {
   "cell_type": "markdown",
   "metadata": {
    "colab_type": "text",
    "id": "JxSvsfVN_QAe"
   },
   "source": [
    "We will check that the BIO tags produced by the tagger is a legal sequence.<br>\n",
    "The following sequences are illegal:\n",
    "1. I_X followed by B_Y or O but not B_X (X is not Y)\n",
    "2. B_X followed by B_X OR I_X \n"
   ]
  },
  {
   "cell_type": "code",
   "execution_count": 0,
   "metadata": {
    "colab": {},
    "colab_type": "code",
    "id": "4NP3XL8d_QAe"
   },
   "outputs": [],
   "source": [
    "def count_illegal_and_tot(sent):\n",
    "    ill_seq = 0 \n",
    "    tot_seq = 0\n",
    "    seen_tags = set()\n",
    "    tags = map(lambda word:word[2],sent)\n",
    "    for tag in tags:\n",
    "        if not tag == 'O':\n",
    "            tot_seq += 1\n",
    "                            \n",
    "        if tag == 'B-LOC':\n",
    "            if 'B-LOC' in seen_tags: ill_seq += 1 # B_X then B_X\n",
    "            if 'I-LOC' in seen_tags: ill_seq += 1 # B_X followed by I_X\n",
    "            seen_tags.union({'B-LOC'})\n",
    "                \n",
    "        if tag == 'I-LOC':\n",
    "            if 'B-LOC' not in seen_tags: ill_seq += 1 # I_X not followed by B_X\n",
    "            seen_tags.union({'I-LOC'})\n",
    " \n",
    "        if tag == 'B-MISC':\n",
    "            if 'B-MISC' in seen_tags: ill_seq += 1 # B_X then B_X\n",
    "            if 'I-MISC' in seen_tags: ill_seq += 1 # B_X followed by I_X\n",
    "            seen_tags.union({'B-MISC'})\n",
    "                \n",
    "        if tag == 'I-MISC':\n",
    "            if 'B-MISC' not in seen_tags: ill_seq += 1 # I_X not followed by B_X\n",
    "            seen_tags.union({'I-MISC'})\n",
    "                \n",
    "        if tag == 'B-ORG':\n",
    "            if 'B-ORG' in seen_tags: ill_seq += 1 # B_X then B_X\n",
    "            if 'I-ORG' in seen_tags: ill_seq += 1 # B_X followed by I_X\n",
    "            seen_tags.union({'B-ORG'})\n",
    "                \n",
    "        if tag == 'I-ORG':\n",
    "            if 'B-ORG' not in seen_tags: ill_seq += 1 # I_X not followed by B_X\n",
    "            seen_tags.union({'I-ORG'})\n",
    "\n",
    "    return ill_seq,tot_seq\n",
    "        \n",
    "def illegal_frequency(data):\n",
    "    tot_seq = 0\n",
    "    ill_seq = 0\n",
    "    for sent in data:\n",
    "        illegal,tot = count_illegal_and_tot(sent)\n",
    "        ill_seq += illegal\n",
    "        tot_seq += tot\n",
    "        \n",
    "    return ill_seq / tot_seq\n",
    "    \n",
    " "
   ]
  },
  {
   "cell_type": "code",
   "execution_count": 0,
   "metadata": {
    "colab": {},
    "colab_type": "code",
    "id": "CH1uwhYs_QAg",
    "outputId": "d4edeaa6-6d39-4d7c-d1a2-7344bc541482"
   },
   "outputs": [
    {
     "name": "stdout",
     "output_type": "stream",
     "text": [
      "BIO tags errors frequencies for train 0.308,dev 0.311 and test 0.321\n"
     ]
    }
   ],
   "source": [
    "train_freq = round(illegal_frequency(etrain),3)\n",
    "dev_freq = round(illegal_frequency(etesta),3)\n",
    "test_freq = round(illegal_frequency(etestb),3)\n",
    "print('BIO tags errors frequencies for train {},dev {} and test {}'.format(train_freq,dev_freq,test_freq))"
   ]
  },
  {
   "cell_type": "markdown",
   "metadata": {
    "colab_type": "text",
    "id": "PRxaqQyS_QAi"
   },
   "source": [
    "About 31% illegal BIO tags, for train dev and test. "
   ]
  },
  {
   "cell_type": "markdown",
   "metadata": {
    "colab_type": "text",
    "id": "vINMsn1a_QAi"
   },
   "source": [
    "### 3.2 Using Word Embeddings"
   ]
  },
  {
   "cell_type": "code",
   "execution_count": 0,
   "metadata": {
    "colab": {},
    "colab_type": "code",
    "id": "7UDnkkDmefzN"
   },
   "outputs": [],
   "source": [
    "class EmbeddingsExtractor(TransformerMixin):\n",
    "  def __init__(self, embedding_model):\n",
    "    self.emb_model = embedding_model\n",
    "    self.vocabulary = set(embedding_model.index2word)\n",
    "    self.size = embedding_model.syn0.shape[1]\n",
    "  \n",
    "  def transform(self,X):\n",
    "    all_features = []\n",
    "    for s in X:\n",
    "        all_features += self.sent2features(s)\n",
    "    return all_features\n",
    "\n",
    "  def fit(self,X,y=None):\n",
    "    return self\n",
    "  \n",
    "  def sent2features(self,sent):\n",
    "    return [self.word2featuresEmbedding(sent, i) for i in range(len(sent))]\n",
    "  \n",
    "  \n",
    "  def word2featuresEmbedding(self, sent, i):\n",
    "    # if a word is not exsist in the vocabulary the embedding would be zeros\n",
    "    embedding = np.zeros((3*self.size,))\n",
    "    \n",
    "    # pre word embedding\n",
    "    if i > 0 and sent[i-1][0] in self.vocabulary:\n",
    "        embedding[:self.size] = self.emb_model[sent[i-1][0]]\n",
    "        \n",
    "    # word embedding\n",
    "    if sent[i][0] in self.vocabulary:\n",
    "        embedding[self.size:2*self.size] = self.emb_model[sent[i][0]]\n",
    "        \n",
    "    # next word embedding\n",
    "    if i < len(sent) - 1 and sent[i+1][0] in self.vocabulary:\n",
    "        embedding[2*self.size:] = self.emb_model[sent[i+1][0]]\n",
    "        \n",
    "    return embedding"
   ]
  },
  {
   "cell_type": "code",
   "execution_count": 0,
   "metadata": {
    "colab": {},
    "colab_type": "code",
    "id": "XxBNoQFV_QAm"
   },
   "outputs": [],
   "source": [
    "def create_pipeline(emb_model):\n",
    "  return Pipeline([\n",
    "      ('get_features', FeatureUnion([\n",
    "          ('like_before', Pipeline([('extract_features', NER_Features()),\n",
    "                                    ('vectorize', DictVectorizer())])),\n",
    "          ('word_embeddings', EmbeddingsExtractor(emb_model))\n",
    "      ]))\n",
    "  ])"
   ]
  },
  {
   "cell_type": "markdown",
   "metadata": {
    "colab_type": "text",
    "id": "_aHFDKe25UWr"
   },
   "source": [
    "We use the optimal ```C``` we got from the last section whith was $100$ for both langages\n",
    "\n"
   ]
  },
  {
   "cell_type": "code",
   "execution_count": 0,
   "metadata": {
    "colab": {},
    "colab_type": "code",
    "id": "70xrOLBoAhX1"
   },
   "outputs": [],
   "source": [
    "# def precision_recall_fscore(clf, le, test):\n",
    "def get_stats(pred, y):\n",
    "    stats_labels = {}\n",
    "    for label in set(y):\n",
    "        TP = ((pred == label) & (y == label)).sum()\n",
    "        TN = ((pred != label) & (y != label)).sum()\n",
    "        FP = ((pred == label) & (y != label)).sum()\n",
    "        FN = ((pred != label) & (y == label)).sum()\n",
    "        precision = TP / (TP + FP)\n",
    "        recall = TP / (TP + FN)\n",
    "        f1_score = 2 * precision * recall / (precision + recall)\n",
    "        stats_labels[label] = {'Precision': precision, 'Recall': recall, 'F1 Score': f1_score}\n",
    "    df = pd.DataFrame(stats_labels).sort_values('F1 Score', axis=1).T\n",
    "    return df[['Precision', 'Recall','F1 Score']]"
   ]
  },
  {
   "cell_type": "markdown",
   "metadata": {
    "colab_type": "text",
    "id": "YNoRvpWs8Z_L"
   },
   "source": [
    "#### Spanish"
   ]
  },
  {
   "cell_type": "code",
   "execution_count": 0,
   "metadata": {
    "colab": {},
    "colab_type": "code",
    "id": "OewczrvG_QAj"
   },
   "outputs": [],
   "source": [
    "es_emb_path = '../data/wiki.es.vec'\n",
    "\n",
    "es_emb_model = KeyedVectors.load_word2vec_format(es_emb_path, limit=int(985667*0.18)) # 985667 total numbers of vectores\n",
    "es_emb_model.init_sims(replace=True)"
   ]
  },
  {
   "cell_type": "code",
   "execution_count": 0,
   "metadata": {
    "colab": {
     "base_uri": "https://localhost:8080/",
     "height": 74
    },
    "colab_type": "code",
    "executionInfo": {
     "elapsed": 1392,
     "status": "ok",
     "timestamp": 1545067821266,
     "user": {
      "displayName": "Adi Magen",
      "photoUrl": "",
      "userId": "08665314525103301426"
     },
     "user_tz": -120
    },
    "id": "klBiTYTJ2WOI",
    "outputId": "e424b05c-9965-429a-9e0d-b6c021754ef0"
   },
   "outputs": [
    {
     "name": "stderr",
     "output_type": "stream",
     "text": [
      "/usr/local/lib/python3.6/dist-packages/ipykernel_launcher.py:5: DeprecationWarning: Call to deprecated `syn0` (Attribute will be removed in 4.0.0, use self.wv.vectors instead).\n",
      "  \"\"\"\n"
     ]
    }
   ],
   "source": [
    "pipeline = create_pipeline(es_emb_model)\n",
    "label_encoder = encode_labels(etrain)"
   ]
  },
  {
   "cell_type": "code",
   "execution_count": 0,
   "metadata": {
    "colab": {},
    "colab_type": "code",
    "id": "bi6JLxqUIK2i"
   },
   "outputs": [],
   "source": [
    "X_train_esp = pipeline.fit_transform(etrain)\n",
    "Y_train_esp = label_encoder.fit_transform(extract_labels(etrain))\n",
    "\n",
    "X_dev_esp = pipeline.transform(etesta)\n",
    "Y_dev_esp = label_encoder.transform(extract_labels(etesta))\n",
    "\n",
    "X_test_esp = pipeline.transform(etestb)\n",
    "Y_test_esp = label_encoder.transform(extract_labels(etestb))"
   ]
  },
  {
   "cell_type": "code",
   "execution_count": 0,
   "metadata": {
    "colab": {
     "base_uri": "https://localhost:8080/",
     "height": 74
    },
    "colab_type": "code",
    "executionInfo": {
     "elapsed": 8185835,
     "status": "ok",
     "timestamp": 1545076194236,
     "user": {
      "displayName": "Adi Magen",
      "photoUrl": "",
      "userId": "08665314525103301426"
     },
     "user_tz": -120
    },
    "id": "CZaU4Y1Z5HXb",
    "outputId": "a285ccf7-271f-47ce-cd8c-6f333da202d6"
   },
   "outputs": [
    {
     "name": "stderr",
     "output_type": "stream",
     "text": [
      "/usr/local/lib/python3.6/dist-packages/sklearn/linear_model/logistic.py:433: FutureWarning: Default solver will be changed to 'lbfgs' in 0.22. Specify a solver to silence this warning.\n",
      "  FutureWarning)\n"
     ]
    }
   ],
   "source": [
    "es_clf = LogisticRegression(C=es_optimal_c,solver='warn',multi_class='auto').fit(X_train_esp, Y_train_esp)"
   ]
  },
  {
   "cell_type": "code",
   "execution_count": 0,
   "metadata": {
    "colab": {
     "base_uri": "https://localhost:8080/",
     "height": 54
    },
    "colab_type": "code",
    "executionInfo": {
     "elapsed": 1820,
     "status": "ok",
     "timestamp": 1545076445347,
     "user": {
      "displayName": "Adi Magen",
      "photoUrl": "",
      "userId": "08665314525103301426"
     },
     "user_tz": -120
    },
    "id": "m1POI0Oc6cqY",
    "outputId": "341fadd7-b84e-4ade-9675-01c13748bb5b"
   },
   "outputs": [
    {
     "name": "stdout",
     "output_type": "stream",
     "text": [
      "Spanish model with embedding score on dev: 0.94254\n",
      "Spanish model with embedding score on test: 0.95376\n"
     ]
    }
   ],
   "source": [
    "print('Spanish model with embedding score on dev: ' + str(round(es_clf.score(X_dev_esp, Y_dev_esp), 5)))\n",
    "print('Spanish model with embedding score on test: ' + str(round(es_clf.score(X_test_esp, Y_test_esp), 5)))"
   ]
  },
  {
   "cell_type": "markdown",
   "metadata": {
    "colab_type": "text",
    "id": "mk6UD187z0Di"
   },
   "source": [
    "We can see the the embedding didn't improve the results for the Spanish dataset.<br>\n",
    "The reason might be that we didn't use all the embedding vectors from fastText due to low processing power, we have used the next param: (```limit=int(985667*0.18)```) in order to save memory otherwise running the notebook would cause to a crash. We also used ```init_sims(replace=True)``` for the same reason.<br>\n",
    "*\"replace : bool, optional If True - forget the original vectors and only keep the normalized ones = saves lots of memory!\"*\n",
    "sklearn documentation."
   ]
  },
  {
   "cell_type": "code",
   "execution_count": 0,
   "metadata": {
    "colab": {
     "base_uri": "https://localhost:8080/",
     "height": 412
    },
    "colab_type": "code",
    "executionInfo": {
     "elapsed": 2073,
     "status": "ok",
     "timestamp": 1545076287831,
     "user": {
      "displayName": "Adi Magen",
      "photoUrl": "",
      "userId": "08665314525103301426"
     },
     "user_tz": -120
    },
    "id": "syrZhN79ASWb",
    "outputId": "e7e59914-e7e3-4dd0-df93-1f517a557a01"
   },
   "outputs": [
    {
     "data": {
      "image/png": "[encoded data removed]",
      "text/plain": [
       "<matplotlib.figure.Figure at 0x7effa9ba2240>"
      ]
     },
     "metadata": {
      "tags": []
     },
     "output_type": "display_data"
    }
   ],
   "source": [
    "esp_test_predictions = es_clf.predict(X_test_esp)\n",
    "show_confusion_matrix(Y_test_esp, esp_test_predictions)"
   ]
  },
  {
   "cell_type": "code",
   "execution_count": 0,
   "metadata": {
    "colab": {
     "base_uri": "https://localhost:8080/",
     "height": 331
    },
    "colab_type": "code",
    "executionInfo": {
     "elapsed": 834,
     "status": "ok",
     "timestamp": 1545076289181,
     "user": {
      "displayName": "Adi Magen",
      "photoUrl": "",
      "userId": "08665314525103301426"
     },
     "user_tz": -120
    },
    "id": "FxDnjBsPBwt-",
    "outputId": "e06bd483-a07e-4686-a837-60214949c991"
   },
   "outputs": [
    {
     "data": {
      "text/html": [
       "<div>\n",
       "<style scoped>\n",
       "    .dataframe tbody tr th:only-of-type {\n",
       "        vertical-align: middle;\n",
       "    }\n",
       "\n",
       "    .dataframe tbody tr th {\n",
       "        vertical-align: top;\n",
       "    }\n",
       "\n",
       "    .dataframe thead th {\n",
       "        text-align: right;\n",
       "    }\n",
       "</style>\n",
       "<table border=\"1\" class=\"dataframe\">\n",
       "  <thead>\n",
       "    <tr style=\"text-align: right;\">\n",
       "      <th></th>\n",
       "      <th>Precision</th>\n",
       "      <th>Recall</th>\n",
       "      <th>F1 Score</th>\n",
       "    </tr>\n",
       "  </thead>\n",
       "  <tbody>\n",
       "    <tr>\n",
       "      <th>5</th>\n",
       "      <td>0.437262</td>\n",
       "      <td>0.206463</td>\n",
       "      <td>0.280488</td>\n",
       "    </tr>\n",
       "    <tr>\n",
       "      <th>4</th>\n",
       "      <td>0.585799</td>\n",
       "      <td>0.304615</td>\n",
       "      <td>0.400810</td>\n",
       "    </tr>\n",
       "    <tr>\n",
       "      <th>1</th>\n",
       "      <td>0.526846</td>\n",
       "      <td>0.463127</td>\n",
       "      <td>0.492936</td>\n",
       "    </tr>\n",
       "    <tr>\n",
       "      <th>6</th>\n",
       "      <td>0.576772</td>\n",
       "      <td>0.530797</td>\n",
       "      <td>0.552830</td>\n",
       "    </tr>\n",
       "    <tr>\n",
       "      <th>0</th>\n",
       "      <td>0.732367</td>\n",
       "      <td>0.699262</td>\n",
       "      <td>0.715432</td>\n",
       "    </tr>\n",
       "    <tr>\n",
       "      <th>7</th>\n",
       "      <td>0.674839</td>\n",
       "      <td>0.824921</td>\n",
       "      <td>0.742370</td>\n",
       "    </tr>\n",
       "    <tr>\n",
       "      <th>3</th>\n",
       "      <td>0.769430</td>\n",
       "      <td>0.808163</td>\n",
       "      <td>0.788321</td>\n",
       "    </tr>\n",
       "    <tr>\n",
       "      <th>2</th>\n",
       "      <td>0.793750</td>\n",
       "      <td>0.816429</td>\n",
       "      <td>0.804930</td>\n",
       "    </tr>\n",
       "    <tr>\n",
       "      <th>8</th>\n",
       "      <td>0.987108</td>\n",
       "      <td>0.996031</td>\n",
       "      <td>0.991550</td>\n",
       "    </tr>\n",
       "  </tbody>\n",
       "</table>\n",
       "</div>"
      ],
      "text/plain": [
       "   Precision    Recall  F1 Score\n",
       "5   0.437262  0.206463  0.280488\n",
       "4   0.585799  0.304615  0.400810\n",
       "1   0.526846  0.463127  0.492936\n",
       "6   0.576772  0.530797  0.552830\n",
       "0   0.732367  0.699262  0.715432\n",
       "7   0.674839  0.824921  0.742370\n",
       "3   0.769430  0.808163  0.788321\n",
       "2   0.793750  0.816429  0.804930\n",
       "8   0.987108  0.996031  0.991550"
      ]
     },
     "execution_count": 22,
     "metadata": {
      "tags": []
     },
     "output_type": "execute_result"
    }
   ],
   "source": [
    "get_stats(esp_test_predictions, Y_test_esp)"
   ]
  },
  {
   "cell_type": "markdown",
   "metadata": {
    "colab_type": "text",
    "id": "0lPkPKhlvEUJ"
   },
   "source": [
    "The index are numbers that do not say much. So let's map them to the labels:\n",
    "\n",
    "0. B-LOC\n",
    "1. B-MISC\n",
    "2. B-ORG\n",
    "3. B-PER\n",
    "4. I-LOC\n",
    "5. I-MISC \n",
    "6. I-ORG\n",
    "7. I-PER\n",
    "8. O"
   ]
  },
  {
   "cell_type": "markdown",
   "metadata": {
    "colab_type": "text",
    "id": "PPcaVmf3_QAq"
   },
   "source": [
    "#### Dutch"
   ]
  },
  {
   "cell_type": "code",
   "execution_count": 0,
   "metadata": {
    "colab": {},
    "colab_type": "code",
    "id": "mDMyqaFlyLZ0"
   },
   "outputs": [],
   "source": [
    "nl_emb_path = '../data/wiki.nl.vec'\n",
    "nl_emb_model = KeyedVectors.load_word2vec_format(nl_emb_path, limit=int(871022*0.2)) # 871022 total numbers of vectores\n",
    "nl_emb_model.init_sims(replace=True)"
   ]
  },
  {
   "cell_type": "code",
   "execution_count": 0,
   "metadata": {
    "colab": {
     "base_uri": "https://localhost:8080/",
     "height": 74
    },
    "colab_type": "code",
    "executionInfo": {
     "elapsed": 75651,
     "status": "ok",
     "timestamp": 1545063968493,
     "user": {
      "displayName": "Adi Magen",
      "photoUrl": "",
      "userId": "08665314525103301426"
     },
     "user_tz": -120
    },
    "id": "7eB39UoY_QAr",
    "outputId": "53130e8d-3ade-430d-db6d-29e54bf8b05e"
   },
   "outputs": [
    {
     "name": "stderr",
     "output_type": "stream",
     "text": [
      "/usr/local/lib/python3.6/dist-packages/ipykernel_launcher.py:5: DeprecationWarning: Call to deprecated `syn0` (Attribute will be removed in 4.0.0, use self.wv.vectors instead).\n",
      "  \"\"\"\n"
     ]
    }
   ],
   "source": [
    "pipeline = create_pipeline(nl_emb_model)\n",
    "label_encoder = encode_labels(dtrain)\n",
    "\n",
    "X_train_du = pipeline.fit_transform(dtrain)\n",
    "Y_train_du = label_encoder.fit_transform(extract_labels(dtrain))\n",
    "\n",
    "X_dev_du = pipeline.transform(dtesta)\n",
    "Y_dev_du = label_encoder.transform(extract_labels(dtesta))\n",
    "\n",
    "X_test_du = pipeline.transform(dtestb)\n",
    "Y_test_du = label_encoder.transform(extract_labels(dtestb))"
   ]
  },
  {
   "cell_type": "code",
   "execution_count": 0,
   "metadata": {
    "colab": {
     "base_uri": "https://localhost:8080/",
     "height": 74
    },
    "colab_type": "code",
    "executionInfo": {
     "elapsed": 2754565,
     "status": "ok",
     "timestamp": 1545066746460,
     "user": {
      "displayName": "Adi Magen",
      "photoUrl": "",
      "userId": "08665314525103301426"
     },
     "user_tz": -120
    },
    "id": "e9JrXQZS_MsJ",
    "outputId": "41b3a9ff-c340-4747-b909-a354f2d6b891"
   },
   "outputs": [
    {
     "name": "stderr",
     "output_type": "stream",
     "text": [
      "/usr/local/lib/python3.6/dist-packages/sklearn/linear_model/logistic.py:433: FutureWarning: Default solver will be changed to 'lbfgs' in 0.22. Specify a solver to silence this warning.\n",
      "  FutureWarning)\n"
     ]
    }
   ],
   "source": [
    "du_clf = LogisticRegression(C=du_optimal_c,solver='warn',multi_class='auto').fit(X_train_du, Y_train_du)"
   ]
  },
  {
   "cell_type": "code",
   "execution_count": 0,
   "metadata": {
    "colab": {
     "base_uri": "https://localhost:8080/",
     "height": 54
    },
    "colab_type": "code",
    "executionInfo": {
     "elapsed": 1794,
     "status": "ok",
     "timestamp": 1545066900303,
     "user": {
      "displayName": "Adi Magen",
      "photoUrl": "",
      "userId": "08665314525103301426"
     },
     "user_tz": -120
    },
    "id": "P6Dr9P-3_RZG",
    "outputId": "f32c1c78-0ba3-41ee-cb22-16451240d416"
   },
   "outputs": [
    {
     "name": "stdout",
     "output_type": "stream",
     "text": [
      "Dutch model with embedding score on dev: 0.96951\n",
      "Dutch model with embedding score on test: 0.97593\n"
     ]
    }
   ],
   "source": [
    "print('Dutch model with embedding score on dev: ' + str(round(du_clf.score(X_dev_du, Y_dev_du), 5)))\n",
    "print('Dutch model with embedding score on test: ' + str(round(du_clf.score(X_test_du, Y_test_du), 5)))"
   ]
  },
  {
   "cell_type": "markdown",
   "metadata": {
    "colab_type": "text",
    "id": "Ef4EWsJLL-X7"
   },
   "source": [
    "We can observed a little increase of accuracy from section 3.2.1 on the test set. From 97.509% to 96.951%. Notice that, the percentages are very high already, so this increase is significant."
   ]
  },
  {
   "cell_type": "code",
   "execution_count": 0,
   "metadata": {
    "colab": {
     "base_uri": "https://localhost:8080/",
     "height": 412
    },
    "colab_type": "code",
    "executionInfo": {
     "elapsed": 2274,
     "status": "ok",
     "timestamp": 1545066811055,
     "user": {
      "displayName": "Adi Magen",
      "photoUrl": "",
      "userId": "08665314525103301426"
     },
     "user_tz": -120
    },
    "id": "iOCB3DH4_6pp",
    "outputId": "24374bcd-6a2e-4a0e-eed1-e3f9f30fea3a"
   },
   "outputs": [
    {
     "data": {
      "image/png": "[encoded data removed]",
      "text/plain": [
       "<matplotlib.figure.Figure at 0x7f8f36131cf8>"
      ]
     },
     "metadata": {
      "tags": []
     },
     "output_type": "display_data"
    }
   ],
   "source": [
    "du_test_predictions = du_clf.predict(X_test_du)\n",
    "show_confusion_matrix(Y_test_du, du_test_predictions)"
   ]
  },
  {
   "cell_type": "code",
   "execution_count": 0,
   "metadata": {
    "colab": {
     "base_uri": "https://localhost:8080/",
     "height": 331
    },
    "colab_type": "code",
    "executionInfo": {
     "elapsed": 1391,
     "status": "ok",
     "timestamp": 1545066861708,
     "user": {
      "displayName": "Adi Magen",
      "photoUrl": "",
      "userId": "08665314525103301426"
     },
     "user_tz": -120
    },
    "id": "KOjkJCYsB2kC",
    "outputId": "c8403d4a-be64-49fa-d315-1f91794daa38"
   },
   "outputs": [
    {
     "data": {
      "text/html": [
       "<div>\n",
       "<style scoped>\n",
       "    .dataframe tbody tr th:only-of-type {\n",
       "        vertical-align: middle;\n",
       "    }\n",
       "\n",
       "    .dataframe tbody tr th {\n",
       "        vertical-align: top;\n",
       "    }\n",
       "\n",
       "    .dataframe thead th {\n",
       "        text-align: right;\n",
       "    }\n",
       "</style>\n",
       "<table border=\"1\" class=\"dataframe\">\n",
       "  <thead>\n",
       "    <tr style=\"text-align: right;\">\n",
       "      <th></th>\n",
       "      <th>Precision</th>\n",
       "      <th>Recall</th>\n",
       "      <th>F1 Score</th>\n",
       "    </tr>\n",
       "  </thead>\n",
       "  <tbody>\n",
       "    <tr>\n",
       "      <th>5</th>\n",
       "      <td>0.659193</td>\n",
       "      <td>0.358537</td>\n",
       "      <td>0.464455</td>\n",
       "    </tr>\n",
       "    <tr>\n",
       "      <th>4</th>\n",
       "      <td>0.609756</td>\n",
       "      <td>0.510204</td>\n",
       "      <td>0.555556</td>\n",
       "    </tr>\n",
       "    <tr>\n",
       "      <th>6</th>\n",
       "      <td>0.788204</td>\n",
       "      <td>0.533575</td>\n",
       "      <td>0.636364</td>\n",
       "    </tr>\n",
       "    <tr>\n",
       "      <th>2</th>\n",
       "      <td>0.756614</td>\n",
       "      <td>0.648526</td>\n",
       "      <td>0.698413</td>\n",
       "    </tr>\n",
       "    <tr>\n",
       "      <th>1</th>\n",
       "      <td>0.807551</td>\n",
       "      <td>0.738837</td>\n",
       "      <td>0.771667</td>\n",
       "    </tr>\n",
       "    <tr>\n",
       "      <th>3</th>\n",
       "      <td>0.755085</td>\n",
       "      <td>0.845173</td>\n",
       "      <td>0.797593</td>\n",
       "    </tr>\n",
       "    <tr>\n",
       "      <th>0</th>\n",
       "      <td>0.845517</td>\n",
       "      <td>0.791990</td>\n",
       "      <td>0.817879</td>\n",
       "    </tr>\n",
       "    <tr>\n",
       "      <th>7</th>\n",
       "      <td>0.748485</td>\n",
       "      <td>0.918216</td>\n",
       "      <td>0.824708</td>\n",
       "    </tr>\n",
       "    <tr>\n",
       "      <th>8</th>\n",
       "      <td>0.993192</td>\n",
       "      <td>0.998463</td>\n",
       "      <td>0.995820</td>\n",
       "    </tr>\n",
       "  </tbody>\n",
       "</table>\n",
       "</div>"
      ],
      "text/plain": [
       "   Precision    Recall  F1 Score\n",
       "5   0.659193  0.358537  0.464455\n",
       "4   0.609756  0.510204  0.555556\n",
       "6   0.788204  0.533575  0.636364\n",
       "2   0.756614  0.648526  0.698413\n",
       "1   0.807551  0.738837  0.771667\n",
       "3   0.755085  0.845173  0.797593\n",
       "0   0.845517  0.791990  0.817879\n",
       "7   0.748485  0.918216  0.824708\n",
       "8   0.993192  0.998463  0.995820"
      ]
     },
     "execution_count": 21,
     "metadata": {
      "tags": []
     },
     "output_type": "execute_result"
    }
   ],
   "source": [
    "get_stats(du_test_predictions, Y_test_du)"
   ]
  },
  {
   "cell_type": "markdown",
   "metadata": {
    "colab_type": "text",
    "id": "5mUTeaTLMvXu"
   },
   "source": [
    "The index are numbers that do not say much. So let's map them to the labels:\n",
    "\n",
    "0. B-LOC\n",
    "1. B-MISC\n",
    "2. B-ORG\n",
    "3. B-PER\n",
    "4. I-LOC\n",
    "5. I-MISC \n",
    "6. I-ORG\n",
    "7. I-PER\n",
    "8. O"
   ]
  }
 ],
 "metadata": {
  "accelerator": "GPU",
  "colab": {
   "collapsed_sections": [
    "oxr9E_OU_P7F"
   ],
   "name": "NLPASS2.ipynb",
   "provenance": [],
   "version": "0.3.2"
  },
  "kernelspec": {
   "display_name": "Python 3",
   "language": "python",
   "name": "python3"
  },
  "language_info": {
   "codemirror_mode": {
    "name": "ipython",
    "version": 3
   },
   "file_extension": ".py",
   "mimetype": "text/x-python",
   "name": "python",
   "nbconvert_exporter": "python",
   "pygments_lexer": "ipython3",
   "version": "3.6.7"
  }
 },
 "nbformat": 4,
 "nbformat_minor": 1
}
