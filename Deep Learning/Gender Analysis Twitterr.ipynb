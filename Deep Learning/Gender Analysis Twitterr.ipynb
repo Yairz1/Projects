{
 "cells": [
  {
   "cell_type": "markdown",
   "metadata": {
    "colab_type": "text",
    "id": "Uo5wdCKlUcZq"
   },
   "source": [
    "### Hello :)\n",
    "<span style=\"color:red\">\n",
    "We invested a lot of work in this project, while using Embedding+LSTM and advanced techniques to achieve good results.<br>\n",
    "This notebook is pretty large and contains alot of information.<br>\n",
    "Actually, we highly recommend to start with the conclusions section at the end of this notebook which also includes a summary. It will help you to easily understand the flow of this notebook and maybe will save you some time.<br>\n",
    "Hope you will enjoy our work.\n",
    "</span>"
   ]
  },
  {
   "cell_type": "markdown",
   "metadata": {},
   "source": [
    "## Design Document "
   ]
  },
  {
   "cell_type": "markdown",
   "metadata": {},
   "source": [
    "### Program Flow:\n",
    ">Stage 1. We pre procced the data, created dataset for the machine learning models, for the lstm.<br>\n",
    ">Stage 2. We used 2 machine learning models and we presented the results as accuracy and confusion matrixs.<br>\n",
    ">Stage 3. We have download 15030 tweets and pre-procced them exacly as in stage 1.<br>\n",
    ">Stage 4. Analyzing and Conclusions.<br>\n",
    "*the stages above are summary of the flow we asked to implement in the project requirements.\n",
    "### Main Functions:\n",
    "* for any case, the next functions are clearly documented during the notebook.\n",
    "#### pre proccesing:\n",
    ">1. Tokenizer<br>\n",
    ">2. Lemmatize<br>\n",
    ">3. Text_to_sequence<br>\n",
    ">4. CountVectorizer, TfidfTransformer, TfidfVectorizer, LabelEncoder<br>\n",
    ">5. transform_df - method which takes a dataframe and return reshape-able dataframe (split sequence to columns)\n",
    "#### Train and Predictions:\n",
    ">1. kfold,train_test_split \n",
    ">2. build_pipeline\n",
    ">3. train - taking a model and k, running k-fold cross validation on the given model\n",
    ">4. find_optimal_alpha - taking a model and range of numbres, find the best number from the given range as the optimal alpha for the given model. model which alpha is an parameter for the model.\n",
    ">5. models : LogisticRegression,MultinomialNB,LSTM,Embedding.\n",
    ">6. Train learning plot.\n",
    "#### Results\n",
    ">1. Accuracy plot, Confusion matrix plot, \n",
    ">2. CountVectorizer,TfidfTransformer,TfidfVectorizer"
   ]
  },
  {
   "cell_type": "code",
   "execution_count": 1,
   "metadata": {
    "colab": {},
    "colab_type": "code",
    "id": "XaooOuhXUcZr"
   },
   "outputs": [
    {
     "name": "stderr",
     "output_type": "stream",
     "text": [
      "Using TensorFlow backend.\n"
     ]
    }
   ],
   "source": [
    "import pandas as pd\n",
    "import numpy as np\n",
    "import re\n",
    "import string\n",
    "import matplotlib\n",
    "from functools import reduce\n",
    "from string import punctuation\n",
    "import seaborn as sns\n",
    "import matplotlib.pyplot as plt\n",
    "from collections import Counter \n",
    "import json\n",
    "\n",
    "from nltk import ngrams\n",
    "from nltk.tokenize import sent_tokenize, word_tokenize\n",
    "from nltk.corpus import stopwords\n",
    "from nltk.stem import PorterStemmer, WordNetLemmatizer\n",
    "import nltk\n",
    "\n",
    "from sklearn.model_selection import train_test_split,KFold\n",
    "from sklearn.metrics import accuracy_score\n",
    "from sklearn.naive_bayes import MultinomialNB\n",
    "from sklearn.preprocessing import LabelEncoder\n",
    "from sklearn.datasets import load_files\n",
    "from sklearn.feature_extraction.text import CountVectorizer,TfidfTransformer,TfidfVectorizer\n",
    "from sklearn.pipeline import Pipeline\n",
    "from sklearn.metrics import confusion_matrix, f1_score, accuracy_score\n",
    "from sklearn.linear_model import LogisticRegression\n",
    "\n",
    "from keras.utils import to_categorical\n",
    "from keras.callbacks import ModelCheckpoint,EarlyStopping,ReduceLROnPlateau\n",
    "from keras.layers import Input, LSTM,CuDNNLSTM, add, Flatten, Dropout, Dense, BatchNormalization,concatenate,Concatenate, Embedding\n",
    "from keras.regularizers import l2\n",
    "from keras.models import Model\n",
    "from keras.metrics import categorical_accuracy\n",
    "from keras.optimizers import Adadelta\n",
    "from keras.preprocessing.text import Tokenizer\n",
    "from keras.preprocessing.sequence import pad_sequences\n",
    "from keras.models import Sequential\n",
    "from keras.layers import Dense, Flatten, LSTM, Conv1D, MaxPooling1D, Dropout, Activation\n",
    "from keras.layers.embeddings import Embedding\n",
    "\n",
    "%matplotlib inline  \n",
    "matplotlib.get_backend()\n",
    "\n",
    "data_path = \"data/gender-classifier-DFE-791531.csv\""
   ]
  },
  {
   "cell_type": "code",
   "execution_count": 2,
   "metadata": {
    "colab": {
     "base_uri": "https://localhost:8080/",
     "height": 102
    },
    "colab_type": "code",
    "id": "H_-BRbYvazFm",
    "outputId": "1025b7b0-59ca-4109-8ba4-344cdd6a8173"
   },
   "outputs": [
    {
     "name": "stderr",
     "output_type": "stream",
     "text": [
      "[nltk_data] Downloading package stopwords to /home/yairzo/nltk_data...\n",
      "[nltk_data]   Package stopwords is already up-to-date!\n",
      "[nltk_data] Downloading package wordnet to /home/yairzo/nltk_data...\n",
      "[nltk_data]   Package wordnet is already up-to-date!\n"
     ]
    },
    {
     "data": {
      "text/plain": [
       "True"
      ]
     },
     "execution_count": 2,
     "metadata": {},
     "output_type": "execute_result"
    }
   ],
   "source": [
    "nltk.download('stopwords')\n",
    "nltk.download('wordnet')"
   ]
  },
  {
   "cell_type": "markdown",
   "metadata": {
    "colab_type": "text",
    "id": "EijRs5bbUcZy"
   },
   "source": [
    "Le'ts look on the data "
   ]
  },
  {
   "cell_type": "code",
   "execution_count": 3,
   "metadata": {
    "colab": {
     "base_uri": "https://localhost:8080/",
     "height": 446
    },
    "colab_type": "code",
    "id": "j4YzSAVCUcZz",
    "outputId": "372b50c9-9ffd-44a0-d48c-4c91c269bd9c"
   },
   "outputs": [
    {
     "data": {
      "text/html": [
       "<div>\n",
       "<style scoped>\n",
       "    .dataframe tbody tr th:only-of-type {\n",
       "        vertical-align: middle;\n",
       "    }\n",
       "\n",
       "    .dataframe tbody tr th {\n",
       "        vertical-align: top;\n",
       "    }\n",
       "\n",
       "    .dataframe thead th {\n",
       "        text-align: right;\n",
       "    }\n",
       "</style>\n",
       "<table border=\"1\" class=\"dataframe\">\n",
       "  <thead>\n",
       "    <tr style=\"text-align: right;\">\n",
       "      <th></th>\n",
       "      <th>_unit_id</th>\n",
       "      <th>_golden</th>\n",
       "      <th>_unit_state</th>\n",
       "      <th>_trusted_judgments</th>\n",
       "      <th>_last_judgment_at</th>\n",
       "      <th>gender</th>\n",
       "      <th>gender:confidence</th>\n",
       "      <th>profile_yn</th>\n",
       "      <th>profile_yn:confidence</th>\n",
       "      <th>created</th>\n",
       "      <th>...</th>\n",
       "      <th>profileimage</th>\n",
       "      <th>retweet_count</th>\n",
       "      <th>sidebar_color</th>\n",
       "      <th>text</th>\n",
       "      <th>tweet_coord</th>\n",
       "      <th>tweet_count</th>\n",
       "      <th>tweet_created</th>\n",
       "      <th>tweet_id</th>\n",
       "      <th>tweet_location</th>\n",
       "      <th>user_timezone</th>\n",
       "    </tr>\n",
       "  </thead>\n",
       "  <tbody>\n",
       "    <tr>\n",
       "      <th>0</th>\n",
       "      <td>815719226</td>\n",
       "      <td>False</td>\n",
       "      <td>finalized</td>\n",
       "      <td>3</td>\n",
       "      <td>10/26/15 23:24</td>\n",
       "      <td>male</td>\n",
       "      <td>1.0000</td>\n",
       "      <td>yes</td>\n",
       "      <td>1.0</td>\n",
       "      <td>12/5/13 1:48</td>\n",
       "      <td>...</td>\n",
       "      <td>https://pbs.twimg.com/profile_images/414342229...</td>\n",
       "      <td>0</td>\n",
       "      <td>FFFFFF</td>\n",
       "      <td>Robbie E Responds To Critics After Win Against...</td>\n",
       "      <td>NaN</td>\n",
       "      <td>110964</td>\n",
       "      <td>10/26/15 12:40</td>\n",
       "      <td>6.587300e+17</td>\n",
       "      <td>main; @Kan1shk3</td>\n",
       "      <td>Chennai</td>\n",
       "    </tr>\n",
       "    <tr>\n",
       "      <th>1</th>\n",
       "      <td>815719227</td>\n",
       "      <td>False</td>\n",
       "      <td>finalized</td>\n",
       "      <td>3</td>\n",
       "      <td>10/26/15 23:30</td>\n",
       "      <td>male</td>\n",
       "      <td>1.0000</td>\n",
       "      <td>yes</td>\n",
       "      <td>1.0</td>\n",
       "      <td>10/1/12 13:51</td>\n",
       "      <td>...</td>\n",
       "      <td>https://pbs.twimg.com/profile_images/539604221...</td>\n",
       "      <td>0</td>\n",
       "      <td>C0DEED</td>\n",
       "      <td>ÛÏIt felt like they were my friends and I was...</td>\n",
       "      <td>NaN</td>\n",
       "      <td>7471</td>\n",
       "      <td>10/26/15 12:40</td>\n",
       "      <td>6.587300e+17</td>\n",
       "      <td>NaN</td>\n",
       "      <td>Eastern Time (US &amp; Canada)</td>\n",
       "    </tr>\n",
       "    <tr>\n",
       "      <th>2</th>\n",
       "      <td>815719228</td>\n",
       "      <td>False</td>\n",
       "      <td>finalized</td>\n",
       "      <td>3</td>\n",
       "      <td>10/26/15 23:33</td>\n",
       "      <td>male</td>\n",
       "      <td>0.6625</td>\n",
       "      <td>yes</td>\n",
       "      <td>1.0</td>\n",
       "      <td>11/28/14 11:30</td>\n",
       "      <td>...</td>\n",
       "      <td>https://pbs.twimg.com/profile_images/657330418...</td>\n",
       "      <td>1</td>\n",
       "      <td>C0DEED</td>\n",
       "      <td>i absolutely adore when louis starts the songs...</td>\n",
       "      <td>NaN</td>\n",
       "      <td>5617</td>\n",
       "      <td>10/26/15 12:40</td>\n",
       "      <td>6.587300e+17</td>\n",
       "      <td>clcncl</td>\n",
       "      <td>Belgrade</td>\n",
       "    </tr>\n",
       "  </tbody>\n",
       "</table>\n",
       "<p>3 rows × 26 columns</p>\n",
       "</div>"
      ],
      "text/plain": [
       "    _unit_id  _golden _unit_state  _trusted_judgments _last_judgment_at  \\\n",
       "0  815719226    False   finalized                   3    10/26/15 23:24   \n",
       "1  815719227    False   finalized                   3    10/26/15 23:30   \n",
       "2  815719228    False   finalized                   3    10/26/15 23:33   \n",
       "\n",
       "  gender  gender:confidence profile_yn  profile_yn:confidence         created  \\\n",
       "0   male             1.0000        yes                    1.0    12/5/13 1:48   \n",
       "1   male             1.0000        yes                    1.0   10/1/12 13:51   \n",
       "2   male             0.6625        yes                    1.0  11/28/14 11:30   \n",
       "\n",
       "              ...              \\\n",
       "0             ...               \n",
       "1             ...               \n",
       "2             ...               \n",
       "\n",
       "                                        profileimage  retweet_count  \\\n",
       "0  https://pbs.twimg.com/profile_images/414342229...              0   \n",
       "1  https://pbs.twimg.com/profile_images/539604221...              0   \n",
       "2  https://pbs.twimg.com/profile_images/657330418...              1   \n",
       "\n",
       "  sidebar_color                                               text  \\\n",
       "0        FFFFFF  Robbie E Responds To Critics After Win Against...   \n",
       "1        C0DEED  ÛÏIt felt like they were my friends and I was...   \n",
       "2        C0DEED  i absolutely adore when louis starts the songs...   \n",
       "\n",
       "  tweet_coord tweet_count   tweet_created      tweet_id   tweet_location  \\\n",
       "0         NaN      110964  10/26/15 12:40  6.587300e+17  main; @Kan1shk3   \n",
       "1         NaN        7471  10/26/15 12:40  6.587300e+17              NaN   \n",
       "2         NaN        5617  10/26/15 12:40  6.587300e+17           clcncl   \n",
       "\n",
       "                user_timezone  \n",
       "0                     Chennai  \n",
       "1  Eastern Time (US & Canada)  \n",
       "2                    Belgrade  \n",
       "\n",
       "[3 rows x 26 columns]"
      ]
     },
     "execution_count": 3,
     "metadata": {},
     "output_type": "execute_result"
    }
   ],
   "source": [
    "complete_data = pd.read_csv(data_path, encoding='latin1')\n",
    "complete_data.head(3)"
   ]
  },
  {
   "cell_type": "code",
   "execution_count": 4,
   "metadata": {
    "colab": {
     "base_uri": "https://localhost:8080/",
     "height": 459
    },
    "colab_type": "code",
    "id": "mYF5hEZVUcZ4",
    "outputId": "c4a628b5-8ff9-46e1-b133-6d32bcb05ee8"
   },
   "outputs": [
    {
     "name": "stdout",
     "output_type": "stream",
     "text": [
      "0) _unit_id\n",
      "1) _golden\n",
      "2) _unit_state\n",
      "3) _trusted_judgments\n",
      "4) _last_judgment_at\n",
      "5) gender\n",
      "6) gender:confidence\n",
      "7) profile_yn\n",
      "8) profile_yn:confidence\n",
      "9) created\n",
      "10) description\n",
      "11) fav_number\n",
      "12) gender_gold\n",
      "13) link_color\n",
      "14) name\n",
      "15) profile_yn_gold\n",
      "16) profileimage\n",
      "17) retweet_count\n",
      "18) sidebar_color\n",
      "19) text\n",
      "20) tweet_coord\n",
      "21) tweet_count\n",
      "22) tweet_created\n",
      "23) tweet_id\n",
      "24) tweet_location\n",
      "25) user_timezone\n"
     ]
    }
   ],
   "source": [
    "for i,col in enumerate(complete_data.columns):\n",
    "    print(str(i) + \") \" + col)\n"
   ]
  },
  {
   "cell_type": "markdown",
   "metadata": {
    "colab_type": "text",
    "id": "OoJzJ49bUcZ8"
   },
   "source": [
    "We will choose to stay with the next columns: <br>\n",
    "0)  _unit_id <br>\n",
    "6) gender:confidence<br>\n",
    "10) description<br>\n",
    "14) name<br>\n",
    "18) sidebar_color<br>\n",
    "19) text<br>\n",
    "and the gender will be our target\n"
   ]
  },
  {
   "cell_type": "code",
   "execution_count": 5,
   "metadata": {
    "colab": {},
    "colab_type": "code",
    "id": "P0i7CdzUUcZ9"
   },
   "outputs": [],
   "source": [
    "data = pd.read_csv(data_path, usecols= [0,10,14,18,19,5,6],encoding='latin1')"
   ]
  },
  {
   "cell_type": "markdown",
   "metadata": {
    "colab_type": "text",
    "id": "ON24SQNiUcaA"
   },
   "source": [
    "#### Class Distribution <br>"
   ]
  },
  {
   "cell_type": "code",
   "execution_count": 6,
   "metadata": {
    "colab": {
     "base_uri": "https://localhost:8080/",
     "height": 210
    },
    "colab_type": "code",
    "id": "UbMeWDz0UcaB",
    "outputId": "109a01fe-8e2a-4827-bed6-0997bba81a0c"
   },
   "outputs": [
    {
     "name": "stdout",
     "output_type": "stream",
     "text": [
      "Before dropna\n",
      "(20050, 7)\n",
      "After dropna\n",
      "(16224, 7)\n"
     ]
    },
    {
     "data": {
      "text/html": [
       "<div>\n",
       "<style scoped>\n",
       "    .dataframe tbody tr th:only-of-type {\n",
       "        vertical-align: middle;\n",
       "    }\n",
       "\n",
       "    .dataframe tbody tr th {\n",
       "        vertical-align: top;\n",
       "    }\n",
       "\n",
       "    .dataframe thead th {\n",
       "        text-align: right;\n",
       "    }\n",
       "</style>\n",
       "<table border=\"1\" class=\"dataframe\">\n",
       "  <thead>\n",
       "    <tr style=\"text-align: right;\">\n",
       "      <th></th>\n",
       "      <th>_unit_id</th>\n",
       "      <th>gender</th>\n",
       "      <th>gender:confidence</th>\n",
       "      <th>description</th>\n",
       "      <th>name</th>\n",
       "      <th>sidebar_color</th>\n",
       "      <th>text</th>\n",
       "    </tr>\n",
       "  </thead>\n",
       "  <tbody>\n",
       "    <tr>\n",
       "      <th>0</th>\n",
       "      <td>815719226</td>\n",
       "      <td>male</td>\n",
       "      <td>1.0000</td>\n",
       "      <td>i sing my own rhythm.</td>\n",
       "      <td>sheezy0</td>\n",
       "      <td>FFFFFF</td>\n",
       "      <td>Robbie E Responds To Critics After Win Against...</td>\n",
       "    </tr>\n",
       "    <tr>\n",
       "      <th>1</th>\n",
       "      <td>815719227</td>\n",
       "      <td>male</td>\n",
       "      <td>1.0000</td>\n",
       "      <td>I'm the author of novels filled with family dr...</td>\n",
       "      <td>DavdBurnett</td>\n",
       "      <td>C0DEED</td>\n",
       "      <td>ÛÏIt felt like they were my friends and I was...</td>\n",
       "    </tr>\n",
       "    <tr>\n",
       "      <th>2</th>\n",
       "      <td>815719228</td>\n",
       "      <td>male</td>\n",
       "      <td>0.6625</td>\n",
       "      <td>louis whining and squealing and all</td>\n",
       "      <td>lwtprettylaugh</td>\n",
       "      <td>C0DEED</td>\n",
       "      <td>i absolutely adore when louis starts the songs...</td>\n",
       "    </tr>\n",
       "  </tbody>\n",
       "</table>\n",
       "</div>"
      ],
      "text/plain": [
       "    _unit_id gender  gender:confidence  \\\n",
       "0  815719226   male             1.0000   \n",
       "1  815719227   male             1.0000   \n",
       "2  815719228   male             0.6625   \n",
       "\n",
       "                                         description            name  \\\n",
       "0                              i sing my own rhythm.         sheezy0   \n",
       "1  I'm the author of novels filled with family dr...     DavdBurnett   \n",
       "2                louis whining and squealing and all  lwtprettylaugh   \n",
       "\n",
       "  sidebar_color                                               text  \n",
       "0        FFFFFF  Robbie E Responds To Critics After Win Against...  \n",
       "1        C0DEED  ÛÏIt felt like they were my friends and I was...  \n",
       "2        C0DEED  i absolutely adore when louis starts the songs...  "
      ]
     },
     "execution_count": 6,
     "metadata": {},
     "output_type": "execute_result"
    }
   ],
   "source": [
    "print('Before dropna')\n",
    "print(data.shape)\n",
    "# drop nan values\n",
    "data.dropna(inplace=True,axis=0)\n",
    "print('After dropna')\n",
    "print(data.shape)\n",
    "data.head(3)"
   ]
  },
  {
   "cell_type": "code",
   "execution_count": 7,
   "metadata": {
    "colab": {
     "base_uri": "https://localhost:8080/",
     "height": 102
    },
    "colab_type": "code",
    "id": "j5QpxmPYUcaG",
    "outputId": "8811826e-c1b4-417f-f1de-d50dca76b8c8"
   },
   "outputs": [
    {
     "data": {
      "text/plain": [
       "female     5725\n",
       "male       5469\n",
       "brand      4328\n",
       "unknown     702\n",
       "Name: gender, dtype: int64"
      ]
     },
     "execution_count": 7,
     "metadata": {},
     "output_type": "execute_result"
    }
   ],
   "source": [
    "data.gender.value_counts()"
   ]
  },
  {
   "cell_type": "code",
   "execution_count": 8,
   "metadata": {
    "colab": {
     "base_uri": "https://localhost:8080/",
     "height": 280
    },
    "colab_type": "code",
    "id": "BN1ybpB6UcaK",
    "outputId": "b89d62bc-4c71-40f1-d47f-b9c7f8c86bc6"
   },
   "outputs": [
    {
     "data": {
      "image/png": "[encoded data removed]",
      "text/plain": [
       "<Figure size 432x288 with 1 Axes>"
      ]
     },
     "metadata": {
      "needs_background": "light"
     },
     "output_type": "display_data"
    }
   ],
   "source": [
    "def gender_to_id(gender):\n",
    "    return { 'male':0, 'female':1,'brand': 2, 'unknown':3}[gender]\n",
    "plt.show(pd.DataFrame(data.gender.apply(gender_to_id)).hist())"
   ]
  },
  {
   "cell_type": "markdown",
   "metadata": {
    "colab_type": "text",
    "id": "RXrpwHQOUcaO"
   },
   "source": [
    "We can see that our train data is quite balanced.<br>\n",
    "Female (#1) tweets are the most common tweets in this data.\n",
    "Let's look for term frequency per gender in the text field.\n",
    "#### Term Frequency"
   ]
  },
  {
   "cell_type": "code",
   "execution_count": 9,
   "metadata": {
    "colab": {},
    "colab_type": "code",
    "id": "HJ69qTGcUcaP"
   },
   "outputs": [],
   "source": [
    "def get_genders_words(data):\n",
    "    Male = data[data['gender'] == 'male']\n",
    "    Female = data[data['gender'] == 'female']\n",
    "    Brand = data[data['gender'] == 'brand']\n",
    "    Unk = data[data['gender'] == 'unknown']\n",
    "\n",
    "    Male_Words = pd.Series(' '.join(Male['text'].astype(str)).lower().split(\" \")).value_counts()[:20]\n",
    "    Female_Words = pd.Series(' '.join(Female['text'].astype(str)).lower().split(\" \")).value_counts()[:20]\n",
    "    Brand_words = pd.Series(' '.join(Brand['text'].astype(str)).lower().split(\" \")).value_counts()[:10]\n",
    "    Unk_words = pd.Series(' '.join(Unk['text'].astype(str)).lower().split(\" \")).value_counts()[:10]\n",
    "    return Male_Words,Female_Words,Brand_words,Unk_words\n",
    "\n",
    "def print_and_plot(words):\n",
    "    print(words)\n",
    "    words.plot(kind='bar',stacked=True)\n",
    "Male_Words,Female_Words,Brand_words,Unk_words = get_genders_words(data)"
   ]
  },
  {
   "cell_type": "code",
   "execution_count": 10,
   "metadata": {
    "colab": {
     "base_uri": "https://localhost:8080/",
     "height": 664
    },
    "colab_type": "code",
    "id": "msG8ErB5UcaU",
    "outputId": "8d8e484d-aeab-4b2a-8d2d-775828a22a5a"
   },
   "outputs": [
    {
     "name": "stdout",
     "output_type": "stream",
     "text": [
      "Female most common words:\n",
      "-----------------\n",
      "the     4089\n",
      "and     4040\n",
      "i       2397\n",
      "to      2005\n",
      "a       1370\n",
      "you     1261\n",
      "my      1106\n",
      "of      1104\n",
      "in      1061\n",
      "for      972\n",
      "is       914\n",
      "me       729\n",
      "on       649\n",
      "it       647\n",
      "that     572\n",
      "with     561\n",
      "so       555\n",
      "just     534\n",
      "i'm      467\n",
      "this     459\n",
      "dtype: int64\n"
     ]
    },
    {
     "data": {
      "image/png": "[encoded data removed]",
      "text/plain": [
       "<Figure size 432x288 with 1 Axes>"
      ]
     },
     "metadata": {
      "needs_background": "light"
     },
     "output_type": "display_data"
    }
   ],
   "source": [
    "print(\"Female most common words:\\n-----------------\")\n",
    "print_and_plot(Female_Words)"
   ]
  },
  {
   "cell_type": "code",
   "execution_count": 11,
   "metadata": {
    "colab": {
     "base_uri": "https://localhost:8080/",
     "height": 668
    },
    "colab_type": "code",
    "id": "a8fISYFdUcaZ",
    "outputId": "10bf94bc-cce6-467b-c01c-f82d7ef9c9fd"
   },
   "outputs": [
    {
     "name": "stdout",
     "output_type": "stream",
     "text": [
      "Male most common words:\n",
      "-----------------\n",
      "the     4405\n",
      "and     3481\n",
      "to      1745\n",
      "i       1606\n",
      "a       1567\n",
      "of      1272\n",
      "you     1134\n",
      "in      1009\n",
      "for      935\n",
      "is       881\n",
      "on       722\n",
      "it       598\n",
      "my       578\n",
      "that     533\n",
      "         530\n",
      "with     473\n",
      "be       448\n",
      "have     434\n",
      "me       417\n",
      "just     401\n",
      "dtype: int64\n"
     ]
    },
    {
     "data": {
      "image/png": "[encoded data removed]",
      "text/plain": [
       "<Figure size 432x288 with 1 Axes>"
      ]
     },
     "metadata": {
      "needs_background": "light"
     },
     "output_type": "display_data"
    }
   ],
   "source": [
    "print(\"Male most common words:\\n-----------------\")\n",
    "print_and_plot(Male_Words)"
   ]
  },
  {
   "cell_type": "code",
   "execution_count": 12,
   "metadata": {
    "colab": {
     "base_uri": "https://localhost:8080/",
     "height": 495
    },
    "colab_type": "code",
    "id": "GpOnjJ0dUcad",
    "outputId": "562e0e35-d4e9-43c6-8c37-255df3cea5c8"
   },
   "outputs": [
    {
     "name": "stdout",
     "output_type": "stream",
     "text": [
      "Brand most common words:\n",
      "-----------------\n",
      "the    3363\n",
      "and    2513\n",
      "to     1277\n",
      "of     1061\n",
      "a       909\n",
      "in      776\n",
      "for     769\n",
      "is      630\n",
      "on      560\n",
      "you     554\n",
      "dtype: int64\n"
     ]
    },
    {
     "data": {
      "image/png": "[encoded data removed]",
      "text/plain": [
       "<Figure size 432x288 with 1 Axes>"
      ]
     },
     "metadata": {
      "needs_background": "light"
     },
     "output_type": "display_data"
    }
   ],
   "source": [
    "print(\"Brand most common words:\\n-----------------\")\n",
    "print_and_plot(Brand_words)"
   ]
  },
  {
   "cell_type": "code",
   "execution_count": 13,
   "metadata": {
    "colab": {
     "base_uri": "https://localhost:8080/",
     "height": 493
    },
    "colab_type": "code",
    "id": "7PH4B33RUcai",
    "outputId": "200b0bf4-f58c-43a3-e4a9-214a090cb7c7"
   },
   "outputs": [
    {
     "name": "stdout",
     "output_type": "stream",
     "text": [
      "Unkown most common words:\n",
      "-----------------\n",
      "the    546\n",
      "and    457\n",
      "i      239\n",
      "to     223\n",
      "a      203\n",
      "of     183\n",
      "you    151\n",
      "is     118\n",
      "in     114\n",
      "it     111\n",
      "dtype: int64\n"
     ]
    },
    {
     "data": {
      "image/png": "[encoded data removed]",
      "text/plain": [
       "<Figure size 432x288 with 1 Axes>"
      ]
     },
     "metadata": {
      "needs_background": "light"
     },
     "output_type": "display_data"
    }
   ],
   "source": [
    "print(\"Unkown most common words:\\n-----------------\")\n",
    "print_and_plot(Unk_words)"
   ]
  },
  {
   "cell_type": "markdown",
   "metadata": {
    "colab_type": "text",
    "id": "NtBkzDfdUcao"
   },
   "source": [
    "We can see alot of stop words. For example: \"the\" in the first place for each gender.<br>\n",
    "We will take care of the stop words in the preprocessing stage"
   ]
  },
  {
   "cell_type": "markdown",
   "metadata": {
    "colab_type": "text",
    "id": "lxE5CcwgUcap"
   },
   "source": [
    "### Pre Processing Stage\n",
    "We will have more data exploration in the next cells during the pre-proccesing stages.<br>"
   ]
  },
  {
   "cell_type": "markdown",
   "metadata": {
    "colab_type": "text",
    "id": "3vICdg4uUcar"
   },
   "source": [
    "Now we will tokenize the sentences of the description and the text, <br>\n",
    "We will remove stop words and other problematic tokens, and lemmatize each token.<br>\n",
    "For this task we will use regex."
   ]
  },
  {
   "cell_type": "code",
   "execution_count": 14,
   "metadata": {
    "colab": {},
    "colab_type": "code",
    "id": "sDjFk4qpUcas"
   },
   "outputs": [],
   "source": [
    "punctuation = list(string.punctuation)\n",
    "stop = stopwords.words('english') + punctuation + ['rt', 'via', 'the',u'\\u2019',u'\\u2026','The',u'de',u'\\xe9']\n",
    "\n",
    "emoticons_str = r\"\"\"\n",
    "    (?:\n",
    "        [:=;] # Eyes\n",
    "        [oO\\-]? # Nose (optional)\n",
    "        [D\\)\\]\\(\\]/\\\\OpP] # Mouth\n",
    "    )\"\"\"\n",
    " \n",
    "regex_str = [\n",
    "    emoticons_str,\n",
    "    r'<[^>]+>',                       # HTML tags\n",
    "    r'(?:@[\\w_]+)',                   # @-mentions\n",
    "    r\"(?:\\#+[\\w_]+[\\w\\'_\\-]*[\\w_]+)\", # hash-tags\n",
    "    r'http[s]?://(?:[a-z]|[0-9]|[$-_@.&+]|[!*\\(\\),]|(?:%[0-9a-f][0-9a-f]))+', # URLs\n",
    " \n",
    "    r'(?:(?:\\d+,?)+(?:\\.?\\d+)?)',     # numbers\n",
    "    r\"(?:[a-z][a-z'\\-_]+[a-z])\",      # words with - and '\n",
    "    r'(?:[\\w_]+)',                    # other words\n",
    "    r'(?:\\S)'                         # anything else\n",
    "]\n",
    "\n",
    "tokens_re = re.compile(r'('+'|'.join(regex_str)+')', re.VERBOSE | re.IGNORECASE)\n",
    "emoticon_re = re.compile(r'^'+emoticons_str+'$', re.VERBOSE | re.IGNORECASE)\n",
    "\n",
    "def cleaning(s):\n",
    "    s = str(s)\n",
    "    s = s.lower()\n",
    "    s = re.sub('\\s\\W',' ',s)\n",
    "    s = re.sub('\\W,\\s',' ',s)\n",
    "    s = re.sub(r'[^\\w]', ' ', s)\n",
    "    s = re.sub(\"\\d+\", \"\", s)\n",
    "    s = re.sub('\\s+',' ',s)\n",
    "    s = s.replace(\"co\",\"\")\n",
    "    s = s.replace(\"https\",\"\")\n",
    "    s = s.replace(\",\",\"\")\n",
    "    s = s.replace(\"[\\w*\",\" \")\n",
    "    return s\n",
    "\n",
    "def tokenize(s):\n",
    "    s = cleaning(str(s))\n",
    "    return tokens_re.findall(s)\n",
    " \n",
    "def preprocess(s, lowercase=False):\n",
    "    lemmatizer = WordNetLemmatizer()\n",
    "    tokens = tokenize(s)\n",
    "    if lowercase:\n",
    "        tokens = [token if emoticon_re.search(token) else token.lower() for token in tokens]\n",
    "    tokens = [lemmatizer.lemmatize(token) if not emoticon_re.search(token) else token for token in tokens]\n",
    "    return tokens"
   ]
  },
  {
   "cell_type": "code",
   "execution_count": 15,
   "metadata": {
    "colab": {
     "base_uri": "https://localhost:8080/",
     "height": 204
    },
    "colab_type": "code",
    "id": "OXn_XlVVUcax",
    "outputId": "ed3e7774-ade8-486e-918c-eb337abdcae8"
   },
   "outputs": [
    {
     "data": {
      "text/html": [
       "<div>\n",
       "<style scoped>\n",
       "    .dataframe tbody tr th:only-of-type {\n",
       "        vertical-align: middle;\n",
       "    }\n",
       "\n",
       "    .dataframe tbody tr th {\n",
       "        vertical-align: top;\n",
       "    }\n",
       "\n",
       "    .dataframe thead th {\n",
       "        text-align: right;\n",
       "    }\n",
       "</style>\n",
       "<table border=\"1\" class=\"dataframe\">\n",
       "  <thead>\n",
       "    <tr style=\"text-align: right;\">\n",
       "      <th></th>\n",
       "      <th>_unit_id</th>\n",
       "      <th>gender</th>\n",
       "      <th>gender:confidence</th>\n",
       "      <th>description</th>\n",
       "      <th>name</th>\n",
       "      <th>sidebar_color</th>\n",
       "      <th>text</th>\n",
       "    </tr>\n",
       "  </thead>\n",
       "  <tbody>\n",
       "    <tr>\n",
       "      <th>0</th>\n",
       "      <td>815719226</td>\n",
       "      <td>male</td>\n",
       "      <td>1.0000</td>\n",
       "      <td>[sing, rhythm]</td>\n",
       "      <td>sheezy0</td>\n",
       "      <td>FFFFFF</td>\n",
       "      <td>[robbie, e, responds, critic, win, eddie, edwa...</td>\n",
       "    </tr>\n",
       "    <tr>\n",
       "      <th>1</th>\n",
       "      <td>815719227</td>\n",
       "      <td>male</td>\n",
       "      <td>1.0000</td>\n",
       "      <td>[author, novel, filled, family, drama, romance]</td>\n",
       "      <td>DavdBurnett</td>\n",
       "      <td>C0DEED</td>\n",
       "      <td>[ûïit, felt, like, friend, wa, living, story, ...</td>\n",
       "    </tr>\n",
       "    <tr>\n",
       "      <th>2</th>\n",
       "      <td>815719228</td>\n",
       "      <td>male</td>\n",
       "      <td>0.6625</td>\n",
       "      <td>[louis, whining, squealing]</td>\n",
       "      <td>lwtprettylaugh</td>\n",
       "      <td>C0DEED</td>\n",
       "      <td>[absolutely, adore, louis, start, song, hit, h...</td>\n",
       "    </tr>\n",
       "    <tr>\n",
       "      <th>3</th>\n",
       "      <td>815719229</td>\n",
       "      <td>male</td>\n",
       "      <td>1.0000</td>\n",
       "      <td>[mobile, guy, er, shazam, google, kleiner, per...</td>\n",
       "      <td>douggarland</td>\n",
       "      <td>C0DEED</td>\n",
       "      <td>[hi, jordanspieth, looking, url, use, ifttt, t...</td>\n",
       "    </tr>\n",
       "    <tr>\n",
       "      <th>4</th>\n",
       "      <td>815719230</td>\n",
       "      <td>female</td>\n",
       "      <td>1.0000</td>\n",
       "      <td>[ricky, wilson, best, frontman, kaiser, chief,...</td>\n",
       "      <td>WilfordGemma</td>\n",
       "      <td>0</td>\n",
       "      <td>[watching, neighbour, sky, catching, neighbs, ...</td>\n",
       "    </tr>\n",
       "  </tbody>\n",
       "</table>\n",
       "</div>"
      ],
      "text/plain": [
       "    _unit_id  gender  gender:confidence  \\\n",
       "0  815719226    male             1.0000   \n",
       "1  815719227    male             1.0000   \n",
       "2  815719228    male             0.6625   \n",
       "3  815719229    male             1.0000   \n",
       "4  815719230  female             1.0000   \n",
       "\n",
       "                                         description            name  \\\n",
       "0                                     [sing, rhythm]         sheezy0   \n",
       "1    [author, novel, filled, family, drama, romance]     DavdBurnett   \n",
       "2                        [louis, whining, squealing]  lwtprettylaugh   \n",
       "3  [mobile, guy, er, shazam, google, kleiner, per...     douggarland   \n",
       "4  [ricky, wilson, best, frontman, kaiser, chief,...    WilfordGemma   \n",
       "\n",
       "  sidebar_color                                               text  \n",
       "0        FFFFFF  [robbie, e, responds, critic, win, eddie, edwa...  \n",
       "1        C0DEED  [ûïit, felt, like, friend, wa, living, story, ...  \n",
       "2        C0DEED  [absolutely, adore, louis, start, song, hit, h...  \n",
       "3        C0DEED  [hi, jordanspieth, looking, url, use, ifttt, t...  \n",
       "4             0  [watching, neighbour, sky, catching, neighbs, ...  "
      ]
     },
     "execution_count": 15,
     "metadata": {},
     "output_type": "execute_result"
    }
   ],
   "source": [
    "data['text'] = [preprocess(s) for s in data['text']]\n",
    "data['description'] = [preprocess(s) for s in data['description']]\n",
    "\n",
    "data['text'] = data['text'].apply(lambda x : [item for item in x if item not in stop])\n",
    "data['description'] = data['description'].apply(lambda x : [item for item in x if item not in stop])\n",
    "data.head()"
   ]
  },
  {
   "cell_type": "markdown",
   "metadata": {
    "colab_type": "text",
    "id": "mMhO-_E5Uca3"
   },
   "source": [
    "We would like to focus on the 10,000 most common words, because they are most likely to indicate a pattern. In addition, we can't know in advance which words will show up in the test set, so we filter the less common words in the training set from the test set.\n",
    "In order to do so, we will take all the words from the 'text' and 'description' columns, find the most common words in them, and then filter out the words that are not included in that group."
   ]
  },
  {
   "cell_type": "code",
   "execution_count": 16,
   "metadata": {
    "colab": {
     "base_uri": "https://localhost:8080/",
     "height": 187
    },
    "colab_type": "code",
    "id": "m0jl2ziaUca4",
    "outputId": "1964d8ce-719f-4d53-82ba-73e4c57c8afb"
   },
   "outputs": [
    {
     "data": {
      "text/plain": [
       "['sing',\n",
       " 'rhythm',\n",
       " 'author',\n",
       " 'novel',\n",
       " 'filled',\n",
       " 'family',\n",
       " 'drama',\n",
       " 'romance',\n",
       " 'louis',\n",
       " 'whining']"
      ]
     },
     "execution_count": 16,
     "metadata": {},
     "output_type": "execute_result"
    }
   ],
   "source": [
    "all_words = []\n",
    "data.description.apply(lambda x: all_words.extend(x))\n",
    "data.text.apply(lambda x: all_words.extend(x))\n",
    "all_words[:10]"
   ]
  },
  {
   "cell_type": "code",
   "execution_count": 17,
   "metadata": {
    "colab": {
     "base_uri": "https://localhost:8080/",
     "height": 34
    },
    "colab_type": "code",
    "id": "S3J1s2bhUca8",
    "outputId": "fe6d5f9d-b9f2-4586-e1d1-0f6917d603b5",
    "scrolled": true
   },
   "outputs": [
    {
     "data": {
      "text/plain": [
       "['love', '_ù', 'like', 'û', 'get', 'one', 'ü', 'http', 'life', 'wa']"
      ]
     },
     "execution_count": 17,
     "metadata": {},
     "output_type": "execute_result"
    }
   ],
   "source": [
    "all_words = nltk.FreqDist(all_words)\n",
    "top_words = all_words.most_common(10000)\n",
    "top_words = list(map(lambda x: x[0], top_words))\n",
    "top_words[:10]"
   ]
  },
  {
   "cell_type": "code",
   "execution_count": 18,
   "metadata": {
    "colab": {
     "base_uri": "https://localhost:8080/",
     "height": 204
    },
    "colab_type": "code",
    "id": "fgpD0PM_Uca_",
    "outputId": "0aa9b234-dee9-48c8-9a51-5c4984e4dfa7"
   },
   "outputs": [
    {
     "data": {
      "text/html": [
       "<div>\n",
       "<style scoped>\n",
       "    .dataframe tbody tr th:only-of-type {\n",
       "        vertical-align: middle;\n",
       "    }\n",
       "\n",
       "    .dataframe tbody tr th {\n",
       "        vertical-align: top;\n",
       "    }\n",
       "\n",
       "    .dataframe thead th {\n",
       "        text-align: right;\n",
       "    }\n",
       "</style>\n",
       "<table border=\"1\" class=\"dataframe\">\n",
       "  <thead>\n",
       "    <tr style=\"text-align: right;\">\n",
       "      <th></th>\n",
       "      <th>_unit_id</th>\n",
       "      <th>gender</th>\n",
       "      <th>gender:confidence</th>\n",
       "      <th>description</th>\n",
       "      <th>name</th>\n",
       "      <th>sidebar_color</th>\n",
       "      <th>text</th>\n",
       "    </tr>\n",
       "  </thead>\n",
       "  <tbody>\n",
       "    <tr>\n",
       "      <th>0</th>\n",
       "      <td>815719226</td>\n",
       "      <td>male</td>\n",
       "      <td>1.0000</td>\n",
       "      <td>[sing, rhythm]</td>\n",
       "      <td>sheezy0</td>\n",
       "      <td>FFFFFF</td>\n",
       "      <td>[e, critic, win, eddie, edward]</td>\n",
       "    </tr>\n",
       "    <tr>\n",
       "      <th>1</th>\n",
       "      <td>815719227</td>\n",
       "      <td>male</td>\n",
       "      <td>1.0000</td>\n",
       "      <td>[author, novel, filled, family, drama, romance]</td>\n",
       "      <td>DavdBurnett</td>\n",
       "      <td>C0DEED</td>\n",
       "      <td>[felt, like, friend, wa, living, story, û, ret...</td>\n",
       "    </tr>\n",
       "    <tr>\n",
       "      <th>2</th>\n",
       "      <td>815719228</td>\n",
       "      <td>male</td>\n",
       "      <td>0.6625</td>\n",
       "      <td>[louis, whining]</td>\n",
       "      <td>lwtprettylaugh</td>\n",
       "      <td>C0DEED</td>\n",
       "      <td>[absolutely, adore, louis, start, song, hit, h...</td>\n",
       "    </tr>\n",
       "    <tr>\n",
       "      <th>3</th>\n",
       "      <td>815719229</td>\n",
       "      <td>male</td>\n",
       "      <td>1.0000</td>\n",
       "      <td>[mobile, guy, er, google, yahoo, sprint, pc, a...</td>\n",
       "      <td>douggarland</td>\n",
       "      <td>C0DEED</td>\n",
       "      <td>[hi, looking, url, use, typically, see, advanc...</td>\n",
       "    </tr>\n",
       "    <tr>\n",
       "      <th>4</th>\n",
       "      <td>815719230</td>\n",
       "      <td>female</td>\n",
       "      <td>1.0000</td>\n",
       "      <td>[ricky, wilson, best, chief, best, band, xxxx,...</td>\n",
       "      <td>WilfordGemma</td>\n",
       "      <td>0</td>\n",
       "      <td>[watching, neighbour, sky, catching, xxx, _ù, ...</td>\n",
       "    </tr>\n",
       "  </tbody>\n",
       "</table>\n",
       "</div>"
      ],
      "text/plain": [
       "    _unit_id  gender  gender:confidence  \\\n",
       "0  815719226    male             1.0000   \n",
       "1  815719227    male             1.0000   \n",
       "2  815719228    male             0.6625   \n",
       "3  815719229    male             1.0000   \n",
       "4  815719230  female             1.0000   \n",
       "\n",
       "                                         description            name  \\\n",
       "0                                     [sing, rhythm]         sheezy0   \n",
       "1    [author, novel, filled, family, drama, romance]     DavdBurnett   \n",
       "2                                   [louis, whining]  lwtprettylaugh   \n",
       "3  [mobile, guy, er, google, yahoo, sprint, pc, a...     douggarland   \n",
       "4  [ricky, wilson, best, chief, best, band, xxxx,...    WilfordGemma   \n",
       "\n",
       "  sidebar_color                                               text  \n",
       "0        FFFFFF                    [e, critic, win, eddie, edward]  \n",
       "1        C0DEED  [felt, like, friend, wa, living, story, û, ret...  \n",
       "2        C0DEED  [absolutely, adore, louis, start, song, hit, h...  \n",
       "3        C0DEED  [hi, looking, url, use, typically, see, advanc...  \n",
       "4             0  [watching, neighbour, sky, catching, xxx, _ù, ...  "
      ]
     },
     "execution_count": 18,
     "metadata": {},
     "output_type": "execute_result"
    }
   ],
   "source": [
    "data.description = data.description.apply(lambda x: list(filter(lambda word: word in top_words, x)))\n",
    "data.text = data.text.apply(lambda x: list(filter(lambda word: word in top_words, x)))\n",
    "data.head()"
   ]
  },
  {
   "cell_type": "markdown",
   "metadata": {
    "colab_type": "text",
    "id": "EDnU9AbtUcbD"
   },
   "source": [
    "Let's see the most common words by gender after this pre-process:"
   ]
  },
  {
   "cell_type": "code",
   "execution_count": 19,
   "metadata": {
    "colab": {},
    "colab_type": "code",
    "id": "lMbSCUNLUcbF"
   },
   "outputs": [],
   "source": [
    "Male_Words,Female_Words,Brand_words,Unk_words = get_genders_words(data)"
   ]
  },
  {
   "cell_type": "code",
   "execution_count": 20,
   "metadata": {
    "colab": {
     "base_uri": "https://localhost:8080/",
     "height": 649
    },
    "colab_type": "code",
    "id": "KokM786EUcbH",
    "outputId": "4aa773d0-95d5-4a0a-ce2a-82ce18bbc7b5"
   },
   "outputs": [
    {
     "name": "stdout",
     "output_type": "stream",
     "text": [
      "'_ù',        295\n",
      "'get',       280\n",
      "'wa',        277\n",
      "'like',      273\n",
      "'one',       183\n",
      "'time',      172\n",
      "'go',        172\n",
      "'new',       164\n",
      "'day',       152\n",
      "'love',      151\n",
      "'make',      145\n",
      "'people',    130\n",
      "'û_']        126\n",
      "'amp',       126\n",
      "'â_ù',       120\n",
      "'u',         119\n",
      "'see',       118\n",
      "'year',      117\n",
      "'ha',        115\n",
      "'back',      113\n",
      "dtype: int64\n"
     ]
    },
    {
     "data": {
      "image/png": "[encoded data removed]",
      "text/plain": [
       "<Figure size 432x288 with 1 Axes>"
      ]
     },
     "metadata": {
      "needs_background": "light"
     },
     "output_type": "display_data"
    }
   ],
   "source": [
    "print_and_plot(Male_Words)"
   ]
  },
  {
   "cell_type": "code",
   "execution_count": 21,
   "metadata": {
    "colab": {
     "base_uri": "https://localhost:8080/",
     "height": 649
    },
    "colab_type": "code",
    "id": "CMZ0EKnJUcbM",
    "outputId": "e1746c6a-677e-4a8d-c6db-52c13b0470bd"
   },
   "outputs": [
    {
     "name": "stdout",
     "output_type": "stream",
     "text": [
      "'_ù',        651\n",
      "'like',      323\n",
      "'wa',        306\n",
      "'get',       284\n",
      "'_ù']        270\n",
      "'day',       254\n",
      "'__ù',       244\n",
      "'one',       238\n",
      "'go',        220\n",
      "'love',      215\n",
      "'time',      197\n",
      "'make',      184\n",
      "'amp',       163\n",
      "'people',    160\n",
      "'u',         160\n",
      "'â_ù',       156\n",
      "'û_']        148\n",
      "'new',       139\n",
      "'know',      139\n",
      "'thing',     136\n",
      "dtype: int64\n"
     ]
    },
    {
     "data": {
      "image/png": "[encoded data removed]",
      "text/plain": [
       "<Figure size 432x288 with 1 Axes>"
      ]
     },
     "metadata": {
      "needs_background": "light"
     },
     "output_type": "display_data"
    }
   ],
   "source": [
    "print_and_plot(Female_Words)"
   ]
  },
  {
   "cell_type": "code",
   "execution_count": 22,
   "metadata": {
    "colab": {
     "base_uri": "https://localhost:8080/",
     "height": 484
    },
    "colab_type": "code",
    "id": "cVL5a9GkUcbR",
    "outputId": "2cb6c38b-0800-4e4b-e662-d8b7999293e9"
   },
   "outputs": [
    {
     "name": "stdout",
     "output_type": "stream",
     "text": [
      "'weather',    300\n",
      "'û_']         256\n",
      "['get',       173\n",
      "'new',        173\n",
      "'u',          173\n",
      "'amp',        166\n",
      "'update',     162\n",
      "'channel']    150\n",
      "'get',        148\n",
      "'wa',         124\n",
      "dtype: int64\n"
     ]
    },
    {
     "data": {
      "image/png": "[encoded data removed]",
      "text/plain": [
       "<Figure size 432x288 with 1 Axes>"
      ]
     },
     "metadata": {
      "needs_background": "light"
     },
     "output_type": "display_data"
    }
   ],
   "source": [
    "print_and_plot(Brand_words)"
   ]
  },
  {
   "cell_type": "code",
   "execution_count": 23,
   "metadata": {
    "colab": {
     "base_uri": "https://localhost:8080/",
     "height": 484
    },
    "colab_type": "code",
    "id": "DmEsVrlSUcbV",
    "outputId": "41bc2076-35e8-4e26-9fa3-e45bb5973bb2"
   },
   "outputs": [
    {
     "name": "stdout",
     "output_type": "stream",
     "text": [
      "'wa',         40\n",
      "'like',       38\n",
      "'get',        31\n",
      "'weather',    30\n",
      "'make',       26\n",
      "'go',         26\n",
      "'_ù',         25\n",
      "'one',        24\n",
      "'love',       22\n",
      "'people',     20\n",
      "dtype: int64\n"
     ]
    },
    {
     "data": {
      "image/png": "[encoded data removed]",
      "text/plain": [
       "<Figure size 432x288 with 1 Axes>"
      ]
     },
     "metadata": {
      "needs_background": "light"
     },
     "output_type": "display_data"
    }
   ],
   "source": [
    "print_and_plot(Unk_words)"
   ]
  },
  {
   "cell_type": "markdown",
   "metadata": {
    "colab_type": "text",
    "id": "i9-Ge8onUcbZ"
   },
   "source": [
    "In order to build accurate models, we should check the gender confidence column in order to filter samples with low confidence. The tradeoff will between losing some data to train on and the quality of each sample.\n",
    "Let's check what is the threshold that should be used in order to filter those records:"
   ]
  },
  {
   "cell_type": "code",
   "execution_count": 24,
   "metadata": {
    "colab": {
     "base_uri": "https://localhost:8080/",
     "height": 282
    },
    "colab_type": "code",
    "id": "1CN9SSb8UcbZ",
    "outputId": "cf69f721-522e-4344-cb1a-16f0958d8c57"
   },
   "outputs": [
    {
     "name": "stdout",
     "output_type": "stream",
     "text": [
      "The percentage of records in the data with confidence of 90% is 0.7305\n"
     ]
    },
    {
     "data": {
      "image/png": "[encoded data removed]",
      "text/plain": [
       "<Figure size 432x288 with 1 Axes>"
      ]
     },
     "metadata": {
      "needs_background": "light"
     },
     "output_type": "display_data"
    }
   ],
   "source": [
    "gender_conf = data['gender:confidence']\n",
    "\n",
    "print('The percentage of records in the data with confidence of 90%% is %.4f' %\n",
    "      (len(gender_conf[gender_conf >= 0.9]) / len(gender_conf),)\n",
    "     )\n",
    "\n",
    "plt.show(gender_conf.hist())"
   ]
  },
  {
   "cell_type": "markdown",
   "metadata": {
    "colab_type": "text",
    "id": "zCXGm96hUcbd"
   },
   "source": [
    "We will drop all records with gender confidence below 90% and remove the column since it's of no use anymore."
   ]
  },
  {
   "cell_type": "code",
   "execution_count": 25,
   "metadata": {
    "colab": {},
    "colab_type": "code",
    "id": "29HI9LBwUcbd"
   },
   "outputs": [],
   "source": [
    "data = data[data['gender:confidence'] >= 0.9]\n",
    "data.drop(['gender:confidence'], axis=1, inplace=True)"
   ]
  },
  {
   "cell_type": "markdown",
   "metadata": {
    "colab_type": "text",
    "id": "RW3T-5pXUcbg"
   },
   "source": [
    "Now the data looks as follows:"
   ]
  },
  {
   "cell_type": "code",
   "execution_count": 26,
   "metadata": {
    "colab": {
     "base_uri": "https://localhost:8080/",
     "height": 359
    },
    "colab_type": "code",
    "id": "H3mwNH8zUcbi",
    "outputId": "849cacf4-a94c-4673-d866-ce5de3a82001"
   },
   "outputs": [
    {
     "data": {
      "text/html": [
       "<div>\n",
       "<style scoped>\n",
       "    .dataframe tbody tr th:only-of-type {\n",
       "        vertical-align: middle;\n",
       "    }\n",
       "\n",
       "    .dataframe tbody tr th {\n",
       "        vertical-align: top;\n",
       "    }\n",
       "\n",
       "    .dataframe thead th {\n",
       "        text-align: right;\n",
       "    }\n",
       "</style>\n",
       "<table border=\"1\" class=\"dataframe\">\n",
       "  <thead>\n",
       "    <tr style=\"text-align: right;\">\n",
       "      <th></th>\n",
       "      <th>_unit_id</th>\n",
       "      <th>gender</th>\n",
       "      <th>description</th>\n",
       "      <th>name</th>\n",
       "      <th>sidebar_color</th>\n",
       "      <th>text</th>\n",
       "    </tr>\n",
       "  </thead>\n",
       "  <tbody>\n",
       "    <tr>\n",
       "      <th>0</th>\n",
       "      <td>815719226</td>\n",
       "      <td>male</td>\n",
       "      <td>[sing, rhythm]</td>\n",
       "      <td>sheezy0</td>\n",
       "      <td>FFFFFF</td>\n",
       "      <td>[e, critic, win, eddie, edward]</td>\n",
       "    </tr>\n",
       "    <tr>\n",
       "      <th>1</th>\n",
       "      <td>815719227</td>\n",
       "      <td>male</td>\n",
       "      <td>[author, novel, filled, family, drama, romance]</td>\n",
       "      <td>DavdBurnett</td>\n",
       "      <td>C0DEED</td>\n",
       "      <td>[felt, like, friend, wa, living, story, û, ret...</td>\n",
       "    </tr>\n",
       "    <tr>\n",
       "      <th>3</th>\n",
       "      <td>815719229</td>\n",
       "      <td>male</td>\n",
       "      <td>[mobile, guy, er, google, yahoo, sprint, pc, a...</td>\n",
       "      <td>douggarland</td>\n",
       "      <td>C0DEED</td>\n",
       "      <td>[hi, looking, url, use, typically, see, advanc...</td>\n",
       "    </tr>\n",
       "    <tr>\n",
       "      <th>4</th>\n",
       "      <td>815719230</td>\n",
       "      <td>female</td>\n",
       "      <td>[ricky, wilson, best, chief, best, band, xxxx,...</td>\n",
       "      <td>WilfordGemma</td>\n",
       "      <td>0</td>\n",
       "      <td>[watching, neighbour, sky, catching, xxx, _ù, ...</td>\n",
       "    </tr>\n",
       "    <tr>\n",
       "      <th>5</th>\n",
       "      <td>815719231</td>\n",
       "      <td>female</td>\n",
       "      <td>[know]</td>\n",
       "      <td>monroevicious</td>\n",
       "      <td>0</td>\n",
       "      <td>[ive, seen, people, train, chair, tv, etc]</td>\n",
       "    </tr>\n",
       "    <tr>\n",
       "      <th>6</th>\n",
       "      <td>815719232</td>\n",
       "      <td>brand</td>\n",
       "      <td>[global, marketplace, image, video, music, sha...</td>\n",
       "      <td>Shutterstock</td>\n",
       "      <td>0</td>\n",
       "      <td>[thank, patience, take, care, issue]</td>\n",
       "    </tr>\n",
       "    <tr>\n",
       "      <th>7</th>\n",
       "      <td>815719233</td>\n",
       "      <td>male</td>\n",
       "      <td>[secret, getting, ahead, getting, started]</td>\n",
       "      <td>RobinMeske</td>\n",
       "      <td>C0DEED</td>\n",
       "      <td>[gala, bingo, club, bought, å, uk, largest, hi...</td>\n",
       "    </tr>\n",
       "    <tr>\n",
       "      <th>8</th>\n",
       "      <td>815719234</td>\n",
       "      <td>female</td>\n",
       "      <td>[pll, fan, crazy, mcd, ramen, bae]</td>\n",
       "      <td>pigzilla_</td>\n",
       "      <td>0</td>\n",
       "      <td>[pic, defines, mcd, mcd, shipper, xd]</td>\n",
       "    </tr>\n",
       "    <tr>\n",
       "      <th>9</th>\n",
       "      <td>815719235</td>\n",
       "      <td>female</td>\n",
       "      <td>[renaissance, art, historian, university, nott...</td>\n",
       "      <td>GabrieleNeher</td>\n",
       "      <td>FFFFFF</td>\n",
       "      <td>[lovely, tree, year, never, seen, gorgeous, au...</td>\n",
       "    </tr>\n",
       "    <tr>\n",
       "      <th>11</th>\n",
       "      <td>815719237</td>\n",
       "      <td>brand</td>\n",
       "      <td>[highly, extraordinary, auction]</td>\n",
       "      <td>eliseotecleo</td>\n",
       "      <td>C0DEED</td>\n",
       "      <td>[mtg, deal, x, rank, magic, one, en, secret, r...</td>\n",
       "    </tr>\n",
       "  </tbody>\n",
       "</table>\n",
       "</div>"
      ],
      "text/plain": [
       "     _unit_id  gender                                        description  \\\n",
       "0   815719226    male                                     [sing, rhythm]   \n",
       "1   815719227    male    [author, novel, filled, family, drama, romance]   \n",
       "3   815719229    male  [mobile, guy, er, google, yahoo, sprint, pc, a...   \n",
       "4   815719230  female  [ricky, wilson, best, chief, best, band, xxxx,...   \n",
       "5   815719231  female                                             [know]   \n",
       "6   815719232   brand  [global, marketplace, image, video, music, sha...   \n",
       "7   815719233    male         [secret, getting, ahead, getting, started]   \n",
       "8   815719234  female                 [pll, fan, crazy, mcd, ramen, bae]   \n",
       "9   815719235  female  [renaissance, art, historian, university, nott...   \n",
       "11  815719237   brand                   [highly, extraordinary, auction]   \n",
       "\n",
       "             name sidebar_color  \\\n",
       "0         sheezy0        FFFFFF   \n",
       "1     DavdBurnett        C0DEED   \n",
       "3     douggarland        C0DEED   \n",
       "4    WilfordGemma             0   \n",
       "5   monroevicious             0   \n",
       "6    Shutterstock             0   \n",
       "7      RobinMeske        C0DEED   \n",
       "8       pigzilla_             0   \n",
       "9   GabrieleNeher        FFFFFF   \n",
       "11   eliseotecleo        C0DEED   \n",
       "\n",
       "                                                 text  \n",
       "0                     [e, critic, win, eddie, edward]  \n",
       "1   [felt, like, friend, wa, living, story, û, ret...  \n",
       "3   [hi, looking, url, use, typically, see, advanc...  \n",
       "4   [watching, neighbour, sky, catching, xxx, _ù, ...  \n",
       "5          [ive, seen, people, train, chair, tv, etc]  \n",
       "6                [thank, patience, take, care, issue]  \n",
       "7   [gala, bingo, club, bought, å, uk, largest, hi...  \n",
       "8               [pic, defines, mcd, mcd, shipper, xd]  \n",
       "9   [lovely, tree, year, never, seen, gorgeous, au...  \n",
       "11  [mtg, deal, x, rank, magic, one, en, secret, r...  "
      ]
     },
     "execution_count": 26,
     "metadata": {},
     "output_type": "execute_result"
    }
   ],
   "source": [
    "data.head(10)"
   ]
  },
  {
   "cell_type": "markdown",
   "metadata": {
    "colab_type": "text",
    "id": "ukQRczdnUcbn"
   },
   "source": [
    "Let's look at the most common tweets location. It might affect our tweets steaming filtering later."
   ]
  },
  {
   "cell_type": "code",
   "execution_count": 27,
   "metadata": {
    "colab": {
     "base_uri": "https://localhost:8080/",
     "height": 170
    },
    "colab_type": "code",
    "id": "-X9wHJyDUcbn",
    "outputId": "4423dc3a-314a-4539-c17c-7909a6251d7f"
   },
   "outputs": [
    {
     "data": {
      "text/plain": [
       "Eastern Time (US & Canada)    2496\n",
       "Pacific Time (US & Canada)    2106\n",
       "Central Time (US & Canada)    1505\n",
       "London                        1307\n",
       "Atlantic Time (Canada)         589\n",
       "Quito                          489\n",
       "Amsterdam                      385\n",
       "Arizona                        306\n",
       "Name: user_timezone, dtype: int64"
      ]
     },
     "execution_count": 27,
     "metadata": {},
     "output_type": "execute_result"
    }
   ],
   "source": [
    "complete_data.user_timezone.value_counts()[:8]"
   ]
  },
  {
   "cell_type": "code",
   "execution_count": 28,
   "metadata": {
    "colab": {
     "base_uri": "https://localhost:8080/",
     "height": 170
    },
    "colab_type": "code",
    "id": "1CHYdUP6Ucbq",
    "outputId": "e6cca214-9c33-4bdd-f4a4-52193d496b7b"
   },
   "outputs": [
    {
     "data": {
      "text/plain": [
       "London             152\n",
       "United States      142\n",
       "USA                 94\n",
       "UK                  92\n",
       "Los Angeles, CA     69\n",
       "New York, NY        67\n",
       "Worldwide           65\n",
       "New York            62\n",
       "Name: tweet_location, dtype: int64"
      ]
     },
     "execution_count": 28,
     "metadata": {},
     "output_type": "execute_result"
    }
   ],
   "source": [
    "complete_data.tweet_location.value_counts()[:8]"
   ]
  },
  {
   "cell_type": "markdown",
   "metadata": {
    "colab_type": "text",
    "id": "wW5jQJraUcbt"
   },
   "source": [
    "We can see that most of the tweets are from US "
   ]
  },
  {
   "cell_type": "markdown",
   "metadata": {},
   "source": [
    "We will add one more column with bi-grams in order to have one more pre-process option later.\n",
    "For this mission we will have to create our own encoder to make bigram to sequence."
   ]
  },
  {
   "cell_type": "code",
   "execution_count": 29,
   "metadata": {},
   "outputs": [],
   "source": [
    "def get_bigram_pd(data,col_name):\n",
    "    bigram_pd = pd.DataFrame(data[col_name].apply(lambda sent:list(ngrams(sent,2))))\n",
    "    return bigram_pd.rename(columns={col_name: 'bi_' + col_name})\n",
    "\n",
    "def get_all_words_from_bigram(bigrams):\n",
    "    all_bigrams = []\n",
    "    bigrams.apply(lambda x:all_bigrams.append(x))\n",
    "    return reduce(lambda acc,x:acc.union(x),all_bigrams,set())\n",
    "\n",
    "def build_id_to_bi(bigrams):\n",
    "    #reverse the dictionary\n",
    "    bigram_to_id = {v:k for k,v in dict(enumerate(bigrams)).items()}\n",
    "    #we will return the next function:\n",
    "    def bi_to_id(bigram):\n",
    "        # if the bigrams doesnt exists, return size+1\n",
    "        if bigram in bigram_to_id: return bigram_to_id[bigram]\n",
    "        return len(bigram_to_id) + 1\n",
    "    return bi_to_id"
   ]
  },
  {
   "cell_type": "code",
   "execution_count": 30,
   "metadata": {},
   "outputs": [],
   "source": [
    "# for description:\n",
    "desc_bigram_pd = get_bigram_pd(data,'description')\n",
    "all_desc_bigrams = get_all_words_from_bigram(desc_bigram_pd['bi_description'])\n",
    "\n",
    "# for text:\n",
    "text_bigram_pd = get_bigram_pd(data,'text')\n",
    "all_text_bigrams = get_all_words_from_bigram(text_bigram_pd['bi_text'])\n",
    "\n",
    "# build bi-gram to id function:\n",
    "union_text_desc_bigrams = all_text_bigrams.union(all_desc_bigrams)\n",
    "bi_to_id = build_id_to_bi(union_text_desc_bigrams)"
   ]
  },
  {
   "cell_type": "code",
   "execution_count": 31,
   "metadata": {},
   "outputs": [
    {
     "data": {
      "text/html": [
       "<div>\n",
       "<style scoped>\n",
       "    .dataframe tbody tr th:only-of-type {\n",
       "        vertical-align: middle;\n",
       "    }\n",
       "\n",
       "    .dataframe tbody tr th {\n",
       "        vertical-align: top;\n",
       "    }\n",
       "\n",
       "    .dataframe thead th {\n",
       "        text-align: right;\n",
       "    }\n",
       "</style>\n",
       "<table border=\"1\" class=\"dataframe\">\n",
       "  <thead>\n",
       "    <tr style=\"text-align: right;\">\n",
       "      <th></th>\n",
       "      <th>_unit_id</th>\n",
       "      <th>gender</th>\n",
       "      <th>description</th>\n",
       "      <th>name</th>\n",
       "      <th>sidebar_color</th>\n",
       "      <th>text</th>\n",
       "      <th>bi_description</th>\n",
       "      <th>bi_text</th>\n",
       "    </tr>\n",
       "  </thead>\n",
       "  <tbody>\n",
       "    <tr>\n",
       "      <th>0</th>\n",
       "      <td>815719226</td>\n",
       "      <td>male</td>\n",
       "      <td>[sing, rhythm]</td>\n",
       "      <td>sheezy0</td>\n",
       "      <td>FFFFFF</td>\n",
       "      <td>[e, critic, win, eddie, edward]</td>\n",
       "      <td>[(sing, rhythm)]</td>\n",
       "      <td>[(e, critic), (critic, win), (win, eddie), (ed...</td>\n",
       "    </tr>\n",
       "    <tr>\n",
       "      <th>1</th>\n",
       "      <td>815719227</td>\n",
       "      <td>male</td>\n",
       "      <td>[author, novel, filled, family, drama, romance]</td>\n",
       "      <td>DavdBurnett</td>\n",
       "      <td>C0DEED</td>\n",
       "      <td>[felt, like, friend, wa, living, story, û, ret...</td>\n",
       "      <td>[(author, novel), (novel, filled), (filled, fa...</td>\n",
       "      <td>[(felt, like), (like, friend), (friend, wa), (...</td>\n",
       "    </tr>\n",
       "    <tr>\n",
       "      <th>3</th>\n",
       "      <td>815719229</td>\n",
       "      <td>male</td>\n",
       "      <td>[mobile, guy, er, google, yahoo, sprint, pc, a...</td>\n",
       "      <td>douggarland</td>\n",
       "      <td>C0DEED</td>\n",
       "      <td>[hi, looking, url, use, typically, see, advanc...</td>\n",
       "      <td>[(mobile, guy), (guy, er), (er, google), (goog...</td>\n",
       "      <td>[(hi, looking), (looking, url), (url, use), (u...</td>\n",
       "    </tr>\n",
       "    <tr>\n",
       "      <th>4</th>\n",
       "      <td>815719230</td>\n",
       "      <td>female</td>\n",
       "      <td>[ricky, wilson, best, chief, best, band, xxxx,...</td>\n",
       "      <td>WilfordGemma</td>\n",
       "      <td>0</td>\n",
       "      <td>[watching, neighbour, sky, catching, xxx, _ù, ...</td>\n",
       "      <td>[(ricky, wilson), (wilson, best), (best, chief...</td>\n",
       "      <td>[(watching, neighbour), (neighbour, sky), (sky...</td>\n",
       "    </tr>\n",
       "    <tr>\n",
       "      <th>5</th>\n",
       "      <td>815719231</td>\n",
       "      <td>female</td>\n",
       "      <td>[know]</td>\n",
       "      <td>monroevicious</td>\n",
       "      <td>0</td>\n",
       "      <td>[ive, seen, people, train, chair, tv, etc]</td>\n",
       "      <td>[]</td>\n",
       "      <td>[(ive, seen), (seen, people), (people, train),...</td>\n",
       "    </tr>\n",
       "  </tbody>\n",
       "</table>\n",
       "</div>"
      ],
      "text/plain": [
       "    _unit_id  gender                                        description  \\\n",
       "0  815719226    male                                     [sing, rhythm]   \n",
       "1  815719227    male    [author, novel, filled, family, drama, romance]   \n",
       "3  815719229    male  [mobile, guy, er, google, yahoo, sprint, pc, a...   \n",
       "4  815719230  female  [ricky, wilson, best, chief, best, band, xxxx,...   \n",
       "5  815719231  female                                             [know]   \n",
       "\n",
       "            name sidebar_color  \\\n",
       "0        sheezy0        FFFFFF   \n",
       "1    DavdBurnett        C0DEED   \n",
       "3    douggarland        C0DEED   \n",
       "4   WilfordGemma             0   \n",
       "5  monroevicious             0   \n",
       "\n",
       "                                                text  \\\n",
       "0                    [e, critic, win, eddie, edward]   \n",
       "1  [felt, like, friend, wa, living, story, û, ret...   \n",
       "3  [hi, looking, url, use, typically, see, advanc...   \n",
       "4  [watching, neighbour, sky, catching, xxx, _ù, ...   \n",
       "5         [ive, seen, people, train, chair, tv, etc]   \n",
       "\n",
       "                                      bi_description  \\\n",
       "0                                   [(sing, rhythm)]   \n",
       "1  [(author, novel), (novel, filled), (filled, fa...   \n",
       "3  [(mobile, guy), (guy, er), (er, google), (goog...   \n",
       "4  [(ricky, wilson), (wilson, best), (best, chief...   \n",
       "5                                                 []   \n",
       "\n",
       "                                             bi_text  \n",
       "0  [(e, critic), (critic, win), (win, eddie), (ed...  \n",
       "1  [(felt, like), (like, friend), (friend, wa), (...  \n",
       "3  [(hi, looking), (looking, url), (url, use), (u...  \n",
       "4  [(watching, neighbour), (neighbour, sky), (sky...  \n",
       "5  [(ive, seen), (seen, people), (people, train),...  "
      ]
     },
     "execution_count": 31,
     "metadata": {},
     "output_type": "execute_result"
    }
   ],
   "source": [
    "data =  data.assign(bi_description=pd.Series(desc_bigram_pd['bi_description']).values,\n",
    "                      bi_text=pd.Series(text_bigram_pd['bi_text']).values)\n",
    "\n",
    "data.head()"
   ]
  },
  {
   "cell_type": "markdown",
   "metadata": {},
   "source": [
    "We will turn the bigrams to sequences"
   ]
  },
  {
   "cell_type": "code",
   "execution_count": 32,
   "metadata": {},
   "outputs": [
    {
     "data": {
      "text/html": [
       "<div>\n",
       "<style scoped>\n",
       "    .dataframe tbody tr th:only-of-type {\n",
       "        vertical-align: middle;\n",
       "    }\n",
       "\n",
       "    .dataframe tbody tr th {\n",
       "        vertical-align: top;\n",
       "    }\n",
       "\n",
       "    .dataframe thead th {\n",
       "        text-align: right;\n",
       "    }\n",
       "</style>\n",
       "<table border=\"1\" class=\"dataframe\">\n",
       "  <thead>\n",
       "    <tr style=\"text-align: right;\">\n",
       "      <th></th>\n",
       "      <th>_unit_id</th>\n",
       "      <th>gender</th>\n",
       "      <th>description</th>\n",
       "      <th>name</th>\n",
       "      <th>sidebar_color</th>\n",
       "      <th>text</th>\n",
       "      <th>bi_description</th>\n",
       "      <th>bi_text</th>\n",
       "    </tr>\n",
       "  </thead>\n",
       "  <tbody>\n",
       "    <tr>\n",
       "      <th>0</th>\n",
       "      <td>815719226</td>\n",
       "      <td>male</td>\n",
       "      <td>[sing, rhythm]</td>\n",
       "      <td>sheezy0</td>\n",
       "      <td>FFFFFF</td>\n",
       "      <td>[e, critic, win, eddie, edward]</td>\n",
       "      <td>[37192]</td>\n",
       "      <td>[103734, 55900, 58028, 5830]</td>\n",
       "    </tr>\n",
       "    <tr>\n",
       "      <th>1</th>\n",
       "      <td>815719227</td>\n",
       "      <td>male</td>\n",
       "      <td>[author, novel, filled, family, drama, romance]</td>\n",
       "      <td>DavdBurnett</td>\n",
       "      <td>C0DEED</td>\n",
       "      <td>[felt, like, friend, wa, living, story, û, ret...</td>\n",
       "      <td>[33216, 75996, 121089, 19206, 62761]</td>\n",
       "      <td>[39692, 65852, 41345, 10638, 114340, 105299, 1...</td>\n",
       "    </tr>\n",
       "    <tr>\n",
       "      <th>3</th>\n",
       "      <td>815719229</td>\n",
       "      <td>male</td>\n",
       "      <td>[mobile, guy, er, google, yahoo, sprint, pc, a...</td>\n",
       "      <td>douggarland</td>\n",
       "      <td>C0DEED</td>\n",
       "      <td>[hi, looking, url, use, typically, see, advanc...</td>\n",
       "      <td>[13806, 37989, 4239, 120072, 49622, 120129, 75...</td>\n",
       "      <td>[35875, 25105, 64432, 119550, 7817, 41064, 51666]</td>\n",
       "    </tr>\n",
       "  </tbody>\n",
       "</table>\n",
       "</div>"
      ],
      "text/plain": [
       "    _unit_id gender                                        description  \\\n",
       "0  815719226   male                                     [sing, rhythm]   \n",
       "1  815719227   male    [author, novel, filled, family, drama, romance]   \n",
       "3  815719229   male  [mobile, guy, er, google, yahoo, sprint, pc, a...   \n",
       "\n",
       "          name sidebar_color  \\\n",
       "0      sheezy0        FFFFFF   \n",
       "1  DavdBurnett        C0DEED   \n",
       "3  douggarland        C0DEED   \n",
       "\n",
       "                                                text  \\\n",
       "0                    [e, critic, win, eddie, edward]   \n",
       "1  [felt, like, friend, wa, living, story, û, ret...   \n",
       "3  [hi, looking, url, use, typically, see, advanc...   \n",
       "\n",
       "                                      bi_description  \\\n",
       "0                                            [37192]   \n",
       "1               [33216, 75996, 121089, 19206, 62761]   \n",
       "3  [13806, 37989, 4239, 120072, 49622, 120129, 75...   \n",
       "\n",
       "                                             bi_text  \n",
       "0                       [103734, 55900, 58028, 5830]  \n",
       "1  [39692, 65852, 41345, 10638, 114340, 105299, 1...  \n",
       "3  [35875, 25105, 64432, 119550, 7817, 41064, 51666]  "
      ]
     },
     "execution_count": 32,
     "metadata": {},
     "output_type": "execute_result"
    }
   ],
   "source": [
    "data.bi_description = data.bi_description.apply(lambda bigrams:[bi_to_id(gram) for gram in bigrams])\n",
    "data.bi_text = data.bi_text.apply(lambda bigrams:[bi_to_id(gram) for gram in bigrams])\n",
    "data.head(3)"
   ]
  },
  {
   "cell_type": "markdown",
   "metadata": {
    "colab_type": "text",
    "id": "b9_g2mSjUcbu"
   },
   "source": [
    "We will turn the numerical categories to numbers in order to 'feed' our models with the right format.<br>\n",
    "But beforehand, we want to split the names to chars and then to use the 4 first letters as a feature."
   ]
  },
  {
   "cell_type": "code",
   "execution_count": 33,
   "metadata": {
    "colab": {},
    "colab_type": "code",
    "id": "3Zo19ZzeUcbv"
   },
   "outputs": [],
   "source": [
    "data_ml = data.copy()"
   ]
  },
  {
   "cell_type": "code",
   "execution_count": 34,
   "metadata": {
    "colab": {
     "base_uri": "https://localhost:8080/",
     "height": 204
    },
    "colab_type": "code",
    "id": "WrsR71awUcbx",
    "outputId": "8d63e7db-22af-4250-c9ff-02892079de40"
   },
   "outputs": [
    {
     "data": {
      "text/html": [
       "<div>\n",
       "<style scoped>\n",
       "    .dataframe tbody tr th:only-of-type {\n",
       "        vertical-align: middle;\n",
       "    }\n",
       "\n",
       "    .dataframe tbody tr th {\n",
       "        vertical-align: top;\n",
       "    }\n",
       "\n",
       "    .dataframe thead th {\n",
       "        text-align: right;\n",
       "    }\n",
       "</style>\n",
       "<table border=\"1\" class=\"dataframe\">\n",
       "  <thead>\n",
       "    <tr style=\"text-align: right;\">\n",
       "      <th></th>\n",
       "      <th>_unit_id</th>\n",
       "      <th>gender</th>\n",
       "      <th>description</th>\n",
       "      <th>name</th>\n",
       "      <th>sidebar_color</th>\n",
       "      <th>text</th>\n",
       "      <th>bi_description</th>\n",
       "      <th>bi_text</th>\n",
       "    </tr>\n",
       "  </thead>\n",
       "  <tbody>\n",
       "    <tr>\n",
       "      <th>0</th>\n",
       "      <td>815719226</td>\n",
       "      <td>male</td>\n",
       "      <td>[sing, rhythm]</td>\n",
       "      <td>[s, h, e, e]</td>\n",
       "      <td>FFFFFF</td>\n",
       "      <td>[e, critic, win, eddie, edward]</td>\n",
       "      <td>[37192]</td>\n",
       "      <td>[103734, 55900, 58028, 5830]</td>\n",
       "    </tr>\n",
       "    <tr>\n",
       "      <th>1</th>\n",
       "      <td>815719227</td>\n",
       "      <td>male</td>\n",
       "      <td>[author, novel, filled, family, drama, romance]</td>\n",
       "      <td>[d, a, v, d]</td>\n",
       "      <td>C0DEED</td>\n",
       "      <td>[felt, like, friend, wa, living, story, û, ret...</td>\n",
       "      <td>[33216, 75996, 121089, 19206, 62761]</td>\n",
       "      <td>[39692, 65852, 41345, 10638, 114340, 105299, 1...</td>\n",
       "    </tr>\n",
       "    <tr>\n",
       "      <th>3</th>\n",
       "      <td>815719229</td>\n",
       "      <td>male</td>\n",
       "      <td>[mobile, guy, er, google, yahoo, sprint, pc, a...</td>\n",
       "      <td>[d, o, u, g]</td>\n",
       "      <td>C0DEED</td>\n",
       "      <td>[hi, looking, url, use, typically, see, advanc...</td>\n",
       "      <td>[13806, 37989, 4239, 120072, 49622, 120129, 75...</td>\n",
       "      <td>[35875, 25105, 64432, 119550, 7817, 41064, 51666]</td>\n",
       "    </tr>\n",
       "    <tr>\n",
       "      <th>4</th>\n",
       "      <td>815719230</td>\n",
       "      <td>female</td>\n",
       "      <td>[ricky, wilson, best, chief, best, band, xxxx,...</td>\n",
       "      <td>[w, i, l, f]</td>\n",
       "      <td>0</td>\n",
       "      <td>[watching, neighbour, sky, catching, xxx, _ù, ...</td>\n",
       "      <td>[13489, 90905, 28629, 61068, 59311, 86882, 468...</td>\n",
       "      <td>[27570, 66407, 98149, 99001, 20957, 57994, 102...</td>\n",
       "    </tr>\n",
       "    <tr>\n",
       "      <th>5</th>\n",
       "      <td>815719231</td>\n",
       "      <td>female</td>\n",
       "      <td>[know]</td>\n",
       "      <td>[m, o, n, r]</td>\n",
       "      <td>0</td>\n",
       "      <td>[ive, seen, people, train, chair, tv, etc]</td>\n",
       "      <td>[]</td>\n",
       "      <td>[119842, 84424, 797, 106481, 35876, 7124]</td>\n",
       "    </tr>\n",
       "  </tbody>\n",
       "</table>\n",
       "</div>"
      ],
      "text/plain": [
       "    _unit_id  gender                                        description  \\\n",
       "0  815719226    male                                     [sing, rhythm]   \n",
       "1  815719227    male    [author, novel, filled, family, drama, romance]   \n",
       "3  815719229    male  [mobile, guy, er, google, yahoo, sprint, pc, a...   \n",
       "4  815719230  female  [ricky, wilson, best, chief, best, band, xxxx,...   \n",
       "5  815719231  female                                             [know]   \n",
       "\n",
       "           name sidebar_color  \\\n",
       "0  [s, h, e, e]        FFFFFF   \n",
       "1  [d, a, v, d]        C0DEED   \n",
       "3  [d, o, u, g]        C0DEED   \n",
       "4  [w, i, l, f]             0   \n",
       "5  [m, o, n, r]             0   \n",
       "\n",
       "                                                text  \\\n",
       "0                    [e, critic, win, eddie, edward]   \n",
       "1  [felt, like, friend, wa, living, story, û, ret...   \n",
       "3  [hi, looking, url, use, typically, see, advanc...   \n",
       "4  [watching, neighbour, sky, catching, xxx, _ù, ...   \n",
       "5         [ive, seen, people, train, chair, tv, etc]   \n",
       "\n",
       "                                      bi_description  \\\n",
       "0                                            [37192]   \n",
       "1               [33216, 75996, 121089, 19206, 62761]   \n",
       "3  [13806, 37989, 4239, 120072, 49622, 120129, 75...   \n",
       "4  [13489, 90905, 28629, 61068, 59311, 86882, 468...   \n",
       "5                                                 []   \n",
       "\n",
       "                                             bi_text  \n",
       "0                       [103734, 55900, 58028, 5830]  \n",
       "1  [39692, 65852, 41345, 10638, 114340, 105299, 1...  \n",
       "3  [35875, 25105, 64432, 119550, 7817, 41064, 51666]  \n",
       "4  [27570, 66407, 98149, 99001, 20957, 57994, 102...  \n",
       "5          [119842, 84424, 797, 106481, 35876, 7124]  "
      ]
     },
     "execution_count": 34,
     "metadata": {},
     "output_type": "execute_result"
    }
   ],
   "source": [
    "data.name = data['name'].apply(lambda x: list(x.lower())[:4])\n",
    "data.head()"
   ]
  },
  {
   "cell_type": "markdown",
   "metadata": {
    "colab_type": "text",
    "id": "jgf7K9LvUcb0"
   },
   "source": [
    "Now, we will get back to the preprocess and we will change the numerical features to numbers.<br>\n",
    "The name chars will be treated as chars vocabulary encoding and will be presented as a sequence.<br>\n",
    "For this task we will use some sklearn and nltk functions such as Tokenizer, fit_on_texts, pad_sequences, etc.<br>\n",
    "In order to choose an optimal length for padding we will look on the mean length of the text and of the description.<br>\n"
   ]
  },
  {
   "cell_type": "code",
   "execution_count": 35,
   "metadata": {
    "colab": {
     "base_uri": "https://localhost:8080/",
     "height": 68
    },
    "colab_type": "code",
    "id": "VOwN1WaQUcb2",
    "outputId": "9dba183f-42fd-46c2-9c52-ecd152f44000"
   },
   "outputs": [
    {
     "name": "stdout",
     "output_type": "stream",
     "text": [
      "text mean length 8.0\n",
      "description mean length 8.0\n",
      "name mean length 4.0\n",
      "bi_text mean length 7.0\n",
      "bi_description mean length 7.0\n"
     ]
    }
   ],
   "source": [
    "print(\"text mean length {}\".format(round(data.text.apply(len).mean())))\n",
    "print(\"description mean length {}\".format(round(data.description.apply(len).mean())))\n",
    "print(\"name mean length {}\".format(round(data.name.apply(len).mean())))\n",
    "print(\"bi_text mean length {}\".format(round(data.bi_text.apply(len).mean())))\n",
    "print(\"bi_description mean length {}\".format(round(data.bi_description.apply(len).mean())))"
   ]
  },
  {
   "cell_type": "markdown",
   "metadata": {
    "colab_type": "text",
    "id": "2wkbKAlZUcb8"
   },
   "source": [
    "We will choose to pad the text and the description columns values to a  length of 10."
   ]
  },
  {
   "cell_type": "code",
   "execution_count": 36,
   "metadata": {
    "colab": {
     "base_uri": "https://localhost:8080/",
     "height": 51
    },
    "colab_type": "code",
    "id": "i4pigM7AUccA",
    "outputId": "6cfb662d-a2df-4d54-b7ed-f6b10d15f05b"
   },
   "outputs": [
    {
     "data": {
      "text/plain": [
       "array([37192,     0,     0,     0,     0,     0,     0,     0,     0,\n",
       "           0], dtype=int32)"
      ]
     },
     "execution_count": 36,
     "metadata": {},
     "output_type": "execute_result"
    }
   ],
   "source": [
    "vocabulary_size = 10000\n",
    "tokenizer = Tokenizer(num_words= vocabulary_size)\n",
    "tokenizer.fit_on_texts(data.text.apply(lambda words: ' '.join(words)))\n",
    "tokenizer.fit_on_texts(data.description.apply(lambda words: ' '.join(words)))\n",
    "\n",
    "text_sequence = tokenizer.texts_to_sequences(data.text)\n",
    "description_sequence = tokenizer.texts_to_sequences(data.description)\n",
    "\n",
    "text_data = pad_sequences(text_sequence, maxlen=10,padding='post')\n",
    "description_data = pad_sequences(description_sequence, maxlen=10,padding='post')\n",
    "bi_text_data = pad_sequences(data.bi_text, maxlen=10,padding='post')\n",
    "bi_description_data = pad_sequences(data.bi_description, maxlen=10,padding='post')\n",
    "\n",
    "bi_description_data[0]"
   ]
  },
  {
   "cell_type": "markdown",
   "metadata": {
    "colab_type": "text",
    "id": "U2wIa7DsUccE"
   },
   "source": [
    "Now we will tokenize the first 4 letters of the name with a new Tokenizer for chars"
   ]
  },
  {
   "cell_type": "code",
   "execution_count": 37,
   "metadata": {
    "colab": {
     "base_uri": "https://localhost:8080/",
     "height": 34
    },
    "colab_type": "code",
    "id": "d_yzc-vMUccF",
    "outputId": "12ee6f0a-55d4-4e4b-873f-514cc3ec2b1e"
   },
   "outputs": [
    {
     "name": "stdout",
     "output_type": "stream",
     "text": [
      "number of unique names 37\n"
     ]
    }
   ],
   "source": [
    "all_names_letters = reduce(lambda acc,new: acc + new, data.name, [])\n",
    "number_of_unique_names = len(set(all_names_letters))\n",
    "print(\"number of unique names {}\".format(number_of_unique_names))"
   ]
  },
  {
   "cell_type": "code",
   "execution_count": 38,
   "metadata": {
    "colab": {},
    "colab_type": "code",
    "id": "9lXaRQf2UccL"
   },
   "outputs": [],
   "source": [
    "name_tokenizer = Tokenizer(num_words= number_of_unique_names, char_level=True)\n",
    "name_tokenizer.fit_on_texts(data.name.apply(lambda words: ''.join(words)))\n",
    "name_data = name_tokenizer.texts_to_sequences(data.name)\n",
    "name_data = pad_sequences(name_data, maxlen=4,padding='post')\n",
    "name_data = [np.array(lst) for lst in name_data]"
   ]
  },
  {
   "cell_type": "markdown",
   "metadata": {
    "colab_type": "text",
    "id": "6J7O428jUccO"
   },
   "source": [
    "Now our data set is divided into to 3:<br>\n",
    "1. text_data\n",
    "2. description_data\n",
    "3. name_data<br>\n",
    "\n",
    "We will create the labels (classes) by converting gender to id in the next cell"
   ]
  },
  {
   "cell_type": "code",
   "execution_count": 39,
   "metadata": {
    "colab": {
     "base_uri": "https://localhost:8080/",
     "height": 34
    },
    "colab_type": "code",
    "id": "iWoTOc5rUccO",
    "outputId": "6e48a23c-635a-4227-827e-c57198679a24"
   },
   "outputs": [
    {
     "data": {
      "text/plain": [
       "array([0, 0, 0, 1, 1])"
      ]
     },
     "execution_count": 39,
     "metadata": {},
     "output_type": "execute_result"
    }
   ],
   "source": [
    "# convert genders from female and male to 1 and 0 respectively\n",
    "y_data = data.gender.apply(lambda gender : gender_to_id(gender)).values\n",
    "y_data[:5]"
   ]
  },
  {
   "cell_type": "code",
   "execution_count": 40,
   "metadata": {
    "colab": {},
    "colab_type": "code",
    "id": "8kDGeRpiUccR"
   },
   "outputs": [],
   "source": [
    "X_data = {'text':list(text_data),\n",
    "          'description':list(description_data),\n",
    "          'bi_text':list(bi_text_data),\n",
    "          'bi_description':list(bi_description_data),\n",
    "          'name_letters':name_data,\n",
    "          'target':list(y_data)}\n",
    "lstm_data = pd.DataFrame.from_dict(X_data)"
   ]
  },
  {
   "cell_type": "code",
   "execution_count": 41,
   "metadata": {
    "colab": {
     "base_uri": "https://localhost:8080/",
     "height": 204
    },
    "colab_type": "code",
    "id": "1W0pqmzaUccT",
    "outputId": "176b030a-a412-4e2f-f9dc-a95b0e1c42c0"
   },
   "outputs": [
    {
     "data": {
      "text/html": [
       "<div>\n",
       "<style scoped>\n",
       "    .dataframe tbody tr th:only-of-type {\n",
       "        vertical-align: middle;\n",
       "    }\n",
       "\n",
       "    .dataframe tbody tr th {\n",
       "        vertical-align: top;\n",
       "    }\n",
       "\n",
       "    .dataframe thead th {\n",
       "        text-align: right;\n",
       "    }\n",
       "</style>\n",
       "<table border=\"1\" class=\"dataframe\">\n",
       "  <thead>\n",
       "    <tr style=\"text-align: right;\">\n",
       "      <th></th>\n",
       "      <th>text</th>\n",
       "      <th>description</th>\n",
       "      <th>bi_text</th>\n",
       "      <th>bi_description</th>\n",
       "      <th>name_letters</th>\n",
       "      <th>target</th>\n",
       "    </tr>\n",
       "  </thead>\n",
       "  <tbody>\n",
       "    <tr>\n",
       "      <th>0</th>\n",
       "      <td>[193, 1944, 235, 3964, 3965, 0, 0, 0, 0, 0]</td>\n",
       "      <td>[1748, 6387, 0, 0, 0, 0, 0, 0, 0, 0]</td>\n",
       "      <td>[103734, 55900, 58028, 5830, 0, 0, 0, 0, 0, 0]</td>\n",
       "      <td>[37192, 0, 0, 0, 0, 0, 0, 0, 0, 0]</td>\n",
       "      <td>[5, 12, 2, 2]</td>\n",
       "      <td>0</td>\n",
       "    </tr>\n",
       "    <tr>\n",
       "      <th>1</th>\n",
       "      <td>[1856, 5, 50, 11, 164, 152, 2, 971, 5804, 0]</td>\n",
       "      <td>[161, 1474, 2390, 79, 2324, 1712, 0, 0, 0, 0]</td>\n",
       "      <td>[39692, 65852, 41345, 10638, 114340, 105299, 1...</td>\n",
       "      <td>[33216, 75996, 121089, 19206, 62761, 0, 0, 0, ...</td>\n",
       "      <td>[13, 1, 24, 13]</td>\n",
       "      <td>0</td>\n",
       "    </tr>\n",
       "    <tr>\n",
       "      <th>2</th>\n",
       "      <td>[274, 211, 5805, 171, 6988, 31, 2237, 1388, 0, 0]</td>\n",
       "      <td>[6337, 1401, 738, 918, 3341, 5404, 230, 271, 3...</td>\n",
       "      <td>[35875, 25105, 64432, 119550, 7817, 41064, 516...</td>\n",
       "      <td>[49622, 120129, 75138, 15720, 10242, 106995, 6...</td>\n",
       "      <td>[13, 7, 15, 19]</td>\n",
       "      <td>0</td>\n",
       "    </tr>\n",
       "    <tr>\n",
       "      <th>3</th>\n",
       "      <td>[504, 6989, 1312, 4413, 1945, 698, 1945, 0, 0, 0]</td>\n",
       "      <td>[553, 5377, 167, 705, 1334, 28, 3642, 1221, 65...</td>\n",
       "      <td>[27570, 66407, 98149, 99001, 20957, 57994, 102...</td>\n",
       "      <td>[59311, 86882, 46896, 11440, 92016, 1078, 1152...</td>\n",
       "      <td>[23, 3, 6, 22]</td>\n",
       "      <td>1</td>\n",
       "    </tr>\n",
       "    <tr>\n",
       "      <th>4</th>\n",
       "      <td>[1630, 471, 19, 838, 1446, 157, 757, 0, 0, 0]</td>\n",
       "      <td>[24, 0, 0, 0, 0, 0, 0, 0, 0, 0]</td>\n",
       "      <td>[119842, 84424, 797, 106481, 35876, 7124, 0, 0...</td>\n",
       "      <td>[0, 0, 0, 0, 0, 0, 0, 0, 0, 0]</td>\n",
       "      <td>[10, 7, 9, 4]</td>\n",
       "      <td>1</td>\n",
       "    </tr>\n",
       "  </tbody>\n",
       "</table>\n",
       "</div>"
      ],
      "text/plain": [
       "                                                text  \\\n",
       "0        [193, 1944, 235, 3964, 3965, 0, 0, 0, 0, 0]   \n",
       "1       [1856, 5, 50, 11, 164, 152, 2, 971, 5804, 0]   \n",
       "2  [274, 211, 5805, 171, 6988, 31, 2237, 1388, 0, 0]   \n",
       "3  [504, 6989, 1312, 4413, 1945, 698, 1945, 0, 0, 0]   \n",
       "4      [1630, 471, 19, 838, 1446, 157, 757, 0, 0, 0]   \n",
       "\n",
       "                                         description  \\\n",
       "0               [1748, 6387, 0, 0, 0, 0, 0, 0, 0, 0]   \n",
       "1      [161, 1474, 2390, 79, 2324, 1712, 0, 0, 0, 0]   \n",
       "2  [6337, 1401, 738, 918, 3341, 5404, 230, 271, 3...   \n",
       "3  [553, 5377, 167, 705, 1334, 28, 3642, 1221, 65...   \n",
       "4                    [24, 0, 0, 0, 0, 0, 0, 0, 0, 0]   \n",
       "\n",
       "                                             bi_text  \\\n",
       "0     [103734, 55900, 58028, 5830, 0, 0, 0, 0, 0, 0]   \n",
       "1  [39692, 65852, 41345, 10638, 114340, 105299, 1...   \n",
       "2  [35875, 25105, 64432, 119550, 7817, 41064, 516...   \n",
       "3  [27570, 66407, 98149, 99001, 20957, 57994, 102...   \n",
       "4  [119842, 84424, 797, 106481, 35876, 7124, 0, 0...   \n",
       "\n",
       "                                      bi_description     name_letters  target  \n",
       "0                 [37192, 0, 0, 0, 0, 0, 0, 0, 0, 0]    [5, 12, 2, 2]       0  \n",
       "1  [33216, 75996, 121089, 19206, 62761, 0, 0, 0, ...  [13, 1, 24, 13]       0  \n",
       "2  [49622, 120129, 75138, 15720, 10242, 106995, 6...  [13, 7, 15, 19]       0  \n",
       "3  [59311, 86882, 46896, 11440, 92016, 1078, 1152...   [23, 3, 6, 22]       1  \n",
       "4                     [0, 0, 0, 0, 0, 0, 0, 0, 0, 0]    [10, 7, 9, 4]       1  "
      ]
     },
     "execution_count": 41,
     "metadata": {},
     "output_type": "execute_result"
    }
   ],
   "source": [
    "lstm_data.head(5)"
   ]
  },
  {
   "cell_type": "markdown",
   "metadata": {
    "colab_type": "text",
    "id": "Asf3zMm-UccY"
   },
   "source": [
    "### Q2<br>"
   ]
  },
  {
   "cell_type": "markdown",
   "metadata": {
    "colab_type": "text",
    "id": "-jAy0YzQUccb"
   },
   "source": [
    "For this mission we will use 3 features: text, description and the first 4 letters of the name.<br>\n",
    "We will have to concatenate the first two features (text and description) in order to use MultinomialNB and LogisticRegression.<br>\n",
    "We are using Pipeline with CounterVectorizer and TFIDF so for the next two machine learning models we will use data_ml which is not a sequence of words but it was pre-proccessed."
   ]
  },
  {
   "cell_type": "code",
   "execution_count": 42,
   "metadata": {
    "colab": {},
    "colab_type": "code",
    "id": "TGLNzbogUccc",
    "scrolled": true
   },
   "outputs": [],
   "source": [
    "text_as_description =  data_ml[['description']].rename(columns={'description': 'text'})\n",
    "text_as_name = pd.DataFrame(data_ml.name.apply(lambda x:[x[:4].lower()])).rename(columns={'name': 'text'})\n",
    "X_data = data_ml[['text']] + text_as_description + text_as_name\n",
    "X_data = X_data['text'].apply(lambda x: ' '.join(x))\n",
    "y_data = data_ml[['gender']]\n",
    "encoder = LabelEncoder()\n",
    "y_data = pd.DataFrame(encoder.fit_transform(np.array(y_data).ravel()))"
   ]
  },
  {
   "cell_type": "code",
   "execution_count": 43,
   "metadata": {
    "colab": {},
    "colab_type": "code",
    "id": "nx374Nw7Uccj"
   },
   "outputs": [],
   "source": [
    "X_data, X_test, y_data, y_test = train_test_split(X_data, y_data, test_size=0.2, random_state=42)"
   ]
  },
  {
   "cell_type": "markdown",
   "metadata": {
    "colab_type": "text",
    "id": "Xp6-kug2Uccm"
   },
   "source": [
    "We will first use a naiive prediction to create a baseline benchmark.\n",
    "In order to do so, we will predict all genders to be 'male' or all genders to be 'female' and test the accuracy of the results:"
   ]
  },
  {
   "cell_type": "code",
   "execution_count": 44,
   "metadata": {
    "colab": {
     "base_uri": "https://localhost:8080/",
     "height": 85
    },
    "colab_type": "code",
    "id": "uoufUESdUccn",
    "outputId": "297b63e0-0ef0-4d45-86ce-70482dc81ea6"
   },
   "outputs": [
    {
     "name": "stdout",
     "output_type": "stream",
     "text": [
      "Naiive 'male' prediction accuracy on train : 0.2528481012658228\n",
      "Naiive 'female' prediction accuracy on train : 0.3876582278481013\n",
      "Naiive 'male' prediction accuracy on test: 0.2585407001265289\n",
      "Naiive 'female' prediction accuracy on test: 0.39730071699704766\n"
     ]
    }
   ],
   "source": [
    "y_pred_male = np.tile(gender_to_id('male'), len(y_test))\n",
    "y_pred_female = np.tile(gender_to_id('female'), len(y_test))\n",
    "\n",
    "y_pred_male_train = np.tile(gender_to_id('male'), len(y_data))\n",
    "y_pred_female_train = np.tile(gender_to_id('female'), len(y_data))\n",
    "\n",
    "print(\"Naiive 'male' prediction accuracy on train : {}\\nNaiive 'female' prediction accuracy on train : {}\".format(\n",
    "    accuracy_score(y_data, y_pred_male_train),\n",
    "    accuracy_score(y_data, y_pred_female_train))\n",
    "     )\n",
    "\n",
    "print(\"Naiive 'male' prediction accuracy on test: {}\\nNaiive 'female' prediction accuracy on test: {}\".format(\n",
    "    accuracy_score(y_test, y_pred_male),\n",
    "    accuracy_score(y_test, y_pred_female))\n",
    "     )"
   ]
  },
  {
   "cell_type": "markdown",
   "metadata": {
    "colab_type": "text",
    "id": "iP9GQ2XtUccs"
   },
   "source": [
    "We can see that the accuracy score for a naiive model that guesses the gender of the author to be constantly male, or constantly female is not good enough, with only 25%-39% accuracy.\n",
    "We would like to improve that prediction by using more complicated models."
   ]
  },
  {
   "cell_type": "markdown",
   "metadata": {
    "colab_type": "text",
    "id": "Juqjw3MEUcct"
   },
   "source": [
    "We will train a machine learning model to predict the gender of the tweets' authors.<br>\n",
    "We will use k-fold cross validation with the train data and then we will present test accuracy results.<br>\n",
    "For the third model which is LSTM we will use naive train\\test split.<br>\n",
    "We will use pipeline with two features, Count vectorizer and tfidf.<br>\n",
    "Since we need to try two combinations, we will consider Countvectorizer with uni-gram as the first combination\n",
    "and unigram and bigram as the second one.<br>\n",
    "Then, we will choose the best model and we will tune hyperparams."
   ]
  },
  {
   "cell_type": "code",
   "execution_count": 45,
   "metadata": {
    "colab": {},
    "colab_type": "code",
    "id": "-Hp9NZeyUccv"
   },
   "outputs": [],
   "source": [
    "############## utils ##############\n",
    "def flatten(lst):\n",
    "    return list(map(lambda x:x[0],lst))\n",
    "\n",
    "def show_confusion_matrix(confusion_mat,classes,title = ''):\n",
    "    range_of_classes = list(range(len(classes)))\n",
    "    fig, ax = plt.subplots(figsize=(12,12))\n",
    "    sns.heatmap(confusion_mat,cmap='Greens',annot=True,linewidths=1.0, fmt='d',ax=ax)\n",
    "    plt.xlabel('Prediction')\n",
    "    plt.ylabel('True label')\n",
    "    plt.title(title)\n",
    "    plt.xticks(range_of_classes, classes, rotation=45)\n",
    "    plt.yticks(range_of_classes, classes,rotation=0)\n",
    "    plt.show()\n",
    "###################################\n",
    "\n",
    "def build_pipeline(model,ngram_range=(1,1)):\n",
    "    return Pipeline([\n",
    "        ('vect', CountVectorizer(ngram_range=ngram_range)),\n",
    "        ('tfidf', TfidfTransformer()),\n",
    "        ('model', model)])\n",
    "\n",
    "\n",
    "def train(model,X_train, y_train, n_folds = 6,ngram_range=(1,1)):\n",
    "    classes = [0, 1, 2, 3]\n",
    "    confusion = np.zeros((len(classes),len(classes)),dtype=int)\n",
    "    k_fold = KFold(n_splits = n_folds)\n",
    "    pipeline = build_pipeline(model,ngram_range)\n",
    "    scores = []\n",
    "    print(\"Training with %d folds\" % n_folds)\n",
    "    for i, (train_indices, test_indices) in enumerate(k_fold.split(X_train)):\n",
    "        train_text = X_train.iloc[train_indices].values.tolist()\n",
    "        train_y = y_train.iloc[train_indices].values.tolist()\n",
    "\n",
    "        test_text = X_train.iloc[test_indices].values.tolist()\n",
    "        test_y = y_train.iloc[test_indices].values.tolist()\n",
    "        \n",
    "        print(\"Training for fold %d\" % i)\n",
    "        train_y = np.array(train_y)\n",
    "        pipeline.fit(train_text, train_y.ravel())\n",
    "        print(\"Testing for fold %d\" % i)\n",
    "        predictions = pipeline.predict(test_text)\n",
    "        \n",
    "        confusion += confusion_matrix(test_y, predictions,labels=classes)\n",
    "\n",
    "\n",
    "        score = accuracy_score(test_y, predictions)\n",
    "        scores.append(score)\n",
    "        \n",
    "        print(\"Score for %d: %2.2f\" % (i, score))\n",
    "        print(\"-------------------\")\n",
    "\n",
    "    print('Total corpus classified:', len(X_train))\n",
    "    print('Score:', round(sum(scores)/len(scores),5))\n",
    "    show_confusion_matrix(confusion,classes,title=\"Confusion Matrix\")\n",
    "    return pipeline, round(sum(scores)/len(scores),5)"
   ]
  },
  {
   "cell_type": "code",
   "execution_count": 46,
   "metadata": {
    "colab": {
     "base_uri": "https://localhost:8080/",
     "height": 1189
    },
    "colab_type": "code",
    "id": "V0BAYyZhUccz",
    "outputId": "56042ac4-32c2-4fcf-b100-87da39a1d86c"
   },
   "outputs": [
    {
     "name": "stdout",
     "output_type": "stream",
     "text": [
      "Training with 6 folds\n",
      "Training for fold 0\n",
      "Testing for fold 0\n",
      "Score for 0: 0.66\n",
      "-------------------\n",
      "Training for fold 1\n",
      "Testing for fold 1\n",
      "Score for 1: 0.66\n",
      "-------------------\n",
      "Training for fold 2\n",
      "Testing for fold 2\n",
      "Score for 2: 0.66\n",
      "-------------------\n",
      "Training for fold 3\n",
      "Testing for fold 3\n",
      "Score for 3: 0.67\n",
      "-------------------\n",
      "Training for fold 4\n",
      "Testing for fold 4\n",
      "Score for 4: 0.69\n",
      "-------------------\n",
      "Training for fold 5\n",
      "Testing for fold 5\n",
      "Score for 5: 0.66\n",
      "-------------------\n",
      "Total corpus classified: 9480\n",
      "Score: 0.66614\n"
     ]
    },
    {
     "data": {
      "image/png": "[encoded data removed]",
      "text/plain": [
       "<Figure size 864x864 with 2 Axes>"
      ]
     },
     "metadata": {
      "needs_background": "light"
     },
     "output_type": "display_data"
    }
   ],
   "source": [
    "pipeline,val_score_NB_unigram = train(MultinomialNB(),X_data,y_data)"
   ]
  },
  {
   "cell_type": "markdown",
   "metadata": {
    "colab_type": "text",
    "id": "pLu4f3ZiUcc3"
   },
   "source": [
    "Results on test :"
   ]
  },
  {
   "cell_type": "code",
   "execution_count": 47,
   "metadata": {
    "colab": {
     "base_uri": "https://localhost:8080/",
     "height": 34
    },
    "colab_type": "code",
    "id": "IpHzp5m3Ucc3",
    "outputId": "4b7fcc39-5cad-4dee-9bb8-4afb7a7d5745"
   },
   "outputs": [
    {
     "name": "stdout",
     "output_type": "stream",
     "text": [
      "test score 0.6638549135385913\n"
     ]
    }
   ],
   "source": [
    "multinomial_nb_not_tuned = build_pipeline(MultinomialNB())\n",
    "multinomial_nb_not_tuned.fit(X_data,np.array(y_data).ravel())\n",
    "\n",
    "y_nb_preds = multinomial_nb_not_tuned.predict(X_test)\n",
    "test_score_NB_unigram = accuracy_score(y_test,y_nb_preds)\n",
    "print(\"test score {}\".format(test_score_NB_unigram))"
   ]
  },
  {
   "cell_type": "markdown",
   "metadata": {
    "colab_type": "text",
    "id": "dM5wP4RFUcc6"
   },
   "source": [
    "And now we will add bi-grams as a new pre-process combination"
   ]
  },
  {
   "cell_type": "code",
   "execution_count": 48,
   "metadata": {
    "colab": {
     "base_uri": "https://localhost:8080/",
     "height": 1189
    },
    "colab_type": "code",
    "id": "D0cZn6xMUcc6",
    "outputId": "5910a902-f66d-4b4a-b9d8-71e058742612"
   },
   "outputs": [
    {
     "name": "stdout",
     "output_type": "stream",
     "text": [
      "Training with 6 folds\n",
      "Training for fold 0\n",
      "Testing for fold 0\n",
      "Score for 0: 0.64\n",
      "-------------------\n",
      "Training for fold 1\n",
      "Testing for fold 1\n",
      "Score for 1: 0.65\n",
      "-------------------\n",
      "Training for fold 2\n",
      "Testing for fold 2\n",
      "Score for 2: 0.64\n",
      "-------------------\n",
      "Training for fold 3\n",
      "Testing for fold 3\n",
      "Score for 3: 0.64\n",
      "-------------------\n",
      "Training for fold 4\n",
      "Testing for fold 4\n",
      "Score for 4: 0.66\n",
      "-------------------\n",
      "Training for fold 5\n",
      "Testing for fold 5\n",
      "Score for 5: 0.65\n",
      "-------------------\n",
      "Total corpus classified: 9480\n",
      "Score: 0.64726\n"
     ]
    },
    {
     "data": {
      "image/png": "[encoded data removed]",
      "text/plain": [
       "<Figure size 864x864 with 2 Axes>"
      ]
     },
     "metadata": {
      "needs_background": "light"
     },
     "output_type": "display_data"
    }
   ],
   "source": [
    "pipeline,val_score_NB_bigram = train(MultinomialNB(),X_data,y_data,ngram_range=(1,2))"
   ]
  },
  {
   "cell_type": "markdown",
   "metadata": {
    "colab_type": "text",
    "id": "6KnwYixfUcc9"
   },
   "source": [
    "So, we can see that there is no improvment.<br>\n",
    "we will show the test results as we asked to do"
   ]
  },
  {
   "cell_type": "code",
   "execution_count": 49,
   "metadata": {
    "colab": {
     "base_uri": "https://localhost:8080/",
     "height": 34
    },
    "colab_type": "code",
    "id": "OFAZ5FIFUcc-",
    "outputId": "132dfd96-dd12-4126-df2b-a3632ca6f8e3"
   },
   "outputs": [
    {
     "name": "stdout",
     "output_type": "stream",
     "text": [
      "test score 0.6482496836777731\n"
     ]
    }
   ],
   "source": [
    "multinomial_nb_bgigram = build_pipeline(MultinomialNB(),ngram_range=(1,2))\n",
    "multinomial_nb_bgigram.fit(X_data,np.array(y_data).ravel())\n",
    "\n",
    "y_nb_preds2 = multinomial_nb_bgigram.predict(X_test)\n",
    "test_score_NB_bigram = accuracy_score(y_test,y_nb_preds2)\n",
    "print(\"test score {}\".format(test_score_NB_bigram))"
   ]
  },
  {
   "cell_type": "markdown",
   "metadata": {
    "colab_type": "text",
    "id": "Byj9rIW3UcdB"
   },
   "source": [
    "So, we were asked to try different pre-processing and parameters tuning combinations.<br>\n",
    "We consider the ngram_range (1,1) and (1,2) as two different pre-process.<br>\n",
    "Now, we will try to tune the model with the alpha parameter for the MultinomialNB.<br>\n",
    "For this task, we will change the train method which uses k-fold to do less prints and to return the best model among the alpha options that we will try."
   ]
  },
  {
   "cell_type": "code",
   "execution_count": 50,
   "metadata": {
    "colab": {},
    "colab_type": "code",
    "id": "pyh2eJh6UcdC"
   },
   "outputs": [],
   "source": [
    "def train2(model,X_train, y_train, n_folds = 6,ngram_range=(1,1)):\n",
    "    classes = [0, 1, 2, 3]\n",
    "    confusion = np.zeros((len(classes),len(classes)),dtype=int)\n",
    "    k_fold = KFold(n_splits = n_folds)\n",
    "    pipeline = build_pipeline(model,ngram_range)\n",
    "    scores = []\n",
    "    for i, (train_indices, test_indices) in enumerate(k_fold.split(X_train)):\n",
    "        train_text = X_train.iloc[train_indices].values.tolist()\n",
    "        train_y = y_train.iloc[train_indices].values.tolist()\n",
    "\n",
    "        test_text = X_train.iloc[test_indices].values.tolist()\n",
    "        test_y = y_train.iloc[test_indices].values.tolist()\n",
    "        \n",
    "        pipeline.fit(train_text, np.array(train_y).ravel())\n",
    "        predictions = pipeline.predict(test_text)\n",
    "        \n",
    "        confusion += confusion_matrix(test_y, predictions,labels=classes)\n",
    "\n",
    "\n",
    "        score = accuracy_score(test_y, predictions)\n",
    "        scores.append(score)\n",
    "        \n",
    "\n",
    "\n",
    "    print('Total corpus classified:', len(X_train))\n",
    "    print('Score:', round(sum(scores)/len(scores),5))\n",
    "    show_confusion_matrix(confusion,classes,title=\"Confusion Matrix\")\n",
    "    return pipeline,score\n",
    "\n",
    "def find_optimal_alpha(alpha_range):\n",
    "    scores = {}\n",
    "    for alpha in alpha_range:\n",
    "        print(\"alpha {}\".format(alpha))\n",
    "        _,score = train2(MultinomialNB(alpha),X_data,y_data) \n",
    "        scores[alpha] = score\n",
    "    return scores"
   ]
  },
  {
   "cell_type": "code",
   "execution_count": 51,
   "metadata": {
    "colab": {
     "base_uri": "https://localhost:8080/",
     "height": 7046
    },
    "colab_type": "code",
    "id": "ATkNxSjzUcdD",
    "outputId": "eed42c5c-7cc7-43b4-bb0a-26492894ffd3"
   },
   "outputs": [
    {
     "name": "stdout",
     "output_type": "stream",
     "text": [
      "alpha 0.1\n",
      "Total corpus classified: 9480\n",
      "Score: 0.66814\n"
     ]
    },
    {
     "data": {
      "image/png": "[encoded data removed]",
      "text/plain": [
       "<Figure size 864x864 with 2 Axes>"
      ]
     },
     "metadata": {
      "needs_background": "light"
     },
     "output_type": "display_data"
    },
    {
     "name": "stdout",
     "output_type": "stream",
     "text": [
      "alpha 0.2\n",
      "Total corpus classified: 9480\n",
      "Score: 0.67859\n"
     ]
    },
    {
     "data": {
      "image/png": "[encoded data removed]",
      "text/plain": [
       "<Figure size 864x864 with 2 Axes>"
      ]
     },
     "metadata": {
      "needs_background": "light"
     },
     "output_type": "display_data"
    },
    {
     "name": "stdout",
     "output_type": "stream",
     "text": [
      "alpha 0.3\n",
      "Total corpus classified: 9480\n",
      "Score: 0.68101\n"
     ]
    },
    {
     "data": {
      "image/png": "[encoded data removed]",
      "text/plain": [
       "<Figure size 864x864 with 2 Axes>"
      ]
     },
     "metadata": {
      "needs_background": "light"
     },
     "output_type": "display_data"
    },
    {
     "name": "stdout",
     "output_type": "stream",
     "text": [
      "alpha 0.4\n",
      "Total corpus classified: 9480\n",
      "Score: 0.68228\n"
     ]
    },
    {
     "data": {
      "image/png": "[encoded data removed]",
      "text/plain": [
       "<Figure size 864x864 with 2 Axes>"
      ]
     },
     "metadata": {
      "needs_background": "light"
     },
     "output_type": "display_data"
    },
    {
     "name": "stdout",
     "output_type": "stream",
     "text": [
      "alpha 0.5\n",
      "Total corpus classified: 9480\n",
      "Score: 0.68091\n"
     ]
    },
    {
     "data": {
      "image/png": "[encoded data removed]",
      "text/plain": [
       "<Figure size 864x864 with 2 Axes>"
      ]
     },
     "metadata": {
      "needs_background": "light"
     },
     "output_type": "display_data"
    },
    {
     "name": "stdout",
     "output_type": "stream",
     "text": [
      "alpha 0.6\n",
      "Total corpus classified: 9480\n",
      "Score: 0.67848\n"
     ]
    },
    {
     "data": {
      "image/png": "[encoded data removed]",
      "text/plain": [
       "<Figure size 864x864 with 2 Axes>"
      ]
     },
     "metadata": {
      "needs_background": "light"
     },
     "output_type": "display_data"
    },
    {
     "name": "stdout",
     "output_type": "stream",
     "text": [
      "alpha 0.7\n",
      "Total corpus classified: 9480\n",
      "Score: 0.67648\n"
     ]
    },
    {
     "data": {
      "image/png": "[encoded data removed]",
      "text/plain": [
       "<Figure size 864x864 with 2 Axes>"
      ]
     },
     "metadata": {
      "needs_background": "light"
     },
     "output_type": "display_data"
    },
    {
     "name": "stdout",
     "output_type": "stream",
     "text": [
      "alpha 0.8\n",
      "Total corpus classified: 9480\n",
      "Score: 0.67215\n"
     ]
    },
    {
     "data": {
      "image/png": "[encoded data removed]",
      "text/plain": [
       "<Figure size 864x864 with 2 Axes>"
      ]
     },
     "metadata": {
      "needs_background": "light"
     },
     "output_type": "display_data"
    },
    {
     "name": "stdout",
     "output_type": "stream",
     "text": [
      "alpha 0.9\n",
      "Total corpus classified: 9480\n",
      "Score: 0.67057\n"
     ]
    },
    {
     "data": {
      "image/png": "[encoded data removed]",
      "text/plain": [
       "<Figure size 864x864 with 2 Axes>"
      ]
     },
     "metadata": {
      "needs_background": "light"
     },
     "output_type": "display_data"
    },
    {
     "data": {
      "text/plain": [
       "{0.1: 0.6620253164556962,\n",
       " 0.2: 0.6772151898734177,\n",
       " 0.3: 0.6797468354430379,\n",
       " 0.4: 0.6810126582278481,\n",
       " 0.5: 0.6791139240506329,\n",
       " 0.6: 0.6734177215189874,\n",
       " 0.7: 0.670253164556962,\n",
       " 0.8: 0.6677215189873418,\n",
       " 0.9: 0.6670886075949367}"
      ]
     },
     "execution_count": 51,
     "metadata": {},
     "output_type": "execute_result"
    }
   ],
   "source": [
    "alpha_range = [i/10 for i in range(1,10)]\n",
    "scores = find_optimal_alpha(alpha_range)\n",
    "scores"
   ]
  },
  {
   "cell_type": "code",
   "execution_count": 52,
   "metadata": {
    "colab": {
     "base_uri": "https://localhost:8080/",
     "height": 454
    },
    "colab_type": "code",
    "id": "sMYmurY7UcdJ",
    "outputId": "8f7a1897-1976-47d4-af79-0d753397d63b"
   },
   "outputs": [
    {
     "name": "stdout",
     "output_type": "stream",
     "text": [
      "alpha 0.1 and score 0.662\n",
      "alpha 0.2 and score 0.6772\n",
      "alpha 0.3 and score 0.6797\n",
      "alpha 0.4 and score 0.681\n",
      "alpha 0.5 and score 0.6791\n",
      "alpha 0.6 and score 0.6734\n",
      "alpha 0.7 and score 0.6703\n",
      "alpha 0.8 and score 0.6677\n",
      "alpha 0.9 and score 0.6671\n"
     ]
    },
    {
     "data": {
      "image/png": "[encoded data removed]",
      "text/plain": [
       "<Figure size 432x288 with 1 Axes>"
      ]
     },
     "metadata": {
      "needs_background": "light"
     },
     "output_type": "display_data"
    }
   ],
   "source": [
    "for alpha,score in scores.items():\n",
    "    print(\"alpha {} and score {}\".format(alpha,round(score,4)))\n",
    "plt.scatter(scores.keys(),scores.values())\n",
    "plt.xlabel(xlabel='$alpha$')\n",
    "plt.ylabel(ylabel='Score')\n",
    "plt.title(\"Score as a function of $alpha$\")\n",
    "plt.show()"
   ]
  },
  {
   "cell_type": "markdown",
   "metadata": {
    "colab_type": "text",
    "id": "Wh5qELp6UcdM"
   },
   "source": [
    "As we can see in the graph, $alpha = 0.4$ is the optimal alpha for this model, with val accuracy = 0.49 (best until now).<br>\n",
    "Let's see the results on the test"
   ]
  },
  {
   "cell_type": "code",
   "execution_count": 105,
   "metadata": {
    "colab": {
     "base_uri": "https://localhost:8080/",
     "height": 1206
    },
    "colab_type": "code",
    "id": "bqBjEQbOUcdN",
    "outputId": "107e36b9-3d83-4797-ccd8-d095fd562fd9"
   },
   "outputs": [
    {
     "name": "stdout",
     "output_type": "stream",
     "text": [
      "Training with 6 folds\n",
      "Training for fold 0\n",
      "Testing for fold 0\n",
      "Score for 0: 0.68\n",
      "-------------------\n",
      "Training for fold 1\n",
      "Testing for fold 1\n",
      "Score for 1: 0.68\n",
      "-------------------\n",
      "Training for fold 2\n",
      "Testing for fold 2\n",
      "Score for 2: 0.67\n",
      "-------------------\n",
      "Training for fold 3\n",
      "Testing for fold 3\n",
      "Score for 3: 0.69\n",
      "-------------------\n",
      "Training for fold 4\n",
      "Testing for fold 4\n",
      "Score for 4: 0.69\n",
      "-------------------\n",
      "Training for fold 5\n",
      "Testing for fold 5\n",
      "Score for 5: 0.68\n",
      "-------------------\n",
      "Total corpus classified: 9480\n",
      "Score: 0.68228\n"
     ]
    },
    {
     "data": {
      "image/png": "[encoded data removed]",
      "text/plain": [
       "<Figure size 864x864 with 2 Axes>"
      ]
     },
     "metadata": {
      "needs_background": "light"
     },
     "output_type": "display_data"
    },
    {
     "name": "stdout",
     "output_type": "stream",
     "text": [
      "test score 0.667650780261493\n"
     ]
    }
   ],
   "source": [
    "alpha = 0.4\n",
    "optimal_alpha_nb,val_score_NB_alpha_opt = train(MultinomialNB(alpha = alpha),X_data,y_data) \n",
    "\n",
    "y_optimal_nb_preds = optimal_alpha_nb.predict(X_test)\n",
    "test_score_NB_alpha_opt = accuracy_score(y_test,y_optimal_nb_preds)\n",
    "print(\"test score {}\".format(test_score_NB_alpha_opt))"
   ]
  },
  {
   "cell_type": "markdown",
   "metadata": {
    "colab_type": "text",
    "id": "hw5tN7Q1UcdP"
   },
   "source": [
    "Now for the second model,let's try with LogisticRegression."
   ]
  },
  {
   "cell_type": "code",
   "execution_count": 54,
   "metadata": {
    "colab": {
     "base_uri": "https://localhost:8080/",
     "height": 1189
    },
    "colab_type": "code",
    "id": "ttWborvnUcdQ",
    "outputId": "e5af388b-0f17-43ab-edc0-1613d4e996c2"
   },
   "outputs": [
    {
     "name": "stdout",
     "output_type": "stream",
     "text": [
      "Training with 6 folds\n",
      "Training for fold 0\n",
      "Testing for fold 0\n",
      "Score for 0: 0.65\n",
      "-------------------\n",
      "Training for fold 1\n",
      "Testing for fold 1\n",
      "Score for 1: 0.67\n",
      "-------------------\n",
      "Training for fold 2\n",
      "Testing for fold 2\n",
      "Score for 2: 0.67\n",
      "-------------------\n",
      "Training for fold 3\n",
      "Testing for fold 3\n",
      "Score for 3: 0.67\n",
      "-------------------\n",
      "Training for fold 4\n",
      "Testing for fold 4\n",
      "Score for 4: 0.69\n",
      "-------------------\n",
      "Training for fold 5\n",
      "Testing for fold 5\n",
      "Score for 5: 0.67\n",
      "-------------------\n",
      "Total corpus classified: 9480\n",
      "Score: 0.67205\n"
     ]
    },
    {
     "data": {
      "image/png": "[encoded data removed]",
      "text/plain": [
       "<Figure size 864x864 with 2 Axes>"
      ]
     },
     "metadata": {
      "needs_background": "light"
     },
     "output_type": "display_data"
    }
   ],
   "source": [
    "pipeline,val_score_LR_unigram = train(LogisticRegression(solver='lbfgs',multi_class='auto',max_iter=250),X_data,y_data)"
   ]
  },
  {
   "cell_type": "code",
   "execution_count": 55,
   "metadata": {
    "colab": {
     "base_uri": "https://localhost:8080/",
     "height": 34
    },
    "colab_type": "code",
    "id": "hFcAbRjrUcdV",
    "outputId": "081128d5-e5af-437a-d66b-d5fa03800a00"
   },
   "outputs": [
    {
     "name": "stdout",
     "output_type": "stream",
     "text": [
      "test score 0.6642766765078026\n"
     ]
    }
   ],
   "source": [
    "lrg_not_tuned = build_pipeline(LogisticRegression(solver='lbfgs',multi_class='auto',max_iter=250))\n",
    "lrg_not_tuned.fit(X_data,np.array(y_data).ravel())\n",
    "y_lrg_preds = lrg_not_tuned.predict(X_test)\n",
    "test_score_LR_unigram = accuracy_score(y_test,y_lrg_preds)\n",
    "print(\"test score {}\".format(test_score_LR_unigram))"
   ]
  },
  {
   "cell_type": "markdown",
   "metadata": {
    "colab_type": "text",
    "id": "w4CURdgcUcdb"
   },
   "source": [
    "And with bi-grams:"
   ]
  },
  {
   "cell_type": "code",
   "execution_count": 56,
   "metadata": {
    "colab": {
     "base_uri": "https://localhost:8080/",
     "height": 1189
    },
    "colab_type": "code",
    "id": "RYqcINHyUcdc",
    "outputId": "74cfd59f-2e14-4a36-9149-70ef59384ac0"
   },
   "outputs": [
    {
     "name": "stdout",
     "output_type": "stream",
     "text": [
      "Training with 6 folds\n",
      "Training for fold 0\n",
      "Testing for fold 0\n",
      "Score for 0: 0.66\n",
      "-------------------\n",
      "Training for fold 1\n",
      "Testing for fold 1\n",
      "Score for 1: 0.67\n",
      "-------------------\n",
      "Training for fold 2\n",
      "Testing for fold 2\n",
      "Score for 2: 0.67\n",
      "-------------------\n",
      "Training for fold 3\n",
      "Testing for fold 3\n",
      "Score for 3: 0.67\n",
      "-------------------\n",
      "Training for fold 4\n",
      "Testing for fold 4\n",
      "Score for 4: 0.69\n",
      "-------------------\n",
      "Training for fold 5\n",
      "Testing for fold 5\n",
      "Score for 5: 0.67\n",
      "-------------------\n",
      "Total corpus classified: 9480\n",
      "Score: 0.67215\n"
     ]
    },
    {
     "data": {
      "image/png": "[encoded data removed]",
      "text/plain": [
       "<Figure size 864x864 with 2 Axes>"
      ]
     },
     "metadata": {
      "needs_background": "light"
     },
     "output_type": "display_data"
    }
   ],
   "source": [
    "pipeline,val_score_LR_bigram = train(LogisticRegression(solver='lbfgs',multi_class='auto',max_iter=250),X_data,y_data,ngram_range=(1,2))"
   ]
  },
  {
   "cell_type": "code",
   "execution_count": 57,
   "metadata": {
    "colab": {
     "base_uri": "https://localhost:8080/",
     "height": 34
    },
    "colab_type": "code",
    "id": "gqKzJRJIUcde",
    "outputId": "d0f229ee-f436-427a-f9bd-078442e32e36"
   },
   "outputs": [
    {
     "name": "stdout",
     "output_type": "stream",
     "text": [
      "test score 0.6642766765078026\n"
     ]
    }
   ],
   "source": [
    "lrg_bigram = build_pipeline(LogisticRegression(solver='lbfgs',multi_class='auto',max_iter=250),ngram_range=(1,2))\n",
    "lrg_bigram.fit(X_data,np.array(y_data).ravel())\n",
    "y_lrg_preds2 = lrg_bigram.predict(X_test)\n",
    "test_score_LR_bigram = accuracy_score(y_test,y_lrg_preds2)\n",
    "print(\"test score {}\".format(test_score_LR_bigram))"
   ]
  },
  {
   "cell_type": "markdown",
   "metadata": {
    "colab_type": "text",
    "id": "qWqC-sWRUcdh"
   },
   "source": [
    "We got almost the same results on the validation. In the test we can see improvment. So the best model among these two is the logisticRegression with CountVectorizer using only unigrams.<br> We choose the best model according to the results on the validation only."
   ]
  },
  {
   "cell_type": "markdown",
   "metadata": {
    "colab_type": "text",
    "id": "TlWMB1m4Ucdh"
   },
   "source": [
    "Now, we will tune the logisticRegression hyperParamer in order to improve the results.\n",
    "We will use penalty = 'l2' as a tuned parameter."
   ]
  },
  {
   "cell_type": "code",
   "execution_count": 58,
   "metadata": {
    "colab": {
     "base_uri": "https://localhost:8080/",
     "height": 1189
    },
    "colab_type": "code",
    "id": "GkNfrZqEUcdi",
    "outputId": "4abd5ecd-fcb2-497d-8666-fe96bc004733"
   },
   "outputs": [
    {
     "name": "stdout",
     "output_type": "stream",
     "text": [
      "Training with 6 folds\n",
      "Training for fold 0\n",
      "Testing for fold 0\n",
      "Score for 0: 0.65\n",
      "-------------------\n",
      "Training for fold 1\n",
      "Testing for fold 1\n",
      "Score for 1: 0.67\n",
      "-------------------\n",
      "Training for fold 2\n",
      "Testing for fold 2\n",
      "Score for 2: 0.67\n",
      "-------------------\n",
      "Training for fold 3\n",
      "Testing for fold 3\n",
      "Score for 3: 0.67\n",
      "-------------------\n",
      "Training for fold 4\n",
      "Testing for fold 4\n",
      "Score for 4: 0.69\n",
      "-------------------\n",
      "Training for fold 5\n",
      "Testing for fold 5\n",
      "Score for 5: 0.67\n",
      "-------------------\n",
      "Total corpus classified: 9480\n",
      "Score: 0.67205\n"
     ]
    },
    {
     "data": {
      "image/png": "[encoded data removed]",
      "text/plain": [
       "<Figure size 864x864 with 2 Axes>"
      ]
     },
     "metadata": {
      "needs_background": "light"
     },
     "output_type": "display_data"
    }
   ],
   "source": [
    "pipeline, val_score_LR_penalty = train(LogisticRegression(penalty='l2',solver='lbfgs',multi_class='auto',max_iter=250),X_data,y_data,ngram_range=(1,1))"
   ]
  },
  {
   "cell_type": "markdown",
   "metadata": {
    "colab_type": "text",
    "id": "EL3llIxuUcdl"
   },
   "source": [
    "There is no improvment... <br>\n",
    "Let's see the test results"
   ]
  },
  {
   "cell_type": "code",
   "execution_count": 59,
   "metadata": {
    "colab": {
     "base_uri": "https://localhost:8080/",
     "height": 34
    },
    "colab_type": "code",
    "id": "LKCiGvhyUcdm",
    "outputId": "14b233c0-c9c3-44eb-9139-ffe18abddea6"
   },
   "outputs": [
    {
     "name": "stdout",
     "output_type": "stream",
     "text": [
      "test score 0.6642766765078026\n"
     ]
    }
   ],
   "source": [
    "lrg_penalty = build_pipeline(LogisticRegression(penalty='l2',solver='lbfgs',multi_class='auto',max_iter=250))\n",
    "lrg_penalty.fit(X_data,np.array(y_data).ravel())\n",
    "y_lrg_preds3 = lrg_penalty.predict(X_test)\n",
    "test_score_LR_penalty = accuracy_score(y_test,y_lrg_preds3)\n",
    "print(\"test score {}\".format(test_score_LR_penalty))"
   ]
  },
  {
   "cell_type": "markdown",
   "metadata": {
    "colab_type": "text",
    "id": "4Vi2XaSAUcdq"
   },
   "source": [
    "#### Now, we will use lstm as the thired model. "
   ]
  },
  {
   "cell_type": "code",
   "execution_count": 60,
   "metadata": {
    "colab": {},
    "colab_type": "code",
    "id": "OBEIltUHUcdq"
   },
   "outputs": [],
   "source": [
    "X_data_for_lstm = lstm_data.drop('target',axis=1)\n",
    "y_data_for_lstm = lstm_data.target.values\n",
    "X_data_for_lstm, x_test_for_lstm, y_data_for_lstm, y_test_for_lstm = train_test_split(X_data_for_lstm, y_data_for_lstm, test_size=0.2, random_state=42)"
   ]
  },
  {
   "cell_type": "code",
   "execution_count": 61,
   "metadata": {
    "colab": {},
    "colab_type": "code",
    "id": "Ns_AtjGYUcds"
   },
   "outputs": [],
   "source": [
    "def transform_df(X):\n",
    "    return np.array([X.values[i].reshape(X.values[0].shape[0], 1) \n",
    "                     for i in range(X.values.shape[0])])"
   ]
  },
  {
   "cell_type": "code",
   "execution_count": 62,
   "metadata": {
    "colab": {},
    "colab_type": "code",
    "id": "S2DyvsamUcdt"
   },
   "outputs": [],
   "source": [
    "# train\n",
    "x_text = transform_df(X_data_for_lstm['text'])\n",
    "x_description = transform_df(X_data_for_lstm['description'])\n",
    "x_bi_text = transform_df(X_data_for_lstm['bi_text'])\n",
    "x_bi_description = transform_df(X_data_for_lstm['bi_description'])\n",
    "x_name = transform_df(X_data_for_lstm['name_letters'])\n",
    "\n",
    "# test\n",
    "x_test_text = transform_df(x_test_for_lstm['text'])\n",
    "x_test_description = transform_df(x_test_for_lstm['description'])\n",
    "x_test_bi_text = transform_df(x_test_for_lstm['bi_text'])\n",
    "x_test_bi_description = transform_df(x_test_for_lstm['bi_description'])\n",
    "x_test_name = transform_df(x_test_for_lstm['name_letters'])"
   ]
  },
  {
   "cell_type": "code",
   "execution_count": 63,
   "metadata": {
    "colab": {
     "base_uri": "https://localhost:8080/",
     "height": 51
    },
    "colab_type": "code",
    "id": "BDi3xCPFUcdv",
    "outputId": "2cc24a96-33ce-41d7-a261-fa322ac3b595"
   },
   "outputs": [
    {
     "name": "stdout",
     "output_type": "stream",
     "text": [
      "x_text shape = (9480, 10, 1)\n",
      "x_test_text shape = (2371, 10, 1)\n"
     ]
    }
   ],
   "source": [
    "print('x_text shape = {}'.format(x_text.shape))\n",
    "print('x_test_text shape = {}'.format(x_test_text.shape))"
   ]
  },
  {
   "cell_type": "markdown",
   "metadata": {
    "colab_type": "text",
    "id": "qTSUCvRrUcdy"
   },
   "source": [
    "We will use relu activation for the first dense layer because we will not predict any negative numbers.<br>\n",
    "For the second dense and the last one we will use softmax for probablistic results.<br>\n",
    "Loss will be categorical_crossentropy and metric will be accuracy.<br>\n",
    "We will take the best weight only by using callbacks"
   ]
  },
  {
   "cell_type": "code",
   "execution_count": 64,
   "metadata": {
    "colab": {},
    "colab_type": "code",
    "id": "ojUUX_V0Ucd7"
   },
   "outputs": [],
   "source": [
    "def plot_model_history(model_history):\n",
    "    fig, axs = plt.subplots(1,1,figsize=(15,5))\n",
    "    axs.plot(range(1,len(model_history['loss'])+1),model_history['loss'])\n",
    "    axs.plot(range(1,len(model_history['val_loss'])+1),model_history['val_loss'])\n",
    "    axs.set_title('Model Loss')\n",
    "    axs.set_ylabel('Loss')\n",
    "    axs.set_xlabel('Epoch')\n",
    "    axs.set_xticks(np.arange(1,len(model_history['loss'])+1),len(model_history['loss'])/10)\n",
    "    axs.legend(['train', 'val'], loc='best')\n",
    "    plt.show()\n",
    "    \n",
    "def convert_to_one_hot(vecs):\n",
    "    res = []\n",
    "    for vec in vecs:\n",
    "        res.append(np.argmax(vec))\n",
    "    return res\n",
    "\n",
    "def check_categorical_accuracy(y_true,y_pred):\n",
    "    n_correct = 0\n",
    "    for true,pred in zip(y_true,y_pred):\n",
    "        if int(true) == int(pred):\n",
    "            n_correct += 1\n",
    "    return n_correct/y_true.size    \n",
    "\n"
   ]
  },
  {
   "cell_type": "code",
   "execution_count": 65,
   "metadata": {
    "colab": {},
    "colab_type": "code",
    "id": "JnpLInwcUcdy"
   },
   "outputs": [],
   "source": [
    "######hyper-params####\n",
    "lstm_units = 10\n",
    "ephocs = 40\n",
    "batch_s = 32\n",
    "#####################"
   ]
  },
  {
   "cell_type": "code",
   "execution_count": 66,
   "metadata": {
    "colab": {
     "base_uri": "https://localhost:8080/",
     "height": 479
    },
    "colab_type": "code",
    "id": "ggwSyvCjUcd0",
    "outputId": "7baff1c9-b13a-40ee-8348-8fa613e539f7"
   },
   "outputs": [
    {
     "name": "stdout",
     "output_type": "stream",
     "text": [
      "__________________________________________________________________________________________________\n",
      "Layer (type)                    Output Shape         Param #     Connected to                     \n",
      "==================================================================================================\n",
      "text_input (InputLayer)         (None, 10, 1)        0                                            \n",
      "__________________________________________________________________________________________________\n",
      "description_input (InputLayer)  (None, 10, 1)        0                                            \n",
      "__________________________________________________________________________________________________\n",
      "name_input (InputLayer)         (None, 4, 1)         0                                            \n",
      "__________________________________________________________________________________________________\n",
      "concatenate_1 (Concatenate)     (None, 24, 1)        0           text_input[0][0]                 \n",
      "                                                                 description_input[0][0]          \n",
      "                                                                 name_input[0][0]                 \n",
      "__________________________________________________________________________________________________\n",
      "cu_dnnlstm_1 (CuDNNLSTM)        (None, 10)           520         concatenate_1[0][0]              \n",
      "__________________________________________________________________________________________________\n",
      "dense_1 (Dense)                 (None, 10)           110         cu_dnnlstm_1[0][0]               \n",
      "__________________________________________________________________________________________________\n",
      "dense_2 (Dense)                 (None, 4)            44          dense_1[0][0]                    \n",
      "==================================================================================================\n",
      "Total params: 674\n",
      "Trainable params: 674\n",
      "Non-trainable params: 0\n",
      "__________________________________________________________________________________________________\n"
     ]
    }
   ],
   "source": [
    "text_inp = Input((10,1),name = 'text_input')\n",
    "description_inp = Input((10,1),name = 'description_input')\n",
    "name_input = Input((4,1),name = 'name_input')\n",
    "inp = concatenate([text_inp,  description_inp, name_input],axis=1)\n",
    "x = CuDNNLSTM(lstm_units)(inp)\n",
    "x = Dense(10,activation='relu')(x)\n",
    "x = Dense(4,activation= 'softmax')(x)\n",
    "model = Model([text_inp,  description_inp, name_input],x)\n",
    "model.compile(loss='categorical_crossentropy', optimizer='adamax', metrics=['accuracy'])\n",
    "model.summary()"
   ]
  },
  {
   "cell_type": "code",
   "execution_count": 67,
   "metadata": {
    "colab": {
     "base_uri": "https://localhost:8080/",
     "height": 3107
    },
    "colab_type": "code",
    "id": "7K0_gisPUcd5",
    "outputId": "ce980bb7-86d9-44f7-afe5-f51c5dfdbe0c"
   },
   "outputs": [
    {
     "name": "stdout",
     "output_type": "stream",
     "text": [
      "Train on 7584 samples, validate on 1896 samples\n",
      "Epoch 1/40\n",
      "7584/7584 [==============================] - 4s 483us/step - loss: 1.1676 - acc: 0.3859 - val_loss: 1.1031 - val_acc: 0.3829\n",
      "Epoch 2/40\n",
      "7584/7584 [==============================] - 1s 194us/step - loss: 1.0966 - acc: 0.4008 - val_loss: 1.0826 - val_acc: 0.3977\n",
      "Epoch 3/40\n",
      "7584/7584 [==============================] - 2s 210us/step - loss: 1.0735 - acc: 0.4386 - val_loss: 1.0686 - val_acc: 0.4372\n",
      "Epoch 4/40\n",
      "7584/7584 [==============================] - 1s 187us/step - loss: 1.0616 - acc: 0.4515 - val_loss: 1.0667 - val_acc: 0.4457\n",
      "Epoch 5/40\n",
      "7584/7584 [==============================] - 2s 230us/step - loss: 1.0569 - acc: 0.4594 - val_loss: 1.0645 - val_acc: 0.4399\n",
      "Epoch 6/40\n",
      "7584/7584 [==============================] - 1s 183us/step - loss: 1.0543 - acc: 0.4618 - val_loss: 1.0638 - val_acc: 0.4404\n",
      "Epoch 7/40\n",
      "7584/7584 [==============================] - 2s 206us/step - loss: 1.0537 - acc: 0.4629 - val_loss: 1.0624 - val_acc: 0.4420\n",
      "Epoch 8/40\n",
      "7584/7584 [==============================] - 2s 203us/step - loss: 1.0524 - acc: 0.4581 - val_loss: 1.0637 - val_acc: 0.4420\n",
      "Epoch 9/40\n",
      "7584/7584 [==============================] - 2s 204us/step - loss: 1.0508 - acc: 0.4619 - val_loss: 1.0606 - val_acc: 0.4462\n",
      "Epoch 10/40\n",
      "7584/7584 [==============================] - 2s 281us/step - loss: 1.0491 - acc: 0.4627 - val_loss: 1.0588 - val_acc: 0.4462\n",
      "Epoch 11/40\n",
      "7584/7584 [==============================] - 4s 463us/step - loss: 1.0477 - acc: 0.4632 - val_loss: 1.0607 - val_acc: 0.4415\n",
      "Epoch 12/40\n",
      "7584/7584 [==============================] - 3s 378us/step - loss: 1.0469 - acc: 0.4624 - val_loss: 1.0609 - val_acc: 0.4399\n",
      "Epoch 13/40\n",
      "7584/7584 [==============================] - 3s 349us/step - loss: 1.0458 - acc: 0.4628 - val_loss: 1.0584 - val_acc: 0.4494\n",
      "Epoch 14/40\n",
      "7584/7584 [==============================] - 2s 221us/step - loss: 1.0449 - acc: 0.4670 - val_loss: 1.0626 - val_acc: 0.4483\n",
      "Epoch 15/40\n",
      "7584/7584 [==============================] - 2s 202us/step - loss: 1.0443 - acc: 0.4648 - val_loss: 1.0569 - val_acc: 0.4509\n",
      "Epoch 16/40\n",
      "7584/7584 [==============================] - 2s 203us/step - loss: 1.0437 - acc: 0.4720 - val_loss: 1.0574 - val_acc: 0.4478\n",
      "Epoch 17/40\n",
      "7584/7584 [==============================] - 2s 205us/step - loss: 1.0437 - acc: 0.4682 - val_loss: 1.0588 - val_acc: 0.4430\n",
      "Epoch 18/40\n",
      "7584/7584 [==============================] - 2s 217us/step - loss: 1.0434 - acc: 0.4686 - val_loss: 1.0547 - val_acc: 0.4589\n",
      "Epoch 19/40\n",
      "7584/7584 [==============================] - 2s 215us/step - loss: 1.0427 - acc: 0.4672 - val_loss: 1.0601 - val_acc: 0.4346\n",
      "Epoch 20/40\n",
      "7584/7584 [==============================] - 2s 204us/step - loss: 1.0426 - acc: 0.4722 - val_loss: 1.0549 - val_acc: 0.4552\n",
      "Epoch 21/40\n",
      "7584/7584 [==============================] - 2s 201us/step - loss: 1.0420 - acc: 0.4690 - val_loss: 1.0556 - val_acc: 0.4520\n",
      "Epoch 22/40\n",
      "7584/7584 [==============================] - 2s 202us/step - loss: 1.0414 - acc: 0.4672 - val_loss: 1.0556 - val_acc: 0.4462\n",
      "Epoch 23/40\n",
      "7584/7584 [==============================] - 2s 201us/step - loss: 1.0405 - acc: 0.4657 - val_loss: 1.0653 - val_acc: 0.4304\n",
      "Epoch 24/40\n",
      "7584/7584 [==============================] - 2s 201us/step - loss: 1.0409 - acc: 0.4728 - val_loss: 1.0537 - val_acc: 0.4562\n",
      "Epoch 25/40\n",
      "7584/7584 [==============================] - 2s 204us/step - loss: 1.0399 - acc: 0.4643 - val_loss: 1.0580 - val_acc: 0.4499\n",
      "Epoch 26/40\n",
      "7584/7584 [==============================] - 2s 200us/step - loss: 1.0399 - acc: 0.4674 - val_loss: 1.0539 - val_acc: 0.4473\n",
      "Epoch 27/40\n",
      "7584/7584 [==============================] - 2s 216us/step - loss: 1.0400 - acc: 0.4715 - val_loss: 1.0526 - val_acc: 0.4494\n",
      "Epoch 28/40\n",
      "7584/7584 [==============================] - 2s 206us/step - loss: 1.0395 - acc: 0.4702 - val_loss: 1.0546 - val_acc: 0.4546\n",
      "Epoch 29/40\n",
      "7584/7584 [==============================] - 2s 203us/step - loss: 1.0397 - acc: 0.4685 - val_loss: 1.0529 - val_acc: 0.4478\n",
      "Epoch 30/40\n",
      "7584/7584 [==============================] - 2s 202us/step - loss: 1.0384 - acc: 0.4684 - val_loss: 1.0602 - val_acc: 0.4341\n",
      "Epoch 31/40\n",
      "7584/7584 [==============================] - 2s 205us/step - loss: 1.0392 - acc: 0.4686 - val_loss: 1.0550 - val_acc: 0.4457\n",
      "Epoch 32/40\n",
      "7584/7584 [==============================] - 2s 203us/step - loss: 1.0383 - acc: 0.4703 - val_loss: 1.0586 - val_acc: 0.4367\n",
      "Epoch 33/40\n",
      "7584/7584 [==============================] - 2s 202us/step - loss: 1.0396 - acc: 0.4657 - val_loss: 1.0560 - val_acc: 0.4430\n",
      "Epoch 34/40\n",
      "7584/7584 [==============================] - 2s 205us/step - loss: 1.0388 - acc: 0.4673 - val_loss: 1.0527 - val_acc: 0.4552\n",
      "Epoch 35/40\n",
      "7584/7584 [==============================] - 2s 275us/step - loss: 1.0387 - acc: 0.4689 - val_loss: 1.0532 - val_acc: 0.4525\n",
      "Epoch 36/40\n",
      "7584/7584 [==============================] - 2s 238us/step - loss: 1.0385 - acc: 0.4707 - val_loss: 1.0537 - val_acc: 0.4520\n",
      "Epoch 37/40\n",
      "7584/7584 [==============================] - 2s 203us/step - loss: 1.0370 - acc: 0.4751 - val_loss: 1.0522 - val_acc: 0.4504\n",
      "Epoch 38/40\n",
      "7584/7584 [==============================] - 1s 170us/step - loss: 1.0379 - acc: 0.4707 - val_loss: 1.0700 - val_acc: 0.4483\n",
      "Epoch 39/40\n",
      "7584/7584 [==============================] - 2s 232us/step - loss: 1.0381 - acc: 0.4698 - val_loss: 1.0518 - val_acc: 0.4536\n",
      "Epoch 40/40\n",
      "7584/7584 [==============================] - 2s 235us/step - loss: 1.0373 - acc: 0.4738 - val_loss: 1.0540 - val_acc: 0.4430\n"
     ]
    }
   ],
   "source": [
    "cp = ModelCheckpoint('best_model_weights.h5',save_best_only=True)\n",
    "model_info = model.fit([x_text, x_description, x_name],\n",
    "                            to_categorical(y_data_for_lstm),\n",
    "                            batch_size=batch_s,\n",
    "                            validation_split=0.2, \n",
    "                            epochs=ephocs, \n",
    "                            callbacks=[cp])\n",
    "\n",
    "model.load_weights('best_model_weights.h5')"
   ]
  },
  {
   "cell_type": "code",
   "execution_count": 68,
   "metadata": {
    "colab": {},
    "colab_type": "code",
    "id": "dPI1BzTzUcd-"
   },
   "outputs": [
    {
     "data": {
      "image/png": "[encoded data removed]",
      "text/plain": [
       "<Figure size 1080x360 with 1 Axes>"
      ]
     },
     "metadata": {
      "needs_background": "light"
     },
     "output_type": "display_data"
    }
   ],
   "source": [
    "plot_model_history(model_info.history)"
   ]
  },
  {
   "cell_type": "markdown",
   "metadata": {
    "colab_type": "text",
    "id": "BvCPrKwtUceA"
   },
   "source": [
    "Results on test:"
   ]
  },
  {
   "cell_type": "code",
   "execution_count": 69,
   "metadata": {
    "colab": {},
    "colab_type": "code",
    "id": "11XtoKN1UceA"
   },
   "outputs": [
    {
     "name": "stdout",
     "output_type": "stream",
     "text": [
      "Score on test 47.11%\n"
     ]
    }
   ],
   "source": [
    "first_model_preds = model.predict([x_test_text, x_test_description, x_test_name])\n",
    "model_test_score1 = check_categorical_accuracy(y_test_for_lstm,convert_to_one_hot(first_model_preds))\n",
    "print(\"Score on test {}%\".format(round(model_test_score1,4) * 100))"
   ]
  },
  {
   "cell_type": "markdown",
   "metadata": {},
   "source": [
    "We will try another pre-process combination, this time we will use the bigrams column : bi_text and bi_description instead the unigrams."
   ]
  },
  {
   "cell_type": "code",
   "execution_count": 70,
   "metadata": {},
   "outputs": [],
   "source": [
    "text_inp = Input((10,1),name = 'text_input')\n",
    "description_inp = Input((10,1),name = 'description_input')\n",
    "name_input = Input((4,1),name = 'name_input')\n",
    "inp = concatenate([text_inp,  description_inp, name_input],axis=1)\n",
    "x = CuDNNLSTM(lstm_units)(inp)\n",
    "x = Dense(10,activation='relu')(x)\n",
    "x = Dense(4,activation= 'softmax')(x)\n",
    "bi_grams_model = Model([text_inp,  description_inp, name_input],x)\n",
    "bi_grams_model.compile(loss='categorical_crossentropy', optimizer='adamax', metrics=['accuracy'])"
   ]
  },
  {
   "cell_type": "code",
   "execution_count": 71,
   "metadata": {},
   "outputs": [
    {
     "name": "stdout",
     "output_type": "stream",
     "text": [
      "Train on 7584 samples, validate on 1896 samples\n",
      "Epoch 1/40\n",
      "7584/7584 [==============================] - 2s 318us/step - loss: 1.1194 - acc: 0.4002 - val_loss: 1.0858 - val_acc: 0.4277\n",
      "Epoch 2/40\n",
      "7584/7584 [==============================] - 2s 228us/step - loss: 1.0790 - acc: 0.4218 - val_loss: 1.0778 - val_acc: 0.4225\n",
      "Epoch 3/40\n",
      "7584/7584 [==============================] - 2s 207us/step - loss: 1.0736 - acc: 0.4266 - val_loss: 1.0768 - val_acc: 0.4230\n",
      "Epoch 4/40\n",
      "7584/7584 [==============================] - 1s 171us/step - loss: 1.0728 - acc: 0.4317 - val_loss: 1.0763 - val_acc: 0.4146\n",
      "Epoch 5/40\n",
      "7584/7584 [==============================] - 2s 251us/step - loss: 1.0719 - acc: 0.4310 - val_loss: 1.0730 - val_acc: 0.4330\n",
      "Epoch 6/40\n",
      "7584/7584 [==============================] - 1s 197us/step - loss: 1.0716 - acc: 0.4357 - val_loss: 1.0739 - val_acc: 0.4251\n",
      "Epoch 7/40\n",
      "7584/7584 [==============================] - 2s 208us/step - loss: 1.0705 - acc: 0.4329 - val_loss: 1.0740 - val_acc: 0.4283\n",
      "Epoch 8/40\n",
      "7584/7584 [==============================] - 1s 170us/step - loss: 1.0705 - acc: 0.4337 - val_loss: 1.0739 - val_acc: 0.4161\n",
      "Epoch 9/40\n",
      "7584/7584 [==============================] - 1s 172us/step - loss: 1.0696 - acc: 0.4299 - val_loss: 1.0745 - val_acc: 0.4182\n",
      "Epoch 10/40\n",
      "7584/7584 [==============================] - 2s 230us/step - loss: 1.0686 - acc: 0.4318 - val_loss: 1.0725 - val_acc: 0.4219\n",
      "Epoch 11/40\n",
      "7584/7584 [==============================] - 1s 187us/step - loss: 1.0689 - acc: 0.4287 - val_loss: 1.0720 - val_acc: 0.4299\n",
      "Epoch 12/40\n",
      "7584/7584 [==============================] - 2s 230us/step - loss: 1.0680 - acc: 0.4342 - val_loss: 1.0709 - val_acc: 0.4251\n",
      "Epoch 13/40\n",
      "7584/7584 [==============================] - 1s 171us/step - loss: 1.0681 - acc: 0.4333 - val_loss: 1.0737 - val_acc: 0.4124\n",
      "Epoch 14/40\n",
      "7584/7584 [==============================] - 1s 174us/step - loss: 1.0672 - acc: 0.4349 - val_loss: 1.0748 - val_acc: 0.4182\n",
      "Epoch 15/40\n",
      "7584/7584 [==============================] - 1s 171us/step - loss: 1.0672 - acc: 0.4359 - val_loss: 1.0763 - val_acc: 0.4135\n",
      "Epoch 16/40\n",
      "7584/7584 [==============================] - 2s 257us/step - loss: 1.0670 - acc: 0.4306 - val_loss: 1.0714 - val_acc: 0.4204\n",
      "Epoch 17/40\n",
      "7584/7584 [==============================] - 2s 201us/step - loss: 1.0663 - acc: 0.4339 - val_loss: 1.0720 - val_acc: 0.4182\n",
      "Epoch 18/40\n",
      "7584/7584 [==============================] - 2s 256us/step - loss: 1.0659 - acc: 0.4355 - val_loss: 1.0708 - val_acc: 0.4209\n",
      "Epoch 19/40\n",
      "7584/7584 [==============================] - 2s 246us/step - loss: 1.0659 - acc: 0.4362 - val_loss: 1.0780 - val_acc: 0.4109\n",
      "Epoch 20/40\n",
      "7584/7584 [==============================] - 2s 233us/step - loss: 1.0657 - acc: 0.4357 - val_loss: 1.0732 - val_acc: 0.4124\n",
      "Epoch 21/40\n",
      "7584/7584 [==============================] - 2s 233us/step - loss: 1.0666 - acc: 0.4353 - val_loss: 1.0688 - val_acc: 0.4235\n",
      "Epoch 22/40\n",
      "7584/7584 [==============================] - 2s 236us/step - loss: 1.0642 - acc: 0.4368 - val_loss: 1.0689 - val_acc: 0.4251\n",
      "Epoch 23/40\n",
      "7584/7584 [==============================] - 1s 193us/step - loss: 1.0643 - acc: 0.4379 - val_loss: 1.0692 - val_acc: 0.4277\n",
      "Epoch 24/40\n",
      "7584/7584 [==============================] - 2s 255us/step - loss: 1.0641 - acc: 0.4383 - val_loss: 1.0683 - val_acc: 0.4225\n",
      "Epoch 25/40\n",
      "7584/7584 [==============================] - 1s 177us/step - loss: 1.0629 - acc: 0.4396 - val_loss: 1.0689 - val_acc: 0.4193\n",
      "Epoch 26/40\n",
      "7584/7584 [==============================] - 2s 315us/step - loss: 1.0638 - acc: 0.4333 - val_loss: 1.0691 - val_acc: 0.4209\n",
      "Epoch 27/40\n",
      "7584/7584 [==============================] - 3s 431us/step - loss: 1.0620 - acc: 0.4382 - val_loss: 1.0690 - val_acc: 0.4219\n",
      "Epoch 28/40\n",
      "7584/7584 [==============================] - 3s 408us/step - loss: 1.0630 - acc: 0.4387 - val_loss: 1.0680 - val_acc: 0.4235\n",
      "Epoch 29/40\n",
      "7584/7584 [==============================] - 2s 322us/step - loss: 1.0622 - acc: 0.4378 - val_loss: 1.0749 - val_acc: 0.4198\n",
      "Epoch 30/40\n",
      "7584/7584 [==============================] - 2s 278us/step - loss: 1.0620 - acc: 0.4430 - val_loss: 1.0701 - val_acc: 0.4204\n",
      "Epoch 31/40\n",
      "7584/7584 [==============================] - 2s 268us/step - loss: 1.0615 - acc: 0.4388 - val_loss: 1.0678 - val_acc: 0.4309\n",
      "Epoch 32/40\n",
      "7584/7584 [==============================] - 2s 295us/step - loss: 1.0606 - acc: 0.4415 - val_loss: 1.0696 - val_acc: 0.4146\n",
      "Epoch 33/40\n",
      "7584/7584 [==============================] - 2s 316us/step - loss: 1.0607 - acc: 0.4422 - val_loss: 1.0690 - val_acc: 0.4135\n",
      "Epoch 34/40\n",
      "7584/7584 [==============================] - 2s 270us/step - loss: 1.0613 - acc: 0.4388 - val_loss: 1.0675 - val_acc: 0.4209\n",
      "Epoch 35/40\n",
      "7584/7584 [==============================] - 2s 259us/step - loss: 1.0606 - acc: 0.4400 - val_loss: 1.0663 - val_acc: 0.4293\n",
      "Epoch 36/40\n",
      "7584/7584 [==============================] - 2s 261us/step - loss: 1.0608 - acc: 0.4386 - val_loss: 1.0677 - val_acc: 0.4146\n",
      "Epoch 37/40\n",
      "7584/7584 [==============================] - 2s 279us/step - loss: 1.0594 - acc: 0.4409 - val_loss: 1.0696 - val_acc: 0.4161\n",
      "Epoch 38/40\n",
      "7584/7584 [==============================] - 2s 272us/step - loss: 1.0595 - acc: 0.4436 - val_loss: 1.0663 - val_acc: 0.4277\n",
      "Epoch 39/40\n",
      "7584/7584 [==============================] - 2s 268us/step - loss: 1.0590 - acc: 0.4403 - val_loss: 1.0694 - val_acc: 0.4130\n",
      "Epoch 40/40\n",
      "7584/7584 [==============================] - 2s 258us/step - loss: 1.0587 - acc: 0.4429 - val_loss: 1.0685 - val_acc: 0.4161\n"
     ]
    }
   ],
   "source": [
    "cp = ModelCheckpoint('bigram_best_model_weights.h5',save_best_only=True)\n",
    "bigram_model_info = bi_grams_model.fit([x_bi_text, x_bi_description, x_name],\n",
    "                            to_categorical(y_data_for_lstm),\n",
    "                            batch_size=batch_s,\n",
    "                            validation_split=0.2, \n",
    "                            epochs=ephocs, \n",
    "                            callbacks=[cp])\n",
    "\n",
    "bi_grams_model.load_weights('bigram_best_model_weights.h5')"
   ]
  },
  {
   "cell_type": "code",
   "execution_count": 72,
   "metadata": {},
   "outputs": [
    {
     "data": {
      "image/png": "[encoded data removed]",
      "text/plain": [
       "<Figure size 1080x360 with 1 Axes>"
      ]
     },
     "metadata": {
      "needs_background": "light"
     },
     "output_type": "display_data"
    }
   ],
   "source": [
    "plot_model_history(bigram_model_info.history)"
   ]
  },
  {
   "cell_type": "code",
   "execution_count": 73,
   "metadata": {},
   "outputs": [
    {
     "name": "stdout",
     "output_type": "stream",
     "text": [
      "bigram pre-process score on test 42.35%\n"
     ]
    }
   ],
   "source": [
    "bigram_first_model_preds = bi_grams_model.predict([x_test_text, x_test_description, x_test_name])\n",
    "bigram_test_score1 = check_categorical_accuracy(y_test_for_lstm,convert_to_one_hot(bigram_first_model_preds))\n",
    "print(\"bigram pre-process score on test {}%\".format(round(bigram_test_score1,4) * 100))"
   ]
  },
  {
   "cell_type": "markdown",
   "metadata": {
    "colab_type": "text",
    "id": "kFHMK3X5UceC"
   },
   "source": [
    "According to the best validation result: 0.4420 we will stay with the unigrams columns.\n",
    "We will try to improve the model by using embedding layer.\n",
    "Since we are using index to represent the words we got a problem of ranking that will affect badly on the results.<br>\n",
    "The embedding will take care of this problem.<br>\n",
    "Due to a dimension problem with embedding concatenation we will not use the name as a feature."
   ]
  },
  {
   "cell_type": "code",
   "execution_count": 74,
   "metadata": {
    "colab": {},
    "colab_type": "code",
    "id": "wzAAGoxOUceD"
   },
   "outputs": [
    {
     "name": "stdout",
     "output_type": "stream",
     "text": [
      "__________________________________________________________________________________________________\n",
      "Layer (type)                    Output Shape         Param #     Connected to                     \n",
      "==================================================================================================\n",
      "text_inp (InputLayer)           (None, 10)           0                                            \n",
      "__________________________________________________________________________________________________\n",
      "desc_inp (InputLayer)           (None, 10)           0                                            \n",
      "__________________________________________________________________________________________________\n",
      "embedding_1 (Embedding)         (None, 10, 100)      1000000     text_inp[0][0]                   \n",
      "                                                                 desc_inp[0][0]                   \n",
      "__________________________________________________________________________________________________\n",
      "concatenate_3 (Concatenate)     (None, 20, 100)      0           embedding_1[0][0]                \n",
      "                                                                 embedding_1[1][0]                \n",
      "__________________________________________________________________________________________________\n",
      "lstm_1 (LSTM)                   (None, 10)           4440        concatenate_3[0][0]              \n",
      "__________________________________________________________________________________________________\n",
      "dense_5 (Dense)                 (None, 4)            44          lstm_1[0][0]                     \n",
      "==================================================================================================\n",
      "Total params: 1,004,484\n",
      "Trainable params: 1,004,484\n",
      "Non-trainable params: 0\n",
      "__________________________________________________________________________________________________\n"
     ]
    }
   ],
   "source": [
    "inp_text = Input((10,),name='text_inp')\n",
    "inp_description = Input((10,),name='desc_inp')\n",
    "\n",
    "emb_words = Embedding(10000, 100, input_length=10)\n",
    "x = concatenate([emb_words(inp_text), emb_words(inp_description)], axis=1)\n",
    "x = LSTM(10)(x)\n",
    "output = Dense(4, activation='softmax')(x)\n",
    "\n",
    "embd_model = Model([inp_text, inp_description], output)\n",
    "embd_model.compile(loss='categorical_crossentropy', optimizer='adamax', metrics=['accuracy'])\n",
    "embd_model.summary()"
   ]
  },
  {
   "cell_type": "code",
   "execution_count": 75,
   "metadata": {
    "colab": {},
    "colab_type": "code",
    "id": "E14EmWWJUceF"
   },
   "outputs": [],
   "source": [
    "def transform_df2(df):\n",
    "    new_df = []\n",
    "    for i in range(df.shape[0]):\n",
    "        new_df.append(pd.DataFrame(df).iloc[i][0])\n",
    "    return np.array(new_df)"
   ]
  },
  {
   "cell_type": "code",
   "execution_count": 76,
   "metadata": {
    "colab": {},
    "colab_type": "code",
    "id": "ifi1jH5lUceG"
   },
   "outputs": [],
   "source": [
    "X_text = transform_df2(X_data_for_lstm.text)\n",
    "X_description = transform_df2(X_data_for_lstm.description)\n",
    "\n",
    "X_test_text = transform_df2(x_test_for_lstm.text)\n",
    "X_test_description = transform_df2(x_test_for_lstm.description)"
   ]
  },
  {
   "cell_type": "code",
   "execution_count": 77,
   "metadata": {
    "colab": {},
    "colab_type": "code",
    "id": "3Phrw08rUceH"
   },
   "outputs": [
    {
     "name": "stdout",
     "output_type": "stream",
     "text": [
      "Train on 7584 samples, validate on 1896 samples\n",
      "Epoch 1/40\n",
      "7584/7584 [==============================] - 16s 2ms/step - loss: 1.0999 - acc: 0.5053 - val_loss: 0.9548 - val_acc: 0.5475\n",
      "Epoch 2/40\n",
      "7584/7584 [==============================] - 15s 2ms/step - loss: 0.8221 - acc: 0.6537 - val_loss: 0.8703 - val_acc: 0.5944\n",
      "Epoch 3/40\n",
      "7584/7584 [==============================] - 15s 2ms/step - loss: 0.6724 - acc: 0.7476 - val_loss: 0.8623 - val_acc: 0.6145\n",
      "Epoch 4/40\n",
      "7584/7584 [==============================] - 16s 2ms/step - loss: 0.5382 - acc: 0.8153 - val_loss: 0.9153 - val_acc: 0.6155\n",
      "Epoch 5/40\n",
      "7584/7584 [==============================] - 15s 2ms/step - loss: 0.4363 - acc: 0.8637 - val_loss: 0.9948 - val_acc: 0.6050\n",
      "Epoch 6/40\n",
      "7584/7584 [==============================] - 15s 2ms/step - loss: 0.3553 - acc: 0.8939 - val_loss: 1.0607 - val_acc: 0.6013\n",
      "Epoch 7/40\n",
      "7584/7584 [==============================] - 15s 2ms/step - loss: 0.2994 - acc: 0.9205 - val_loss: 1.1272 - val_acc: 0.6092\n",
      "Epoch 8/40\n",
      "7584/7584 [==============================] - 15s 2ms/step - loss: 0.2485 - acc: 0.9359 - val_loss: 1.2064 - val_acc: 0.6086\n"
     ]
    }
   ],
   "source": [
    "cp = ModelCheckpoint('embd_model_weights.h5',save_best_only=True)\n",
    "es = EarlyStopping( patience=5,restore_best_weights=True)\n",
    "\n",
    "lstm_model_info = embd_model.fit([X_text,X_description],\n",
    "                            to_categorical(y_data_for_lstm),\n",
    "                            batch_size=batch_s,\n",
    "                            validation_split=0.2, \n",
    "                            epochs=ephocs, \n",
    "                            callbacks=[cp,es])"
   ]
  },
  {
   "cell_type": "code",
   "execution_count": 78,
   "metadata": {
    "colab": {},
    "colab_type": "code",
    "id": "lyr_cQLdUceJ"
   },
   "outputs": [
    {
     "data": {
      "image/png": "[encoded data removed]",
      "text/plain": [
       "<Figure size 1080x360 with 1 Axes>"
      ]
     },
     "metadata": {
      "needs_background": "light"
     },
     "output_type": "display_data"
    }
   ],
   "source": [
    "plot_model_history(lstm_model_info.history)"
   ]
  },
  {
   "cell_type": "markdown",
   "metadata": {
    "colab_type": "text",
    "id": "OWGrUtbGUceL"
   },
   "source": [
    "We can see that there is overfitting from epoch number 2.<br>\n",
    "We used callback which takes the best weights by val_loss."
   ]
  },
  {
   "cell_type": "code",
   "execution_count": 79,
   "metadata": {
    "colab": {},
    "colab_type": "code",
    "id": "i77GybAbUceL"
   },
   "outputs": [
    {
     "name": "stdout",
     "output_type": "stream",
     "text": [
      "Embedding LSTM score on test 61.53999999999999%\n"
     ]
    }
   ],
   "source": [
    "embd_model_preds = embd_model.predict([X_test_text, X_test_description])\n",
    "embd_lstm_test_score2 = check_categorical_accuracy(y_test_for_lstm,convert_to_one_hot(embd_model_preds))\n",
    "print(\"Embedding LSTM score on test {}%\".format(round(embd_lstm_test_score2,4) * 100))"
   ]
  },
  {
   "cell_type": "markdown",
   "metadata": {
    "colab_type": "text",
    "id": "fbhCeD3JUceN"
   },
   "source": [
    "We can see 10% improvment but still, the logisticRegression is the best among the models."
   ]
  },
  {
   "cell_type": "code",
   "execution_count": 80,
   "metadata": {
    "colab": {},
    "colab_type": "code",
    "id": "xFFbBcE_UceO"
   },
   "outputs": [
    {
     "name": "stdout",
     "output_type": "stream",
     "text": [
      "__________________________________________________________________________________________________\n",
      "Layer (type)                    Output Shape         Param #     Connected to                     \n",
      "==================================================================================================\n",
      "text_inp (InputLayer)           (None, 10)           0                                            \n",
      "__________________________________________________________________________________________________\n",
      "desc_inp (InputLayer)           (None, 10)           0                                            \n",
      "__________________________________________________________________________________________________\n",
      "embedding_2 (Embedding)         (None, 10, 100)      1000000     text_inp[0][0]                   \n",
      "                                                                 desc_inp[0][0]                   \n",
      "__________________________________________________________________________________________________\n",
      "concatenate_4 (Concatenate)     (None, 20, 100)      0           embedding_2[0][0]                \n",
      "                                                                 embedding_2[1][0]                \n",
      "__________________________________________________________________________________________________\n",
      "lstm_2 (LSTM)                   (None, 4)            1680        concatenate_4[0][0]              \n",
      "==================================================================================================\n",
      "Total params: 1,001,680\n",
      "Trainable params: 1,001,680\n",
      "Non-trainable params: 0\n",
      "__________________________________________________________________________________________________\n"
     ]
    }
   ],
   "source": [
    "inp_text = Input((10,),name='text_inp')\n",
    "inp_description = Input((10,),name='desc_inp')\n",
    "\n",
    "emb_words = Embedding(10000, 100, input_length=10)\n",
    "x = concatenate([emb_words(inp_text), emb_words(inp_description)], axis=1)\n",
    "x = LSTM(4,dropout=0.3,recurrent_dropout=0.2,kernel_regularizer='l2',activation='softmax')(x)\n",
    "# output = Dense(4, activation='softmax')(x)\n",
    "\n",
    "regularized_embd_model = Model([inp_text, inp_description], x)\n",
    "regularized_embd_model.compile(loss='categorical_crossentropy', optimizer='adam', metrics=['accuracy'])\n",
    "regularized_embd_model.summary()"
   ]
  },
  {
   "cell_type": "code",
   "execution_count": 81,
   "metadata": {
    "colab": {},
    "colab_type": "code",
    "id": "c7SPY9pDUceP"
   },
   "outputs": [
    {
     "name": "stdout",
     "output_type": "stream",
     "text": [
      "Train on 7584 samples, validate on 1896 samples\n",
      "Epoch 1/40\n",
      "7584/7584 [==============================] - 19s 3ms/step - loss: 1.3258 - acc: 0.4507 - val_loss: 1.1767 - val_acc: 0.4979\n",
      "Epoch 2/40\n",
      "7584/7584 [==============================] - 17s 2ms/step - loss: 1.1134 - acc: 0.5212 - val_loss: 1.0677 - val_acc: 0.5327\n",
      "Epoch 3/40\n",
      "7584/7584 [==============================] - 18s 2ms/step - loss: 0.8964 - acc: 0.6647 - val_loss: 0.9377 - val_acc: 0.6398\n",
      "Epoch 4/40\n",
      "7584/7584 [==============================] - 17s 2ms/step - loss: 0.6874 - acc: 0.7874 - val_loss: 0.8996 - val_acc: 0.6435\n",
      "Epoch 5/40\n",
      "7584/7584 [==============================] - 17s 2ms/step - loss: 0.5520 - acc: 0.8423 - val_loss: 0.9128 - val_acc: 0.6308\n",
      "Epoch 6/40\n",
      "7584/7584 [==============================] - 18s 2ms/step - loss: 0.4698 - acc: 0.8735 - val_loss: 0.9438 - val_acc: 0.6292\n",
      "Epoch 7/40\n",
      "7584/7584 [==============================] - 17s 2ms/step - loss: 0.4185 - acc: 0.8931 - val_loss: 0.9632 - val_acc: 0.6208\n",
      "Epoch 8/40\n",
      "7584/7584 [==============================] - 18s 2ms/step - loss: 0.3743 - acc: 0.9118 - val_loss: 1.0050 - val_acc: 0.6350\n",
      "Epoch 9/40\n",
      "7584/7584 [==============================] - 17s 2ms/step - loss: 0.3445 - acc: 0.9223 - val_loss: 1.0400 - val_acc: 0.6276\n"
     ]
    }
   ],
   "source": [
    "cp = ModelCheckpoint('reg_embd_weights.h5',save_best_only=True)\n",
    "es = EarlyStopping(patience=5,restore_best_weights=True)\n",
    "\n",
    "lstm_model_info = regularized_embd_model.fit([X_text,X_description],\n",
    "                            to_categorical(y_data_for_lstm),\n",
    "                            batch_size=batch_s,\n",
    "                            validation_split=0.2, \n",
    "                            epochs=ephocs, \n",
    "                            callbacks=[cp,es])"
   ]
  },
  {
   "cell_type": "code",
   "execution_count": 82,
   "metadata": {
    "colab": {},
    "colab_type": "code",
    "id": "M5dzqrEMUceR"
   },
   "outputs": [
    {
     "data": {
      "image/png": "[encoded data removed]",
      "text/plain": [
       "<Figure size 1080x360 with 1 Axes>"
      ]
     },
     "metadata": {
      "needs_background": "light"
     },
     "output_type": "display_data"
    }
   ],
   "source": [
    "plot_model_history(lstm_model_info.history)"
   ]
  },
  {
   "cell_type": "code",
   "execution_count": 83,
   "metadata": {
    "colab": {},
    "colab_type": "code",
    "id": "aSq5U0MkUceU"
   },
   "outputs": [
    {
     "name": "stdout",
     "output_type": "stream",
     "text": [
      "Embedding LSTM score on test 63.519999999999996%\n"
     ]
    }
   ],
   "source": [
    "embd_model_preds = regularized_embd_model.predict([X_test_text, X_test_description])\n",
    "embd_lstm_test_score3 = check_categorical_accuracy(y_test_for_lstm,convert_to_one_hot(embd_model_preds))\n",
    "print(\"Embedding LSTM score on test {}%\".format(round(embd_lstm_test_score3,4) * 100))"
   ]
  },
  {
   "cell_type": "markdown",
   "metadata": {
    "colab_type": "text",
    "id": "UMZMyHf_UceW"
   },
   "source": [
    "We did alot of work until now so, we will show a summary of our progress until now with the next table with all the model and pre-process combination.<br>\n",
    "We will mark the best result with a green mark.<br>"
   ]
  },
  {
   "cell_type": "code",
   "execution_count": 106,
   "metadata": {
    "colab": {},
    "colab_type": "code",
    "id": "gmu8oir2UceX"
   },
   "outputs": [],
   "source": [
    "##### We will add some utils methods \n",
    "def create_table():\n",
    "        table = {}\n",
    "        table['Male Naiive baseline'] = {}\n",
    "        table['Male Naiive baseline']['uni-gram pre-process'] = 'NO'\n",
    "        table['Male Naiive baseline']['bi-gram pre-process'] = 'NO'\n",
    "        table['Male Naiive baseline']['tunned parameter'] = 'NO'\n",
    "        table['Male Naiive baseline']['validation score'] = accuracy_score(y_data, y_pred_male_train)\n",
    "        table['Male Naiive baseline']['test score '] = accuracy_score(y_test, y_pred_male)\n",
    "\n",
    "        table['Female Naiive baseline'] = {}\n",
    "        table['Female Naiive baseline']['uni-gram pre-process'] = 'NO'\n",
    "        table['Female Naiive baseline']['bi-gram pre-process'] = 'NO'\n",
    "        table['Female Naiive baseline']['tunned parameter'] = 'NO'\n",
    "        table['Female Naiive baseline']['validation score'] = accuracy_score(y_data, y_pred_female_train)\n",
    "        table['Female Naiive baseline']['test score '] = accuracy_score(y_test, y_pred_female)\n",
    "        \n",
    "        table['#1 MultinomialNB'] = {}\n",
    "        table['#1 MultinomialNB']['uni-gram pre-process'] = 'YES'\n",
    "        table['#1 MultinomialNB']['bi-gram pre-process'] = 'NO'\n",
    "        table['#1 MultinomialNB']['tunned parameter'] = 'NO'\n",
    "        table['#1 MultinomialNB']['validation score'] = val_score_NB_unigram\n",
    "        table['#1 MultinomialNB']['test score '] = test_score_NB_unigram\n",
    "        \n",
    "        table['#2 MultinomialNB'] = {}\n",
    "        table['#2 MultinomialNB']['uni-gram pre-process'] = 'YES'\n",
    "        table['#2 MultinomialNB']['bi-gram pre-process'] = 'YES'\n",
    "        table['#2 MultinomialNB']['tunned parameter'] = 'NO'\n",
    "        table['#2 MultinomialNB']['validation score'] = val_score_NB_bigram\n",
    "        table['#2 MultinomialNB']['test score '] = test_score_NB_bigram\n",
    "\n",
    "        table['#3 MultinomialNB'] = {}\n",
    "        table['#3 MultinomialNB']['uni-gram pre-process'] = 'YES'\n",
    "        table['#3 MultinomialNB']['bi-gram pre-process'] = 'NO'\n",
    "        table['#3 MultinomialNB']['tunned parameter'] = 'alpha = 0.4'\n",
    "        table['#3 MultinomialNB']['validation score'] = val_score_NB_alpha_opt\n",
    "        table['#3 MultinomialNB']['test score '] = test_score_NB_alpha_opt\n",
    "\n",
    "        table['#1 LogisticRegression'] = {}\n",
    "        table['#1 LogisticRegression']['uni-gram pre-process'] = 'YES'\n",
    "        table['#1 LogisticRegression']['bi-gram pre-process']  = 'NO'\n",
    "        table['#1 LogisticRegression']['tunned parameter']     = 'NO'\n",
    "        table['#1 LogisticRegression']['validation score']     = val_score_LR_unigram\n",
    "        table['#1 LogisticRegression']['test score ']          = test_score_LR_unigram\n",
    "        \n",
    "        table['#2 LogisticRegression'] = {}\n",
    "        table['#2 LogisticRegression']['uni-gram pre-process'] = 'YES'\n",
    "        table['#2 LogisticRegression']['bi-gram pre-process']  = 'YES'\n",
    "        table['#2 LogisticRegression']['tunned parameter']     = 'NO'\n",
    "        table['#2 LogisticRegression']['validation score']     = val_score_LR_bigram\n",
    "        table['#2 LogisticRegression']['test score ']          = test_score_LR_bigram\n",
    "\n",
    "        table['#3 LogisticRegression'] = {}\n",
    "        table['#3 LogisticRegression']['uni-gram pre-process'] = 'YES'\n",
    "        table['#3 LogisticRegression']['bi-gram pre-process']  = 'NO'\n",
    "        table['#3 LogisticRegression']['tunned parameter']     = \"penalty = 'l2'\"\n",
    "        table['#3 LogisticRegression']['validation score']     = val_score_LR_penalty\n",
    "        table['#3 LogisticRegression']['test score ']          = test_score_LR_penalty      \n",
    "\n",
    "        table['#1 LSTM'] = {}\n",
    "        table['#1 LSTM']['uni-gram pre-process'] = 'YES'\n",
    "        table['#1 LSTM']['bi-gram pre-process']  = 'NO'\n",
    "        table['#1 LSTM']['tunned parameter']     = 'optimizer = adamax'\n",
    "        table['#1 LSTM']['validation score']     = 0.4552\n",
    "        table['#1 LSTM']['test score ']          = model_test_score1\n",
    "        \n",
    "        table['#2 LSTM'] = {}\n",
    "        table['#2 LSTM']['uni-gram pre-process'] = 'NO'\n",
    "        table['#2 LSTM']['bi-gram pre-process'] = 'YES'\n",
    "        table['#2 LSTM']['tunned parameter'] = 'NO'\n",
    "        table['#2 LSTM']['validation score'] = 0.4420\n",
    "        table['#2 LSTM']['test score '] =  bigram_test_score1\n",
    "\n",
    "        table['#3 LSTM'] = {}\n",
    "        table['#3 LSTM']['uni-gram pre-process'] = 'YES'\n",
    "        table['#3 LSTM']['bi-gram pre-process']  = 'NO'\n",
    "        table['#3 LSTM']['tunned parameter']     = 'Architecture improvment with embedding'\n",
    "        table['#3 LSTM']['validation score']     = 0.6076\n",
    "        table['#3 LSTM']['test score ']          = embd_lstm_test_score2\n",
    "\n",
    "        table['#4 LSTM'] = {}\n",
    "        table['#4 LSTM']['uni-gram pre-process'] = 'YES'\n",
    "        table['#4 LSTM']['bi-gram pre-process']  = 'NO'\n",
    "        table['#4 LSTM']['tunned parameter']     = 'Architecture improvment, avoiding overfit'\n",
    "        table['#4 LSTM']['validation score']     = 0.6551\n",
    "        table['#4 LSTM']['test score ']          = embd_lstm_test_score3\n",
    "        \n",
    "\n",
    "\n",
    "        columnsTitles=['uni-gram pre-process',\n",
    "                       'bi-gram pre-process',\n",
    "                       'tunned parameter',\n",
    "                       'validation score',\n",
    "                       'test score ']\n",
    "    \n",
    "        df = pd.DataFrame.from_dict(table).T.reindex(columns=columnsTitles)\n",
    "        return df\n",
    "    "
   ]
  },
  {
   "cell_type": "code",
   "execution_count": 107,
   "metadata": {
    "colab": {
     "base_uri": "https://localhost:8080/",
     "height": 299
    },
    "colab_type": "code",
    "id": "2SmgSTUoUcea",
    "outputId": "f5449589-27be-4ab7-cd2a-4e2b6c457027"
   },
   "outputs": [
    {
     "data": {
      "text/html": [
       "<style  type=\"text/css\" >\n",
       "    #T_2dedada4_33a1_11e9_ae47_d07e3542d218row4_col0 {\n",
       "            background:  lightgreen;\n",
       "        }    #T_2dedada4_33a1_11e9_ae47_d07e3542d218row4_col1 {\n",
       "            background:  lightgreen;\n",
       "        }    #T_2dedada4_33a1_11e9_ae47_d07e3542d218row4_col2 {\n",
       "            background:  lightgreen;\n",
       "        }    #T_2dedada4_33a1_11e9_ae47_d07e3542d218row4_col3 {\n",
       "            background:  lightgreen;\n",
       "        }    #T_2dedada4_33a1_11e9_ae47_d07e3542d218row4_col4 {\n",
       "            background:  lightgreen;\n",
       "        }</style>  \n",
       "<table id=\"T_2dedada4_33a1_11e9_ae47_d07e3542d218\" > \n",
       "<thead>    <tr> \n",
       "        <th class=\"blank level0\" ></th> \n",
       "        <th class=\"col_heading level0 col0\" >uni-gram pre-process</th> \n",
       "        <th class=\"col_heading level0 col1\" >bi-gram pre-process</th> \n",
       "        <th class=\"col_heading level0 col2\" >tunned parameter</th> \n",
       "        <th class=\"col_heading level0 col3\" >validation score</th> \n",
       "        <th class=\"col_heading level0 col4\" >test score </th> \n",
       "    </tr></thead> \n",
       "<tbody>    <tr> \n",
       "        <th id=\"T_2dedada4_33a1_11e9_ae47_d07e3542d218level0_row0\" class=\"row_heading level0 row0\" >Male Naiive baseline</th> \n",
       "        <td id=\"T_2dedada4_33a1_11e9_ae47_d07e3542d218row0_col0\" class=\"data row0 col0\" >NO</td> \n",
       "        <td id=\"T_2dedada4_33a1_11e9_ae47_d07e3542d218row0_col1\" class=\"data row0 col1\" >NO</td> \n",
       "        <td id=\"T_2dedada4_33a1_11e9_ae47_d07e3542d218row0_col2\" class=\"data row0 col2\" >NO</td> \n",
       "        <td id=\"T_2dedada4_33a1_11e9_ae47_d07e3542d218row0_col3\" class=\"data row0 col3\" >0.252848</td> \n",
       "        <td id=\"T_2dedada4_33a1_11e9_ae47_d07e3542d218row0_col4\" class=\"data row0 col4\" >0.258541</td> \n",
       "    </tr>    <tr> \n",
       "        <th id=\"T_2dedada4_33a1_11e9_ae47_d07e3542d218level0_row1\" class=\"row_heading level0 row1\" >Female Naiive baseline</th> \n",
       "        <td id=\"T_2dedada4_33a1_11e9_ae47_d07e3542d218row1_col0\" class=\"data row1 col0\" >NO</td> \n",
       "        <td id=\"T_2dedada4_33a1_11e9_ae47_d07e3542d218row1_col1\" class=\"data row1 col1\" >NO</td> \n",
       "        <td id=\"T_2dedada4_33a1_11e9_ae47_d07e3542d218row1_col2\" class=\"data row1 col2\" >NO</td> \n",
       "        <td id=\"T_2dedada4_33a1_11e9_ae47_d07e3542d218row1_col3\" class=\"data row1 col3\" >0.387658</td> \n",
       "        <td id=\"T_2dedada4_33a1_11e9_ae47_d07e3542d218row1_col4\" class=\"data row1 col4\" >0.397301</td> \n",
       "    </tr>    <tr> \n",
       "        <th id=\"T_2dedada4_33a1_11e9_ae47_d07e3542d218level0_row2\" class=\"row_heading level0 row2\" >#1 MultinomialNB</th> \n",
       "        <td id=\"T_2dedada4_33a1_11e9_ae47_d07e3542d218row2_col0\" class=\"data row2 col0\" >YES</td> \n",
       "        <td id=\"T_2dedada4_33a1_11e9_ae47_d07e3542d218row2_col1\" class=\"data row2 col1\" >NO</td> \n",
       "        <td id=\"T_2dedada4_33a1_11e9_ae47_d07e3542d218row2_col2\" class=\"data row2 col2\" >NO</td> \n",
       "        <td id=\"T_2dedada4_33a1_11e9_ae47_d07e3542d218row2_col3\" class=\"data row2 col3\" >0.66614</td> \n",
       "        <td id=\"T_2dedada4_33a1_11e9_ae47_d07e3542d218row2_col4\" class=\"data row2 col4\" >0.663855</td> \n",
       "    </tr>    <tr> \n",
       "        <th id=\"T_2dedada4_33a1_11e9_ae47_d07e3542d218level0_row3\" class=\"row_heading level0 row3\" >#2 MultinomialNB</th> \n",
       "        <td id=\"T_2dedada4_33a1_11e9_ae47_d07e3542d218row3_col0\" class=\"data row3 col0\" >YES</td> \n",
       "        <td id=\"T_2dedada4_33a1_11e9_ae47_d07e3542d218row3_col1\" class=\"data row3 col1\" >YES</td> \n",
       "        <td id=\"T_2dedada4_33a1_11e9_ae47_d07e3542d218row3_col2\" class=\"data row3 col2\" >NO</td> \n",
       "        <td id=\"T_2dedada4_33a1_11e9_ae47_d07e3542d218row3_col3\" class=\"data row3 col3\" >0.64726</td> \n",
       "        <td id=\"T_2dedada4_33a1_11e9_ae47_d07e3542d218row3_col4\" class=\"data row3 col4\" >0.64825</td> \n",
       "    </tr>    <tr> \n",
       "        <th id=\"T_2dedada4_33a1_11e9_ae47_d07e3542d218level0_row4\" class=\"row_heading level0 row4\" >#3 MultinomialNB</th> \n",
       "        <td id=\"T_2dedada4_33a1_11e9_ae47_d07e3542d218row4_col0\" class=\"data row4 col0\" >YES</td> \n",
       "        <td id=\"T_2dedada4_33a1_11e9_ae47_d07e3542d218row4_col1\" class=\"data row4 col1\" >NO</td> \n",
       "        <td id=\"T_2dedada4_33a1_11e9_ae47_d07e3542d218row4_col2\" class=\"data row4 col2\" >alpha = 0.4</td> \n",
       "        <td id=\"T_2dedada4_33a1_11e9_ae47_d07e3542d218row4_col3\" class=\"data row4 col3\" >0.68228</td> \n",
       "        <td id=\"T_2dedada4_33a1_11e9_ae47_d07e3542d218row4_col4\" class=\"data row4 col4\" >0.667651</td> \n",
       "    </tr>    <tr> \n",
       "        <th id=\"T_2dedada4_33a1_11e9_ae47_d07e3542d218level0_row5\" class=\"row_heading level0 row5\" >#1 LogisticRegression</th> \n",
       "        <td id=\"T_2dedada4_33a1_11e9_ae47_d07e3542d218row5_col0\" class=\"data row5 col0\" >YES</td> \n",
       "        <td id=\"T_2dedada4_33a1_11e9_ae47_d07e3542d218row5_col1\" class=\"data row5 col1\" >NO</td> \n",
       "        <td id=\"T_2dedada4_33a1_11e9_ae47_d07e3542d218row5_col2\" class=\"data row5 col2\" >NO</td> \n",
       "        <td id=\"T_2dedada4_33a1_11e9_ae47_d07e3542d218row5_col3\" class=\"data row5 col3\" >0.67205</td> \n",
       "        <td id=\"T_2dedada4_33a1_11e9_ae47_d07e3542d218row5_col4\" class=\"data row5 col4\" >0.664277</td> \n",
       "    </tr>    <tr> \n",
       "        <th id=\"T_2dedada4_33a1_11e9_ae47_d07e3542d218level0_row6\" class=\"row_heading level0 row6\" >#2 LogisticRegression</th> \n",
       "        <td id=\"T_2dedada4_33a1_11e9_ae47_d07e3542d218row6_col0\" class=\"data row6 col0\" >YES</td> \n",
       "        <td id=\"T_2dedada4_33a1_11e9_ae47_d07e3542d218row6_col1\" class=\"data row6 col1\" >YES</td> \n",
       "        <td id=\"T_2dedada4_33a1_11e9_ae47_d07e3542d218row6_col2\" class=\"data row6 col2\" >NO</td> \n",
       "        <td id=\"T_2dedada4_33a1_11e9_ae47_d07e3542d218row6_col3\" class=\"data row6 col3\" >0.67215</td> \n",
       "        <td id=\"T_2dedada4_33a1_11e9_ae47_d07e3542d218row6_col4\" class=\"data row6 col4\" >0.664277</td> \n",
       "    </tr>    <tr> \n",
       "        <th id=\"T_2dedada4_33a1_11e9_ae47_d07e3542d218level0_row7\" class=\"row_heading level0 row7\" >#3 LogisticRegression</th> \n",
       "        <td id=\"T_2dedada4_33a1_11e9_ae47_d07e3542d218row7_col0\" class=\"data row7 col0\" >YES</td> \n",
       "        <td id=\"T_2dedada4_33a1_11e9_ae47_d07e3542d218row7_col1\" class=\"data row7 col1\" >NO</td> \n",
       "        <td id=\"T_2dedada4_33a1_11e9_ae47_d07e3542d218row7_col2\" class=\"data row7 col2\" >penalty = 'l2'</td> \n",
       "        <td id=\"T_2dedada4_33a1_11e9_ae47_d07e3542d218row7_col3\" class=\"data row7 col3\" >0.67205</td> \n",
       "        <td id=\"T_2dedada4_33a1_11e9_ae47_d07e3542d218row7_col4\" class=\"data row7 col4\" >0.664277</td> \n",
       "    </tr>    <tr> \n",
       "        <th id=\"T_2dedada4_33a1_11e9_ae47_d07e3542d218level0_row8\" class=\"row_heading level0 row8\" >#1 LSTM</th> \n",
       "        <td id=\"T_2dedada4_33a1_11e9_ae47_d07e3542d218row8_col0\" class=\"data row8 col0\" >YES</td> \n",
       "        <td id=\"T_2dedada4_33a1_11e9_ae47_d07e3542d218row8_col1\" class=\"data row8 col1\" >NO</td> \n",
       "        <td id=\"T_2dedada4_33a1_11e9_ae47_d07e3542d218row8_col2\" class=\"data row8 col2\" >optimizer = adamax</td> \n",
       "        <td id=\"T_2dedada4_33a1_11e9_ae47_d07e3542d218row8_col3\" class=\"data row8 col3\" >0.4552</td> \n",
       "        <td id=\"T_2dedada4_33a1_11e9_ae47_d07e3542d218row8_col4\" class=\"data row8 col4\" >0.471109</td> \n",
       "    </tr>    <tr> \n",
       "        <th id=\"T_2dedada4_33a1_11e9_ae47_d07e3542d218level0_row9\" class=\"row_heading level0 row9\" >#2 LSTM</th> \n",
       "        <td id=\"T_2dedada4_33a1_11e9_ae47_d07e3542d218row9_col0\" class=\"data row9 col0\" >NO</td> \n",
       "        <td id=\"T_2dedada4_33a1_11e9_ae47_d07e3542d218row9_col1\" class=\"data row9 col1\" >YES</td> \n",
       "        <td id=\"T_2dedada4_33a1_11e9_ae47_d07e3542d218row9_col2\" class=\"data row9 col2\" >NO</td> \n",
       "        <td id=\"T_2dedada4_33a1_11e9_ae47_d07e3542d218row9_col3\" class=\"data row9 col3\" >0.442</td> \n",
       "        <td id=\"T_2dedada4_33a1_11e9_ae47_d07e3542d218row9_col4\" class=\"data row9 col4\" >0.42345</td> \n",
       "    </tr>    <tr> \n",
       "        <th id=\"T_2dedada4_33a1_11e9_ae47_d07e3542d218level0_row10\" class=\"row_heading level0 row10\" >#3 LSTM</th> \n",
       "        <td id=\"T_2dedada4_33a1_11e9_ae47_d07e3542d218row10_col0\" class=\"data row10 col0\" >YES</td> \n",
       "        <td id=\"T_2dedada4_33a1_11e9_ae47_d07e3542d218row10_col1\" class=\"data row10 col1\" >NO</td> \n",
       "        <td id=\"T_2dedada4_33a1_11e9_ae47_d07e3542d218row10_col2\" class=\"data row10 col2\" >Architecture improvment with embedding</td> \n",
       "        <td id=\"T_2dedada4_33a1_11e9_ae47_d07e3542d218row10_col3\" class=\"data row10 col3\" >0.6076</td> \n",
       "        <td id=\"T_2dedada4_33a1_11e9_ae47_d07e3542d218row10_col4\" class=\"data row10 col4\" >0.615352</td> \n",
       "    </tr>    <tr> \n",
       "        <th id=\"T_2dedada4_33a1_11e9_ae47_d07e3542d218level0_row11\" class=\"row_heading level0 row11\" >#4 LSTM</th> \n",
       "        <td id=\"T_2dedada4_33a1_11e9_ae47_d07e3542d218row11_col0\" class=\"data row11 col0\" >YES</td> \n",
       "        <td id=\"T_2dedada4_33a1_11e9_ae47_d07e3542d218row11_col1\" class=\"data row11 col1\" >NO</td> \n",
       "        <td id=\"T_2dedada4_33a1_11e9_ae47_d07e3542d218row11_col2\" class=\"data row11 col2\" >Architecture improvment, avoiding overfit</td> \n",
       "        <td id=\"T_2dedada4_33a1_11e9_ae47_d07e3542d218row11_col3\" class=\"data row11 col3\" >0.6551</td> \n",
       "        <td id=\"T_2dedada4_33a1_11e9_ae47_d07e3542d218row11_col4\" class=\"data row11 col4\" >0.635175</td> \n",
       "    </tr></tbody> \n",
       "</table> "
      ],
      "text/plain": [
       "<pandas.io.formats.style.Styler at 0x7fba03f5cfd0>"
      ]
     },
     "execution_count": 107,
     "metadata": {},
     "output_type": "execute_result"
    }
   ],
   "source": [
    "create_table().style.apply(lambda x: ['background: lightgreen' if x.name == '#3 MultinomialNB' else '' for i in x], \n",
    "                       axis=1)"
   ]
  },
  {
   "cell_type": "markdown",
   "metadata": {
    "colab_type": "text",
    "id": "p1Ta8QMKUcec"
   },
   "source": [
    "We can see that '#3 MultinomialNB' got the best validation results with 0.68228 (validation) and we will consider this model as our best model."
   ]
  },
  {
   "cell_type": "markdown",
   "metadata": {
    "colab_type": "text",
    "id": "gq5kCJ6vUced"
   },
   "source": [
    "### Q3<br>\n",
    "We collected 15,030 tweets from US which was most popular due to our exploration.<br>\n",
    "The code for the collection of the tweets is commented because it doesn't need to be run again:"
   ]
  },
  {
   "cell_type": "code",
   "execution_count": 89,
   "metadata": {
    "colab": {},
    "colab_type": "code",
    "id": "LQkOzsVqZ9YQ"
   },
   "outputs": [],
   "source": [
    "# import tweepy\n",
    "# from tweepy import OAuthHandler\n",
    "\n",
    "# consumer_key = ''\n",
    "# consumer_secret = ''\n",
    "# access_token = ''\n",
    "# access_secret = ''\n",
    "\n",
    "# auth = OAuthHandler(consumer_key, consumer_secret)\n",
    "# auth.set_access_token(access_token, access_secret)\n",
    "\n",
    "# api = tweepy.API(auth)\n",
    "\n",
    "# from tweepy import Stream\n",
    "# from tweepy.streaming import StreamListener\n",
    "# import json\n",
    "\n",
    "# class MyListener(StreamListener):\n",
    "#     tweets_count = 0\n",
    "    \n",
    "#     def on_data(self, data):\n",
    "#         try:\n",
    "#             with open('tweets.json', 'a') as f:\n",
    "#                 data_json = json.loads(data)\n",
    "#                 if data_json['place'] != None and data_json['place']['country_code'] == 'US':\n",
    "#                     f.write(data)\n",
    "#                     self.tweets_count += 1\n",
    "#                     print(self.tweets_count)\n",
    "#             if self.tweets_count >= 15000:\n",
    "#                 return False\n",
    "#             else:\n",
    "#                 return True\n",
    "#         except BaseException as e:\n",
    "#             print(\"ERROR on_data: %s\" % str(e))\n",
    "#         return True\n",
    "    \n",
    "#     def on_error(self, status):\n",
    "#         print(status)\n",
    "#         return True\n",
    "      \n",
    "# listener = MyListener()\n",
    "# twitter_stream = Stream(auth, listener)\n",
    "# twitter_stream.sample()"
   ]
  },
  {
   "cell_type": "markdown",
   "metadata": {
    "colab_type": "text",
    "id": "8otUwRYMZwCh"
   },
   "source": [
    "\n",
    "We will Repeat the same pre-processing from Question 1."
   ]
  },
  {
   "cell_type": "code",
   "execution_count": 90,
   "metadata": {
    "colab": {},
    "colab_type": "code",
    "id": "2ZCiMTrDUcee"
   },
   "outputs": [
    {
     "name": "stdout",
     "output_type": "stream",
     "text": [
      "0) created_at\n",
      "1) id\n",
      "2) id_str\n",
      "3) text\n",
      "4) source\n",
      "5) truncated\n",
      "6) in_reply_to_status_id\n",
      "7) in_reply_to_status_id_str\n",
      "8) in_reply_to_user_id\n",
      "9) in_reply_to_user_id_str\n",
      "10) in_reply_to_screen_name\n",
      "11) user\n",
      "12) geo\n",
      "13) coordinates\n",
      "14) place\n",
      "15) contributors\n",
      "16) quoted_status_id\n",
      "17) quoted_status_id_str\n",
      "18) quoted_status\n",
      "19) quoted_status_permalink\n",
      "20) is_quote_status\n",
      "21) extended_tweet\n",
      "22) quote_count\n",
      "23) reply_count\n",
      "24) retweet_count\n",
      "25) favorite_count\n",
      "26) entities\n",
      "27) favorited\n",
      "28) retweeted\n",
      "29) filter_level\n",
      "30) lang\n",
      "31) timestamp_ms\n"
     ]
    }
   ],
   "source": [
    "lines = []\n",
    "with open('tweets.json', 'r') as f:\n",
    "    lines = f.readlines()\n",
    "    \n",
    "lines = list(filter(lambda x: x != '\\n', lines))\n",
    "tweets = list(map(lambda x: json.loads(x), lines))\n",
    "for i, key in enumerate(tweets[0].keys()):\n",
    "    print('{}) {}'.format(i, key))"
   ]
  },
  {
   "cell_type": "markdown",
   "metadata": {
    "colab_type": "text",
    "id": "UBKUGYLhUcei"
   },
   "source": [
    "We will use the same features we used in the training stage"
   ]
  },
  {
   "cell_type": "code",
   "execution_count": 91,
   "metadata": {
    "colab": {},
    "colab_type": "code",
    "id": "3DHoL0jqUcei"
   },
   "outputs": [
    {
     "data": {
      "text/html": [
       "<div>\n",
       "<style scoped>\n",
       "    .dataframe tbody tr th:only-of-type {\n",
       "        vertical-align: middle;\n",
       "    }\n",
       "\n",
       "    .dataframe tbody tr th {\n",
       "        vertical-align: top;\n",
       "    }\n",
       "\n",
       "    .dataframe thead th {\n",
       "        text-align: right;\n",
       "    }\n",
       "</style>\n",
       "<table border=\"1\" class=\"dataframe\">\n",
       "  <thead>\n",
       "    <tr style=\"text-align: right;\">\n",
       "      <th></th>\n",
       "      <th>id</th>\n",
       "      <th>text</th>\n",
       "      <th>user</th>\n",
       "    </tr>\n",
       "  </thead>\n",
       "  <tbody>\n",
       "    <tr>\n",
       "      <th>0</th>\n",
       "      <td>1092055417759416320</td>\n",
       "      <td>#PublicHealthHaiku\\nRespect and honor -\\nLove ...</td>\n",
       "      <td>{'id': 234924597, 'id_str': '234924597', 'name...</td>\n",
       "    </tr>\n",
       "    <tr>\n",
       "      <th>1</th>\n",
       "      <td>1092055451330592774</td>\n",
       "      <td>@PhoenixGRIT2Cnt @PALucier @WayneDupreeShow It...</td>\n",
       "      <td>{'id': 563780506, 'id_str': '563780506', 'name...</td>\n",
       "    </tr>\n",
       "    <tr>\n",
       "      <th>2</th>\n",
       "      <td>1092055497472204800</td>\n",
       "      <td>still up , let me go to bed</td>\n",
       "      <td>{'id': 57673882, 'id_str': '57673882', 'name':...</td>\n",
       "    </tr>\n",
       "    <tr>\n",
       "      <th>3</th>\n",
       "      <td>1092055501653852160</td>\n",
       "      <td>Shave kit/make up bag I just finished https://...</td>\n",
       "      <td>{'id': 995045622, 'id_str': '995045622', 'name...</td>\n",
       "    </tr>\n",
       "    <tr>\n",
       "      <th>4</th>\n",
       "      <td>1092055564585181190</td>\n",
       "      <td>Lmaooo I just might bro</td>\n",
       "      <td>{'id': 972243180, 'id_str': '972243180', 'name...</td>\n",
       "    </tr>\n",
       "  </tbody>\n",
       "</table>\n",
       "</div>"
      ],
      "text/plain": [
       "                    id                                               text  \\\n",
       "0  1092055417759416320  #PublicHealthHaiku\\nRespect and honor -\\nLove ...   \n",
       "1  1092055451330592774  @PhoenixGRIT2Cnt @PALucier @WayneDupreeShow It...   \n",
       "2  1092055497472204800                        still up , let me go to bed   \n",
       "3  1092055501653852160  Shave kit/make up bag I just finished https://...   \n",
       "4  1092055564585181190                            Lmaooo I just might bro   \n",
       "\n",
       "                                                user  \n",
       "0  {'id': 234924597, 'id_str': '234924597', 'name...  \n",
       "1  {'id': 563780506, 'id_str': '563780506', 'name...  \n",
       "2  {'id': 57673882, 'id_str': '57673882', 'name':...  \n",
       "3  {'id': 995045622, 'id_str': '995045622', 'name...  \n",
       "4  {'id': 972243180, 'id_str': '972243180', 'name...  "
      ]
     },
     "execution_count": 91,
     "metadata": {},
     "output_type": "execute_result"
    }
   ],
   "source": [
    "features = ['id','text','user']\n",
    "tweets_df = pd.DataFrame.from_dict(tweets)\n",
    "tweets_df = tweets_df[features]\n",
    "tweets_df.head()"
   ]
  },
  {
   "cell_type": "markdown",
   "metadata": {
    "colab_type": "text",
    "id": "gbHsJmtHUcel"
   },
   "source": [
    "We will transform the data to the same form of the train dataset in order to use the same methods of pre processing."
   ]
  },
  {
   "cell_type": "code",
   "execution_count": 92,
   "metadata": {
    "colab": {},
    "colab_type": "code",
    "id": "IctHFzlJUcel"
   },
   "outputs": [
    {
     "data": {
      "text/html": [
       "<div>\n",
       "<style scoped>\n",
       "    .dataframe tbody tr th:only-of-type {\n",
       "        vertical-align: middle;\n",
       "    }\n",
       "\n",
       "    .dataframe tbody tr th {\n",
       "        vertical-align: top;\n",
       "    }\n",
       "\n",
       "    .dataframe thead th {\n",
       "        text-align: right;\n",
       "    }\n",
       "</style>\n",
       "<table border=\"1\" class=\"dataframe\">\n",
       "  <thead>\n",
       "    <tr style=\"text-align: right;\">\n",
       "      <th></th>\n",
       "      <th>id</th>\n",
       "      <th>text</th>\n",
       "      <th>description</th>\n",
       "      <th>name</th>\n",
       "    </tr>\n",
       "  </thead>\n",
       "  <tbody>\n",
       "    <tr>\n",
       "      <th>0</th>\n",
       "      <td>1092055417759416320</td>\n",
       "      <td>#PublicHealthHaiku\\nRespect and honor -\\nLove ...</td>\n",
       "      <td>Public health activist. Boston Medical Center....</td>\n",
       "      <td>AcuOxPhD</td>\n",
       "    </tr>\n",
       "    <tr>\n",
       "      <th>1</th>\n",
       "      <td>1092055451330592774</td>\n",
       "      <td>@PhoenixGRIT2Cnt @PALucier @WayneDupreeShow It...</td>\n",
       "      <td>Fiscal, Constitutional Conservative, Bama, Tex...</td>\n",
       "      <td>dbox91</td>\n",
       "    </tr>\n",
       "    <tr>\n",
       "      <th>2</th>\n",
       "      <td>1092055497472204800</td>\n",
       "      <td>still up , let me go to bed</td>\n",
       "      <td>https://m.soundcloud.com/1stevepierre/close-fr...</td>\n",
       "      <td>6IERRE</td>\n",
       "    </tr>\n",
       "    <tr>\n",
       "      <th>3</th>\n",
       "      <td>1092055501653852160</td>\n",
       "      <td>Shave kit/make up bag I just finished https://...</td>\n",
       "      <td>somewhere between living and dying chat snap k...</td>\n",
       "      <td>shea_bull</td>\n",
       "    </tr>\n",
       "    <tr>\n",
       "      <th>4</th>\n",
       "      <td>1092055564585181190</td>\n",
       "      <td>Lmaooo I just might bro</td>\n",
       "      <td>Gucci told me u could get lost in the sauce an...</td>\n",
       "      <td>Bos_Laflare</td>\n",
       "    </tr>\n",
       "  </tbody>\n",
       "</table>\n",
       "</div>"
      ],
      "text/plain": [
       "                    id                                               text  \\\n",
       "0  1092055417759416320  #PublicHealthHaiku\\nRespect and honor -\\nLove ...   \n",
       "1  1092055451330592774  @PhoenixGRIT2Cnt @PALucier @WayneDupreeShow It...   \n",
       "2  1092055497472204800                        still up , let me go to bed   \n",
       "3  1092055501653852160  Shave kit/make up bag I just finished https://...   \n",
       "4  1092055564585181190                            Lmaooo I just might bro   \n",
       "\n",
       "                                         description         name  \n",
       "0  Public health activist. Boston Medical Center....     AcuOxPhD  \n",
       "1  Fiscal, Constitutional Conservative, Bama, Tex...       dbox91  \n",
       "2  https://m.soundcloud.com/1stevepierre/close-fr...       6IERRE  \n",
       "3  somewhere between living and dying chat snap k...    shea_bull  \n",
       "4  Gucci told me u could get lost in the sauce an...  Bos_Laflare  "
      ]
     },
     "execution_count": 92,
     "metadata": {},
     "output_type": "execute_result"
    }
   ],
   "source": [
    "tweets_df['description'] = tweets_df.user.apply(lambda x: x['description'])\n",
    "tweets_df['name'] = tweets_df.user.apply(lambda x: x['screen_name'])\n",
    "tweets_df.drop('user', axis=1, inplace=True)\n",
    "tweets_df.head()"
   ]
  },
  {
   "cell_type": "code",
   "execution_count": 93,
   "metadata": {
    "colab": {},
    "colab_type": "code",
    "id": "M_npm2mrUcen"
   },
   "outputs": [
    {
     "data": {
      "text/html": [
       "<div>\n",
       "<style scoped>\n",
       "    .dataframe tbody tr th:only-of-type {\n",
       "        vertical-align: middle;\n",
       "    }\n",
       "\n",
       "    .dataframe tbody tr th {\n",
       "        vertical-align: top;\n",
       "    }\n",
       "\n",
       "    .dataframe thead th {\n",
       "        text-align: right;\n",
       "    }\n",
       "</style>\n",
       "<table border=\"1\" class=\"dataframe\">\n",
       "  <thead>\n",
       "    <tr style=\"text-align: right;\">\n",
       "      <th></th>\n",
       "      <th>id</th>\n",
       "      <th>text</th>\n",
       "      <th>description</th>\n",
       "      <th>name</th>\n",
       "    </tr>\n",
       "  </thead>\n",
       "  <tbody>\n",
       "    <tr>\n",
       "      <th>0</th>\n",
       "      <td>1092055417759416320</td>\n",
       "      <td>[publichealthhaiku, respect, honor, love, beat...</td>\n",
       "      <td>[public, health, activist, boston, medical, ce...</td>\n",
       "      <td>AcuOxPhD</td>\n",
       "    </tr>\n",
       "    <tr>\n",
       "      <th>1</th>\n",
       "      <td>1092055451330592774</td>\n",
       "      <td>[phoenixgritcnt, palucier, waynedupreeshow, fu...</td>\n",
       "      <td>[fiscal, nstitutional, nservative, bama, texan...</td>\n",
       "      <td>dbox91</td>\n",
       "    </tr>\n",
       "    <tr>\n",
       "      <th>2</th>\n",
       "      <td>1092055497472204800</td>\n",
       "      <td>[still, let, go, bed]</td>\n",
       "      <td>[soundcloud, stevepierre, close, friend]</td>\n",
       "      <td>6IERRE</td>\n",
       "    </tr>\n",
       "    <tr>\n",
       "      <th>3</th>\n",
       "      <td>1092055501653852160</td>\n",
       "      <td>[shave, kit, make, bag, finished, ttsmstkhpf]</td>\n",
       "      <td>[somewhere, living, dying, chat, snap, kincer]</td>\n",
       "      <td>shea_bull</td>\n",
       "    </tr>\n",
       "    <tr>\n",
       "      <th>4</th>\n",
       "      <td>1092055564585181190</td>\n",
       "      <td>[lmaooo, might, bro]</td>\n",
       "      <td>[gucci, told, u, uld, get, lost, sauce, life, ...</td>\n",
       "      <td>Bos_Laflare</td>\n",
       "    </tr>\n",
       "  </tbody>\n",
       "</table>\n",
       "</div>"
      ],
      "text/plain": [
       "                    id                                               text  \\\n",
       "0  1092055417759416320  [publichealthhaiku, respect, honor, love, beat...   \n",
       "1  1092055451330592774  [phoenixgritcnt, palucier, waynedupreeshow, fu...   \n",
       "2  1092055497472204800                              [still, let, go, bed]   \n",
       "3  1092055501653852160      [shave, kit, make, bag, finished, ttsmstkhpf]   \n",
       "4  1092055564585181190                               [lmaooo, might, bro]   \n",
       "\n",
       "                                         description         name  \n",
       "0  [public, health, activist, boston, medical, ce...     AcuOxPhD  \n",
       "1  [fiscal, nstitutional, nservative, bama, texan...       dbox91  \n",
       "2           [soundcloud, stevepierre, close, friend]       6IERRE  \n",
       "3     [somewhere, living, dying, chat, snap, kincer]    shea_bull  \n",
       "4  [gucci, told, u, uld, get, lost, sauce, life, ...  Bos_Laflare  "
      ]
     },
     "execution_count": 93,
     "metadata": {},
     "output_type": "execute_result"
    }
   ],
   "source": [
    "tweets_df['text'] = [preprocess(s) for s in tweets_df['text']]\n",
    "tweets_df['description'] = [preprocess(s) for s in tweets_df['description']]\n",
    "\n",
    "tweets_df['text'] = tweets_df['text'].apply(lambda x : [item for item in x if item not in stop])\n",
    "tweets_df['description'] = tweets_df['description'].apply(lambda x : [item for item in x if item not in stop])\n",
    "tweets_df.head()"
   ]
  },
  {
   "cell_type": "markdown",
   "metadata": {
    "colab_type": "text",
    "id": "jAJl1uJSUcer"
   },
   "source": [
    "Let's find the most common words before pre-proccesing the data"
   ]
  },
  {
   "cell_type": "code",
   "execution_count": 94,
   "metadata": {
    "colab": {},
    "colab_type": "code",
    "id": "2DcP95JaUcer"
   },
   "outputs": [],
   "source": [
    "def get_all_words(tweets_df):\n",
    "    tweets_all_words = []\n",
    "    tweets_df.text.apply(lambda x: tweets_all_words.extend(x))\n",
    "    tweets_df.description.apply(lambda x: tweets_all_words.extend(x))\n",
    "    return tweets_all_words"
   ]
  },
  {
   "cell_type": "code",
   "execution_count": 95,
   "metadata": {
    "colab": {},
    "colab_type": "code",
    "id": "wbCdPhfAUcet"
   },
   "outputs": [
    {
     "name": "stdout",
     "output_type": "stream",
     "text": [
      "none     1455\n",
      "love     1322\n",
      "like     1140\n",
      "u        1102\n",
      "tweet    1026\n",
      "job       808\n",
      "life      797\n",
      "wa        775\n",
      "need      748\n",
      "get       730\n",
      "dtype: int64\n"
     ]
    },
    {
     "data": {
      "image/png": "[encoded data removed]",
      "text/plain": [
       "<Figure size 432x288 with 1 Axes>"
      ]
     },
     "metadata": {
      "needs_background": "light"
     },
     "output_type": "display_data"
    }
   ],
   "source": [
    "tweets_all_words = get_all_words(tweets_df)\n",
    "tweets_common_words = pd.Series(tweets_all_words).value_counts()[:10]\n",
    "print_and_plot(tweets_common_words)"
   ]
  },
  {
   "cell_type": "markdown",
   "metadata": {
    "colab_type": "text",
    "id": "FAc6DC0ZUcev"
   },
   "source": [
    "And now we will filter the words and we will stay with only top 10000 words from the train."
   ]
  },
  {
   "cell_type": "code",
   "execution_count": 96,
   "metadata": {
    "colab": {},
    "colab_type": "code",
    "id": "niLBu8sKUcew"
   },
   "outputs": [
    {
     "data": {
      "text/html": [
       "<div>\n",
       "<style scoped>\n",
       "    .dataframe tbody tr th:only-of-type {\n",
       "        vertical-align: middle;\n",
       "    }\n",
       "\n",
       "    .dataframe tbody tr th {\n",
       "        vertical-align: top;\n",
       "    }\n",
       "\n",
       "    .dataframe thead th {\n",
       "        text-align: right;\n",
       "    }\n",
       "</style>\n",
       "<table border=\"1\" class=\"dataframe\">\n",
       "  <thead>\n",
       "    <tr style=\"text-align: right;\">\n",
       "      <th></th>\n",
       "      <th>id</th>\n",
       "      <th>text</th>\n",
       "      <th>description</th>\n",
       "      <th>name</th>\n",
       "    </tr>\n",
       "  </thead>\n",
       "  <tbody>\n",
       "    <tr>\n",
       "      <th>0</th>\n",
       "      <td>1092055417759416320</td>\n",
       "      <td>[respect, honor, love, beat, hate, every, time...</td>\n",
       "      <td>[public, health, activist, boston, medical, ce...</td>\n",
       "      <td>AcuOxPhD</td>\n",
       "    </tr>\n",
       "    <tr>\n",
       "      <th>1</th>\n",
       "      <td>1092055451330592774</td>\n",
       "      <td>[funny, never, got, ta]</td>\n",
       "      <td>[fiscal, nstitutional, nservative, bama, texan...</td>\n",
       "      <td>dbox91</td>\n",
       "    </tr>\n",
       "    <tr>\n",
       "      <th>2</th>\n",
       "      <td>1092055497472204800</td>\n",
       "      <td>[still, let, go, bed]</td>\n",
       "      <td>[soundcloud, close, friend]</td>\n",
       "      <td>6IERRE</td>\n",
       "    </tr>\n",
       "    <tr>\n",
       "      <th>3</th>\n",
       "      <td>1092055501653852160</td>\n",
       "      <td>[shave, kit, make, bag, finished]</td>\n",
       "      <td>[somewhere, living, dying, chat, snap]</td>\n",
       "      <td>shea_bull</td>\n",
       "    </tr>\n",
       "    <tr>\n",
       "      <th>4</th>\n",
       "      <td>1092055564585181190</td>\n",
       "      <td>[might, bro]</td>\n",
       "      <td>[gucci, told, u, uld, get, lost, sauce, life, ...</td>\n",
       "      <td>Bos_Laflare</td>\n",
       "    </tr>\n",
       "  </tbody>\n",
       "</table>\n",
       "</div>"
      ],
      "text/plain": [
       "                    id                                               text  \\\n",
       "0  1092055417759416320  [respect, honor, love, beat, hate, every, time...   \n",
       "1  1092055451330592774                            [funny, never, got, ta]   \n",
       "2  1092055497472204800                              [still, let, go, bed]   \n",
       "3  1092055501653852160                  [shave, kit, make, bag, finished]   \n",
       "4  1092055564585181190                                       [might, bro]   \n",
       "\n",
       "                                         description         name  \n",
       "0  [public, health, activist, boston, medical, ce...     AcuOxPhD  \n",
       "1  [fiscal, nstitutional, nservative, bama, texan...       dbox91  \n",
       "2                        [soundcloud, close, friend]       6IERRE  \n",
       "3             [somewhere, living, dying, chat, snap]    shea_bull  \n",
       "4  [gucci, told, u, uld, get, lost, sauce, life, ...  Bos_Laflare  "
      ]
     },
     "execution_count": 96,
     "metadata": {},
     "output_type": "execute_result"
    }
   ],
   "source": [
    "tweets_df.description = tweets_df.description.apply(lambda x: list(filter(lambda word: word in top_words, x)))\n",
    "tweets_df.text = tweets_df.text.apply(lambda x: list(filter(lambda word: word in top_words, x)))\n",
    "tweets_df.head()"
   ]
  },
  {
   "cell_type": "code",
   "execution_count": 97,
   "metadata": {
    "colab": {},
    "colab_type": "code",
    "id": "sYFRw7lXUcey"
   },
   "outputs": [
    {
     "data": {
      "text/plain": [
       "['respect',\n",
       " 'honor',\n",
       " 'love',\n",
       " 'beat',\n",
       " 'hate',\n",
       " 'every',\n",
       " 'time',\n",
       " 'gift',\n",
       " 'funny',\n",
       " 'never']"
      ]
     },
     "execution_count": 97,
     "metadata": {},
     "output_type": "execute_result"
    }
   ],
   "source": [
    "tweets_all_words = get_all_words(tweets_df)\n",
    "tweets_all_words[:10]"
   ]
  },
  {
   "cell_type": "markdown",
   "metadata": {
    "colab_type": "text",
    "id": "T56NJa8YUce0"
   },
   "source": [
    "##### Comparing to the train dataset common words and term frequency:"
   ]
  },
  {
   "cell_type": "code",
   "execution_count": 98,
   "metadata": {
    "colab": {},
    "colab_type": "code",
    "id": "OmNrbbGDUce1"
   },
   "outputs": [
    {
     "name": "stdout",
     "output_type": "stream",
     "text": [
      "none     1455\n",
      "love     1322\n",
      "like     1140\n",
      "u        1102\n",
      "tweet    1026\n",
      "job       808\n",
      "life      797\n",
      "wa        775\n",
      "need      748\n",
      "get       730\n",
      "dtype: int64\n"
     ]
    },
    {
     "data": {
      "image/png": "[encoded data removed]",
      "text/plain": [
       "<Figure size 432x288 with 1 Axes>"
      ]
     },
     "metadata": {
      "needs_background": "light"
     },
     "output_type": "display_data"
    }
   ],
   "source": [
    "tweets_common_words = pd.Series(tweets_all_words).value_counts()[:10]\n",
    "print_and_plot(tweets_common_words)"
   ]
  },
  {
   "cell_type": "code",
   "execution_count": 99,
   "metadata": {
    "colab": {},
    "colab_type": "code",
    "id": "9FR3mGQeUce3"
   },
   "outputs": [
    {
     "name": "stdout",
     "output_type": "stream",
     "text": [
      "love    1829\n",
      "_ù      1508\n",
      "like    1428\n",
      "û       1372\n",
      "get     1360\n",
      "one     1190\n",
      "ü       1177\n",
      "http    1130\n",
      "life    1104\n",
      "wa      1097\n",
      "dtype: int64\n"
     ]
    },
    {
     "data": {
      "image/png": "[encoded data removed]",
      "text/plain": [
       "<Figure size 432x288 with 1 Axes>"
      ]
     },
     "metadata": {
      "needs_background": "light"
     },
     "output_type": "display_data"
    }
   ],
   "source": [
    "print_and_plot(pd.Series(dict(all_words.most_common(10))))"
   ]
  },
  {
   "cell_type": "markdown",
   "metadata": {
    "colab_type": "text",
    "id": "-eOmAee8Uce6"
   },
   "source": [
    "We can see that love and like are in the top 5 words for both of the datasets.<br>\n",
    "Let's print the precentage of the intersection words for the two datasets, the new tweets and the train.<br>\n",
    "We will look on the 1000 most common."
   ]
  },
  {
   "cell_type": "code",
   "execution_count": 100,
   "metadata": {
    "colab": {},
    "colab_type": "code",
    "id": "5aOgXC0lUce7"
   },
   "outputs": [],
   "source": [
    "def calc_intersection(setA,setB):\n",
    "    intersec_len = len(setA.intersection(setB))\n",
    "    return intersec_len*100/len(setB)"
   ]
  },
  {
   "cell_type": "code",
   "execution_count": 101,
   "metadata": {
    "colab": {},
    "colab_type": "code",
    "id": "RfkQ_16ZUce9"
   },
   "outputs": [
    {
     "name": "stdout",
     "output_type": "stream",
     "text": [
      "Precentage of words from new tweets that apear in the train: 74.2%\n"
     ]
    }
   ],
   "source": [
    "tweets_1000_common_set = set(pd.Series(tweets_all_words).value_counts()[:1000].keys())\n",
    "train_1000_words_set = set(dict(all_words.most_common(1000)).keys())\n",
    "print(\"Precentage of words from new tweets that apear in the train: {}%\".format(calc_intersection(tweets_1000_common_set,train_1000_words_set)))"
   ]
  },
  {
   "cell_type": "markdown",
   "metadata": {
    "colab_type": "text",
    "id": "HP5vof6JUce_"
   },
   "source": [
    "We can see that there is huge similarity in the terms occurrence, about 74.3%.<br>\n",
    "We believe that the prediction distribution will look similar to the train dataset due to this information."
   ]
  },
  {
   "cell_type": "markdown",
   "metadata": {
    "colab_type": "text",
    "id": "f3G7BOYQUce_"
   },
   "source": [
    "#### Terms distribution"
   ]
  },
  {
   "cell_type": "code",
   "execution_count": 102,
   "metadata": {
    "colab": {},
    "colab_type": "code",
    "id": "LoMJnH2BUcfB"
   },
   "outputs": [],
   "source": [
    "tweets_words_df = pd.DataFrame(nltk.FreqDist(tweets_all_words),index=[0])"
   ]
  },
  {
   "cell_type": "code",
   "execution_count": 103,
   "metadata": {
    "colab": {},
    "colab_type": "code",
    "id": "lmYJWIyeUcfD"
   },
   "outputs": [],
   "source": [
    "tweets_all_words_dict = dict(nltk.FreqDist(tweets_all_words))"
   ]
  },
  {
   "cell_type": "code",
   "execution_count": 110,
   "metadata": {
    "colab": {},
    "colab_type": "code",
    "id": "xwLLXNxqUcfE"
   },
   "outputs": [],
   "source": [
    "tweets_term_dist = {}\n",
    "for _,count in tweets_all_words_dict.items():\n",
    "    tweets_term_dist[count] = tweets_term_dist.get(count,0)+1\n",
    "sorted_dict = dict(sorted(tweets_term_dist.items(),reverse=True,key=lambda x:x[0]))"
   ]
  },
  {
   "cell_type": "markdown",
   "metadata": {
    "colab_type": "text",
    "id": "3dTIgj3jUcfG"
   },
   "source": [
    "Let's look on this distribution in the next graph"
   ]
  },
  {
   "cell_type": "code",
   "execution_count": 111,
   "metadata": {
    "colab": {},
    "colab_type": "code",
    "id": "4YvNtomBUcfG"
   },
   "outputs": [
    {
     "data": {
      "image/png": "[encoded data removed]",
      "text/plain": [
       "<Figure size 432x432 with 1 Axes>"
      ]
     },
     "metadata": {
      "needs_background": "light"
     },
     "output_type": "display_data"
    }
   ],
   "source": [
    "fig, ax = plt.subplots(figsize=(6,6))\n",
    "plt.xlabel('Occurences (for all terms)')\n",
    "plt.ylabel('Number of terms with given occurence')\n",
    "plt.show(plt.plot(list(sorted_dict.keys()),list(sorted_dict.values())))"
   ]
  },
  {
   "cell_type": "markdown",
   "metadata": {
    "colab_type": "text",
    "id": "sqougLTDUcfI"
   },
   "source": [
    "We can see long tail plot, which means that there are many rare words."
   ]
  },
  {
   "cell_type": "markdown",
   "metadata": {
    "colab_type": "text",
    "id": "DGfOjEbsUcfI"
   },
   "source": [
    "## Q4"
   ]
  },
  {
   "cell_type": "markdown",
   "metadata": {
    "colab_type": "text",
    "id": "f5RDaUMvUcfI"
   },
   "source": [
    "We will use the best gender classification model from Q2, LogisticRegression.\n",
    "And we will predict and analyze the gender of the tweets' authors."
   ]
  },
  {
   "cell_type": "code",
   "execution_count": 112,
   "metadata": {
    "colab": {},
    "colab_type": "code",
    "id": "8U4md2-DUcfJ"
   },
   "outputs": [],
   "source": [
    "tweet_text_as_description =  tweets_df[['description']].rename(columns={'description': 'text'})\n",
    "# concatenate text and description for one column.\n",
    "tweets_X_data = tweets_df[['text']] + tweet_text_as_description\n",
    "tweets_X_data = tweets_X_data['text'].apply(lambda x: ' '.join(x))"
   ]
  },
  {
   "cell_type": "code",
   "execution_count": 113,
   "metadata": {
    "colab": {},
    "colab_type": "code",
    "id": "_B35JO8MUcfN"
   },
   "outputs": [
    {
     "data": {
      "text/html": [
       "<div>\n",
       "<style scoped>\n",
       "    .dataframe tbody tr th:only-of-type {\n",
       "        vertical-align: middle;\n",
       "    }\n",
       "\n",
       "    .dataframe tbody tr th {\n",
       "        vertical-align: top;\n",
       "    }\n",
       "\n",
       "    .dataframe thead th {\n",
       "        text-align: right;\n",
       "    }\n",
       "</style>\n",
       "<table border=\"1\" class=\"dataframe\">\n",
       "  <thead>\n",
       "    <tr style=\"text-align: right;\">\n",
       "      <th></th>\n",
       "      <th>text</th>\n",
       "    </tr>\n",
       "  </thead>\n",
       "  <tbody>\n",
       "    <tr>\n",
       "      <th>0</th>\n",
       "      <td>[respect, honor, love, beat, hate, every, time...</td>\n",
       "    </tr>\n",
       "    <tr>\n",
       "      <th>1</th>\n",
       "      <td>[funny, never, got, ta]</td>\n",
       "    </tr>\n",
       "    <tr>\n",
       "      <th>2</th>\n",
       "      <td>[still, let, go, bed]</td>\n",
       "    </tr>\n",
       "    <tr>\n",
       "      <th>3</th>\n",
       "      <td>[shave, kit, make, bag, finished]</td>\n",
       "    </tr>\n",
       "    <tr>\n",
       "      <th>4</th>\n",
       "      <td>[might, bro]</td>\n",
       "    </tr>\n",
       "  </tbody>\n",
       "</table>\n",
       "</div>"
      ],
      "text/plain": [
       "                                                text\n",
       "0  [respect, honor, love, beat, hate, every, time...\n",
       "1                            [funny, never, got, ta]\n",
       "2                              [still, let, go, bed]\n",
       "3                  [shave, kit, make, bag, finished]\n",
       "4                                       [might, bro]"
      ]
     },
     "execution_count": 113,
     "metadata": {},
     "output_type": "execute_result"
    }
   ],
   "source": [
    "tweets_df[['text']].head()"
   ]
  },
  {
   "cell_type": "markdown",
   "metadata": {
    "colab_type": "text",
    "id": "6y3a2Gc5UcfS"
   },
   "source": [
    "We have joined all the tokens after concatenation of the text and description columns to a complete sentence.<br>\n",
    "We did it in order to acheive the correcet format to use the defined pipeline method above."
   ]
  },
  {
   "cell_type": "code",
   "execution_count": 114,
   "metadata": {
    "colab": {},
    "colab_type": "code",
    "id": "0QRvIc_-UcfT"
   },
   "outputs": [
    {
     "data": {
      "text/plain": [
       "0    respect honor love beat hate every time gift p...\n",
       "1    funny never got ta fiscal nstitutional nservat...\n",
       "2             still let go bed soundcloud close friend\n",
       "Name: text, dtype: object"
      ]
     },
     "execution_count": 114,
     "metadata": {},
     "output_type": "execute_result"
    }
   ],
   "source": [
    "tweets_X_data[:3]"
   ]
  },
  {
   "cell_type": "markdown",
   "metadata": {},
   "source": [
    "We will use the best model according to the validation results, optimal_alpha_nb (which is MultinomialNB with optimal alpha)"
   ]
  },
  {
   "cell_type": "code",
   "execution_count": 115,
   "metadata": {
    "colab": {},
    "colab_type": "code",
    "id": "uHZ5guUhUcfX"
   },
   "outputs": [],
   "source": [
    "tweets_gender_preds = pd.DataFrame(optimal_alpha_nb.predict(tweets_X_data))"
   ]
  },
  {
   "cell_type": "markdown",
   "metadata": {
    "colab_type": "text",
    "id": "K3Py-0esUcfa"
   },
   "source": [
    "Since the most common words and the train are pretty similar to the tweets we have download we can guess that the distribution will look similar also.<br>\n",
    "Let's look on the predicted gender histogram along the train histogram."
   ]
  },
  {
   "cell_type": "markdown",
   "metadata": {
    "colab_type": "text",
    "id": "oFsV9MDdUcfb"
   },
   "source": [
    "#### Predictions:"
   ]
  },
  {
   "cell_type": "code",
   "execution_count": 116,
   "metadata": {
    "colab": {},
    "colab_type": "code",
    "id": "D-zWskqpUcfb"
   },
   "outputs": [
    {
     "name": "stdout",
     "output_type": "stream",
     "text": [
      "Gender: Male, amount 1447\n",
      "Gender: Brand, amount 6820\n",
      "Gender: Female, amount 6763\n"
     ]
    }
   ],
   "source": [
    "gender_freq = nltk.FreqDist([num[0] for num in tweets_gender_preds.values])\n",
    "id_to_gender = {2:'Brand',1:'Female',0:'Male'}\n",
    "for gender,amounts in gender_freq.items():\n",
    "    print(\"Gender: {}, amount {}\".format(id_to_gender[gender], amounts))"
   ]
  },
  {
   "cell_type": "markdown",
   "metadata": {},
   "source": [
    "Reminder :<br>\n",
    "0 - Male<br>\n",
    "1 - Female<br>\n",
    "2 - Brand<br>"
   ]
  },
  {
   "cell_type": "code",
   "execution_count": 117,
   "metadata": {
    "colab": {},
    "colab_type": "code",
    "id": "e2B28zjyUcff"
   },
   "outputs": [
    {
     "data": {
      "image/png": "[encoded data removed]",
      "text/plain": [
       "<Figure size 432x288 with 1 Axes>"
      ]
     },
     "metadata": {
      "needs_background": "light"
     },
     "output_type": "display_data"
    }
   ],
   "source": [
    "plt.show(tweets_gender_preds.hist())"
   ]
  },
  {
   "cell_type": "markdown",
   "metadata": {
    "colab_type": "text",
    "id": "7fWKDBXOUcfg"
   },
   "source": [
    "We can compare this histogram to the train dataset distibution."
   ]
  },
  {
   "cell_type": "code",
   "execution_count": 118,
   "metadata": {
    "colab": {},
    "colab_type": "code",
    "id": "fA6KGqlHUcfh",
    "scrolled": true
   },
   "outputs": [
    {
     "data": {
      "image/png": "[encoded data removed]",
      "text/plain": [
       "<Figure size 432x288 with 1 Axes>"
      ]
     },
     "metadata": {
      "needs_background": "light"
     },
     "output_type": "display_data"
    }
   ],
   "source": [
    "plt.show(y_data.hist())"
   ]
  },
  {
   "cell_type": "markdown",
   "metadata": {
    "colab_type": "text",
    "id": "h4VnA9LTUcfi"
   },
   "source": [
    "We can see that it is pretty natural that the most common tweets will be by females and brands, same as refelected in the train dataset, which our model learned to classify from."
   ]
  },
  {
   "cell_type": "markdown",
   "metadata": {
    "colab_type": "text",
    "id": "lqWNgLTZUcfj"
   },
   "source": [
    "## Conclusions"
   ]
  },
  {
   "cell_type": "markdown",
   "metadata": {
    "colab_type": "text",
    "id": "nmmNTyhAUcfk"
   },
   "source": [
    "We will describe our process, the task challenges, we will explain our solution and offer some improvments.\n",
    "<br>\n",
    "<br>\n",
    "#### Pre-Proccessing , Features:\n",
    ">1. Removing Stop Words.<br>\n",
    "> Stopwords are the English words which does not add much meaning to a sentence. They can safely be ignored without sacrificing the meaning of the sentence. For this mission we used  nltk stopwords set.\n",
    ">2. Filtering Top 10,000 common words<br>\n",
    "This amount of words is actually covering most of the tokens occurences. It is also usefull to use the 10,000 words filtering in the test dataset in order to avoid unseen words. \n",
    ">3. Lemmatizing.<br>\n",
    "Documents are going to use different forms of a word, such as organize, organizes, and organizing.<br>\n",
    "The goal of lemmatization is to reduce inflectional forms.For this mission we also used nltk lemmatize method.\n",
    ">5. We have used CountVectorizer + TFidfTransformer as a representation to the text and the description.<br>\n",
    "We have also tried to use two combinations of ngrams, unigram and bigram as part of the CountVectorizer parameters.\n",
    "\n",
    "#### Parameters Tunning:\n",
    ">1. For the multinomialNB we have tuned the alpha parameter in order to achieve optimal results.\n",
    ">2. For the logisticRegression we have tried to use penalty regularization as parameter tunning.\n",
    "\n",
    "#### Validation Strategy:\n",
    ">1. K-Folds cross-validator<br>\n",
    "This strategy is splitting the dataset into k consecutive folds and\n",
    "each fold is then used once as a validation while the k - 1 remaining folds form the training set.\n",
    "This strategy is suited for our case since our dataset is pretty small and we want to have low variance between the train and the validation.\n",
    "\n",
    "#### Models and Architecture:\n",
    ">1. Machine Learning Models: We will not elaborate here since we talked about this enough in Question 2, but the two models types we have used as machine learning models were LogisticRegression and MultinomialNB.\n",
    ">2. Deep Learning Models (LSTM) - We chose to use the LSTM model since it's best suited to the text classification task because the abillity to take into account words context and words long or short dependency in a given sentence. We have tried several options for the number of the hidden states and found that 4-10 hidden states is an optimal number for us. In one of the architectures we have tried to use dense(4) with softmax in the last layer in order to have vector of size 4 with class probability values for each gender. We have used categorical-crossentropy loss function which is suited to classification problems.\n",
    ">3. Embedding - Again, we will not elaborate on this one since we already explained (in Question 2) why we chose to improve our model with embedding layer. But we will mention that this change has improved our model in 10% accuracy on validation and test.\n",
    "#### Overfitting Problem\n",
    ">1. We can easily see in the plot of the LSTM model fitting that we had an overfitting problem.\n",
    "in order to avoid this problem we did two things: the first was to use callbacks that save the best model weights, the second was early-stopping for the learning stage and the last one was using dropout and regularization parameters.<br> \n",
    "That's helped a little bit.\n",
    "#### Ways to Improve\n",
    ">1. The first thing we thought that can improve our results was using the profile images.<br>\n",
    "We could use another gender classifier for the images and using this classifier as a feature extractor for the main classifier which will include the all other features.\n",
    ">2. Named Entity Recognition feature. Tweets might include a references for an entities in the text which might point on the tweet writer gender.\n",
    ">3. Other feature exctration like Sentiment Analysis by one of the classifiers we can find on the internet. The tweet sentiment might help pointing on the author's gender.\n",
    "\n",
    "We are very happy with the results you can find above. We have tried alot of pre-processing techniques, we explored the data, and have deepened our understanding in machine learning, deep learning and particularly about LSTM and we also used the Tweeter API for the first time.\n",
    "We hope you enjoyed our notebook :)\n",
    "\n"
   ]
  }
 ],
 "metadata": {
  "colab": {
   "collapsed_sections": [],
   "name": "Final Project - Twitter.ipynb",
   "provenance": [],
   "toc_visible": true,
   "version": "0.3.2"
  },
  "kernelspec": {
   "display_name": "Python 3",
   "language": "python",
   "name": "python3"
  },
  "language_info": {
   "codemirror_mode": {
    "name": "ipython",
    "version": 3
   },
   "file_extension": ".py",
   "mimetype": "text/x-python",
   "name": "python",
   "nbconvert_exporter": "python",
   "pygments_lexer": "ipython3",
   "version": "3.6.7"
  }
 },
 "nbformat": 4,
 "nbformat_minor": 1
}
