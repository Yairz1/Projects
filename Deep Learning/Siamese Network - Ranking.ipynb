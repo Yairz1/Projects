{
 "cells": [
  {
   "cell_type": "markdown",
   "metadata": {
    "colab_type": "text",
    "id": "zHKLejAbtiMO"
   },
   "source": [
    "# Imports And Functions"
   ]
  },
  {
   "cell_type": "code",
   "execution_count": 0,
   "metadata": {
    "colab": {},
    "colab_type": "code",
    "id": "spxwMHNba8mY"
   },
   "outputs": [],
   "source": [
    "import pandas as pd\n",
    "from sklearn import model_selection, preprocessing, metrics\n",
    "from sklearn.feature_extraction.text import CountVectorizer\n",
    "\n",
    "from keras.layers import *\n",
    "from keras.regularizers import l2\n",
    "from keras.models import *\n",
    "from keras.optimizers import Adam\n",
    "from keras.callbacks import EarlyStopping\n",
    "from keras.callbacks import ModelCheckpoint, EarlyStopping\n",
    "from keras.optimizers import Adadelta\n",
    "from keras.preprocessing.text import Tokenizer\n",
    "from keras.preprocessing.sequence import pad_sequences\n",
    "from sklearn.metrics import mean_squared_error, mean_absolute_error\n",
    "from sklearn.metrics import mean_absolute_error as mae\n",
    "from sklearn.ensemble import RandomForestRegressor\n",
    "from sklearn.svm import SVR\n",
    "import xgboost as xgb\n",
    "import lightgbm as lgb\n",
    "from functools import reduce\n",
    "from random import shuffle\n",
    "from math import sqrt\n",
    "import os\n",
    "from keras.callbacks import ModelCheckpoint\n",
    "from sklearn.neighbors import KNeighborsRegressor\n",
    "import numpy as np\n",
    "import matplotlib.pyplot as plt\n",
    "%matplotlib inline\n",
    "from operator import itemgetter\n",
    "from collections import defaultdict\n",
    "import seaborn as sns\n",
    "from functools import reduce\n",
    "import time\n",
    "import io\n",
    "\n",
    "from collections import defaultdict\n",
    "from gensim.models import KeyedVectors\n",
    "\n",
    "def time_to_fit(model,X,y):\n",
    "  start_time = time.time()\n",
    "  model.fit(X,y)\n",
    "  return model,time.time()-start_time\n",
    "\n"
   ]
  },
  {
   "cell_type": "code",
   "execution_count": 0,
   "metadata": {
    "colab": {},
    "colab_type": "code",
    "id": "U_VY4XNwQe6_"
   },
   "outputs": [],
   "source": [
    "def plot_model_history(model_history):\n",
    "  fig, axs = plt.subplots(1,1,figsize=(15,5))\n",
    "  axs.plot(range(1,len(model_history['loss'])+1),model_history['loss'])\n",
    "  axs.plot(range(1,len(model_history['val_loss'])+1),model_history['val_loss'])\n",
    "  axs.set_title('Model Loss')\n",
    "  axs.set_ylabel('Loss')\n",
    "  axs.set_xlabel('Epoch')\n",
    "  axs.set_xticks(np.arange(1,len(model_history['loss'])+1),len(model_history['loss'])/10)\n",
    "  axs.legend(['train', 'val'], loc='best')\n",
    "  plt.show()\n",
    "  \n",
    "def plot_results(preds, true):\n",
    "  print('RMSE: {0:.4f}'.format(rmse(preds, true)))\n",
    "  fig, axes = plt.subplots(nrows=1, ncols=2)\n",
    "  ax0, ax1 = axes.flatten()\n",
    "\n",
    "  ax0.hist(preds, density=True, histtype='bar')\n",
    "  ax0.set_title('preds')\n",
    "\n",
    "  ax1.hist(true, density=True, histtype='bar')\n",
    "  ax1.set_title('true')\n",
    "\n",
    "  fig.tight_layout()\n",
    "  plt.show()\n",
    "  \n",
    "def add_to_table(row_name, train_preds, val_preds, test_preds, runtime):\n",
    "  table[row_name] = {}\n",
    "  table[row_name]['runtime'] = runtime\n",
    "  \n",
    "  table[row_name]['Train_RMSE'] = rmse(train_preds, y_train)\n",
    "  table[row_name]['val_RMSE'] = rmse(val_preds, y_val)\n",
    "  table[row_name]['Test_RMSE'] = rmse(test_preds, y_test.values)\n",
    "\n",
    "  table[row_name]['Train_MAE'] = mae(train_preds, y_train)\n",
    "  table[row_name]['val_MAE'] = mae(val_preds, y_val)\n",
    "  table[row_name]['Test_MAE'] = mae(test_preds, y_test.values)\n",
    "  \n",
    "  \n",
    "def save_table():\n",
    "  np.save(path + '/table.npy', table) \n",
    "\n",
    "def load_table():\n",
    "  return np.load(path + '/table.npy').item()\n",
    "\n",
    "def save_all_distinct_words():\n",
    "  np.save(path + '/all_distinct_words.npy', all_distinct_words)\n",
    "\n",
    "def load_all_distinct_words():\n",
    "  return np.load(path + '/all_distinct_words.npy')\n",
    "\n",
    "def save_embedding_matrix(name, embedding_matrix):\n",
    "  np.save(path + '/' + name + '.npy', embedding_matrix)\n",
    "\n",
    "def load_embedding_matrix(name):\n",
    "  return np.load(path + '/' + name + '.npy')\n",
    "\n"
   ]
  },
  {
   "cell_type": "markdown",
   "metadata": {
    "colab_type": "text",
    "id": "gKpNdyKKtn3e"
   },
   "source": [
    "# Load Data"
   ]
  },
  {
   "cell_type": "code",
   "execution_count": 0,
   "metadata": {
    "colab": {},
    "colab_type": "code",
    "id": "lQLzXsFAa8mc"
   },
   "outputs": [],
   "source": [
    "path = '.' #'gdrive/My Drive/DL-workshop-3/all'\n",
    "train_df = pd.read_csv(path + \"/train.csv\",encoding=\"ISO-8859-1\")\n",
    "test_df = pd.read_csv(path + \"/test.csv\",encoding=\"ISO-8859-1\")\n",
    "attributes_df = pd.read_csv(path + \"/attributes.csv\",encoding=\"ISO-8859-1\")\n",
    "product_descriptions_df = pd.read_csv(path + \"/product_descriptions.csv\",encoding=\"ISO-8859-1\")\n",
    "solution_df = pd.read_csv(path + \"/solution.csv\",encoding=\"ISO-8859-1\")"
   ]
  },
  {
   "cell_type": "code",
   "execution_count": 0,
   "metadata": {
    "colab": {
     "base_uri": "https://localhost:8080/",
     "height": 206
    },
    "colab_type": "code",
    "id": "3i0XkLtja8me",
    "outputId": "3edade17-f1f7-4f0f-b7b0-688de24e896d"
   },
   "outputs": [
    {
     "data": {
      "text/html": [
       "<div>\n",
       "<style scoped>\n",
       "    .dataframe tbody tr th:only-of-type {\n",
       "        vertical-align: middle;\n",
       "    }\n",
       "\n",
       "    .dataframe tbody tr th {\n",
       "        vertical-align: top;\n",
       "    }\n",
       "\n",
       "    .dataframe thead th {\n",
       "        text-align: right;\n",
       "    }\n",
       "</style>\n",
       "<table border=\"1\" class=\"dataframe\">\n",
       "  <thead>\n",
       "    <tr style=\"text-align: right;\">\n",
       "      <th></th>\n",
       "      <th>id</th>\n",
       "      <th>product_uid</th>\n",
       "      <th>product_title</th>\n",
       "      <th>search_term</th>\n",
       "      <th>relevance</th>\n",
       "    </tr>\n",
       "  </thead>\n",
       "  <tbody>\n",
       "    <tr>\n",
       "      <th>0</th>\n",
       "      <td>2</td>\n",
       "      <td>100001</td>\n",
       "      <td>Simpson Strong-Tie 12-Gauge Angle</td>\n",
       "      <td>angle bracket</td>\n",
       "      <td>3.00</td>\n",
       "    </tr>\n",
       "    <tr>\n",
       "      <th>1</th>\n",
       "      <td>3</td>\n",
       "      <td>100001</td>\n",
       "      <td>Simpson Strong-Tie 12-Gauge Angle</td>\n",
       "      <td>l bracket</td>\n",
       "      <td>2.50</td>\n",
       "    </tr>\n",
       "    <tr>\n",
       "      <th>2</th>\n",
       "      <td>9</td>\n",
       "      <td>100002</td>\n",
       "      <td>BEHR Premium Textured DeckOver 1-gal. #SC-141 ...</td>\n",
       "      <td>deck over</td>\n",
       "      <td>3.00</td>\n",
       "    </tr>\n",
       "    <tr>\n",
       "      <th>3</th>\n",
       "      <td>16</td>\n",
       "      <td>100005</td>\n",
       "      <td>Delta Vero 1-Handle Shower Only Faucet Trim Ki...</td>\n",
       "      <td>rain shower head</td>\n",
       "      <td>2.33</td>\n",
       "    </tr>\n",
       "    <tr>\n",
       "      <th>4</th>\n",
       "      <td>17</td>\n",
       "      <td>100005</td>\n",
       "      <td>Delta Vero 1-Handle Shower Only Faucet Trim Ki...</td>\n",
       "      <td>shower only faucet</td>\n",
       "      <td>2.67</td>\n",
       "    </tr>\n",
       "  </tbody>\n",
       "</table>\n",
       "</div>"
      ],
      "text/plain": [
       "   id  product_uid                                      product_title  \\\n",
       "0   2       100001                  Simpson Strong-Tie 12-Gauge Angle   \n",
       "1   3       100001                  Simpson Strong-Tie 12-Gauge Angle   \n",
       "2   9       100002  BEHR Premium Textured DeckOver 1-gal. #SC-141 ...   \n",
       "3  16       100005  Delta Vero 1-Handle Shower Only Faucet Trim Ki...   \n",
       "4  17       100005  Delta Vero 1-Handle Shower Only Faucet Trim Ki...   \n",
       "\n",
       "          search_term  relevance  \n",
       "0       angle bracket       3.00  \n",
       "1           l bracket       2.50  \n",
       "2           deck over       3.00  \n",
       "3    rain shower head       2.33  \n",
       "4  shower only faucet       2.67  "
      ]
     },
     "execution_count": 11,
     "metadata": {
      "tags": []
     },
     "output_type": "execute_result"
    }
   ],
   "source": [
    "train_df.head()"
   ]
  },
  {
   "cell_type": "code",
   "execution_count": 0,
   "metadata": {
    "colab": {
     "base_uri": "https://localhost:8080/",
     "height": 206
    },
    "colab_type": "code",
    "id": "to39qPRXmrjQ",
    "outputId": "fbf8e097-bfa6-4372-9223-ef0217a911ce"
   },
   "outputs": [
    {
     "data": {
      "text/html": [
       "<div>\n",
       "<style scoped>\n",
       "    .dataframe tbody tr th:only-of-type {\n",
       "        vertical-align: middle;\n",
       "    }\n",
       "\n",
       "    .dataframe tbody tr th {\n",
       "        vertical-align: top;\n",
       "    }\n",
       "\n",
       "    .dataframe thead th {\n",
       "        text-align: right;\n",
       "    }\n",
       "</style>\n",
       "<table border=\"1\" class=\"dataframe\">\n",
       "  <thead>\n",
       "    <tr style=\"text-align: right;\">\n",
       "      <th></th>\n",
       "      <th>id</th>\n",
       "      <th>product_uid</th>\n",
       "      <th>product_title</th>\n",
       "      <th>search_term</th>\n",
       "      <th>relevance</th>\n",
       "      <th>Usage</th>\n",
       "    </tr>\n",
       "  </thead>\n",
       "  <tbody>\n",
       "    <tr>\n",
       "      <th>1</th>\n",
       "      <td>4</td>\n",
       "      <td>100001</td>\n",
       "      <td>Simpson Strong-Tie 12-Gauge Angle</td>\n",
       "      <td>metal l brackets</td>\n",
       "      <td>2.33</td>\n",
       "      <td>Public</td>\n",
       "    </tr>\n",
       "    <tr>\n",
       "      <th>2</th>\n",
       "      <td>5</td>\n",
       "      <td>100001</td>\n",
       "      <td>Simpson Strong-Tie 12-Gauge Angle</td>\n",
       "      <td>simpson sku able</td>\n",
       "      <td>2.33</td>\n",
       "      <td>Private</td>\n",
       "    </tr>\n",
       "    <tr>\n",
       "      <th>3</th>\n",
       "      <td>6</td>\n",
       "      <td>100001</td>\n",
       "      <td>Simpson Strong-Tie 12-Gauge Angle</td>\n",
       "      <td>simpson strong  ties</td>\n",
       "      <td>2.67</td>\n",
       "      <td>Private</td>\n",
       "    </tr>\n",
       "    <tr>\n",
       "      <th>4</th>\n",
       "      <td>7</td>\n",
       "      <td>100001</td>\n",
       "      <td>Simpson Strong-Tie 12-Gauge Angle</td>\n",
       "      <td>simpson strong tie hcc668</td>\n",
       "      <td>2.00</td>\n",
       "      <td>Public</td>\n",
       "    </tr>\n",
       "    <tr>\n",
       "      <th>6</th>\n",
       "      <td>10</td>\n",
       "      <td>100003</td>\n",
       "      <td>STERLING Ensemble 33-1/4 in. x 60 in. x 75-1/4...</td>\n",
       "      <td>bath and shower kit</td>\n",
       "      <td>2.67</td>\n",
       "      <td>Private</td>\n",
       "    </tr>\n",
       "  </tbody>\n",
       "</table>\n",
       "</div>"
      ],
      "text/plain": [
       "   id  product_uid                                      product_title  \\\n",
       "1   4       100001                  Simpson Strong-Tie 12-Gauge Angle   \n",
       "2   5       100001                  Simpson Strong-Tie 12-Gauge Angle   \n",
       "3   6       100001                  Simpson Strong-Tie 12-Gauge Angle   \n",
       "4   7       100001                  Simpson Strong-Tie 12-Gauge Angle   \n",
       "6  10       100003  STERLING Ensemble 33-1/4 in. x 60 in. x 75-1/4...   \n",
       "\n",
       "                 search_term  relevance    Usage  \n",
       "1           metal l brackets       2.33   Public  \n",
       "2           simpson sku able       2.33  Private  \n",
       "3       simpson strong  ties       2.67  Private  \n",
       "4  simpson strong tie hcc668       2.00   Public  \n",
       "6        bath and shower kit       2.67  Private  "
      ]
     },
     "execution_count": 12,
     "metadata": {
      "tags": []
     },
     "output_type": "execute_result"
    }
   ],
   "source": [
    "test_df.head()"
   ]
  },
  {
   "cell_type": "markdown",
   "metadata": {
    "colab_type": "text",
    "id": "mz8vwxAwsr3S"
   },
   "source": [
    "The *solution.csv* file containing the test set targets, meaning the relevance. But there is some samples in the test set that the *solution.csv* file mark as to be ignored. So we will \n",
    "remove those sample from the test set."
   ]
  },
  {
   "cell_type": "code",
   "execution_count": 0,
   "metadata": {
    "colab": {},
    "colab_type": "code",
    "id": "YTVNmAm_new5"
   },
   "outputs": [],
   "source": [
    "solution_df = solution_df.loc[solution_df['Usage'] != 'Ignored']"
   ]
  },
  {
   "cell_type": "code",
   "execution_count": 6,
   "metadata": {
    "colab": {
     "base_uri": "https://localhost:8080/",
     "height": 198
    },
    "colab_type": "code",
    "id": "CvmqcLhRpeQD",
    "outputId": "66bb5ca2-d30c-4471-9fda-7728dd2d0ff2"
   },
   "outputs": [
    {
     "data": {
      "text/html": [
       "<div>\n",
       "<style scoped>\n",
       "    .dataframe tbody tr th:only-of-type {\n",
       "        vertical-align: middle;\n",
       "    }\n",
       "\n",
       "    .dataframe tbody tr th {\n",
       "        vertical-align: top;\n",
       "    }\n",
       "\n",
       "    .dataframe thead th {\n",
       "        text-align: right;\n",
       "    }\n",
       "</style>\n",
       "<table border=\"1\" class=\"dataframe\">\n",
       "  <thead>\n",
       "    <tr style=\"text-align: right;\">\n",
       "      <th></th>\n",
       "      <th>id</th>\n",
       "      <th>relevance</th>\n",
       "      <th>Usage</th>\n",
       "    </tr>\n",
       "  </thead>\n",
       "  <tbody>\n",
       "    <tr>\n",
       "      <th>1</th>\n",
       "      <td>4</td>\n",
       "      <td>2.33</td>\n",
       "      <td>Public</td>\n",
       "    </tr>\n",
       "    <tr>\n",
       "      <th>2</th>\n",
       "      <td>5</td>\n",
       "      <td>2.33</td>\n",
       "      <td>Private</td>\n",
       "    </tr>\n",
       "    <tr>\n",
       "      <th>3</th>\n",
       "      <td>6</td>\n",
       "      <td>2.67</td>\n",
       "      <td>Private</td>\n",
       "    </tr>\n",
       "    <tr>\n",
       "      <th>4</th>\n",
       "      <td>7</td>\n",
       "      <td>2.00</td>\n",
       "      <td>Public</td>\n",
       "    </tr>\n",
       "    <tr>\n",
       "      <th>6</th>\n",
       "      <td>10</td>\n",
       "      <td>2.67</td>\n",
       "      <td>Private</td>\n",
       "    </tr>\n",
       "  </tbody>\n",
       "</table>\n",
       "</div>"
      ],
      "text/plain": [
       "   id  relevance    Usage\n",
       "1   4       2.33   Public\n",
       "2   5       2.33  Private\n",
       "3   6       2.67  Private\n",
       "4   7       2.00   Public\n",
       "6  10       2.67  Private"
      ]
     },
     "execution_count": 6,
     "metadata": {
      "tags": []
     },
     "output_type": "execute_result"
    }
   ],
   "source": [
    "solution_df.head()"
   ]
  },
  {
   "cell_type": "code",
   "execution_count": 0,
   "metadata": {
    "colab": {},
    "colab_type": "code",
    "id": "_CvcQLaMpDpJ"
   },
   "outputs": [],
   "source": [
    "test_df = test_df.merge(solution_df,on=\"id\",how='left')[:len(solution_df)].dropna()"
   ]
  },
  {
   "cell_type": "code",
   "execution_count": 0,
   "metadata": {
    "colab": {
     "base_uri": "https://localhost:8080/",
     "height": 206
    },
    "colab_type": "code",
    "id": "4CFgPRKipS9s",
    "outputId": "760026d0-d167-4c9c-df73-e4f2b9ff9e04"
   },
   "outputs": [
    {
     "data": {
      "text/html": [
       "<div>\n",
       "<style scoped>\n",
       "    .dataframe tbody tr th:only-of-type {\n",
       "        vertical-align: middle;\n",
       "    }\n",
       "\n",
       "    .dataframe tbody tr th {\n",
       "        vertical-align: top;\n",
       "    }\n",
       "\n",
       "    .dataframe thead th {\n",
       "        text-align: right;\n",
       "    }\n",
       "</style>\n",
       "<table border=\"1\" class=\"dataframe\">\n",
       "  <thead>\n",
       "    <tr style=\"text-align: right;\">\n",
       "      <th></th>\n",
       "      <th>id</th>\n",
       "      <th>product_uid</th>\n",
       "      <th>product_title</th>\n",
       "      <th>search_term</th>\n",
       "      <th>relevance</th>\n",
       "      <th>Usage</th>\n",
       "    </tr>\n",
       "  </thead>\n",
       "  <tbody>\n",
       "    <tr>\n",
       "      <th>1</th>\n",
       "      <td>4</td>\n",
       "      <td>100001</td>\n",
       "      <td>Simpson Strong-Tie 12-Gauge Angle</td>\n",
       "      <td>metal l brackets</td>\n",
       "      <td>2.33</td>\n",
       "      <td>Public</td>\n",
       "    </tr>\n",
       "    <tr>\n",
       "      <th>2</th>\n",
       "      <td>5</td>\n",
       "      <td>100001</td>\n",
       "      <td>Simpson Strong-Tie 12-Gauge Angle</td>\n",
       "      <td>simpson sku able</td>\n",
       "      <td>2.33</td>\n",
       "      <td>Private</td>\n",
       "    </tr>\n",
       "    <tr>\n",
       "      <th>3</th>\n",
       "      <td>6</td>\n",
       "      <td>100001</td>\n",
       "      <td>Simpson Strong-Tie 12-Gauge Angle</td>\n",
       "      <td>simpson strong  ties</td>\n",
       "      <td>2.67</td>\n",
       "      <td>Private</td>\n",
       "    </tr>\n",
       "    <tr>\n",
       "      <th>4</th>\n",
       "      <td>7</td>\n",
       "      <td>100001</td>\n",
       "      <td>Simpson Strong-Tie 12-Gauge Angle</td>\n",
       "      <td>simpson strong tie hcc668</td>\n",
       "      <td>2.00</td>\n",
       "      <td>Public</td>\n",
       "    </tr>\n",
       "    <tr>\n",
       "      <th>6</th>\n",
       "      <td>10</td>\n",
       "      <td>100003</td>\n",
       "      <td>STERLING Ensemble 33-1/4 in. x 60 in. x 75-1/4...</td>\n",
       "      <td>bath and shower kit</td>\n",
       "      <td>2.67</td>\n",
       "      <td>Private</td>\n",
       "    </tr>\n",
       "  </tbody>\n",
       "</table>\n",
       "</div>"
      ],
      "text/plain": [
       "   id  product_uid                                      product_title  \\\n",
       "1   4       100001                  Simpson Strong-Tie 12-Gauge Angle   \n",
       "2   5       100001                  Simpson Strong-Tie 12-Gauge Angle   \n",
       "3   6       100001                  Simpson Strong-Tie 12-Gauge Angle   \n",
       "4   7       100001                  Simpson Strong-Tie 12-Gauge Angle   \n",
       "6  10       100003  STERLING Ensemble 33-1/4 in. x 60 in. x 75-1/4...   \n",
       "\n",
       "                 search_term  relevance    Usage  \n",
       "1           metal l brackets       2.33   Public  \n",
       "2           simpson sku able       2.33  Private  \n",
       "3       simpson strong  ties       2.67  Private  \n",
       "4  simpson strong tie hcc668       2.00   Public  \n",
       "6        bath and shower kit       2.67  Private  "
      ]
     },
     "execution_count": 14,
     "metadata": {
      "tags": []
     },
     "output_type": "execute_result"
    }
   ],
   "source": [
    "test_df.head()"
   ]
  },
  {
   "cell_type": "markdown",
   "metadata": {
    "colab_type": "text",
    "id": "14Zo0q3MtxIB"
   },
   "source": [
    "Now that all the data is loaded correctly we can finally begin the assignment."
   ]
  },
  {
   "cell_type": "markdown",
   "metadata": {
    "colab_type": "text",
    "id": "WnuqLUJhtv0D"
   },
   "source": [
    "# Section 1"
   ]
  },
  {
   "cell_type": "markdown",
   "metadata": {
    "colab_type": "text",
    "id": "OESjlw3et0Hj"
   },
   "source": [
    "## A - Preprocess"
   ]
  },
  {
   "cell_type": "code",
   "execution_count": 0,
   "metadata": {
    "colab": {},
    "colab_type": "code",
    "id": "wTgmzftLa8mj"
   },
   "outputs": [],
   "source": [
    "col_to_use = ['search_term','product_description']\n",
    "target = 'relevance'\n",
    "raw_X_train = train_df.merge(product_descriptions_df,on=\"product_uid\",how='outer')[:74067]\n",
    "Y_train = raw_X_train[target]\n",
    "raw_X_train = raw_X_train[col_to_use]"
   ]
  },
  {
   "cell_type": "code",
   "execution_count": 0,
   "metadata": {
    "colab": {},
    "colab_type": "code",
    "id": "GX4Tqxthm1Et"
   },
   "outputs": [],
   "source": [
    "raw_X_test = test_df.merge(product_descriptions_df,on=\"product_uid\",how='outer')[:len(test_df)]\n",
    "raw_X_test = raw_X_test[col_to_use]\n",
    "y_test = test_df[target]"
   ]
  },
  {
   "cell_type": "markdown",
   "metadata": {
    "colab_type": "text",
    "id": "zCfzUpu3a8mm"
   },
   "source": [
    "We will seperate strings to chars for every sentence."
   ]
  },
  {
   "cell_type": "code",
   "execution_count": 10,
   "metadata": {
    "colab": {
     "base_uri": "https://localhost:8080/",
     "height": 198
    },
    "colab_type": "code",
    "id": "xibGLOJka8mn",
    "outputId": "fd540a48-6f63-4e6b-b136-3d6110e18824"
   },
   "outputs": [
    {
     "data": {
      "text/html": [
       "<div>\n",
       "<style scoped>\n",
       "    .dataframe tbody tr th:only-of-type {\n",
       "        vertical-align: middle;\n",
       "    }\n",
       "\n",
       "    .dataframe tbody tr th {\n",
       "        vertical-align: top;\n",
       "    }\n",
       "\n",
       "    .dataframe thead th {\n",
       "        text-align: right;\n",
       "    }\n",
       "</style>\n",
       "<table border=\"1\" class=\"dataframe\">\n",
       "  <thead>\n",
       "    <tr style=\"text-align: right;\">\n",
       "      <th></th>\n",
       "      <th>search_term</th>\n",
       "      <th>product_description</th>\n",
       "    </tr>\n",
       "  </thead>\n",
       "  <tbody>\n",
       "    <tr>\n",
       "      <th>0</th>\n",
       "      <td>[a, n, g, l, e,  , b, r, a, c, k, e, t]</td>\n",
       "      <td>[N, o, t,  , o, n, l, y,  , d, o,  , a, n, g, ...</td>\n",
       "    </tr>\n",
       "    <tr>\n",
       "      <th>1</th>\n",
       "      <td>[l,  , b, r, a, c, k, e, t]</td>\n",
       "      <td>[N, o, t,  , o, n, l, y,  , d, o,  , a, n, g, ...</td>\n",
       "    </tr>\n",
       "    <tr>\n",
       "      <th>2</th>\n",
       "      <td>[d, e, c, k,  , o, v, e, r]</td>\n",
       "      <td>[B, E, H, R,  , P, r, e, m, i, u, m,  , T, e, ...</td>\n",
       "    </tr>\n",
       "    <tr>\n",
       "      <th>3</th>\n",
       "      <td>[r, a, i, n,  , s, h, o, w, e, r,  , h, e, a, d]</td>\n",
       "      <td>[U, p, d, a, t, e,  , y, o, u, r,  , b, a, t, ...</td>\n",
       "    </tr>\n",
       "    <tr>\n",
       "      <th>4</th>\n",
       "      <td>[s, h, o, w, e, r,  , o, n, l, y,  , f, a, u, ...</td>\n",
       "      <td>[U, p, d, a, t, e,  , y, o, u, r,  , b, a, t, ...</td>\n",
       "    </tr>\n",
       "  </tbody>\n",
       "</table>\n",
       "</div>"
      ],
      "text/plain": [
       "                                         search_term  \\\n",
       "0            [a, n, g, l, e,  , b, r, a, c, k, e, t]   \n",
       "1                        [l,  , b, r, a, c, k, e, t]   \n",
       "2                        [d, e, c, k,  , o, v, e, r]   \n",
       "3   [r, a, i, n,  , s, h, o, w, e, r,  , h, e, a, d]   \n",
       "4  [s, h, o, w, e, r,  , o, n, l, y,  , f, a, u, ...   \n",
       "\n",
       "                                 product_description  \n",
       "0  [N, o, t,  , o, n, l, y,  , d, o,  , a, n, g, ...  \n",
       "1  [N, o, t,  , o, n, l, y,  , d, o,  , a, n, g, ...  \n",
       "2  [B, E, H, R,  , P, r, e, m, i, u, m,  , T, e, ...  \n",
       "3  [U, p, d, a, t, e,  , y, o, u, r,  , b, a, t, ...  \n",
       "4  [U, p, d, a, t, e,  , y, o, u, r,  , b, a, t, ...  "
      ]
     },
     "execution_count": 10,
     "metadata": {
      "tags": []
     },
     "output_type": "execute_result"
    }
   ],
   "source": [
    "raw_X_train['search_term'] = raw_X_train['search_term'].map(list)\n",
    "raw_X_train['product_description'] = raw_X_train['product_description'].map(list)\n",
    "\n",
    "raw_X_test['search_term'] = raw_X_test['search_term'].map(list)\n",
    "raw_X_test['product_description'] = raw_X_test['product_description'].map(list)\n",
    "\n",
    "raw_X_train.head()"
   ]
  },
  {
   "cell_type": "markdown",
   "metadata": {
    "colab_type": "text",
    "id": "2KimTb3iMELr"
   },
   "source": [
    "Before splitting to train and validation sets let's have a look of the possible target values."
   ]
  },
  {
   "cell_type": "code",
   "execution_count": 0,
   "metadata": {
    "colab": {
     "base_uri": "https://localhost:8080/",
     "height": 54
    },
    "colab_type": "code",
    "id": "DMbW5u_PLCz2",
    "outputId": "68dc8fde-1cea-4e3d-9388-08fef7caa586"
   },
   "outputs": [
    {
     "data": {
      "text/plain": [
       "array([1.  , 1.25, 1.33, 1.5 , 1.67, 1.75, 2.  , 2.25, 2.33, 2.5 , 2.67,\n",
       "       2.75, 3.  ])"
      ]
     },
     "execution_count": 15,
     "metadata": {
      "tags": []
     },
     "output_type": "execute_result"
    }
   ],
   "source": [
    "np.unique(Y_train.values)"
   ]
  },
  {
   "cell_type": "code",
   "execution_count": 0,
   "metadata": {
    "colab": {
     "base_uri": "https://localhost:8080/",
     "height": 36
    },
    "colab_type": "code",
    "id": "mmoZEW56MSie",
    "outputId": "a029f5bc-8022-4508-a0cb-ddb926e35320"
   },
   "outputs": [
    {
     "data": {
      "text/plain": [
       "13"
      ]
     },
     "execution_count": 16,
     "metadata": {
      "tags": []
     },
     "output_type": "execute_result"
    }
   ],
   "source": [
    "len(np.unique(Y_train.values))"
   ]
  },
  {
   "cell_type": "markdown",
   "metadata": {
    "colab_type": "text",
    "id": "PMhEWJtlMYsl"
   },
   "source": [
    "We see that there a limited and small number of possible values, only $13$.<br>\n",
    "Let's observe if the data is balanced between all the $13$ \"classes\". "
   ]
  },
  {
   "cell_type": "code",
   "execution_count": 0,
   "metadata": {
    "colab": {
     "base_uri": "https://localhost:8080/",
     "height": 265
    },
    "colab_type": "code",
    "id": "wk4MmcNrCbVf",
    "outputId": "bddc292d-65f7-4a86-8b12-7ed99437ab5c"
   },
   "outputs": [
    {
     "data": {
      "image/png": "[encoded data removed]",
      "text/plain": [
       "<matplotlib.figure.Figure at 0x7f6d15e9b358>"
      ]
     },
     "metadata": {
      "tags": []
     },
     "output_type": "display_data"
    }
   ],
   "source": [
    "plt.hist(Y_train.values, np.unique(Y_train.values),density=True, histtype='bar')\n",
    "plt.show()"
   ]
  },
  {
   "cell_type": "markdown",
   "metadata": {
    "colab_type": "text",
    "id": "O4EASoObK0ws"
   },
   "source": [
    "From the plot above we observe that the data is unbiased between all the $13$ unique value of the target.<br>\n",
    "We can see that there are the least examples where the target is less then $2$. So while splitting to train and validation set we will make sure that this \"classes\" is split equally between the sets."
   ]
  },
  {
   "cell_type": "code",
   "execution_count": 0,
   "metadata": {
    "colab": {},
    "colab_type": "code",
    "id": "t7qXzVEcSq1e"
   },
   "outputs": [],
   "source": [
    "def train_test_split(X, Y, test_size=0.2):\n",
    "  index_ones = [i for i, x in enumerate(Y) if x <= 1.75]\n",
    "  index_other = [i for i, x in enumerate(Y) if x > 1.75]\n",
    "  assert len(index_ones) + len(index_other) == len(Y)\n",
    "  \n",
    "  train_size = int(len(X['search_term'])*(1-test_size))\n",
    "  assert train_size > len(index_ones) // 2\n",
    "  ones_in_train = len(index_ones) // 2\n",
    "  other_in_train = train_size - ones_in_train\n",
    "  \n",
    "  train_indexs = index_ones[:ones_in_train] + index_other[:other_in_train]\n",
    "  test_indexs = index_ones[ones_in_train:] + index_other[other_in_train:]\n",
    "  shuffle(train_indexs)\n",
    "  shuffle(test_indexs)\n",
    "  \n",
    "  x_train = {}\n",
    "  x_train['search_term'] = np.array([X['search_term'][i] for i in train_indexs])\n",
    "  x_train['product_description'] = np.array([X['product_description'][i] for i in train_indexs])\n",
    "  y_train = np.array([Y[i] for i in train_indexs])\n",
    "  \n",
    "  x_val = {}\n",
    "  x_val['search_term'] = np.array([X['search_term'][i] for i in test_indexs])\n",
    "  x_val['product_description'] = np.array([X['product_description'][i] for i in test_indexs])\n",
    "  y_val = np.array([Y[i] for i in test_indexs])\n",
    "  \n",
    "  return (x_train, y_train), (x_val, y_val)"
   ]
  },
  {
   "cell_type": "code",
   "execution_count": 10,
   "metadata": {
    "colab": {
     "base_uri": "https://localhost:8080/",
     "height": 163
    },
    "colab_type": "code",
    "id": "SxWivEWzQG0h",
    "outputId": "83085d37-f3ae-43a2-ed97-1f43d5da1cf0"
   },
   "outputs": [
    {
     "name": "stdout",
     "output_type": "stream",
     "text": [
      "Train:\n",
      "\tx_train['search_term'].shape:(59253,)\n",
      "\tx_train['product_description'].shape:(59253,)\n",
      "\ty_train.shape:(59253,)\n",
      "Val:\n",
      "\tx_val['search_term'].shape:(14814,)\n",
      "\tx_val['product_description'].shape:(14814,)\n",
      "\ty_val.shape:(14814,)\n"
     ]
    }
   ],
   "source": [
    "(raw_x_train, y_train), (raw_x_val, y_val) = train_test_split(raw_X_train, Y_train.values)\n",
    "\n",
    "print('Train:\\n\\tx_train[\\'search_term\\'].shape:{}'.format(raw_x_train['search_term'].shape))\n",
    "print('\\tx_train[\\'product_description\\'].shape:{}'.format(raw_x_train['product_description'].shape))\n",
    "print('\\ty_train.shape:{}'.format(y_train.shape))\n",
    "print('Val:\\n\\tx_val[\\'search_term\\'].shape:{}'.format(raw_x_val['search_term'].shape))\n",
    "print('\\tx_val[\\'product_description\\'].shape:{}'.format(raw_x_val['product_description'].shape))\n",
    "print('\\ty_val.shape:{}'.format(y_val.shape))"
   ]
  },
  {
   "cell_type": "code",
   "execution_count": 0,
   "metadata": {
    "colab": {
     "base_uri": "https://localhost:8080/",
     "height": 54
    },
    "colab_type": "code",
    "id": "ELs5VXzCNw8U",
    "outputId": "dc0b383c-15f9-40a6-ce0d-5babd9feb331"
   },
   "outputs": [
    {
     "name": "stdout",
     "output_type": "stream",
     "text": [
      "number of ones in train: 5954\n",
      "number of ones in val: 5955\n"
     ]
    }
   ],
   "source": [
    "one_in_train = len([i for i, x in enumerate(y_train) if x <= 1.75])\n",
    "one_in_val = len([i for i, x in enumerate(y_val) if x <= 1.75])\n",
    "print('number of ones in train: {}'.format(one_in_train))\n",
    "print('number of ones in val: {}'.format(one_in_val))"
   ]
  },
  {
   "cell_type": "code",
   "execution_count": 0,
   "metadata": {
    "colab": {
     "base_uri": "https://localhost:8080/",
     "height": 513
    },
    "colab_type": "code",
    "id": "k4TUxnSMh3NR",
    "outputId": "bf8203f4-f941-4546-b3eb-0d1d040a183e"
   },
   "outputs": [
    {
     "data": {
      "image/png": "[encoded data removed]",
      "text/plain": [
       "<matplotlib.figure.Figure at 0x7f6d0c0e3198>"
      ]
     },
     "metadata": {
      "tags": []
     },
     "output_type": "display_data"
    },
    {
     "data": {
      "image/png": "[encoded data removed]",
      "text/plain": [
       "<matplotlib.figure.Figure at 0x7f6d0bb91518>"
      ]
     },
     "metadata": {
      "tags": []
     },
     "output_type": "display_data"
    }
   ],
   "source": [
    "plt.hist(y_train,density=True, histtype='bar', rwidth=0.4)\n",
    "plt.show()\n",
    "plt.hist(y_val,density=True, histtype='bar', rwidth=0.4)\n",
    "plt.show()"
   ]
  },
  {
   "cell_type": "code",
   "execution_count": 0,
   "metadata": {
    "colab": {
     "base_uri": "https://localhost:8080/",
     "height": 36
    },
    "colab_type": "code",
    "id": "KOwjecTba8mq",
    "outputId": "cfd9b169-426c-49ae-c888-698532d27f91"
   },
   "outputs": [
    {
     "name": "stdout",
     "output_type": "stream",
     "text": [
      "number of disticnt chars in the train set: 94\n"
     ]
    }
   ],
   "source": [
    "all_distinct_chars = raw_x_train['search_term'].tolist() + \\\n",
    "                     raw_x_train['product_description'].tolist() + \\\n",
    "                     raw_x_val['search_term'].tolist() + \\\n",
    "                     raw_x_val['product_description'].tolist()\n",
    "all_distinct_chars = set(reduce(lambda acc,c: acc.union(set(c)),all_distinct_chars,set()))\n",
    "print('number of disticnt chars in the train set: {}'.format(len(all_distinct_chars)))"
   ]
  },
  {
   "cell_type": "markdown",
   "metadata": {
    "colab_type": "text",
    "id": "0Xy0CE-RuViN"
   },
   "source": [
    "Notice that we don't expect to encounter an unseen char at the test set."
   ]
  },
  {
   "cell_type": "markdown",
   "metadata": {
    "colab_type": "text",
    "id": "4fCy21LyqYJG"
   },
   "source": [
    "Now we will tokeniz the data, where ```num_words``` will be $94$ the number of distincts chars."
   ]
  },
  {
   "cell_type": "code",
   "execution_count": 0,
   "metadata": {
    "colab": {},
    "colab_type": "code",
    "id": "ddwJI2-Xa8mv"
   },
   "outputs": [],
   "source": [
    "tokenizer = Tokenizer(num_words=94)\n",
    "tokenizer.fit_on_texts(list(all_distinct_chars))"
   ]
  },
  {
   "cell_type": "code",
   "execution_count": 0,
   "metadata": {
    "colab": {},
    "colab_type": "code",
    "id": "e-Kw-lcwvFvs"
   },
   "outputs": [],
   "source": [
    "X_train = dict()\n",
    "X_train['search_term'] = tokenizer.texts_to_sequences(raw_x_train['search_term'])\n",
    "X_train['product_description'] = tokenizer.texts_to_sequences(raw_x_train['product_description'])\n",
    "\n",
    "X_val = dict()\n",
    "X_val['search_term'] = tokenizer.texts_to_sequences(raw_x_val['search_term'])\n",
    "X_val['product_description'] = tokenizer.texts_to_sequences(raw_x_val['product_description'])\n",
    "\n",
    "X_test = dict()\n",
    "X_test['search_term'] = tokenizer.texts_to_sequences(raw_X_test['search_term'].values)\n",
    "X_test['product_description'] = tokenizer.texts_to_sequences(raw_X_test['product_description'].values)"
   ]
  },
  {
   "cell_type": "markdown",
   "metadata": {
    "colab_type": "text",
    "id": "ycs4wqdGa8m2"
   },
   "source": [
    "We will check the mean length of description and terms and we will padd every shorter input."
   ]
  },
  {
   "cell_type": "code",
   "execution_count": 0,
   "metadata": {
    "colab": {
     "base_uri": "https://localhost:8080/",
     "height": 54
    },
    "colab_type": "code",
    "id": "OjacP6ry3-Zq",
    "outputId": "2b175387-6108-4f7d-b618-6b1e7590581a"
   },
   "outputs": [
    {
     "name": "stdout",
     "output_type": "stream",
     "text": [
      "search terms sequences length: 16\n",
      "product description sequences length: 730\n"
     ]
    }
   ],
   "source": [
    "search_terms_lens = int(np.array([len(term) for term in X_train['search_term']] + \\\n",
    "                                 [len(term) for term in X_val['search_term']]).mean())\n",
    "produc_lens = int(np.array([len(p) for p in X_train['product_description']] + \\\n",
    "                           [len(p) for p in X_val['product_description']]).mean())\n",
    "\n",
    "print('search terms sequences length: {}'.format(search_terms_lens))\n",
    "print('product description sequences length: {}'.format(produc_lens))"
   ]
  },
  {
   "cell_type": "code",
   "execution_count": 0,
   "metadata": {
    "colab": {},
    "colab_type": "code",
    "id": "T9G7EDJ3a8m3"
   },
   "outputs": [],
   "source": [
    "X_train['search_term'] = pad_sequences(X_train['search_term'],maxlen=search_terms_lens)\n",
    "X_train['product_description'] = pad_sequences(X_train['product_description'],maxlen=int(produc_lens))\n",
    "\n",
    "X_val['search_term'] = pad_sequences(X_val['search_term'],maxlen=search_terms_lens)\n",
    "X_val['product_description'] = pad_sequences(X_val['product_description'],maxlen=int(produc_lens))\n",
    "\n",
    "X_test['search_term'] = pad_sequences(X_test['search_term'],maxlen=search_terms_lens)\n",
    "X_test['product_description'] = pad_sequences(X_test['product_description'],maxlen=int(produc_lens))"
   ]
  },
  {
   "cell_type": "markdown",
   "metadata": {
    "colab_type": "text",
    "id": "F7hVlp3Bu5mR"
   },
   "source": [
    "Now that we finished the pre processing let's take a look of the shape of the train and test sets."
   ]
  },
  {
   "cell_type": "code",
   "execution_count": 0,
   "metadata": {
    "colab": {
     "base_uri": "https://localhost:8080/",
     "height": 167
    },
    "colab_type": "code",
    "id": "DLzdmAb41I51",
    "outputId": "a124bb57-1086-412e-a6c8-85b7c36b84b5"
   },
   "outputs": [
    {
     "name": "stdout",
     "output_type": "stream",
     "text": [
      "X_train['search_term'].shape: (59253, 16)\n",
      "X_train['product_description'].shape: (59253, 730)\n",
      "\n",
      "X_val['search_term'].shape: (14814, 16)\n",
      "X_val['product_description'].shape: (14814, 730)\n",
      "\n",
      "X_test['search_term'].shape: (83447, 16)\n",
      "X_test['product_description'].shape: (83447, 730)\n"
     ]
    }
   ],
   "source": [
    "print('X_train[\\'search_term\\'].shape: {}'.format(X_train['search_term'].shape))\n",
    "print('X_train[\\'product_description\\'].shape: {}\\n'.format(X_train['product_description'].shape))\n",
    "\n",
    "print('X_val[\\'search_term\\'].shape: {}'.format(X_val['search_term'].shape))\n",
    "print('X_val[\\'product_description\\'].shape: {}\\n'.format(X_val['product_description'].shape))\n",
    "\n",
    "print('X_test[\\'search_term\\'].shape: {}'.format(X_test['search_term'].shape))\n",
    "print('X_test[\\'product_description\\'].shape: {}'.format(X_test['product_description'].shape))"
   ]
  },
  {
   "cell_type": "markdown",
   "metadata": {
    "colab_type": "text",
    "id": "HdZao8wfa8m6"
   },
   "source": [
    "## B - Siamese Network"
   ]
  },
  {
   "cell_type": "markdown",
   "metadata": {
    "colab_type": "text",
    "id": "KiwtLuIniV2O"
   },
   "source": [
    "The LSTM layer accepts as input three-dimensional tensor. Where the first dimension is the number of the samples. The second dimension is the amount of characters (The \"time dimension\"). And the third dimension is the representation size of a character, wihch is $1$.<br>\n",
    "This means that we need to reshape the data."
   ]
  },
  {
   "cell_type": "code",
   "execution_count": 0,
   "metadata": {
    "colab": {},
    "colab_type": "code",
    "id": "ATPk_vJDXS1t"
   },
   "outputs": [],
   "source": [
    "def my_reshape(X):\n",
    "  X['search_term'] = X['search_term'].reshape((X['search_term'].shape[0], X['search_term'].shape[1], 1))\n",
    "  X['product_description'] = X['product_description'].reshape((X['product_description'].shape[0], X['product_description'].shape[1], 1))\n",
    "  return X"
   ]
  },
  {
   "cell_type": "code",
   "execution_count": 0,
   "metadata": {
    "colab": {
     "base_uri": "https://localhost:8080/",
     "height": 167
    },
    "colab_type": "code",
    "id": "4ODa0yrVn04p",
    "outputId": "36e8050b-6a71-4e7f-d5b6-5ee408af9d09"
   },
   "outputs": [
    {
     "name": "stdout",
     "output_type": "stream",
     "text": [
      "X_train search_term shape: (59253, 16, 1)\n",
      "X_train product_description shape: (59253, 730, 1)\n",
      "\n",
      "X_val search_term shape: (14814, 16, 1)\n",
      "X_val product_description shape: (14814, 730, 1)\n",
      "\n",
      "X_test search_term shape: (83447, 16, 1)\n",
      "X_train product_description shape: (83447, 730, 1)\n"
     ]
    }
   ],
   "source": [
    "X_train = my_reshape(X_train)\n",
    "print('X_train search_term shape: {}'.format(X_train['search_term'].shape))\n",
    "print('X_train product_description shape: {}\\n'.format(X_train['product_description'].shape))\n",
    "\n",
    "X_val = my_reshape(X_val)\n",
    "print('X_val search_term shape: {}'.format(X_val['search_term'].shape))\n",
    "print('X_val product_description shape: {}\\n'.format(X_val['product_description'].shape))\n",
    "\n",
    "X_test = my_reshape(X_test)\n",
    "print('X_test search_term shape: {}'.format(X_test['search_term'].shape))\n",
    "print('X_train product_description shape: {}'.format(X_test['product_description'].shape))"
   ]
  },
  {
   "cell_type": "markdown",
   "metadata": {
    "colab_type": "text",
    "id": "7NBx8jkqvgLY"
   },
   "source": [
    "We notice that the scores at the Home depot product search relevance competition are *RMSE*. So we'll use this metric to determine whether our models do a good job."
   ]
  },
  {
   "cell_type": "code",
   "execution_count": 0,
   "metadata": {
    "colab": {},
    "colab_type": "code",
    "id": "1OoLoNb6JJDn"
   },
   "outputs": [],
   "source": [
    "def rmse(y1, y2):\n",
    "  return sqrt(mean_squared_error(y1, y2)) "
   ]
  },
  {
   "cell_type": "markdown",
   "metadata": {
    "colab_type": "text",
    "id": "dpjKRbsDa8m7"
   },
   "source": [
    "Now, we will create a LSTM-NN based on siamese networks archicheture. <br>\n",
    "We will use negative manhattan distance as similarity function. Pay attention to that this function output is between $0$ to $1$ and our targets range is between $1$ to $3$, so we will use ```norm_to_1_3``` method, as written below, in order to rescale the results."
   ]
  },
  {
   "cell_type": "code",
   "execution_count": 0,
   "metadata": {
    "colab": {},
    "colab_type": "code",
    "id": "jmbogNwha8m7"
   },
   "outputs": [],
   "source": [
    "#hyper params:\n",
    "lstm_n_hidden = 50\n",
    "gradient_clipping_norm = 1.25\n",
    "\n",
    "def exponent_neg_manhattan_distance(left, right):\n",
    "    ''' Helper function for the similarity estimate of the LSTMs outputs'''\n",
    "    return K.exp(-K.sum(K.abs(left-right), axis=1, keepdims=True))\n",
    "\n",
    "def norm_to_1_3(m):\n",
    "  return (m * 2) + 1 "
   ]
  },
  {
   "cell_type": "markdown",
   "metadata": {
    "colab_type": "text",
    "id": "l6mLWKdtZS8q"
   },
   "source": [
    "We will use CuDNNLSTM which is fast LSTM implementation with CuDNN.\n",
    "\n"
   ]
  },
  {
   "cell_type": "code",
   "execution_count": 0,
   "metadata": {
    "colab": {
     "base_uri": "https://localhost:8080/",
     "height": 335
    },
    "colab_type": "code",
    "id": "WRbxu7dqa8m-",
    "outputId": "65248f9e-5ac5-4834-ddb5-893fbf18d14a"
   },
   "outputs": [
    {
     "name": "stdout",
     "output_type": "stream",
     "text": [
      "__________________________________________________________________________________________________\n",
      "Layer (type)                    Output Shape         Param #     Connected to                     \n",
      "==================================================================================================\n",
      "term_input (InputLayer)         (None, 16, 1)        0                                            \n",
      "__________________________________________________________________________________________________\n",
      "product_input (InputLayer)      (None, 730, 1)       0                                            \n",
      "__________________________________________________________________________________________________\n",
      "shared_model (Sequential)       (None, 128)          17128       term_input[0][0]                 \n",
      "                                                                 product_input[0][0]              \n",
      "__________________________________________________________________________________________________\n",
      "prediction (Lambda)             (None, 1)            0           shared_model[1][0]               \n",
      "                                                                 shared_model[2][0]               \n",
      "==================================================================================================\n",
      "Total params: 17,128\n",
      "Trainable params: 17,128\n",
      "Non-trainable params: 0\n",
      "__________________________________________________________________________________________________\n"
     ]
    }
   ],
   "source": [
    "term_input = Input(shape=(search_terms_lens, 1), name='term_input')\n",
    "product_input = Input(shape=(produc_lens, 1), name='product_input')\n",
    "\n",
    "shared_lstm = Sequential(name='shared_model')\n",
    "shared_lstm.add(CuDNNLSTM(lstm_n_hidden))\n",
    "shared_lstm.add(Dense(128, activation='relu'))\n",
    "\n",
    "output = Lambda(function=lambda x: norm_to_1_3(exponent_neg_manhattan_distance(x[0], x[1])),\n",
    "                output_shape=lambda x: (x[0][0], 1),\n",
    "                name='prediction')([shared_lstm(term_input), shared_lstm(product_input)])\n",
    "\n",
    "model = Model(inputs=[term_input, product_input], outputs=[output])\n",
    "optimizer = Adadelta(clipnorm=gradient_clipping_norm)\n",
    "model.compile(loss='mse', optimizer=optimizer)\n",
    "model.summary()"
   ]
  },
  {
   "cell_type": "code",
   "execution_count": 0,
   "metadata": {
    "colab": {
     "base_uri": "https://localhost:8080/",
     "height": 1158
    },
    "colab_type": "code",
    "id": "rCV5lCPca8nD",
    "outputId": "c636ae81-96c6-4067-e9d9-fb6045ed8f0e"
   },
   "outputs": [
    {
     "name": "stdout",
     "output_type": "stream",
     "text": [
      "Train on 59253 samples, validate on 14814 samples\n",
      "Epoch 1/30\n",
      "59253/59253 [==============================] - 15s 260us/step - loss: 0.4702 - val_loss: 0.5022\n",
      "Epoch 2/30\n",
      "59253/59253 [==============================] - 11s 188us/step - loss: 0.2627 - val_loss: 0.5025\n",
      "Epoch 3/30\n",
      "59253/59253 [==============================] - 11s 188us/step - loss: 0.2469 - val_loss: 0.4618\n",
      "Epoch 4/30\n",
      "59253/59253 [==============================] - 11s 189us/step - loss: 0.2420 - val_loss: 0.4477\n",
      "Epoch 5/30\n",
      "59253/59253 [==============================] - 11s 189us/step - loss: 0.2405 - val_loss: 0.4495\n",
      "Epoch 6/30\n",
      "59253/59253 [==============================] - 11s 189us/step - loss: 0.2391 - val_loss: 0.5429\n",
      "Epoch 7/30\n",
      "59253/59253 [==============================] - 11s 190us/step - loss: 0.2389 - val_loss: 0.5322\n",
      "Epoch 8/30\n",
      "59253/59253 [==============================] - 11s 190us/step - loss: 0.2378 - val_loss: 0.5216\n",
      "Epoch 9/30\n",
      "59253/59253 [==============================] - 11s 190us/step - loss: 0.2373 - val_loss: 0.4765\n",
      "Epoch 10/30\n",
      "59253/59253 [==============================] - 11s 191us/step - loss: 0.2361 - val_loss: 0.4437\n",
      "Epoch 11/30\n",
      "59253/59253 [==============================] - 11s 191us/step - loss: 0.2362 - val_loss: 0.4973\n",
      "Epoch 12/30\n",
      "59253/59253 [==============================] - 11s 192us/step - loss: 0.2356 - val_loss: 0.4930\n",
      "Epoch 13/30\n",
      "59253/59253 [==============================] - 11s 190us/step - loss: 0.2354 - val_loss: 0.4534\n",
      "Epoch 14/30\n",
      "59253/59253 [==============================] - 11s 190us/step - loss: 0.2352 - val_loss: 0.5010\n",
      "Epoch 15/30\n",
      "59253/59253 [==============================] - 11s 191us/step - loss: 0.2352 - val_loss: 0.4580\n",
      "Epoch 16/30\n",
      "59253/59253 [==============================] - 11s 191us/step - loss: 0.2350 - val_loss: 0.4709\n",
      "Epoch 17/30\n",
      "59253/59253 [==============================] - 11s 190us/step - loss: 0.2343 - val_loss: 0.4784\n",
      "Epoch 18/30\n",
      "59253/59253 [==============================] - 11s 190us/step - loss: 0.2347 - val_loss: 0.4928\n",
      "Epoch 19/30\n",
      "59253/59253 [==============================] - 11s 190us/step - loss: 0.2342 - val_loss: 0.4782\n",
      "Epoch 20/30\n",
      "59253/59253 [==============================] - 11s 191us/step - loss: 0.2352 - val_loss: 0.4882\n",
      "Epoch 21/30\n",
      "59253/59253 [==============================] - 11s 190us/step - loss: 0.2342 - val_loss: 0.4869\n",
      "Epoch 22/30\n",
      "59253/59253 [==============================] - 11s 190us/step - loss: 0.2344 - val_loss: 0.4661\n",
      "Epoch 23/30\n",
      "59253/59253 [==============================] - 11s 190us/step - loss: 0.2342 - val_loss: 0.4915\n",
      "Epoch 24/30\n",
      "59253/59253 [==============================] - 11s 189us/step - loss: 0.2337 - val_loss: 0.4792\n",
      "Epoch 25/30\n",
      "59253/59253 [==============================] - 11s 190us/step - loss: 0.2339 - val_loss: 0.4534\n",
      "Epoch 26/30\n",
      "59253/59253 [==============================] - 11s 190us/step - loss: 0.2337 - val_loss: 0.5039\n",
      "Epoch 27/30\n",
      "59253/59253 [==============================] - 11s 191us/step - loss: 0.2342 - val_loss: 0.5441\n",
      "Epoch 28/30\n",
      "59253/59253 [==============================] - 11s 190us/step - loss: 0.2339 - val_loss: 0.4657\n",
      "Epoch 29/30\n",
      "59253/59253 [==============================] - 11s 190us/step - loss: 0.2333 - val_loss: 0.5066\n",
      "Epoch 30/30\n",
      "59253/59253 [==============================] - 11s 190us/step - loss: 0.2336 - val_loss: 0.5317\n"
     ]
    }
   ],
   "source": [
    "cp = ModelCheckpoint(path + '/best_model_weights_char.h5',save_best_only=True)\n",
    "start_time = time.time()\n",
    "model_hist = model.fit([X_train['search_term'], X_train['product_description']], \n",
    "                       y_train, \n",
    "                       validation_data=[[X_val['search_term'], X_val['product_description']], y_val], \n",
    "                       epochs=30, batch_size=1024, callbacks=[cp])\n",
    "end_time = time.time()"
   ]
  },
  {
   "cell_type": "code",
   "execution_count": 0,
   "metadata": {
    "colab": {},
    "colab_type": "code",
    "id": "AcD2Y4lqtSl9"
   },
   "outputs": [],
   "source": [
    "model.load_weights(path + '/best_model_weights_char.h5')"
   ]
  },
  {
   "cell_type": "code",
   "execution_count": 0,
   "metadata": {
    "colab": {
     "base_uri": "https://localhost:8080/",
     "height": 349
    },
    "colab_type": "code",
    "id": "yxfqEO0VMGv2",
    "outputId": "6e6a32a0-0526-41d3-aec2-31b89eb745a8"
   },
   "outputs": [
    {
     "data": {
      "image/png": "[encoded data removed]",
      "text/plain": [
       "<matplotlib.figure.Figure at 0x7f6d0eb2ed30>"
      ]
     },
     "metadata": {
      "tags": []
     },
     "output_type": "display_data"
    }
   ],
   "source": [
    "plot_model_history(model_hist.history)"
   ]
  },
  {
   "cell_type": "markdown",
   "metadata": {
    "colab_type": "text",
    "id": "1V5qzuOvfrOx"
   },
   "source": [
    "It looks like the model is overfitting the train set. But before making such strong claim let's look how it dose on the test set."
   ]
  },
  {
   "cell_type": "code",
   "execution_count": 0,
   "metadata": {
    "colab": {},
    "colab_type": "code",
    "id": "p18v-STknQTq"
   },
   "outputs": [],
   "source": [
    "train_preds = model.predict([X_train['search_term'] , X_train['product_description']])\n",
    "val_preds = model.predict([X_val['search_term'] , X_val['product_description']])\n",
    "test_preds = model.predict([X_test['search_term'] , X_test['product_description']])"
   ]
  },
  {
   "cell_type": "code",
   "execution_count": 0,
   "metadata": {
    "colab": {
     "base_uri": "https://localhost:8080/",
     "height": 80
    },
    "colab_type": "code",
    "id": "Ai5JxjPfJ5pQ",
    "outputId": "cc5969fa-3091-41e2-c9eb-738bcee54098"
   },
   "outputs": [
    {
     "data": {
      "text/html": [
       "<div>\n",
       "<style scoped>\n",
       "    .dataframe tbody tr th:only-of-type {\n",
       "        vertical-align: middle;\n",
       "    }\n",
       "\n",
       "    .dataframe tbody tr th {\n",
       "        vertical-align: top;\n",
       "    }\n",
       "\n",
       "    .dataframe thead th {\n",
       "        text-align: right;\n",
       "    }\n",
       "</style>\n",
       "<table border=\"1\" class=\"dataframe\">\n",
       "  <thead>\n",
       "    <tr style=\"text-align: right;\">\n",
       "      <th></th>\n",
       "      <th>Test_MAE</th>\n",
       "      <th>Test_RMSE</th>\n",
       "      <th>Train_MAE</th>\n",
       "      <th>Train_RMSE</th>\n",
       "      <th>runtime</th>\n",
       "      <th>val_MAE</th>\n",
       "      <th>val_RMSE</th>\n",
       "    </tr>\n",
       "  </thead>\n",
       "  <tbody>\n",
       "    <tr>\n",
       "      <th>CharacterLSTM</th>\n",
       "      <td>0.43962</td>\n",
       "      <td>0.529653</td>\n",
       "      <td>0.407273</td>\n",
       "      <td>0.490909</td>\n",
       "      <td>344.96823</td>\n",
       "      <td>0.548179</td>\n",
       "      <td>0.66613</td>\n",
       "    </tr>\n",
       "  </tbody>\n",
       "</table>\n",
       "</div>"
      ],
      "text/plain": [
       "               Test_MAE  Test_RMSE  Train_MAE  Train_RMSE    runtime  \\\n",
       "CharacterLSTM   0.43962   0.529653   0.407273    0.490909  344.96823   \n",
       "\n",
       "                val_MAE  val_RMSE  \n",
       "CharacterLSTM  0.548179   0.66613  "
      ]
     },
     "execution_count": 49,
     "metadata": {
      "tags": []
     },
     "output_type": "execute_result"
    }
   ],
   "source": [
    "table = load_table()\n",
    "add_to_table('CharacterLSTM', train_preds, val_preds, test_preds, end_time - start_time)\n",
    "pd.DataFrame.from_dict(table).T"
   ]
  },
  {
   "cell_type": "code",
   "execution_count": 0,
   "metadata": {
    "colab": {},
    "colab_type": "code",
    "id": "Jx4LCTFgS1ys"
   },
   "outputs": [],
   "source": [
    "#save_table()"
   ]
  },
  {
   "cell_type": "code",
   "execution_count": 0,
   "metadata": {
    "colab": {
     "base_uri": "https://localhost:8080/",
     "height": 334
    },
    "colab_type": "code",
    "id": "LFs1a-95nUPe",
    "outputId": "b4bc731d-2516-456c-8d0c-cf0525bf8f7d"
   },
   "outputs": [
    {
     "name": "stdout",
     "output_type": "stream",
     "text": [
      "Test\n",
      "RMSE: 0.5297\n"
     ]
    },
    {
     "data": {
      "image/png": "[encoded data removed]",
      "text/plain": [
       "<matplotlib.figure.Figure at 0x7f6d0eb2e9b0>"
      ]
     },
     "metadata": {
      "tags": []
     },
     "output_type": "display_data"
    }
   ],
   "source": [
    "print('Test')\n",
    "plot_results(test_preds, y_test.values)"
   ]
  },
  {
   "cell_type": "markdown",
   "metadata": {
    "colab_type": "text",
    "id": "vme-pGiew4I9"
   },
   "source": [
    "We can observe that the *RMSE* score on the test set is pretty low. The best score in the competition is $0.43192$. We can observe that is a small increase of $0.095033$. But mach better result from the *All Ones Benchmark* which is $1.48151$. (We will discuss other benchmarks in the next section).<br>\n",
    "We can see that the model is failing to predict the relevance the are below $1.5$. And has more focus on the $1.33$ to $2.67$ relevance. (You can see below all the unique values of the relevance)."
   ]
  },
  {
   "cell_type": "code",
   "execution_count": 0,
   "metadata": {
    "colab": {
     "base_uri": "https://localhost:8080/",
     "height": 36
    },
    "colab_type": "code",
    "id": "nmZwU3ByzXcy",
    "outputId": "b152b88a-258d-4913-9bf9-8d46990cca65"
   },
   "outputs": [
    {
     "data": {
      "text/plain": [
       "{1.0, 1.25, 1.33, 1.5, 1.67, 1.75, 2.0, 2.25, 2.33, 2.5, 2.67, 2.75, 3.0}"
      ]
     },
     "execution_count": 51,
     "metadata": {
      "tags": []
     },
     "output_type": "execute_result"
    }
   ],
   "source": [
    "set(np.hstack((np.unique(y_train), np.unique(y_val))))"
   ]
  },
  {
   "cell_type": "markdown",
   "metadata": {
    "colab_type": "text",
    "id": "xVAj_orhsHo-"
   },
   "source": [
    "## C - Naïve Benchmark Model"
   ]
  },
  {
   "cell_type": "markdown",
   "metadata": {
    "colab_type": "text",
    "id": "c5GVrtFToXpA"
   },
   "source": [
    "For the naïve benchmark model we will use ```CountVectorizer``` in order to incode the character sequence of search term and the product description. After transpormin all the input data each input will be represented by $2$ vectores. This is a \"BoW\" representacion (more like \"bag of character\")."
   ]
  },
  {
   "cell_type": "code",
   "execution_count": 0,
   "metadata": {
    "colab": {},
    "colab_type": "code",
    "id": "K77432rUQ-Ci"
   },
   "outputs": [],
   "source": [
    "raw_data_list = np.hstack((raw_x_train['search_term'], (raw_x_train['product_description'])))\n",
    "raw_data_list = np.hstack((raw_data_list, raw_x_val['search_term'], (raw_x_val['product_description'])))\n",
    "my_join = lambda arr: [' '.join(lst) for lst in arr]\n",
    "raw_data_list = my_join(raw_data_list)"
   ]
  },
  {
   "cell_type": "code",
   "execution_count": 0,
   "metadata": {
    "colab": {},
    "colab_type": "code",
    "id": "5fS6NXpkTLDf"
   },
   "outputs": [],
   "source": [
    "vectorizer = CountVectorizer(analyzer='char')"
   ]
  },
  {
   "cell_type": "code",
   "execution_count": 0,
   "metadata": {
    "colab": {},
    "colab_type": "code",
    "id": "SFt8_IzjVKdQ"
   },
   "outputs": [],
   "source": [
    "start_time = time.time()\n",
    "\n",
    "vectorizer.fit_transform(raw_data_list)\n",
    "\n",
    "vec_search_term = vectorizer.transform(my_join(raw_x_train['search_term']))\n",
    "vec_product_description = vectorizer.transform(my_join(raw_x_train['product_description']))\n",
    "\n",
    "vec_search_term_val = vectorizer.transform(my_join(raw_x_val['search_term']))\n",
    "vec_product_description_val = vectorizer.transform(my_join(raw_x_val['product_description']))\n",
    "\n",
    "vec_search_term_test = vectorizer.transform(my_join(raw_X_test['search_term']))\n",
    "vec_product_description_test = vectorizer.transform(my_join(raw_X_test['product_description']))\n",
    "\n",
    "end_time = time.time()"
   ]
  },
  {
   "cell_type": "code",
   "execution_count": 0,
   "metadata": {
    "colab": {},
    "colab_type": "code",
    "id": "571HvDigV1SF"
   },
   "outputs": [],
   "source": [
    "x_train = np.stack((vec_search_term.toarray(), vec_product_description.toarray()), axis=1)\n",
    "x_val = np.stack((vec_search_term_val.toarray(), vec_product_description_val.toarray()), axis=1)\n",
    "x_test = np.stack((vec_search_term_test.toarray(), vec_product_description_test.toarray()), axis=1)"
   ]
  },
  {
   "cell_type": "code",
   "execution_count": 0,
   "metadata": {
    "colab": {
     "base_uri": "https://localhost:8080/",
     "height": 185
    },
    "colab_type": "code",
    "id": "qs4KW2WahjEW",
    "outputId": "4b6e34bf-03ae-4348-f066-9f99b6d90d14"
   },
   "outputs": [
    {
     "name": "stdout",
     "output_type": "stream",
     "text": [
      "Train:\n",
      "\tx_train.shape:(59253, 2, 68)\n",
      "\ty_train.shape:(59253,)\n",
      "Val:\n",
      "\tx_val.shape:(14814, 2, 68)\n",
      "\ty_val.shape:(14814,)\n",
      "Test:\n",
      "\tx_test.shape:(83447, 2, 68)\n",
      "\ty_test.shape:(83447,)\n"
     ]
    }
   ],
   "source": [
    "print('Train:\\n\\tx_train.shape:{}'.format(x_train.shape))\n",
    "print('\\ty_train.shape:{}'.format(y_train.shape))\n",
    "\n",
    "print('Val:\\n\\tx_val.shape:{}'.format(x_val.shape))\n",
    "print('\\ty_val.shape:{}'.format(y_val.shape))\n",
    "\n",
    "print('Test:\\n\\tx_test.shape:{}'.format(x_test.shape))\n",
    "print('\\ty_test.shape:{}'.format(y_test.shape))"
   ]
  },
  {
   "cell_type": "markdown",
   "metadata": {
    "colab_type": "text",
    "id": "yFq4xRKItFAt"
   },
   "source": [
    "Now that we have vectores we can compute the distanse between them to find out how closed ther are. To do that we will use the cosine similarity function. Again, pay attention to that the cosine similarity range is $[0, 1]$ and the relevance range is $[1, 3]$, So we will use the ```norm_to_1_3```.<br>\n",
    "\n",
    "Another thing that we want to point out is, that in this model time consumer is the time it take to pre process the data, and not the training time. So we will mager the count vectorizer fit time and the data transform time in order to compare the runtime with different models."
   ]
  },
  {
   "cell_type": "code",
   "execution_count": 0,
   "metadata": {
    "colab": {},
    "colab_type": "code",
    "id": "TP4W6P_qk7Ly"
   },
   "outputs": [],
   "source": [
    "def square_rooted(x):\n",
    "  return round(sqrt(sum([a*a for a in x])),3)\n",
    " \n",
    "def cosine_similarity(x,y):\n",
    "  numerator = sum(a*b for a,b in zip(x,y))\n",
    "  denominator = square_rooted(x)*square_rooted(y)\n",
    "  return round(numerator/float(denominator),3)"
   ]
  },
  {
   "cell_type": "code",
   "execution_count": 0,
   "metadata": {
    "colab": {},
    "colab_type": "code",
    "id": "EJePhdvFIJUn"
   },
   "outputs": [],
   "source": [
    "class NaiveModel():\n",
    "  def __init__(self):\n",
    "    pass\n",
    "  \n",
    "  def fit(self, x, y):\n",
    "    pass\n",
    "  \n",
    "  def predict(self, x):\n",
    "    preds = []\n",
    "    for i in range(x.shape[0]):\n",
    "      preds.append(norm_to_1_3(cosine_similarity(x[i, 0, :], x[i, 1, :])))\n",
    "    return np.array(preds)\n",
    "  \n",
    "naive_model = NaiveModel()"
   ]
  },
  {
   "cell_type": "code",
   "execution_count": 0,
   "metadata": {
    "colab": {},
    "colab_type": "code",
    "id": "z1yhEMKKWZPL"
   },
   "outputs": [],
   "source": [
    "train_preds = naive_model.predict(x_train)\n",
    "val_preds = naive_model.predict(x_val)\n",
    "test_preds = naive_model.predict(x_test)"
   ]
  },
  {
   "cell_type": "code",
   "execution_count": 0,
   "metadata": {
    "colab": {
     "base_uri": "https://localhost:8080/",
     "height": 334
    },
    "colab_type": "code",
    "id": "1tvpZwmdhc-P",
    "outputId": "f8617010-f6f8-4cea-829e-8191cea789c1"
   },
   "outputs": [
    {
     "name": "stdout",
     "output_type": "stream",
     "text": [
      "Test\n",
      "RMSE: 0.7248\n"
     ]
    },
    {
     "data": {
      "image/png": "[encoded data removed]",
      "text/plain": [
       "<matplotlib.figure.Figure at 0x7f6d00061a58>"
      ]
     },
     "metadata": {
      "tags": []
     },
     "output_type": "display_data"
    }
   ],
   "source": [
    "print('Test')\n",
    "plot_results(test_preds, y_test.values)"
   ]
  },
  {
   "cell_type": "code",
   "execution_count": 0,
   "metadata": {
    "colab": {
     "base_uri": "https://localhost:8080/",
     "height": 112
    },
    "colab_type": "code",
    "id": "kwEpBdaCD4_f",
    "outputId": "467fa0eb-070a-44ae-b858-d918722a797b"
   },
   "outputs": [
    {
     "data": {
      "text/html": [
       "<div>\n",
       "<style scoped>\n",
       "    .dataframe tbody tr th:only-of-type {\n",
       "        vertical-align: middle;\n",
       "    }\n",
       "\n",
       "    .dataframe tbody tr th {\n",
       "        vertical-align: top;\n",
       "    }\n",
       "\n",
       "    .dataframe thead th {\n",
       "        text-align: right;\n",
       "    }\n",
       "</style>\n",
       "<table border=\"1\" class=\"dataframe\">\n",
       "  <thead>\n",
       "    <tr style=\"text-align: right;\">\n",
       "      <th></th>\n",
       "      <th>Test_MAE</th>\n",
       "      <th>Test_RMSE</th>\n",
       "      <th>Train_MAE</th>\n",
       "      <th>Train_RMSE</th>\n",
       "      <th>runtime</th>\n",
       "      <th>val_MAE</th>\n",
       "      <th>val_RMSE</th>\n",
       "    </tr>\n",
       "  </thead>\n",
       "  <tbody>\n",
       "    <tr>\n",
       "      <th>CharacterLSTM</th>\n",
       "      <td>0.43962</td>\n",
       "      <td>0.529653</td>\n",
       "      <td>0.407273</td>\n",
       "      <td>0.490909</td>\n",
       "      <td>344.968230</td>\n",
       "      <td>0.548179</td>\n",
       "      <td>0.666130</td>\n",
       "    </tr>\n",
       "    <tr>\n",
       "      <th>naïve_model(1C)</th>\n",
       "      <td>0.53757</td>\n",
       "      <td>0.724760</td>\n",
       "      <td>0.507341</td>\n",
       "      <td>0.675441</td>\n",
       "      <td>96.343572</td>\n",
       "      <td>0.903160</td>\n",
       "      <td>1.058353</td>\n",
       "    </tr>\n",
       "  </tbody>\n",
       "</table>\n",
       "</div>"
      ],
      "text/plain": [
       "                 Test_MAE  Test_RMSE  Train_MAE  Train_RMSE     runtime  \\\n",
       "CharacterLSTM     0.43962   0.529653   0.407273    0.490909  344.968230   \n",
       "naïve_model(1C)   0.53757   0.724760   0.507341    0.675441   96.343572   \n",
       "\n",
       "                  val_MAE  val_RMSE  \n",
       "CharacterLSTM    0.548179  0.666130  \n",
       "naïve_model(1C)  0.903160  1.058353  "
      ]
     },
     "execution_count": 61,
     "metadata": {
      "tags": []
     },
     "output_type": "execute_result"
    }
   ],
   "source": [
    "add_to_table('naïve_model(1C)', train_preds, val_preds, test_preds, end_time - start_time)\n",
    "pd.DataFrame.from_dict(table).T"
   ]
  },
  {
   "cell_type": "code",
   "execution_count": 0,
   "metadata": {
    "colab": {},
    "colab_type": "code",
    "id": "QGZQElarTBi0"
   },
   "outputs": [],
   "source": [
    "#save_table()"
   ]
  },
  {
   "cell_type": "markdown",
   "metadata": {
    "colab_type": "text",
    "id": "sD-7EPaZzmWC"
   },
   "source": [
    "We can observed that the model is predicting almost all the time that same relevance which is $3$. First, this explain why the *RMSE* score over the test set is higher the ```CharacterLSTM``` model.<br>\n",
    "Second, this means that most of the cosine similarity values are 1 (```norm_to_1_3```$(1)=3$). This tell us the most of pairs of vectors representing the the input are very close.<br>\n",
    "From this we conclude that this model is to naïve. So we will try to use a different model as a Naïve benchmark. We will try to predict the mean of the train relevance all the time. We expect this change to reduce *RMSE* score."
   ]
  },
  {
   "cell_type": "code",
   "execution_count": 0,
   "metadata": {
    "colab": {},
    "colab_type": "code",
    "id": "be-L5N362wZA"
   },
   "outputs": [],
   "source": [
    "class NaiveModel_mean():\n",
    "  def __init__(self):\n",
    "    self.train_mean = -1;\n",
    "  \n",
    "  def fit(self, x, y):\n",
    "    self.train_mean = round(y.mean(), 2)\n",
    "  \n",
    "  def predict(self, x):\n",
    "    if self.train_mean == -1:\n",
    "      print('please fit the model before making a prediction.')\n",
    "    preds = []\n",
    "    for i in range(x.shape[0]):\n",
    "      preds.append(self.train_mean)\n",
    "    return np.array(preds)\n",
    "  \n",
    "naive_model = NaiveModel_mean()"
   ]
  },
  {
   "cell_type": "code",
   "execution_count": 0,
   "metadata": {
    "colab": {},
    "colab_type": "code",
    "id": "xVXfecoq3eWg"
   },
   "outputs": [],
   "source": [
    "strat_time = time.time()\n",
    "naive_model.fit(x_train, y_train)\n",
    "end_time = time.time()"
   ]
  },
  {
   "cell_type": "code",
   "execution_count": 0,
   "metadata": {
    "colab": {
     "base_uri": "https://localhost:8080/",
     "height": 36
    },
    "colab_type": "code",
    "id": "UpuY2hbY3q78",
    "outputId": "566726e0-6f45-4507-ae34-c55d6a10e4af"
   },
   "outputs": [
    {
     "name": "stdout",
     "output_type": "stream",
     "text": [
      "The relevent mean of the train set: 2.46\n"
     ]
    }
   ],
   "source": [
    "print('The relevent mean of the train set: {}'.format(naive_model.train_mean))"
   ]
  },
  {
   "cell_type": "code",
   "execution_count": 0,
   "metadata": {
    "colab": {},
    "colab_type": "code",
    "id": "REe_rwfL3b2w"
   },
   "outputs": [],
   "source": [
    "train_preds = naive_model.predict(x_train)\n",
    "val_preds = naive_model.predict(x_val)\n",
    "test_preds = naive_model.predict(x_test)"
   ]
  },
  {
   "cell_type": "code",
   "execution_count": 0,
   "metadata": {
    "colab": {
     "base_uri": "https://localhost:8080/",
     "height": 334
    },
    "colab_type": "code",
    "id": "691dV-ZW31Rn",
    "outputId": "b4c62d4e-faae-410b-89be-b514714ba479"
   },
   "outputs": [
    {
     "name": "stdout",
     "output_type": "stream",
     "text": [
      "Test\n",
      "RMSE: 0.5311\n"
     ]
    },
    {
     "data": {
      "image/png": "[encoded data removed]",
      "text/plain": [
       "<matplotlib.figure.Figure at 0x7f6cec0d84a8>"
      ]
     },
     "metadata": {
      "tags": []
     },
     "output_type": "display_data"
    }
   ],
   "source": [
    "print('Test')\n",
    "plot_results(test_preds, y_test.values)"
   ]
  },
  {
   "cell_type": "code",
   "execution_count": 0,
   "metadata": {
    "colab": {
     "base_uri": "https://localhost:8080/",
     "height": 143
    },
    "colab_type": "code",
    "id": "OzdI_9qI3_-l",
    "outputId": "dc9fa935-1332-4733-b831-0b8ee880e39a"
   },
   "outputs": [
    {
     "data": {
      "text/html": [
       "<div>\n",
       "<style scoped>\n",
       "    .dataframe tbody tr th:only-of-type {\n",
       "        vertical-align: middle;\n",
       "    }\n",
       "\n",
       "    .dataframe tbody tr th {\n",
       "        vertical-align: top;\n",
       "    }\n",
       "\n",
       "    .dataframe thead th {\n",
       "        text-align: right;\n",
       "    }\n",
       "</style>\n",
       "<table border=\"1\" class=\"dataframe\">\n",
       "  <thead>\n",
       "    <tr style=\"text-align: right;\">\n",
       "      <th></th>\n",
       "      <th>Test_MAE</th>\n",
       "      <th>Test_RMSE</th>\n",
       "      <th>Train_MAE</th>\n",
       "      <th>Train_RMSE</th>\n",
       "      <th>runtime</th>\n",
       "      <th>val_MAE</th>\n",
       "      <th>val_RMSE</th>\n",
       "    </tr>\n",
       "  </thead>\n",
       "  <tbody>\n",
       "    <tr>\n",
       "      <th>CharacterLSTM</th>\n",
       "      <td>0.439620</td>\n",
       "      <td>0.529653</td>\n",
       "      <td>0.407273</td>\n",
       "      <td>0.490909</td>\n",
       "      <td>344.968230</td>\n",
       "      <td>0.548179</td>\n",
       "      <td>0.666130</td>\n",
       "    </tr>\n",
       "    <tr>\n",
       "      <th>naïve_model(1C)</th>\n",
       "      <td>0.537570</td>\n",
       "      <td>0.724760</td>\n",
       "      <td>0.507341</td>\n",
       "      <td>0.675441</td>\n",
       "      <td>96.343572</td>\n",
       "      <td>0.903160</td>\n",
       "      <td>1.058353</td>\n",
       "    </tr>\n",
       "    <tr>\n",
       "      <th>naïve_model_mean(1C)</th>\n",
       "      <td>0.440792</td>\n",
       "      <td>0.531097</td>\n",
       "      <td>0.408442</td>\n",
       "      <td>0.489216</td>\n",
       "      <td>106.922296</td>\n",
       "      <td>0.583952</td>\n",
       "      <td>0.706428</td>\n",
       "    </tr>\n",
       "  </tbody>\n",
       "</table>\n",
       "</div>"
      ],
      "text/plain": [
       "                      Test_MAE  Test_RMSE  Train_MAE  Train_RMSE     runtime  \\\n",
       "CharacterLSTM         0.439620   0.529653   0.407273    0.490909  344.968230   \n",
       "naïve_model(1C)       0.537570   0.724760   0.507341    0.675441   96.343572   \n",
       "naïve_model_mean(1C)  0.440792   0.531097   0.408442    0.489216  106.922296   \n",
       "\n",
       "                       val_MAE  val_RMSE  \n",
       "CharacterLSTM         0.548179  0.666130  \n",
       "naïve_model(1C)       0.903160  1.058353  \n",
       "naïve_model_mean(1C)  0.583952  0.706428  "
      ]
     },
     "execution_count": 68,
     "metadata": {
      "tags": []
     },
     "output_type": "execute_result"
    }
   ],
   "source": [
    "add_to_table('naïve_model_mean(1C)', train_preds, val_preds, test_preds, end_time - start_time)\n",
    "pd.DataFrame.from_dict(table).T"
   ]
  },
  {
   "cell_type": "code",
   "execution_count": 0,
   "metadata": {
    "colab": {},
    "colab_type": "code",
    "id": "KEfVqFZcTDql"
   },
   "outputs": [],
   "source": [
    "#save_table()"
   ]
  },
  {
   "cell_type": "markdown",
   "metadata": {
    "colab_type": "text",
    "id": "z2LyaNK34SSW"
   },
   "source": [
    "We can see our expectation are true. The ```NaiveModel_mean``` model did perform better and have lower *RMSE* score than the previous naive model over the train, validation and test sets.<br>\n",
    "In addition, we can observed that the difference between the *RMSE* scores of the ```NaiveModel_mean``` model and the ```CharacterLSTM``` model is very small and almost meaningless: $0.01..$ on test set.<br>\n",
    "Therefore, we think that the model we made in the previous section ($1B$) is a good model."
   ]
  },
  {
   "cell_type": "markdown",
   "metadata": {
    "colab_type": "text",
    "id": "HiD-W5rCm8A3"
   },
   "source": [
    "## D - Feature Extractor"
   ]
  },
  {
   "cell_type": "markdown",
   "metadata": {
    "colab_type": "text",
    "id": "-HelGDdc7nc3"
   },
   "source": [
    "For the feature extractor we will use the ```CharacterLSTM``` model from section $1B$. We choose this model."
   ]
  },
  {
   "cell_type": "markdown",
   "metadata": {
    "colab_type": "text",
    "id": "1TgIueod65iX"
   },
   "source": [
    "First we need to take the data that is organized in such a way that the model from section \n",
    "$1B$ can be received as input."
   ]
  },
  {
   "cell_type": "code",
   "execution_count": 0,
   "metadata": {
    "colab": {
     "base_uri": "https://localhost:8080/",
     "height": 167
    },
    "colab_type": "code",
    "id": "GlsgyoKj5Rgu",
    "outputId": "ba643c31-0060-4793-b1af-a6bfe8cc5ae5"
   },
   "outputs": [
    {
     "name": "stdout",
     "output_type": "stream",
     "text": [
      "Train:\n",
      "\tx_train['search_term'].shape:(59253, 16, 1)\n",
      "\tx_train['product_description'].shape:(59253, 730, 1)\n",
      "\ty_train.shape:(59253,)\n",
      "Val:\n",
      "\tx_val['search_term'].shape:(14814, 16, 1)\n",
      "\tx_val['product_description'].shape:(14814, 730, 1)\n",
      "\ty_val.shape:(14814,)\n"
     ]
    }
   ],
   "source": [
    "print('Train:\\n\\tx_train[\\'search_term\\'].shape:{}'.format(X_train['search_term'].shape))\n",
    "print('\\tx_train[\\'product_description\\'].shape:{}'.format(X_train['product_description'].shape))\n",
    "print('\\ty_train.shape:{}'.format(y_train.shape))\n",
    "print('Val:\\n\\tx_val[\\'search_term\\'].shape:{}'.format(X_val['search_term'].shape))\n",
    "print('\\tx_val[\\'product_description\\'].shape:{}'.format(X_val['product_description'].shape))\n",
    "print('\\ty_val.shape:{}'.format(y_val.shape))"
   ]
  },
  {
   "cell_type": "markdown",
   "metadata": {
    "colab_type": "text",
    "id": "7-Ie-Z4L7Tjj"
   },
   "source": [
    "Second, we will create the same model as in Section $1B$, and load the trained weights. <br>After that we will cut the last layer in the model. In order to use it's output as features to a ML model.<br>\n",
    "Notice that the after we cut the last layer we left with $2$ ouputs due to the siamese network architecture. So we will add a ```concatenate``` layer."
   ]
  },
  {
   "cell_type": "code",
   "execution_count": 0,
   "metadata": {
    "colab": {
     "base_uri": "https://localhost:8080/",
     "height": 335
    },
    "colab_type": "code",
    "id": "0m4t3DOe6Ayt",
    "outputId": "ecf360e3-d3a5-4d51-f63e-4e0cc7a039a1"
   },
   "outputs": [
    {
     "name": "stdout",
     "output_type": "stream",
     "text": [
      "__________________________________________________________________________________________________\n",
      "Layer (type)                    Output Shape         Param #     Connected to                     \n",
      "==================================================================================================\n",
      "term_input (InputLayer)         (None, 16, 1)        0                                            \n",
      "__________________________________________________________________________________________________\n",
      "product_input (InputLayer)      (None, 730, 1)       0                                            \n",
      "__________________________________________________________________________________________________\n",
      "shared_model (Sequential)       (None, 128)          17128       term_input[0][0]                 \n",
      "                                                                 product_input[0][0]              \n",
      "__________________________________________________________________________________________________\n",
      "concatenate_2 (Concatenate)     (None, 256)          0           shared_model[1][0]               \n",
      "                                                                 shared_model[2][0]               \n",
      "==================================================================================================\n",
      "Total params: 17,128\n",
      "Trainable params: 17,128\n",
      "Non-trainable params: 0\n",
      "__________________________________________________________________________________________________\n"
     ]
    }
   ],
   "source": [
    "term_input = Input(shape=(search_terms_lens, 1), name='term_input')\n",
    "product_input = Input(shape=(produc_lens, 1), name='product_input')\n",
    "\n",
    "shared_lstm = Sequential(name='shared_model')\n",
    "shared_lstm.add(CuDNNLSTM(lstm_n_hidden))\n",
    "shared_lstm.add(Dense(128, activation='relu'))\n",
    "\n",
    "output = concatenate([shared_lstm(term_input), shared_lstm(product_input)])\n",
    "\n",
    "fe_model = Model(inputs=[term_input, product_input], outputs=[output])\n",
    "fe_model.load_weights(path + '/best_model_weights_char.h5')\n",
    "\n",
    "optimizer = Adadelta(clipnorm=gradient_clipping_norm)\n",
    "fe_model.compile(loss='mse', optimizer=optimizer)\n",
    "fe_model.summary()"
   ]
  },
  {
   "cell_type": "markdown",
   "metadata": {
    "colab_type": "text",
    "id": "f81dE-CX9Cdx"
   },
   "source": [
    "Now we will produce the new features for the training set, validation set and test set."
   ]
  },
  {
   "cell_type": "code",
   "execution_count": 0,
   "metadata": {
    "colab": {},
    "colab_type": "code",
    "id": "wiDrIjLo5Tw2"
   },
   "outputs": [],
   "source": [
    "train_features = fe_model.predict([X_train['search_term'] , X_train['product_description']])\n",
    "val_features = fe_model.predict([X_val['search_term'] , X_val['product_description']])\n",
    "test_features = fe_model.predict([X_test['search_term'] , X_test['product_description']])"
   ]
  },
  {
   "cell_type": "markdown",
   "metadata": {
    "colab_type": "text",
    "id": "yX9XDl1Y9at7"
   },
   "source": [
    "### First model - Random Forest"
   ]
  },
  {
   "cell_type": "code",
   "execution_count": 0,
   "metadata": {
    "colab": {
     "base_uri": "https://localhost:8080/",
     "height": 74
    },
    "colab_type": "code",
    "id": "lDf0Jij5786A",
    "outputId": "670b90b3-75f6-4e6a-9893-9c3e0e440b6f"
   },
   "outputs": [
    {
     "name": "stderr",
     "output_type": "stream",
     "text": [
      "/usr/local/lib/python3.6/dist-packages/sklearn/ensemble/forest.py:246: FutureWarning: The default value of n_estimators will change from 10 in version 0.20 to 100 in 0.22.\n",
      "  \"10 in version 0.20 to 100 in 0.22.\", FutureWarning)\n"
     ]
    }
   ],
   "source": [
    "RM_model = RandomForestRegressor()\n",
    "start_time = time.time()\n",
    "RM_model.fit(train_features, y_train)\n",
    "end_time = time.time()"
   ]
  },
  {
   "cell_type": "code",
   "execution_count": 0,
   "metadata": {
    "colab": {},
    "colab_type": "code",
    "id": "nciMI3Y7-SL6"
   },
   "outputs": [],
   "source": [
    "train_preds = RM_model.predict(train_features)\n",
    "val_preds = RM_model.predict(val_features)\n",
    "test_preds = RM_model.predict(test_features)"
   ]
  },
  {
   "cell_type": "code",
   "execution_count": 0,
   "metadata": {
    "colab": {
     "base_uri": "https://localhost:8080/",
     "height": 175
    },
    "colab_type": "code",
    "id": "FaCCM9Bd-9Ya",
    "outputId": "6c9c93e2-2eba-415f-d3b0-153acd6ced8d"
   },
   "outputs": [
    {
     "data": {
      "text/html": [
       "<div>\n",
       "<style scoped>\n",
       "    .dataframe tbody tr th:only-of-type {\n",
       "        vertical-align: middle;\n",
       "    }\n",
       "\n",
       "    .dataframe tbody tr th {\n",
       "        vertical-align: top;\n",
       "    }\n",
       "\n",
       "    .dataframe thead th {\n",
       "        text-align: right;\n",
       "    }\n",
       "</style>\n",
       "<table border=\"1\" class=\"dataframe\">\n",
       "  <thead>\n",
       "    <tr style=\"text-align: right;\">\n",
       "      <th></th>\n",
       "      <th>Test_MAE</th>\n",
       "      <th>Test_RMSE</th>\n",
       "      <th>Train_MAE</th>\n",
       "      <th>Train_RMSE</th>\n",
       "      <th>runtime</th>\n",
       "      <th>val_MAE</th>\n",
       "      <th>val_RMSE</th>\n",
       "    </tr>\n",
       "  </thead>\n",
       "  <tbody>\n",
       "    <tr>\n",
       "      <th>CharacterLSTM</th>\n",
       "      <td>0.439620</td>\n",
       "      <td>0.529653</td>\n",
       "      <td>0.407273</td>\n",
       "      <td>0.490909</td>\n",
       "      <td>344.968230</td>\n",
       "      <td>0.548179</td>\n",
       "      <td>0.666130</td>\n",
       "    </tr>\n",
       "    <tr>\n",
       "      <th>RandomForest(1D)</th>\n",
       "      <td>0.439696</td>\n",
       "      <td>0.542474</td>\n",
       "      <td>0.160088</td>\n",
       "      <td>0.218505</td>\n",
       "      <td>61.621884</td>\n",
       "      <td>0.530739</td>\n",
       "      <td>0.650805</td>\n",
       "    </tr>\n",
       "    <tr>\n",
       "      <th>naïve_model(1C)</th>\n",
       "      <td>0.537570</td>\n",
       "      <td>0.724760</td>\n",
       "      <td>0.507341</td>\n",
       "      <td>0.675441</td>\n",
       "      <td>96.343572</td>\n",
       "      <td>0.903160</td>\n",
       "      <td>1.058353</td>\n",
       "    </tr>\n",
       "    <tr>\n",
       "      <th>naïve_model_mean(1C)</th>\n",
       "      <td>0.440792</td>\n",
       "      <td>0.531097</td>\n",
       "      <td>0.408442</td>\n",
       "      <td>0.489216</td>\n",
       "      <td>106.922296</td>\n",
       "      <td>0.583952</td>\n",
       "      <td>0.706428</td>\n",
       "    </tr>\n",
       "  </tbody>\n",
       "</table>\n",
       "</div>"
      ],
      "text/plain": [
       "                      Test_MAE  Test_RMSE  Train_MAE  Train_RMSE     runtime  \\\n",
       "CharacterLSTM         0.439620   0.529653   0.407273    0.490909  344.968230   \n",
       "RandomForest(1D)      0.439696   0.542474   0.160088    0.218505   61.621884   \n",
       "naïve_model(1C)       0.537570   0.724760   0.507341    0.675441   96.343572   \n",
       "naïve_model_mean(1C)  0.440792   0.531097   0.408442    0.489216  106.922296   \n",
       "\n",
       "                       val_MAE  val_RMSE  \n",
       "CharacterLSTM         0.548179  0.666130  \n",
       "RandomForest(1D)      0.530739  0.650805  \n",
       "naïve_model(1C)       0.903160  1.058353  \n",
       "naïve_model_mean(1C)  0.583952  0.706428  "
      ]
     },
     "execution_count": 80,
     "metadata": {
      "tags": []
     },
     "output_type": "execute_result"
    }
   ],
   "source": [
    "add_to_table('RandomForest(1D)', train_preds, val_preds, test_preds, end_time - start_time)\n",
    "pd.DataFrame.from_dict(table).T"
   ]
  },
  {
   "cell_type": "code",
   "execution_count": 0,
   "metadata": {
    "colab": {},
    "colab_type": "code",
    "id": "uWsQpmKbTG8r"
   },
   "outputs": [],
   "source": [
    "#save_table()"
   ]
  },
  {
   "cell_type": "markdown",
   "metadata": {
    "colab_type": "text",
    "id": "x6kfA2Jv97YC"
   },
   "source": [
    "We can observe that the ```RandomForest(1D)``` model does not exceed the ```CharacterLSTM```. In fact it does a bit worse in the test set $0.54...$ *RMSE* score compared to $0.52...$.<br>\n",
    "In addition we can see that the ```RandomForest(1D)``` is performing mach better on the train $0.16...$ compared to all the other model."
   ]
  },
  {
   "cell_type": "code",
   "execution_count": 0,
   "metadata": {
    "colab": {
     "base_uri": "https://localhost:8080/",
     "height": 334
    },
    "colab_type": "code",
    "id": "AgZswGg1_PyR",
    "outputId": "c773b936-5e06-4109-d4c2-3c54c75ce8a0"
   },
   "outputs": [
    {
     "name": "stdout",
     "output_type": "stream",
     "text": [
      "Test\n",
      "RMSE: 0.5425\n"
     ]
    },
    {
     "data": {
      "image/png": "[encoded data removed]",
      "text/plain": [
       "<matplotlib.figure.Figure at 0x7f6cecf34c88>"
      ]
     },
     "metadata": {
      "tags": []
     },
     "output_type": "display_data"
    }
   ],
   "source": [
    "print('Test')\n",
    "plot_results(test_preds, y_test.values)"
   ]
  },
  {
   "cell_type": "markdown",
   "metadata": {
    "colab_type": "text",
    "id": "0QMO1VWxF9hv"
   },
   "source": [
    "In the plot above we can see that the model is trying to predict a bigger range of targets than previous models. In fact it's predictions range is truly $[1, 3]$ as shows below. Which mean that the model did succeed at learning something new from the new features."
   ]
  },
  {
   "cell_type": "code",
   "execution_count": 0,
   "metadata": {
    "colab": {
     "base_uri": "https://localhost:8080/",
     "height": 36
    },
    "colab_type": "code",
    "id": "GKKffHDhHwSb",
    "outputId": "30fe901d-d9cf-4166-d3ba-da63fba43f29"
   },
   "outputs": [
    {
     "name": "stdout",
     "output_type": "stream",
     "text": [
      "pretiction: min 1.0, max 3.0\n"
     ]
    }
   ],
   "source": [
    "print('pretiction: min {}, max {}'.format(test_preds.min(), test_preds.max()))"
   ]
  },
  {
   "cell_type": "markdown",
   "metadata": {
    "colab_type": "text",
    "id": "HIH7zSsUFjjp"
   },
   "source": [
    "### Second model - LightGBM"
   ]
  },
  {
   "cell_type": "markdown",
   "metadata": {
    "colab_type": "text",
    "id": "VA7VCOoINQFH"
   },
   "source": [
    "Now we will try to use the LightGBM model with the new features."
   ]
  },
  {
   "cell_type": "code",
   "execution_count": 0,
   "metadata": {
    "colab": {},
    "colab_type": "code",
    "id": "1LxOd1MZqKjP"
   },
   "outputs": [],
   "source": [
    "params = {\n",
    "    'objective': 'regression',\n",
    "    'metric': {'l2', 'l1'},\n",
    "    'num_leaves': 13,\n",
    "    'learning_rate': 0.05,\n",
    "    'verbose': 0\n",
    "}\n",
    "lgb_train = lgb.Dataset(train_features, y_train)\n",
    "lgb_val = lgb.Dataset(val_features, y_val)"
   ]
  },
  {
   "cell_type": "code",
   "execution_count": 0,
   "metadata": {
    "colab": {
     "base_uri": "https://localhost:8080/",
     "height": 1887
    },
    "colab_type": "code",
    "id": "U1QHyk8jpDb-",
    "outputId": "868065e4-9c9a-4f25-f6fc-db3c103b7595"
   },
   "outputs": [
    {
     "name": "stdout",
     "output_type": "stream",
     "text": [
      "[1]\tvalid_0's l1: 0.585846\tvalid_0's l2: 0.502216\n",
      "[2]\tvalid_0's l1: 0.58541\tvalid_0's l2: 0.501504\n",
      "[3]\tvalid_0's l1: 0.584948\tvalid_0's l2: 0.500813\n",
      "[4]\tvalid_0's l1: 0.58454\tvalid_0's l2: 0.500203\n",
      "[5]\tvalid_0's l1: 0.584112\tvalid_0's l2: 0.499564\n",
      "[6]\tvalid_0's l1: 0.583697\tvalid_0's l2: 0.498961\n",
      "[7]\tvalid_0's l1: 0.583335\tvalid_0's l2: 0.498447\n",
      "[8]\tvalid_0's l1: 0.582972\tvalid_0's l2: 0.497925\n",
      "[9]\tvalid_0's l1: 0.582707\tvalid_0's l2: 0.497578\n",
      "[10]\tvalid_0's l1: 0.582442\tvalid_0's l2: 0.497223\n",
      "[11]\tvalid_0's l1: 0.582125\tvalid_0's l2: 0.496763\n",
      "[12]\tvalid_0's l1: 0.581769\tvalid_0's l2: 0.496275\n",
      "[13]\tvalid_0's l1: 0.581531\tvalid_0's l2: 0.495973\n",
      "[14]\tvalid_0's l1: 0.581207\tvalid_0's l2: 0.495507\n",
      "[15]\tvalid_0's l1: 0.580909\tvalid_0's l2: 0.495092\n",
      "[16]\tvalid_0's l1: 0.580613\tvalid_0's l2: 0.494703\n",
      "[17]\tvalid_0's l1: 0.580411\tvalid_0's l2: 0.494451\n",
      "[18]\tvalid_0's l1: 0.580137\tvalid_0's l2: 0.494112\n",
      "[19]\tvalid_0's l1: 0.579896\tvalid_0's l2: 0.493815\n",
      "[20]\tvalid_0's l1: 0.579664\tvalid_0's l2: 0.49348\n",
      "[21]\tvalid_0's l1: 0.579482\tvalid_0's l2: 0.493265\n",
      "[22]\tvalid_0's l1: 0.579302\tvalid_0's l2: 0.493029\n",
      "[23]\tvalid_0's l1: 0.579101\tvalid_0's l2: 0.492755\n",
      "[24]\tvalid_0's l1: 0.578921\tvalid_0's l2: 0.492522\n",
      "[25]\tvalid_0's l1: 0.578727\tvalid_0's l2: 0.492216\n",
      "[26]\tvalid_0's l1: 0.578603\tvalid_0's l2: 0.492036\n",
      "[27]\tvalid_0's l1: 0.578423\tvalid_0's l2: 0.491806\n",
      "[28]\tvalid_0's l1: 0.578242\tvalid_0's l2: 0.491542\n",
      "[29]\tvalid_0's l1: 0.578137\tvalid_0's l2: 0.491395\n",
      "[30]\tvalid_0's l1: 0.578027\tvalid_0's l2: 0.491213\n",
      "[31]\tvalid_0's l1: 0.577891\tvalid_0's l2: 0.490975\n",
      "[32]\tvalid_0's l1: 0.577783\tvalid_0's l2: 0.490851\n",
      "[33]\tvalid_0's l1: 0.577666\tvalid_0's l2: 0.49071\n",
      "[34]\tvalid_0's l1: 0.577561\tvalid_0's l2: 0.490552\n",
      "[35]\tvalid_0's l1: 0.577447\tvalid_0's l2: 0.490375\n",
      "[36]\tvalid_0's l1: 0.577354\tvalid_0's l2: 0.490204\n",
      "[37]\tvalid_0's l1: 0.577234\tvalid_0's l2: 0.490034\n",
      "[38]\tvalid_0's l1: 0.577124\tvalid_0's l2: 0.489853\n",
      "[39]\tvalid_0's l1: 0.577012\tvalid_0's l2: 0.489674\n",
      "[40]\tvalid_0's l1: 0.576944\tvalid_0's l2: 0.489562\n",
      "[41]\tvalid_0's l1: 0.5768\tvalid_0's l2: 0.489363\n",
      "[42]\tvalid_0's l1: 0.576735\tvalid_0's l2: 0.489254\n",
      "[43]\tvalid_0's l1: 0.576752\tvalid_0's l2: 0.489281\n",
      "[44]\tvalid_0's l1: 0.576626\tvalid_0's l2: 0.489092\n",
      "[45]\tvalid_0's l1: 0.576491\tvalid_0's l2: 0.488904\n",
      "[46]\tvalid_0's l1: 0.576385\tvalid_0's l2: 0.488747\n",
      "[47]\tvalid_0's l1: 0.576329\tvalid_0's l2: 0.488641\n",
      "[48]\tvalid_0's l1: 0.576275\tvalid_0's l2: 0.488529\n",
      "[49]\tvalid_0's l1: 0.57621\tvalid_0's l2: 0.488441\n",
      "[50]\tvalid_0's l1: 0.576147\tvalid_0's l2: 0.488346\n",
      "[51]\tvalid_0's l1: 0.576063\tvalid_0's l2: 0.488213\n",
      "[52]\tvalid_0's l1: 0.575991\tvalid_0's l2: 0.488135\n",
      "[53]\tvalid_0's l1: 0.575946\tvalid_0's l2: 0.488058\n",
      "[54]\tvalid_0's l1: 0.575868\tvalid_0's l2: 0.487921\n",
      "[55]\tvalid_0's l1: 0.575771\tvalid_0's l2: 0.487795\n",
      "[56]\tvalid_0's l1: 0.575732\tvalid_0's l2: 0.487721\n",
      "[57]\tvalid_0's l1: 0.575607\tvalid_0's l2: 0.48754\n",
      "[58]\tvalid_0's l1: 0.575617\tvalid_0's l2: 0.487559\n",
      "[59]\tvalid_0's l1: 0.575567\tvalid_0's l2: 0.487473\n",
      "[60]\tvalid_0's l1: 0.575492\tvalid_0's l2: 0.487371\n",
      "[61]\tvalid_0's l1: 0.575415\tvalid_0's l2: 0.487245\n",
      "[62]\tvalid_0's l1: 0.575311\tvalid_0's l2: 0.487095\n",
      "[63]\tvalid_0's l1: 0.575226\tvalid_0's l2: 0.486949\n",
      "[64]\tvalid_0's l1: 0.575181\tvalid_0's l2: 0.486858\n",
      "[65]\tvalid_0's l1: 0.575181\tvalid_0's l2: 0.486866\n",
      "[66]\tvalid_0's l1: 0.575143\tvalid_0's l2: 0.486792\n",
      "[67]\tvalid_0's l1: 0.57503\tvalid_0's l2: 0.4866\n",
      "[68]\tvalid_0's l1: 0.57496\tvalid_0's l2: 0.486488\n",
      "[69]\tvalid_0's l1: 0.574898\tvalid_0's l2: 0.486395\n",
      "[70]\tvalid_0's l1: 0.574853\tvalid_0's l2: 0.486332\n",
      "[71]\tvalid_0's l1: 0.574809\tvalid_0's l2: 0.48626\n",
      "[72]\tvalid_0's l1: 0.574776\tvalid_0's l2: 0.486197\n",
      "[73]\tvalid_0's l1: 0.574675\tvalid_0's l2: 0.486029\n",
      "[74]\tvalid_0's l1: 0.574641\tvalid_0's l2: 0.485968\n",
      "[75]\tvalid_0's l1: 0.574571\tvalid_0's l2: 0.485863\n",
      "[76]\tvalid_0's l1: 0.574497\tvalid_0's l2: 0.485757\n",
      "[77]\tvalid_0's l1: 0.57443\tvalid_0's l2: 0.485646\n",
      "[78]\tvalid_0's l1: 0.574353\tvalid_0's l2: 0.485536\n",
      "[79]\tvalid_0's l1: 0.574315\tvalid_0's l2: 0.485483\n",
      "[80]\tvalid_0's l1: 0.574312\tvalid_0's l2: 0.485495\n",
      "[81]\tvalid_0's l1: 0.57425\tvalid_0's l2: 0.485382\n",
      "[82]\tvalid_0's l1: 0.574175\tvalid_0's l2: 0.485269\n",
      "[83]\tvalid_0's l1: 0.574159\tvalid_0's l2: 0.485262\n",
      "[84]\tvalid_0's l1: 0.574099\tvalid_0's l2: 0.485158\n",
      "[85]\tvalid_0's l1: 0.57407\tvalid_0's l2: 0.485113\n",
      "[86]\tvalid_0's l1: 0.574021\tvalid_0's l2: 0.485032\n",
      "[87]\tvalid_0's l1: 0.573885\tvalid_0's l2: 0.484846\n",
      "[88]\tvalid_0's l1: 0.573832\tvalid_0's l2: 0.484758\n",
      "[89]\tvalid_0's l1: 0.573793\tvalid_0's l2: 0.484685\n",
      "[90]\tvalid_0's l1: 0.573723\tvalid_0's l2: 0.484582\n",
      "[91]\tvalid_0's l1: 0.573678\tvalid_0's l2: 0.484513\n",
      "[92]\tvalid_0's l1: 0.573627\tvalid_0's l2: 0.484445\n",
      "[93]\tvalid_0's l1: 0.573618\tvalid_0's l2: 0.484428\n",
      "[94]\tvalid_0's l1: 0.573584\tvalid_0's l2: 0.48437\n",
      "[95]\tvalid_0's l1: 0.573587\tvalid_0's l2: 0.484387\n",
      "[96]\tvalid_0's l1: 0.573473\tvalid_0's l2: 0.484217\n",
      "[97]\tvalid_0's l1: 0.57342\tvalid_0's l2: 0.484136\n",
      "[98]\tvalid_0's l1: 0.573379\tvalid_0's l2: 0.484077\n",
      "[99]\tvalid_0's l1: 0.573334\tvalid_0's l2: 0.484025\n",
      "[100]\tvalid_0's l1: 0.573347\tvalid_0's l2: 0.484047\n"
     ]
    }
   ],
   "source": [
    "start_time = time.time()\n",
    "gbm = lgb.train(params, lgb_train, valid_sets=lgb_val)\n",
    "end_time = time.time()"
   ]
  },
  {
   "cell_type": "code",
   "execution_count": 0,
   "metadata": {
    "colab": {},
    "colab_type": "code",
    "id": "5m5M4aJYq7wx"
   },
   "outputs": [],
   "source": [
    "train_preds = gbm.predict(train_features, num_iteration=gbm.best_iteration)\n",
    "val_preds = gbm.predict(val_features, num_iteration=gbm.best_iteration)\n",
    "test_preds = gbm.predict(test_features, num_iteration=gbm.best_iteration)"
   ]
  },
  {
   "cell_type": "code",
   "execution_count": 0,
   "metadata": {
    "colab": {
     "base_uri": "https://localhost:8080/",
     "height": 206
    },
    "colab_type": "code",
    "id": "uqtDKeXorODj",
    "outputId": "6b61e0da-198e-4de0-ab0f-c6d8547ce282"
   },
   "outputs": [
    {
     "data": {
      "text/html": [
       "<div>\n",
       "<style scoped>\n",
       "    .dataframe tbody tr th:only-of-type {\n",
       "        vertical-align: middle;\n",
       "    }\n",
       "\n",
       "    .dataframe tbody tr th {\n",
       "        vertical-align: top;\n",
       "    }\n",
       "\n",
       "    .dataframe thead th {\n",
       "        text-align: right;\n",
       "    }\n",
       "</style>\n",
       "<table border=\"1\" class=\"dataframe\">\n",
       "  <thead>\n",
       "    <tr style=\"text-align: right;\">\n",
       "      <th></th>\n",
       "      <th>Test_MAE</th>\n",
       "      <th>Test_RMSE</th>\n",
       "      <th>Train_MAE</th>\n",
       "      <th>Train_RMSE</th>\n",
       "      <th>runtime</th>\n",
       "      <th>val_MAE</th>\n",
       "      <th>val_RMSE</th>\n",
       "    </tr>\n",
       "  </thead>\n",
       "  <tbody>\n",
       "    <tr>\n",
       "      <th>CharacterLSTM</th>\n",
       "      <td>0.439620</td>\n",
       "      <td>0.529653</td>\n",
       "      <td>0.407273</td>\n",
       "      <td>0.490909</td>\n",
       "      <td>344.968230</td>\n",
       "      <td>0.548179</td>\n",
       "      <td>0.666130</td>\n",
       "    </tr>\n",
       "    <tr>\n",
       "      <th>LightGBM(1D)</th>\n",
       "      <td>0.431425</td>\n",
       "      <td>0.524175</td>\n",
       "      <td>0.392092</td>\n",
       "      <td>0.473328</td>\n",
       "      <td>2.015421</td>\n",
       "      <td>0.573347</td>\n",
       "      <td>0.695735</td>\n",
       "    </tr>\n",
       "    <tr>\n",
       "      <th>RandomForest(1D)</th>\n",
       "      <td>0.439696</td>\n",
       "      <td>0.542474</td>\n",
       "      <td>0.160088</td>\n",
       "      <td>0.218505</td>\n",
       "      <td>61.621884</td>\n",
       "      <td>0.530739</td>\n",
       "      <td>0.650805</td>\n",
       "    </tr>\n",
       "    <tr>\n",
       "      <th>naïve_model(1C)</th>\n",
       "      <td>0.537570</td>\n",
       "      <td>0.724760</td>\n",
       "      <td>0.507341</td>\n",
       "      <td>0.675441</td>\n",
       "      <td>96.343572</td>\n",
       "      <td>0.903160</td>\n",
       "      <td>1.058353</td>\n",
       "    </tr>\n",
       "    <tr>\n",
       "      <th>naïve_model_mean(1C)</th>\n",
       "      <td>0.440792</td>\n",
       "      <td>0.531097</td>\n",
       "      <td>0.408442</td>\n",
       "      <td>0.489216</td>\n",
       "      <td>106.922296</td>\n",
       "      <td>0.583952</td>\n",
       "      <td>0.706428</td>\n",
       "    </tr>\n",
       "  </tbody>\n",
       "</table>\n",
       "</div>"
      ],
      "text/plain": [
       "                      Test_MAE  Test_RMSE  Train_MAE  Train_RMSE     runtime  \\\n",
       "CharacterLSTM         0.439620   0.529653   0.407273    0.490909  344.968230   \n",
       "LightGBM(1D)          0.431425   0.524175   0.392092    0.473328    2.015421   \n",
       "RandomForest(1D)      0.439696   0.542474   0.160088    0.218505   61.621884   \n",
       "naïve_model(1C)       0.537570   0.724760   0.507341    0.675441   96.343572   \n",
       "naïve_model_mean(1C)  0.440792   0.531097   0.408442    0.489216  106.922296   \n",
       "\n",
       "                       val_MAE  val_RMSE  \n",
       "CharacterLSTM         0.548179  0.666130  \n",
       "LightGBM(1D)          0.573347  0.695735  \n",
       "RandomForest(1D)      0.530739  0.650805  \n",
       "naïve_model(1C)       0.903160  1.058353  \n",
       "naïve_model_mean(1C)  0.583952  0.706428  "
      ]
     },
     "execution_count": 86,
     "metadata": {
      "tags": []
     },
     "output_type": "execute_result"
    }
   ],
   "source": [
    "add_to_table('LightGBM(1D)', train_preds, val_preds, test_preds, end_time - start_time)\n",
    "pd.DataFrame.from_dict(table).T"
   ]
  },
  {
   "cell_type": "code",
   "execution_count": 0,
   "metadata": {
    "colab": {},
    "colab_type": "code",
    "id": "P62tpJLpTJHl"
   },
   "outputs": [],
   "source": [
    "#save_table()"
   ]
  },
  {
   "cell_type": "code",
   "execution_count": 0,
   "metadata": {
    "colab": {
     "base_uri": "https://localhost:8080/",
     "height": 334
    },
    "colab_type": "code",
    "id": "o5d9hVYsrQ4w",
    "outputId": "79c5b2a4-9faa-48b9-f2cf-ee406e64fb50"
   },
   "outputs": [
    {
     "name": "stdout",
     "output_type": "stream",
     "text": [
      "Test\n",
      "RMSE: 0.5242\n"
     ]
    },
    {
     "data": {
      "image/png": "[encoded data removed]",
      "text/plain": [
       "<matplotlib.figure.Figure at 0x7f6cecf34dd8>"
      ]
     },
     "metadata": {
      "tags": []
     },
     "output_type": "display_data"
    }
   ],
   "source": [
    "print('Test')\n",
    "plot_results(test_preds, y_test.values)"
   ]
  },
  {
   "cell_type": "markdown",
   "metadata": {
    "colab_type": "text",
    "id": "bjW5gl3oNhyU"
   },
   "source": [
    "We can see that the LigthGBM model has the lower *RMSE* score on the tets set $0.524..$. Like the previous model it perform poorly on the valitistion set, but has the best performance on the test sets.<br>\n",
    "In addition, it's has the fastes runtime overall, only $2.015$ seconds. We think it is because of the fact that this model need to handle smaller input representation, $256$ features per sample compert to $16 + 730$. This also explain why the runtime of the ```CharacterLSTM``` model is vary long and, the runtime of the```Random Forest(1D)``` is only ~$1$ minute."
   ]
  },
  {
   "cell_type": "code",
   "execution_count": 0,
   "metadata": {
    "colab": {
     "base_uri": "https://localhost:8080/",
     "height": 36
    },
    "colab_type": "code",
    "id": "e0E3G3p4OeES",
    "outputId": "e74ba49c-13c1-4523-9bd8-8ebf28941406"
   },
   "outputs": [
    {
     "name": "stdout",
     "output_type": "stream",
     "text": [
      "pretiction: min 1.72, max 2.64\n"
     ]
    }
   ],
   "source": [
    "print('pretiction: min {}, max {}'.format(round(test_preds.min(), 2), round(test_preds.max(), 2)))"
   ]
  },
  {
   "cell_type": "markdown",
   "metadata": {
    "colab_type": "text",
    "id": "kmG2X8N6pUjW"
   },
   "source": [
    "Although this model produces better results, it can not predict the entire range."
   ]
  },
  {
   "cell_type": "markdown",
   "metadata": {
    "colab_type": "text",
    "id": "ZK3CemknScX5"
   },
   "source": [
    "# Section 2"
   ]
  },
  {
   "cell_type": "markdown",
   "metadata": {
    "colab_type": "text",
    "id": "9xbHQoyAHrT6"
   },
   "source": [
    "First of all, we need to return the raw data to be words, and not chars."
   ]
  },
  {
   "cell_type": "code",
   "execution_count": 0,
   "metadata": {
    "colab": {},
    "colab_type": "code",
    "id": "Di-6ioXv26Fn"
   },
   "outputs": [],
   "source": [
    "my_join = lambda chars: ''.join(chars)\n",
    "\n",
    "X_train = dict()\n",
    "X_train['search_term'] = np.array([my_join(st) for st in raw_x_train['search_term']])\n",
    "X_train['product_description'] = np.array([my_join(pd) for pd in raw_x_train['product_description']])\n",
    "\n",
    "X_val = dict()\n",
    "X_val['search_term'] = np.array([my_join(st) for st in raw_x_val['search_term']])\n",
    "X_val['product_description'] = np.array([my_join(pd) for pd in raw_x_val['product_description']])\n",
    "\n",
    "X_test = dict()\n",
    "X_test['search_term'] = raw_X_test['search_term'].map(my_join)\n",
    "X_test['product_description'] = raw_X_test['product_description'].map(my_join)"
   ]
  },
  {
   "cell_type": "markdown",
   "metadata": {
    "colab_type": "text",
    "id": "kN2CwfT5IE8t"
   },
   "source": [
    "## A - Preprocess"
   ]
  },
  {
   "cell_type": "markdown",
   "metadata": {
    "colab_type": "text",
    "id": "Cyv-Om5rIPB2"
   },
   "source": [
    "Now we will repate the some process from section $1 A$. Such that at the end of the process we will have train, validation and test sets that contain sequence of words."
   ]
  },
  {
   "cell_type": "markdown",
   "metadata": {
    "colab_type": "text",
    "id": "fJInyTdfWtEe"
   },
   "source": [
    "First, we need to find all the distinct words."
   ]
  },
  {
   "cell_type": "code",
   "execution_count": 0,
   "metadata": {
    "colab": {
     "base_uri": "https://localhost:8080/",
     "height": 36
    },
    "colab_type": "code",
    "id": "T7gT4Srl37Qf",
    "outputId": "d92bc9b8-cd5f-4068-df1e-3bb1267c9473"
   },
   "outputs": [
    {
     "name": "stdout",
     "output_type": "stream",
     "text": [
      "number of disticnt words in the train set: 291,939\n"
     ]
    }
   ],
   "source": [
    "all_distinct_words = X_train['search_term'].tolist() + X_train['product_description'].tolist() + \\\n",
    "                     X_val['search_term'].tolist() + X_val['product_description'].tolist()\n",
    "all_distinct_words = set(reduce(lambda acc,c: acc.union(set(c.split())),all_distinct_words,set()))\n",
    "print('number of disticnt words in the train set: {:,}'.format(len(all_distinct_words)))"
   ]
  },
  {
   "cell_type": "code",
   "execution_count": 0,
   "metadata": {
    "colab": {},
    "colab_type": "code",
    "id": "3um1eVoiTO1r"
   },
   "outputs": [],
   "source": [
    "# all_distinct_words = np.array(list(all_distinct_words))\n",
    "# save_all_distinct_words()"
   ]
  },
  {
   "cell_type": "code",
   "execution_count": 0,
   "metadata": {
    "colab": {},
    "colab_type": "code",
    "id": "hSEcMyHuV36T"
   },
   "outputs": [],
   "source": [
    "all_distinct_words = load_all_distinct_words()"
   ]
  },
  {
   "cell_type": "markdown",
   "metadata": {
    "colab_type": "text",
    "id": "2d6FunKVrZ-g"
   },
   "source": [
    "Second, we want to refer to character-combinations such as: \"¾\", \"90°\", \"#SC\" as words. So in order to that we will not filter character such as \"/\", \"@\", \"*\" etc, while fitting the tokenizer. Let's look a the words that contain character the will be filtered if use the default ```filters``` definition of the tokenizer."
   ]
  },
  {
   "cell_type": "code",
   "execution_count": 0,
   "metadata": {
    "colab": {
     "base_uri": "https://localhost:8080/",
     "height": 578
    },
    "colab_type": "code",
    "id": "Q-QsmDfjZR9x",
    "outputId": "e0c29049-f750-43e1-ee63-ac5fb866db25"
   },
   "outputs": [
    {
     "name": "stdout",
     "output_type": "stream",
     "text": [
      "unloaded.2\n",
      "TV's,\n",
      "systemZero-flush\n",
      "(18-1/4\n",
      "larger)Made\n",
      "fulfilled;\n",
      "180FDVD/CD\n",
      "HomeDepot@BrownJordan.com,\n",
      "$289.00\n",
      "cubePlating:\n",
      "500%Bearings\n",
      "110dB+\n",
      "constructionZinc-plated#10-24Coarse\n",
      "0_-360_.Pre-installed\n",
      "Solar!Also\n",
      "finish\"Matchless\"\n",
      "href=\"http://www.homedepot.com/c/SPC_BRD_PA_Wagner\"\n",
      "SHAKE&SHIP\n",
      "R.V.s**Not\n",
      "[40F\n",
      "lumber?\n",
      "Info<img\n",
      "Applianceslt/>A\n",
      "s.\\75\n",
      "[Bifenthrin]\n",
      "Barrel`s\n",
      "installations}\n",
      "m~m18\n",
      "{required\n",
      "kgf/cm^2,\n"
     ]
    }
   ],
   "source": [
    "chars = set('<|=]`:~}(#>+\".?_\\%);/$,{@^*&[-!')\n",
    "for word in all_distinct_words:\n",
    "  intersection = chars.intersection(set(word))\n",
    "  if len(chars.intersection(set(word))) > 0:\n",
    "    print(word)\n",
    "    chars = chars - set(intersection.pop())"
   ]
  },
  {
   "cell_type": "markdown",
   "metadata": {
    "colab_type": "text",
    "id": "6nQd4igEak0Y"
   },
   "source": [
    "We can se that we wouldn't wont to split words that contain $\\$$ because we think this can be informative relatively to the context of the dataset. In addition we would like to filter $<, >$ because we can observe *HTML* tags and we think that the model will not benefit from them. We thong that is because probably the *HTML* tags are representing a format that will repeat in all the inputs and we do not want to attribute much importance to it."
   ]
  },
  {
   "cell_type": "code",
   "execution_count": 0,
   "metadata": {
    "colab": {},
    "colab_type": "code",
    "id": "kwdS-N-j2yhT"
   },
   "outputs": [],
   "source": [
    "tokenizer = Tokenizer(num_words=len(all_distinct_words), filters='\";(),+-.=!?[]_<>{}^~:')\n",
    "tokenizer.fit_on_texts(list(all_distinct_words))\n",
    "\n",
    "X_train['search_term'] = tokenizer.texts_to_sequences(X_train['search_term'])\n",
    "X_train['product_description'] = tokenizer.texts_to_sequences(X_train['product_description'])\n",
    "\n",
    "X_val['search_term'] = tokenizer.texts_to_sequences(X_val['search_term'])\n",
    "X_val['product_description'] = tokenizer.texts_to_sequences(X_val['product_description'])\n",
    "\n",
    "X_test['search_term'] = tokenizer.texts_to_sequences(X_test['search_term'])\n",
    "X_test['product_description'] = tokenizer.texts_to_sequences(X_test['product_description'])"
   ]
  },
  {
   "cell_type": "markdown",
   "metadata": {
    "colab_type": "text",
    "id": "ODCqE9tVYvSh"
   },
   "source": [
    "Let's observed some word that contain the not filter characters:"
   ]
  },
  {
   "cell_type": "code",
   "execution_count": 0,
   "metadata": {
    "colab": {
     "base_uri": "https://localhost:8080/",
     "height": 185
    },
    "colab_type": "code",
    "id": "akO3V_QuuzI3",
    "outputId": "7264f4c4-d61f-4f3f-d05a-d1439b351afc"
   },
   "outputs": [
    {
     "name": "stdout",
     "output_type": "stream",
     "text": [
      "1/2\n",
      "100%\n",
      "$1\n",
      "#1\n",
      "*\n",
      "support@weberstephen\n",
      "t&g\n",
      "hrs\\day\n",
      "barrel`s\n"
     ]
    }
   ],
   "source": [
    "not_filter = set('\\|&%/$*#@`')\n",
    "for word in tokenizer.word_index.keys():\n",
    "  intersection = not_filter.intersection(set(word))\n",
    "  if len(not_filter.intersection(set(word))) > 0:\n",
    "    print(word)\n",
    "    not_filter = not_filter - set(intersection.pop())"
   ]
  },
  {
   "cell_type": "markdown",
   "metadata": {
    "colab_type": "text",
    "id": "la8YaEVMwqj8"
   },
   "source": [
    "We can see that by not filtering some of the character we can observed words like: $\"\\$1,\"$ $\"1/2\"$, $\"support@weberstephen\"$ and more."
   ]
  },
  {
   "cell_type": "code",
   "execution_count": 16,
   "metadata": {
    "colab": {
     "base_uri": "https://localhost:8080/",
     "height": 54
    },
    "colab_type": "code",
    "id": "QtiCzp8rHKh7",
    "outputId": "9f0ee8e4-dbed-461f-b773-24930619f178"
   },
   "outputs": [
    {
     "name": "stdout",
     "output_type": "stream",
     "text": [
      "search terms sequences length: 3\n",
      "product description sequences length: 142\n"
     ]
    }
   ],
   "source": [
    "search_terms_lens = int(np.array([len(term) for term in X_train['search_term']]).mean())\n",
    "produc_lens = int(np.array([len(p) for p in X_train['product_description']]).mean())\n",
    "\n",
    "print('search terms sequences length: {}'.format(search_terms_lens))\n",
    "print('product description sequences length: {}'.format(produc_lens))"
   ]
  },
  {
   "cell_type": "code",
   "execution_count": 0,
   "metadata": {
    "colab": {},
    "colab_type": "code",
    "id": "Sk2gHHkoHdhQ"
   },
   "outputs": [],
   "source": [
    "X_train['search_term'] = pad_sequences(X_train['search_term'],maxlen=search_terms_lens)\n",
    "X_train['product_description'] = pad_sequences(X_train['product_description'],maxlen=int(produc_lens))\n",
    "\n",
    "X_val['search_term'] = pad_sequences(X_val['search_term'],maxlen=search_terms_lens)\n",
    "X_val['product_description'] = pad_sequences(X_val['product_description'],maxlen=int(produc_lens))\n",
    "\n",
    "X_test['search_term'] = pad_sequences(X_test['search_term'],maxlen=search_terms_lens)\n",
    "X_test['product_description'] = pad_sequences(X_test['product_description'],maxlen=int(produc_lens))"
   ]
  },
  {
   "cell_type": "code",
   "execution_count": 0,
   "metadata": {
    "colab": {
     "base_uri": "https://localhost:8080/",
     "height": 167
    },
    "colab_type": "code",
    "id": "2te3I404HiPc",
    "outputId": "25152921-6260-401c-a738-ae72d8018b1c"
   },
   "outputs": [
    {
     "name": "stdout",
     "output_type": "stream",
     "text": [
      "X_train['search_term'].shape: (59253, 3)\n",
      "X_train['product_description'].shape: (59253, 142)\n",
      "\n",
      "X_val['search_term'].shape: (14814, 3)\n",
      "X_val['product_description'].shape: (14814, 142)\n",
      "\n",
      "X_test['search_term'].shape: (83447, 3)\n",
      "X_test['product_description'].shape: (83447, 142)\n"
     ]
    }
   ],
   "source": [
    "print('X_train[\\'search_term\\'].shape: {}'.format(X_train['search_term'].shape))\n",
    "print('X_train[\\'product_description\\'].shape: {}\\n'.format(X_train['product_description'].shape))\n",
    "\n",
    "print('X_val[\\'search_term\\'].shape: {}'.format(X_val['search_term'].shape))\n",
    "print('X_val[\\'product_description\\'].shape: {}\\n'.format(X_val['product_description'].shape))\n",
    "\n",
    "print('X_test[\\'search_term\\'].shape: {}'.format(X_test['search_term'].shape))\n",
    "print('X_test[\\'product_description\\'].shape: {}'.format(X_test['product_description'].shape))"
   ]
  },
  {
   "cell_type": "markdown",
   "metadata": {
    "colab_type": "text",
    "id": "Rq4TzHAdI90b"
   },
   "source": [
    "Now we will use a pre-trained word2vec vectors in order to construct an embedding matrix. To do this we will use the *GoogleNews-vectors-negative300.bin* file. This mean the embedding size is $300$.<br>\n",
    "We will contrast $1$ embedding matrix for the ```search_term``` and for the ```product_description```. This means that we will have the same representation for the same word that appears in ```search_term``` and once in ```product_description```."
   ]
  },
  {
   "cell_type": "code",
   "execution_count": 0,
   "metadata": {
    "colab": {},
    "colab_type": "code",
    "id": "NzAlwiFEWjI6"
   },
   "outputs": [],
   "source": [
    "def make_embedding_matrix(pre_train_embedding):\n",
    "  embedding_matrix = np.empty((len(tokenizer.word_index), 300))\n",
    "  for word, i in tokenizer.word_index.items():\n",
    "    if word in pre_train_embedding:\n",
    "      if type(pre_train_embedding) == dict:\n",
    "        embedding_matrix[i] = pre_train_embedding[word]\n",
    "      else:  \n",
    "        embedding_matrix[i] = pre_train_embedding.get_vector(word)\n",
    "  return embedding_matrix"
   ]
  },
  {
   "cell_type": "code",
   "execution_count": 0,
   "metadata": {
    "colab": {},
    "colab_type": "code",
    "id": "e1w3gftwd1p4"
   },
   "outputs": [],
   "source": [
    "pre_train_embedding_GoogleNews = KeyedVectors.load_word2vec_format(path + '/GoogleNews-vectors-negative300.bin', binary=True)\n",
    "embedding_matrix_GoogleNews = make_embedding_matrix(pre_train_embedding_GoogleNews)\n",
    "del pre_train_embedding_GoogleNews"
   ]
  },
  {
   "cell_type": "code",
   "execution_count": 0,
   "metadata": {
    "colab": {},
    "colab_type": "code",
    "id": "wh6pwPhad7TK"
   },
   "outputs": [],
   "source": [
    "def print_num_of_zero_rows(embedding_matrix):\n",
    "  num_of_zero_rows = 0\n",
    "  for i in range(embedding_matrix.shape[0]):\n",
    "    if reduce(lambda cur, acc: acc and cur, np.equal(embedding_matrix[i], np.zeros((300,))), True):\n",
    "      num_of_zero_rows += 1\n",
    "  print('Total number of words that do not have an embedding: {:,}'.format(num_of_zero_rows))\n",
    "  print('Total number of words: {:,}'.format(len(tokenizer.word_index)))"
   ]
  },
  {
   "cell_type": "code",
   "execution_count": 0,
   "metadata": {
    "colab": {
     "base_uri": "https://localhost:8080/",
     "height": 54
    },
    "colab_type": "code",
    "id": "Os3dAD4sS_-D",
    "outputId": "8435ddea-cc03-4137-8d9e-11ba89866553"
   },
   "outputs": [
    {
     "name": "stdout",
     "output_type": "stream",
     "text": [
      "Total number of words that do not have an embedding: 149,567\n",
      "Total number of words: 176,170\n"
     ]
    }
   ],
   "source": [
    "print_num_of_zero_rows(embedding_matrix_GoogleNews)"
   ]
  },
  {
   "cell_type": "markdown",
   "metadata": {
    "colab_type": "text",
    "id": "8RSNA34Pg8bD"
   },
   "source": [
    "We can see that most of the words in our data are missing from the pre trained embedding vectors. So we will try to use a different embedding vectors.<br>\n",
    "We will use the *fastText* pre-trained word vectors that contain $1$ million word vectors trained on Wikipedia 2017, UMBC webbase corpus and statmt.org news dataset ($16B$ tokens). <br>\n",
    "Since it is a lot of vector we do not want to load all of them at once. So we will load all the necessary vectors, those who represent words that left after the pre process of the tokenizer.<br>\n",
    "Notice that in order to save memory space, we load those vectores as a generator and after we make sure we need them we activates the generator in order to load the necessary vectors in to the embedding matrix."
   ]
  },
  {
   "cell_type": "code",
   "execution_count": 0,
   "metadata": {
    "colab": {},
    "colab_type": "code",
    "id": "X6fvX4BTidVd"
   },
   "outputs": [],
   "source": [
    "def load_necessary_vectors(fname):\n",
    "  fin = io.open(path + '/' + fname, 'r', encoding='utf-8', newline='\\n', errors='ignore')\n",
    "  n, d = map(int, fin.readline().split())\n",
    "  assert d == 300\n",
    "  data = {}\n",
    "  for line in fin:\n",
    "    tokens = line.rstrip().split(' ')\n",
    "    if tokens[0] in tokenizer.word_index.keys():\n",
    "      data[tokens[0]] = tokens[1:]\n",
    "  return data"
   ]
  },
  {
   "cell_type": "code",
   "execution_count": 0,
   "metadata": {
    "colab": {
     "base_uri": "https://localhost:8080/",
     "height": 54
    },
    "colab_type": "code",
    "id": "IPkoAjjVuxKo",
    "outputId": "4275cb86-23f4-4b30-96bf-de8a539919c6"
   },
   "outputs": [
    {
     "name": "stdout",
     "output_type": "stream",
     "text": [
      "Total number of words that do not have an embedding: 149,567\n",
      "Total number of words: 176,170\n"
     ]
    }
   ],
   "source": [
    "pre_train_embedding_fastText = load_necessary_vectors('wiki.es.vec')\n",
    "embedding_matrix_fastText = make_embedding_matrix(pre_train_embedding_fastText)\n",
    "del pre_train_embedding_fastText\n",
    "print_num_of_zero_rows(embedding_matrix_GoogleNews)"
   ]
  },
  {
   "cell_type": "markdown",
   "metadata": {
    "colab_type": "text",
    "id": "qSa5SioQbM_m"
   },
   "source": [
    "We can see that with the *fastText* we get the same numbers of vectors. Let's find out if all of them are for the same words."
   ]
  },
  {
   "cell_type": "code",
   "execution_count": 0,
   "metadata": {
    "colab": {
     "base_uri": "https://localhost:8080/",
     "height": 36
    },
    "colab_type": "code",
    "id": "AnD8aIzyY-9N",
    "outputId": "e1aacfc3-0085-4fe7-a168-487c41b72a71"
   },
   "outputs": [
    {
     "data": {
      "text/plain": [
       "9477"
      ]
     },
     "execution_count": 63,
     "metadata": {
      "tags": []
     },
     "output_type": "execute_result"
    }
   ],
   "source": [
    "indexs = []\n",
    "zero_arr = np.zeros((300,))\n",
    "for i in range(embedding_matrix_fastText.shape[0]):\n",
    "  is_zero_GoogleNews_i = reduce(lambda cur, acc: acc and cur, np.equal(embedding_matrix_GoogleNews[i], zero_arr), True)\n",
    "  is_zero_fastText_i = reduce(lambda cur, acc: acc and cur, np.equal(embedding_matrix_fastText[i], zero_arr), True)\n",
    "  if (is_zero_GoogleNews_i and not is_zero_fastText_i) or (not is_zero_GoogleNews_i and is_zero_fastText_i):\n",
    "     indexs.append(i)\n",
    "len(indexs)"
   ]
  },
  {
   "cell_type": "markdown",
   "metadata": {
    "colab_type": "text",
    "id": "Zy1hT_IJeBB_"
   },
   "source": [
    "We can see that ther are $9,477$ vectores one of the pre-trains vectors sets has and the other not. So maybe we can combain the two embedding matrices. Let's check if there are some similarity between the two pre-trained vectors sets."
   ]
  },
  {
   "cell_type": "code",
   "execution_count": 0,
   "metadata": {
    "colab": {
     "base_uri": "https://localhost:8080/",
     "height": 36
    },
    "colab_type": "code",
    "id": "iVW5P2smcgjn",
    "outputId": "f811fcfe-1943-464c-ef35-12f9d0f032cb"
   },
   "outputs": [
    {
     "data": {
      "text/plain": [
       "0"
      ]
     },
     "execution_count": 30,
     "metadata": {
      "tags": []
     },
     "output_type": "execute_result"
    }
   ],
   "source": [
    "_indexs = []\n",
    "zero_arr = np.zeros((300,))\n",
    "for i in range(embedding_matrix_fastText.shape[0]):\n",
    "  is_zero_GoogleNews_i = reduce(lambda cur, acc: acc and cur, np.equal(embedding_matrix_GoogleNews[i], zero_arr), True)\n",
    "  is_zero_fastText_i = reduce(lambda cur, acc: acc and cur, np.equal(embedding_matrix_fastText[i], zero_arr), True)\n",
    "  if not is_zero_GoogleNews_i and not is_zero_fastText_i:\n",
    "    if reduce(lambda cur, acc: acc and cur, np.equal(embedding_matrix_GoogleNews[i], embedding_matrix_fastText[i]), True):\n",
    "      _indexs.append(i)\n",
    "len(_indexs)"
   ]
  },
  {
   "cell_type": "markdown",
   "metadata": {
    "colab_type": "text",
    "id": "3_3FLJDXetPp"
   },
   "source": [
    "Clearly there is no similarity at all. So for the next section we we will try train $3$ models and see which one performs best.\n",
    "1. A model that use the ```embedding_matrix_GoogleNews``` without train it.\n",
    "2. A model that use the ```embedding_matrix_fastText``` without train it.\n",
    "3. A model that use the a combination of the two and train on it.\n",
    "\n",
    "Notice that we will not keep the zero vectors, instead we will make random vectors."
   ]
  },
  {
   "cell_type": "code",
   "execution_count": 0,
   "metadata": {
    "colab": {},
    "colab_type": "code",
    "id": "LIvUwB_zhHjU"
   },
   "outputs": [],
   "source": [
    "embedding_matrix_comb = (np.random.rand(len(tokenizer.word_index), 300) - 0.5) / 5.0\n",
    "for i in indexs:\n",
    "  is_zero_GoogleNews_i = reduce(lambda cur, acc: acc and cur, np.equal(embedding_matrix_GoogleNews[i], zero_arr), True)\n",
    "  is_zero_fastText_i = reduce(lambda cur, acc: acc and cur, np.equal(embedding_matrix_fastText[i], zero_arr), True)\n",
    "  if not is_zero_GoogleNews_i:\n",
    "    embedding_matrix_comb[i] = embedding_matrix_GoogleNews[i]\n",
    "  elif not is_zero_fastText_i:\n",
    "    embedding_matrix_comb[i] = embedding_matrix_fastText[i]\n",
    "save_embedding_matrix('embedding_matrix_comb', embedding_matrix_comb)"
   ]
  },
  {
   "cell_type": "code",
   "execution_count": 0,
   "metadata": {
    "colab": {},
    "colab_type": "code",
    "id": "_3e9hfpqmdEO"
   },
   "outputs": [],
   "source": [
    "for i in indexs:\n",
    "  is_zero_GoogleNews_i = reduce(lambda cur, acc: acc and cur, np.equal(embedding_matrix_GoogleNews[i], zero_arr), True)\n",
    "  is_zero_fastText_i = reduce(lambda cur, acc: acc and cur, np.equal(embedding_matrix_fastText[i], zero_arr), True)\n",
    "  if is_zero_GoogleNews_i:\n",
    "    embedding_matrix_GoogleNews[i] = (np.random.rand(300) - 0.5) / 5.0\n",
    "  elif is_zero_fastText_i:\n",
    "    embedding_matrix_fastText[i] = (np.random.rand(300) - 0.5) / 5.0\n",
    "    \n",
    "save_embedding_matrix('embedding_matrix_GoogleNews', embedding_matrix_GoogleNews)\n",
    "save_embedding_matrix('embedding_matrix_fastText', embedding_matrix_fastText)"
   ]
  },
  {
   "cell_type": "code",
   "execution_count": 0,
   "metadata": {
    "colab": {},
    "colab_type": "code",
    "id": "4tNu3JUTnXsv"
   },
   "outputs": [],
   "source": [
    "embedding_matrix_comb = load_embedding_matrix('embedding_matrix_comb')\n",
    "embedding_matrix_GoogleNews = load_embedding_matrix('embedding_matrix_GoogleNews')\n",
    "embedding_matrix_fastText = load_embedding_matrix('embedding_matrix_fastText')"
   ]
  },
  {
   "cell_type": "markdown",
   "metadata": {
    "colab_type": "text",
    "id": "05nmn81rdmpE"
   },
   "source": [
    "## B - Siamese Network"
   ]
  },
  {
   "cell_type": "markdown",
   "metadata": {
    "colab_type": "text",
    "id": "dEAMk1VsfIbT"
   },
   "source": [
    "We will use the same model architecture from section $1B$ with an addition of embedding layer between the input layer and the LSTM layer.<br>\n",
    "Notice that the embedding layer with the right ```input_length``` parameter will reshape the input to a $3$ dimensional tensor.\n"
   ]
  },
  {
   "cell_type": "code",
   "execution_count": 0,
   "metadata": {
    "colab": {},
    "colab_type": "code",
    "id": "nY2OzTHZeKQZ"
   },
   "outputs": [],
   "source": [
    "def get_model(embedding_matrix):\n",
    "  # Input\n",
    "  term_input = Input(shape=(search_terms_lens,), name='term_input')\n",
    "  product_input = Input(shape=(produc_lens,), name='product_input')\n",
    "\n",
    "\n",
    "  # Embedding\n",
    "  term_embedding = Embedding(embedding_matrix.shape[0], 300, weights=[embedding_matrix], \n",
    "                             input_length=search_terms_lens, name='term_embedding')(term_input)\n",
    "\n",
    "  product_embedding = Embedding(embedding_matrix.shape[0], 300, weights=[embedding_matrix], \n",
    "                             input_length=produc_lens, name='product_embedding')(product_input)\n",
    "\n",
    "  # Shared LSTM\n",
    "  shared_lstm = Sequential(name='shared_model')\n",
    "  shared_lstm.add(CuDNNLSTM(lstm_n_hidden))\n",
    "  shared_lstm.add(Dense(128, activation='relu'))\n",
    "\n",
    "  # Output\n",
    "  output = Lambda(function=lambda x: norm_to_1_3(exponent_neg_manhattan_distance(x[0], x[1])),\n",
    "                  output_shape=lambda x: (x[0][0], 1),\n",
    "                  name='prediction')([shared_lstm(term_embedding), shared_lstm(product_embedding)])\n",
    "\n",
    "  model = Model(inputs=[term_input, product_input], outputs=[output])\n",
    "  optimizer = Adadelta(clipnorm=gradient_clipping_norm)\n",
    "  model.compile(loss='mse', optimizer=optimizer)\n",
    "  model.summary()\n",
    "  return model"
   ]
  },
  {
   "cell_type": "markdown",
   "metadata": {
    "colab_type": "text",
    "id": "TKC2LA7evKVJ"
   },
   "source": [
    "### First Model - ```embedding_matrix_GoogleNews``` without train it."
   ]
  },
  {
   "cell_type": "code",
   "execution_count": 0,
   "metadata": {
    "colab": {
     "base_uri": "https://localhost:8080/",
     "height": 410
    },
    "colab_type": "code",
    "id": "kU0GFPAmwEFx",
    "outputId": "2275e94e-1669-4517-ea79-4ed1096404a3"
   },
   "outputs": [
    {
     "name": "stdout",
     "output_type": "stream",
     "text": [
      "__________________________________________________________________________________________________\n",
      "Layer (type)                    Output Shape         Param #     Connected to                     \n",
      "==================================================================================================\n",
      "term_input (InputLayer)         (None, 3)            0                                            \n",
      "__________________________________________________________________________________________________\n",
      "product_input (InputLayer)      (None, 142)          0                                            \n",
      "__________________________________________________________________________________________________\n",
      "term_embedding (Embedding)      (None, 3, 300)       52851000    term_input[0][0]                 \n",
      "__________________________________________________________________________________________________\n",
      "product_embedding (Embedding)   (None, 142, 300)     52851000    product_input[0][0]              \n",
      "__________________________________________________________________________________________________\n",
      "shared_model (Sequential)       (None, 128)          76928       term_embedding[0][0]             \n",
      "                                                                 product_embedding[0][0]          \n",
      "__________________________________________________________________________________________________\n",
      "prediction (Lambda)             (None, 1)            0           shared_model[1][0]               \n",
      "                                                                 shared_model[2][0]               \n",
      "==================================================================================================\n",
      "Total params: 105,778,928\n",
      "Trainable params: 105,778,928\n",
      "Non-trainable params: 0\n",
      "__________________________________________________________________________________________________\n"
     ]
    }
   ],
   "source": [
    "GoogleNews_model = get_model(embedding_matrix_GoogleNews)"
   ]
  },
  {
   "cell_type": "markdown",
   "metadata": {
    "colab_type": "text",
    "id": "hCj7bm2JhsfD"
   },
   "source": [
    "Since we use a pretrained embedding matrix we do not want to train the embedding layers.\n",
    "Now let's define the embedding layers so that the weights can not be trained."
   ]
  },
  {
   "cell_type": "code",
   "execution_count": 0,
   "metadata": {
    "colab": {
     "base_uri": "https://localhost:8080/",
     "height": 410
    },
    "colab_type": "code",
    "id": "tCmUblLggL0J",
    "outputId": "80af54d8-20d7-43f0-fd0d-d9121eecc03f"
   },
   "outputs": [
    {
     "name": "stdout",
     "output_type": "stream",
     "text": [
      "__________________________________________________________________________________________________\n",
      "Layer (type)                    Output Shape         Param #     Connected to                     \n",
      "==================================================================================================\n",
      "term_input (InputLayer)         (None, 3)            0                                            \n",
      "__________________________________________________________________________________________________\n",
      "product_input (InputLayer)      (None, 142)          0                                            \n",
      "__________________________________________________________________________________________________\n",
      "term_embedding (Embedding)      (None, 3, 300)       52851000    term_input[0][0]                 \n",
      "__________________________________________________________________________________________________\n",
      "product_embedding (Embedding)   (None, 142, 300)     52851000    product_input[0][0]              \n",
      "__________________________________________________________________________________________________\n",
      "shared_model (Sequential)       (None, 128)          76928       term_embedding[0][0]             \n",
      "                                                                 product_embedding[0][0]          \n",
      "__________________________________________________________________________________________________\n",
      "prediction (Lambda)             (None, 1)            0           shared_model[1][0]               \n",
      "                                                                 shared_model[2][0]               \n",
      "==================================================================================================\n",
      "Total params: 105,778,928\n",
      "Trainable params: 76,928\n",
      "Non-trainable params: 105,702,000\n",
      "__________________________________________________________________________________________________\n"
     ]
    }
   ],
   "source": [
    "GoogleNews_model.get_layer('term_embedding').trainable = False\n",
    "GoogleNews_model.get_layer('product_embedding').trainable = False\n",
    "\n",
    "optimizer = Adadelta(clipnorm=gradient_clipping_norm)\n",
    "GoogleNews_model.compile(loss='mse', optimizer=optimizer)\n",
    "GoogleNews_model.summary()"
   ]
  },
  {
   "cell_type": "code",
   "execution_count": 0,
   "metadata": {
    "colab": {
     "base_uri": "https://localhost:8080/",
     "height": 1158
    },
    "colab_type": "code",
    "id": "SI3xCssijDtl",
    "outputId": "2013f78c-e46f-4078-e0a8-e33f9e06758b"
   },
   "outputs": [
    {
     "name": "stdout",
     "output_type": "stream",
     "text": [
      "Train on 59253 samples, validate on 14814 samples\n",
      "Epoch 1/30\n",
      "59253/59253 [==============================] - 9s 151us/step - loss: 0.4104 - val_loss: 0.4874\n",
      "Epoch 2/30\n",
      "59253/59253 [==============================] - 6s 99us/step - loss: 0.2362 - val_loss: 0.4884\n",
      "Epoch 3/30\n",
      "59253/59253 [==============================] - 6s 100us/step - loss: 0.2307 - val_loss: 0.4836\n",
      "Epoch 4/30\n",
      "59253/59253 [==============================] - 6s 100us/step - loss: 0.2260 - val_loss: 0.5114\n",
      "Epoch 5/30\n",
      "59253/59253 [==============================] - 6s 99us/step - loss: 0.2226 - val_loss: 0.5035\n",
      "Epoch 6/30\n",
      "59253/59253 [==============================] - 6s 99us/step - loss: 0.2195 - val_loss: 0.4592\n",
      "Epoch 7/30\n",
      "59253/59253 [==============================] - 6s 99us/step - loss: 0.2165 - val_loss: 0.5355\n",
      "Epoch 8/30\n",
      "59253/59253 [==============================] - 6s 100us/step - loss: 0.2135 - val_loss: 0.4742\n",
      "Epoch 9/30\n",
      "59253/59253 [==============================] - 6s 100us/step - loss: 0.2111 - val_loss: 0.4673\n",
      "Epoch 10/30\n",
      "59253/59253 [==============================] - 6s 99us/step - loss: 0.2088 - val_loss: 0.4856\n",
      "Epoch 11/30\n",
      "59253/59253 [==============================] - 6s 98us/step - loss: 0.2069 - val_loss: 0.4866\n",
      "Epoch 12/30\n",
      "59253/59253 [==============================] - 6s 98us/step - loss: 0.2053 - val_loss: 0.4959\n",
      "Epoch 13/30\n",
      "59253/59253 [==============================] - 6s 98us/step - loss: 0.2034 - val_loss: 0.4635\n",
      "Epoch 14/30\n",
      "59253/59253 [==============================] - 6s 98us/step - loss: 0.2013 - val_loss: 0.4469\n",
      "Epoch 15/30\n",
      "59253/59253 [==============================] - 6s 100us/step - loss: 0.2004 - val_loss: 0.4120\n",
      "Epoch 16/30\n",
      "59253/59253 [==============================] - 6s 99us/step - loss: 0.1991 - val_loss: 0.4108\n",
      "Epoch 17/30\n",
      "59253/59253 [==============================] - 6s 99us/step - loss: 0.1972 - val_loss: 0.5098\n",
      "Epoch 18/30\n",
      "59253/59253 [==============================] - 6s 100us/step - loss: 0.1956 - val_loss: 0.4161\n",
      "Epoch 19/30\n",
      "59253/59253 [==============================] - 6s 98us/step - loss: 0.1945 - val_loss: 0.4657\n",
      "Epoch 20/30\n",
      "59253/59253 [==============================] - 6s 98us/step - loss: 0.1934 - val_loss: 0.4484\n",
      "Epoch 21/30\n",
      "59253/59253 [==============================] - 6s 99us/step - loss: 0.1914 - val_loss: 0.4419\n",
      "Epoch 22/30\n",
      "59253/59253 [==============================] - 6s 98us/step - loss: 0.1905 - val_loss: 0.4453\n",
      "Epoch 23/30\n",
      "59253/59253 [==============================] - 6s 98us/step - loss: 0.1902 - val_loss: 0.3983\n",
      "Epoch 24/30\n",
      "59253/59253 [==============================] - 6s 100us/step - loss: 0.1890 - val_loss: 0.4346\n",
      "Epoch 25/30\n",
      "59253/59253 [==============================] - 6s 100us/step - loss: 0.1879 - val_loss: 0.4453\n",
      "Epoch 26/30\n",
      "59253/59253 [==============================] - 6s 98us/step - loss: 0.1853 - val_loss: 0.4381\n",
      "Epoch 27/30\n",
      "59253/59253 [==============================] - 6s 98us/step - loss: 0.1853 - val_loss: 0.4395\n",
      "Epoch 28/30\n",
      "59253/59253 [==============================] - 6s 98us/step - loss: 0.1849 - val_loss: 0.4408\n",
      "Epoch 29/30\n",
      "59253/59253 [==============================] - 6s 98us/step - loss: 0.1836 - val_loss: 0.3967\n",
      "Epoch 30/30\n",
      "59253/59253 [==============================] - 6s 98us/step - loss: 0.1826 - val_loss: 0.4416\n"
     ]
    }
   ],
   "source": [
    "cp = ModelCheckpoint(path + '/best_model_weights_words_GoogleNews.h5',save_best_only=True)\n",
    "start_time = time.time()\n",
    "model_hist = GoogleNews_model.fit([X_train['search_term'], X_train['product_description']], y_train, \n",
    "                                  validation_data=[[X_val['search_term'], X_val['product_description']], y_val], \n",
    "                                  epochs=30, batch_size=1024, callbacks=[cp])\n",
    "end_time = time.time()"
   ]
  },
  {
   "cell_type": "code",
   "execution_count": 0,
   "metadata": {
    "colab": {},
    "colab_type": "code",
    "id": "T9P4ULfxjgO4"
   },
   "outputs": [],
   "source": [
    "GoogleNews_model.load_weights(path + '/best_model_weights_words_GoogleNews.h5')"
   ]
  },
  {
   "cell_type": "code",
   "execution_count": 0,
   "metadata": {
    "colab": {
     "base_uri": "https://localhost:8080/",
     "height": 349
    },
    "colab_type": "code",
    "id": "HymvZ1RYjkf2",
    "outputId": "b7f41803-96d0-4bf8-fb15-3b0669363e29"
   },
   "outputs": [
    {
     "data": {
      "image/png": "[encoded data removed]",
      "text/plain": [
       "<matplotlib.figure.Figure at 0x7fa9732320f0>"
      ]
     },
     "metadata": {
      "tags": []
     },
     "output_type": "display_data"
    }
   ],
   "source": [
    "plot_model_history(model_hist.history)"
   ]
  },
  {
   "cell_type": "code",
   "execution_count": 0,
   "metadata": {
    "colab": {},
    "colab_type": "code",
    "id": "88CuTfgtjrQF"
   },
   "outputs": [],
   "source": [
    "train_preds = GoogleNews_model.predict([X_train['search_term'] , X_train['product_description']])\n",
    "val_preds = GoogleNews_model.predict([X_val['search_term'] , X_val['product_description']])\n",
    "test_preds = GoogleNews_model.predict([X_test['search_term'] , X_test['product_description']])"
   ]
  },
  {
   "cell_type": "code",
   "execution_count": 0,
   "metadata": {
    "colab": {
     "base_uri": "https://localhost:8080/",
     "height": 237
    },
    "colab_type": "code",
    "id": "cbOX6Ht-jPwP",
    "outputId": "c95b7d07-a2e1-424e-f472-a463d291d401"
   },
   "outputs": [
    {
     "data": {
      "text/html": [
       "<div>\n",
       "<style scoped>\n",
       "    .dataframe tbody tr th:only-of-type {\n",
       "        vertical-align: middle;\n",
       "    }\n",
       "\n",
       "    .dataframe tbody tr th {\n",
       "        vertical-align: top;\n",
       "    }\n",
       "\n",
       "    .dataframe thead th {\n",
       "        text-align: right;\n",
       "    }\n",
       "</style>\n",
       "<table border=\"1\" class=\"dataframe\">\n",
       "  <thead>\n",
       "    <tr style=\"text-align: right;\">\n",
       "      <th></th>\n",
       "      <th>Test_MAE</th>\n",
       "      <th>Test_RMSE</th>\n",
       "      <th>Train_MAE</th>\n",
       "      <th>Train_RMSE</th>\n",
       "      <th>runtime</th>\n",
       "      <th>val_MAE</th>\n",
       "      <th>val_RMSE</th>\n",
       "    </tr>\n",
       "  </thead>\n",
       "  <tbody>\n",
       "    <tr>\n",
       "      <th>CharacterLSTM</th>\n",
       "      <td>0.439620</td>\n",
       "      <td>0.529653</td>\n",
       "      <td>0.407273</td>\n",
       "      <td>0.490909</td>\n",
       "      <td>344.968230</td>\n",
       "      <td>0.548179</td>\n",
       "      <td>0.666130</td>\n",
       "    </tr>\n",
       "    <tr>\n",
       "      <th>LightGBM(1D)</th>\n",
       "      <td>0.431425</td>\n",
       "      <td>0.524175</td>\n",
       "      <td>0.392092</td>\n",
       "      <td>0.473328</td>\n",
       "      <td>2.015421</td>\n",
       "      <td>0.573347</td>\n",
       "      <td>0.695735</td>\n",
       "    </tr>\n",
       "    <tr>\n",
       "      <th>RandomForest(1D)</th>\n",
       "      <td>0.439696</td>\n",
       "      <td>0.542474</td>\n",
       "      <td>0.160088</td>\n",
       "      <td>0.218505</td>\n",
       "      <td>61.621884</td>\n",
       "      <td>0.530739</td>\n",
       "      <td>0.650805</td>\n",
       "    </tr>\n",
       "    <tr>\n",
       "      <th>WordLSTM_GoogleNews</th>\n",
       "      <td>0.433116</td>\n",
       "      <td>0.529140</td>\n",
       "      <td>0.347584</td>\n",
       "      <td>0.425105</td>\n",
       "      <td>219.812323</td>\n",
       "      <td>0.516138</td>\n",
       "      <td>0.629872</td>\n",
       "    </tr>\n",
       "    <tr>\n",
       "      <th>naïve_model(1C)</th>\n",
       "      <td>0.537570</td>\n",
       "      <td>0.724760</td>\n",
       "      <td>0.507341</td>\n",
       "      <td>0.675441</td>\n",
       "      <td>96.343572</td>\n",
       "      <td>0.903160</td>\n",
       "      <td>1.058353</td>\n",
       "    </tr>\n",
       "    <tr>\n",
       "      <th>naïve_model_mean(1C)</th>\n",
       "      <td>0.440792</td>\n",
       "      <td>0.531097</td>\n",
       "      <td>0.408442</td>\n",
       "      <td>0.489216</td>\n",
       "      <td>106.922296</td>\n",
       "      <td>0.583952</td>\n",
       "      <td>0.706428</td>\n",
       "    </tr>\n",
       "  </tbody>\n",
       "</table>\n",
       "</div>"
      ],
      "text/plain": [
       "                      Test_MAE  Test_RMSE  Train_MAE  Train_RMSE     runtime  \\\n",
       "CharacterLSTM         0.439620   0.529653   0.407273    0.490909  344.968230   \n",
       "LightGBM(1D)          0.431425   0.524175   0.392092    0.473328    2.015421   \n",
       "RandomForest(1D)      0.439696   0.542474   0.160088    0.218505   61.621884   \n",
       "WordLSTM_GoogleNews   0.433116   0.529140   0.347584    0.425105  219.812323   \n",
       "naïve_model(1C)       0.537570   0.724760   0.507341    0.675441   96.343572   \n",
       "naïve_model_mean(1C)  0.440792   0.531097   0.408442    0.489216  106.922296   \n",
       "\n",
       "                       val_MAE  val_RMSE  \n",
       "CharacterLSTM         0.548179  0.666130  \n",
       "LightGBM(1D)          0.573347  0.695735  \n",
       "RandomForest(1D)      0.530739  0.650805  \n",
       "WordLSTM_GoogleNews   0.516138  0.629872  \n",
       "naïve_model(1C)       0.903160  1.058353  \n",
       "naïve_model_mean(1C)  0.583952  0.706428  "
      ]
     },
     "execution_count": 81,
     "metadata": {
      "tags": []
     },
     "output_type": "execute_result"
    }
   ],
   "source": [
    "table = load_table()\n",
    "add_to_table('WordLSTM_GoogleNews', train_preds, val_preds, test_preds, end_time - start_time)\n",
    "pd.DataFrame.from_dict(table).T"
   ]
  },
  {
   "cell_type": "code",
   "execution_count": 0,
   "metadata": {
    "colab": {},
    "colab_type": "code",
    "id": "QJjetnBPj4Dw"
   },
   "outputs": [],
   "source": [
    "# save_table()"
   ]
  },
  {
   "cell_type": "markdown",
   "metadata": {
    "colab_type": "text",
    "id": "SErU0Apg4G-q"
   },
   "source": [
    "We can observed that the model is better then the ```naïve_model_mean``` model with $0.5291$ *RMSE* score on the test set. In addition we see that the model is doing better the all other model on the validation set with $0.629...$ *RMSE* score.<br>\n",
    "In addition we can see that the ```WordLSTM_GoogleNews``` model fit time were faster than the ```CharacterLSTM```. Again we assume that is because the length of the words sequences is mach smaller the the character sequences. $3$ for the search term search in opposite to $16$. And $142$ for the product description in compared to $730$."
   ]
  },
  {
   "cell_type": "code",
   "execution_count": 0,
   "metadata": {
    "colab": {
     "base_uri": "https://localhost:8080/",
     "height": 334
    },
    "colab_type": "code",
    "id": "VYEI4UErj5uJ",
    "outputId": "15c28274-5d4f-4118-83f3-767fbbef3225"
   },
   "outputs": [
    {
     "name": "stdout",
     "output_type": "stream",
     "text": [
      "Test\n",
      "RMSE: 0.5291\n"
     ]
    },
    {
     "data": {
      "image/png": "[encoded data removed]",
      "text/plain": [
       "<matplotlib.figure.Figure at 0x7fa9703a9c18>"
      ]
     },
     "metadata": {
      "tags": []
     },
     "output_type": "display_data"
    }
   ],
   "source": [
    "print('Test')\n",
    "plot_results(test_preds, y_test.values)"
   ]
  },
  {
   "cell_type": "code",
   "execution_count": 0,
   "metadata": {
    "colab": {
     "base_uri": "https://localhost:8080/",
     "height": 36
    },
    "colab_type": "code",
    "id": "L2pJ_vLNk1Xu",
    "outputId": "ba7166cf-edbd-48d5-b41d-303ee1f5f25e"
   },
   "outputs": [
    {
     "data": {
      "text/plain": [
       "(1.2674831, 2.9339314)"
      ]
     },
     "execution_count": 84,
     "metadata": {
      "tags": []
     },
     "output_type": "execute_result"
    }
   ],
   "source": [
    "test_preds.min(), test_preds.max()"
   ]
  },
  {
   "cell_type": "markdown",
   "metadata": {
    "colab_type": "text",
    "id": "T_Yrig4A97IH"
   },
   "source": [
    "Here we can see that the model predict bigger range of possible values from the ```CharacterLSTM``` model. In addition we can observed that the model pretends around the mean of the train set which is $2.43$. This two factors explain the decrease in the *RMSE* score."
   ]
  },
  {
   "cell_type": "markdown",
   "metadata": {
    "colab_type": "text",
    "id": "zC53ZYNF16I6"
   },
   "source": [
    "### Second Model - ```embedding_matrix_fastText``` without train it."
   ]
  },
  {
   "cell_type": "code",
   "execution_count": 0,
   "metadata": {
    "colab": {
     "base_uri": "https://localhost:8080/",
     "height": 410
    },
    "colab_type": "code",
    "id": "1ILtjqPX2ljC",
    "outputId": "feec67d0-375b-4bdf-b4ce-348e160d6fdb"
   },
   "outputs": [
    {
     "name": "stdout",
     "output_type": "stream",
     "text": [
      "__________________________________________________________________________________________________\n",
      "Layer (type)                    Output Shape         Param #     Connected to                     \n",
      "==================================================================================================\n",
      "term_input (InputLayer)         (None, 3)            0                                            \n",
      "__________________________________________________________________________________________________\n",
      "product_input (InputLayer)      (None, 142)          0                                            \n",
      "__________________________________________________________________________________________________\n",
      "term_embedding (Embedding)      (None, 3, 300)       52851000    term_input[0][0]                 \n",
      "__________________________________________________________________________________________________\n",
      "product_embedding (Embedding)   (None, 142, 300)     52851000    product_input[0][0]              \n",
      "__________________________________________________________________________________________________\n",
      "shared_model (Sequential)       (None, 128)          76928       term_embedding[0][0]             \n",
      "                                                                 product_embedding[0][0]          \n",
      "__________________________________________________________________________________________________\n",
      "prediction (Lambda)             (None, 1)            0           shared_model[1][0]               \n",
      "                                                                 shared_model[2][0]               \n",
      "==================================================================================================\n",
      "Total params: 105,778,928\n",
      "Trainable params: 105,778,928\n",
      "Non-trainable params: 0\n",
      "__________________________________________________________________________________________________\n"
     ]
    }
   ],
   "source": [
    "fastText_model = get_model(embedding_matrix_fastText)"
   ]
  },
  {
   "cell_type": "markdown",
   "metadata": {
    "colab_type": "text",
    "id": "XYPD3T4H3Qby"
   },
   "source": [
    "For this model too, we will not want to train the layers embedding."
   ]
  },
  {
   "cell_type": "code",
   "execution_count": 0,
   "metadata": {
    "colab": {
     "base_uri": "https://localhost:8080/",
     "height": 410
    },
    "colab_type": "code",
    "id": "ykx76poU2nYM",
    "outputId": "d871e0f5-1613-4fae-fb3c-601a8428c66a"
   },
   "outputs": [
    {
     "name": "stdout",
     "output_type": "stream",
     "text": [
      "__________________________________________________________________________________________________\n",
      "Layer (type)                    Output Shape         Param #     Connected to                     \n",
      "==================================================================================================\n",
      "term_input (InputLayer)         (None, 3)            0                                            \n",
      "__________________________________________________________________________________________________\n",
      "product_input (InputLayer)      (None, 142)          0                                            \n",
      "__________________________________________________________________________________________________\n",
      "term_embedding (Embedding)      (None, 3, 300)       52851000    term_input[0][0]                 \n",
      "__________________________________________________________________________________________________\n",
      "product_embedding (Embedding)   (None, 142, 300)     52851000    product_input[0][0]              \n",
      "__________________________________________________________________________________________________\n",
      "shared_model (Sequential)       (None, 128)          76928       term_embedding[0][0]             \n",
      "                                                                 product_embedding[0][0]          \n",
      "__________________________________________________________________________________________________\n",
      "prediction (Lambda)             (None, 1)            0           shared_model[1][0]               \n",
      "                                                                 shared_model[2][0]               \n",
      "==================================================================================================\n",
      "Total params: 105,778,928\n",
      "Trainable params: 76,928\n",
      "Non-trainable params: 105,702,000\n",
      "__________________________________________________________________________________________________\n"
     ]
    }
   ],
   "source": [
    "fastText_model.get_layer('term_embedding').trainable = False\n",
    "fastText_model.get_layer('product_embedding').trainable = False\n",
    "\n",
    "optimizer = Adadelta(clipnorm=gradient_clipping_norm)\n",
    "fastText_model.compile(loss='mse', optimizer=optimizer)\n",
    "fastText_model.summary()"
   ]
  },
  {
   "cell_type": "code",
   "execution_count": 0,
   "metadata": {
    "colab": {
     "base_uri": "https://localhost:8080/",
     "height": 1158
    },
    "colab_type": "code",
    "id": "g_SntaiE2ajy",
    "outputId": "3b96b909-dedb-4907-e6b0-bce630418810"
   },
   "outputs": [
    {
     "name": "stdout",
     "output_type": "stream",
     "text": [
      "Train on 59253 samples, validate on 14814 samples\n",
      "Epoch 1/30\n",
      "59253/59253 [==============================] - 7s 110us/step - loss: 0.4119 - val_loss: 0.4567\n",
      "Epoch 2/30\n",
      "59253/59253 [==============================] - 6s 102us/step - loss: 0.2391 - val_loss: 0.5043\n",
      "Epoch 3/30\n",
      "59253/59253 [==============================] - 6s 103us/step - loss: 0.2320 - val_loss: 0.4778\n",
      "Epoch 4/30\n",
      "59253/59253 [==============================] - 6s 102us/step - loss: 0.2257 - val_loss: 0.5088\n",
      "Epoch 5/30\n",
      "59253/59253 [==============================] - 6s 100us/step - loss: 0.2211 - val_loss: 0.4817\n",
      "Epoch 6/30\n",
      "59253/59253 [==============================] - 6s 100us/step - loss: 0.2180 - val_loss: 0.5058\n",
      "Epoch 7/30\n",
      "59253/59253 [==============================] - 6s 100us/step - loss: 0.2150 - val_loss: 0.4780\n",
      "Epoch 8/30\n",
      "59253/59253 [==============================] - 6s 100us/step - loss: 0.2122 - val_loss: 0.5140\n",
      "Epoch 9/30\n",
      "59253/59253 [==============================] - 6s 99us/step - loss: 0.2098 - val_loss: 0.4585\n",
      "Epoch 10/30\n",
      "59253/59253 [==============================] - 6s 99us/step - loss: 0.2072 - val_loss: 0.4411\n",
      "Epoch 11/30\n",
      "59253/59253 [==============================] - 6s 102us/step - loss: 0.2052 - val_loss: 0.4824\n",
      "Epoch 12/30\n",
      "59253/59253 [==============================] - 6s 102us/step - loss: 0.2028 - val_loss: 0.4721\n",
      "Epoch 13/30\n",
      "59253/59253 [==============================] - 6s 101us/step - loss: 0.2005 - val_loss: 0.4911\n",
      "Epoch 14/30\n",
      "59253/59253 [==============================] - 6s 100us/step - loss: 0.1989 - val_loss: 0.5191\n",
      "Epoch 15/30\n",
      "59253/59253 [==============================] - 6s 99us/step - loss: 0.1972 - val_loss: 0.4786\n",
      "Epoch 16/30\n",
      "59253/59253 [==============================] - 6s 101us/step - loss: 0.1955 - val_loss: 0.4237\n",
      "Epoch 17/30\n",
      "59253/59253 [==============================] - 6s 100us/step - loss: 0.1940 - val_loss: 0.4079\n",
      "Epoch 18/30\n",
      "59253/59253 [==============================] - 6s 100us/step - loss: 0.1928 - val_loss: 0.4592\n",
      "Epoch 19/30\n",
      "59253/59253 [==============================] - 6s 100us/step - loss: 0.1921 - val_loss: 0.4145\n",
      "Epoch 20/30\n",
      "59253/59253 [==============================] - 6s 102us/step - loss: 0.1898 - val_loss: 0.4552\n",
      "Epoch 21/30\n",
      "59253/59253 [==============================] - 6s 101us/step - loss: 0.1881 - val_loss: 0.4149\n",
      "Epoch 22/30\n",
      "59253/59253 [==============================] - 6s 109us/step - loss: 0.1871 - val_loss: 0.4646\n",
      "Epoch 23/30\n",
      "59253/59253 [==============================] - 6s 109us/step - loss: 0.1865 - val_loss: 0.4145\n",
      "Epoch 24/30\n",
      "59253/59253 [==============================] - 6s 108us/step - loss: 0.1847 - val_loss: 0.4270\n",
      "Epoch 25/30\n",
      "59253/59253 [==============================] - 6s 108us/step - loss: 0.1834 - val_loss: 0.4498\n",
      "Epoch 26/30\n",
      "59253/59253 [==============================] - 6s 109us/step - loss: 0.1821 - val_loss: 0.3971\n",
      "Epoch 27/30\n",
      "59253/59253 [==============================] - 6s 108us/step - loss: 0.1813 - val_loss: 0.4413\n",
      "Epoch 28/30\n",
      "59253/59253 [==============================] - 6s 105us/step - loss: 0.1809 - val_loss: 0.4578\n",
      "Epoch 29/30\n",
      "59253/59253 [==============================] - 6s 107us/step - loss: 0.1803 - val_loss: 0.4190\n",
      "Epoch 30/30\n",
      "59253/59253 [==============================] - 6s 106us/step - loss: 0.1780 - val_loss: 0.4463\n"
     ]
    }
   ],
   "source": [
    "cp = ModelCheckpoint(path + '/best_model_weights_words_fastText.h5',save_best_only=True)\n",
    "start_time = time.time()\n",
    "model_hist = fastText_model.fit([X_train['search_term'], X_train['product_description']], y_train, \n",
    "                                validation_data=[[X_val['search_term'], X_val['product_description']], y_val], \n",
    "                                epochs=30, batch_size=1024, callbacks=[cp])\n",
    "end_time = time.time()"
   ]
  },
  {
   "cell_type": "code",
   "execution_count": 0,
   "metadata": {
    "colab": {},
    "colab_type": "code",
    "id": "7lUdmR532zH7"
   },
   "outputs": [],
   "source": [
    "fastText_model.load_weights(path + '/best_model_weights_words_fastText.h5')"
   ]
  },
  {
   "cell_type": "code",
   "execution_count": 0,
   "metadata": {
    "colab": {
     "base_uri": "https://localhost:8080/",
     "height": 349
    },
    "colab_type": "code",
    "id": "d4c7-QMS23qW",
    "outputId": "23d541f2-d1ce-45d5-ffa6-7ea137f0e66c"
   },
   "outputs": [
    {
     "data": {
      "image/png": "[encoded data removed]",
      "text/plain": [
       "<matplotlib.figure.Figure at 0x7fa96c20b978>"
      ]
     },
     "metadata": {
      "tags": []
     },
     "output_type": "display_data"
    }
   ],
   "source": [
    "plot_model_history(model_hist.history)"
   ]
  },
  {
   "cell_type": "code",
   "execution_count": 0,
   "metadata": {
    "colab": {},
    "colab_type": "code",
    "id": "wZB6QoHG3CZS"
   },
   "outputs": [],
   "source": [
    "train_preds = fastText_model.predict([X_train['search_term'] , X_train['product_description']])\n",
    "val_preds = fastText_model.predict([X_val['search_term'] , X_val['product_description']])\n",
    "test_preds = fastText_model.predict([X_test['search_term'] , X_test['product_description']])"
   ]
  },
  {
   "cell_type": "code",
   "execution_count": 0,
   "metadata": {
    "colab": {
     "base_uri": "https://localhost:8080/",
     "height": 269
    },
    "colab_type": "code",
    "id": "NYehKwWG24HO",
    "outputId": "76780aed-45c4-4bff-c911-4b1b9a31c219"
   },
   "outputs": [
    {
     "data": {
      "text/html": [
       "<div>\n",
       "<style scoped>\n",
       "    .dataframe tbody tr th:only-of-type {\n",
       "        vertical-align: middle;\n",
       "    }\n",
       "\n",
       "    .dataframe tbody tr th {\n",
       "        vertical-align: top;\n",
       "    }\n",
       "\n",
       "    .dataframe thead th {\n",
       "        text-align: right;\n",
       "    }\n",
       "</style>\n",
       "<table border=\"1\" class=\"dataframe\">\n",
       "  <thead>\n",
       "    <tr style=\"text-align: right;\">\n",
       "      <th></th>\n",
       "      <th>Test_MAE</th>\n",
       "      <th>Test_RMSE</th>\n",
       "      <th>Train_MAE</th>\n",
       "      <th>Train_RMSE</th>\n",
       "      <th>runtime</th>\n",
       "      <th>val_MAE</th>\n",
       "      <th>val_RMSE</th>\n",
       "    </tr>\n",
       "  </thead>\n",
       "  <tbody>\n",
       "    <tr>\n",
       "      <th>CharacterLSTM</th>\n",
       "      <td>0.439620</td>\n",
       "      <td>0.529653</td>\n",
       "      <td>0.407273</td>\n",
       "      <td>0.490909</td>\n",
       "      <td>344.968230</td>\n",
       "      <td>0.548179</td>\n",
       "      <td>0.666130</td>\n",
       "    </tr>\n",
       "    <tr>\n",
       "      <th>LightGBM(1D)</th>\n",
       "      <td>0.431425</td>\n",
       "      <td>0.524175</td>\n",
       "      <td>0.392092</td>\n",
       "      <td>0.473328</td>\n",
       "      <td>2.015421</td>\n",
       "      <td>0.573347</td>\n",
       "      <td>0.695735</td>\n",
       "    </tr>\n",
       "    <tr>\n",
       "      <th>RandomForest(1D)</th>\n",
       "      <td>0.439696</td>\n",
       "      <td>0.542474</td>\n",
       "      <td>0.160088</td>\n",
       "      <td>0.218505</td>\n",
       "      <td>61.621884</td>\n",
       "      <td>0.530739</td>\n",
       "      <td>0.650805</td>\n",
       "    </tr>\n",
       "    <tr>\n",
       "      <th>WordLSTM_GoogleNews</th>\n",
       "      <td>0.433116</td>\n",
       "      <td>0.529140</td>\n",
       "      <td>0.347584</td>\n",
       "      <td>0.425105</td>\n",
       "      <td>219.812323</td>\n",
       "      <td>0.516138</td>\n",
       "      <td>0.629872</td>\n",
       "    </tr>\n",
       "    <tr>\n",
       "      <th>WordLSTM_fastText</th>\n",
       "      <td>0.437551</td>\n",
       "      <td>0.531828</td>\n",
       "      <td>0.348520</td>\n",
       "      <td>0.424819</td>\n",
       "      <td>211.522421</td>\n",
       "      <td>0.516554</td>\n",
       "      <td>0.630182</td>\n",
       "    </tr>\n",
       "    <tr>\n",
       "      <th>naïve_model(1C)</th>\n",
       "      <td>0.537570</td>\n",
       "      <td>0.724760</td>\n",
       "      <td>0.507341</td>\n",
       "      <td>0.675441</td>\n",
       "      <td>96.343572</td>\n",
       "      <td>0.903160</td>\n",
       "      <td>1.058353</td>\n",
       "    </tr>\n",
       "    <tr>\n",
       "      <th>naïve_model_mean(1C)</th>\n",
       "      <td>0.440792</td>\n",
       "      <td>0.531097</td>\n",
       "      <td>0.408442</td>\n",
       "      <td>0.489216</td>\n",
       "      <td>106.922296</td>\n",
       "      <td>0.583952</td>\n",
       "      <td>0.706428</td>\n",
       "    </tr>\n",
       "  </tbody>\n",
       "</table>\n",
       "</div>"
      ],
      "text/plain": [
       "                      Test_MAE  Test_RMSE  Train_MAE  Train_RMSE     runtime  \\\n",
       "CharacterLSTM         0.439620   0.529653   0.407273    0.490909  344.968230   \n",
       "LightGBM(1D)          0.431425   0.524175   0.392092    0.473328    2.015421   \n",
       "RandomForest(1D)      0.439696   0.542474   0.160088    0.218505   61.621884   \n",
       "WordLSTM_GoogleNews   0.433116   0.529140   0.347584    0.425105  219.812323   \n",
       "WordLSTM_fastText     0.437551   0.531828   0.348520    0.424819  211.522421   \n",
       "naïve_model(1C)       0.537570   0.724760   0.507341    0.675441   96.343572   \n",
       "naïve_model_mean(1C)  0.440792   0.531097   0.408442    0.489216  106.922296   \n",
       "\n",
       "                       val_MAE  val_RMSE  \n",
       "CharacterLSTM         0.548179  0.666130  \n",
       "LightGBM(1D)          0.573347  0.695735  \n",
       "RandomForest(1D)      0.530739  0.650805  \n",
       "WordLSTM_GoogleNews   0.516138  0.629872  \n",
       "WordLSTM_fastText     0.516554  0.630182  \n",
       "naïve_model(1C)       0.903160  1.058353  \n",
       "naïve_model_mean(1C)  0.583952  0.706428  "
      ]
     },
     "execution_count": 92,
     "metadata": {
      "tags": []
     },
     "output_type": "execute_result"
    }
   ],
   "source": [
    "table = load_table()\n",
    "add_to_table('WordLSTM_fastText', train_preds, val_preds, test_preds, end_time - start_time)\n",
    "pd.DataFrame.from_dict(table).T"
   ]
  },
  {
   "cell_type": "code",
   "execution_count": 0,
   "metadata": {
    "colab": {},
    "colab_type": "code",
    "id": "0j_TYZC93Emg"
   },
   "outputs": [],
   "source": [
    "# save_table()"
   ]
  },
  {
   "cell_type": "markdown",
   "metadata": {
    "colab_type": "text",
    "id": "0JfwSN6H5WAL"
   },
   "source": [
    "From the table above we can conclude that the ```WordLSTM_fastText``` model is not performing better than the ```WordLSTM_GoogleNews``` model, we see an increase on the *RMSE* score over the test set from $0.5291$ to $0.5318$. And more important it does not perform better than the ```naïve_model_mean(1C)``` over the test set.<br>\n",
    "In addition, we observed that the *RMSE* score over the train and validation sets are similar to the ```WordLSTM_GoogleNews``` model. From this we conclude that the are more words from the test set paper in the *GoogleNews* embedding matrix and not in the *fastText* embedding matrix."
   ]
  },
  {
   "cell_type": "code",
   "execution_count": 0,
   "metadata": {
    "colab": {
     "base_uri": "https://localhost:8080/",
     "height": 334
    },
    "colab_type": "code",
    "id": "qJKUJG9R3GAq",
    "outputId": "fce2f90f-c860-4379-db02-0035bc97eeb2"
   },
   "outputs": [
    {
     "name": "stdout",
     "output_type": "stream",
     "text": [
      "Test\n",
      "RMSE: 0.5318\n"
     ]
    },
    {
     "data": {
      "image/png": "[encoded data removed]",
      "text/plain": [
       "<matplotlib.figure.Figure at 0x7fa9703a9a58>"
      ]
     },
     "metadata": {
      "tags": []
     },
     "output_type": "display_data"
    }
   ],
   "source": [
    "print('Test')\n",
    "plot_results(test_preds, y_test.values)"
   ]
  },
  {
   "cell_type": "code",
   "execution_count": 0,
   "metadata": {
    "colab": {
     "base_uri": "https://localhost:8080/",
     "height": 36
    },
    "colab_type": "code",
    "id": "WM4_TCPp3IiX",
    "outputId": "57205969-3195-4bfa-9183-9d9f93cfb14d"
   },
   "outputs": [
    {
     "data": {
      "text/plain": [
       "(1.1980585, 2.9054303)"
      ]
     },
     "execution_count": 94,
     "metadata": {
      "tags": []
     },
     "output_type": "execute_result"
    }
   ],
   "source": [
    "test_preds.min(), test_preds.max()"
   ]
  },
  {
   "cell_type": "markdown",
   "metadata": {
    "colab_type": "text",
    "id": "__NvdCCO755i"
   },
   "source": [
    "Here we can see that the model is not making a very robust prediction because the target range is smaller than the previous model."
   ]
  },
  {
   "cell_type": "markdown",
   "metadata": {
    "colab_type": "text",
    "id": "aWxmwPOf8bHy"
   },
   "source": [
    "### Third Model - ```embedding_matrix_comb```"
   ]
  },
  {
   "cell_type": "code",
   "execution_count": 0,
   "metadata": {
    "colab": {
     "base_uri": "https://localhost:8080/",
     "height": 410
    },
    "colab_type": "code",
    "id": "w7Z7by7P8mQs",
    "outputId": "54f82933-2819-4a16-9dd3-606a685ba7fc"
   },
   "outputs": [
    {
     "name": "stdout",
     "output_type": "stream",
     "text": [
      "__________________________________________________________________________________________________\n",
      "Layer (type)                    Output Shape         Param #     Connected to                     \n",
      "==================================================================================================\n",
      "term_input (InputLayer)         (None, 3)            0                                            \n",
      "__________________________________________________________________________________________________\n",
      "product_input (InputLayer)      (None, 142)          0                                            \n",
      "__________________________________________________________________________________________________\n",
      "term_embedding (Embedding)      (None, 3, 300)       52851000    term_input[0][0]                 \n",
      "__________________________________________________________________________________________________\n",
      "product_embedding (Embedding)   (None, 142, 300)     52851000    product_input[0][0]              \n",
      "__________________________________________________________________________________________________\n",
      "shared_model (Sequential)       (None, 128)          76928       term_embedding[0][0]             \n",
      "                                                                 product_embedding[0][0]          \n",
      "__________________________________________________________________________________________________\n",
      "prediction (Lambda)             (None, 1)            0           shared_model[1][0]               \n",
      "                                                                 shared_model[2][0]               \n",
      "==================================================================================================\n",
      "Total params: 105,778,928\n",
      "Trainable params: 105,778,928\n",
      "Non-trainable params: 0\n",
      "__________________________________________________________________________________________________\n"
     ]
    }
   ],
   "source": [
    "comb_model = get_model(embedding_matrix_comb)"
   ]
  },
  {
   "cell_type": "markdown",
   "metadata": {
    "colab_type": "text",
    "id": "-8e-7y6N9vjA"
   },
   "source": [
    "This time we do want to train the embedding matrix so we just skip ahead and start fighting the model."
   ]
  },
  {
   "cell_type": "code",
   "execution_count": 0,
   "metadata": {
    "colab": {
     "base_uri": "https://localhost:8080/",
     "height": 1158
    },
    "colab_type": "code",
    "id": "fSM4H07D9WQ3",
    "outputId": "6f8cc76b-64ba-4508-c100-06eb43cdbfd9"
   },
   "outputs": [
    {
     "name": "stdout",
     "output_type": "stream",
     "text": [
      "Train on 59253 samples, validate on 14814 samples\n",
      "Epoch 1/30\n",
      "59253/59253 [==============================] - 18s 310us/step - loss: 0.3180 - val_loss: 0.5484\n",
      "Epoch 2/30\n",
      "59253/59253 [==============================] - 16s 272us/step - loss: 0.2279 - val_loss: 0.4932\n",
      "Epoch 3/30\n",
      "59253/59253 [==============================] - 16s 269us/step - loss: 0.2167 - val_loss: 0.4430\n",
      "Epoch 4/30\n",
      "59253/59253 [==============================] - 16s 269us/step - loss: 0.2084 - val_loss: 0.4902\n",
      "Epoch 5/30\n",
      "59253/59253 [==============================] - 16s 268us/step - loss: 0.2010 - val_loss: 0.3933\n",
      "Epoch 6/30\n",
      "59253/59253 [==============================] - 16s 270us/step - loss: 0.1945 - val_loss: 0.4119\n",
      "Epoch 7/30\n",
      "59253/59253 [==============================] - 16s 268us/step - loss: 0.1895 - val_loss: 0.3876\n",
      "Epoch 8/30\n",
      "59253/59253 [==============================] - 16s 268us/step - loss: 0.1837 - val_loss: 0.3876\n",
      "Epoch 9/30\n",
      "59253/59253 [==============================] - 16s 268us/step - loss: 0.1785 - val_loss: 0.3983\n",
      "Epoch 10/30\n",
      "59253/59253 [==============================] - 16s 269us/step - loss: 0.1749 - val_loss: 0.4451\n",
      "Epoch 11/30\n",
      "59253/59253 [==============================] - 16s 267us/step - loss: 0.1709 - val_loss: 0.4040\n",
      "Epoch 12/30\n",
      "59253/59253 [==============================] - 16s 267us/step - loss: 0.1669 - val_loss: 0.3994\n",
      "Epoch 13/30\n",
      "59253/59253 [==============================] - 16s 267us/step - loss: 0.1635 - val_loss: 0.4483\n",
      "Epoch 14/30\n",
      "59253/59253 [==============================] - 16s 268us/step - loss: 0.1606 - val_loss: 0.4276\n",
      "Epoch 15/30\n",
      "59253/59253 [==============================] - 16s 268us/step - loss: 0.1587 - val_loss: 0.3562\n",
      "Epoch 16/30\n",
      "59253/59253 [==============================] - 16s 270us/step - loss: 0.1556 - val_loss: 0.3882\n",
      "Epoch 17/30\n",
      "59253/59253 [==============================] - 16s 269us/step - loss: 0.1530 - val_loss: 0.3727\n",
      "Epoch 18/30\n",
      "59253/59253 [==============================] - 16s 268us/step - loss: 0.1506 - val_loss: 0.4068\n",
      "Epoch 19/30\n",
      "59253/59253 [==============================] - 16s 268us/step - loss: 0.1494 - val_loss: 0.3836\n",
      "Epoch 20/30\n",
      "59253/59253 [==============================] - 16s 267us/step - loss: 0.1464 - val_loss: 0.3470\n",
      "Epoch 21/30\n",
      "59253/59253 [==============================] - 16s 269us/step - loss: 0.1445 - val_loss: 0.4187\n",
      "Epoch 22/30\n",
      "59253/59253 [==============================] - 16s 270us/step - loss: 0.1423 - val_loss: 0.3609\n",
      "Epoch 23/30\n",
      "59253/59253 [==============================] - 16s 268us/step - loss: 0.1412 - val_loss: 0.3851\n",
      "Epoch 24/30\n",
      "59253/59253 [==============================] - 16s 267us/step - loss: 0.1405 - val_loss: 0.3479\n",
      "Epoch 25/30\n",
      "59253/59253 [==============================] - 16s 269us/step - loss: 0.1380 - val_loss: 0.4117\n",
      "Epoch 26/30\n",
      "59253/59253 [==============================] - 16s 269us/step - loss: 0.1363 - val_loss: 0.3894\n",
      "Epoch 27/30\n",
      "59253/59253 [==============================] - 16s 269us/step - loss: 0.1351 - val_loss: 0.3764\n",
      "Epoch 28/30\n",
      "59253/59253 [==============================] - 16s 269us/step - loss: 0.1341 - val_loss: 0.3872\n",
      "Epoch 29/30\n",
      "59253/59253 [==============================] - 16s 269us/step - loss: 0.1326 - val_loss: 0.3512\n",
      "Epoch 30/30\n",
      "59253/59253 [==============================] - 16s 270us/step - loss: 0.1312 - val_loss: 0.3683\n"
     ]
    }
   ],
   "source": [
    "cp = ModelCheckpoint(path + '/best_model_weights_words_comb.h5',save_best_only=True)\n",
    "start_time = time.time()\n",
    "model_hist = comb_model.fit([X_train['search_term'], X_train['product_description']], y_train, \n",
    "                            validation_data=[[X_val['search_term'], X_val['product_description']], y_val], \n",
    "                            epochs=30, batch_size=1024, callbacks=[cp])\n",
    "end_time = time.time()"
   ]
  },
  {
   "cell_type": "code",
   "execution_count": 0,
   "metadata": {
    "colab": {},
    "colab_type": "code",
    "id": "kEVHyqm68mNu"
   },
   "outputs": [],
   "source": [
    "comb_model.load_weights(path + '/best_model_weights_words_comb.h5')"
   ]
  },
  {
   "cell_type": "code",
   "execution_count": 0,
   "metadata": {
    "colab": {
     "base_uri": "https://localhost:8080/",
     "height": 349
    },
    "colab_type": "code",
    "id": "AlTYShpa9PKj",
    "outputId": "6f424716-a9e0-41b2-8464-032a66205807"
   },
   "outputs": [
    {
     "data": {
      "image/png": "[encoded data removed]",
      "text/plain": [
       "<matplotlib.figure.Figure at 0x7fa9652fc978>"
      ]
     },
     "metadata": {
      "tags": []
     },
     "output_type": "display_data"
    }
   ],
   "source": [
    "plot_model_history(model_hist.history)"
   ]
  },
  {
   "cell_type": "code",
   "execution_count": 0,
   "metadata": {
    "colab": {},
    "colab_type": "code",
    "id": "GV57O1p48mK6"
   },
   "outputs": [],
   "source": [
    "train_preds = comb_model.predict([X_train['search_term'] , X_train['product_description']])\n",
    "val_preds = comb_model.predict([X_val['search_term'] , X_val['product_description']])\n",
    "test_preds = comb_model.predict([X_test['search_term'] , X_test['product_description']])"
   ]
  },
  {
   "cell_type": "code",
   "execution_count": 0,
   "metadata": {
    "colab": {
     "base_uri": "https://localhost:8080/",
     "height": 300
    },
    "colab_type": "code",
    "id": "TwoOjUPt8mH9",
    "outputId": "180e19bc-804d-4a39-df23-a6ff0384075e"
   },
   "outputs": [
    {
     "data": {
      "text/html": [
       "<div>\n",
       "<style scoped>\n",
       "    .dataframe tbody tr th:only-of-type {\n",
       "        vertical-align: middle;\n",
       "    }\n",
       "\n",
       "    .dataframe tbody tr th {\n",
       "        vertical-align: top;\n",
       "    }\n",
       "\n",
       "    .dataframe thead th {\n",
       "        text-align: right;\n",
       "    }\n",
       "</style>\n",
       "<table border=\"1\" class=\"dataframe\">\n",
       "  <thead>\n",
       "    <tr style=\"text-align: right;\">\n",
       "      <th></th>\n",
       "      <th>Test_MAE</th>\n",
       "      <th>Test_RMSE</th>\n",
       "      <th>Train_MAE</th>\n",
       "      <th>Train_RMSE</th>\n",
       "      <th>runtime</th>\n",
       "      <th>val_MAE</th>\n",
       "      <th>val_RMSE</th>\n",
       "    </tr>\n",
       "  </thead>\n",
       "  <tbody>\n",
       "    <tr>\n",
       "      <th>CharacterLSTM</th>\n",
       "      <td>0.439620</td>\n",
       "      <td>0.529653</td>\n",
       "      <td>0.407273</td>\n",
       "      <td>0.490909</td>\n",
       "      <td>344.968230</td>\n",
       "      <td>0.548179</td>\n",
       "      <td>0.666130</td>\n",
       "    </tr>\n",
       "    <tr>\n",
       "      <th>LightGBM(1D)</th>\n",
       "      <td>0.431425</td>\n",
       "      <td>0.524175</td>\n",
       "      <td>0.392092</td>\n",
       "      <td>0.473328</td>\n",
       "      <td>2.015421</td>\n",
       "      <td>0.573347</td>\n",
       "      <td>0.695735</td>\n",
       "    </tr>\n",
       "    <tr>\n",
       "      <th>RandomForest(1D)</th>\n",
       "      <td>0.439696</td>\n",
       "      <td>0.542474</td>\n",
       "      <td>0.160088</td>\n",
       "      <td>0.218505</td>\n",
       "      <td>61.621884</td>\n",
       "      <td>0.530739</td>\n",
       "      <td>0.650805</td>\n",
       "    </tr>\n",
       "    <tr>\n",
       "      <th>WordLSTM_GoogleNews</th>\n",
       "      <td>0.433116</td>\n",
       "      <td>0.529140</td>\n",
       "      <td>0.347584</td>\n",
       "      <td>0.425105</td>\n",
       "      <td>219.812323</td>\n",
       "      <td>0.516138</td>\n",
       "      <td>0.629872</td>\n",
       "    </tr>\n",
       "    <tr>\n",
       "      <th>WordLSTM_comb</th>\n",
       "      <td>0.439856</td>\n",
       "      <td>0.536867</td>\n",
       "      <td>0.311176</td>\n",
       "      <td>0.380940</td>\n",
       "      <td>590.085942</td>\n",
       "      <td>0.482452</td>\n",
       "      <td>0.589099</td>\n",
       "    </tr>\n",
       "    <tr>\n",
       "      <th>WordLSTM_fastText</th>\n",
       "      <td>0.437551</td>\n",
       "      <td>0.531828</td>\n",
       "      <td>0.348520</td>\n",
       "      <td>0.424819</td>\n",
       "      <td>211.522421</td>\n",
       "      <td>0.516554</td>\n",
       "      <td>0.630182</td>\n",
       "    </tr>\n",
       "    <tr>\n",
       "      <th>naïve_model(1C)</th>\n",
       "      <td>0.537570</td>\n",
       "      <td>0.724760</td>\n",
       "      <td>0.507341</td>\n",
       "      <td>0.675441</td>\n",
       "      <td>96.343572</td>\n",
       "      <td>0.903160</td>\n",
       "      <td>1.058353</td>\n",
       "    </tr>\n",
       "    <tr>\n",
       "      <th>naïve_model_mean(1C)</th>\n",
       "      <td>0.440792</td>\n",
       "      <td>0.531097</td>\n",
       "      <td>0.408442</td>\n",
       "      <td>0.489216</td>\n",
       "      <td>106.922296</td>\n",
       "      <td>0.583952</td>\n",
       "      <td>0.706428</td>\n",
       "    </tr>\n",
       "  </tbody>\n",
       "</table>\n",
       "</div>"
      ],
      "text/plain": [
       "                      Test_MAE  Test_RMSE  Train_MAE  Train_RMSE     runtime  \\\n",
       "CharacterLSTM         0.439620   0.529653   0.407273    0.490909  344.968230   \n",
       "LightGBM(1D)          0.431425   0.524175   0.392092    0.473328    2.015421   \n",
       "RandomForest(1D)      0.439696   0.542474   0.160088    0.218505   61.621884   \n",
       "WordLSTM_GoogleNews   0.433116   0.529140   0.347584    0.425105  219.812323   \n",
       "WordLSTM_comb         0.439856   0.536867   0.311176    0.380940  590.085942   \n",
       "WordLSTM_fastText     0.437551   0.531828   0.348520    0.424819  211.522421   \n",
       "naïve_model(1C)       0.537570   0.724760   0.507341    0.675441   96.343572   \n",
       "naïve_model_mean(1C)  0.440792   0.531097   0.408442    0.489216  106.922296   \n",
       "\n",
       "                       val_MAE  val_RMSE  \n",
       "CharacterLSTM         0.548179  0.666130  \n",
       "LightGBM(1D)          0.573347  0.695735  \n",
       "RandomForest(1D)      0.530739  0.650805  \n",
       "WordLSTM_GoogleNews   0.516138  0.629872  \n",
       "WordLSTM_comb         0.482452  0.589099  \n",
       "WordLSTM_fastText     0.516554  0.630182  \n",
       "naïve_model(1C)       0.903160  1.058353  \n",
       "naïve_model_mean(1C)  0.583952  0.706428  "
      ]
     },
     "execution_count": 101,
     "metadata": {
      "tags": []
     },
     "output_type": "execute_result"
    }
   ],
   "source": [
    "table = load_table()\n",
    "add_to_table('WordLSTM_comb', train_preds, val_preds, test_preds, end_time - start_time)\n",
    "pd.DataFrame.from_dict(table).T"
   ]
  },
  {
   "cell_type": "code",
   "execution_count": 0,
   "metadata": {
    "colab": {},
    "colab_type": "code",
    "id": "BZJfSH9k8mES"
   },
   "outputs": [],
   "source": [
    "# save_table()"
   ]
  },
  {
   "cell_type": "markdown",
   "metadata": {
    "colab_type": "text",
    "id": "HTwfNvFDA3eU"
   },
   "source": [
    "From the table we can observe the following:\n",
    "1. The model runtime is the the highest. Observed that it is expected since we train a lot more weights $105,778,928$ to be exact, and so far we train at most $76,928$ weights.\n",
    "2. The model performance on the test set are pretty bad comparing to the ```naïve_model_mean``` model. With $0.5368$ *RMSE* score on the test set.\n",
    "3. It can be said clearly that this is the worst model of the three who wanted to check.<br>\n",
    "\n",
    "We think all of those think happened because we combine to embedding matrices that were nothing a like.In addition we suspect that we don't have enough samples to train on relative to the amount of weights that must be trained."
   ]
  },
  {
   "cell_type": "code",
   "execution_count": 0,
   "metadata": {
    "colab": {
     "base_uri": "https://localhost:8080/",
     "height": 334
    },
    "colab_type": "code",
    "id": "hpFbWv0h8l-x",
    "outputId": "f9c1fbdf-d5fb-46e9-ce35-a2e2a73f20d4"
   },
   "outputs": [
    {
     "name": "stdout",
     "output_type": "stream",
     "text": [
      "Test\n",
      "RMSE: 0.5369\n"
     ]
    },
    {
     "data": {
      "image/png": "[encoded data removed]",
      "text/plain": [
       "<matplotlib.figure.Figure at 0x7fa9703a9c88>"
      ]
     },
     "metadata": {
      "tags": []
     },
     "output_type": "display_data"
    }
   ],
   "source": [
    "print('Test')\n",
    "plot_results(test_preds, y_test.values)"
   ]
  },
  {
   "cell_type": "code",
   "execution_count": 0,
   "metadata": {
    "colab": {
     "base_uri": "https://localhost:8080/",
     "height": 36
    },
    "colab_type": "code",
    "id": "d4R6rmBQ8lwZ",
    "outputId": "562e74f8-1714-467d-afed-68b4cb64f4e0"
   },
   "outputs": [
    {
     "data": {
      "text/plain": [
       "(1.2196696, 2.9475996)"
      ]
     },
     "execution_count": 105,
     "metadata": {
      "tags": []
     },
     "output_type": "execute_result"
    }
   ],
   "source": [
    "test_preds.min(), test_preds.max()"
   ]
  },
  {
   "cell_type": "markdown",
   "metadata": {
    "colab_type": "text",
    "id": "W1d5vDYrESjb"
   },
   "source": [
    "### Comparison Of The Words Embedding Models"
   ]
  },
  {
   "cell_type": "code",
   "execution_count": 0,
   "metadata": {
    "colab": {
     "base_uri": "https://localhost:8080/",
     "height": 143
    },
    "colab_type": "code",
    "id": "yHHXPTeBErS1",
    "outputId": "28333bce-3f9d-4a47-d4eb-9965757ff73a"
   },
   "outputs": [
    {
     "data": {
      "text/html": [
       "<div>\n",
       "<style scoped>\n",
       "    .dataframe tbody tr th:only-of-type {\n",
       "        vertical-align: middle;\n",
       "    }\n",
       "\n",
       "    .dataframe tbody tr th {\n",
       "        vertical-align: top;\n",
       "    }\n",
       "\n",
       "    .dataframe thead th {\n",
       "        text-align: right;\n",
       "    }\n",
       "</style>\n",
       "<table border=\"1\" class=\"dataframe\">\n",
       "  <thead>\n",
       "    <tr style=\"text-align: right;\">\n",
       "      <th></th>\n",
       "      <th>Test_MAE</th>\n",
       "      <th>Test_RMSE</th>\n",
       "      <th>Train_MAE</th>\n",
       "      <th>Train_RMSE</th>\n",
       "      <th>runtime</th>\n",
       "      <th>val_MAE</th>\n",
       "      <th>val_RMSE</th>\n",
       "    </tr>\n",
       "  </thead>\n",
       "  <tbody>\n",
       "    <tr>\n",
       "      <th>WordLSTM_GoogleNews</th>\n",
       "      <td>0.433116</td>\n",
       "      <td>0.529140</td>\n",
       "      <td>0.347584</td>\n",
       "      <td>0.425105</td>\n",
       "      <td>219.812323</td>\n",
       "      <td>0.516138</td>\n",
       "      <td>0.629872</td>\n",
       "    </tr>\n",
       "    <tr>\n",
       "      <th>WordLSTM_comb</th>\n",
       "      <td>0.439856</td>\n",
       "      <td>0.536867</td>\n",
       "      <td>0.311176</td>\n",
       "      <td>0.380940</td>\n",
       "      <td>590.085942</td>\n",
       "      <td>0.482452</td>\n",
       "      <td>0.589099</td>\n",
       "    </tr>\n",
       "    <tr>\n",
       "      <th>WordLSTM_fastText</th>\n",
       "      <td>0.437551</td>\n",
       "      <td>0.531828</td>\n",
       "      <td>0.348520</td>\n",
       "      <td>0.424819</td>\n",
       "      <td>211.522421</td>\n",
       "      <td>0.516554</td>\n",
       "      <td>0.630182</td>\n",
       "    </tr>\n",
       "  </tbody>\n",
       "</table>\n",
       "</div>"
      ],
      "text/plain": [
       "                     Test_MAE  Test_RMSE  Train_MAE  Train_RMSE     runtime  \\\n",
       "WordLSTM_GoogleNews  0.433116   0.529140   0.347584    0.425105  219.812323   \n",
       "WordLSTM_comb        0.439856   0.536867   0.311176    0.380940  590.085942   \n",
       "WordLSTM_fastText    0.437551   0.531828   0.348520    0.424819  211.522421   \n",
       "\n",
       "                      val_MAE  val_RMSE  \n",
       "WordLSTM_GoogleNews  0.516138  0.629872  \n",
       "WordLSTM_comb        0.482452  0.589099  \n",
       "WordLSTM_fastText    0.516554  0.630182  "
      ]
     },
     "execution_count": 115,
     "metadata": {
      "tags": []
     },
     "output_type": "execute_result"
    }
   ],
   "source": [
    "pd.DataFrame.from_dict(table).drop(set(table.keys() - set(['WordLSTM_GoogleNews', 'WordLSTM_comb', 'WordLSTM_fastText'])), axis=1).T"
   ]
  },
  {
   "cell_type": "markdown",
   "metadata": {
    "colab_type": "text",
    "id": "aOCPJZ8SFnO5"
   },
   "source": [
    "From this limited table we can observed that the *GoogleNews* model as the best *RMSE* and *MAE* on the test set. In addition we can see that the *GoogleNews* model and the *fastText* model as almost the same result over all the measurements except the *RMSE* score on the test set. As we matched before we think that is because ther are more words from the test set that as a representation in the in the *GoogleNews* matrix and don't hase on in the *fastText* matrix.<br>\n",
    "At first this observation seemed abit strange to us in the context of the test *MAE* score.So we started to thinking about a good reasonable explanation for this. Clearly it as something to do with the mathematical definitions of those functions.<br>\n",
    "\n",
    "So let's observe the similarities and differences between the two.<br>\n",
    "> *MAE* - Mean Absolute Error\n",
    "\\begin{align}\n",
    "MAE = \\frac{1}n\\sum_{i=1}^n|(y_i-\\hat{y_i})| \\\\\n",
    "\\end{align}\n",
    "*MAE* measures the average magnitude of the errors in a set of predictions, without considering their direction. It’s the average over the test sample of the absolute differences between prediction and actual observation where all individual differences have equal weight.<br>\n",
    "\n",
    "> *RMSE* - Root mean squared error\n",
    "\\begin{align}\n",
    "RMSE = \\sqrt{\\frac{1}n\\sum_{i=1}^n(y_i-\\hat{y_i})^2} \\\\\n",
    "\\end{align}\n",
    "*RMSE* is a quadratic scoring rule that also measures the average magnitude of the error. It’s the square root of the average of squared differences between prediction and actual observation.<br>\n",
    "\n",
    "This means that the both functions express average model prediction error in units of the variable of interest. Both metrics can range from $0$ to $\\infty$ and are indifferent to the direction of errors. They are negatively-oriented scores, which means lower values are better.<br>\n",
    "In addition, taking the square root of the average squared errors has some interesting implications for *RMSE*. Since the errors are squared before they are averaged, the *RMSE* gives a relatively ***high weight to large errors***. This means the *RMSE* should be more useful when large errors are particularly undesirable.<br>\n",
    "\n",
    "Now that we know a lot more about each metric we can see that the \"strange observation\" we saw earlier is actually making a lot of sense. It's point out that the model with the lowest *RMSE*, is much better. Which leads me to conclude that the best model of the three is ```WordLSTM_GoogleNews``` model."
   ]
  },
  {
   "cell_type": "markdown",
   "metadata": {
    "colab_type": "text",
    "id": "LDqqBSZE4BYl"
   },
   "source": [
    "## C - Feature Extractor"
   ]
  },
  {
   "cell_type": "markdown",
   "metadata": {
    "colab_type": "text",
    "id": "L7I9_yx-WQYg"
   },
   "source": [
    "As we just saw the best model from the privasl section is the ```WordLSTM_GoogleNews``` model. So we will use it as feature extractor.<br>\n",
    "To do that we will create the same model, and load to it the trained weights. <br>After that we will cut the last layer in the model. In order to use it's output as features to a ML model.<br>\n",
    "As in section $1D$, after we cut the last layer we left with $2$ ouputs due to the siamese network architecture. So we will add a ```concatenate``` layer."
   ]
  },
  {
   "cell_type": "code",
   "execution_count": 0,
   "metadata": {
    "colab": {},
    "colab_type": "code",
    "id": "54mw1xWmDWi6"
   },
   "outputs": [],
   "source": [
    "def make_model_for_FE(best_model_weights_file_name, embedding_matrix):\n",
    "  # Input\n",
    "  term_input = Input(shape=(search_terms_lens,), name='term_input')\n",
    "  product_input = Input(shape=(produc_lens,), name='product_input')\n",
    "\n",
    "\n",
    "  # Embedding\n",
    "  term_embedding = Embedding(embedding_matrix.shape[0], 300, weights=[embedding_matrix], \n",
    "                             input_length=search_terms_lens, name='term_embedding')(term_input)\n",
    "\n",
    "  product_embedding = Embedding(embedding_matrix.shape[0], 300, weights=[embedding_matrix], \n",
    "                             input_length=produc_lens, name='product_embedding')(product_input)\n",
    "\n",
    "  # Shared LSTM\n",
    "  shared_lstm = Sequential(name='shared_model')\n",
    "  shared_lstm.add(CuDNNLSTM(lstm_n_hidden))\n",
    "  shared_lstm.add(Dense(128, activation='relu'))\n",
    "\n",
    "  # Output\n",
    "  output = concatenate([shared_lstm(term_embedding), shared_lstm(product_embedding)])\n",
    "\n",
    "  model = Model(inputs=[term_input, product_input], outputs=[output])\n",
    "  model.load_weights(path + '/' + best_model_weights_file_name)\n",
    "  optimizer = Adadelta(clipnorm=gradient_clipping_norm)\n",
    "  model.compile(loss='mse', optimizer=optimizer)\n",
    "  model.summary()\n",
    "  \n",
    "  return model"
   ]
  },
  {
   "cell_type": "code",
   "execution_count": 20,
   "metadata": {
    "colab": {
     "base_uri": "https://localhost:8080/",
     "height": 399
    },
    "colab_type": "code",
    "id": "0W_EvNMGABiq",
    "outputId": "08db5492-a2e6-46ac-8518-78b88d223eec"
   },
   "outputs": [
    {
     "name": "stdout",
     "output_type": "stream",
     "text": [
      "__________________________________________________________________________________________________\n",
      "Layer (type)                    Output Shape         Param #     Connected to                     \n",
      "==================================================================================================\n",
      "term_input (InputLayer)         (None, 3)            0                                            \n",
      "__________________________________________________________________________________________________\n",
      "product_input (InputLayer)      (None, 142)          0                                            \n",
      "__________________________________________________________________________________________________\n",
      "term_embedding (Embedding)      (None, 3, 300)       52851000    term_input[0][0]                 \n",
      "__________________________________________________________________________________________________\n",
      "product_embedding (Embedding)   (None, 142, 300)     52851000    product_input[0][0]              \n",
      "__________________________________________________________________________________________________\n",
      "shared_model (Sequential)       (None, 128)          76928       term_embedding[0][0]             \n",
      "                                                                 product_embedding[0][0]          \n",
      "__________________________________________________________________________________________________\n",
      "concatenate_1 (Concatenate)     (None, 256)          0           shared_model[1][0]               \n",
      "                                                                 shared_model[2][0]               \n",
      "==================================================================================================\n",
      "Total params: 105,778,928\n",
      "Trainable params: 105,778,928\n",
      "Non-trainable params: 0\n",
      "__________________________________________________________________________________________________\n"
     ]
    }
   ],
   "source": [
    "fe_model = make_model_for_FE('best_model_weights_words_GoogleNews.h5', embedding_matrix_GoogleNews)"
   ]
  },
  {
   "cell_type": "code",
   "execution_count": 0,
   "metadata": {
    "colab": {},
    "colab_type": "code",
    "id": "N5Iu4vIAEkIT"
   },
   "outputs": [],
   "source": [
    "train_features = fe_model.predict([X_train['search_term'] , X_train['product_description']])\n",
    "val_features = fe_model.predict([X_val['search_term'] , X_val['product_description']])\n",
    "test_features = fe_model.predict([X_test['search_term'] , X_test['product_description']])"
   ]
  },
  {
   "cell_type": "markdown",
   "metadata": {
    "colab_type": "text",
    "id": "Sz99djIIAEDY"
   },
   "source": [
    "### KNN"
   ]
  },
  {
   "cell_type": "code",
   "execution_count": 0,
   "metadata": {
    "colab": {},
    "colab_type": "code",
    "id": "y4xaX4n_DLrH"
   },
   "outputs": [],
   "source": [
    "neigh = KNeighborsRegressor(n_neighbors=10)\n",
    "start_time = time.time()\n",
    "neigh.fit(train_features, y_train)\n",
    "end_time = time.time()"
   ]
  },
  {
   "cell_type": "code",
   "execution_count": 0,
   "metadata": {
    "colab": {},
    "colab_type": "code",
    "id": "z5oy_pmQM59f"
   },
   "outputs": [],
   "source": [
    "train_preds = neigh.predict(train_features)\n",
    "val_preds = neigh.predict(val_features)\n",
    "test_preds = neigh.predict(test_features)"
   ]
  },
  {
   "cell_type": "code",
   "execution_count": 0,
   "metadata": {
    "colab": {
     "base_uri": "https://localhost:8080/",
     "height": 331
    },
    "colab_type": "code",
    "id": "5NL9RomGOBBm",
    "outputId": "302917a5-39bc-44f6-dd2e-07cfc35561dc"
   },
   "outputs": [
    {
     "data": {
      "text/html": [
       "<div>\n",
       "<style scoped>\n",
       "    .dataframe tbody tr th:only-of-type {\n",
       "        vertical-align: middle;\n",
       "    }\n",
       "\n",
       "    .dataframe tbody tr th {\n",
       "        vertical-align: top;\n",
       "    }\n",
       "\n",
       "    .dataframe thead th {\n",
       "        text-align: right;\n",
       "    }\n",
       "</style>\n",
       "<table border=\"1\" class=\"dataframe\">\n",
       "  <thead>\n",
       "    <tr style=\"text-align: right;\">\n",
       "      <th></th>\n",
       "      <th>Test_MAE</th>\n",
       "      <th>Test_RMSE</th>\n",
       "      <th>Train_MAE</th>\n",
       "      <th>Train_RMSE</th>\n",
       "      <th>runtime</th>\n",
       "      <th>val_MAE</th>\n",
       "      <th>val_RMSE</th>\n",
       "    </tr>\n",
       "  </thead>\n",
       "  <tbody>\n",
       "    <tr>\n",
       "      <th>CharacterLSTM</th>\n",
       "      <td>0.439620</td>\n",
       "      <td>0.529653</td>\n",
       "      <td>0.407273</td>\n",
       "      <td>0.490909</td>\n",
       "      <td>344.968230</td>\n",
       "      <td>0.548179</td>\n",
       "      <td>0.666130</td>\n",
       "    </tr>\n",
       "    <tr>\n",
       "      <th>KNN(2C)</th>\n",
       "      <td>0.435815</td>\n",
       "      <td>0.561551</td>\n",
       "      <td>0.329773</td>\n",
       "      <td>0.423078</td>\n",
       "      <td>16.907317</td>\n",
       "      <td>0.591294</td>\n",
       "      <td>0.727415</td>\n",
       "    </tr>\n",
       "    <tr>\n",
       "      <th>LightGBM(1D)</th>\n",
       "      <td>0.431425</td>\n",
       "      <td>0.524175</td>\n",
       "      <td>0.392092</td>\n",
       "      <td>0.473328</td>\n",
       "      <td>2.015421</td>\n",
       "      <td>0.573347</td>\n",
       "      <td>0.695735</td>\n",
       "    </tr>\n",
       "    <tr>\n",
       "      <th>RandomForest(1D)</th>\n",
       "      <td>0.439696</td>\n",
       "      <td>0.542474</td>\n",
       "      <td>0.160088</td>\n",
       "      <td>0.218505</td>\n",
       "      <td>61.621884</td>\n",
       "      <td>0.530739</td>\n",
       "      <td>0.650805</td>\n",
       "    </tr>\n",
       "    <tr>\n",
       "      <th>WordLSTM_GoogleNews</th>\n",
       "      <td>0.433116</td>\n",
       "      <td>0.529140</td>\n",
       "      <td>0.347584</td>\n",
       "      <td>0.425105</td>\n",
       "      <td>219.812323</td>\n",
       "      <td>0.516138</td>\n",
       "      <td>0.629872</td>\n",
       "    </tr>\n",
       "    <tr>\n",
       "      <th>WordLSTM_comb</th>\n",
       "      <td>0.439856</td>\n",
       "      <td>0.536867</td>\n",
       "      <td>0.311176</td>\n",
       "      <td>0.380940</td>\n",
       "      <td>590.085942</td>\n",
       "      <td>0.482452</td>\n",
       "      <td>0.589099</td>\n",
       "    </tr>\n",
       "    <tr>\n",
       "      <th>WordLSTM_fastText</th>\n",
       "      <td>0.437551</td>\n",
       "      <td>0.531828</td>\n",
       "      <td>0.348520</td>\n",
       "      <td>0.424819</td>\n",
       "      <td>211.522421</td>\n",
       "      <td>0.516554</td>\n",
       "      <td>0.630182</td>\n",
       "    </tr>\n",
       "    <tr>\n",
       "      <th>naïve_model(1C)</th>\n",
       "      <td>0.537570</td>\n",
       "      <td>0.724760</td>\n",
       "      <td>0.507341</td>\n",
       "      <td>0.675441</td>\n",
       "      <td>96.343572</td>\n",
       "      <td>0.903160</td>\n",
       "      <td>1.058353</td>\n",
       "    </tr>\n",
       "    <tr>\n",
       "      <th>naïve_model_mean(1C)</th>\n",
       "      <td>0.440792</td>\n",
       "      <td>0.531097</td>\n",
       "      <td>0.408442</td>\n",
       "      <td>0.489216</td>\n",
       "      <td>106.922296</td>\n",
       "      <td>0.583952</td>\n",
       "      <td>0.706428</td>\n",
       "    </tr>\n",
       "  </tbody>\n",
       "</table>\n",
       "</div>"
      ],
      "text/plain": [
       "                      Test_MAE  Test_RMSE  Train_MAE  Train_RMSE     runtime  \\\n",
       "CharacterLSTM         0.439620   0.529653   0.407273    0.490909  344.968230   \n",
       "KNN(2C)               0.435815   0.561551   0.329773    0.423078   16.907317   \n",
       "LightGBM(1D)          0.431425   0.524175   0.392092    0.473328    2.015421   \n",
       "RandomForest(1D)      0.439696   0.542474   0.160088    0.218505   61.621884   \n",
       "WordLSTM_GoogleNews   0.433116   0.529140   0.347584    0.425105  219.812323   \n",
       "WordLSTM_comb         0.439856   0.536867   0.311176    0.380940  590.085942   \n",
       "WordLSTM_fastText     0.437551   0.531828   0.348520    0.424819  211.522421   \n",
       "naïve_model(1C)       0.537570   0.724760   0.507341    0.675441   96.343572   \n",
       "naïve_model_mean(1C)  0.440792   0.531097   0.408442    0.489216  106.922296   \n",
       "\n",
       "                       val_MAE  val_RMSE  \n",
       "CharacterLSTM         0.548179  0.666130  \n",
       "KNN(2C)               0.591294  0.727415  \n",
       "LightGBM(1D)          0.573347  0.695735  \n",
       "RandomForest(1D)      0.530739  0.650805  \n",
       "WordLSTM_GoogleNews   0.516138  0.629872  \n",
       "WordLSTM_comb         0.482452  0.589099  \n",
       "WordLSTM_fastText     0.516554  0.630182  \n",
       "naïve_model(1C)       0.903160  1.058353  \n",
       "naïve_model_mean(1C)  0.583952  0.706428  "
      ]
     },
     "execution_count": 127,
     "metadata": {
      "tags": []
     },
     "output_type": "execute_result"
    }
   ],
   "source": [
    "table = load_table()\n",
    "add_to_table('KNN(2C)', train_preds, val_preds, test_preds, end_time - start_time)\n",
    "pd.DataFrame.from_dict(table).T"
   ]
  },
  {
   "cell_type": "code",
   "execution_count": 0,
   "metadata": {
    "colab": {},
    "colab_type": "code",
    "id": "AWvBZH0Tt4qQ"
   },
   "outputs": [],
   "source": [
    "# save_table()"
   ]
  },
  {
   "cell_type": "markdown",
   "metadata": {
    "colab_type": "text",
    "id": "76-icm1Jt8RG"
   },
   "source": [
    "We can see that the ```KNN``` model did worse than the ```naïve_model_mean``` model on the test and validation set. Since the ```KNeighborsRegressor``` predicts the means of the $13$ nearest neighbors, this mean that the the samples that has the some target are not so close to each other. So the mean of the $13$ nearest neighbors is very different from the real target value. Which shows as a significant increase in the *RMSE* score."
   ]
  },
  {
   "cell_type": "code",
   "execution_count": 0,
   "metadata": {
    "colab": {
     "base_uri": "https://localhost:8080/",
     "height": 334
    },
    "colab_type": "code",
    "id": "MgQwCrhVOSkb",
    "outputId": "a0894185-5508-4a9c-a0de-5ecbd4224ac4"
   },
   "outputs": [
    {
     "name": "stdout",
     "output_type": "stream",
     "text": [
      "Test\n",
      "RMSE: 0.5616\n"
     ]
    },
    {
     "data": {
      "image/png": "[encoded data removed]",
      "text/plain": [
       "<matplotlib.figure.Figure at 0x7fa940a58dd8>"
      ]
     },
     "metadata": {
      "tags": []
     },
     "output_type": "display_data"
    }
   ],
   "source": [
    "print('Test')\n",
    "plot_results(test_preds, y_test.values)"
   ]
  },
  {
   "cell_type": "code",
   "execution_count": 0,
   "metadata": {
    "colab": {
     "base_uri": "https://localhost:8080/",
     "height": 36
    },
    "colab_type": "code",
    "id": "QqMUBvv_OVeS",
    "outputId": "8a4fc41b-4553-4512-fbd6-6b645dda5e44"
   },
   "outputs": [
    {
     "data": {
      "text/plain": [
       "(1.5638461538461537, 3.0)"
      ]
     },
     "execution_count": 129,
     "metadata": {
      "tags": []
     },
     "output_type": "execute_result"
    }
   ],
   "source": [
    "test_preds.min(), test_preds.max()"
   ]
  },
  {
   "cell_type": "markdown",
   "metadata": {
    "colab_type": "text",
    "id": "gQStftXSOZMi"
   },
   "source": [
    "### XGBRegreesor\n",
    "Boosting is an ensemble technique in which the predictors are not made independently, but sequentially.<br>\n",
    "We will choose two parameters, one is objective -this defines the loss function to be minimized, in our case we wil define the task as linear regression.<br>\n",
    "The second parameter is random state which is just a random seed."
   ]
  },
  {
   "cell_type": "code",
   "execution_count": 0,
   "metadata": {
    "colab": {},
    "colab_type": "code",
    "id": "gDGp70M4FhhI"
   },
   "outputs": [],
   "source": [
    "xgb_model = xgb.XGBRegressor(objective=\"reg:linear\", random_state=42)\n",
    "xgb_model,end_time = time_to_fit(xgb_model,train_features, y_train)"
   ]
  },
  {
   "cell_type": "code",
   "execution_count": 8,
   "metadata": {
    "colab": {
     "base_uri": "https://localhost:8080/",
     "height": 348
    },
    "colab_type": "code",
    "id": "cmRlx3AnY4BA",
    "outputId": "2a9d886b-f128-48d6-a674-814ef8f2e015"
   },
   "outputs": [
    {
     "data": {
      "text/html": [
       "<div>\n",
       "<style scoped>\n",
       "    .dataframe tbody tr th:only-of-type {\n",
       "        vertical-align: middle;\n",
       "    }\n",
       "\n",
       "    .dataframe tbody tr th {\n",
       "        vertical-align: top;\n",
       "    }\n",
       "\n",
       "    .dataframe thead th {\n",
       "        text-align: right;\n",
       "    }\n",
       "</style>\n",
       "<table border=\"1\" class=\"dataframe\">\n",
       "  <thead>\n",
       "    <tr style=\"text-align: right;\">\n",
       "      <th></th>\n",
       "      <th>Test_MAE</th>\n",
       "      <th>Test_RMSE</th>\n",
       "      <th>Train_MAE</th>\n",
       "      <th>Train_RMSE</th>\n",
       "      <th>runtime</th>\n",
       "      <th>val_MAE</th>\n",
       "      <th>val_RMSE</th>\n",
       "    </tr>\n",
       "  </thead>\n",
       "  <tbody>\n",
       "    <tr>\n",
       "      <th>CharacterLSTM</th>\n",
       "      <td>0.439620</td>\n",
       "      <td>0.529653</td>\n",
       "      <td>0.407273</td>\n",
       "      <td>0.490909</td>\n",
       "      <td>344.968230</td>\n",
       "      <td>0.548179</td>\n",
       "      <td>0.666130</td>\n",
       "    </tr>\n",
       "    <tr>\n",
       "      <th>KNN(2C)</th>\n",
       "      <td>0.435815</td>\n",
       "      <td>0.561551</td>\n",
       "      <td>0.329773</td>\n",
       "      <td>0.423078</td>\n",
       "      <td>16.907317</td>\n",
       "      <td>0.591294</td>\n",
       "      <td>0.727415</td>\n",
       "    </tr>\n",
       "    <tr>\n",
       "      <th>LightGBM(1D)</th>\n",
       "      <td>0.431425</td>\n",
       "      <td>0.524175</td>\n",
       "      <td>0.392092</td>\n",
       "      <td>0.473328</td>\n",
       "      <td>2.015421</td>\n",
       "      <td>0.573347</td>\n",
       "      <td>0.695735</td>\n",
       "    </tr>\n",
       "    <tr>\n",
       "      <th>RandomForest(1D)</th>\n",
       "      <td>0.439696</td>\n",
       "      <td>0.542474</td>\n",
       "      <td>0.160088</td>\n",
       "      <td>0.218505</td>\n",
       "      <td>61.621884</td>\n",
       "      <td>0.530739</td>\n",
       "      <td>0.650805</td>\n",
       "    </tr>\n",
       "    <tr>\n",
       "      <th>WordLSTM_GoogleNews</th>\n",
       "      <td>0.433116</td>\n",
       "      <td>0.529140</td>\n",
       "      <td>0.347584</td>\n",
       "      <td>0.425105</td>\n",
       "      <td>219.812323</td>\n",
       "      <td>0.516138</td>\n",
       "      <td>0.629872</td>\n",
       "    </tr>\n",
       "    <tr>\n",
       "      <th>WordLSTM_comb</th>\n",
       "      <td>0.439856</td>\n",
       "      <td>0.536867</td>\n",
       "      <td>0.311176</td>\n",
       "      <td>0.380940</td>\n",
       "      <td>590.085942</td>\n",
       "      <td>0.482452</td>\n",
       "      <td>0.589099</td>\n",
       "    </tr>\n",
       "    <tr>\n",
       "      <th>WordLSTM_fastText</th>\n",
       "      <td>0.437551</td>\n",
       "      <td>0.531828</td>\n",
       "      <td>0.348520</td>\n",
       "      <td>0.424819</td>\n",
       "      <td>211.522421</td>\n",
       "      <td>0.516554</td>\n",
       "      <td>0.630182</td>\n",
       "    </tr>\n",
       "    <tr>\n",
       "      <th>XGboost</th>\n",
       "      <td>0.426094</td>\n",
       "      <td>0.523689</td>\n",
       "      <td>0.355703</td>\n",
       "      <td>0.435466</td>\n",
       "      <td>40.314034</td>\n",
       "      <td>0.542750</td>\n",
       "      <td>0.662430</td>\n",
       "    </tr>\n",
       "    <tr>\n",
       "      <th>naïve_model(1C)</th>\n",
       "      <td>0.537570</td>\n",
       "      <td>0.724760</td>\n",
       "      <td>0.507341</td>\n",
       "      <td>0.675441</td>\n",
       "      <td>96.343572</td>\n",
       "      <td>0.903160</td>\n",
       "      <td>1.058353</td>\n",
       "    </tr>\n",
       "    <tr>\n",
       "      <th>naïve_model_mean(1C)</th>\n",
       "      <td>0.440792</td>\n",
       "      <td>0.531097</td>\n",
       "      <td>0.408442</td>\n",
       "      <td>0.489216</td>\n",
       "      <td>106.922296</td>\n",
       "      <td>0.583952</td>\n",
       "      <td>0.706428</td>\n",
       "    </tr>\n",
       "  </tbody>\n",
       "</table>\n",
       "</div>"
      ],
      "text/plain": [
       "                      Test_MAE  Test_RMSE  Train_MAE  Train_RMSE     runtime  \\\n",
       "CharacterLSTM         0.439620   0.529653   0.407273    0.490909  344.968230   \n",
       "KNN(2C)               0.435815   0.561551   0.329773    0.423078   16.907317   \n",
       "LightGBM(1D)          0.431425   0.524175   0.392092    0.473328    2.015421   \n",
       "RandomForest(1D)      0.439696   0.542474   0.160088    0.218505   61.621884   \n",
       "WordLSTM_GoogleNews   0.433116   0.529140   0.347584    0.425105  219.812323   \n",
       "WordLSTM_comb         0.439856   0.536867   0.311176    0.380940  590.085942   \n",
       "WordLSTM_fastText     0.437551   0.531828   0.348520    0.424819  211.522421   \n",
       "XGboost               0.426094   0.523689   0.355703    0.435466   40.314034   \n",
       "naïve_model(1C)       0.537570   0.724760   0.507341    0.675441   96.343572   \n",
       "naïve_model_mean(1C)  0.440792   0.531097   0.408442    0.489216  106.922296   \n",
       "\n",
       "                       val_MAE  val_RMSE  \n",
       "CharacterLSTM         0.548179  0.666130  \n",
       "KNN(2C)               0.591294  0.727415  \n",
       "LightGBM(1D)          0.573347  0.695735  \n",
       "RandomForest(1D)      0.530739  0.650805  \n",
       "WordLSTM_GoogleNews   0.516138  0.629872  \n",
       "WordLSTM_comb         0.482452  0.589099  \n",
       "WordLSTM_fastText     0.516554  0.630182  \n",
       "XGboost               0.542750  0.662430  \n",
       "naïve_model(1C)       0.903160  1.058353  \n",
       "naïve_model_mean(1C)  0.583952  0.706428  "
      ]
     },
     "execution_count": 8,
     "metadata": {
      "tags": []
     },
     "output_type": "execute_result"
    }
   ],
   "source": [
    "train_preds = xgb_model.predict(train_features)\n",
    "val_preds = xgb_model.predict(val_features)\n",
    "test_preds = xgb_model.predict(test_features)\n",
    "\n",
    "table = load_table()\n",
    "add_to_table('XGboost', train_preds, val_preds, test_preds, end_time)\n",
    "pd.DataFrame.from_dict(table).T"
   ]
  },
  {
   "cell_type": "markdown",
   "metadata": {
    "colab_type": "text",
    "id": "srRqbZq8eiaN"
   },
   "source": [
    "We can see, that the XGboost using after feature extraction did good with the Word lstm model result.<br>\n",
    "Actualy, the  LSTM RMSE score went form 0.529.. $ \\to $ 0.523.. \n",
    "Another improvment  can be seen in the comparison with the naive mean model.\n",
    "XGBoost training is just 40 seconds which is pretty fast compare to other models."
   ]
  },
  {
   "cell_type": "code",
   "execution_count": 0,
   "metadata": {
    "colab": {},
    "colab_type": "code",
    "id": "xG5oeGA3Ztne"
   },
   "outputs": [],
   "source": [
    "save_table()"
   ]
  },
  {
   "cell_type": "code",
   "execution_count": 10,
   "metadata": {
    "colab": {
     "base_uri": "https://localhost:8080/",
     "height": 315
    },
    "colab_type": "code",
    "id": "KFileg7Yf_gU",
    "outputId": "acbf9847-9818-462d-956b-4a0c23455844"
   },
   "outputs": [
    {
     "name": "stdout",
     "output_type": "stream",
     "text": [
      "RMSE: 0.5237\n"
     ]
    },
    {
     "data": {
      "image/png": "[encoded data removed]",
      "text/plain": [
       "<matplotlib.figure.Figure at 0x7fb4a388d9e8>"
      ]
     },
     "metadata": {
      "tags": []
     },
     "output_type": "display_data"
    }
   ],
   "source": [
    "plot_results(test_preds, y_test.values)"
   ]
  },
  {
   "cell_type": "markdown",
   "metadata": {
    "colab_type": "text",
    "id": "EDlyck-lxC5v"
   },
   "source": [
    "## D - Results Comparison  "
   ]
  },
  {
   "cell_type": "code",
   "execution_count": 11,
   "metadata": {
    "colab": {
     "base_uri": "https://localhost:8080/",
     "height": 348
    },
    "colab_type": "code",
    "id": "ALEGT940xQWb",
    "outputId": "f0534b8c-c874-4b81-c34d-76f09f37fd42"
   },
   "outputs": [
    {
     "data": {
      "text/html": [
       "<div>\n",
       "<style scoped>\n",
       "    .dataframe tbody tr th:only-of-type {\n",
       "        vertical-align: middle;\n",
       "    }\n",
       "\n",
       "    .dataframe tbody tr th {\n",
       "        vertical-align: top;\n",
       "    }\n",
       "\n",
       "    .dataframe thead th {\n",
       "        text-align: right;\n",
       "    }\n",
       "</style>\n",
       "<table border=\"1\" class=\"dataframe\">\n",
       "  <thead>\n",
       "    <tr style=\"text-align: right;\">\n",
       "      <th></th>\n",
       "      <th>Test_MAE</th>\n",
       "      <th>Test_RMSE</th>\n",
       "      <th>Train_MAE</th>\n",
       "      <th>Train_RMSE</th>\n",
       "      <th>runtime</th>\n",
       "      <th>val_MAE</th>\n",
       "      <th>val_RMSE</th>\n",
       "    </tr>\n",
       "  </thead>\n",
       "  <tbody>\n",
       "    <tr>\n",
       "      <th>CharacterLSTM</th>\n",
       "      <td>0.439620</td>\n",
       "      <td>0.529653</td>\n",
       "      <td>0.407273</td>\n",
       "      <td>0.490909</td>\n",
       "      <td>344.968230</td>\n",
       "      <td>0.548179</td>\n",
       "      <td>0.666130</td>\n",
       "    </tr>\n",
       "    <tr>\n",
       "      <th>KNN(2C)</th>\n",
       "      <td>0.435815</td>\n",
       "      <td>0.561551</td>\n",
       "      <td>0.329773</td>\n",
       "      <td>0.423078</td>\n",
       "      <td>16.907317</td>\n",
       "      <td>0.591294</td>\n",
       "      <td>0.727415</td>\n",
       "    </tr>\n",
       "    <tr>\n",
       "      <th>LightGBM(1D)</th>\n",
       "      <td>0.431425</td>\n",
       "      <td>0.524175</td>\n",
       "      <td>0.392092</td>\n",
       "      <td>0.473328</td>\n",
       "      <td>2.015421</td>\n",
       "      <td>0.573347</td>\n",
       "      <td>0.695735</td>\n",
       "    </tr>\n",
       "    <tr>\n",
       "      <th>RandomForest(1D)</th>\n",
       "      <td>0.439696</td>\n",
       "      <td>0.542474</td>\n",
       "      <td>0.160088</td>\n",
       "      <td>0.218505</td>\n",
       "      <td>61.621884</td>\n",
       "      <td>0.530739</td>\n",
       "      <td>0.650805</td>\n",
       "    </tr>\n",
       "    <tr>\n",
       "      <th>WordLSTM_GoogleNews</th>\n",
       "      <td>0.433116</td>\n",
       "      <td>0.529140</td>\n",
       "      <td>0.347584</td>\n",
       "      <td>0.425105</td>\n",
       "      <td>219.812323</td>\n",
       "      <td>0.516138</td>\n",
       "      <td>0.629872</td>\n",
       "    </tr>\n",
       "    <tr>\n",
       "      <th>WordLSTM_comb</th>\n",
       "      <td>0.439856</td>\n",
       "      <td>0.536867</td>\n",
       "      <td>0.311176</td>\n",
       "      <td>0.380940</td>\n",
       "      <td>590.085942</td>\n",
       "      <td>0.482452</td>\n",
       "      <td>0.589099</td>\n",
       "    </tr>\n",
       "    <tr>\n",
       "      <th>WordLSTM_fastText</th>\n",
       "      <td>0.437551</td>\n",
       "      <td>0.531828</td>\n",
       "      <td>0.348520</td>\n",
       "      <td>0.424819</td>\n",
       "      <td>211.522421</td>\n",
       "      <td>0.516554</td>\n",
       "      <td>0.630182</td>\n",
       "    </tr>\n",
       "    <tr>\n",
       "      <th>XGboost</th>\n",
       "      <td>0.426094</td>\n",
       "      <td>0.523689</td>\n",
       "      <td>0.355703</td>\n",
       "      <td>0.435466</td>\n",
       "      <td>40.314034</td>\n",
       "      <td>0.542750</td>\n",
       "      <td>0.662430</td>\n",
       "    </tr>\n",
       "    <tr>\n",
       "      <th>naïve_model(1C)</th>\n",
       "      <td>0.537570</td>\n",
       "      <td>0.724760</td>\n",
       "      <td>0.507341</td>\n",
       "      <td>0.675441</td>\n",
       "      <td>96.343572</td>\n",
       "      <td>0.903160</td>\n",
       "      <td>1.058353</td>\n",
       "    </tr>\n",
       "    <tr>\n",
       "      <th>naïve_model_mean(1C)</th>\n",
       "      <td>0.440792</td>\n",
       "      <td>0.531097</td>\n",
       "      <td>0.408442</td>\n",
       "      <td>0.489216</td>\n",
       "      <td>106.922296</td>\n",
       "      <td>0.583952</td>\n",
       "      <td>0.706428</td>\n",
       "    </tr>\n",
       "  </tbody>\n",
       "</table>\n",
       "</div>"
      ],
      "text/plain": [
       "                      Test_MAE  Test_RMSE  Train_MAE  Train_RMSE     runtime  \\\n",
       "CharacterLSTM         0.439620   0.529653   0.407273    0.490909  344.968230   \n",
       "KNN(2C)               0.435815   0.561551   0.329773    0.423078   16.907317   \n",
       "LightGBM(1D)          0.431425   0.524175   0.392092    0.473328    2.015421   \n",
       "RandomForest(1D)      0.439696   0.542474   0.160088    0.218505   61.621884   \n",
       "WordLSTM_GoogleNews   0.433116   0.529140   0.347584    0.425105  219.812323   \n",
       "WordLSTM_comb         0.439856   0.536867   0.311176    0.380940  590.085942   \n",
       "WordLSTM_fastText     0.437551   0.531828   0.348520    0.424819  211.522421   \n",
       "XGboost               0.426094   0.523689   0.355703    0.435466   40.314034   \n",
       "naïve_model(1C)       0.537570   0.724760   0.507341    0.675441   96.343572   \n",
       "naïve_model_mean(1C)  0.440792   0.531097   0.408442    0.489216  106.922296   \n",
       "\n",
       "                       val_MAE  val_RMSE  \n",
       "CharacterLSTM         0.548179  0.666130  \n",
       "KNN(2C)               0.591294  0.727415  \n",
       "LightGBM(1D)          0.573347  0.695735  \n",
       "RandomForest(1D)      0.530739  0.650805  \n",
       "WordLSTM_GoogleNews   0.516138  0.629872  \n",
       "WordLSTM_comb         0.482452  0.589099  \n",
       "WordLSTM_fastText     0.516554  0.630182  \n",
       "XGboost               0.542750  0.662430  \n",
       "naïve_model(1C)       0.903160  1.058353  \n",
       "naïve_model_mean(1C)  0.583952  0.706428  "
      ]
     },
     "execution_count": 11,
     "metadata": {
      "tags": []
     },
     "output_type": "execute_result"
    }
   ],
   "source": [
    "table = load_table()\n",
    "pd.DataFrame.from_dict(table).T"
   ]
  },
  {
   "cell_type": "markdown",
   "metadata": {
    "colab_type": "text",
    "id": "0pttstkAgNR2"
   },
   "source": [
    "We already talked alot of the results after each stage, so we will relate mainly two the best models of the two sections.<br>\n",
    "Char level best model is lightGBM with 0.524.. test RMSE score compare to the word level best model which is XGboost with test RMSE score 0.523.. <br>\n",
    "There is no big difference between the two which can't point on difference between char and word levels represntation.<br>\n",
    "Surprisingly the feature extraction did succeed to improve the results of both of the LSTM models. "
   ]
  },
  {
   "cell_type": "markdown",
   "metadata": {
    "colab_type": "text",
    "id": "e0VS3ZElyPqs"
   },
   "source": [
    "# Section 3"
   ]
  },
  {
   "cell_type": "markdown",
   "metadata": {
    "colab_type": "text",
    "id": "VyIMd_pxyxiv"
   },
   "source": [
    "## Summary"
   ]
  },
  {
   "cell_type": "markdown",
   "metadata": {
    "colab_type": "text",
    "id": "dRoMv55Dy1g0"
   },
   "source": [
    "*Introduction*\n",
    ">In this research we worked with the Home depot product search relevance competition dataset. The competition took place some 3 years ago. And the goal has to state the relevance of a search phrase to a corresponding item; in order to rank batter the results of a search engine for Home-Depot’s items.\n",
    "The relevance is a number between 1 (not relevant) to 3 (highly relevant). Each pair of search term and product discerption was evaluated by at least three human raters. The relevance scores are the average value of the ratings.\n",
    "This research had two main stages. The main different between the two was how we represented the input. In one we represented the inputs as sequences of single characters. And the other as sequences of words.\n",
    "\n",
    "*Data Exploration*\n",
    ">We started the research by exploring the dataset. The main thing that we found out is that the data is not balanced. This means that we had more samples with target value in range of 2 to 3 then targets in range 1 to 2. In order to overcame this problem we decided to not split the train file into train and validation set randomly and instead we have splited all the samples with relevance below 2, equally (and randomly) between the train and validation set.\n",
    "Another thing that we found was that some of the samples of the train set are to be ignored. Notice that we had the relevance to the test set because this competition ended 3 years ago. So as a preprocess stage we remove all of those samples. First we though that it will make our test set very small but after applying the filtering we discovered that the test set contain 83,447 samples which is more than the train and validation sets together.\n",
    "\n",
    "*Preprocess*\n",
    ">In the research we did two pre-processes one for each stage of the research. In both we used the keras.Tokenaizer implementation as a label encoder. Notice that by only using label encoder we ranking the tokens. That is, if the char ‘a’ is encodes as to 1 and the char ‘b’ encoded as 2 than the model can learn that $1 < 2$ which is not true for ‘a’ and 'b’.\n",
    "For the characters stage of the research we do not solve this problem. But in the words we use embedding to address this. That is because we thought that the model can overcome the “ranking problem” because there are a lot of occurrences of the same char in the train. For the words stage of the research we use pre-trained embedding vectors.\n",
    "\n",
    "*Architecture*\n",
    ">In both of the research stages we use siamese networks architecture. This is a model that can be seen as two other models that has the same architecture and shared weights. which combined together to usually to find similarity. And sense our task is to find similarity between the search term and the product description, which is a task that match this architecture. In addition sense after the pre-process we have sequences of chars \\ words we though it will be best to use a LSTM layers such that the “time dimension” is the char \\ words.\n",
    "\n",
    "*Conclusion*\n",
    "> We saw that there are not much different between characters and words we saw that if we compare the best model of the each stage we get pretty much the same results. In addition we learn a lot about siamese networks and the different between the RMSE and MAE matrices. For future work we recommend to use embedding for character which we didn’t have the time to experiment with. In addition we also like to recommend to finding or training better embedding of words."
   ]
  },
  {
   "cell_type": "code",
   "execution_count": 0,
   "metadata": {
    "colab": {},
    "colab_type": "code",
    "id": "0cdOS11jjib0"
   },
   "outputs": [],
   "source": []
  }
 ],
 "metadata": {
  "accelerator": "GPU",
  "colab": {
   "collapsed_sections": [],
   "name": "DL_ASS3.ipynb",
   "provenance": [],
   "toc_visible": true,
   "version": "0.3.2"
  },
  "kernelspec": {
   "display_name": "Python 3",
   "language": "python",
   "name": "python3"
  },
  "language_info": {
   "codemirror_mode": {
    "name": "ipython",
    "version": 3
   },
   "file_extension": ".py",
   "mimetype": "text/x-python",
   "name": "python",
   "nbconvert_exporter": "python",
   "pygments_lexer": "ipython3",
   "version": "3.6.7"
  }
 },
 "nbformat": 4,
 "nbformat_minor": 1
}
