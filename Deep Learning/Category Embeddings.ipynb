{
 "cells": [
  {
   "cell_type": "markdown",
   "metadata": {
    "colab_type": "text",
    "id": "OFiauppfQYik"
   },
   "source": [
    "# Category Embeddings"
   ]
  },
  {
   "cell_type": "code",
   "execution_count": 82,
   "metadata": {
    "colab": {
     "base_uri": "https://localhost:8080/",
     "height": 35
    },
    "colab_type": "code",
    "id": "9hJgxRCb9vWF",
    "outputId": "2991b29d-08bf-4bb2-e5e5-942d56cb38fa"
   },
   "outputs": [],
   "source": [
    "import pandas as pd\n",
    "from sklearn import model_selection, preprocessing, metrics\n",
    "from keras.layers import Reshape, Input, add, Flatten, Dropout, Dense, Embedding, concatenate, BatchNormalization, AveragePooling1D\n",
    "from keras.regularizers import l2\n",
    "from keras.models import Model,model_from_json\n",
    "from keras.optimizers import Adam\n",
    "from keras.callbacks import EarlyStopping\n",
    "from sklearn.model_selection import train_test_split\n",
    "from keras.utils import to_categorical\n",
    "from keras.callbacks import ModelCheckpoint, EarlyStopping\n",
    "import os\n",
    "import xgboost as xgb\n",
    "from sklearn.metrics import mean_squared_error\n",
    "from math import sqrt\n",
    "import numpy as np\n",
    "import matplotlib.pyplot as plt\n",
    "%matplotlib inline\n",
    "from operator import itemgetter\n",
    "from collections import defaultdict\n",
    "import seaborn as sns\n",
    "\n",
    "def read_model(filename):\n",
    "    # this is a helper function used to restore a keras NN model architecture and weights\n",
    "    model = model_from_json(open('elo/model_architecture.json').read())\n",
    "    model.load_weights('elo/'+filename+'_model_weights.h5')\n",
    "    return model\n",
    "def save_model(model,filename):\n",
    "    # this is a helper function used to save a keras NN model architecture and weights\n",
    "    json_string = model.to_json()\n",
    "\n",
    "    open(filename+'_architecture.json', 'w').write(json_string)\n",
    "    model.save_weights(filename+'_model_weights.h5', overwrite=True)\n",
    "    \n",
    "train_path = 'elo/all/train.csv'\n",
    "test_path = 'elo/all/test.csv'\n",
    "hist_tran_path = 'elo/all/historical_transactions.csv'\n",
    "mernch_path = 'elo/all/merchants.csv'\n",
    "new_marnch_path = 'elo/all/new_merchant_transactions.csv'"
   ]
  },
  {
   "cell_type": "markdown",
   "metadata": {
    "colab_type": "text",
    "id": "yy8sPTykQYi4"
   },
   "source": [
    "## Sign-up and pre processing"
   ]
  },
  {
   "cell_type": "markdown",
   "metadata": {
    "colab_type": "text",
    "id": "hGCgPC56HXOp"
   },
   "source": [
    "We sign up to the [ *elo*](https://www.kaggle.com/c/elo-merchant-category-recommendation) competition under the team name *$'$BGU-DL Y&A$'$*. And downloaded the data.<br>\n",
    "Than we had to do some basic pre processing before we can use a classic ML algorithem."
   ]
  },
  {
   "cell_type": "code",
   "execution_count": 2,
   "metadata": {
    "colab": {},
    "colab_type": "code",
    "id": "pYzoo7B_QYjA"
   },
   "outputs": [],
   "source": [
    "path = '../Assignment2/elo/all/'"
   ]
  },
  {
   "cell_type": "code",
   "execution_count": 7,
   "metadata": {
    "colab": {},
    "colab_type": "code",
    "id": "L4ITf6cPorJh"
   },
   "outputs": [],
   "source": [
    "train_df = pd.read_csv(path + 'train.csv', parse_dates=[\"first_active_month\"])\n",
    "test_df = pd.read_csv(path + 'test.csv' , parse_dates=[\"first_active_month\"])\n",
    "new_trans_df = pd.read_csv(path + 'new_merchant_transactions.csv' )"
   ]
  },
  {
   "cell_type": "code",
   "execution_count": 16,
   "metadata": {
    "colab": {},
    "colab_type": "code",
    "collapsed": true,
    "id": "PWHezwPRra2Y"
   },
   "outputs": [
    {
     "ename": "MemoryError",
     "evalue": "",
     "output_type": "error",
     "traceback": [
      "\u001b[0;31m---------------------------------------------------------------------------\u001b[0m",
      "\u001b[0;31mMemoryError\u001b[0m                               Traceback (most recent call last)",
      "\u001b[0;32m<ipython-input-16-bbbc1cff4405>\u001b[0m in \u001b[0;36m<module>\u001b[0;34m\u001b[0m\n\u001b[0;32m----> 1\u001b[0;31m \u001b[0mhist_df\u001b[0m \u001b[0;34m=\u001b[0m \u001b[0mpd\u001b[0m\u001b[0;34m.\u001b[0m\u001b[0mread_csv\u001b[0m\u001b[0;34m(\u001b[0m\u001b[0mpath\u001b[0m \u001b[0;34m+\u001b[0m \u001b[0;34m\"/historical_transactions.csv\"\u001b[0m\u001b[0;34m)\u001b[0m\u001b[0;34m\u001b[0m\u001b[0;34m\u001b[0m\u001b[0m\n\u001b[0m",
      "\u001b[0;32m/usr/local/lib/python3.6/site-packages/pandas/io/parsers.py\u001b[0m in \u001b[0;36mparser_f\u001b[0;34m(filepath_or_buffer, sep, delimiter, header, names, index_col, usecols, squeeze, prefix, mangle_dupe_cols, dtype, engine, converters, true_values, false_values, skipinitialspace, skiprows, nrows, na_values, keep_default_na, na_filter, verbose, skip_blank_lines, parse_dates, infer_datetime_format, keep_date_col, date_parser, dayfirst, iterator, chunksize, compression, thousands, decimal, lineterminator, quotechar, quoting, escapechar, comment, encoding, dialect, tupleize_cols, error_bad_lines, warn_bad_lines, skipfooter, doublequote, delim_whitespace, low_memory, memory_map, float_precision)\u001b[0m\n\u001b[1;32m    676\u001b[0m                     skip_blank_lines=skip_blank_lines)\n\u001b[1;32m    677\u001b[0m \u001b[0;34m\u001b[0m\u001b[0m\n\u001b[0;32m--> 678\u001b[0;31m         \u001b[0;32mreturn\u001b[0m \u001b[0m_read\u001b[0m\u001b[0;34m(\u001b[0m\u001b[0mfilepath_or_buffer\u001b[0m\u001b[0;34m,\u001b[0m \u001b[0mkwds\u001b[0m\u001b[0;34m)\u001b[0m\u001b[0;34m\u001b[0m\u001b[0;34m\u001b[0m\u001b[0m\n\u001b[0m\u001b[1;32m    679\u001b[0m \u001b[0;34m\u001b[0m\u001b[0m\n\u001b[1;32m    680\u001b[0m     \u001b[0mparser_f\u001b[0m\u001b[0;34m.\u001b[0m\u001b[0m__name__\u001b[0m \u001b[0;34m=\u001b[0m \u001b[0mname\u001b[0m\u001b[0;34m\u001b[0m\u001b[0;34m\u001b[0m\u001b[0m\n",
      "\u001b[0;32m/usr/local/lib/python3.6/site-packages/pandas/io/parsers.py\u001b[0m in \u001b[0;36m_read\u001b[0;34m(filepath_or_buffer, kwds)\u001b[0m\n\u001b[1;32m    444\u001b[0m \u001b[0;34m\u001b[0m\u001b[0m\n\u001b[1;32m    445\u001b[0m     \u001b[0;32mtry\u001b[0m\u001b[0;34m:\u001b[0m\u001b[0;34m\u001b[0m\u001b[0;34m\u001b[0m\u001b[0m\n\u001b[0;32m--> 446\u001b[0;31m         \u001b[0mdata\u001b[0m \u001b[0;34m=\u001b[0m \u001b[0mparser\u001b[0m\u001b[0;34m.\u001b[0m\u001b[0mread\u001b[0m\u001b[0;34m(\u001b[0m\u001b[0mnrows\u001b[0m\u001b[0;34m)\u001b[0m\u001b[0;34m\u001b[0m\u001b[0;34m\u001b[0m\u001b[0m\n\u001b[0m\u001b[1;32m    447\u001b[0m     \u001b[0;32mfinally\u001b[0m\u001b[0;34m:\u001b[0m\u001b[0;34m\u001b[0m\u001b[0;34m\u001b[0m\u001b[0m\n\u001b[1;32m    448\u001b[0m         \u001b[0mparser\u001b[0m\u001b[0;34m.\u001b[0m\u001b[0mclose\u001b[0m\u001b[0;34m(\u001b[0m\u001b[0;34m)\u001b[0m\u001b[0;34m\u001b[0m\u001b[0;34m\u001b[0m\u001b[0m\n",
      "\u001b[0;32m/usr/local/lib/python3.6/site-packages/pandas/io/parsers.py\u001b[0m in \u001b[0;36mread\u001b[0;34m(self, nrows)\u001b[0m\n\u001b[1;32m   1034\u001b[0m                 \u001b[0;32mraise\u001b[0m \u001b[0mValueError\u001b[0m\u001b[0;34m(\u001b[0m\u001b[0;34m'skipfooter not supported for iteration'\u001b[0m\u001b[0;34m)\u001b[0m\u001b[0;34m\u001b[0m\u001b[0;34m\u001b[0m\u001b[0m\n\u001b[1;32m   1035\u001b[0m \u001b[0;34m\u001b[0m\u001b[0m\n\u001b[0;32m-> 1036\u001b[0;31m         \u001b[0mret\u001b[0m \u001b[0;34m=\u001b[0m \u001b[0mself\u001b[0m\u001b[0;34m.\u001b[0m\u001b[0m_engine\u001b[0m\u001b[0;34m.\u001b[0m\u001b[0mread\u001b[0m\u001b[0;34m(\u001b[0m\u001b[0mnrows\u001b[0m\u001b[0;34m)\u001b[0m\u001b[0;34m\u001b[0m\u001b[0;34m\u001b[0m\u001b[0m\n\u001b[0m\u001b[1;32m   1037\u001b[0m \u001b[0;34m\u001b[0m\u001b[0m\n\u001b[1;32m   1038\u001b[0m         \u001b[0;31m# May alter columns / col_dict\u001b[0m\u001b[0;34m\u001b[0m\u001b[0;34m\u001b[0m\u001b[0;34m\u001b[0m\u001b[0m\n",
      "\u001b[0;32m/usr/local/lib/python3.6/site-packages/pandas/io/parsers.py\u001b[0m in \u001b[0;36mread\u001b[0;34m(self, nrows)\u001b[0m\n\u001b[1;32m   1846\u001b[0m     \u001b[0;32mdef\u001b[0m \u001b[0mread\u001b[0m\u001b[0;34m(\u001b[0m\u001b[0mself\u001b[0m\u001b[0;34m,\u001b[0m \u001b[0mnrows\u001b[0m\u001b[0;34m=\u001b[0m\u001b[0;32mNone\u001b[0m\u001b[0;34m)\u001b[0m\u001b[0;34m:\u001b[0m\u001b[0;34m\u001b[0m\u001b[0;34m\u001b[0m\u001b[0m\n\u001b[1;32m   1847\u001b[0m         \u001b[0;32mtry\u001b[0m\u001b[0;34m:\u001b[0m\u001b[0;34m\u001b[0m\u001b[0;34m\u001b[0m\u001b[0m\n\u001b[0;32m-> 1848\u001b[0;31m             \u001b[0mdata\u001b[0m \u001b[0;34m=\u001b[0m \u001b[0mself\u001b[0m\u001b[0;34m.\u001b[0m\u001b[0m_reader\u001b[0m\u001b[0;34m.\u001b[0m\u001b[0mread\u001b[0m\u001b[0;34m(\u001b[0m\u001b[0mnrows\u001b[0m\u001b[0;34m)\u001b[0m\u001b[0;34m\u001b[0m\u001b[0;34m\u001b[0m\u001b[0m\n\u001b[0m\u001b[1;32m   1849\u001b[0m         \u001b[0;32mexcept\u001b[0m \u001b[0mStopIteration\u001b[0m\u001b[0;34m:\u001b[0m\u001b[0;34m\u001b[0m\u001b[0;34m\u001b[0m\u001b[0m\n\u001b[1;32m   1850\u001b[0m             \u001b[0;32mif\u001b[0m \u001b[0mself\u001b[0m\u001b[0;34m.\u001b[0m\u001b[0m_first_chunk\u001b[0m\u001b[0;34m:\u001b[0m\u001b[0;34m\u001b[0m\u001b[0;34m\u001b[0m\u001b[0m\n",
      "\u001b[0;32mpandas/_libs/parsers.pyx\u001b[0m in \u001b[0;36mpandas._libs.parsers.TextReader.read\u001b[0;34m()\u001b[0m\n",
      "\u001b[0;32mpandas/_libs/parsers.pyx\u001b[0m in \u001b[0;36mpandas._libs.parsers.TextReader._read_low_memory\u001b[0;34m()\u001b[0m\n",
      "\u001b[0;32mpandas/_libs/parsers.pyx\u001b[0m in \u001b[0;36mpandas._libs.parsers._concatenate_chunks\u001b[0;34m()\u001b[0m\n",
      "\u001b[0;31mMemoryError\u001b[0m: "
     ]
    }
   ],
   "source": [
    "hist_df = pd.read_csv(path + \"/historical_transactions.csv\")"
   ]
  },
  {
   "cell_type": "code",
   "execution_count": null,
   "metadata": {
    "colab": {},
    "colab_type": "code",
    "id": "BkFQMXBY-wci"
   },
   "outputs": [],
   "source": [
    "new_trans_df = pd.read_csv(path + \"/new_merchant_transactions.csv\")"
   ]
  },
  {
   "cell_type": "markdown",
   "metadata": {
    "colab_type": "text",
    "id": "o7F-ONKvEWCe"
   },
   "source": [
    "We want to have a new *csv* file with the following information:\n",
    "\n",
    "1. The all features from *train.csv* file.\n",
    "2. Purchase amount from history (*historical_transactions.csv* file).\n",
    "3. Sum, mean, std, min, and max of purchase amount."
   ]
  },
  {
   "cell_type": "code",
   "execution_count": null,
   "metadata": {
    "colab": {},
    "colab_type": "code",
    "id": "FQ9Rg7un8Ys-"
   },
   "outputs": [],
   "source": [
    "gdf = hist_df.groupby(\"card_id\")\n",
    "gdf = gdf[\"purchase_amount\"].size().reset_index()\n",
    "gdf.columns = [\"card_id\", \"num_hist_transactions\"]\n",
    "train_df = pd.merge(train_df, gdf, on=\"card_id\", how=\"left\")\n",
    "test_df = pd.merge(test_df, gdf, on=\"card_id\", how=\"left\")"
   ]
  },
  {
   "cell_type": "code",
   "execution_count": null,
   "metadata": {
    "colab": {},
    "colab_type": "code",
    "id": "BoXGkphGABXS"
   },
   "outputs": [],
   "source": [
    "gdf = hist_df.groupby(\"card_id\")\n",
    "gdf = gdf[\"purchase_amount\"].agg(['sum', 'mean', 'std', 'min', 'max']).reset_index()\n",
    "gdf.columns = [\"card_id\", \"sum_hist_trans\", \"mean_hist_trans\", \"std_hist_trans\", \"min_hist_trans\", \"max_hist_trans\"]\n",
    "train_df = pd.merge(train_df, gdf, on=\"card_id\", how=\"left\")\n",
    "test_df = pd.merge(test_df, gdf, on=\"card_id\", how=\"left\")"
   ]
  },
  {
   "cell_type": "markdown",
   "metadata": {
    "colab_type": "text",
    "id": "v3ZvKJzlGI9E"
   },
   "source": [
    "We want to have a new *csv* file with the following information:\n",
    "1. The all features from train.csv\n",
    "2. Purchase amount from new merchant (*new_merchant_transactions.csv* file).\n",
    "3. Sum, mean, std, min and max of purchase amount."
   ]
  },
  {
   "cell_type": "code",
   "execution_count": null,
   "metadata": {
    "colab": {},
    "colab_type": "code",
    "id": "K_gL57zn8Ykq"
   },
   "outputs": [],
   "source": [
    "gdf = new_trans_df.groupby(\"card_id\")\n",
    "gdf = gdf[\"purchase_amount\"].size().reset_index()\n",
    "gdf.columns = [\"card_id\", \"num_merch_transactions\"]\n",
    "train_df = pd.merge(train_df, gdf, on=\"card_id\", how=\"left\")\n",
    "test_df = pd.merge(test_df, gdf, on=\"card_id\", how=\"left\")"
   ]
  },
  {
   "cell_type": "code",
   "execution_count": null,
   "metadata": {
    "colab": {},
    "colab_type": "code",
    "id": "7Ke9TLdw8YYS"
   },
   "outputs": [],
   "source": [
    "gdf = new_trans_df.groupby(\"card_id\")\n",
    "gdf = gdf[\"purchase_amount\"].agg(['sum', 'mean', 'std', 'min', 'max']).reset_index()\n",
    "gdf.columns = [\"card_id\", \"sum_merch_trans\", \"mean_merch_trans\", \"std_merch_trans\", \"min_merch_trans\", \"max_merch_trans\"]\n",
    "train_df = pd.merge(train_df, gdf, on=\"card_id\", how=\"left\")\n",
    "test_df = pd.merge(test_df, gdf, on=\"card_id\", how=\"left\")"
   ]
  },
  {
   "cell_type": "markdown",
   "metadata": {
    "colab_type": "text",
    "id": "aGT8z87lGVvh"
   },
   "source": [
    "We will convert dates that represented as string into two new fields that are numerial and are easy to learn from. "
   ]
  },
  {
   "cell_type": "code",
   "execution_count": null,
   "metadata": {
    "colab": {},
    "colab_type": "code",
    "id": "V88gmGry8eBh"
   },
   "outputs": [],
   "source": [
    "train_df[\"year\"] = train_df[\"first_active_month\"].dt.year\n",
    "test_df[\"year\"] = test_df[\"first_active_month\"].dt.year\n",
    "train_df[\"month\"] = train_df[\"first_active_month\"].dt.month\n",
    "test_df[\"month\"] = test_df[\"first_active_month\"].dt.month\n",
    "\n",
    "train_df = train_df.drop([\"first_active_month\"], axis=1)\n",
    "test_df = test_df.drop([\"first_active_month\"], axis=1)"
   ]
  },
  {
   "cell_type": "markdown",
   "metadata": {
    "colab_type": "text",
    "id": "ln-bALEvG5Wl"
   },
   "source": [
    "Some of the cells are ```NaN``` because no purchase been made so we will convert this ```NaN```s into zeros."
   ]
  },
  {
   "cell_type": "code",
   "execution_count": null,
   "metadata": {
    "colab": {},
    "colab_type": "code",
    "id": "4RrTJPSBAgDi"
   },
   "outputs": [],
   "source": [
    "train_df.fillna(value=0, inplace=True)\n",
    "test_df.fillna(value=0, inplace=True)\n",
    "train_df.to_csv(\"train_df.csv\", index=False)\n",
    "test_df.to_csv(\"test_df.csv\", index=False)"
   ]
  },
  {
   "cell_type": "markdown",
   "metadata": {
    "colab_type": "text",
    "id": "bCxE2zMKJOte"
   },
   "source": [
    "For loading the pre process data."
   ]
  },
  {
   "cell_type": "code",
   "execution_count": null,
   "metadata": {
    "colab": {},
    "colab_type": "code",
    "id": "nnMGTi2IJAnd"
   },
   "outputs": [],
   "source": [
    "train_df = pd.read_csv(path + 'train_df.csv')\n",
    "test_df = pd.read_csv(path + 'test_df.csv')"
   ]
  },
  {
   "cell_type": "markdown",
   "metadata": {
    "colab_type": "text",
    "id": "KnQw9-w3HSwA"
   },
   "source": [
    "## B Classical ML Algorithm"
   ]
  },
  {
   "cell_type": "markdown",
   "metadata": {
    "colab_type": "text",
    "id": "EoHJvw2LP0I7"
   },
   "source": [
    "We will use ```Light GBM``` model. It is a gradient boosting framework that uses tree based learning algorithm. ```Light GBM``` is prefixed as \"Light\" because of its high speed. In addition this algorithm can handle a large size of data and takes lower memory to run. Another reason of why ```Light GBM``` is popular is because it focuses on accuracy of results. LGBM also supports GPU learning and thus data scientists are widely using LGBM for data science application development."
   ]
  },
  {
   "cell_type": "code",
   "execution_count": 0,
   "metadata": {
    "colab": {},
    "colab_type": "code",
    "id": "f8FTzCQ6B4HL"
   },
   "outputs": [],
   "source": [
    "def create_lgb_model(train_X, train_y, val_X, val_y):\n",
    "    params = {\"objective\" : \"regression\", \n",
    "              \"metric\" : \"rmse\", \n",
    "              \"num_leaves\" : 30, \n",
    "              \"min_child_weight\" : 50, \n",
    "              \"learning_rate\" : 0.05, \n",
    "              \"bagging_fraction\" : 0.7,\n",
    "              \"feature_fraction\" : 0.7,\n",
    "              \"bagging_frequency\" : 5,\n",
    "              \"bagging_seed\" : 2018,\n",
    "              \"verbosity\" : -1}\n",
    "    \n",
    "    train = lgb.Dataset(train_X, label=train_y)\n",
    "    val = lgb.Dataset(val_X, label=val_y)\n",
    "    evals_result = {}\n",
    "    model = lgb.train(params, train, 1000, valid_sets=[val], early_stopping_rounds=100, verbose_eval=100, evals_result=evals_result)\n",
    "    \n",
    "    return model, evals_result"
   ]
  },
  {
   "cell_type": "code",
   "execution_count": 0,
   "metadata": {
    "colab": {},
    "colab_type": "code",
    "id": "sYAADOs37fwO"
   },
   "outputs": [],
   "source": [
    "cols_to_use = [\"feature_1\", \"feature_2\", \"feature_3\", \"year\", \"month\", \n",
    "               \"num_hist_transactions\", \"sum_hist_trans\", \"mean_hist_trans\", \"std_hist_trans\", \n",
    "               \"min_hist_trans\", \"max_hist_trans\",\n",
    "               \"num_merch_transactions\", \"sum_merch_trans\", \"mean_merch_trans\", \"std_merch_trans\",\n",
    "               \"min_merch_trans\", \"max_merch_trans\"]\n",
    "\n",
    "train_X = train_df[cols_to_use]\n",
    "test_X = test_df[cols_to_use]\n",
    "train_y = train_df['target'].values"
   ]
  },
  {
   "cell_type": "code",
   "execution_count": 0,
   "metadata": {
    "colab": {},
    "colab_type": "code",
    "id": "mqM30CDMCSpV"
   },
   "outputs": [],
   "source": [
    "pred_test = 0\n",
    "kf = model_selection.KFold(n_splits=5, random_state=2018, shuffle=True)\n",
    "for dev_index, val_index in kf.split(train_df):\n",
    "    dev_X, val_X = train_X.loc[dev_index,:], train_X.loc[val_index,:]\n",
    "    dev_y, val_y = train_y[dev_index], train_y[val_index]\n",
    "    \n",
    "    pred_test_tmp, model, evals_result = run_lgb(dev_X, dev_y, val_X, val_y, test_X)\n",
    "    pred_test += pred_test_tmp\n",
    "pred_test /= 5."
   ]
  },
  {
   "cell_type": "code",
   "execution_count": 0,
   "metadata": {
    "colab": {
     "base_uri": "https://localhost:8080/",
     "height": 111
    },
    "colab_type": "code",
    "id": "3Hv19IPTJfb8",
    "outputId": "126e064e-8cd1-4f86-cfb2-21d0b2b650e6"
   },
   "outputs": [
    {
     "name": "stdout",
     "output_type": "stream",
     "text": [
      "Training until validation scores don't improve for 100 rounds.\n",
      "[100]\tvalid_0's rmse: 3.87463\n",
      "[200]\tvalid_0's rmse: 3.8741\n",
      "Early stopping, best iteration is:\n",
      "[170]\tvalid_0's rmse: 3.87348\n"
     ]
    }
   ],
   "source": [
    "split_index = int(len(train_X)*0.8) # split train to 80% for train and 20% for val\n",
    "x_train, y_train = train_X.iloc[:split_index, :], train_y[:split_index]\n",
    "x_val, y_val = train_X.iloc[split_index:, :], train_y[split_index:]\n",
    "\n",
    "lgb_model, evals_result = create_lgb_model(x_train, y_train, x_val, y_val)"
   ]
  },
  {
   "cell_type": "code",
   "execution_count": 0,
   "metadata": {
    "colab": {},
    "colab_type": "code",
    "id": "OKHl5yadPwAs"
   },
   "outputs": [],
   "source": [
    "pred_test_y = model.predict(test_X, num_iteration=model.best_iteration)\n",
    "preds_df = pd.DataFrame({'card_id': test_df['card_id'].values.tolist(), 'target': pred_test_y.tolist()})\n",
    "preds_df.to_csv(path + \"/preds_df.csv\", index=False)"
   ]
  },
  {
   "cell_type": "markdown",
   "metadata": {
    "colab_type": "text",
    "id": "MMmcjN51U6xa"
   },
   "source": [
    "After we submited this result to kaggle we got a score of 3.884."
   ]
  },
  {
   "cell_type": "markdown",
   "metadata": {
    "colab_type": "text",
    "id": "M06X_agyUxwY"
   },
   "source": [
    "## C Per Process For Categorical Features Embeddings"
   ]
  },
  {
   "cell_type": "markdown",
   "metadata": {
    "colab_type": "text",
    "id": "juWhTtPnra5f"
   },
   "source": [
    "We will perform the relevant preprocessing steps to create an embedding for the dataset categorical variables.<br>\n",
    "Due to machine process-power limit we will not be able to merge the all given csv's so we will merge *train.csv* with *new_merchant_tran.csv* only.\n",
    "But there is one more problem, there are some categorical fields that are not unique for a given id, for example, ```city_id```.<br>\n",
    "```city_id``` have $N \\to 1$ connection with ```card_id```, so we will take the ```city_id``` with maximum of ```purchase_amount```.<br>\n",
    "After that, we will take all the fields that have $1\\to1$ connection with this ``card_id``-```city_id```.<br>\n",
    "Once we achived this goal, we will be able to merge with *train.csv*. "
   ]
  },
  {
   "cell_type": "code",
   "execution_count": 3,
   "metadata": {
    "colab": {},
    "colab_type": "code",
    "id": "PgrXPCg4Tk0q"
   },
   "outputs": [],
   "source": [
    "new_trans_df = pd.read_csv(path + \"/new_merchant_transactions.csv\")"
   ]
  },
  {
   "cell_type": "code",
   "execution_count": 4,
   "metadata": {
    "colab": {},
    "colab_type": "code",
    "id": "8XhfMKModgLv"
   },
   "outputs": [],
   "source": [
    "grouped_new_trans = new_trans_df.loc[new_trans_df.groupby('card_id')['purchase_amount'].idxmax()]"
   ]
  },
  {
   "cell_type": "code",
   "execution_count": 21,
   "metadata": {
    "colab": {
     "base_uri": "https://localhost:8080/",
     "height": 313
    },
    "colab_type": "code",
    "id": "-TviLTYyra5_",
    "outputId": "a33536ba-575a-47f6-c9a4-327da7972701"
   },
   "outputs": [
    {
     "data": {
      "text/html": [
       "<div>\n",
       "<style scoped>\n",
       "    .dataframe tbody tr th:only-of-type {\n",
       "        vertical-align: middle;\n",
       "    }\n",
       "\n",
       "    .dataframe tbody tr th {\n",
       "        vertical-align: top;\n",
       "    }\n",
       "\n",
       "    .dataframe thead th {\n",
       "        text-align: right;\n",
       "    }\n",
       "</style>\n",
       "<table border=\"1\" class=\"dataframe\">\n",
       "  <thead>\n",
       "    <tr style=\"text-align: right;\">\n",
       "      <th></th>\n",
       "      <th>authorized_flag</th>\n",
       "      <th>card_id</th>\n",
       "      <th>city_id</th>\n",
       "      <th>category_1</th>\n",
       "      <th>installments</th>\n",
       "      <th>category_3</th>\n",
       "      <th>merchant_category_id</th>\n",
       "      <th>merchant_id</th>\n",
       "      <th>month_lag</th>\n",
       "      <th>purchase_amount</th>\n",
       "      <th>purchase_date</th>\n",
       "      <th>category_2</th>\n",
       "      <th>state_id</th>\n",
       "      <th>subsector_id</th>\n",
       "    </tr>\n",
       "  </thead>\n",
       "  <tbody>\n",
       "    <tr>\n",
       "      <th>1793299</th>\n",
       "      <td>Y</td>\n",
       "      <td>C_ID_00007093c1</td>\n",
       "      <td>69</td>\n",
       "      <td>N</td>\n",
       "      <td>1</td>\n",
       "      <td>B</td>\n",
       "      <td>879</td>\n",
       "      <td>M_ID_00a6ca8a8a</td>\n",
       "      <td>2</td>\n",
       "      <td>-0.656749</td>\n",
       "      <td>2018-04-09 16:23:59</td>\n",
       "      <td>1.0</td>\n",
       "      <td>9</td>\n",
       "      <td>29</td>\n",
       "    </tr>\n",
       "    <tr>\n",
       "      <th>38628</th>\n",
       "      <td>Y</td>\n",
       "      <td>C_ID_0001238066</td>\n",
       "      <td>333</td>\n",
       "      <td>N</td>\n",
       "      <td>3</td>\n",
       "      <td>C</td>\n",
       "      <td>607</td>\n",
       "      <td>M_ID_a5a61c543e</td>\n",
       "      <td>1</td>\n",
       "      <td>-0.078318</td>\n",
       "      <td>2018-03-24 17:02:00</td>\n",
       "      <td>1.0</td>\n",
       "      <td>9</td>\n",
       "      <td>29</td>\n",
       "    </tr>\n",
       "    <tr>\n",
       "      <th>1443420</th>\n",
       "      <td>Y</td>\n",
       "      <td>C_ID_0001506ef0</td>\n",
       "      <td>137</td>\n",
       "      <td>N</td>\n",
       "      <td>0</td>\n",
       "      <td>A</td>\n",
       "      <td>360</td>\n",
       "      <td>NaN</td>\n",
       "      <td>1</td>\n",
       "      <td>-0.715352</td>\n",
       "      <td>2018-03-16 22:21:58</td>\n",
       "      <td>3.0</td>\n",
       "      <td>19</td>\n",
       "      <td>34</td>\n",
       "    </tr>\n",
       "    <tr>\n",
       "      <th>29165</th>\n",
       "      <td>Y</td>\n",
       "      <td>C_ID_0001793786</td>\n",
       "      <td>69</td>\n",
       "      <td>N</td>\n",
       "      <td>0</td>\n",
       "      <td>A</td>\n",
       "      <td>456</td>\n",
       "      <td>M_ID_b4f77c9e84</td>\n",
       "      <td>1</td>\n",
       "      <td>3.129932</td>\n",
       "      <td>2017-11-27 00:00:00</td>\n",
       "      <td>1.0</td>\n",
       "      <td>9</td>\n",
       "      <td>21</td>\n",
       "    </tr>\n",
       "    <tr>\n",
       "      <th>827140</th>\n",
       "      <td>Y</td>\n",
       "      <td>C_ID_000183fdda</td>\n",
       "      <td>161</td>\n",
       "      <td>N</td>\n",
       "      <td>-1</td>\n",
       "      <td>NaN</td>\n",
       "      <td>489</td>\n",
       "      <td>M_ID_3bf000781a</td>\n",
       "      <td>2</td>\n",
       "      <td>-0.107680</td>\n",
       "      <td>2018-04-30 14:59:53</td>\n",
       "      <td>3.0</td>\n",
       "      <td>3</td>\n",
       "      <td>16</td>\n",
       "    </tr>\n",
       "  </tbody>\n",
       "</table>\n",
       "</div>"
      ],
      "text/plain": [
       "        authorized_flag          card_id  city_id category_1  installments  \\\n",
       "1793299               Y  C_ID_00007093c1       69          N             1   \n",
       "38628                 Y  C_ID_0001238066      333          N             3   \n",
       "1443420               Y  C_ID_0001506ef0      137          N             0   \n",
       "29165                 Y  C_ID_0001793786       69          N             0   \n",
       "827140                Y  C_ID_000183fdda      161          N            -1   \n",
       "\n",
       "        category_3  merchant_category_id      merchant_id  month_lag  \\\n",
       "1793299          B                   879  M_ID_00a6ca8a8a          2   \n",
       "38628            C                   607  M_ID_a5a61c543e          1   \n",
       "1443420          A                   360              NaN          1   \n",
       "29165            A                   456  M_ID_b4f77c9e84          1   \n",
       "827140         NaN                   489  M_ID_3bf000781a          2   \n",
       "\n",
       "         purchase_amount        purchase_date  category_2  state_id  \\\n",
       "1793299        -0.656749  2018-04-09 16:23:59         1.0         9   \n",
       "38628          -0.078318  2018-03-24 17:02:00         1.0         9   \n",
       "1443420        -0.715352  2018-03-16 22:21:58         3.0        19   \n",
       "29165           3.129932  2017-11-27 00:00:00         1.0         9   \n",
       "827140         -0.107680  2018-04-30 14:59:53         3.0         3   \n",
       "\n",
       "         subsector_id  \n",
       "1793299            29  \n",
       "38628              29  \n",
       "1443420            34  \n",
       "29165              21  \n",
       "827140             16  "
      ]
     },
     "execution_count": 21,
     "metadata": {},
     "output_type": "execute_result"
    }
   ],
   "source": [
    "grouped_new_trans.head()"
   ]
  },
  {
   "cell_type": "markdown",
   "metadata": {
    "colab_type": "text",
    "id": "DNMTWw_yra6G"
   },
   "source": [
    "Now we can merge with train.csv"
   ]
  },
  {
   "cell_type": "code",
   "execution_count": 8,
   "metadata": {
    "colab": {},
    "colab_type": "code",
    "id": "tcZcltm6ra6P"
   },
   "outputs": [],
   "source": [
    "train_and_new_trans = pd.merge(train_df, grouped_new_trans, on=\"card_id\", how=\"outer\")"
   ]
  },
  {
   "cell_type": "code",
   "execution_count": 9,
   "metadata": {
    "colab": {},
    "colab_type": "code",
    "id": "siRigkVqNF9U"
   },
   "outputs": [],
   "source": [
    "test_and_new_trans = pd.merge(test_df, grouped_new_trans, on=\"card_id\", how=\"outer\")\n",
    "test_and_new_trans = test_and_new_trans[:123623]"
   ]
  },
  {
   "cell_type": "code",
   "execution_count": 10,
   "metadata": {
    "colab": {
     "base_uri": "https://localhost:8080/",
     "height": 313
    },
    "colab_type": "code",
    "id": "gkC1m9Jbra6e",
    "outputId": "b0303e00-92c6-4007-c03a-accfa1d62cbd"
   },
   "outputs": [
    {
     "data": {
      "text/html": [
       "<div>\n",
       "<style scoped>\n",
       "    .dataframe tbody tr th:only-of-type {\n",
       "        vertical-align: middle;\n",
       "    }\n",
       "\n",
       "    .dataframe tbody tr th {\n",
       "        vertical-align: top;\n",
       "    }\n",
       "\n",
       "    .dataframe thead th {\n",
       "        text-align: right;\n",
       "    }\n",
       "</style>\n",
       "<table border=\"1\" class=\"dataframe\">\n",
       "  <thead>\n",
       "    <tr style=\"text-align: right;\">\n",
       "      <th></th>\n",
       "      <th>first_active_month</th>\n",
       "      <th>card_id</th>\n",
       "      <th>feature_1</th>\n",
       "      <th>feature_2</th>\n",
       "      <th>feature_3</th>\n",
       "      <th>target</th>\n",
       "      <th>authorized_flag</th>\n",
       "      <th>city_id</th>\n",
       "      <th>category_1</th>\n",
       "      <th>installments</th>\n",
       "      <th>category_3</th>\n",
       "      <th>merchant_category_id</th>\n",
       "      <th>merchant_id</th>\n",
       "      <th>month_lag</th>\n",
       "      <th>purchase_amount</th>\n",
       "      <th>purchase_date</th>\n",
       "      <th>category_2</th>\n",
       "      <th>state_id</th>\n",
       "      <th>subsector_id</th>\n",
       "    </tr>\n",
       "  </thead>\n",
       "  <tbody>\n",
       "    <tr>\n",
       "      <th>0</th>\n",
       "      <td>2017-06-01</td>\n",
       "      <td>C_ID_92a2005557</td>\n",
       "      <td>5.0</td>\n",
       "      <td>2.0</td>\n",
       "      <td>1.0</td>\n",
       "      <td>-0.820283</td>\n",
       "      <td>Y</td>\n",
       "      <td>276.0</td>\n",
       "      <td>N</td>\n",
       "      <td>0.0</td>\n",
       "      <td>A</td>\n",
       "      <td>783.0</td>\n",
       "      <td>M_ID_0703c10cc0</td>\n",
       "      <td>1.0</td>\n",
       "      <td>-0.296112</td>\n",
       "      <td>2018-03-12 16:49:03</td>\n",
       "      <td>1.0</td>\n",
       "      <td>9.0</td>\n",
       "      <td>19.0</td>\n",
       "    </tr>\n",
       "    <tr>\n",
       "      <th>1</th>\n",
       "      <td>2017-01-01</td>\n",
       "      <td>C_ID_3d0044924f</td>\n",
       "      <td>4.0</td>\n",
       "      <td>1.0</td>\n",
       "      <td>0.0</td>\n",
       "      <td>0.392913</td>\n",
       "      <td>Y</td>\n",
       "      <td>69.0</td>\n",
       "      <td>N</td>\n",
       "      <td>1.0</td>\n",
       "      <td>B</td>\n",
       "      <td>705.0</td>\n",
       "      <td>M_ID_3b3dad217c</td>\n",
       "      <td>2.0</td>\n",
       "      <td>-0.701858</td>\n",
       "      <td>2018-03-30 06:48:26</td>\n",
       "      <td>1.0</td>\n",
       "      <td>9.0</td>\n",
       "      <td>33.0</td>\n",
       "    </tr>\n",
       "    <tr>\n",
       "      <th>2</th>\n",
       "      <td>2016-08-01</td>\n",
       "      <td>C_ID_d639edf6cd</td>\n",
       "      <td>2.0</td>\n",
       "      <td>2.0</td>\n",
       "      <td>0.0</td>\n",
       "      <td>0.688056</td>\n",
       "      <td>Y</td>\n",
       "      <td>143.0</td>\n",
       "      <td>N</td>\n",
       "      <td>0.0</td>\n",
       "      <td>A</td>\n",
       "      <td>528.0</td>\n",
       "      <td>M_ID_c84d28e906</td>\n",
       "      <td>2.0</td>\n",
       "      <td>-0.700326</td>\n",
       "      <td>2018-04-28 17:43:11</td>\n",
       "      <td>5.0</td>\n",
       "      <td>5.0</td>\n",
       "      <td>25.0</td>\n",
       "    </tr>\n",
       "    <tr>\n",
       "      <th>3</th>\n",
       "      <td>2017-09-01</td>\n",
       "      <td>C_ID_186d6a6901</td>\n",
       "      <td>4.0</td>\n",
       "      <td>3.0</td>\n",
       "      <td>0.0</td>\n",
       "      <td>0.142495</td>\n",
       "      <td>Y</td>\n",
       "      <td>17.0</td>\n",
       "      <td>N</td>\n",
       "      <td>-1.0</td>\n",
       "      <td>NaN</td>\n",
       "      <td>416.0</td>\n",
       "      <td>M_ID_db86b8ff60</td>\n",
       "      <td>2.0</td>\n",
       "      <td>-0.566740</td>\n",
       "      <td>2018-04-14 12:45:54</td>\n",
       "      <td>4.0</td>\n",
       "      <td>22.0</td>\n",
       "      <td>8.0</td>\n",
       "    </tr>\n",
       "    <tr>\n",
       "      <th>4</th>\n",
       "      <td>2017-11-01</td>\n",
       "      <td>C_ID_cdbd2c0db2</td>\n",
       "      <td>1.0</td>\n",
       "      <td>3.0</td>\n",
       "      <td>0.0</td>\n",
       "      <td>-0.159749</td>\n",
       "      <td>Y</td>\n",
       "      <td>302.0</td>\n",
       "      <td>N</td>\n",
       "      <td>1.0</td>\n",
       "      <td>B</td>\n",
       "      <td>652.0</td>\n",
       "      <td>M_ID_065d619231</td>\n",
       "      <td>2.0</td>\n",
       "      <td>0.450886</td>\n",
       "      <td>2018-04-14 11:40:10</td>\n",
       "      <td>3.0</td>\n",
       "      <td>7.0</td>\n",
       "      <td>7.0</td>\n",
       "    </tr>\n",
       "  </tbody>\n",
       "</table>\n",
       "</div>"
      ],
      "text/plain": [
       "  first_active_month          card_id  feature_1  feature_2  feature_3  \\\n",
       "0         2017-06-01  C_ID_92a2005557        5.0        2.0        1.0   \n",
       "1         2017-01-01  C_ID_3d0044924f        4.0        1.0        0.0   \n",
       "2         2016-08-01  C_ID_d639edf6cd        2.0        2.0        0.0   \n",
       "3         2017-09-01  C_ID_186d6a6901        4.0        3.0        0.0   \n",
       "4         2017-11-01  C_ID_cdbd2c0db2        1.0        3.0        0.0   \n",
       "\n",
       "     target authorized_flag  city_id category_1  installments category_3  \\\n",
       "0 -0.820283               Y    276.0          N           0.0          A   \n",
       "1  0.392913               Y     69.0          N           1.0          B   \n",
       "2  0.688056               Y    143.0          N           0.0          A   \n",
       "3  0.142495               Y     17.0          N          -1.0        NaN   \n",
       "4 -0.159749               Y    302.0          N           1.0          B   \n",
       "\n",
       "   merchant_category_id      merchant_id  month_lag  purchase_amount  \\\n",
       "0                 783.0  M_ID_0703c10cc0        1.0        -0.296112   \n",
       "1                 705.0  M_ID_3b3dad217c        2.0        -0.701858   \n",
       "2                 528.0  M_ID_c84d28e906        2.0        -0.700326   \n",
       "3                 416.0  M_ID_db86b8ff60        2.0        -0.566740   \n",
       "4                 652.0  M_ID_065d619231        2.0         0.450886   \n",
       "\n",
       "         purchase_date  category_2  state_id  subsector_id  \n",
       "0  2018-03-12 16:49:03         1.0       9.0          19.0  \n",
       "1  2018-03-30 06:48:26         1.0       9.0          33.0  \n",
       "2  2018-04-28 17:43:11         5.0       5.0          25.0  \n",
       "3  2018-04-14 12:45:54         4.0      22.0           8.0  \n",
       "4  2018-04-14 11:40:10         3.0       7.0           7.0  "
      ]
     },
     "execution_count": 10,
     "metadata": {},
     "output_type": "execute_result"
    }
   ],
   "source": [
    "train_and_new_trans.head()"
   ]
  },
  {
   "cell_type": "markdown",
   "metadata": {
    "colab_type": "text",
    "id": "DCirRXuPra6q"
   },
   "source": [
    "We will replace every ```NaN``` with zero, even if the column isn't numeric, the embedding will treat zeros with the same meaning."
   ]
  },
  {
   "cell_type": "code",
   "execution_count": 11,
   "metadata": {
    "colab": {},
    "colab_type": "code",
    "id": "l1psN-b9ra6s"
   },
   "outputs": [],
   "source": [
    "train_and_new_trans = train_and_new_trans.fillna(value=0)\n",
    "test_and_new_trans = test_and_new_trans.fillna(value=0)"
   ]
  },
  {
   "cell_type": "markdown",
   "metadata": {
    "colab_type": "text",
    "id": "3hINe7iPra6y"
   },
   "source": [
    "We will enumerate only the categorical features and merchant_id which is have too much unqiue valeus."
   ]
  },
  {
   "cell_type": "code",
   "execution_count": 12,
   "metadata": {},
   "outputs": [
    {
     "data": {
      "text/plain": [
       "{'authorized_flag',\n",
       " 'category_1',\n",
       " 'category_2',\n",
       " 'category_3',\n",
       " 'city_id',\n",
       " 'feature_1',\n",
       " 'feature_2',\n",
       " 'feature_3',\n",
       " 'first_active_month',\n",
       " 'installments',\n",
       " 'merchant_category_id',\n",
       " 'month_lag',\n",
       " 'state_id',\n",
       " 'subsector_id'}"
      ]
     },
     "execution_count": 12,
     "metadata": {},
     "output_type": "execute_result"
    }
   ],
   "source": [
    "embd_categories = set(train_and_new_trans.keys()) - {'card_id','target','purchase_date','purchase_amount','merchant_id'}\n",
    "embd_categories"
   ]
  },
  {
   "cell_type": "code",
   "execution_count": 13,
   "metadata": {
    "colab": {},
    "colab_type": "code",
    "id": "5HVcMnt3ra60"
   },
   "outputs": [],
   "source": [
    "numerical_categories = set(train_and_new_trans.keys()) - {'purchase_date','purchase_amount','merchant_id'} \n",
    "enumerate_columns_list = {col:{p:i for (i,p) in enumerate(train_and_new_trans[col].unique())} for col in embd_categories}\n",
    "enumerate_columns_list_for_test = {col:{p:i for (i,p) in enumerate(test_and_new_trans[col].unique())} for col in embd_categories}"
   ]
  },
  {
   "cell_type": "code",
   "execution_count": 14,
   "metadata": {
    "colab": {},
    "colab_type": "code",
    "id": "qyHiNZPTra64"
   },
   "outputs": [
    {
     "name": "stderr",
     "output_type": "stream",
     "text": [
      "/usr/local/lib/python3.6/site-packages/pandas/core/indexing.py:1472: FutureWarning: \n",
      "Passing list-likes to .loc or [] with any missing label will raise\n",
      "KeyError in the future, you can use .reindex() as an alternative.\n",
      "\n",
      "See the documentation here:\n",
      "https://pandas.pydata.org/pandas-docs/stable/indexing.html#deprecate-loc-reindex-listlike\n",
      "  return self._getitem_tuple(key)\n"
     ]
    }
   ],
   "source": [
    "processed_data = train_and_new_trans.loc[:,list(numerical_categories)].copy(deep=True)\n",
    "for column in embd_categories:\n",
    "    processed_data[column] = [enumerate_columns_list[column][x] for x in processed_data[column]]\n",
    "    \n",
    "processed_data_for_test = test_and_new_trans.loc[:,list(numerical_categories)].copy(deep=True)\n",
    "for column in embd_categories:\n",
    "    processed_data_for_test[column] = [enumerate_columns_list_for_test[column][x] for x in processed_data_for_test[column]]"
   ]
  },
  {
   "cell_type": "code",
   "execution_count": 15,
   "metadata": {
    "colab": {
     "base_uri": "https://localhost:8080/",
     "height": 222
    },
    "colab_type": "code",
    "id": "h6sIVjDora7E",
    "outputId": "a0ca2a43-c83b-4262-f88b-5eca0f3341f4"
   },
   "outputs": [
    {
     "data": {
      "text/html": [
       "<div>\n",
       "<style scoped>\n",
       "    .dataframe tbody tr th:only-of-type {\n",
       "        vertical-align: middle;\n",
       "    }\n",
       "\n",
       "    .dataframe tbody tr th {\n",
       "        vertical-align: top;\n",
       "    }\n",
       "\n",
       "    .dataframe thead th {\n",
       "        text-align: right;\n",
       "    }\n",
       "</style>\n",
       "<table border=\"1\" class=\"dataframe\">\n",
       "  <thead>\n",
       "    <tr style=\"text-align: right;\">\n",
       "      <th></th>\n",
       "      <th>city_id</th>\n",
       "      <th>target</th>\n",
       "      <th>state_id</th>\n",
       "      <th>category_1</th>\n",
       "      <th>category_2</th>\n",
       "      <th>feature_2</th>\n",
       "      <th>category_3</th>\n",
       "      <th>feature_1</th>\n",
       "      <th>feature_3</th>\n",
       "      <th>merchant_category_id</th>\n",
       "      <th>month_lag</th>\n",
       "      <th>installments</th>\n",
       "      <th>authorized_flag</th>\n",
       "      <th>card_id</th>\n",
       "      <th>first_active_month</th>\n",
       "      <th>subsector_id</th>\n",
       "    </tr>\n",
       "  </thead>\n",
       "  <tbody>\n",
       "    <tr>\n",
       "      <th>0</th>\n",
       "      <td>0</td>\n",
       "      <td>-0.820283</td>\n",
       "      <td>0</td>\n",
       "      <td>0</td>\n",
       "      <td>0</td>\n",
       "      <td>0</td>\n",
       "      <td>0</td>\n",
       "      <td>0</td>\n",
       "      <td>0</td>\n",
       "      <td>0</td>\n",
       "      <td>0</td>\n",
       "      <td>0</td>\n",
       "      <td>0</td>\n",
       "      <td>C_ID_92a2005557</td>\n",
       "      <td>0</td>\n",
       "      <td>0</td>\n",
       "    </tr>\n",
       "    <tr>\n",
       "      <th>1</th>\n",
       "      <td>1</td>\n",
       "      <td>0.392913</td>\n",
       "      <td>0</td>\n",
       "      <td>0</td>\n",
       "      <td>0</td>\n",
       "      <td>1</td>\n",
       "      <td>1</td>\n",
       "      <td>1</td>\n",
       "      <td>1</td>\n",
       "      <td>1</td>\n",
       "      <td>1</td>\n",
       "      <td>1</td>\n",
       "      <td>0</td>\n",
       "      <td>C_ID_3d0044924f</td>\n",
       "      <td>1</td>\n",
       "      <td>1</td>\n",
       "    </tr>\n",
       "    <tr>\n",
       "      <th>2</th>\n",
       "      <td>2</td>\n",
       "      <td>0.688056</td>\n",
       "      <td>1</td>\n",
       "      <td>0</td>\n",
       "      <td>1</td>\n",
       "      <td>0</td>\n",
       "      <td>0</td>\n",
       "      <td>2</td>\n",
       "      <td>1</td>\n",
       "      <td>2</td>\n",
       "      <td>1</td>\n",
       "      <td>0</td>\n",
       "      <td>0</td>\n",
       "      <td>C_ID_d639edf6cd</td>\n",
       "      <td>2</td>\n",
       "      <td>2</td>\n",
       "    </tr>\n",
       "    <tr>\n",
       "      <th>3</th>\n",
       "      <td>3</td>\n",
       "      <td>0.142495</td>\n",
       "      <td>2</td>\n",
       "      <td>0</td>\n",
       "      <td>2</td>\n",
       "      <td>2</td>\n",
       "      <td>2</td>\n",
       "      <td>1</td>\n",
       "      <td>1</td>\n",
       "      <td>3</td>\n",
       "      <td>1</td>\n",
       "      <td>2</td>\n",
       "      <td>0</td>\n",
       "      <td>C_ID_186d6a6901</td>\n",
       "      <td>3</td>\n",
       "      <td>3</td>\n",
       "    </tr>\n",
       "    <tr>\n",
       "      <th>4</th>\n",
       "      <td>4</td>\n",
       "      <td>-0.159749</td>\n",
       "      <td>3</td>\n",
       "      <td>0</td>\n",
       "      <td>3</td>\n",
       "      <td>2</td>\n",
       "      <td>1</td>\n",
       "      <td>3</td>\n",
       "      <td>1</td>\n",
       "      <td>4</td>\n",
       "      <td>1</td>\n",
       "      <td>1</td>\n",
       "      <td>0</td>\n",
       "      <td>C_ID_cdbd2c0db2</td>\n",
       "      <td>4</td>\n",
       "      <td>4</td>\n",
       "    </tr>\n",
       "  </tbody>\n",
       "</table>\n",
       "</div>"
      ],
      "text/plain": [
       "   city_id    target  state_id  category_1  category_2  feature_2  category_3  \\\n",
       "0        0 -0.820283         0           0           0          0           0   \n",
       "1        1  0.392913         0           0           0          1           1   \n",
       "2        2  0.688056         1           0           1          0           0   \n",
       "3        3  0.142495         2           0           2          2           2   \n",
       "4        4 -0.159749         3           0           3          2           1   \n",
       "\n",
       "   feature_1  feature_3  merchant_category_id  month_lag  installments  \\\n",
       "0          0          0                     0          0             0   \n",
       "1          1          1                     1          1             1   \n",
       "2          2          1                     2          1             0   \n",
       "3          1          1                     3          1             2   \n",
       "4          3          1                     4          1             1   \n",
       "\n",
       "   authorized_flag          card_id  first_active_month  subsector_id  \n",
       "0                0  C_ID_92a2005557                   0             0  \n",
       "1                0  C_ID_3d0044924f                   1             1  \n",
       "2                0  C_ID_d639edf6cd                   2             2  \n",
       "3                0  C_ID_186d6a6901                   3             3  \n",
       "4                0  C_ID_cdbd2c0db2                   4             4  "
      ]
     },
     "execution_count": 15,
     "metadata": {},
     "output_type": "execute_result"
    }
   ],
   "source": [
    "processed_data.head()"
   ]
  },
  {
   "cell_type": "code",
   "execution_count": 47,
   "metadata": {
    "colab": {
     "base_uri": "https://localhost:8080/",
     "height": 222
    },
    "colab_type": "code",
    "id": "f5Oo17f4OJiZ",
    "outputId": "aefbc69c-4bc6-4a19-f410-20395a95017a"
   },
   "outputs": [
    {
     "data": {
      "text/html": [
       "<div>\n",
       "<style scoped>\n",
       "    .dataframe tbody tr th:only-of-type {\n",
       "        vertical-align: middle;\n",
       "    }\n",
       "\n",
       "    .dataframe tbody tr th {\n",
       "        vertical-align: top;\n",
       "    }\n",
       "\n",
       "    .dataframe thead th {\n",
       "        text-align: right;\n",
       "    }\n",
       "</style>\n",
       "<table border=\"1\" class=\"dataframe\">\n",
       "  <thead>\n",
       "    <tr style=\"text-align: right;\">\n",
       "      <th></th>\n",
       "      <th>feature_3</th>\n",
       "      <th>target</th>\n",
       "      <th>feature_2</th>\n",
       "      <th>category_3</th>\n",
       "      <th>feature_1</th>\n",
       "      <th>category_2</th>\n",
       "      <th>first_active_month</th>\n",
       "      <th>merchant_category_id</th>\n",
       "      <th>state_id</th>\n",
       "      <th>authorized_flag</th>\n",
       "      <th>category_1</th>\n",
       "      <th>city_id</th>\n",
       "      <th>month_lag</th>\n",
       "      <th>subsector_id</th>\n",
       "      <th>installments</th>\n",
       "      <th>card_id</th>\n",
       "    </tr>\n",
       "  </thead>\n",
       "  <tbody>\n",
       "    <tr>\n",
       "      <th>0</th>\n",
       "      <td>0</td>\n",
       "      <td>NaN</td>\n",
       "      <td>0</td>\n",
       "      <td>0</td>\n",
       "      <td>0</td>\n",
       "      <td>0</td>\n",
       "      <td>0</td>\n",
       "      <td>0</td>\n",
       "      <td>0</td>\n",
       "      <td>0</td>\n",
       "      <td>0</td>\n",
       "      <td>0</td>\n",
       "      <td>0</td>\n",
       "      <td>0</td>\n",
       "      <td>0</td>\n",
       "      <td>C_ID_0ab67a22ab</td>\n",
       "    </tr>\n",
       "    <tr>\n",
       "      <th>1</th>\n",
       "      <td>1</td>\n",
       "      <td>NaN</td>\n",
       "      <td>0</td>\n",
       "      <td>0</td>\n",
       "      <td>1</td>\n",
       "      <td>1</td>\n",
       "      <td>1</td>\n",
       "      <td>1</td>\n",
       "      <td>1</td>\n",
       "      <td>0</td>\n",
       "      <td>0</td>\n",
       "      <td>1</td>\n",
       "      <td>0</td>\n",
       "      <td>1</td>\n",
       "      <td>0</td>\n",
       "      <td>C_ID_130fd0cbdd</td>\n",
       "    </tr>\n",
       "    <tr>\n",
       "      <th>2</th>\n",
       "      <td>0</td>\n",
       "      <td>NaN</td>\n",
       "      <td>1</td>\n",
       "      <td>0</td>\n",
       "      <td>2</td>\n",
       "      <td>2</td>\n",
       "      <td>2</td>\n",
       "      <td>2</td>\n",
       "      <td>2</td>\n",
       "      <td>0</td>\n",
       "      <td>0</td>\n",
       "      <td>2</td>\n",
       "      <td>1</td>\n",
       "      <td>2</td>\n",
       "      <td>1</td>\n",
       "      <td>C_ID_b709037bc5</td>\n",
       "    </tr>\n",
       "    <tr>\n",
       "      <th>3</th>\n",
       "      <td>1</td>\n",
       "      <td>NaN</td>\n",
       "      <td>1</td>\n",
       "      <td>0</td>\n",
       "      <td>1</td>\n",
       "      <td>3</td>\n",
       "      <td>3</td>\n",
       "      <td>3</td>\n",
       "      <td>3</td>\n",
       "      <td>0</td>\n",
       "      <td>1</td>\n",
       "      <td>3</td>\n",
       "      <td>0</td>\n",
       "      <td>1</td>\n",
       "      <td>2</td>\n",
       "      <td>C_ID_d27d835a9f</td>\n",
       "    </tr>\n",
       "    <tr>\n",
       "      <th>4</th>\n",
       "      <td>0</td>\n",
       "      <td>NaN</td>\n",
       "      <td>1</td>\n",
       "      <td>0</td>\n",
       "      <td>2</td>\n",
       "      <td>1</td>\n",
       "      <td>4</td>\n",
       "      <td>4</td>\n",
       "      <td>1</td>\n",
       "      <td>0</td>\n",
       "      <td>0</td>\n",
       "      <td>4</td>\n",
       "      <td>1</td>\n",
       "      <td>3</td>\n",
       "      <td>3</td>\n",
       "      <td>C_ID_2b5e3df5c2</td>\n",
       "    </tr>\n",
       "  </tbody>\n",
       "</table>\n",
       "</div>"
      ],
      "text/plain": [
       "   feature_3  target  feature_2  category_3  feature_1  category_2  \\\n",
       "0          0     NaN          0           0          0           0   \n",
       "1          1     NaN          0           0          1           1   \n",
       "2          0     NaN          1           0          2           2   \n",
       "3          1     NaN          1           0          1           3   \n",
       "4          0     NaN          1           0          2           1   \n",
       "\n",
       "   first_active_month  merchant_category_id  state_id  authorized_flag  \\\n",
       "0                   0                     0         0                0   \n",
       "1                   1                     1         1                0   \n",
       "2                   2                     2         2                0   \n",
       "3                   3                     3         3                0   \n",
       "4                   4                     4         1                0   \n",
       "\n",
       "   category_1  city_id  month_lag  subsector_id  installments          card_id  \n",
       "0           0        0          0             0             0  C_ID_0ab67a22ab  \n",
       "1           0        1          0             1             0  C_ID_130fd0cbdd  \n",
       "2           0        2          1             2             1  C_ID_b709037bc5  \n",
       "3           1        3          0             1             2  C_ID_d27d835a9f  \n",
       "4           0        4          1             3             3  C_ID_2b5e3df5c2  "
      ]
     },
     "execution_count": 47,
     "metadata": {},
     "output_type": "execute_result"
    }
   ],
   "source": [
    "processed_data_for_test.head()"
   ]
  },
  {
   "cell_type": "markdown",
   "metadata": {
    "colab_type": "text",
    "id": "63AMhJH3ra7S"
   },
   "source": [
    "## D - Predicting the target"
   ]
  },
  {
   "cell_type": "markdown",
   "metadata": {
    "colab_type": "text",
    "id": "N_Ax2uZ3ra7T"
   },
   "source": [
    "Our new embedding vector will be in length of the one-hot vector length $\\times 0.3$ (flor)."
   ]
  },
  {
   "cell_type": "code",
   "execution_count": 17,
   "metadata": {
    "colab": {},
    "colab_type": "code",
    "id": "Oo_Xprkera7T"
   },
   "outputs": [],
   "source": [
    "embeddings = []\n",
    "inputs = []\n",
    "for column in embd_categories:\n",
    "    _input = Input(shape=(1,), dtype='int64')\n",
    "    inputs.append(_input)\n",
    "    unique_len = len(np.unique(processed_data[column].values))\n",
    "    output_dim = int(unique_len * 0.3)\n",
    "    output_dim = 1 if output_dim == 0 else output_dim\n",
    "    embeddings.append(Embedding(unique_len,output_dim,input_length=1, embeddings_regularizer=l2(1e-6), name='emb_'+column)(_input))"
   ]
  },
  {
   "cell_type": "code",
   "execution_count": 19,
   "metadata": {
    "colab": {
     "base_uri": "https://localhost:8080/",
     "height": 1888
    },
    "colab_type": "code",
    "id": "d971bp6fra7W",
    "outputId": "eddd9d99-617c-44b7-c1d1-2cb43e8b447e"
   },
   "outputs": [
    {
     "name": "stdout",
     "output_type": "stream",
     "text": [
      "__________________________________________________________________________________________________\n",
      "Layer (type)                    Output Shape         Param #     Connected to                     \n",
      "==================================================================================================\n",
      "input_2 (InputLayer)            (None, 1)            0                                            \n",
      "__________________________________________________________________________________________________\n",
      "input_3 (InputLayer)            (None, 1)            0                                            \n",
      "__________________________________________________________________________________________________\n",
      "input_4 (InputLayer)            (None, 1)            0                                            \n",
      "__________________________________________________________________________________________________\n",
      "input_5 (InputLayer)            (None, 1)            0                                            \n",
      "__________________________________________________________________________________________________\n",
      "input_6 (InputLayer)            (None, 1)            0                                            \n",
      "__________________________________________________________________________________________________\n",
      "input_7 (InputLayer)            (None, 1)            0                                            \n",
      "__________________________________________________________________________________________________\n",
      "input_8 (InputLayer)            (None, 1)            0                                            \n",
      "__________________________________________________________________________________________________\n",
      "input_9 (InputLayer)            (None, 1)            0                                            \n",
      "__________________________________________________________________________________________________\n",
      "input_10 (InputLayer)           (None, 1)            0                                            \n",
      "__________________________________________________________________________________________________\n",
      "input_11 (InputLayer)           (None, 1)            0                                            \n",
      "__________________________________________________________________________________________________\n",
      "input_12 (InputLayer)           (None, 1)            0                                            \n",
      "__________________________________________________________________________________________________\n",
      "input_13 (InputLayer)           (None, 1)            0                                            \n",
      "__________________________________________________________________________________________________\n",
      "input_14 (InputLayer)           (None, 1)            0                                            \n",
      "__________________________________________________________________________________________________\n",
      "input_15 (InputLayer)           (None, 1)            0                                            \n",
      "__________________________________________________________________________________________________\n",
      "emb_merchant_category_id (Embed (None, 1, 87)        25491       input_2[0][0]                    \n",
      "__________________________________________________________________________________________________\n",
      "emb_city_id (Embedding)         (None, 1, 92)        28336       input_3[0][0]                    \n",
      "__________________________________________________________________________________________________\n",
      "emb_installments (Embedding)    (None, 1, 4)         60          input_4[0][0]                    \n",
      "__________________________________________________________________________________________________\n",
      "emb_month_lag (Embedding)       (None, 1, 1)         3           input_5[0][0]                    \n",
      "__________________________________________________________________________________________________\n",
      "emb_state_id (Embedding)        (None, 1, 7)         182         input_6[0][0]                    \n",
      "__________________________________________________________________________________________________\n",
      "emb_category_1 (Embedding)      (None, 1, 1)         3           input_7[0][0]                    \n",
      "__________________________________________________________________________________________________\n",
      "emb_authorized_flag (Embedding) (None, 1, 1)         2           input_8[0][0]                    \n",
      "__________________________________________________________________________________________________\n",
      "emb_category_2 (Embedding)      (None, 1, 1)         6           input_9[0][0]                    \n",
      "__________________________________________________________________________________________________\n",
      "emb_feature_2 (Embedding)       (None, 1, 1)         4           input_10[0][0]                   \n",
      "__________________________________________________________________________________________________\n",
      "emb_category_3 (Embedding)      (None, 1, 1)         4           input_11[0][0]                   \n",
      "__________________________________________________________________________________________________\n",
      "emb_first_active_month (Embeddi (None, 1, 22)        1672        input_12[0][0]                   \n",
      "__________________________________________________________________________________________________\n",
      "emb_feature_1 (Embedding)       (None, 1, 1)         6           input_13[0][0]                   \n",
      "__________________________________________________________________________________________________\n",
      "emb_feature_3 (Embedding)       (None, 1, 1)         2           input_14[0][0]                   \n",
      "__________________________________________________________________________________________________\n",
      "emb_subsector_id (Embedding)    (None, 1, 12)        492         input_15[0][0]                   \n",
      "__________________________________________________________________________________________________\n",
      "concatenate_2 (Concatenate)     (None, 1, 232)       0           emb_merchant_category_id[0][0]   \n",
      "                                                                 emb_city_id[0][0]                \n",
      "                                                                 emb_installments[0][0]           \n",
      "                                                                 emb_month_lag[0][0]              \n",
      "                                                                 emb_state_id[0][0]               \n",
      "                                                                 emb_category_1[0][0]             \n",
      "                                                                 emb_authorized_flag[0][0]        \n",
      "                                                                 emb_category_2[0][0]             \n",
      "                                                                 emb_feature_2[0][0]              \n",
      "                                                                 emb_category_3[0][0]             \n",
      "                                                                 emb_first_active_month[0][0]     \n",
      "                                                                 emb_feature_1[0][0]              \n",
      "                                                                 emb_feature_3[0][0]              \n",
      "                                                                 emb_subsector_id[0][0]           \n",
      "__________________________________________________________________________________________________\n",
      "flatten_2 (Flatten)             (None, 232)          0           concatenate_2[0][0]              \n",
      "__________________________________________________________________________________________________\n",
      "batch_normalization_2 (BatchNor (None, 232)          928         flatten_2[0][0]                  \n",
      "__________________________________________________________________________________________________\n",
      "dense_2 (Dense)                 (None, 100)          23300       batch_normalization_2[0][0]      \n",
      "__________________________________________________________________________________________________\n",
      "batch_normalization_3 (BatchNor (None, 100)          400         dense_2[0][0]                    \n",
      "__________________________________________________________________________________________________\n",
      "dropout_1 (Dropout)             (None, 100)          0           batch_normalization_3[0][0]      \n",
      "__________________________________________________________________________________________________\n",
      "dense_3 (Dense)                 (None, 10)           1010        dropout_1[0][0]                  \n",
      "__________________________________________________________________________________________________\n",
      "batch_normalization_4 (BatchNor (None, 10)           40          dense_3[0][0]                    \n",
      "__________________________________________________________________________________________________\n",
      "dense_4 (Dense)                 (None, 1)            11          batch_normalization_4[0][0]      \n",
      "==================================================================================================\n",
      "Total params: 81,952\n",
      "Trainable params: 81,268\n",
      "Non-trainable params: 684\n",
      "__________________________________________________________________________________________________\n"
     ]
    }
   ],
   "source": [
    "x = concatenate(embeddings)\n",
    "x = Flatten()(x)\n",
    "x = BatchNormalization()(x)\n",
    "x = Dense(100,activation='linear')(x)\n",
    "x = BatchNormalization()(x)\n",
    "x = Dropout(0.5)(x)\n",
    "x = Dense(10,activation='linear')(x)\n",
    "x = BatchNormalization()(x)\n",
    "x = Dense(1)(x)\n",
    "model = Model(inputs, x)\n",
    "model.compile(loss = 'mse',optimizer='adamax')\n",
    "model.summary()"
   ]
  },
  {
   "cell_type": "code",
   "execution_count": 17,
   "metadata": {},
   "outputs": [
    {
     "data": {
      "text/html": [
       "<div>\n",
       "<style scoped>\n",
       "    .dataframe tbody tr th:only-of-type {\n",
       "        vertical-align: middle;\n",
       "    }\n",
       "\n",
       "    .dataframe tbody tr th {\n",
       "        vertical-align: top;\n",
       "    }\n",
       "\n",
       "    .dataframe thead th {\n",
       "        text-align: right;\n",
       "    }\n",
       "</style>\n",
       "<table border=\"1\" class=\"dataframe\">\n",
       "  <thead>\n",
       "    <tr style=\"text-align: right;\">\n",
       "      <th></th>\n",
       "      <th>first_active_month</th>\n",
       "      <th>card_id</th>\n",
       "      <th>feature_1</th>\n",
       "      <th>feature_2</th>\n",
       "      <th>feature_3</th>\n",
       "      <th>target</th>\n",
       "    </tr>\n",
       "  </thead>\n",
       "  <tbody>\n",
       "    <tr>\n",
       "      <th>0</th>\n",
       "      <td>2017-06-01</td>\n",
       "      <td>C_ID_92a2005557</td>\n",
       "      <td>5</td>\n",
       "      <td>2</td>\n",
       "      <td>1</td>\n",
       "      <td>-0.820283</td>\n",
       "    </tr>\n",
       "    <tr>\n",
       "      <th>1</th>\n",
       "      <td>2017-01-01</td>\n",
       "      <td>C_ID_3d0044924f</td>\n",
       "      <td>4</td>\n",
       "      <td>1</td>\n",
       "      <td>0</td>\n",
       "      <td>0.392913</td>\n",
       "    </tr>\n",
       "    <tr>\n",
       "      <th>2</th>\n",
       "      <td>2016-08-01</td>\n",
       "      <td>C_ID_d639edf6cd</td>\n",
       "      <td>2</td>\n",
       "      <td>2</td>\n",
       "      <td>0</td>\n",
       "      <td>0.688056</td>\n",
       "    </tr>\n",
       "    <tr>\n",
       "      <th>3</th>\n",
       "      <td>2017-09-01</td>\n",
       "      <td>C_ID_186d6a6901</td>\n",
       "      <td>4</td>\n",
       "      <td>3</td>\n",
       "      <td>0</td>\n",
       "      <td>0.142495</td>\n",
       "    </tr>\n",
       "    <tr>\n",
       "      <th>4</th>\n",
       "      <td>2017-11-01</td>\n",
       "      <td>C_ID_cdbd2c0db2</td>\n",
       "      <td>1</td>\n",
       "      <td>3</td>\n",
       "      <td>0</td>\n",
       "      <td>-0.159749</td>\n",
       "    </tr>\n",
       "  </tbody>\n",
       "</table>\n",
       "</div>"
      ],
      "text/plain": [
       "  first_active_month          card_id  feature_1  feature_2  feature_3  \\\n",
       "0         2017-06-01  C_ID_92a2005557          5          2          1   \n",
       "1         2017-01-01  C_ID_3d0044924f          4          1          0   \n",
       "2         2016-08-01  C_ID_d639edf6cd          2          2          0   \n",
       "3         2017-09-01  C_ID_186d6a6901          4          3          0   \n",
       "4         2017-11-01  C_ID_cdbd2c0db2          1          3          0   \n",
       "\n",
       "     target  \n",
       "0 -0.820283  \n",
       "1  0.392913  \n",
       "2  0.688056  \n",
       "3  0.142495  \n",
       "4 -0.159749  "
      ]
     },
     "execution_count": 17,
     "metadata": {},
     "output_type": "execute_result"
    }
   ],
   "source": [
    "train_df.head()"
   ]
  },
  {
   "cell_type": "code",
   "execution_count": 28,
   "metadata": {
    "colab": {},
    "colab_type": "code",
    "id": "g8-zElhivmzr"
   },
   "outputs": [],
   "source": [
    "train = processed_data.drop(['card_id', 'target'], axis=1)\n",
    "target = processed_data['target']\n",
    "x_train, x_val, y_train, y_val = train_test_split(train, target, test_size=0.20, random_state=3)"
   ]
  },
  {
   "cell_type": "code",
   "execution_count": 29,
   "metadata": {
    "colab": {
     "base_uri": "https://localhost:8080/",
     "height": 54
    },
    "colab_type": "code",
    "id": "MNTQ6LM9waEq",
    "outputId": "db1b7013-8b54-40ce-8aa0-fa42be166127"
   },
   "outputs": [
    {
     "name": "stdout",
     "output_type": "stream",
     "text": [
      "x_tarin.shape: (249545, 14),\ty_train.shape(249545,)\n",
      "x_val.shape: (62387, 14),\ty_val.shape: (62387,)\n"
     ]
    }
   ],
   "source": [
    "print('x_tarin.shape: {},\\ty_train.shape{}\\nx_val.shape: {},\\ty_val.shape: {}'.format(x_train.shape, y_train.shape, x_val.shape, y_val.shape))"
   ]
  },
  {
   "cell_type": "code",
   "execution_count": 30,
   "metadata": {
    "colab": {
     "base_uri": "https://localhost:8080/",
     "height": 430
    },
    "colab_type": "code",
    "id": "ngbfyBRSra7m",
    "outputId": "908f570b-3e82-4562-a2ab-cc86373803a2"
   },
   "outputs": [
    {
     "name": "stdout",
     "output_type": "stream",
     "text": [
      "Train on 249545 samples, validate on 62387 samples\n",
      "Epoch 1/30\n",
      "249545/249545 [==============================] - 29s 116us/step - loss: 18.3094 - val_loss: 17.6409\n",
      "Epoch 2/30\n",
      "249545/249545 [==============================] - 27s 107us/step - loss: 18.2286 - val_loss: 17.5799\n",
      "Epoch 3/30\n",
      "249545/249545 [==============================] - 29s 118us/step - loss: 18.2028 - val_loss: 17.5771\n",
      "Epoch 4/30\n",
      "249545/249545 [==============================] - 36s 144us/step - loss: 18.1622 - val_loss: 17.5089\n",
      "Epoch 5/30\n",
      "249545/249545 [==============================] - 32s 127us/step - loss: 18.0999 - val_loss: 17.4541\n",
      "Epoch 6/30\n",
      "249545/249545 [==============================] - 31s 123us/step - loss: 18.0294 - val_loss: 17.3900\n",
      "Epoch 7/30\n",
      "249545/249545 [==============================] - 33s 131us/step - loss: 18.0108 - val_loss: 17.3795\n",
      "Epoch 8/30\n",
      "249545/249545 [==============================] - 39s 156us/step - loss: 17.9498 - val_loss: 17.3049\n",
      "Epoch 9/30\n",
      "249545/249545 [==============================] - 30s 119us/step - loss: 17.8826 - val_loss: 17.2484\n",
      "Epoch 10/30\n",
      "249545/249545 [==============================] - 37s 150us/step - loss: 17.8235 - val_loss: 17.2182\n",
      "Epoch 11/30\n",
      "249545/249545 [==============================] - 33s 133us/step - loss: 17.7846 - val_loss: 17.1483\n",
      "Epoch 12/30\n",
      "249545/249545 [==============================] - 33s 133us/step - loss: 17.7176 - val_loss: 17.0910\n",
      "Epoch 13/30\n",
      "249545/249545 [==============================] - 32s 128us/step - loss: 17.6747 - val_loss: 17.0646\n",
      "Epoch 14/30\n",
      "249545/249545 [==============================] - 32s 128us/step - loss: 17.6351 - val_loss: 16.9984\n",
      "Epoch 15/30\n",
      "249545/249545 [==============================] - 31s 126us/step - loss: 17.5663 - val_loss: 16.9331\n",
      "Epoch 16/30\n",
      "249545/249545 [==============================] - 32s 130us/step - loss: 17.5201 - val_loss: 16.8874\n",
      "Epoch 17/30\n",
      "249545/249545 [==============================] - 32s 129us/step - loss: 17.4602 - val_loss: 16.8321\n",
      "Epoch 18/30\n",
      "249545/249545 [==============================] - 39s 156us/step - loss: 17.4053 - val_loss: 16.7715\n",
      "Epoch 19/30\n",
      "249545/249545 [==============================] - 38s 151us/step - loss: 17.3422 - val_loss: 16.7160\n",
      "Epoch 20/30\n",
      "249545/249545 [==============================] - 28s 113us/step - loss: 17.2860 - val_loss: 16.6579\n",
      "Epoch 21/30\n",
      "249545/249545 [==============================] - 38s 152us/step - loss: 17.2301 - val_loss: 16.5972\n",
      "Epoch 22/30\n",
      "249545/249545 [==============================] - 38s 153us/step - loss: 17.1720 - val_loss: 16.5414\n",
      "Epoch 23/30\n",
      "249545/249545 [==============================] - 34s 136us/step - loss: 17.1744 - val_loss: 16.5485\n",
      "Epoch 24/30\n",
      "249545/249545 [==============================] - 31s 124us/step - loss: 17.1165 - val_loss: 16.4895\n",
      "Epoch 25/30\n",
      "249545/249545 [==============================] - 37s 150us/step - loss: 17.0577 - val_loss: 16.4298\n",
      "Epoch 26/30\n",
      "249545/249545 [==============================] - 35s 139us/step - loss: 17.0004 - val_loss: 16.3729\n",
      "Epoch 27/30\n",
      "249545/249545 [==============================] - 31s 124us/step - loss: 16.9518 - val_loss: 16.3252\n",
      "Epoch 28/30\n",
      "249545/249545 [==============================] - 36s 144us/step - loss: 16.8987 - val_loss: 16.2888\n",
      "Epoch 29/30\n",
      "249545/249545 [==============================] - 33s 133us/step - loss: 16.8591 - val_loss: 16.2318\n",
      "Epoch 30/30\n",
      "249545/249545 [==============================] - 36s 146us/step - loss: 16.9214 - val_loss: 16.3135\n"
     ]
    }
   ],
   "source": [
    "cp = ModelCheckpoint('best_model_weights.h5',save_best_only=True)\n",
    "es = EarlyStopping(patience=5, monitor='val_loss')\n",
    "\n",
    "model_info = model.fit([x_train[key] for key in x_train.keys()], y_train, \n",
    "                       validation_data=[[x_val[key] for key in x_val.keys()], y_val], \n",
    "                       epochs=30,batch_size = 128, callbacks=[cp, es])"
   ]
  },
  {
   "cell_type": "markdown",
   "metadata": {
    "colab_type": "text",
    "id": "5-PS4E6norLj"
   },
   "source": [
    "As we can see, the results are not that good as we expected to be. The reason might be that our task is more suitable for classic machine learning models."
   ]
  },
  {
   "cell_type": "markdown",
   "metadata": {
    "colab_type": "text",
    "id": "5hupHM3TvVLP"
   },
   "source": [
    "## E Add The Rest Of The Features\n",
    "\n",
    "\n",
    "We will add the only feature which is not a categorical from *new_merchant.csv* - ```purchase amount```.\n"
   ]
  },
  {
   "cell_type": "code",
   "execution_count": 45,
   "metadata": {
    "colab": {},
    "colab_type": "code",
    "id": "pcr0qbweorLz"
   },
   "outputs": [],
   "source": [
    "embd_categories = set(train_and_new_trans.keys()) - {'card_id','target','purchase_date','purchase_amount','merchant_id'}\n",
    "numerical_categories_2 = set(train_and_new_trans.keys()) - {'purchase_date','merchant_id'} \n",
    "enumerate_columns_list_2 = {col:{p:i for (i,p) in enumerate(train_and_new_trans[col].unique())} for col in embd_categories}"
   ]
  },
  {
   "cell_type": "code",
   "execution_count": 90,
   "metadata": {},
   "outputs": [
    {
     "data": {
      "text/html": [
       "<div>\n",
       "<style scoped>\n",
       "    .dataframe tbody tr th:only-of-type {\n",
       "        vertical-align: middle;\n",
       "    }\n",
       "\n",
       "    .dataframe tbody tr th {\n",
       "        vertical-align: top;\n",
       "    }\n",
       "\n",
       "    .dataframe thead th {\n",
       "        text-align: right;\n",
       "    }\n",
       "</style>\n",
       "<table border=\"1\" class=\"dataframe\">\n",
       "  <thead>\n",
       "    <tr style=\"text-align: right;\">\n",
       "      <th></th>\n",
       "      <th>city_id</th>\n",
       "      <th>target</th>\n",
       "      <th>state_id</th>\n",
       "      <th>category_1</th>\n",
       "      <th>category_2</th>\n",
       "      <th>feature_2</th>\n",
       "      <th>category_3</th>\n",
       "      <th>purchase_amount</th>\n",
       "      <th>feature_1</th>\n",
       "      <th>feature_3</th>\n",
       "      <th>merchant_category_id</th>\n",
       "      <th>month_lag</th>\n",
       "      <th>installments</th>\n",
       "      <th>authorized_flag</th>\n",
       "      <th>card_id</th>\n",
       "      <th>first_active_month</th>\n",
       "      <th>subsector_id</th>\n",
       "    </tr>\n",
       "  </thead>\n",
       "  <tbody>\n",
       "    <tr>\n",
       "      <th>0</th>\n",
       "      <td>0</td>\n",
       "      <td>-0.820283</td>\n",
       "      <td>0</td>\n",
       "      <td>0</td>\n",
       "      <td>0</td>\n",
       "      <td>0</td>\n",
       "      <td>0</td>\n",
       "      <td>-0.296112</td>\n",
       "      <td>0</td>\n",
       "      <td>0</td>\n",
       "      <td>0</td>\n",
       "      <td>0</td>\n",
       "      <td>0</td>\n",
       "      <td>0</td>\n",
       "      <td>C_ID_92a2005557</td>\n",
       "      <td>0</td>\n",
       "      <td>0</td>\n",
       "    </tr>\n",
       "    <tr>\n",
       "      <th>1</th>\n",
       "      <td>1</td>\n",
       "      <td>0.392913</td>\n",
       "      <td>0</td>\n",
       "      <td>0</td>\n",
       "      <td>0</td>\n",
       "      <td>1</td>\n",
       "      <td>1</td>\n",
       "      <td>-0.701858</td>\n",
       "      <td>1</td>\n",
       "      <td>1</td>\n",
       "      <td>1</td>\n",
       "      <td>1</td>\n",
       "      <td>1</td>\n",
       "      <td>0</td>\n",
       "      <td>C_ID_3d0044924f</td>\n",
       "      <td>1</td>\n",
       "      <td>1</td>\n",
       "    </tr>\n",
       "    <tr>\n",
       "      <th>2</th>\n",
       "      <td>2</td>\n",
       "      <td>0.688056</td>\n",
       "      <td>1</td>\n",
       "      <td>0</td>\n",
       "      <td>1</td>\n",
       "      <td>0</td>\n",
       "      <td>0</td>\n",
       "      <td>-0.700326</td>\n",
       "      <td>2</td>\n",
       "      <td>1</td>\n",
       "      <td>2</td>\n",
       "      <td>1</td>\n",
       "      <td>0</td>\n",
       "      <td>0</td>\n",
       "      <td>C_ID_d639edf6cd</td>\n",
       "      <td>2</td>\n",
       "      <td>2</td>\n",
       "    </tr>\n",
       "    <tr>\n",
       "      <th>3</th>\n",
       "      <td>3</td>\n",
       "      <td>0.142495</td>\n",
       "      <td>2</td>\n",
       "      <td>0</td>\n",
       "      <td>2</td>\n",
       "      <td>2</td>\n",
       "      <td>2</td>\n",
       "      <td>-0.566740</td>\n",
       "      <td>1</td>\n",
       "      <td>1</td>\n",
       "      <td>3</td>\n",
       "      <td>1</td>\n",
       "      <td>2</td>\n",
       "      <td>0</td>\n",
       "      <td>C_ID_186d6a6901</td>\n",
       "      <td>3</td>\n",
       "      <td>3</td>\n",
       "    </tr>\n",
       "    <tr>\n",
       "      <th>4</th>\n",
       "      <td>4</td>\n",
       "      <td>-0.159749</td>\n",
       "      <td>3</td>\n",
       "      <td>0</td>\n",
       "      <td>3</td>\n",
       "      <td>2</td>\n",
       "      <td>1</td>\n",
       "      <td>0.450886</td>\n",
       "      <td>3</td>\n",
       "      <td>1</td>\n",
       "      <td>4</td>\n",
       "      <td>1</td>\n",
       "      <td>1</td>\n",
       "      <td>0</td>\n",
       "      <td>C_ID_cdbd2c0db2</td>\n",
       "      <td>4</td>\n",
       "      <td>4</td>\n",
       "    </tr>\n",
       "  </tbody>\n",
       "</table>\n",
       "</div>"
      ],
      "text/plain": [
       "   city_id    target  state_id  category_1  category_2  feature_2  category_3  \\\n",
       "0        0 -0.820283         0           0           0          0           0   \n",
       "1        1  0.392913         0           0           0          1           1   \n",
       "2        2  0.688056         1           0           1          0           0   \n",
       "3        3  0.142495         2           0           2          2           2   \n",
       "4        4 -0.159749         3           0           3          2           1   \n",
       "\n",
       "   purchase_amount  feature_1  feature_3  merchant_category_id  month_lag  \\\n",
       "0        -0.296112          0          0                     0          0   \n",
       "1        -0.701858          1          1                     1          1   \n",
       "2        -0.700326          2          1                     2          1   \n",
       "3        -0.566740          1          1                     3          1   \n",
       "4         0.450886          3          1                     4          1   \n",
       "\n",
       "   installments  authorized_flag          card_id  first_active_month  \\\n",
       "0             0                0  C_ID_92a2005557                   0   \n",
       "1             1                0  C_ID_3d0044924f                   1   \n",
       "2             0                0  C_ID_d639edf6cd                   2   \n",
       "3             2                0  C_ID_186d6a6901                   3   \n",
       "4             1                0  C_ID_cdbd2c0db2                   4   \n",
       "\n",
       "   subsector_id  \n",
       "0             0  \n",
       "1             1  \n",
       "2             2  \n",
       "3             3  \n",
       "4             4  "
      ]
     },
     "execution_count": 90,
     "metadata": {},
     "output_type": "execute_result"
    }
   ],
   "source": [
    "processed_data_2.head()"
   ]
  },
  {
   "cell_type": "code",
   "execution_count": 91,
   "metadata": {
    "colab": {},
    "colab_type": "code",
    "id": "gpIBO5YQorL1"
   },
   "outputs": [
    {
     "name": "stderr",
     "output_type": "stream",
     "text": [
      "/usr/local/lib/python3.6/site-packages/pandas/core/indexing.py:1472: FutureWarning: \n",
      "Passing list-likes to .loc or [] with any missing label will raise\n",
      "KeyError in the future, you can use .reindex() as an alternative.\n",
      "\n",
      "See the documentation here:\n",
      "https://pandas.pydata.org/pandas-docs/stable/indexing.html#deprecate-loc-reindex-listlike\n",
      "  return self._getitem_tuple(key)\n"
     ]
    }
   ],
   "source": [
    "processed_data_2 = train_and_new_trans.loc[:,list(numerical_categories_2)].copy(deep=True)\n",
    "for column in embd_categories:\n",
    "    processed_data_2[column] = [enumerate_columns_list[column][x] for x in processed_data_2[column]]\n",
    "    \n",
    "processed_test_data_2 = test_and_new_trans.loc[:,list(numerical_categories_2)].copy(deep=True)\n",
    "for column in embd_categories:\n",
    "    processed_test_data_2[column] = [enumerate_columns_list[column].get(x,0) for x in processed_test_data_2[column]]    \n",
    "    "
   ]
  },
  {
   "cell_type": "markdown",
   "metadata": {
    "colab_type": "text",
    "id": "-Pg-dX1sorL3"
   },
   "source": [
    "We will remove the non-categorical features to the last column for simplicity"
   ]
  },
  {
   "cell_type": "code",
   "execution_count": 47,
   "metadata": {},
   "outputs": [
    {
     "data": {
      "text/plain": [
       "Index(['city_id', 'target', 'state_id', 'category_1', 'category_2',\n",
       "       'feature_2', 'category_3', 'purchase_amount', 'feature_1', 'feature_3',\n",
       "       'merchant_category_id', 'month_lag', 'installments', 'authorized_flag',\n",
       "       'card_id', 'first_active_month', 'subsector_id'],\n",
       "      dtype='object')"
      ]
     },
     "execution_count": 47,
     "metadata": {},
     "output_type": "execute_result"
    }
   ],
   "source": [
    "processed_data_2.keys()"
   ]
  },
  {
   "cell_type": "code",
   "execution_count": 92,
   "metadata": {
    "colab": {
     "base_uri": "https://localhost:8080/",
     "height": 222
    },
    "colab_type": "code",
    "id": "84N0VkqiorL4",
    "outputId": "e15aa62b-cdc4-4d43-8dac-8f4c0a5454a8"
   },
   "outputs": [
    {
     "data": {
      "text/html": [
       "<div>\n",
       "<style scoped>\n",
       "    .dataframe tbody tr th:only-of-type {\n",
       "        vertical-align: middle;\n",
       "    }\n",
       "\n",
       "    .dataframe tbody tr th {\n",
       "        vertical-align: top;\n",
       "    }\n",
       "\n",
       "    .dataframe thead th {\n",
       "        text-align: right;\n",
       "    }\n",
       "</style>\n",
       "<table border=\"1\" class=\"dataframe\">\n",
       "  <thead>\n",
       "    <tr style=\"text-align: right;\">\n",
       "      <th></th>\n",
       "      <th>city_id</th>\n",
       "      <th>target</th>\n",
       "      <th>state_id</th>\n",
       "      <th>category_1</th>\n",
       "      <th>category_2</th>\n",
       "      <th>feature_2</th>\n",
       "      <th>category_3</th>\n",
       "      <th>feature_1</th>\n",
       "      <th>feature_3</th>\n",
       "      <th>merchant_category_id</th>\n",
       "      <th>month_lag</th>\n",
       "      <th>installments</th>\n",
       "      <th>authorized_flag</th>\n",
       "      <th>card_id</th>\n",
       "      <th>first_active_month</th>\n",
       "      <th>subsector_id</th>\n",
       "      <th>purchase_amount</th>\n",
       "    </tr>\n",
       "  </thead>\n",
       "  <tbody>\n",
       "    <tr>\n",
       "      <th>0</th>\n",
       "      <td>0</td>\n",
       "      <td>-0.820283</td>\n",
       "      <td>0</td>\n",
       "      <td>0</td>\n",
       "      <td>0</td>\n",
       "      <td>0</td>\n",
       "      <td>0</td>\n",
       "      <td>0</td>\n",
       "      <td>0</td>\n",
       "      <td>0</td>\n",
       "      <td>0</td>\n",
       "      <td>0</td>\n",
       "      <td>0</td>\n",
       "      <td>C_ID_92a2005557</td>\n",
       "      <td>0</td>\n",
       "      <td>0</td>\n",
       "      <td>-0.296112</td>\n",
       "    </tr>\n",
       "    <tr>\n",
       "      <th>1</th>\n",
       "      <td>1</td>\n",
       "      <td>0.392913</td>\n",
       "      <td>0</td>\n",
       "      <td>0</td>\n",
       "      <td>0</td>\n",
       "      <td>1</td>\n",
       "      <td>1</td>\n",
       "      <td>1</td>\n",
       "      <td>1</td>\n",
       "      <td>1</td>\n",
       "      <td>1</td>\n",
       "      <td>1</td>\n",
       "      <td>0</td>\n",
       "      <td>C_ID_3d0044924f</td>\n",
       "      <td>1</td>\n",
       "      <td>1</td>\n",
       "      <td>-0.701858</td>\n",
       "    </tr>\n",
       "    <tr>\n",
       "      <th>2</th>\n",
       "      <td>2</td>\n",
       "      <td>0.688056</td>\n",
       "      <td>1</td>\n",
       "      <td>0</td>\n",
       "      <td>1</td>\n",
       "      <td>0</td>\n",
       "      <td>0</td>\n",
       "      <td>2</td>\n",
       "      <td>1</td>\n",
       "      <td>2</td>\n",
       "      <td>1</td>\n",
       "      <td>0</td>\n",
       "      <td>0</td>\n",
       "      <td>C_ID_d639edf6cd</td>\n",
       "      <td>2</td>\n",
       "      <td>2</td>\n",
       "      <td>-0.700326</td>\n",
       "    </tr>\n",
       "    <tr>\n",
       "      <th>3</th>\n",
       "      <td>3</td>\n",
       "      <td>0.142495</td>\n",
       "      <td>2</td>\n",
       "      <td>0</td>\n",
       "      <td>2</td>\n",
       "      <td>2</td>\n",
       "      <td>2</td>\n",
       "      <td>1</td>\n",
       "      <td>1</td>\n",
       "      <td>3</td>\n",
       "      <td>1</td>\n",
       "      <td>2</td>\n",
       "      <td>0</td>\n",
       "      <td>C_ID_186d6a6901</td>\n",
       "      <td>3</td>\n",
       "      <td>3</td>\n",
       "      <td>-0.566740</td>\n",
       "    </tr>\n",
       "    <tr>\n",
       "      <th>4</th>\n",
       "      <td>4</td>\n",
       "      <td>-0.159749</td>\n",
       "      <td>3</td>\n",
       "      <td>0</td>\n",
       "      <td>3</td>\n",
       "      <td>2</td>\n",
       "      <td>1</td>\n",
       "      <td>3</td>\n",
       "      <td>1</td>\n",
       "      <td>4</td>\n",
       "      <td>1</td>\n",
       "      <td>1</td>\n",
       "      <td>0</td>\n",
       "      <td>C_ID_cdbd2c0db2</td>\n",
       "      <td>4</td>\n",
       "      <td>4</td>\n",
       "      <td>0.450886</td>\n",
       "    </tr>\n",
       "  </tbody>\n",
       "</table>\n",
       "</div>"
      ],
      "text/plain": [
       "   city_id    target  state_id  category_1  category_2  feature_2  category_3  \\\n",
       "0        0 -0.820283         0           0           0          0           0   \n",
       "1        1  0.392913         0           0           0          1           1   \n",
       "2        2  0.688056         1           0           1          0           0   \n",
       "3        3  0.142495         2           0           2          2           2   \n",
       "4        4 -0.159749         3           0           3          2           1   \n",
       "\n",
       "   feature_1  feature_3  merchant_category_id  month_lag  installments  \\\n",
       "0          0          0                     0          0             0   \n",
       "1          1          1                     1          1             1   \n",
       "2          2          1                     2          1             0   \n",
       "3          1          1                     3          1             2   \n",
       "4          3          1                     4          1             1   \n",
       "\n",
       "   authorized_flag          card_id  first_active_month  subsector_id  \\\n",
       "0                0  C_ID_92a2005557                   0             0   \n",
       "1                0  C_ID_3d0044924f                   1             1   \n",
       "2                0  C_ID_d639edf6cd                   2             2   \n",
       "3                0  C_ID_186d6a6901                   3             3   \n",
       "4                0  C_ID_cdbd2c0db2                   4             4   \n",
       "\n",
       "   purchase_amount  \n",
       "0        -0.296112  \n",
       "1        -0.701858  \n",
       "2        -0.700326  \n",
       "3        -0.566740  \n",
       "4         0.450886  "
      ]
     },
     "execution_count": 92,
     "metadata": {},
     "output_type": "execute_result"
    }
   ],
   "source": [
    "col_list = processed_data_2.columns.tolist()\n",
    "col_list = col_list[:7] + col_list[8:] + [col_list[7]] #non-categorical in index=7\n",
    "processed_data_2 = processed_data_2[col_list]\n",
    "processed_test_data_2 = processed_test_data_2[col_list]\n",
    "processed_data_2.head()"
   ]
  },
  {
   "cell_type": "code",
   "execution_count": 93,
   "metadata": {},
   "outputs": [
    {
     "name": "stdout",
     "output_type": "stream",
     "text": [
      "(123623, 17)\n"
     ]
    },
    {
     "data": {
      "text/html": [
       "<div>\n",
       "<style scoped>\n",
       "    .dataframe tbody tr th:only-of-type {\n",
       "        vertical-align: middle;\n",
       "    }\n",
       "\n",
       "    .dataframe tbody tr th {\n",
       "        vertical-align: top;\n",
       "    }\n",
       "\n",
       "    .dataframe thead th {\n",
       "        text-align: right;\n",
       "    }\n",
       "</style>\n",
       "<table border=\"1\" class=\"dataframe\">\n",
       "  <thead>\n",
       "    <tr style=\"text-align: right;\">\n",
       "      <th></th>\n",
       "      <th>city_id</th>\n",
       "      <th>target</th>\n",
       "      <th>state_id</th>\n",
       "      <th>category_1</th>\n",
       "      <th>category_2</th>\n",
       "      <th>feature_2</th>\n",
       "      <th>category_3</th>\n",
       "      <th>feature_1</th>\n",
       "      <th>feature_3</th>\n",
       "      <th>merchant_category_id</th>\n",
       "      <th>month_lag</th>\n",
       "      <th>installments</th>\n",
       "      <th>authorized_flag</th>\n",
       "      <th>card_id</th>\n",
       "      <th>first_active_month</th>\n",
       "      <th>subsector_id</th>\n",
       "      <th>purchase_amount</th>\n",
       "    </tr>\n",
       "  </thead>\n",
       "  <tbody>\n",
       "    <tr>\n",
       "      <th>0</th>\n",
       "      <td>263</td>\n",
       "      <td>NaN</td>\n",
       "      <td>23</td>\n",
       "      <td>0</td>\n",
       "      <td>0</td>\n",
       "      <td>2</td>\n",
       "      <td>3</td>\n",
       "      <td>4</td>\n",
       "      <td>0</td>\n",
       "      <td>123</td>\n",
       "      <td>1</td>\n",
       "      <td>5</td>\n",
       "      <td>0</td>\n",
       "      <td>C_ID_0ab67a22ab</td>\n",
       "      <td>10</td>\n",
       "      <td>18</td>\n",
       "      <td>-0.383266</td>\n",
       "    </tr>\n",
       "    <tr>\n",
       "      <th>1</th>\n",
       "      <td>32</td>\n",
       "      <td>NaN</td>\n",
       "      <td>16</td>\n",
       "      <td>0</td>\n",
       "      <td>2</td>\n",
       "      <td>2</td>\n",
       "      <td>3</td>\n",
       "      <td>2</td>\n",
       "      <td>1</td>\n",
       "      <td>70</td>\n",
       "      <td>1</td>\n",
       "      <td>5</td>\n",
       "      <td>0</td>\n",
       "      <td>C_ID_130fd0cbdd</td>\n",
       "      <td>1</td>\n",
       "      <td>8</td>\n",
       "      <td>-0.506484</td>\n",
       "    </tr>\n",
       "    <tr>\n",
       "      <th>2</th>\n",
       "      <td>41</td>\n",
       "      <td>NaN</td>\n",
       "      <td>4</td>\n",
       "      <td>0</td>\n",
       "      <td>1</td>\n",
       "      <td>1</td>\n",
       "      <td>3</td>\n",
       "      <td>0</td>\n",
       "      <td>0</td>\n",
       "      <td>77</td>\n",
       "      <td>0</td>\n",
       "      <td>8</td>\n",
       "      <td>0</td>\n",
       "      <td>C_ID_b709037bc5</td>\n",
       "      <td>7</td>\n",
       "      <td>20</td>\n",
       "      <td>0.904506</td>\n",
       "    </tr>\n",
       "    <tr>\n",
       "      <th>3</th>\n",
       "      <td>38</td>\n",
       "      <td>NaN</td>\n",
       "      <td>15</td>\n",
       "      <td>2</td>\n",
       "      <td>4</td>\n",
       "      <td>1</td>\n",
       "      <td>3</td>\n",
       "      <td>2</td>\n",
       "      <td>1</td>\n",
       "      <td>23</td>\n",
       "      <td>1</td>\n",
       "      <td>9</td>\n",
       "      <td>0</td>\n",
       "      <td>C_ID_d27d835a9f</td>\n",
       "      <td>26</td>\n",
       "      <td>8</td>\n",
       "      <td>-0.447880</td>\n",
       "    </tr>\n",
       "    <tr>\n",
       "      <th>4</th>\n",
       "      <td>34</td>\n",
       "      <td>NaN</td>\n",
       "      <td>16</td>\n",
       "      <td>0</td>\n",
       "      <td>2</td>\n",
       "      <td>1</td>\n",
       "      <td>3</td>\n",
       "      <td>0</td>\n",
       "      <td>0</td>\n",
       "      <td>61</td>\n",
       "      <td>0</td>\n",
       "      <td>6</td>\n",
       "      <td>0</td>\n",
       "      <td>C_ID_2b5e3df5c2</td>\n",
       "      <td>38</td>\n",
       "      <td>12</td>\n",
       "      <td>14.279604</td>\n",
       "    </tr>\n",
       "  </tbody>\n",
       "</table>\n",
       "</div>"
      ],
      "text/plain": [
       "   city_id  target  state_id  category_1  category_2  feature_2  category_3  \\\n",
       "0      263     NaN        23           0           0          2           3   \n",
       "1       32     NaN        16           0           2          2           3   \n",
       "2       41     NaN         4           0           1          1           3   \n",
       "3       38     NaN        15           2           4          1           3   \n",
       "4       34     NaN        16           0           2          1           3   \n",
       "\n",
       "   feature_1  feature_3  merchant_category_id  month_lag  installments  \\\n",
       "0          4          0                   123          1             5   \n",
       "1          2          1                    70          1             5   \n",
       "2          0          0                    77          0             8   \n",
       "3          2          1                    23          1             9   \n",
       "4          0          0                    61          0             6   \n",
       "\n",
       "   authorized_flag          card_id  first_active_month  subsector_id  \\\n",
       "0                0  C_ID_0ab67a22ab                  10            18   \n",
       "1                0  C_ID_130fd0cbdd                   1             8   \n",
       "2                0  C_ID_b709037bc5                   7            20   \n",
       "3                0  C_ID_d27d835a9f                  26             8   \n",
       "4                0  C_ID_2b5e3df5c2                  38            12   \n",
       "\n",
       "   purchase_amount  \n",
       "0        -0.383266  \n",
       "1        -0.506484  \n",
       "2         0.904506  \n",
       "3        -0.447880  \n",
       "4        14.279604  "
      ]
     },
     "execution_count": 93,
     "metadata": {},
     "output_type": "execute_result"
    }
   ],
   "source": [
    "print(processed_test_data_2.shape)\n",
    "processed_test_data_2.head()"
   ]
  },
  {
   "cell_type": "markdown",
   "metadata": {
    "colab_type": "text",
    "id": "9wCk0eIrorL7"
   },
   "source": [
    "As we can see, we have the same dataset but purchase_amount added as a feature"
   ]
  },
  {
   "cell_type": "code",
   "execution_count": 63,
   "metadata": {
    "colab": {},
    "colab_type": "code",
    "id": "jMa8Bc5UorL9"
   },
   "outputs": [],
   "source": [
    "features = []\n",
    "inputs_2 = []\n",
    "for column in embd_categories:\n",
    "    _input = Input(shape=(1,), dtype='float32')\n",
    "    inputs_2.append(_input)\n",
    "    unique_len = len(enumerate_columns_list[column])\n",
    "    output_dim = min(int(0.3*unique_len),100)\n",
    "    output_dim = 1 if output_dim == 0 else output_dim\n",
    "    features.append(Embedding(unique_len,output_dim,input_length=1, embeddings_regularizer=l2(1e-6), name='emb_'+column)(_input))\n",
    "p_amoount_inp = Input(shape=(1,), dtype='float32')\n",
    "p_amoount_reshape = Reshape((1, 1))(p_amoount_inp)\n",
    "features.append(p_amoount_reshape)\n",
    "inputs_2.append(p_amoount_inp)"
   ]
  },
  {
   "cell_type": "code",
   "execution_count": 66,
   "metadata": {
    "colab": {
     "base_uri": "https://localhost:8080/",
     "height": 1733
    },
    "colab_type": "code",
    "id": "hZxPGA8WorL_",
    "outputId": "31449a60-1fca-4cdb-e658-943112b01f89"
   },
   "outputs": [
    {
     "name": "stdout",
     "output_type": "stream",
     "text": [
      "__________________________________________________________________________________________________\n",
      "Layer (type)                    Output Shape         Param #     Connected to                     \n",
      "==================================================================================================\n",
      "input_106 (InputLayer)          (None, 1)            0                                            \n",
      "__________________________________________________________________________________________________\n",
      "input_107 (InputLayer)          (None, 1)            0                                            \n",
      "__________________________________________________________________________________________________\n",
      "input_108 (InputLayer)          (None, 1)            0                                            \n",
      "__________________________________________________________________________________________________\n",
      "input_109 (InputLayer)          (None, 1)            0                                            \n",
      "__________________________________________________________________________________________________\n",
      "input_110 (InputLayer)          (None, 1)            0                                            \n",
      "__________________________________________________________________________________________________\n",
      "input_111 (InputLayer)          (None, 1)            0                                            \n",
      "__________________________________________________________________________________________________\n",
      "input_112 (InputLayer)          (None, 1)            0                                            \n",
      "__________________________________________________________________________________________________\n",
      "input_113 (InputLayer)          (None, 1)            0                                            \n",
      "__________________________________________________________________________________________________\n",
      "input_114 (InputLayer)          (None, 1)            0                                            \n",
      "__________________________________________________________________________________________________\n",
      "input_115 (InputLayer)          (None, 1)            0                                            \n",
      "__________________________________________________________________________________________________\n",
      "input_116 (InputLayer)          (None, 1)            0                                            \n",
      "__________________________________________________________________________________________________\n",
      "input_117 (InputLayer)          (None, 1)            0                                            \n",
      "__________________________________________________________________________________________________\n",
      "input_118 (InputLayer)          (None, 1)            0                                            \n",
      "__________________________________________________________________________________________________\n",
      "input_119 (InputLayer)          (None, 1)            0                                            \n",
      "__________________________________________________________________________________________________\n",
      "input_120 (InputLayer)          (None, 1)            0                                            \n",
      "__________________________________________________________________________________________________\n",
      "emb_merchant_category_id (Embed (None, 1, 87)        25491       input_106[0][0]                  \n",
      "__________________________________________________________________________________________________\n",
      "emb_city_id (Embedding)         (None, 1, 92)        28336       input_107[0][0]                  \n",
      "__________________________________________________________________________________________________\n",
      "emb_installments (Embedding)    (None, 1, 4)         60          input_108[0][0]                  \n",
      "__________________________________________________________________________________________________\n",
      "emb_month_lag (Embedding)       (None, 1, 1)         3           input_109[0][0]                  \n",
      "__________________________________________________________________________________________________\n",
      "emb_state_id (Embedding)        (None, 1, 7)         182         input_110[0][0]                  \n",
      "__________________________________________________________________________________________________\n",
      "emb_category_1 (Embedding)      (None, 1, 1)         3           input_111[0][0]                  \n",
      "__________________________________________________________________________________________________\n",
      "emb_authorized_flag (Embedding) (None, 1, 1)         2           input_112[0][0]                  \n",
      "__________________________________________________________________________________________________\n",
      "emb_category_2 (Embedding)      (None, 1, 1)         6           input_113[0][0]                  \n",
      "__________________________________________________________________________________________________\n",
      "emb_feature_2 (Embedding)       (None, 1, 1)         4           input_114[0][0]                  \n",
      "__________________________________________________________________________________________________\n",
      "emb_category_3 (Embedding)      (None, 1, 1)         4           input_115[0][0]                  \n",
      "__________________________________________________________________________________________________\n",
      "emb_first_active_month (Embeddi (None, 1, 22)        1672        input_116[0][0]                  \n",
      "__________________________________________________________________________________________________\n",
      "emb_feature_1 (Embedding)       (None, 1, 1)         6           input_117[0][0]                  \n",
      "__________________________________________________________________________________________________\n",
      "emb_feature_3 (Embedding)       (None, 1, 1)         2           input_118[0][0]                  \n",
      "__________________________________________________________________________________________________\n",
      "emb_subsector_id (Embedding)    (None, 1, 12)        492         input_119[0][0]                  \n",
      "__________________________________________________________________________________________________\n",
      "reshape_2 (Reshape)             (None, 1, 1)         0           input_120[0][0]                  \n",
      "__________________________________________________________________________________________________\n",
      "concatenate_12 (Concatenate)    (None, 1, 233)       0           emb_merchant_category_id[0][0]   \n",
      "                                                                 emb_city_id[0][0]                \n",
      "                                                                 emb_installments[0][0]           \n",
      "                                                                 emb_month_lag[0][0]              \n",
      "                                                                 emb_state_id[0][0]               \n",
      "                                                                 emb_category_1[0][0]             \n",
      "                                                                 emb_authorized_flag[0][0]        \n",
      "                                                                 emb_category_2[0][0]             \n",
      "                                                                 emb_feature_2[0][0]              \n",
      "                                                                 emb_category_3[0][0]             \n",
      "                                                                 emb_first_active_month[0][0]     \n",
      "                                                                 emb_feature_1[0][0]              \n",
      "                                                                 emb_feature_3[0][0]              \n",
      "                                                                 emb_subsector_id[0][0]           \n",
      "                                                                 reshape_2[0][0]                  \n",
      "__________________________________________________________________________________________________\n",
      "flatten_7 (Flatten)             (None, 233)          0           concatenate_12[0][0]             \n",
      "__________________________________________________________________________________________________\n",
      "batch_normalization_17 (BatchNo (None, 233)          932         flatten_7[0][0]                  \n",
      "__________________________________________________________________________________________________\n",
      "dense_17 (Dense)                (None, 100)          23400       batch_normalization_17[0][0]     \n",
      "__________________________________________________________________________________________________\n",
      "batch_normalization_18 (BatchNo (None, 100)          400         dense_17[0][0]                   \n",
      "__________________________________________________________________________________________________\n",
      "dropout_6 (Dropout)             (None, 100)          0           batch_normalization_18[0][0]     \n",
      "__________________________________________________________________________________________________\n",
      "dense_18 (Dense)                (None, 10)           1010        dropout_6[0][0]                  \n",
      "__________________________________________________________________________________________________\n",
      "batch_normalization_19 (BatchNo (None, 10)           40          dense_18[0][0]                   \n",
      "__________________________________________________________________________________________________\n",
      "dense_19 (Dense)                (None, 1)            11          batch_normalization_19[0][0]     \n",
      "==================================================================================================\n",
      "Total params: 82,056\n",
      "Trainable params: 81,370\n",
      "Non-trainable params: 686\n",
      "__________________________________________________________________________________________________\n"
     ]
    }
   ],
   "source": [
    "x = concatenate(features)\n",
    "x = Flatten()(x)\n",
    "x = BatchNormalization()(x)\n",
    "x = Dense(100,activation='linear')(x)\n",
    "x = BatchNormalization()(x)\n",
    "x = Dropout(0.5)(x)\n",
    "x = Dense(10,activation='linear')(x)\n",
    "x = BatchNormalization()(x)\n",
    "x = Dense(1)(x)\n",
    "model_2 = Model(inputs_2, x)\n",
    "model_2.compile(loss = 'mse',optimizer='adamax')\n",
    "model_2.summary()"
   ]
  },
  {
   "cell_type": "code",
   "execution_count": 67,
   "metadata": {
    "colab": {},
    "colab_type": "code",
    "id": "IZ0YMfDhorMD"
   },
   "outputs": [],
   "source": [
    "train = processed_data_2.drop(['card_id', 'target'], axis=1)\n",
    "target = processed_data_2['target']\n",
    "\n",
    "x_train, x_val, y_train, y_val = train_test_split(train, target, test_size=0.20, random_state=3)"
   ]
  },
  {
   "cell_type": "code",
   "execution_count": 70,
   "metadata": {
    "colab": {
     "base_uri": "https://localhost:8080/",
     "height": 312
    },
    "colab_type": "code",
    "id": "KPEgl2rZorMF",
    "outputId": "f50b6201-ade2-4eaa-b580-5b0f309e8d4b"
   },
   "outputs": [
    {
     "name": "stdout",
     "output_type": "stream",
     "text": [
      "Train on 249545 samples, validate on 62387 samples\n",
      "Epoch 1/30\n",
      "249545/249545 [==============================] - 8s 31us/step - loss: 10.1232 - val_loss: 9.6804\n",
      "Epoch 2/30\n",
      "249545/249545 [==============================] - 8s 31us/step - loss: 10.3149 - val_loss: 9.6761\n",
      "Epoch 3/30\n",
      "249545/249545 [==============================] - 8s 32us/step - loss: 10.2975 - val_loss: 9.6689\n",
      "Epoch 4/30\n",
      "249545/249545 [==============================] - 8s 32us/step - loss: 10.2768 - val_loss: 9.6602\n",
      "Epoch 5/30\n",
      "249545/249545 [==============================] - 8s 33us/step - loss: 10.2633 - val_loss: 9.6493\n",
      "Epoch 6/30\n",
      "249545/249545 [==============================] - 8s 33us/step - loss: 10.2476 - val_loss: 9.6399\n",
      "Epoch 7/30\n",
      "249545/249545 [==============================] - 8s 33us/step - loss: 10.2369 - val_loss: 9.6335\n",
      "Epoch 8/30\n",
      "249545/249545 [==============================] - 8s 33us/step - loss: 10.2302 - val_loss: 9.6247\n",
      "Epoch 9/30\n",
      "249545/249545 [==============================] - 8s 33us/step - loss: 10.2193 - val_loss: 9.6194\n",
      "Epoch 10/30\n",
      "249545/249545 [==============================] - 8s 33us/step - loss: 10.2062 - val_loss: 9.6116\n",
      "Epoch 11/30\n",
      "249545/249545 [==============================] - 8s 33us/step - loss: 10.1993 - val_loss: 9.5977\n",
      "Epoch 12/30\n",
      "249545/249545 [==============================] - 9s 36us/step - loss: 10.1910 - val_loss: 9.5884\n",
      "Epoch 13/30\n",
      "249545/249545 [==============================] - 9s 38us/step - loss: 10.1793 - val_loss: 9.5891\n",
      "Epoch 14/30\n",
      "249545/249545 [==============================] - 10s 40us/step - loss: 10.1677 - val_loss: 9.5722\n",
      "Epoch 15/30\n",
      "249545/249545 [==============================] - 10s 40us/step - loss: 10.1578 - val_loss: 9.5607\n",
      "Epoch 16/30\n",
      "249545/249545 [==============================] - 10s 40us/step - loss: 10.1453 - val_loss: 9.5510\n",
      "Epoch 17/30\n",
      "249545/249545 [==============================] - 10s 41us/step - loss: 10.1378 - val_loss: 9.5390\n",
      "Epoch 18/30\n",
      "249545/249545 [==============================] - 10s 39us/step - loss: 10.1292 - val_loss: 9.5307\n",
      "Epoch 19/30\n",
      "249545/249545 [==============================] - 10s 39us/step - loss: 10.1189 - val_loss: 9.5270\n",
      "Epoch 20/30\n",
      "249545/249545 [==============================] - 10s 39us/step - loss: 10.1082 - val_loss: 9.5223\n",
      "Epoch 21/30\n",
      "249545/249545 [==============================] - 10s 40us/step - loss: 10.1039 - val_loss: 9.5096\n",
      "Epoch 22/30\n",
      "249545/249545 [==============================] - 10s 41us/step - loss: 10.0974 - val_loss: 9.5023\n",
      "Epoch 23/30\n",
      "249545/249545 [==============================] - 10s 39us/step - loss: 10.0913 - val_loss: 9.4974\n",
      "Epoch 24/30\n",
      "249545/249545 [==============================] - 10s 39us/step - loss: 10.0841 - val_loss: 9.4907\n",
      "Epoch 25/30\n",
      "249545/249545 [==============================] - 10s 39us/step - loss: 10.0780 - val_loss: 9.4858\n",
      "Epoch 26/30\n",
      "249545/249545 [==============================] - 10s 40us/step - loss: 10.0727 - val_loss: 9.4755\n",
      "Epoch 27/30\n",
      "249545/249545 [==============================] - 12s 49us/step - loss: 10.0659 - val_loss: 9.4765\n",
      "Epoch 28/30\n",
      "249545/249545 [==============================] - 10s 40us/step - loss: 10.0581 - val_loss: 9.4624\n",
      "Epoch 29/30\n",
      "249545/249545 [==============================] - 9s 37us/step - loss: 10.0540 - val_loss: 9.4601\n",
      "Epoch 30/30\n",
      "249545/249545 [==============================] - 9s 36us/step - loss: 10.0465 - val_loss: 9.4573\n"
     ]
    }
   ],
   "source": [
    "cp = ModelCheckpoint('best2_model_weights.h5',save_best_only=True)\n",
    "es = EarlyStopping(patience=5, monitor='val_loss')\n",
    "model_2_info = model_2.fit([x_train[f] for f in train.keys()], y_train, \n",
    "                       validation_data=[[x_val[f] for f in train.keys()], y_val], \n",
    "                       epochs=30, batch_size=512, callbacks=[cp, es])"
   ]
  },
  {
   "cell_type": "code",
   "execution_count": 0,
   "metadata": {
    "colab": {},
    "colab_type": "code",
    "id": "M2ZX4ZqS1Vdd"
   },
   "outputs": [],
   "source": [
    "save_model(model_2,'model_2')"
   ]
  },
  {
   "cell_type": "markdown",
   "metadata": {
    "colab_type": "text",
    "id": "k2JWc4TovLC8"
   },
   "source": [
    "## F Interesting Insights About The Embeddings\n",
    "\n",
    "\n",
    "In our competition we do not know what are most of the features. The names of the features are not informative enough that we will be able to guess any intersting dependency between features.<br>\n",
    "In this case (and many other) it is good idea to use embedding representation. The embedding is able to learn new information and include this information inside the new  representation.<br>\n",
    "Another expirment that was nice to try is to represent some of the features by embedding representation that learns by other targets but ```loyalty score```.<br>\n",
    "The connection between other features might be reflected in the embedding and achieves better results.<br>\n",
    "For example, for each ```card_id``` we could take all the ```city_id``` which this card ever bought there and create a new embedding represent by training the embedding with ```purchase_amount``` as a target. Instead of using the ```city_id``` that the given ```card_id``` bought there mostly, we could use the new embedding vector as a feature.<br>\n",
    "Unfortunately, our expirment with the embeddings layers did not produce good results compare to our baise line model. We belive that the nature of the competition didn't match nn-architecture and that's might be the main reason for the poor results. "
   ]
  },
  {
   "cell_type": "markdown",
   "metadata": {
    "colab_type": "text",
    "id": "VqgYvQWNy99F"
   },
   "source": [
    "## G Feature Extractor\n",
    "\n",
    "We will  use the embeddings we got in $3E$ as a “feature extractor” with XGBRegressor model."
   ]
  },
  {
   "cell_type": "code",
   "execution_count": 74,
   "metadata": {
    "colab": {},
    "colab_type": "code",
    "id": "b98YndPQvGD8"
   },
   "outputs": [],
   "source": [
    "fe_model = Model(model_2.inputs, model_2.layers[-1].output)\n",
    "fe_model.load_weights('best2_model_weights.h5')\n",
    "fe_model = Model(model_2.inputs, model_2.layers[-3].output)\n",
    "\n",
    "fe_X_train = fe_model.predict([x_train[f] for f in train.keys()])\n"
   ]
  },
  {
   "cell_type": "code",
   "execution_count": 79,
   "metadata": {
    "colab": {
     "base_uri": "https://localhost:8080/",
     "height": 322
    },
    "colab_type": "code",
    "id": "kwm1llD_8PWZ",
    "outputId": "89a5c8af-8d74-46a6-e094-0717cc19e560"
   },
   "outputs": [
    {
     "data": {
      "text/plain": [
       "XGBRegressor(base_score=0.5, booster='gbtree', colsample_bylevel=1,\n",
       "       colsample_bytree=1, gamma=0, learning_rate=0.1, max_delta_step=0,\n",
       "       max_depth=3, min_child_weight=1, missing=None, n_estimators=100,\n",
       "       n_jobs=1, nthread=None, objective='reg:linear', random_state=0,\n",
       "       reg_alpha=0, reg_lambda=1, scale_pos_weight=1, seed=None,\n",
       "       silent=True, subsample=1)"
      ]
     },
     "execution_count": 79,
     "metadata": {},
     "output_type": "execute_result"
    }
   ],
   "source": [
    "model = xgb.XGBRegressor()\n",
    "model.fit(fe_X_train,y_train)"
   ]
  },
  {
   "cell_type": "markdown",
   "metadata": {},
   "source": [
    "validation results"
   ]
  },
  {
   "cell_type": "code",
   "execution_count": 80,
   "metadata": {},
   "outputs": [],
   "source": [
    "fe_X_val = fe_model.predict([x_val[f] for f in train.keys()])\n",
    "val_predictions = model.predict(fe_X_val)"
   ]
  },
  {
   "cell_type": "code",
   "execution_count": 83,
   "metadata": {},
   "outputs": [],
   "source": [
    "def rmse(y1, y2):\n",
    "    return sqrt(mean_squared_error(y1, y2)) "
   ]
  },
  {
   "cell_type": "code",
   "execution_count": 85,
   "metadata": {},
   "outputs": [
    {
     "name": "stdout",
     "output_type": "stream",
     "text": [
      "rmse 3.009186824928832\n",
      "mse 9.055205347325264\n"
     ]
    }
   ],
   "source": [
    "print(\"rmse {}\".format(rmse(val_predictions,y_val)))\n",
    "print(\"mse {}\".format(mean_squared_error(val_predictions,y_val)))"
   ]
  },
  {
   "cell_type": "markdown",
   "metadata": {},
   "source": [
    "Very good improvment!"
   ]
  },
  {
   "cell_type": "markdown",
   "metadata": {},
   "source": [
    "Now we will check the feature extraction model results on the test"
   ]
  },
  {
   "cell_type": "code",
   "execution_count": 95,
   "metadata": {},
   "outputs": [],
   "source": [
    "fe_X_test = fe_model.predict([processed_test_data_2[f] for f in train.keys()])"
   ]
  },
  {
   "cell_type": "code",
   "execution_count": 96,
   "metadata": {},
   "outputs": [],
   "source": [
    "test_predictions = model.predict(fe_X_test)"
   ]
  },
  {
   "cell_type": "code",
   "execution_count": 109,
   "metadata": {},
   "outputs": [
    {
     "data": {
      "text/plain": [
       "Index(['first_active_month', 'card_id', 'feature_1', 'feature_2', 'feature_3',\n",
       "       'target'],\n",
       "      dtype='object')"
      ]
     },
     "execution_count": 109,
     "metadata": {},
     "output_type": "execute_result"
    }
   ],
   "source": [
    "train_df.keys()"
   ]
  },
  {
   "cell_type": "code",
   "execution_count": 112,
   "metadata": {},
   "outputs": [],
   "source": [
    "pd.DataFrame(np.stack((test_df['card_id'].values, test_predictions)).T, columns=['card_id', 'target']).to_csv('elo_preds.csv', index=False)"
   ]
  },
  {
   "cell_type": "markdown",
   "metadata": {},
   "source": [
    "after submitting in kaggale our results are : 3.9.. "
   ]
  },
  {
   "cell_type": "markdown",
   "metadata": {
    "colab_type": "text",
    "id": "wvL77LivYlxU"
   },
   "source": [
    "## Summary\n",
    "\n",
    "At the beginning of the mission we tried to accumulate as much knowledge as possible about the data. By looking at each file and trying to figure out what each feature is. In addition, we tried to search for information that people who were involved in the subject shared, for example, in the *Kaggel* discussion.<br>\n",
    "\n",
    "In the first step we built a classic ML model that used a relatively small amount of data. And to our surprise the model did a pretty good job, $3.8$ *RMSE* over the competition test set while as for right now ($22$ of December at $23:42$) first place in the competition is with $3.656$ *RMSE*.<br>\n",
    "\n",
    "We then began experimenting with embeddings for categorical features. And there we encountered a problem. How can we aggregate, correctly,  the categorical features? \n",
    "For example, make an average or sum between different records of```city_id``` will yield a meaningless result. So we decided to take one record which has the ```city_id``` where the customer (```card_id```) bought the most.<br>\n",
    "\n",
    "After the end of the pre processing phase we have trained a model that include embedding layers. Unfortunately the results failed compared to the previous model.<br>\n",
    "\n",
    "So we try to make use of categorical features combined with some other features. We saw the this model is better than the one using only categorical features. But not by much $9.2$ *MSE* loss over the validation set compared to $9.6$.<br>\n",
    "\n",
    "So we realized that probably for this problem embedding is not a good enough method for solving the problem. And that the features that are not categorical are more significant.<br>\n",
    "\n",
    "We wanted to try to use the last model as “feature extractor”, but we encountered a lack of time $:($ and bugs $:( \\times \\infty$. But since the embedding itself did not improve the classic model, we expect that the improvement, If any, will not be significant either.<br>\n",
    "\n",
    "In conclusion, we think that embedding is a good way to perceive and represent certain features. And that embedding can capture within them meanings and connections between different variables. But unfortunately for this task we could not applied it.<br>\n",
    "\n",
    "We also wanted to note that we have noticed that there is a small part of the target values which are very different (around $-33$). In our opinion, it will be difficult to train a DL model that can distinguish between such a case. In addition, we noticed that we are measured according to an *RMSE* metric, so if, for example, we predict the average of the target variable for these cases, the *RMSE* value will be very affected by it. Therefore, we recommended (for those who continue in the competition) to delve into these samples and create a model that can identify them and predict a target value which is closer to the $-33$ area, In order to advance in the competition."
   ]
  }
 ],
 "metadata": {
  "accelerator": "GPU",
  "colab": {
   "collapsed_sections": [],
   "name": "part2Kaggle.ipynb",
   "provenance": [],
   "version": "0.3.2"
  },
  "kernelspec": {
   "display_name": "Python 3",
   "language": "python",
   "name": "python3"
  },
  "language_info": {
   "codemirror_mode": {
    "name": "ipython",
    "version": 3
   },
   "file_extension": ".py",
   "mimetype": "text/x-python",
   "name": "python",
   "nbconvert_exporter": "python",
   "pygments_lexer": "ipython3",
   "version": "3.6.7"
  }
 },
 "nbformat": 4,
 "nbformat_minor": 1
}
